{
 "cells": [
  {
   "cell_type": "markdown",
   "metadata": {},
   "source": [
    "# 모형에 입력 변수 선정\n",
    "\n",
    "1- 카이제곱 검정 (Chi-square Test )\n",
    "    \n",
    "    ` 이산형 변수 - 이산형 변수\n",
    "    ` 성별과 구매여부 사이에 유의한 관계가 있는가\n",
    "\n",
    "2- 독립표본t검정 (t-Test) : 이분류 모형의 경우\n",
    "\n",
    "    ` 이산형 변수(2그룹) - 연속형 변수\n",
    "    ` 체중과 구매여부 사이에 유의한 관계가 있는가 \n",
    "      ( 구매자와 비구매자의 평균 체중이 다른가? )\n",
    "\n",
    "3- 분산분석 (ANOVA ) : 다분류 모형의 경우\n",
    "\n",
    "    ` 이산형 변수(3그룹이상 ) - 연속형 변수\n",
    "    ` 체중과 고객등급 사이에 유의한 관계가 있는가?\n",
    "     ( 고객등급에 따라 평균 체중에 크게 다른가? )\n",
    "     \n",
    "     "
   ]
  },
  {
   "cell_type": "markdown",
   "metadata": {},
   "source": [
    "## 카이제곱 검정\n",
    "\n",
    ": 이산형과 이산형 변수가 서로 상관관계가 있는지 확인\n",
    "\n",
    "* 귀무가설 : 두 데이터는 상관관계가 없다\n",
    "* 대립가설 : 두 데이터는 상관관계가 있다 (내가 주장하고 싶은 가설)\n",
    "    - p-value < 0.05 : 귀무가설 기각, 대립가설 채택\n",
    "    - p-value > 0.05 : 귀무가설 채택, 대립가설 기각\n",
    "    \n",
    "    p-value가 0.05보다 작으면 통계적으로 의미가 있어서\n",
    "    내가 주장하고 싶은 가설인 대립가설을 채택한다\n",
    " \n",
    "    \n",
    "\n",
    "* 귀무가설과 대립가설\n",
    "       ex) 우리 대표 메뉴의 소고기 함량이 20g임을 증명하고자 한다면,\n",
    "           \"모든 접시에 소고기 함량이 20g이 아니다\"는 귀무가설에 두고\n",
    "           이에 20g에 미달됨이 없을 입증하여 이 가설을 기각함으로써\n",
    "           내가 입증하고픈 \"우리 대표 메뉴의 소고기 함량은 20g이다\"를 증명한다"
   ]
  },
  {
   "cell_type": "code",
   "execution_count": 2,
   "metadata": {},
   "outputs": [],
   "source": [
    "from scipy import stats\n",
    "\n",
    "data1=[4,6,15,10, 9, 11]   # 관측치\n",
    "data2=[10,10,10,10,10,10]  # 기대치\n",
    "\n",
    "# 두 데이터의 상관관계가 있다"
   ]
  },
  {
   "cell_type": "code",
   "execution_count": 5,
   "metadata": {},
   "outputs": [
    {
     "data": {
      "text/plain": [
       "0.16183361839504742"
      ]
     },
     "execution_count": 5,
     "metadata": {},
     "output_type": "execute_result"
    }
   ],
   "source": [
    "#----------------------------------------\n",
    "ch1 = stats.chisquare(data1,data2)\n",
    "ch1[1]"
   ]
  },
  {
   "cell_type": "code",
   "execution_count": 6,
   "metadata": {},
   "outputs": [
    {
     "data": {
      "text/plain": [
       "0.16183361839504742"
      ]
     },
     "execution_count": 6,
     "metadata": {},
     "output_type": "execute_result"
    }
   ],
   "source": [
    "result,p_value = stats.chisquare(data1,data2)\n",
    "p_value"
   ]
  },
  {
   "cell_type": "markdown",
   "metadata": {},
   "source": [
    "p-value가 0.05보다 작으면 통계적으로 의미가 있어서 내가 주장하고 싶은 가설인 대립가설을 채택한다\n",
    "\n",
    "    - 귀무가설 : 두 데이터 상관관계 없다\n",
    "    - 대립가설 : 두 데이터 상관관계 있다\n",
    "    \n",
    "0,16>0.05 통계적으로 귀무가설을 채택하여 두 데이타는 상관관계가 없다고 통계적으로 의미한다."
   ]
  },
  {
   "cell_type": "code",
   "execution_count": null,
   "metadata": {},
   "outputs": [],
   "source": []
  },
  {
   "cell_type": "code",
   "execution_count": null,
   "metadata": {},
   "outputs": [],
   "source": []
  },
  {
   "cell_type": "code",
   "execution_count": null,
   "metadata": {},
   "outputs": [],
   "source": []
  },
  {
   "cell_type": "markdown",
   "metadata": {},
   "source": [
    "##  t-test\n",
    "\n",
    "전체 학생 중에서 20명의 학생들을 선택하여 전체 학생들의 평균키가 170cm 인지 확인한다.\n",
    "\n",
    "- 귀무가설 : 학생들의 평균키가 175cm이다.\n",
    "- 대립가설 : 학생들의 평균키가 175cm가 아니다\n",
    "    "
   ]
  },
  {
   "cell_type": "code",
   "execution_count": 7,
   "metadata": {},
   "outputs": [
    {
     "name": "stdout",
     "output_type": "stream",
     "text": [
      "[183.1217268183162, 171.94121793174963, 172.35914123868272, 169.63515688921916, 179.32703814662338, 163.49230651559859, 183.7240588210824, 171.19396549552448, 176.5951954802855, 173.75314812261294, 182.31053968522488, 164.69929645251173, 173.38791397993245, 173.07972822665792, 180.6688472116772, 169.50054366342985, 174.13785896224783, 170.61070791039313, 175.21106873357797, 177.9140760685791]\n"
     ]
    }
   ],
   "source": [
    "import numpy as np\n",
    "from scipy import stats\n",
    "\n",
    "\n",
    "np.random.seed(1)  # 랜덤 결과가 동일하게 나오도록\n",
    "\n",
    "# np.random.normal(0,5) : 평균 0, 표준편차 5인 난수\n",
    "# for 에 _ 대신 변수명 아무거나 입력해도 되지만 그 변수를 사용하지 않기에 _로 표시해도 된다\n",
    "heights = [ 175 + np.random.normal(0,5) for _ in range(20)]\n",
    "print(heights)\n"
   ]
  },
  {
   "cell_type": "code",
   "execution_count": 9,
   "metadata": {},
   "outputs": [
    {
     "name": "stdout",
     "output_type": "stream",
     "text": [
      "검정통계량 : -0.529, p_value:0.603\n"
     ]
    }
   ],
   "source": [
    "#----------------------------------------\n",
    "result = stats.ttest_1samp(heights, 175)\n",
    "result\n",
    "print(\"검정통계량 : %.3f, p_value:%.3f\"%result)"
   ]
  },
  {
   "cell_type": "markdown",
   "metadata": {},
   "source": [
    "p_value(0.6) 나왔으니 귀무가설 : 학생들의 평균키가 175cm이다"
   ]
  },
  {
   "cell_type": "markdown",
   "metadata": {},
   "source": [
    "## 독립표본 t-검정\n",
    "\n",
    " : 독립된 2개의 표본이 다르지 확인 : ttest_ind(group1, group2)\n",
    " \n",
    " \n",
    "전체 학생 중에서 각각 20명의 학생들을 선택한 2개의 그룹에서 평균키가 같은지 다른지 확인한다\n",
    "\n",
    "- 귀무가설 : 학생들의 평균키는 같다\n",
    "- 대립가설 : 학생들의 평균키는 같지 않다"
   ]
  },
  {
   "cell_type": "code",
   "execution_count": 12,
   "metadata": {},
   "outputs": [
    {
     "name": "stdout",
     "output_type": "stream",
     "text": [
      "[188.1217268183162, 176.94121793174963, 177.35914123868272, 174.63515688921916, 184.32703814662338, 168.49230651559859, 188.7240588210824, 176.19396549552448, 181.5951954802855, 178.75314812261294, 187.31053968522488, 169.69929645251173, 178.38791397993245, 178.07972822665792, 185.6688472116772, 174.50054366342985, 179.13785896224783, 175.61070791039313, 180.21106873357797, 182.9140760685791]\n",
      "[163.99380822787077, 186.44723709839613, 184.01590720592796, 180.0249433890187, 184.0085594926441, 168.16272140825666, 173.77109774481352, 165.6423056574093, 172.32111920373984, 180.30355466738186, 168.08339248274692, 171.03246473144023, 168.128272998804, 166.5479435850128, 168.28753869163182, 174.873354010811, 163.82689651364723, 177.34415697817093, 191.5980217710987, 182.42044160577336]\n",
      "group1의 평균 : 179.33317681769637\n",
      "group2의 평균 : 174.54168687322976\n",
      "검정통계량 : 2.143, p_value:0.039\n"
     ]
    }
   ],
   "source": [
    "import numpy as np\n",
    "from scipy import stats\n",
    "\n",
    "\n",
    "np.random.seed(1)  # 랜덤 결과가 동일하게 나오도록\n",
    "\n",
    "group1 = [180 + np.random.normal(0,5) for _ in range(20)]  # np.random.normal(0,5) : 평균 0, 표준편차 5인 난수\n",
    "print(group1)\n",
    "group2 = [175 + np.random.normal(0,10) for _ in range(20)]\n",
    "print(group2)\n",
    "\n",
    "# 평균확인 - 평균은 비슷하다 하더라고 통계적으로 차이가 난다고 할 수 없다\n",
    "print('group1의 평균 :', np.mean(group1))\n",
    "print('group2의 평균 :', np.mean(group2))\n",
    "\n",
    "result = stats.ttest_ind(group1,group2)\n",
    "\n",
    "result\n",
    "print(\"검정통계량 : %.3f, p_value:%.3f\"%result)"
   ]
  },
  {
   "cell_type": "markdown",
   "metadata": {},
   "source": [
    "#----------------------------------------\n",
    "p_value(0.039)<0.05 통계적으로 95% 신뢰수준하에\n",
    "두 그룹의 평균키는 같지않다가 유의미하다\n"
   ]
  },
  {
   "cell_type": "markdown",
   "metadata": {},
   "source": [
    "## 대응표본 t검정\n",
    "\n",
    "다이어트 약을 복용한 사람들 중 20명을 선택하여 복용 전후의 체중 차이가 유의미한지 알고 싶다\n",
    "\n",
    "- 귀무가설 : 복용 전후의 체중 차이가 없다\n",
    "- 대립가설 : 복용 전후의 체중 차이가 있다"
   ]
  },
  {
   "cell_type": "code",
   "execution_count": 16,
   "metadata": {},
   "outputs": [
    {
     "name": "stdout",
     "output_type": "stream",
     "text": [
      "[68.1217268183162, 56.94121793174962, 57.359141238682724, 54.63515688921915, 64.3270381466234, 48.492306515598585, 68.7240588210824, 56.19396549552449, 61.59519548028549, 58.75314812261295, 67.31053968522487, 49.69929645251173, 58.38791397993246, 58.07972822665792, 65.66884721167719, 54.500543663429845, 59.13785896224782, 55.61070791039314, 60.21106873357797, 62.914076068579114]\n",
      "[65.94098797171107, 57.67544499710449, 57.819839215935254, 54.63788246116392, 64.84275566541605, 47.34427263203588, 67.86790793112998, 54.58033393455883, 60.64923115285458, 58.78881770728494, 65.70631311881824, 48.80793606499072, 57.001583230054315, 56.517144665313666, 64.13055954741337, 53.94173367626836, 57.224973536332286, 55.315321289307555, 61.60772730564428, 63.218635763189475]\n"
     ]
    }
   ],
   "source": [
    "import numpy as np\n",
    "from scipy import stats\n",
    "\n",
    "np.random.seed(1)\n",
    "\n",
    "# 복용전 : 평균 60, 표준편자 5\n",
    "before = [ 60 + np.random.normal(0,5) for _ in range(20 )]\n",
    "print(before)\n",
    "\n",
    "# 복용후 : 복용전체중 * 0.99, 표준편차 0.02\n",
    "after = [ w * np.random.normal(0.99, 0.02) for w in before]\n",
    "print(after)\n"
   ]
  },
  {
   "cell_type": "code",
   "execution_count": 17,
   "metadata": {},
   "outputs": [
    {
     "name": "stdout",
     "output_type": "stream",
     "text": [
      "검정통계량 : 2.915, p_value:0.009\n"
     ]
    }
   ],
   "source": [
    "#--------------------------------------------------------\n",
    "result = stats.ttest_rel(before,after)\n",
    "print(\"검정통계량 : %.3f, p_value:%.3f\"%result)"
   ]
  },
  {
   "cell_type": "markdown",
   "metadata": {},
   "source": [
    "## ANOVA 분석\n",
    "\n",
    "김부장은 4개의 각기 다른 신입사원 교육훈련 기법의 효과성을 평가하고자 한다.\n",
    "\n",
    "새로 입사한 32명의 신입사원에게 4가지 기법을 임의로 적용시켜 교육을 시켰다.\n",
    "\n",
    "한달간의 훈련기간이 끝난 후 표준 시험을 쳤을 때\n",
    "\n",
    "4개의 교육훈련 기법간 차이가 있는지 알고 싶다\n",
    "\n",
    "\n",
    "- 귀무가설 : 4개의 교육훈련 기법간의 차이가 없다\n",
    "- 대립가설 : 4개의 교육훈련 기법간의 차이가 있다"
   ]
  },
  {
   "cell_type": "code",
   "execution_count": 19,
   "metadata": {},
   "outputs": [],
   "source": [
    "import scipy.stats as stats\n",
    "import urllib\n",
    "import matplotlib.pyplot as plt\n",
    "%matplotlib inline"
   ]
  },
  {
   "cell_type": "code",
   "execution_count": 20,
   "metadata": {},
   "outputs": [
    {
     "name": "stdout",
     "output_type": "stream",
     "text": [
      "a 평균 : 80.375\n",
      "b 평균 : 77.25\n",
      "c 평균 : 64.5\n",
      "d 평균 : 73.125\n"
     ]
    },
    {
     "data": {
      "image/png": "[encoded data removed]",
      "text/plain": [
       "<Figure size 432x288 with 1 Axes>"
      ]
     },
     "metadata": {
      "needs_background": "light"
     },
     "output_type": "display_data"
    }
   ],
   "source": [
    "a = [66, 74, 82, 75, 73, 97, 78, 98]\n",
    "b = [72, 89, 69, 74, 79, 88, 84, 63]\n",
    "c = [61, 62, 63, 64, 65, 66, 67, 68]\n",
    "d = [84, 82, 78, 71, 69, 68, 67, 66]\n",
    "\n",
    "# 평균비교\n",
    "print('a 평균 :', np.mean(a))\n",
    "print('b 평균 :', np.mean(b))\n",
    "print('c 평균 :', np.mean(c))\n",
    "print('d 평균 :', np.mean(d))\n",
    "\n",
    "# 그래프\n",
    "plot_data = [a, b, c, d]\n",
    "ax = plt.boxplot(plot_data)\n",
    "plt.show()"
   ]
  },
  {
   "cell_type": "code",
   "execution_count": 22,
   "metadata": {},
   "outputs": [
    {
     "name": "stdout",
     "output_type": "stream",
     "text": [
      "f - 통계량 : 5.479, p_value:0.004\n"
     ]
    }
   ],
   "source": [
    "#------------------------------------------------------------\n",
    "result = stats.f_oneway(a,b,c,d)\n",
    "print(\"f - 통계량 : %.3f, p_value:%.3f\"%result)"
   ]
  },
  {
   "cell_type": "markdown",
   "metadata": {},
   "source": [
    "95% 신뢰수준하에 p_value가 유의수준(0.05)보다 작게 나와서\n",
    "\n",
    "대립가설인 \"4개의 교육훈련 기법간의 차이가 있다\"가 통계적으로 유의미하다"
   ]
  },
  {
   "cell_type": "code",
   "execution_count": null,
   "metadata": {},
   "outputs": [],
   "source": []
  }
 ],
 "metadata": {
  "kernelspec": {
   "display_name": "Python 3",
   "language": "python",
   "name": "python3"
  },
  "language_info": {
   "codemirror_mode": {
    "name": "ipython",
    "version": 3
   },
   "file_extension": ".py",
   "mimetype": "text/x-python",
   "name": "python",
   "nbconvert_exporter": "python",
   "pygments_lexer": "ipython3",
   "version": "3.7.6"
  }
 },
 "nbformat": 4,
 "nbformat_minor": 2
}
