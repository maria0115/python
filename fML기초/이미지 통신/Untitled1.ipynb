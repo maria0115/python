{
 "cells": [
  {
   "cell_type": "code",
   "execution_count": 20,
   "metadata": {},
   "outputs": [],
   "source": [
    "resultorder=[(2, '대패삼겹살', 'asdasdasd'), (2, '우삼겹', 'asdasdasd'), (6, '소한마리', 'a1001'), (1, '꽃게탕', 'asdasdasd'), (4, '바지락수제비', 'a1001'), (1, '굴순두부', 'a1001'), (2, '해물순두부', 'a1001'), (8, '부리또', 'asdasdasd'), (1, '퀘사디아', 'asdasdasd'), (6, '아귀탕', 'asdasdasd'), (3, '보쌈(보통)', 'asdasdasd')]\n",
    "otherdic = {'rnjsguscjfqkqh': {'냉면': 0, '라면': 1, '떡볶이': 2}, 'asdads123': {'냉모밀': 0, ' 라면': 1, ' 햄버거': 2}, 'mariaa': {'냉모밀': 0, ' 라면': 1, ' 삼겹살': 2}, 'a1007': {'냉모밀': 0, ' 라면': 1, ' 햄버거': 2}, 'a1008': {'냉모밀': 0, ' 라면': 1, ' 치킨': 2}, 'a1009': {'냉모밀': 0, ' 라면': 1, ' 피자': 2}, 'a1010': {'냉모밀': 0, ' 라면': 1, ' 족발': 2}, 'qweqweqwe': {'냉모밀': 0, ' 라면': 1, ' 햄버거': 2}, 'rlawltjq': {'냉면': 0, '라면': 1, '떡볶이': 2}, 'a12345': {'냉모밀': 0, ' 라면': 1, ' 햄버거': 2}, 'qweqwe': {'독도새우': 0}, 'ektmf778': {'안녕': 2}, '1234': {'안녕': 2}, '1111': {'안녕': 2}, '2222': {'안녕': 2}, '3333': {'안녕': 2}, 'a1001': {'강동원': 0}, 'salcho': {'짜장면': 0}, 'asdasdasd': {'짜장면': 0}}\n"
   ]
  },
  {
   "cell_type": "code",
   "execution_count": null,
   "metadata": {},
   "outputs": [],
   "source": [
    "otherdic = {}\n",
    "onedic={}\n",
    "                for m,i in enumerate(hi):\n",
    "                    onedic[i] = m\n",
    "                otherdic[id]=onedic"
   ]
  },
  {
   "cell_type": "code",
   "execution_count": 22,
   "metadata": {},
   "outputs": [
    {
     "name": "stdout",
     "output_type": "stream",
     "text": [
      "{'짜장면': 0, '대패삼겹살': 'hi'}\n",
      "{'짜장면': 0, '대패삼겹살': 'hi', '우삼겹': 'hi'}\n",
      "{'강동원': 0, '소한마리': 'hi'}\n",
      "{'짜장면': 0, '대패삼겹살': 'hi', '우삼겹': 'hi', '꽃게탕': 'hi'}\n",
      "{'강동원': 0, '소한마리': 'hi', '바지락수제비': 'hi'}\n",
      "{'강동원': 0, '소한마리': 'hi', '바지락수제비': 'hi', '굴순두부': 'hi'}\n",
      "{'강동원': 0, '소한마리': 'hi', '바지락수제비': 'hi', '굴순두부': 'hi', '해물순두부': 'hi'}\n",
      "{'짜장면': 0, '대패삼겹살': 'hi', '우삼겹': 'hi', '꽃게탕': 'hi', '부리또': 'hi'}\n",
      "{'짜장면': 0, '대패삼겹살': 'hi', '우삼겹': 'hi', '꽃게탕': 'hi', '부리또': 'hi', '퀘사디아': 'hi'}\n",
      "{'짜장면': 0, '대패삼겹살': 'hi', '우삼겹': 'hi', '꽃게탕': 'hi', '부리또': 'hi', '퀘사디아': 'hi', '아귀탕': 'hi'}\n",
      "{'짜장면': 0, '대패삼겹살': 'hi', '우삼겹': 'hi', '꽃게탕': 'hi', '부리또': 'hi', '퀘사디아': 'hi', '아귀탕': 'hi', '보쌈(보통)': 'hi'}\n"
     ]
    }
   ],
   "source": [
    "temp={}\n",
    "for i in resultorder:\n",
    "    otherdic[i[2]][i[1]]=\n",
    "    print(otherdic[i[2]])\n"
   ]
  },
  {
   "cell_type": "code",
   "execution_count": null,
   "metadata": {},
   "outputs": [],
   "source": []
  },
  {
   "cell_type": "code",
   "execution_count": null,
   "metadata": {},
   "outputs": [],
   "source": []
  },
  {
   "cell_type": "code",
   "execution_count": null,
   "metadata": {},
   "outputs": [],
   "source": []
  },
  {
   "cell_type": "code",
   "execution_count": null,
   "metadata": {},
   "outputs": [],
   "source": []
  },
  {
   "cell_type": "code",
   "execution_count": null,
   "metadata": {},
   "outputs": [],
   "source": []
  },
  {
   "cell_type": "code",
   "execution_count": null,
   "metadata": {},
   "outputs": [],
   "source": []
  },
  {
   "cell_type": "code",
   "execution_count": null,
   "metadata": {},
   "outputs": [],
   "source": []
  }
 ],
 "metadata": {
  "kernelspec": {
   "display_name": "Python 3",
   "language": "python",
   "name": "python3"
  },
  "language_info": {
   "codemirror_mode": {
    "name": "ipython",
    "version": 3
   },
   "file_extension": ".py",
   "mimetype": "text/x-python",
   "name": "python",
   "nbconvert_exporter": "python",
   "pygments_lexer": "ipython3",
   "version": "3.7.6"
  }
 },
 "nbformat": 4,
 "nbformat_minor": 4
}
