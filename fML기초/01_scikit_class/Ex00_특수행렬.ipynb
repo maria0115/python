{
 "cells": [
  {
   "cell_type": "markdown",
   "metadata": {},
   "source": [
    " # numpy에서 특수행렬을 만드는 함수\n",
    "\n",
    " [ 확인 ] python console 에서 간단하게 확인"
   ]
  },
  {
   "cell_type": "code",
   "execution_count": 1,
   "metadata": {},
   "outputs": [
    {
     "data": {
      "text/plain": [
       "array([[1., 1., 1., 1., 1.],\n",
       "       [1., 1., 1., 1., 1.],\n",
       "       [1., 1., 1., 1., 1.],\n",
       "       [1., 1., 1., 1., 1.],\n",
       "       [1., 1., 1., 1., 1.]])"
      ]
     },
     "execution_count": 1,
     "metadata": {},
     "output_type": "execute_result"
    }
   ],
   "source": [
    " import numpy as np\n",
    " np.ones(10)\n",
    " np.zeros(5)\n",
    " np.ones((5,5))"
   ]
  },
  {
   "cell_type": "markdown",
   "metadata": {},
   "source": [
    "  (1) eye(N, M, k, dtype) : 대각선이 1인 대각행렬(항등행렬)\n",
    "\t\tN:행의 수, M:열의 수,  k:대각의 위치(기본 0)"
   ]
  },
  {
   "cell_type": "code",
   "execution_count": 2,
   "metadata": {},
   "outputs": [
    {
     "data": {
      "text/plain": [
       "array([[0, 0, 0],\n",
       "       [1, 0, 0],\n",
       "       [0, 1, 0],\n",
       "       [0, 0, 1]])"
      ]
     },
     "execution_count": 2,
     "metadata": {},
     "output_type": "execute_result"
    }
   ],
   "source": [
    "np.eye(4, dtype=int)\n",
    "np.eye(4, dtype=int, k=0)\n",
    "np.eye(4, dtype=int, k=1)\n",
    "np.eye(4, dtype=int, k=2)\n",
    "np.eye(4, 3, dtype=int, k=-1)"
   ]
  },
  {
   "cell_type": "markdown",
   "metadata": {},
   "source": [
    "  (2) diag(v, k) \n",
    "\t- 정방행렬에서 대각 요소가 추출하여 벡터를 만듬\n",
    "\t- 반대로 벡터요소를 대각 요소로 하는 정방행렬을 만듬\n",
    "    - v:배열, k=대각의 위치(기본 0)\t \n",
    "\t  \n",
    "\t (*) 정방행렬 : 행과 열의 수가 동일한 행렬"
   ]
  },
  {
   "cell_type": "code",
   "execution_count": 3,
   "metadata": {},
   "outputs": [
    {
     "data": {
      "text/plain": [
       "array([[0, 0, 0],\n",
       "       [0, 4, 0],\n",
       "       [0, 0, 8]])"
      ]
     },
     "execution_count": 3,
     "metadata": {},
     "output_type": "execute_result"
    }
   ],
   "source": [
    "x=np.eye(5,dtype=int)\n",
    "v=np.diag(x)\n",
    "v # 1로만 가지고 있는 벡터\n",
    "\n",
    "x=np.arange(9).reshape(3,3)\n",
    "x\n",
    "np.diag(x)\n",
    "np.diag(x, k=1)\n",
    "np.diag(x, k=-1)\n",
    "\n",
    "np.diag(np.diag(x)) # 벡터요소를 대각요소로 하는 정방행렬 만듬"
   ]
  },
  {
   "cell_type": "markdown",
   "metadata": {},
   "source": [
    "# scipy 라이브러리의 sparse 모듈\n",
    "   - scikit-learn 알고리즘을 구현 할 때 많이 사용하는 모듈 \n",
    "   - 희소행렬 (sparse matrix) "
   ]
  },
  {
   "cell_type": "code",
   "execution_count": 4,
   "metadata": {},
   "outputs": [
    {
     "name": "stdout",
     "output_type": "stream",
     "text": [
      "배열: \n",
      "[[1 0 0 0]\n",
      " [0 1 0 0]\n",
      " [0 0 1 0]\n",
      " [0 0 0 1]]\n",
      "CSR 핼렬: \n",
      "  (0, 0)\t1\n",
      "  (1, 1)\t1\n",
      "  (2, 2)\t1\n",
      "  (3, 3)\t1\n",
      "[[0 0 0 0 0]\n",
      " [1 0 0 0 0]\n",
      " [0 1 0 0 0]\n",
      " [0 0 1 0 0]\n",
      " [0 0 0 1 0]]\n",
      "CSR 핼렬: \n",
      "  (1, 0)\t1\n",
      "  (2, 1)\t1\n",
      "  (3, 2)\t1\n",
      "  (4, 3)\t1\n",
      "[[ 0  1  2  3]\n",
      " [ 4  5  6  7]\n",
      " [ 8  9 10 11]\n",
      " [12 13 14 15]]\n",
      "[ 0  5 10 15]\n",
      "\n",
      "[[ 0  0  0  0]\n",
      " [ 0  5  0  0]\n",
      " [ 0  0 10  0]\n",
      " [ 0  0  0 15]]\n",
      "CSR 핼렬: \n",
      "  (1, 1)\t5\n",
      "  (2, 2)\t10\n",
      "  (3, 3)\t15\n",
      "[1. 1. 1. 1.]\n",
      "희소행렬\n",
      "  (0, 0)\t1.0\n",
      "  (0, 1)\t1.0\n",
      "  (0, 2)\t1.0\n",
      "  (0, 3)\t1.0\n"
     ]
    }
   ],
   "source": [
    "import numpy as np\n",
    "from scipy import sparse\n",
    "\n",
    "# (1) 4행 4열의 정방행렬을 만들고 그 중 0인 아닌 원소만 추출\n",
    "b = np.eye(4, dtype=int)\n",
    "print('배열: \\n{}'.format(b))\n",
    "\n",
    "# sparse.csr_matrix() : 0이 아닌 원소의 인덱스를 저장\n",
    "sparse_matrix = sparse.csr_matrix(b)\n",
    "print('CSR 핼렬: \\n{}'.format(sparse_matrix))\n",
    "\n",
    "# (2) 5행 5열의 왼쪽한칸 내려온 대각행렬을 만들고 0이 아닌 요소 추출\n",
    "b2 = np.eye(5, k=-1, dtype=int)\n",
    "print(b2)\n",
    "sparse_matrix2 = sparse.csr_matrix(b2)\n",
    "print('CSR 핼렬: \\n{}'.format(sparse_matrix2))\n",
    "\n",
    "# (3) 0부터 15까지의 4행 4열 행렬에서 대각요소만 추출\n",
    "# b3= np.arange(16)+1\n",
    "# b3 = b3.reshape(4,4)\n",
    "b3 = np.arange(16).reshape(4,4)\n",
    "print(b3)\n",
    "x= np.diag(b3)\n",
    "print(x)\n",
    "y = np.diag(x)\n",
    "print('\\n{}'.format(y))\n",
    "sparse_matrix3 = sparse.csr_matrix(y)\n",
    "print('CSR 핼렬: \\n{}'.format(sparse_matrix3))\n",
    "\n",
    "# (4) COO 포맷 (Coordinate 포맷) : 희소행렬을 직접 만들 때\n",
    "# 데이타가 엄청 많은 경우 메모리 공간을 많이 차지하지 않으면서 희소행렬 만들 수 있다\n",
    "data = np.ones(4)\n",
    "print(data)\n",
    "\n",
    "row_indexes=np.arange(4)\n",
    "col_indexes=np.arange(4)\n",
    "eye_coo=sparse.coo_matrix(data, (row_indexes,col_indexes))\n",
    "print('희소행렬\\n{}'.format(eye_coo))\n",
    "\n"
   ]
  },
  {
   "cell_type": "code",
   "execution_count": null,
   "metadata": {},
   "outputs": [],
   "source": []
  }
 ],
 "metadata": {
  "kernelspec": {
   "display_name": "Python 3",
   "language": "python",
   "name": "python3"
  },
  "language_info": {
   "codemirror_mode": {
    "name": "ipython",
    "version": 3
   },
   "file_extension": ".py",
   "mimetype": "text/x-python",
   "name": "python",
   "nbconvert_exporter": "python",
   "pygments_lexer": "ipython3",
   "version": "3.7.3"
  }
 },
 "nbformat": 4,
 "nbformat_minor": 2
}
