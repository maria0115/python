{
 "cells": [
  {
   "cell_type": "markdown",
   "metadata": {},
   "source": [
    "###  1. 기상청 데이타 준비\n",
    "\n",
    "\n",
    "+ https://data.kma.go.kr  >  데이터 > 기상관측 > 지상 >  종관기상관측(ASOS)\n",
    "\n",
    "    - 자료형태 : 일 자료\n",
    "    - 날짜 : 10년 데이타 : 2010 01 01 ~ 2019 12 31\n",
    "    - 지점 : 서울\n",
    "    - 기온 : 평균 기온\n",
    "    \n",
    "    \n",
    "+ weather 폴더 안에 'raw.csv' 파일로 저장    "
   ]
  },
  {
   "cell_type": "markdown",
   "metadata": {},
   "source": [
    "### 2. 데이타 정리\n",
    "\n",
    "+ raw.csv 파일을 읽어서 아래와 같이 가공하여 data.csv 파일로 저장\n",
    "\n",
    "\n",
    "        연,월,일,기온,품질,균질\n",
    "        2006,1,1,3.6,8,1\n",
    "        2006,1,2,4,8,1\n",
    "        2006,1,3,3.7,8,1\n",
    "        2006,1,4,4,8,1\n",
    "        2006,1,5,3.6,8,1\n",
    "        2006,1,6,2.1,8,1\n",
    "        ....\n",
    "       \n",
    "        [주의] \n",
    "        기존에 생성된 csv 파일이 EUC-KR인 경우가 많기에 문자셋 지정한다.\n",
    "        그러나 저장하는 data.csv 파일은 UTF-8로 문자셋을 지정하여 저장한다."
   ]
  },
  {
   "cell_type": "code",
   "execution_count": 22,
   "metadata": {},
   "outputs": [
    {
     "name": "stdout",
     "output_type": "stream",
     "text": [
      "saved\n"
     ]
    }
   ],
   "source": [
    "in_file = \"../data/weather/raw.csv\"\n",
    "out_file = \"../data/weather/data.csv\"\n",
    "\n",
    "with open(in_file,'r') as fr:\n",
    "    lines = fr.readlines()\n",
    "lines[:10]\n",
    "\n",
    "#기존의 데이터를 분리\n",
    "lines=['연,월,일,기온,품질,균질\\n']+lines[5:]\n",
    "lines[:10]\n",
    "\n",
    "lines = map(lambda v:v.replace('/',','),lines)\n",
    "lines\n",
    "\n",
    "# join 함수로 map-> list 변환\n",
    "# strip() : 양쪽 공백제거\n",
    "result = \"\".join(lines).strip()\n",
    "result\n",
    "\n",
    "# 파일 저장\n",
    "with open(out_file,'w', encoding='utf-8') as fw :\n",
    "    fw.write(result)\n",
    "    print('saved')"
   ]
  },
  {
   "cell_type": "code",
   "execution_count": null,
   "metadata": {},
   "outputs": [],
   "source": [
    "\n"
   ]
  },
  {
   "cell_type": "markdown",
   "metadata": {},
   "source": [
    "### 3.  학습 데이타와 테스트 데이타 만들기 (배포)\n",
    "\n",
    "+ 예를 들어 2010년부터 2019년 데이타까지 있다면\n",
    "\n",
    "        2010년~2018년 데이타는 학습데이타로\n",
    "        2019년 데이타는 테스트데이타로 \n",
    "\n",
    "\n",
    "\n",
    "+ 과거 6일의 데이터를 기반으로 학습할 데이터 만들기\n",
    "\n",
    "        예를 들어 현재 7일이라면 앞에 1일부터 6일까지는 학습데이타(X)가 되고 7일 데이타는 라벨(Y)가 된다."
   ]
  },
  {
   "cell_type": "code",
   "execution_count": 24,
   "metadata": {
    "scrolled": true
   },
   "outputs": [
    {
     "data": {
      "text/html": [
       "<div>\n",
       "<style scoped>\n",
       "    .dataframe tbody tr th:only-of-type {\n",
       "        vertical-align: middle;\n",
       "    }\n",
       "\n",
       "    .dataframe tbody tr th {\n",
       "        vertical-align: top;\n",
       "    }\n",
       "\n",
       "    .dataframe thead th {\n",
       "        text-align: right;\n",
       "    }\n",
       "</style>\n",
       "<table border=\"1\" class=\"dataframe\">\n",
       "  <thead>\n",
       "    <tr style=\"text-align: right;\">\n",
       "      <th></th>\n",
       "      <th>연</th>\n",
       "      <th>월</th>\n",
       "      <th>일</th>\n",
       "      <th>기온</th>\n",
       "      <th>품질</th>\n",
       "      <th>균질</th>\n",
       "    </tr>\n",
       "  </thead>\n",
       "  <tbody>\n",
       "    <tr>\n",
       "      <th>0</th>\n",
       "      <td>2006</td>\n",
       "      <td>1</td>\n",
       "      <td>1</td>\n",
       "      <td>3.6</td>\n",
       "      <td>8</td>\n",
       "      <td>1</td>\n",
       "    </tr>\n",
       "    <tr>\n",
       "      <th>1</th>\n",
       "      <td>2006</td>\n",
       "      <td>1</td>\n",
       "      <td>2</td>\n",
       "      <td>4.0</td>\n",
       "      <td>8</td>\n",
       "      <td>1</td>\n",
       "    </tr>\n",
       "    <tr>\n",
       "      <th>2</th>\n",
       "      <td>2006</td>\n",
       "      <td>1</td>\n",
       "      <td>3</td>\n",
       "      <td>3.7</td>\n",
       "      <td>8</td>\n",
       "      <td>1</td>\n",
       "    </tr>\n",
       "    <tr>\n",
       "      <th>3</th>\n",
       "      <td>2006</td>\n",
       "      <td>1</td>\n",
       "      <td>4</td>\n",
       "      <td>4.0</td>\n",
       "      <td>8</td>\n",
       "      <td>1</td>\n",
       "    </tr>\n",
       "    <tr>\n",
       "      <th>4</th>\n",
       "      <td>2006</td>\n",
       "      <td>1</td>\n",
       "      <td>5</td>\n",
       "      <td>3.6</td>\n",
       "      <td>8</td>\n",
       "      <td>1</td>\n",
       "    </tr>\n",
       "    <tr>\n",
       "      <th>...</th>\n",
       "      <td>...</td>\n",
       "      <td>...</td>\n",
       "      <td>...</td>\n",
       "      <td>...</td>\n",
       "      <td>...</td>\n",
       "      <td>...</td>\n",
       "    </tr>\n",
       "    <tr>\n",
       "      <th>4013</th>\n",
       "      <td>2016</td>\n",
       "      <td>12</td>\n",
       "      <td>27</td>\n",
       "      <td>11.1</td>\n",
       "      <td>8</td>\n",
       "      <td>2</td>\n",
       "    </tr>\n",
       "    <tr>\n",
       "      <th>4014</th>\n",
       "      <td>2016</td>\n",
       "      <td>12</td>\n",
       "      <td>28</td>\n",
       "      <td>6.0</td>\n",
       "      <td>8</td>\n",
       "      <td>2</td>\n",
       "    </tr>\n",
       "    <tr>\n",
       "      <th>4015</th>\n",
       "      <td>2016</td>\n",
       "      <td>12</td>\n",
       "      <td>29</td>\n",
       "      <td>4.3</td>\n",
       "      <td>8</td>\n",
       "      <td>2</td>\n",
       "    </tr>\n",
       "    <tr>\n",
       "      <th>4016</th>\n",
       "      <td>2016</td>\n",
       "      <td>12</td>\n",
       "      <td>30</td>\n",
       "      <td>6.0</td>\n",
       "      <td>8</td>\n",
       "      <td>2</td>\n",
       "    </tr>\n",
       "    <tr>\n",
       "      <th>4017</th>\n",
       "      <td>2016</td>\n",
       "      <td>12</td>\n",
       "      <td>31</td>\n",
       "      <td>6.3</td>\n",
       "      <td>8</td>\n",
       "      <td>2</td>\n",
       "    </tr>\n",
       "  </tbody>\n",
       "</table>\n",
       "<p>4018 rows × 6 columns</p>\n",
       "</div>"
      ],
      "text/plain": [
       "         연   월   일    기온  품질  균질\n",
       "0     2006   1   1   3.6   8   1\n",
       "1     2006   1   2   4.0   8   1\n",
       "2     2006   1   3   3.7   8   1\n",
       "3     2006   1   4   4.0   8   1\n",
       "4     2006   1   5   3.6   8   1\n",
       "...    ...  ..  ..   ...  ..  ..\n",
       "4013  2016  12  27  11.1   8   2\n",
       "4014  2016  12  28   6.0   8   2\n",
       "4015  2016  12  29   4.3   8   2\n",
       "4016  2016  12  30   6.0   8   2\n",
       "4017  2016  12  31   6.3   8   2\n",
       "\n",
       "[4018 rows x 6 columns]"
      ]
     },
     "execution_count": 24,
     "metadata": {},
     "output_type": "execute_result"
    }
   ],
   "source": [
    "from sklearn.linear_model import LinearRegression\n",
    "import pandas as pd\n",
    "import numpy as np\n",
    "import matplotlib.pyplot as plt\n",
    "\n",
    "# 기온 데이터 읽어 들이기\n",
    "df = pd.read_csv('../data/weather/data.csv', encoding=\"utf-8\")\n",
    "df.head()\n",
    "\n",
    "# 데이터를 학습 전용과 테스트 전용으로 분리하기\n",
    "train_year = (df[\"연\"] <= 2015)\n",
    "test_year = (df[\"연\"] >= 2016)\n",
    "interval = 6\n",
    "\n",
    "# 과거 6일의 데이터를 기반으로 학습할 데이터 만들기 \n",
    "def make_data(data):\n",
    "    x = [] # 학습 데이터\n",
    "    y = [] # 결과\n",
    "    temps = list(data[\"기온\"])\n",
    "\n",
    "    # 어렵게 구현했네\n",
    "    for i in range(len(temps)):\n",
    "        if i < interval:  continue\n",
    "        y.append(temps[i])\n",
    "        xa = []\n",
    "        for p in range(interval):\n",
    "            d = i + p - interval\n",
    "            xa.append(temps[d])\n",
    "        x.append(xa)\n",
    "    return (x, y)\n",
    "\n",
    "train_x, train_y = make_data(df[train_year])\n",
    "test_x, test_y = make_data(df[test_year])\n",
    "df"
   ]
  },
  {
   "cell_type": "markdown",
   "metadata": {},
   "source": [
    "### 4. 선형 회귀 분석하기 ( LinearRegression )을 이용하여 예측하기\n",
    "\n",
    "학습 후 예측값 (pre_y) 지정"
   ]
  },
  {
   "cell_type": "code",
   "execution_count": 26,
   "metadata": {},
   "outputs": [],
   "source": [
    "lr = LinearRegression()\n",
    "\n",
    "\n",
    "lr.fit(train_x, train_y)\n",
    "pre_y =lr.predict(test_x)\n",
    "\n",
    "# train_x : 학습데이타, train_y : 학습답\n",
    "# test_x : 테스트 데이타, test_y: 테스트답\n",
    "# pre_y : 선형회귀 분석값 예측값\n",
    "\n"
   ]
  },
  {
   "cell_type": "code",
   "execution_count": 27,
   "metadata": {},
   "outputs": [
    {
     "name": "stdout",
     "output_type": "stream",
     "text": [
      "훈련 세트점수 : 0.94\n",
      "테스트 세트점수 : 0.92\n"
     ]
    }
   ],
   "source": [
    "# [참고] 검증하기\n",
    "print('훈련 세트점수 : {:.2f}'.format( lr.score(train_x, train_y)))\n",
    "print('테스트 세트점수 : {:.2f}'.format( lr.score(test_x, test_y)))"
   ]
  },
  {
   "cell_type": "markdown",
   "metadata": {},
   "source": [
    "### 5. 결과를 그래프로 그리기 \n",
    "\n",
    "결과(test_y)와 예측(pre_y)을 그래프로 표현하기"
   ]
  },
  {
   "cell_type": "code",
   "execution_count": 29,
   "metadata": {},
   "outputs": [
    {
     "data": {
      "image/png": "[encoded data removed]",
      "text/plain": [
       "<Figure size 432x288 with 1 Axes>"
      ]
     },
     "metadata": {
      "needs_background": "light"
     },
     "output_type": "display_data"
    }
   ],
   "source": [
    "plt.figure()\n",
    "plt.plot(test_y,c='r')\n",
    "plt.plot(pre_y,c='b')\n",
    "plt.show()\n"
   ]
  },
  {
   "cell_type": "markdown",
   "metadata": {},
   "source": [
    "### 6. 결과 평가하기\n",
    "\n",
    "예측 기온과 실제 기온의 차이를 구해서 확인\n",
    "\n",
    "pre_y - test_y\n",
    "\n",
    "예측과 실제 차이의 평균과 최대 오차값을 구해서 확인한다\n",
    "\n",
    "아래 결과를 확인하면 예측과 실제 차이의 평균은 1.66도 정도이고 최대 오차값은 8.47 정도이다"
   ]
  },
  {
   "cell_type": "code",
   "execution_count": 31,
   "metadata": {},
   "outputs": [
    {
     "name": "stdout",
     "output_type": "stream",
     "text": [
      "예상치 차이의 평균 =  1.664068497195424\n",
      "최대차이값 = 8.471949619908472\n"
     ]
    }
   ],
   "source": [
    "diff_y = abs(pre_y-test_y)\n",
    "\n",
    "print('예상치 차이의 평균 = ', sum(diff_y)/len(diff_y))\n",
    "print('최대차이값 =', max(diff_y) )"
   ]
  },
  {
   "cell_type": "markdown",
   "metadata": {},
   "source": [
    "[참고도서] 파이썬을 이용한 머신러닝, 딥러닝 실전 앱 개발 (위키북스) "
   ]
  }
 ],
 "metadata": {
  "kernelspec": {
   "display_name": "Python 3",
   "language": "python",
   "name": "python3"
  },
  "language_info": {
   "codemirror_mode": {
    "name": "ipython",
    "version": 3
   },
   "file_extension": ".py",
   "mimetype": "text/x-python",
   "name": "python",
   "nbconvert_exporter": "python",
   "pygments_lexer": "ipython3",
   "version": "3.7.6"
  }
 },
 "nbformat": 4,
 "nbformat_minor": 2
}
