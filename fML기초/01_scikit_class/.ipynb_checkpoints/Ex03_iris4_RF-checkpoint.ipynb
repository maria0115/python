{
 "cells": [
  {
   "cell_type": "markdown",
   "metadata": {},
   "source": [
    "\n",
    "---\n",
    "##  [ 힌트 ]  기존의 모델했던 예제에서 모델링만 변경하면 된다\n",
    "\n",
    "\n",
    "from sklearn.ensemble import RandomForestClassifier\n",
    "\n",
    "clf = RandomForestClassifier(n_estimators=100)\n",
    "\n",
    "- 매개변수\n",
    "- n_estimators : 랜덤포레스트 모델을 만들 때 생성할 트리의 갯수\n",
    "- random_state : 램덤 시드값으로 같은 결과를 만들려면 random_state 값을 고정한다.\n",
    "- 그러나 랜덤포레스트의 트리가 많을수록 random_state 값의 변화에 따른 변동이 적다\n",
    "\n",
    "\n",
    "---"
   ]
  },
  {
   "cell_type": "code",
   "execution_count": 2,
   "metadata": {},
   "outputs": [
    {
     "name": "stdout",
     "output_type": "stream",
     "text": [
      "   sepal.length  sepal.width  petal.length  petal.width variety\n",
      "0           5.1          3.5           1.4          0.2  Setosa\n",
      "1           4.9          3.0           1.4          0.2  Setosa\n",
      "2           4.7          3.2           1.3          0.2  Setosa\n",
      "3           4.6          3.1           1.5          0.2  Setosa\n",
      "4           5.0          3.6           1.4          0.2  Setosa\n",
      "5           5.4          3.9           1.7          0.4  Setosa\n",
      "6           4.6          3.4           1.4          0.3  Setosa\n",
      "7           5.0          3.4           1.5          0.2  Setosa\n",
      "8           4.4          2.9           1.4          0.2  Setosa\n",
      "9           4.9          3.1           1.5          0.1  Setosa\n",
      "   sepal.length  sepal.width  petal.length  petal.width\n",
      "0           5.1          3.5           1.4          0.2\n",
      "1           4.9          3.0           1.4          0.2\n",
      "2           4.7          3.2           1.3          0.2\n",
      "3           4.6          3.1           1.5          0.2\n",
      "4           5.0          3.6           1.4          0.2\n",
      "0    Setosa\n",
      "1    Setosa\n",
      "2    Setosa\n",
      "3    Setosa\n",
      "4    Setosa\n",
      "Name: variety, dtype: object\n",
      "정확도:0.9473684210526315\n",
      "리포트:\n",
      "               precision    recall  f1-score   support\n",
      "\n",
      "      Setosa       1.00      1.00      1.00        14\n",
      "  Versicolor       0.80      1.00      0.89         8\n",
      "   Virginica       1.00      0.88      0.93        16\n",
      "\n",
      "   micro avg       0.95      0.95      0.95        38\n",
      "   macro avg       0.93      0.96      0.94        38\n",
      "weighted avg       0.96      0.95      0.95        38\n",
      "\n"
     ]
    }
   ],
   "source": [
    "import pandas as pd\n",
    "from sklearn import svm, metrics\n",
    "from sklearn.model_selection import train_test_split\n",
    "\n",
    "from sklearn.ensemble import RandomForestClassifier\n",
    "\n",
    "# (1) 데이타 읽어오기 (pandas 이용)\n",
    "csv = pd.read_csv('../data/iris/iris.csv')\n",
    "print(csv[:10]) # 컬럼명이 0번째 레코드(샘플)과 분리되어 있음\n",
    "\n",
    "# (2) 데이터와 레이블 분리 변수 선언 (실제 iris.csv 파일 컬럼명 확인)\n",
    "csv_data = csv[['sepal.length','sepal.width','petal.length','petal.width']]\n",
    "csv_label = csv['variety']\n",
    "print(csv_data.head())\n",
    "print(csv_label.head())\n",
    "\n",
    "# (3) 훈련데이터와 테스트 데이터로 분리하기\n",
    "\n",
    "\n",
    "# (4) 분류모델로 학습하기\n",
    "#     예를 들면, clf = svm.SVC(gamma='auto')  이렇게 학습 모델 지정하기\n",
    "\n",
    "\n",
    "# (5) 예측하기\n",
    "predict = clf.predict(X_test)\n",
    "\n",
    "# (6) 검증하기\n",
    "ac_score = metrics.accuracy_score(y_test, predict)\n",
    "print('정확도:{}'.format(ac_score))\n",
    "\n",
    "cl_report = metrics.classification_report(y_test, predict)\n",
    "print('리포트:\\n', cl_report)\n"
   ]
  },
  {
   "cell_type": "code",
   "execution_count": null,
   "metadata": {},
   "outputs": [],
   "source": []
  },
  {
   "cell_type": "code",
   "execution_count": null,
   "metadata": {},
   "outputs": [],
   "source": []
  },
  {
   "cell_type": "code",
   "execution_count": null,
   "metadata": {},
   "outputs": [],
   "source": []
  }
 ],
 "metadata": {
  "kernelspec": {
   "display_name": "Python 3",
   "language": "python",
   "name": "python3"
  },
  "language_info": {
   "codemirror_mode": {
    "name": "ipython",
    "version": 3
   },
   "file_extension": ".py",
   "mimetype": "text/x-python",
   "name": "python",
   "nbconvert_exporter": "python",
   "pygments_lexer": "ipython3",
   "version": "3.7.6"
  }
 },
 "nbformat": 4,
 "nbformat_minor": 2
}
