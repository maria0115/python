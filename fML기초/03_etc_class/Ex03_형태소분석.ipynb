{
 "cells": [
  {
   "cell_type": "markdown",
   "metadata": {},
   "source": [
    "##  형태소 분석 (Morphological Analysis)\n",
    "\n",
    " + 자연 언어의 문장을 \"형태소\"라는 의미의 최소 단위로 분할하고, 품사를 판별하는 작업\n",
    " + 기계번역, 텍스트 마이닝에서 활용되는 중요한 작업\n",
    "\n",
    " + 영어의 형태소 분석은 쉽다\n",
    "\t\"I want to eat a apple\"\n",
    "\t조사역할의 to, a를 거르면 I, eat, apple 단어 추출\n",
    "\n",
    " + 한국어의 형태소 분석은 어렵다\n",
    "\t\"나는 사과를 먹고 싶다\"\n",
    "\t단어에 조사가 붙어 있어서 모든 품사와 문법 사전을 기반으로 대조하면서 단어를 추출해야 한다\n",
    "\t단순하게 '는' '을'을 제거한다고 되는 것이 아니다.\n",
    "\t\"소은 노을 이쁘다고 한다\"\n",
    "\t여기서 '은'과 '을'을 제거하면 안되고 '이쁜다고 한다'에서 '이쁘다' 어원도 추출해야 한다.\n",
    "\n",
    " + 한국어 형태소 분석 라이브러리 중 KoNLPy 사용\n",
    "\thttp://konlpy.org/ko/latest\n",
    "\n",
    " + 형태소 분석 라이브러리 : KoNLPy ( http://konlpy.org/ko/latest/ )\n",
    "\n",
    " + 형태소 분석기 :Okt / 한나눔 / 꼬꼬마 / Kormoran / MeCab 등\n",
    "\n",
    "\n",
    "\n",
    "### *** KoNLPy 설치\n",
    "\n",
    "    - http://konlpy.org/ko/latest/install/\n",
    "    \n",
    "        - 왼쪽 메뉴에서 윈도우 선택하고 확인하면서 실행하는 방식 확인\n",
    "    \n",
    "    - https://www.lfd.uci.edu/~gohlke/pythonlibs/#jpype\n",
    "\n",
    "      (1) JPype 확인 - 컴퓨터 bit / 파이썬 버전 ( python --version ) 에 맞는 실행 파일 다운로드\n",
    "       \n",
    "        [주의]  JPype1 설치할 때 ( 최신 버전 확인 )\n",
    "            JPype1‑0.7.1‑cp37‑cp37m‑win_amd64.whl\n",
    "            ( 컴퓨터 64bit / cp37 : python 3.7 버전  )\n",
    "      \n",
    "      (2) Anaconda Prompt 창이나 cmd 창  \n",
    "         > pip install --upgrade pip\n",
    "         > cd 다운받은폴더\n",
    "         > pip install JPype1-0.7.5-cp37-cp37m-win_amd64.whl         \n",
    "        \n",
    "      (3) pip install konlpy        \n",
    "\n",
    "      (4) jupyter notebook을 다시 재실행해야 한다\n",
    "    \n",
    "        ` Anaconda Prompt 에서도 실행가능\n",
    "   \n",
    "\n",
    "[참고] 데이타 사이언스 스쿨 :\n",
    "\n",
    "+ https://datascienceschool.net/view-notebook/70ce46db4ced4a999c6ec349df0f4eb0/\n",
    "\n",
    "+ https://datascienceschool.net/view-notebook/118731eec74b4ad3bdd2f89bab077e1b/"
   ]
  },
  {
   "cell_type": "markdown",
   "metadata": {},
   "source": [
    "## 꼬꼬마"
   ]
  },
  {
   "cell_type": "code",
   "execution_count": 12,
   "metadata": {},
   "outputs": [
    {
     "name": "stdout",
     "output_type": "stream",
     "text": [
      "['네, 안녕하세요.', '반갑습니다.']\n"
     ]
    }
   ],
   "source": [
    "# KoNLPy의 kkma 형태소 분석기 확인\n",
    "from konlpy.tag import Kkma\n",
    "from konlpy.utils import pprint\n",
    "\n",
    "kkma = Kkma()\n",
    "pprint(kkma.sentences('네, 안녕하세요. 반갑습니다.'))#마침표를 기준으로 문장으로 봄\n",
    "\n",
    "\n"
   ]
  },
  {
   "cell_type": "code",
   "execution_count": 18,
   "metadata": {},
   "outputs": [
    {
     "data": {
      "text/plain": [
       "['네, 안녕하세요.', '반갑습니다.']"
      ]
     },
     "execution_count": 18,
     "metadata": {},
     "output_type": "execute_result"
    }
   ],
   "source": [
    "# 문장분석\n",
    "kkma.sentences('네, 안녕하세요. 반갑습니다.')\n"
   ]
  },
  {
   "cell_type": "code",
   "execution_count": 17,
   "metadata": {},
   "outputs": [
    {
     "data": {
      "text/plain": [
       "['안녕']"
      ]
     },
     "execution_count": 17,
     "metadata": {},
     "output_type": "execute_result"
    }
   ],
   "source": [
    "# 명사분석\n",
    "kkma.nouns('네, 안녕하세요. 반갑습니다.')\n"
   ]
  },
  {
   "cell_type": "code",
   "execution_count": 16,
   "metadata": {},
   "outputs": [
    {
     "data": {
      "text/plain": [
       "[('네', 'MDN'),\n",
       " (',', 'SP'),\n",
       " ('안녕', 'NNG'),\n",
       " ('하', 'XSV'),\n",
       " ('세요', 'EFN'),\n",
       " ('.', 'SF'),\n",
       " ('반갑', 'VV'),\n",
       " ('습니다', 'EFN'),\n",
       " ('.', 'SF')]"
      ]
     },
     "execution_count": 16,
     "metadata": {},
     "output_type": "execute_result"
    }
   ],
   "source": [
    "# 품사분석 : 한국어는 형태변화가 많아 영어처럼 쉽게 안됨\n",
    "\n",
    "kkma.pos('네, 안녕하세요. 반갑습니다.')"
   ]
  },
  {
   "cell_type": "markdown",
   "metadata": {},
   "source": [
    "## 한나눔 엔진"
   ]
  },
  {
   "cell_type": "code",
   "execution_count": 2,
   "metadata": {},
   "outputs": [],
   "source": [
    "from konlpy.tag import Hannanum\n",
    "\n",
    "hannanum=Hannanum()\n"
   ]
  },
  {
   "cell_type": "code",
   "execution_count": 3,
   "metadata": {},
   "outputs": [
    {
     "data": {
      "text/plain": [
       "['한국어', '분석', '시작']"
      ]
     },
     "execution_count": 3,
     "metadata": {},
     "output_type": "execute_result"
    }
   ],
   "source": [
    "# 명사분석 : 꼬꼬마 엔진과 다른 결과\n",
    "hannanum.nouns('한국어 분석을 시작합니다 그러나 어렵습니다 그러나 재미있어요~')\n"
   ]
  },
  {
   "cell_type": "code",
   "execution_count": 4,
   "metadata": {},
   "outputs": [
    {
     "data": {
      "text/plain": [
       "['한국어',\n",
       " '분석',\n",
       " '을',\n",
       " '시작',\n",
       " '하',\n",
       " 'ㅂ니다',\n",
       " '그러나',\n",
       " '어렵',\n",
       " '습니다',\n",
       " '그러나',\n",
       " '재미있',\n",
       " '어요',\n",
       " '~']"
      ]
     },
     "execution_count": 4,
     "metadata": {},
     "output_type": "execute_result"
    }
   ],
   "source": [
    "# 형태소분석\n",
    "hannanum.morphs('한국어 분석을 시작합니다 그러나 어렵습니다 그러나 재미있어요~')\n"
   ]
  },
  {
   "cell_type": "code",
   "execution_count": 5,
   "metadata": {},
   "outputs": [
    {
     "data": {
      "text/plain": [
       "[('한국어', 'N'),\n",
       " ('분석', 'N'),\n",
       " ('을', 'J'),\n",
       " ('시작', 'N'),\n",
       " ('하', 'X'),\n",
       " ('ㅂ니다', 'E'),\n",
       " ('그러나', 'M'),\n",
       " ('어렵', 'P'),\n",
       " ('습니다', 'E'),\n",
       " ('그러나', 'M'),\n",
       " ('재미있', 'P'),\n",
       " ('어요', 'E'),\n",
       " ('~', 'S')]"
      ]
     },
     "execution_count": 5,
     "metadata": {},
     "output_type": "execute_result"
    }
   ],
   "source": [
    "# 품사분석\n",
    "hannanum.pos('한국어 분석을 시작합니다 그러나 어렵습니다 그러나 재미있어요~')\n"
   ]
  },
  {
   "cell_type": "code",
   "execution_count": null,
   "metadata": {},
   "outputs": [],
   "source": []
  },
  {
   "cell_type": "markdown",
   "metadata": {},
   "source": [
    "## Okt 엔진 ( 예전의 Twitter 엔진)"
   ]
  },
  {
   "cell_type": "code",
   "execution_count": 7,
   "metadata": {},
   "outputs": [],
   "source": [
    "from konlpy.tag import Okt\n",
    "okt = Okt()"
   ]
  },
  {
   "cell_type": "code",
   "execution_count": 9,
   "metadata": {},
   "outputs": [
    {
     "data": {
      "text/plain": [
       "['한국어', '분석', '시작']"
      ]
     },
     "execution_count": 9,
     "metadata": {},
     "output_type": "execute_result"
    }
   ],
   "source": [
    "# 명사분석\n",
    "okt.nouns('한국어 분석을 시작합니다 그러나 어렵습니다 그러나 재미있어요~')\n"
   ]
  },
  {
   "cell_type": "code",
   "execution_count": 10,
   "metadata": {},
   "outputs": [
    {
     "data": {
      "text/plain": [
       "['한국어', '분석', '을', '시작', '합니다', '그러나', '어렵습니다', '그러나', '재미있어요', '~']"
      ]
     },
     "execution_count": 10,
     "metadata": {},
     "output_type": "execute_result"
    }
   ],
   "source": [
    "# 형태소분석\n",
    "okt.morphs('한국어 분석을 시작합니다 그러나 어렵습니다 그러나 재미있어요~')\n"
   ]
  },
  {
   "cell_type": "code",
   "execution_count": 19,
   "metadata": {},
   "outputs": [
    {
     "data": {
      "text/plain": [
       "[('한국어', 'Noun'),\n",
       " ('분석', 'Noun'),\n",
       " ('을', 'Josa'),\n",
       " ('시작', 'Noun'),\n",
       " ('하다', 'Verb'),\n",
       " ('그러나', 'Conjunction'),\n",
       " ('어렵다', 'Adjective'),\n",
       " ('습', 'Noun'),\n",
       " ('니당다', 'Verb'),\n",
       " ('그러나', 'Conjunction'),\n",
       " ('재미있다', 'Adjective'),\n",
       " ('~', 'Punctuation')]"
      ]
     },
     "execution_count": 19,
     "metadata": {},
     "output_type": "execute_result"
    }
   ],
   "source": [
    "# 품사분석\n",
    "\n",
    "okt.pos('한국어 분석을 시작합니다 그러나 어렵습니당 그러나 재미있어용~',stem=True)"
   ]
  },
  {
   "cell_type": "code",
   "execution_count": null,
   "metadata": {},
   "outputs": [],
   "source": []
  }
 ],
 "metadata": {
  "kernelspec": {
   "display_name": "Python 3",
   "language": "python",
   "name": "python3"
  },
  "language_info": {
   "codemirror_mode": {
    "name": "ipython",
    "version": 3
   },
   "file_extension": ".py",
   "mimetype": "text/x-python",
   "name": "python",
   "nbconvert_exporter": "python",
   "pygments_lexer": "ipython3",
   "version": "3.7.6"
  }
 },
 "nbformat": 4,
 "nbformat_minor": 2
}
