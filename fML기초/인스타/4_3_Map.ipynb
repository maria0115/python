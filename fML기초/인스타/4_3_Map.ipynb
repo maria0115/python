{
 "cells": [
  {
   "cell_type": "markdown",
   "metadata": {},
   "source": [
    "#### 카카오 API 로  실습코드 변경하였습니다 #####\n",
    "\n",
    "- 안내 페이지: http://bit.ly/pwd_kakaoAPI_guide\n",
    "- 깃헙 주소: https://github.com/Play-with-data/datasalon"
   ]
  },
  {
   "cell_type": "code",
   "execution_count": 1,
   "metadata": {},
   "outputs": [
    {
     "name": "stdout",
     "output_type": "stream",
     "text": [
      "Requirement already satisfied: folium in c:\\programdata\\anaconda3\\lib\\site-packages (0.11.0)\n",
      "Requirement already satisfied: branca>=0.3.0 in c:\\programdata\\anaconda3\\lib\\site-packages (from folium) (0.4.1)\n",
      "Requirement already satisfied: jinja2>=2.9 in c:\\programdata\\anaconda3\\lib\\site-packages (from folium) (2.11.1)\n",
      "Requirement already satisfied: numpy in c:\\programdata\\anaconda3\\lib\\site-packages (from folium) (1.18.1)\n",
      "Requirement already satisfied: requests in c:\\programdata\\anaconda3\\lib\\site-packages (from folium) (2.22.0)\n",
      "Requirement already satisfied: MarkupSafe>=0.23 in c:\\programdata\\anaconda3\\lib\\site-packages (from jinja2>=2.9->folium) (1.1.1)\n",
      "Requirement already satisfied: certifi>=2017.4.17 in c:\\programdata\\anaconda3\\lib\\site-packages (from requests->folium) (2019.11.28)\n",
      "Requirement already satisfied: idna<2.9,>=2.5 in c:\\programdata\\anaconda3\\lib\\site-packages (from requests->folium) (2.8)\n",
      "Requirement already satisfied: urllib3!=1.25.0,!=1.25.1,<1.26,>=1.21.1 in c:\\programdata\\anaconda3\\lib\\site-packages (from requests->folium) (1.25.8)\n",
      "Requirement already satisfied: chardet<3.1.0,>=3.0.2 in c:\\programdata\\anaconda3\\lib\\site-packages (from requests->folium) (3.0.4)\n"
     ]
    }
   ],
   "source": [
    "# folium 설치\n",
    "\n",
    "! pip install folium"
   ]
  },
  {
   "cell_type": "code",
   "execution_count": null,
   "metadata": {},
   "outputs": [],
   "source": []
  },
  {
   "cell_type": "markdown",
   "metadata": {},
   "source": [
    "# 4.3 지도시각화"
   ]
  },
  {
   "cell_type": "markdown",
   "metadata": {},
   "source": [
    "###  4.3.2 데이터 준비"
   ]
  },
  {
   "cell_type": "code",
   "execution_count": 2,
   "metadata": {
    "scrolled": true
   },
   "outputs": [
    {
     "data": {
      "text/html": [
       "<div>\n",
       "<style scoped>\n",
       "    .dataframe tbody tr th:only-of-type {\n",
       "        vertical-align: middle;\n",
       "    }\n",
       "\n",
       "    .dataframe tbody tr th {\n",
       "        vertical-align: top;\n",
       "    }\n",
       "\n",
       "    .dataframe thead th {\n",
       "        text-align: right;\n",
       "    }\n",
       "</style>\n",
       "<table border=\"1\" class=\"dataframe\">\n",
       "  <thead>\n",
       "    <tr style=\"text-align: right;\">\n",
       "      <th></th>\n",
       "      <th>content</th>\n",
       "      <th>data</th>\n",
       "      <th>like</th>\n",
       "      <th>place</th>\n",
       "      <th>tags</th>\n",
       "    </tr>\n",
       "  </thead>\n",
       "  <tbody>\n",
       "    <tr>\n",
       "      <th>0</th>\n",
       "      <td>..💌네이버 &gt; 요트데이💌카카오 &gt; 요트데이💌문   의  &gt; 010 3954 9779</td>\n",
       "      <td>2020-07-04</td>\n",
       "      <td>105</td>\n",
       "      <td>포항 영일대해수욕장</td>\n",
       "      <td>[]</td>\n",
       "    </tr>\n",
       "    <tr>\n",
       "      <th>1</th>\n",
       "      <td>#포항dslr클럽 #포항 영일대#일출궤적#포항#포항관광#영일대해수욕장#브로니카SQ-...</td>\n",
       "      <td>2019-02-27</td>\n",
       "      <td>233</td>\n",
       "      <td>NaN</td>\n",
       "      <td>['#포항dslr클럽', '#포항', '#일출궤적', '#포항', '#포항관광', ...</td>\n",
       "    </tr>\n",
       "    <tr>\n",
       "      <th>2</th>\n",
       "      <td>슬슬 출출해지니 생각나는 #해랑이떡 크림치즈가 들어간 떡은 첨 먹어봤는데 이거 진짜...</td>\n",
       "      <td>2020-02-18</td>\n",
       "      <td>1,250</td>\n",
       "      <td>Pohang</td>\n",
       "      <td>['#해랑이떡', '#福', '#포항여행', '#먹거리', '#포항큰동해시장', '...</td>\n",
       "    </tr>\n",
       "    <tr>\n",
       "      <th>3</th>\n",
       "      <td>저 난생처음 #포항 댕겨왔습니다ㅋ여행의 기본은 원래 #먹방 아니겠어요?포항 #전통시...</td>\n",
       "      <td>2020-02-17</td>\n",
       "      <td>1,101</td>\n",
       "      <td>Pohang</td>\n",
       "      <td>['#포항', '#먹방', '#전통시장', '#큰동해시장', '#운하', '#진심저...</td>\n",
       "    </tr>\n",
       "    <tr>\n",
       "      <th>4</th>\n",
       "      <td>..💌네이버 &gt; 요트데이💌카카오 &gt; 요트데이💌문  의 &gt; 010 3954 9779</td>\n",
       "      <td>2020-05-30</td>\n",
       "      <td>118</td>\n",
       "      <td>포항 영일대해수욕장</td>\n",
       "      <td>[]</td>\n",
       "    </tr>\n",
       "  </tbody>\n",
       "</table>\n",
       "</div>"
      ],
      "text/plain": [
       "                                             content        data   like  \\\n",
       "0    ..💌네이버 > 요트데이💌카카오 > 요트데이💌문   의  > 010 3954 9779  2020-07-04    105   \n",
       "1  #포항dslr클럽 #포항 영일대#일출궤적#포항#포항관광#영일대해수욕장#브로니카SQ-...  2019-02-27    233   \n",
       "2  슬슬 출출해지니 생각나는 #해랑이떡 크림치즈가 들어간 떡은 첨 먹어봤는데 이거 진짜...  2020-02-18  1,250   \n",
       "3  저 난생처음 #포항 댕겨왔습니다ㅋ여행의 기본은 원래 #먹방 아니겠어요?포항 #전통시...  2020-02-17  1,101   \n",
       "4      ..💌네이버 > 요트데이💌카카오 > 요트데이💌문  의 > 010 3954 9779  2020-05-30    118   \n",
       "\n",
       "        place                                               tags  \n",
       "0  포항 영일대해수욕장                                                 []  \n",
       "1         NaN  ['#포항dslr클럽', '#포항', '#일출궤적', '#포항', '#포항관광', ...  \n",
       "2      Pohang  ['#해랑이떡', '#福', '#포항여행', '#먹거리', '#포항큰동해시장', '...  \n",
       "3      Pohang  ['#포항', '#먹방', '#전통시장', '#큰동해시장', '#운하', '#진심저...  \n",
       "4  포항 영일대해수욕장                                                 []  "
      ]
     },
     "execution_count": 2,
     "metadata": {},
     "output_type": "execute_result"
    }
   ],
   "source": [
    "# 예제 4-20 크롤링 데이터 불러오기\n",
    "import pandas as pd\n",
    "raw_total = pd.read_excel('./files/3_1_crawling_raw.xlsx')\n",
    "raw_total.head()"
   ]
  },
  {
   "cell_type": "code",
   "execution_count": 3,
   "metadata": {},
   "outputs": [
    {
     "data": {
      "text/plain": [
       "Pohang                   3\n",
       "포항 영일대해수욕장               2\n",
       "포항 월포해수욕장                1\n",
       "경주 황리단길                  1\n",
       "포항                       1\n",
       "포항시 오도리                  1\n",
       "포항 구룡포 근대화거리             1\n",
       "Busan 釜山, South Korea    1\n",
       "Name: place, dtype: int64"
      ]
     },
     "execution_count": 3,
     "metadata": {},
     "output_type": "execute_result"
    }
   ],
   "source": [
    "# 예제 4-21 위치정보 가져오기\n",
    "location_counts = raw_total['place'].value_counts( )\n",
    "location_counts"
   ]
  },
  {
   "cell_type": "code",
   "execution_count": 4,
   "metadata": {},
   "outputs": [
    {
     "data": {
      "text/html": [
       "<div>\n",
       "<style scoped>\n",
       "    .dataframe tbody tr th:only-of-type {\n",
       "        vertical-align: middle;\n",
       "    }\n",
       "\n",
       "    .dataframe tbody tr th {\n",
       "        vertical-align: top;\n",
       "    }\n",
       "\n",
       "    .dataframe thead th {\n",
       "        text-align: right;\n",
       "    }\n",
       "</style>\n",
       "<table border=\"1\" class=\"dataframe\">\n",
       "  <thead>\n",
       "    <tr style=\"text-align: right;\">\n",
       "      <th></th>\n",
       "      <th>place</th>\n",
       "    </tr>\n",
       "  </thead>\n",
       "  <tbody>\n",
       "    <tr>\n",
       "      <th>Pohang</th>\n",
       "      <td>3</td>\n",
       "    </tr>\n",
       "    <tr>\n",
       "      <th>포항 영일대해수욕장</th>\n",
       "      <td>2</td>\n",
       "    </tr>\n",
       "    <tr>\n",
       "      <th>포항 월포해수욕장</th>\n",
       "      <td>1</td>\n",
       "    </tr>\n",
       "    <tr>\n",
       "      <th>경주 황리단길</th>\n",
       "      <td>1</td>\n",
       "    </tr>\n",
       "    <tr>\n",
       "      <th>포항</th>\n",
       "      <td>1</td>\n",
       "    </tr>\n",
       "  </tbody>\n",
       "</table>\n",
       "</div>"
      ],
      "text/plain": [
       "            place\n",
       "Pohang          3\n",
       "포항 영일대해수욕장      2\n",
       "포항 월포해수욕장       1\n",
       "경주 황리단길         1\n",
       "포항              1"
      ]
     },
     "execution_count": 4,
     "metadata": {},
     "output_type": "execute_result"
    }
   ],
   "source": [
    "# 예제 4-22 등록된 위치정보별 빈도수 데이터\n",
    "location_counts_df = pd.DataFrame(location_counts)\n",
    "location_counts_df.head()"
   ]
  },
  {
   "cell_type": "code",
   "execution_count": 5,
   "metadata": {},
   "outputs": [],
   "source": [
    "# 예제 4-23 위치정보 빈도수 데이터 저장하기\n",
    "location_counts_df.to_excel('./files/3_3_location_counts.xlsx')"
   ]
  },
  {
   "cell_type": "code",
   "execution_count": 6,
   "metadata": {},
   "outputs": [
    {
     "data": {
      "text/plain": [
       "['Pohang',\n",
       " '포항 영일대해수욕장',\n",
       " '포항 월포해수욕장',\n",
       " '경주 황리단길',\n",
       " '포항',\n",
       " '포항시 오도리',\n",
       " '포항 구룡포 근대화거리',\n",
       " 'Busan 釜山, South Korea']"
      ]
     },
     "execution_count": 6,
     "metadata": {},
     "output_type": "execute_result"
    }
   ],
   "source": [
    "# 예제 4-24 위치정보 종류 확인하기\n",
    "locations = list( location_counts.index )\n",
    "locations "
   ]
  },
  {
   "cell_type": "markdown",
   "metadata": {},
   "source": [
    "### 4.3.4 카카오 지도 API를 활용한 장소 검색"
   ]
  },
  {
   "cell_type": "code",
   "execution_count": 7,
   "metadata": {},
   "outputs": [
    {
     "data": {
      "text/plain": [
       "[{'address_name': '서울 마포구 서교동 395-166',\n",
       "  'category_group_code': 'CE7',\n",
       "  'category_group_name': '카페',\n",
       "  'category_name': '음식점 > 카페 > 커피전문점 > 스타벅스',\n",
       "  'distance': '',\n",
       "  'id': '26572121',\n",
       "  'phone': '',\n",
       "  'place_name': '스타벅스 서교점',\n",
       "  'place_url': 'http://place.map.kakao.com/26572121',\n",
       "  'road_address_name': '서울 마포구 양화로 78',\n",
       "  'x': '126.916980454434',\n",
       "  'y': '37.5514601750423'},\n",
       " {'address_name': '서울 마포구 합정동 472',\n",
       "  'category_group_code': 'CE7',\n",
       "  'category_group_name': '카페',\n",
       "  'category_name': '음식점 > 카페 > 커피전문점 > 스타벅스',\n",
       "  'distance': '',\n",
       "  'id': '2057327896',\n",
       "  'phone': '1522-3232',\n",
       "  'place_name': '스타벅스 합정점',\n",
       "  'place_url': 'http://place.map.kakao.com/2057327896',\n",
       "  'road_address_name': '서울 마포구 월드컵로1길 14',\n",
       "  'x': '126.91211392586314',\n",
       "  'y': '37.54981773755399'},\n",
       " {'address_name': '서울 마포구 서교동 490',\n",
       "  'category_group_code': 'CE7',\n",
       "  'category_group_name': '카페',\n",
       "  'category_name': '음식점 > 카페 > 커피전문점 > 스타벅스',\n",
       "  'distance': '',\n",
       "  'id': '288597324',\n",
       "  'phone': '',\n",
       "  'place_name': '스타벅스 합정폴리스R점',\n",
       "  'place_url': 'http://place.map.kakao.com/288597324',\n",
       "  'road_address_name': '서울 마포구 양화로 45',\n",
       "  'x': '126.91340049045',\n",
       "  'y': '37.5508989849269'},\n",
       " {'address_name': '서울 마포구 서교동 490',\n",
       "  'category_group_code': 'CE7',\n",
       "  'category_group_name': '카페',\n",
       "  'category_name': '음식점 > 카페 > 커피전문점 > 스타벅스',\n",
       "  'distance': '',\n",
       "  'id': '27076117',\n",
       "  'phone': '1522-3232',\n",
       "  'place_name': '스타벅스 합정메세나몰점',\n",
       "  'place_url': 'http://place.map.kakao.com/27076117',\n",
       "  'road_address_name': '서울 마포구 양화로 45',\n",
       "  'x': '126.913541853312',\n",
       "  'y': '37.5500016943689'},\n",
       " {'address_name': '서울 마포구 서교동 475-13',\n",
       "  'category_group_code': 'CE7',\n",
       "  'category_group_name': '카페',\n",
       "  'category_name': '음식점 > 카페 > 커피전문점 > 스타벅스',\n",
       "  'distance': '',\n",
       "  'id': '12776689',\n",
       "  'phone': '1522-3232',\n",
       "  'place_name': '스타벅스 망원역점',\n",
       "  'place_url': 'http://place.map.kakao.com/12776689',\n",
       "  'road_address_name': '서울 마포구 월드컵로 74',\n",
       "  'x': '126.91071941264',\n",
       "  'y': '37.5557803955969'},\n",
       " {'address_name': '서울 마포구 서교동 374-20',\n",
       "  'category_group_code': 'CE7',\n",
       "  'category_group_name': '카페',\n",
       "  'category_name': '음식점 > 카페 > 커피전문점 > 스타벅스',\n",
       "  'distance': '',\n",
       "  'id': '27416913',\n",
       "  'phone': '',\n",
       "  'place_name': '스타벅스 서교동사거리',\n",
       "  'place_url': 'http://place.map.kakao.com/27416913',\n",
       "  'road_address_name': '서울 마포구 양화로 105',\n",
       "  'x': '126.918607875358',\n",
       "  'y': '37.5534723352988'},\n",
       " {'address_name': '서울 마포구 서교동 353-5',\n",
       "  'category_group_code': 'CE7',\n",
       "  'category_group_name': '카페',\n",
       "  'category_name': '음식점 > 카페 > 커피전문점 > 스타벅스',\n",
       "  'distance': '',\n",
       "  'id': '1436512690',\n",
       "  'phone': '1522-3232',\n",
       "  'place_name': '스타벅스 홍대입구역사거리R점',\n",
       "  'place_url': 'http://place.map.kakao.com/1436512690',\n",
       "  'road_address_name': '서울 마포구 양화로 125',\n",
       "  'x': '126.920317785646',\n",
       "  'y': '37.5546231745866'},\n",
       " {'address_name': '서울 마포구 동교동 205-6',\n",
       "  'category_group_code': 'CE7',\n",
       "  'category_group_name': '카페',\n",
       "  'category_name': '음식점 > 카페 > 커피전문점 > 스타벅스',\n",
       "  'distance': '',\n",
       "  'id': '20705154',\n",
       "  'phone': '1522-3232',\n",
       "  'place_name': '스타벅스 동교점',\n",
       "  'place_url': 'http://place.map.kakao.com/20705154',\n",
       "  'road_address_name': '서울 마포구 월드컵북로 22',\n",
       "  'x': '126.919993980608',\n",
       "  'y': '37.5568646370831'},\n",
       " {'address_name': '서울 마포구 상수동 86-22',\n",
       "  'category_group_code': 'CE7',\n",
       "  'category_group_name': '카페',\n",
       "  'category_name': '음식점 > 카페 > 커피전문점 > 스타벅스',\n",
       "  'distance': '',\n",
       "  'id': '17127074',\n",
       "  'phone': '1522-3232',\n",
       "  'place_name': '스타벅스 홍대삼거리점',\n",
       "  'place_url': 'http://place.map.kakao.com/17127074',\n",
       "  'road_address_name': '서울 마포구 와우산로 64',\n",
       "  'x': '126.92326479924',\n",
       "  'y': '37.5501958209348'},\n",
       " {'address_name': '서울 마포구 동교동 159-1',\n",
       "  'category_group_code': 'CE7',\n",
       "  'category_group_name': '카페',\n",
       "  'category_name': '음식점 > 카페 > 커피전문점 > 스타벅스',\n",
       "  'distance': '',\n",
       "  'id': '22105109',\n",
       "  'phone': '',\n",
       "  'place_name': '스타벅스 홍대역점',\n",
       "  'place_url': 'http://place.map.kakao.com/22105109',\n",
       "  'road_address_name': '서울 마포구 양화로 165',\n",
       "  'x': '126.923637798148',\n",
       "  'y': '37.5572887166274'},\n",
       " {'address_name': '서울 마포구 서교동 343-10',\n",
       "  'category_group_code': 'CE7',\n",
       "  'category_group_name': '카페',\n",
       "  'category_name': '음식점 > 카페 > 커피전문점 > 스타벅스',\n",
       "  'distance': '',\n",
       "  'id': '7962302',\n",
       "  'phone': '1522-3232',\n",
       "  'place_name': '스타벅스 홍대갤러리점',\n",
       "  'place_url': 'http://place.map.kakao.com/7962302',\n",
       "  'road_address_name': '서울 마포구 와우산로 101',\n",
       "  'x': '126.924809884926',\n",
       "  'y': '37.5531989403216'},\n",
       " {'address_name': '서울 마포구 상수동 329-1',\n",
       "  'category_group_code': 'CE7',\n",
       "  'category_group_name': '카페',\n",
       "  'category_name': '음식점 > 카페 > 커피전문점 > 스타벅스',\n",
       "  'distance': '',\n",
       "  'id': '26848996',\n",
       "  'phone': '1522-3232',\n",
       "  'place_name': '스타벅스 상수역점',\n",
       "  'place_url': 'http://place.map.kakao.com/26848996',\n",
       "  'road_address_name': '서울 마포구 독막로 88',\n",
       "  'x': '126.923272022704',\n",
       "  'y': '37.5475649101839'},\n",
       " {'address_name': '서울 마포구 동교동 166-1',\n",
       "  'category_group_code': 'CE7',\n",
       "  'category_group_name': '카페',\n",
       "  'category_name': '음식점 > 카페 > 커피전문점 > 스타벅스',\n",
       "  'distance': '',\n",
       "  'id': '231272664',\n",
       "  'phone': '',\n",
       "  'place_name': '스타벅스 홍대공항철도역점',\n",
       "  'place_url': 'http://place.map.kakao.com/231272664',\n",
       "  'road_address_name': '서울 마포구 양화로 178',\n",
       "  'x': '126.92518582665798',\n",
       "  'y': '37.557509550972256'},\n",
       " {'address_name': '서울 마포구 창전동 130',\n",
       "  'category_group_code': 'CE7',\n",
       "  'category_group_name': '카페',\n",
       "  'category_name': '음식점 > 카페 > 커피전문점 > 스타벅스',\n",
       "  'distance': '',\n",
       "  'id': '1572099327',\n",
       "  'phone': '',\n",
       "  'place_name': '스타벅스 서강광흥창역점',\n",
       "  'place_url': 'http://place.map.kakao.com/1572099327',\n",
       "  'road_address_name': '서울 마포구 서강로 69',\n",
       "  'x': '126.931657893743',\n",
       "  'y': '37.5493756625598'},\n",
       " {'address_name': '서울 영등포구 당산동6가 304-1',\n",
       "  'category_group_code': 'CE7',\n",
       "  'category_group_name': '카페',\n",
       "  'category_name': '음식점 > 카페 > 커피전문점 > 스타벅스',\n",
       "  'distance': '',\n",
       "  'id': '7961651',\n",
       "  'phone': '',\n",
       "  'place_name': '스타벅스 당산역점',\n",
       "  'place_url': 'http://place.map.kakao.com/7961651',\n",
       "  'road_address_name': '서울 영등포구 당산로 231',\n",
       "  'x': '126.901910730755',\n",
       "  'y': '37.53446658474'}]"
      ]
     },
     "execution_count": 7,
     "metadata": {},
     "output_type": "execute_result"
    }
   ],
   "source": [
    "# 예제 4-25 카카오 검색 API 사용 예시\n",
    "\n",
    "import requests\n",
    "\n",
    "searching = '합정 스타벅스'\n",
    "url = 'https://dapi.kakao.com/v2/local/search/keyword.json?query={}'.format(searching)\n",
    "\n",
    "headers = {\n",
    "    # \"Authorization\": \"KakaoAK 여기에 본인의 카카오API키입력하세요\"     \n",
    "    \"Authorization\": \"KakaoAK c365fabe892788f00e612734bd99c75f\" # \n",
    "    # 입력시 반드시  KakaoAK 뒤에 한 칸 띄우고 API키 값을 적어야 합니다. \n",
    "}\n",
    "\n",
    "places = requests.get(url, headers = headers).json()['documents']\n",
    "places\n",
    "\n"
   ]
  },
  {
   "cell_type": "code",
   "execution_count": 8,
   "metadata": {},
   "outputs": [],
   "source": [
    "# 예제 4-26  장소 검색 함수 만들기\n",
    "def find_places(searching):\n",
    "    # ① 접속URL 만들기\n",
    "    url = 'https://dapi.kakao.com/v2/local/search/keyword.json?query={}'.format(searching)\n",
    "    # ② headers 입력하기\n",
    "    headers = {\n",
    "    # \"Authorization\": \"KakaoAK 여기에 본인의 카카오API키입력하세요\"     \n",
    "    \"Authorization\": \"KakaoAK c365fabe892788f00e612734bd99c75f\" # \n",
    "    # 입력시 반드시  KakaoAK 뒤에 한 칸 띄우고 API키 값을 적어야 합니다. \n",
    "    }\n",
    "    # ③ API 요청&정보 받기\n",
    "    places = requests.get(url, headers = headers).json()['documents']\n",
    "    # ④ 필요한 정보 선택하기\n",
    "    place = places[0] \n",
    "    name = place['place_name']\n",
    "    x=place['x']\n",
    "    y=place['y']\n",
    "    data = [name, x, y, searching] \n",
    "\n",
    "    return data\n"
   ]
  },
  {
   "cell_type": "code",
   "execution_count": 9,
   "metadata": {},
   "outputs": [
    {
     "data": {
      "text/plain": [
       "['김포국제공항 국내선', '126.802874569181', '37.5589508457596', '김포공항']"
      ]
     },
     "execution_count": 9,
     "metadata": {},
     "output_type": "execute_result"
    }
   ],
   "source": [
    "# 예제 4-27 제주공항 검색 예시\n",
    "data = find_places('김포공항')\n",
    "data"
   ]
  },
  {
   "cell_type": "code",
   "execution_count": 10,
   "metadata": {},
   "outputs": [],
   "source": [
    "from tqdm import tqdm_notebook"
   ]
  },
  {
   "cell_type": "code",
   "execution_count": 18,
   "metadata": {},
   "outputs": [
    {
     "name": "stderr",
     "output_type": "stream",
     "text": [
      "C:\\ProgramData\\Anaconda3\\lib\\site-packages\\ipykernel_launcher.py:5: TqdmDeprecationWarning: This function will be removed in tqdm==5.0.0\n",
      "Please use `tqdm.notebook.tqdm` instead of `tqdm.tqdm_notebook`\n",
      "  \"\"\"\n"
     ]
    },
    {
     "data": {
      "application/vnd.jupyter.widget-view+json": {
       "model_id": "bf0fbd28077f4561a12177a4a50d71c7",
       "version_major": 2,
       "version_minor": 0
      },
      "text/plain": [
       "HBox(children=(FloatProgress(value=0.0, max=8.0), HTML(value='')))"
      ]
     },
     "metadata": {},
     "output_type": "display_data"
    },
    {
     "name": "stdout",
     "output_type": "stream",
     "text": [
      "\n"
     ]
    },
    {
     "data": {
      "text/plain": [
       "[['포항역', '129.34192815800867', '36.07160517955013', 'Pohang'],\n",
       " ['영일대해수욕장', '129.378187000619', '36.0550695749354', '포항 영일대해수욕장'],\n",
       " ['월포해수욕장', '129.371254482265', '36.2016482179639', '포항 월포해수욕장'],\n",
       " ['황리단길', '129.209645417434', '35.8393348165945', '경주 황리단길'],\n",
       " ['호미곶', '129.56973687334', '36.0780561712913', '포항'],\n",
       " ['오도리간이해수욕장', '129.398878511548', '36.1549355691878', '포항시 오도리']]"
      ]
     },
     "execution_count": 18,
     "metadata": {},
     "output_type": "execute_result"
    }
   ],
   "source": [
    "# 예제 4-28 인스타그램 위치명 위치정보 검색하기\n",
    "#### 검색시 시간이 많이 걸려, 현재 작업 진행현황을 볼 수 있도록,  tqdm_notebook 추가 했습니다.\n",
    "import time\n",
    "locations_inform = [ ]\n",
    "for location in tqdm_notebook(locations):\n",
    "    try:\n",
    "        data = find_places(location)       \n",
    "        locations_inform.append(data) \n",
    "        time.sleep(0.5) \n",
    "    except:\n",
    "        pass\n",
    "locations_inform\n"
   ]
  },
  {
   "cell_type": "code",
   "execution_count": 19,
   "metadata": {},
   "outputs": [],
   "source": [
    "# 예제 4-29 위치정보 저장하기\n",
    "locations_inform_df = pd.DataFrame(locations_inform)\n",
    "locations_inform_df.columns = ['name_official','경도','위도','인스타위치명']\n",
    "locations_inform_df.to_excel('./files/3_3_locations.xlsx', index=False)\n"
   ]
  },
  {
   "cell_type": "code",
   "execution_count": 20,
   "metadata": {},
   "outputs": [],
   "source": [
    "# 예제 4-30 인스타 게시량 및 위치정보 데이터 불러오기\n",
    "location_counts_df = pd.read_excel('./files/3_3_location_counts.xlsx', index_col = 0)\n",
    "locations_inform_df = pd.read_excel('./files/3_3_locations.xlsx')"
   ]
  },
  {
   "cell_type": "code",
   "execution_count": 23,
   "metadata": {},
   "outputs": [
    {
     "data": {
      "text/html": [
       "<div>\n",
       "<style scoped>\n",
       "    .dataframe tbody tr th:only-of-type {\n",
       "        vertical-align: middle;\n",
       "    }\n",
       "\n",
       "    .dataframe tbody tr th {\n",
       "        vertical-align: top;\n",
       "    }\n",
       "\n",
       "    .dataframe thead th {\n",
       "        text-align: right;\n",
       "    }\n",
       "</style>\n",
       "<table border=\"1\" class=\"dataframe\">\n",
       "  <thead>\n",
       "    <tr style=\"text-align: right;\">\n",
       "      <th></th>\n",
       "      <th>name_official</th>\n",
       "      <th>경도</th>\n",
       "      <th>위도</th>\n",
       "      <th>인스타위치명</th>\n",
       "      <th>place</th>\n",
       "    </tr>\n",
       "  </thead>\n",
       "  <tbody>\n",
       "    <tr>\n",
       "      <th>0</th>\n",
       "      <td>포항역</td>\n",
       "      <td>129.341928</td>\n",
       "      <td>36.071605</td>\n",
       "      <td>Pohang</td>\n",
       "      <td>3</td>\n",
       "    </tr>\n",
       "    <tr>\n",
       "      <th>1</th>\n",
       "      <td>영일대해수욕장</td>\n",
       "      <td>129.378187</td>\n",
       "      <td>36.055070</td>\n",
       "      <td>포항 영일대해수욕장</td>\n",
       "      <td>2</td>\n",
       "    </tr>\n",
       "    <tr>\n",
       "      <th>2</th>\n",
       "      <td>월포해수욕장</td>\n",
       "      <td>129.371254</td>\n",
       "      <td>36.201648</td>\n",
       "      <td>포항 월포해수욕장</td>\n",
       "      <td>1</td>\n",
       "    </tr>\n",
       "    <tr>\n",
       "      <th>3</th>\n",
       "      <td>황리단길</td>\n",
       "      <td>129.209645</td>\n",
       "      <td>35.839335</td>\n",
       "      <td>경주 황리단길</td>\n",
       "      <td>1</td>\n",
       "    </tr>\n",
       "    <tr>\n",
       "      <th>4</th>\n",
       "      <td>호미곶</td>\n",
       "      <td>129.569737</td>\n",
       "      <td>36.078056</td>\n",
       "      <td>포항</td>\n",
       "      <td>1</td>\n",
       "    </tr>\n",
       "  </tbody>\n",
       "</table>\n",
       "</div>"
      ],
      "text/plain": [
       "  name_official          경도         위도      인스타위치명  place\n",
       "0           포항역  129.341928  36.071605      Pohang      3\n",
       "1       영일대해수욕장  129.378187  36.055070  포항 영일대해수욕장      2\n",
       "2        월포해수욕장  129.371254  36.201648   포항 월포해수욕장      1\n",
       "3          황리단길  129.209645  35.839335     경주 황리단길      1\n",
       "4           호미곶  129.569737  36.078056          포항      1"
      ]
     },
     "execution_count": 23,
     "metadata": {},
     "output_type": "execute_result"
    }
   ],
   "source": [
    "# 예제 4-31 위치 데이터 병합하기\n",
    "location_data = pd.merge(locations_inform_df, location_counts_df, \n",
    "                         how = 'inner', left_on = '인스타위치명', right_index=True)\n",
    "\n",
    "location_data.head()\n"
   ]
  },
  {
   "cell_type": "code",
   "execution_count": 24,
   "metadata": {},
   "outputs": [
    {
     "data": {
      "text/html": [
       "<div>\n",
       "<style scoped>\n",
       "    .dataframe tbody tr th:only-of-type {\n",
       "        vertical-align: middle;\n",
       "    }\n",
       "\n",
       "    .dataframe tbody tr th {\n",
       "        vertical-align: top;\n",
       "    }\n",
       "\n",
       "    .dataframe thead th {\n",
       "        text-align: right;\n",
       "    }\n",
       "</style>\n",
       "<table border=\"1\" class=\"dataframe\">\n",
       "  <thead>\n",
       "    <tr style=\"text-align: right;\">\n",
       "      <th></th>\n",
       "      <th></th>\n",
       "      <th></th>\n",
       "      <th>place</th>\n",
       "    </tr>\n",
       "    <tr>\n",
       "      <th>name_official</th>\n",
       "      <th>경도</th>\n",
       "      <th>위도</th>\n",
       "      <th></th>\n",
       "    </tr>\n",
       "  </thead>\n",
       "  <tbody>\n",
       "    <tr>\n",
       "      <th>영일대해수욕장</th>\n",
       "      <th>129.378187</th>\n",
       "      <th>36.055070</th>\n",
       "      <td>2</td>\n",
       "    </tr>\n",
       "    <tr>\n",
       "      <th>오도리간이해수욕장</th>\n",
       "      <th>129.398879</th>\n",
       "      <th>36.154936</th>\n",
       "      <td>1</td>\n",
       "    </tr>\n",
       "    <tr>\n",
       "      <th>월포해수욕장</th>\n",
       "      <th>129.371254</th>\n",
       "      <th>36.201648</th>\n",
       "      <td>1</td>\n",
       "    </tr>\n",
       "    <tr>\n",
       "      <th>포항역</th>\n",
       "      <th>129.341928</th>\n",
       "      <th>36.071605</th>\n",
       "      <td>3</td>\n",
       "    </tr>\n",
       "    <tr>\n",
       "      <th>호미곶</th>\n",
       "      <th>129.569737</th>\n",
       "      <th>36.078056</th>\n",
       "      <td>1</td>\n",
       "    </tr>\n",
       "  </tbody>\n",
       "</table>\n",
       "</div>"
      ],
      "text/plain": [
       "                                    place\n",
       "name_official 경도         위도              \n",
       "영일대해수욕장       129.378187 36.055070      2\n",
       "오도리간이해수욕장     129.398879 36.154936      1\n",
       "월포해수욕장        129.371254 36.201648      1\n",
       "포항역           129.341928 36.071605      3\n",
       "호미곶           129.569737 36.078056      1"
      ]
     },
     "execution_count": 24,
     "metadata": {},
     "output_type": "execute_result"
    }
   ],
   "source": [
    "# 추가) 동일한 name_official 가지는 데이터 --> 인스타 게시 횟수 합치기\n",
    "\n",
    "location_data = location_data.pivot_table(index = ['name_official','경도','위도'], values = 'place', aggfunc='sum')\n",
    "location_data.head()"
   ]
  },
  {
   "cell_type": "code",
   "execution_count": 25,
   "metadata": {},
   "outputs": [],
   "source": [
    "# 예제 4-32 병합한 데이터 저장하기\n",
    "location_data.to_excel('./files/3_3_location_inform.xlsx')"
   ]
  },
  {
   "cell_type": "markdown",
   "metadata": {},
   "source": [
    "### 4.3.6 folium을 이용한 지도 시각화 ① - 개별 표시"
   ]
  },
  {
   "cell_type": "code",
   "execution_count": 26,
   "metadata": {},
   "outputs": [
    {
     "name": "stdout",
     "output_type": "stream",
     "text": [
      "<class 'pandas.core.frame.DataFrame'>\n",
      "RangeIndex: 6 entries, 0 to 5\n",
      "Data columns (total 4 columns):\n",
      " #   Column         Non-Null Count  Dtype  \n",
      "---  ------         --------------  -----  \n",
      " 0   name_official  6 non-null      object \n",
      " 1   경도             6 non-null      float64\n",
      " 2   위도             6 non-null      float64\n",
      " 3   place          6 non-null      int64  \n",
      "dtypes: float64(2), int64(1), object(1)\n",
      "memory usage: 320.0+ bytes\n"
     ]
    }
   ],
   "source": [
    "# 예제 4-33 데이터 불러오기\n",
    "location_data = pd.read_excel('./files/3_3_location_inform.xlsx')\n",
    "location_data.info()"
   ]
  },
  {
   "cell_type": "code",
   "execution_count": 29,
   "metadata": {},
   "outputs": [
    {
     "data": {
      "text/html": [
       "<div style=\"width:100%;\"><div style=\"position:relative;width:100%;height:0;padding-bottom:60%;\"><span style=\"color:#565656\">Make this Notebook Trusted to load map: File -> Trust Notebook</span><iframe src=\"about:blank\" style=\"position:absolute;width:100%;height:100%;left:0;top:0;border:none !important;\" data-html=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 onload=\"this.contentDocument.open();this.contentDocument.write(atob(this.getAttribute('data-html')));this.contentDocument.close();\" allowfullscreen webkitallowfullscreen mozallowfullscreen></iframe></div></div>"
      ],
      "text/plain": [
       "<folium.folium.Map at 0x21ec4078288>"
      ]
     },
     "execution_count": 29,
     "metadata": {},
     "output_type": "execute_result"
    }
   ],
   "source": [
    "# 예제 4-34 지도 표시하기\n",
    "\n",
    "import folium\n",
    "\n",
    "Mt_Hanla =[36.055070, 129.378187]\n",
    "map_pohang = folium.Map(location = Mt_Hanla, zoom_start = 11)\n",
    "\n",
    "for i in range(len(location_data)):\n",
    "    name = location_data ['name_official'][i]    # 공식명칭\n",
    "    count = location_data ['place'][i]           # 게시글 개수\n",
    "    size = int(count)*2\n",
    "    long = float(location_data['위도'][i])      \n",
    "    lat = float(location_data['경도'][i])       \n",
    "    folium.CircleMarker((long,lat), radius = size, color='red', popup=name).add_to(map_pohang)\n",
    "    \n",
    "map_pohang\n",
    "# 주피터에서 지도 안보임"
   ]
  },
  {
   "cell_type": "code",
   "execution_count": 30,
   "metadata": {},
   "outputs": [],
   "source": [
    "# 예제 4-35 지도 저장하기\n",
    "map_pohang.save('./files/3_3_pohang.html') "
   ]
  },
  {
   "cell_type": "markdown",
   "metadata": {},
   "source": [
    "### 4.3.7 folium을 이용한 지도 시각화 ② - 그룹으로 표시"
   ]
  },
  {
   "cell_type": "code",
   "execution_count": 32,
   "metadata": {
    "scrolled": true
   },
   "outputs": [
    {
     "data": {
      "text/html": [
       "<div style=\"width:100%;\"><div style=\"position:relative;width:100%;height:0;padding-bottom:60%;\"><span style=\"color:#565656\">Make this Notebook Trusted to load map: File -> Trust Notebook</span><iframe src=\"about:blank\" style=\"position:absolute;width:100%;height:100%;left:0;top:0;border:none !important;\" data-html=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 onload=\"this.contentDocument.open();this.contentDocument.write(atob(this.getAttribute('data-html')));this.contentDocument.close();\" allowfullscreen webkitallowfullscreen mozallowfullscreen></iframe></div></div>"
      ],
      "text/plain": [
       "<folium.folium.Map at 0x21ec405f9c8>"
      ]
     },
     "execution_count": 32,
     "metadata": {},
     "output_type": "execute_result"
    }
   ],
   "source": [
    "# 예제 4-36 지도 표시하기(마커 집합)\n",
    "\n",
    "from folium.plugins import MarkerCluster\n",
    "\n",
    "locations = []\n",
    "names = []\n",
    "\n",
    "for i in range(len(location_data)):\n",
    "    data = location_data.iloc[i]  # 행 하나씩\n",
    "    locations.append((float(data['위도']),float(data['경도'])))    # 위도 , 경도 순으로..\n",
    "    names.append(data['name_official'])\n",
    "\n",
    "icon_create_function = \"\"\"\\\n",
    "function(cluster) {\n",
    "    return L.divIcon({\n",
    "    html: '<b>' + cluster.getChildCount() + '</b>',\n",
    "    className: 'marker-cluster marker-cluster-large',\n",
    "    iconSize: new L.Point(30, 30)\n",
    "    });\n",
    "}\"\"\"\n",
    "\n",
    "Mt_Hanla =[36.055070, 129.378187]\n",
    "map_pohang2 = folium.Map(location = Mt_Hanla, zoom_start = 11)\n",
    "                       \n",
    "marker_cluster = MarkerCluster(\n",
    "    locations=locations, popups=names,\n",
    "    name='Pohang',\n",
    "    overlay=True,\n",
    "    control=True,\n",
    "    icon_create_function=icon_create_function\n",
    ")\n",
    "\n",
    "marker_cluster.add_to(map_pohang2)\n",
    "folium.LayerControl().add_to(map_pohang2)\n",
    "\n",
    "map_pohang2\n"
   ]
  },
  {
   "cell_type": "code",
   "execution_count": null,
   "metadata": {},
   "outputs": [],
   "source": []
  },
  {
   "cell_type": "code",
   "execution_count": 33,
   "metadata": {},
   "outputs": [],
   "source": [
    "# 예제 4-37 지도 저장하기\n",
    "map_pohang2.save('./files/3_3_pohang_cluster.html') "
   ]
  }
 ],
 "metadata": {
  "kernelspec": {
   "display_name": "Python 3",
   "language": "python",
   "name": "python3"
  },
  "language_info": {
   "codemirror_mode": {
    "name": "ipython",
    "version": 3
   },
   "file_extension": ".py",
   "mimetype": "text/x-python",
   "name": "python",
   "nbconvert_exporter": "python",
   "pygments_lexer": "ipython3",
   "version": "3.7.6"
  }
 },
 "nbformat": 4,
 "nbformat_minor": 2
}
