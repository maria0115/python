{
 "cells": [
  {
   "cell_type": "code",
   "execution_count": 2,
   "metadata": {},
   "outputs": [],
   "source": [
    "critics = { 'me': { '해물파전': 3, '설렁탕': 2, '짜장면': 5}, 'other1': { '해장국': 1, '김치찌개': 1, '간장게장': 5, '비빔밥': 4, 'The Night Listener': 3.0, 'You, Me and Dupree': 3.5 }, 'Michael Phillips': { 'Lady in the Water': 2.5, 'Snakes on a Plane': 3.5, 'Superman Returns': 3.5, 'The Night Listener': 4.0 }, 'Claudia Puig': { 'Snakes on a Plane': 3.5, 'Just My Luck': 3.0, 'The Night Listener': 4.5, 'Superman Returns': 4.0, 'You, Me and Dupree': 2.5 }, 'Mick LaSalle': { 'Lady in the Water': 3.0, 'Snakes on a Plane': 4.0, 'Just My Luck': 2.0, 'Superman Returns': 3.0, 'The Night Listener': 3.0, 'You, Me and Dupree': 2.0 }, 'Jack Mattheuws': { 'Lady in the Water': 3.0, 'Snakes on a Plane': 4.0, 'The Night Listener': 3.0, 'Superman Returns': 5.0, 'You, Me and Dupree': 3.5 }, 'Toby': { 'Snakes on a Plane': 4.5, 'You, Me and Dupree': 1.0, 'Superman Returns': 4.0 } }\n"
   ]
  },
  {
   "cell_type": "code",
   "execution_count": 48,
   "metadata": {},
   "outputs": [],
   "source": [
    "from math import sqrt \n",
    "# sqrt(pow(x1-x2) + pow(y1-y2))\n",
    "\n",
    "\n"
   ]
  },
  {
   "cell_type": "code",
   "execution_count": 11,
   "metadata": {},
   "outputs": [],
   "source": [
    "# 1/(1+sqrt(pow(x1-x2) + pow(y1-y2)))"
   ]
  },
  {
   "cell_type": "code",
   "execution_count": 3,
   "metadata": {},
   "outputs": [
    {
     "name": "stdout",
     "output_type": "stream",
     "text": [
      "Toby and Lisa Rose 0.3483314773547883\n",
      "Toby and Gene Seymour 0.25824569976124334\n",
      "Toby and Michael Phillips 0.4721359549995794\n",
      "Toby and Claudia Puig 0.3567891723253309\n",
      "Toby and Mick LaSalle 0.4\n",
      "Toby and Jack Mattheuws 0.2674788903885893\n",
      "Toby and Toby 1.0\n"
     ]
    }
   ],
   "source": [
    "import recommendations as re\n",
    "for item in critics:\n",
    "    print(\"Toby and\", item, re.sim_distance(critics, 'Toby', item) )\n",
    "\n"
   ]
  },
  {
   "cell_type": "code",
   "execution_count": 4,
   "metadata": {},
   "outputs": [
    {
     "name": "stdout",
     "output_type": "stream",
     "text": [
      "18.0\n",
      "Lisa Rose and Lisa Rose 1.0\n",
      "18.0\n",
      "Lisa Rose and Gene Seymour 0.39605901719066977\n",
      "12.5\n",
      "Lisa Rose and Michael Phillips 0.6225430174794672\n",
      "15.5\n",
      "Lisa Rose and Claudia Puig 0.5669467095138396\n",
      "18.0\n",
      "Lisa Rose and Mick LaSalle 0.5940885257860044\n",
      "15.0\n",
      "Lisa Rose and Jack Mattheuws 0.7470178808339965\n",
      "9.5\n",
      "Lisa Rose and Toby 0.9912407071619299\n"
     ]
    }
   ],
   "source": [
    "\n",
    "for item in critics: \n",
    "    print (\"Lisa Rose and\", item, re.sim_pearson(critics, \"Lisa Rose\", item))\n"
   ]
  },
  {
   "cell_type": "code",
   "execution_count": 5,
   "metadata": {},
   "outputs": [
    {
     "name": "stdout",
     "output_type": "stream",
     "text": [
      "9.5\n",
      "9.5\n",
      "8.5\n",
      "9.5\n",
      "9.5\n",
      "9.5\n",
      "Toby and Lisa Rose 0.9912407071619299\n",
      "Toby and Mick LaSalle 0.9244734516419049\n",
      "Toby and Claudia Puig 0.8934051474415647\n",
      "Toby and Jack Mattheuws 0.66284898035987\n",
      "Toby and Gene Seymour 0.38124642583151164\n"
     ]
    }
   ],
   "source": [
    "\n",
    "for score, other in re.top_matches(critics, \"Toby\"): \n",
    "    print (\"Toby and\", other, score)\n"
   ]
  },
  {
   "cell_type": "code",
   "execution_count": 6,
   "metadata": {},
   "outputs": [
    {
     "name": "stdout",
     "output_type": "stream",
     "text": [
      "9.5\n",
      "Toby and Lisa Rose 0.99\n",
      "9.5\n",
      "Toby and Gene Seymour 0.38\n",
      "8.5\n",
      "Toby and Michael Phillips 0\n",
      "9.5\n",
      "Toby and Claudia Puig 0.89\n",
      "9.5\n",
      "Toby and Mick LaSalle 0.92\n",
      "9.5\n",
      "Toby and Jack Mattheuws 0.66\n"
     ]
    }
   ],
   "source": [
    "for item in [item for item in critics if item!=\"Toby\"]:\n",
    "    print (\"Toby and\", item, round(re.sim_pearson(critics, \"Toby\", item),2))"
   ]
  },
  {
   "cell_type": "code",
   "execution_count": 7,
   "metadata": {},
   "outputs": [
    {
     "name": "stdout",
     "output_type": "stream",
     "text": [
      "9.5\n",
      "9.5\n",
      "8.5\n",
      "9.5\n",
      "9.5\n",
      "9.5\n",
      "The Night Listener 3.35\n",
      "Lady in the Water 2.83\n",
      "Just My Luck 2.53\n"
     ]
    }
   ],
   "source": [
    "\n",
    "for score, item in re.get_recommendations(critics, \"Toby\"):\n",
    "    print (item, round(score,2))\n"
   ]
  },
  {
   "cell_type": "code",
   "execution_count": 8,
   "metadata": {},
   "outputs": [
    {
     "name": "stdout",
     "output_type": "stream",
     "text": [
      "The Night Listener 3.48\n",
      "Lady in the Water 2.77\n",
      "Just My Luck 2.42\n"
     ]
    }
   ],
   "source": [
    "for score, item in re.get_recommendations(critics, \"Toby\", similarity=re.sim_distance):\n",
    "    print(item, round(score,2))\n"
   ]
  },
  {
   "cell_type": "code",
   "execution_count": 9,
   "metadata": {},
   "outputs": [
    {
     "name": "stdout",
     "output_type": "stream",
     "text": [
      "20.0\n",
      "28.0\n",
      "15.5\n",
      "24.5\n",
      "24.0\n",
      "You, Me and Dupree 0.66\n",
      "Lady in the Water 0.49\n",
      "Snakes on a Plane 0.0\n",
      "The Night Listener -0.18\n",
      "Just My Luck -0.42\n"
     ]
    }
   ],
   "source": [
    "\n",
    "transformed = re.transform_prefs(critics)\n",
    "for score, item in re.top_matches(transformed, \"Superman Returns\"):\n",
    "    print(item, round(score,2))\n",
    "#이는 Superman Returns를 좋아하는 사람들은 Just My Luck 영화를 싫어하는 경향이 있다\n"
   ]
  },
  {
   "cell_type": "code",
   "execution_count": null,
   "metadata": {},
   "outputs": [],
   "source": []
  },
  {
   "cell_type": "code",
   "execution_count": null,
   "metadata": {},
   "outputs": [],
   "source": []
  },
  {
   "cell_type": "code",
   "execution_count": null,
   "metadata": {},
   "outputs": [],
   "source": []
  },
  {
   "cell_type": "code",
   "execution_count": null,
   "metadata": {},
   "outputs": [],
   "source": []
  }
 ],
 "metadata": {
  "kernelspec": {
   "display_name": "Python 3",
   "language": "python",
   "name": "python3"
  },
  "language_info": {
   "codemirror_mode": {
    "name": "ipython",
    "version": 3
   },
   "file_extension": ".py",
   "mimetype": "text/x-python",
   "name": "python",
   "nbconvert_exporter": "python",
   "pygments_lexer": "ipython3",
   "version": "3.7.6"
  }
 },
 "nbformat": 4,
 "nbformat_minor": 4
}
