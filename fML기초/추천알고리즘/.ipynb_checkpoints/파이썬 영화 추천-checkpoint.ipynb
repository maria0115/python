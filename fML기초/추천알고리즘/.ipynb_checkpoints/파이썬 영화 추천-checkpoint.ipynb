{
 "cells": [
  {
   "cell_type": "code",
   "execution_count": 2,
   "metadata": {},
   "outputs": [],
   "source": [
    "critics = { 'Lisa Rose': { 'Lady in the Water': 2.5, 'Snakes on a Plane': 3.5, 'Just My Luck': 3.0, 'Superman Returns': 3.5, 'You, Me and Dupree': 2.5, 'The Night Listener': 3.0 }, 'Gene Seymour': { 'Lady in the Water': 3.0, 'Snakes on a Plane': 3.5, 'Just My Luck': 1.5, 'Superman Returns': 5.0, 'The Night Listener': 3.0, 'You, Me and Dupree': 3.5 }, 'Michael Phillips': { 'Lady in the Water': 2.5, 'Snakes on a Plane': 3.5, 'Superman Returns': 3.5, 'The Night Listener': 4.0 }, 'Claudia Puig': { 'Snakes on a Plane': 3.5, 'Just My Luck': 3.0, 'The Night Listener': 4.5, 'Superman Returns': 4.0, 'You, Me and Dupree': 2.5 }, 'Mick LaSalle': { 'Lady in the Water': 3.0, 'Snakes on a Plane': 4.0, 'Just My Luck': 2.0, 'Superman Returns': 3.0, 'The Night Listener': 3.0, 'You, Me and Dupree': 2.0 }, 'Jack Mattheuws': { 'Lady in the Water': 3.0, 'Snakes on a Plane': 4.0, 'The Night Listener': 3.0, 'Superman Returns': 5.0, 'You, Me and Dupree': 3.5 }, 'Toby': { 'Snakes on a Plane': 4.5, 'You, Me and Dupree': 1.0, 'Superman Returns': 4.0 } }\n"
   ]
  },
  {
   "cell_type": "code",
   "execution_count": 48,
   "metadata": {},
   "outputs": [],
   "source": [
    "from math import sqrt \n",
    "# sqrt(pow(x1-x2) + pow(y1-y2))\n",
    "\n",
    "\n"
   ]
  },
  {
   "cell_type": "code",
   "execution_count": 11,
   "metadata": {},
   "outputs": [],
   "source": [
    "# 1/(1+sqrt(pow(x1-x2) + pow(y1-y2)))"
   ]
  },
  {
   "cell_type": "code",
   "execution_count": 15,
   "metadata": {},
   "outputs": [
    {
     "name": "stdout",
     "output_type": "stream",
     "text": [
      "Toby and Lisa Rose 0.3483314773547883\n",
      "Toby and Gene Seymour 0.25824569976124334\n",
      "Toby and Michael Phillips 0.4721359549995794\n",
      "Toby and Claudia Puig 0.3567891723253309\n",
      "Toby and Mick LaSalle 0.4\n",
      "Toby and Jack Mattheuws 0.2674788903885893\n",
      "Toby and Toby 1.0\n"
     ]
    }
   ],
   "source": [
    "import recommendation\n",
    "for item in critics:\n",
    "    print(\"Toby and\", item, recommendation.sim_distance(critics, 'Toby', item) )\n",
    "\n"
   ]
  },
  {
   "cell_type": "code",
   "execution_count": 3,
   "metadata": {},
   "outputs": [
    {
     "name": "stdout",
     "output_type": "stream",
     "text": [
      "18.0\n",
      "Lisa Rose and Lisa Rose 1.0\n",
      "18.0\n",
      "Lisa Rose and Gene Seymour 0.39605901719066977\n",
      "12.5\n",
      "Lisa Rose and Michael Phillips 0.6225430174794672\n",
      "15.5\n",
      "Lisa Rose and Claudia Puig 0.5669467095138396\n",
      "18.0\n",
      "Lisa Rose and Mick LaSalle 0.5940885257860044\n",
      "15.0\n",
      "Lisa Rose and Jack Mattheuws 0.7470178808339965\n",
      "9.5\n",
      "Lisa Rose and Toby 0.9912407071619299\n"
     ]
    }
   ],
   "source": [
    "import recommendations\n",
    "for item in critics: \n",
    "    print (\"Lisa Rose and\", item, recommendations.sim_pearson(critics, \"Lisa Rose\", item))\n"
   ]
  },
  {
   "cell_type": "code",
   "execution_count": 3,
   "metadata": {},
   "outputs": [
    {
     "name": "stdout",
     "output_type": "stream",
     "text": [
      "9.5\n",
      "9.5\n",
      "8.5\n",
      "9.5\n",
      "9.5\n",
      "9.5\n",
      "Toby and Lisa Rose 0.9912407071619299\n",
      "Toby and Mick LaSalle 0.9244734516419049\n",
      "Toby and Claudia Puig 0.8934051474415647\n",
      "Toby and Jack Mattheuws 0.66284898035987\n",
      "Toby and Gene Seymour 0.38124642583151164\n"
     ]
    }
   ],
   "source": [
    "import recommendations\n",
    "for score, other in recommendations.top_matches(critics, \"Toby\"): \n",
    "    print (\"Toby and\", other, score)\n"
   ]
  },
  {
   "cell_type": "code",
   "execution_count": 8,
   "metadata": {},
   "outputs": [
    {
     "name": "stdout",
     "output_type": "stream",
     "text": [
      "9.5\n",
      "Toby and Lisa Rose 0.99\n",
      "9.5\n",
      "Toby and Gene Seymour 0.38\n",
      "8.5\n",
      "Toby and Michael Phillips 0\n",
      "9.5\n",
      "Toby and Claudia Puig 0.89\n",
      "9.5\n",
      "Toby and Mick LaSalle 0.92\n",
      "9.5\n",
      "Toby and Jack Mattheuws 0.66\n"
     ]
    }
   ],
   "source": [
    "for item in [item for item in critics if item!=\"Toby\"]:\n",
    "    print (\"Toby and\", item, round(recommendations.sim_pearson(critics, \"Toby\", item),2))"
   ]
  },
  {
   "cell_type": "code",
   "execution_count": 10,
   "metadata": {},
   "outputs": [
    {
     "name": "stdout",
     "output_type": "stream",
     "text": [
      "9.5\n",
      "9.5\n",
      "8.5\n",
      "9.5\n",
      "9.5\n",
      "9.5\n",
      "The Night Listener 3.35\n",
      "Lady in the Water 2.83\n",
      "Just My Luck 2.53\n"
     ]
    }
   ],
   "source": [
    "import recommendations as re\n",
    "for score, item in re.get_recommendations(critics, \"Toby\"):\n",
    "    print (item, round(score,2))\n"
   ]
  },
  {
   "cell_type": "code",
   "execution_count": 19,
   "metadata": {},
   "outputs": [
    {
     "ename": "AttributeError",
     "evalue": "module 'recommendations' has no attribute 'sim_distance'",
     "output_type": "error",
     "traceback": [
      "\u001b[1;31m---------------------------------------------------------------------------\u001b[0m",
      "\u001b[1;31mAttributeError\u001b[0m                            Traceback (most recent call last)",
      "\u001b[1;32m<ipython-input-19-66a6de079840>\u001b[0m in \u001b[0;36m<module>\u001b[1;34m\u001b[0m\n\u001b[1;32m----> 1\u001b[1;33m \u001b[1;32mfor\u001b[0m \u001b[0mscore\u001b[0m\u001b[1;33m,\u001b[0m \u001b[0mitem\u001b[0m \u001b[1;32min\u001b[0m \u001b[0mre\u001b[0m\u001b[1;33m.\u001b[0m\u001b[0mget_recommendations\u001b[0m\u001b[1;33m(\u001b[0m\u001b[0mcritics\u001b[0m\u001b[1;33m,\u001b[0m \u001b[1;34m\"Toby\"\u001b[0m\u001b[1;33m,\u001b[0m \u001b[0msimilarity\u001b[0m\u001b[1;33m=\u001b[0m\u001b[0mre\u001b[0m\u001b[1;33m.\u001b[0m\u001b[0msim_distance\u001b[0m\u001b[1;33m)\u001b[0m\u001b[1;33m:\u001b[0m\u001b[1;33m\u001b[0m\u001b[1;33m\u001b[0m\u001b[0m\n\u001b[0m\u001b[0;32m      2\u001b[0m     \u001b[0mprint\u001b[0m\u001b[1;33m(\u001b[0m\u001b[0mitem\u001b[0m\u001b[1;33m,\u001b[0m \u001b[0mround\u001b[0m\u001b[1;33m(\u001b[0m\u001b[0mscore\u001b[0m\u001b[1;33m,\u001b[0m\u001b[1;36m2\u001b[0m\u001b[1;33m)\u001b[0m\u001b[1;33m)\u001b[0m\u001b[1;33m\u001b[0m\u001b[1;33m\u001b[0m\u001b[0m\n",
      "\u001b[1;31mAttributeError\u001b[0m: module 'recommendations' has no attribute 'sim_distance'"
     ]
    }
   ],
   "source": [
    "for score, item in re.get_recommendations(critics, \"Toby\", similarity=re.sim_distance):\n",
    "    print(item, round(score,2))\n"
   ]
  },
  {
   "cell_type": "code",
   "execution_count": 18,
   "metadata": {},
   "outputs": [
    {
     "name": "stdout",
     "output_type": "stream",
     "text": [
      "20.0\n",
      "28.0\n",
      "15.5\n",
      "24.5\n",
      "24.0\n",
      "You, Me and Dupree 0.66\n",
      "Lady in the Water 0.49\n",
      "Snakes on a Plane 0.0\n",
      "The Night Listener -0.18\n",
      "Just My Luck -0.42\n"
     ]
    }
   ],
   "source": [
    "import recommendations as re\n",
    "transformed = re.transform_prefs(critics)\n",
    "for score, item in re.top_matches(transformed, \"Superman Returns\"):\n",
    "    print(item, round(score,2))\n",
    "#이는 Superman Returns를 좋아하는 사람들은 Just My Luck 영화를 싫어하는 경향이 있다\n"
   ]
  },
  {
   "cell_type": "code",
   "execution_count": null,
   "metadata": {},
   "outputs": [],
   "source": []
  },
  {
   "cell_type": "code",
   "execution_count": null,
   "metadata": {},
   "outputs": [],
   "source": []
  },
  {
   "cell_type": "code",
   "execution_count": null,
   "metadata": {},
   "outputs": [],
   "source": []
  },
  {
   "cell_type": "code",
   "execution_count": null,
   "metadata": {},
   "outputs": [],
   "source": []
  }
 ],
 "metadata": {
  "kernelspec": {
   "display_name": "Python 3",
   "language": "python",
   "name": "python3"
  },
  "language_info": {
   "codemirror_mode": {
    "name": "ipython",
    "version": 3
   },
   "file_extension": ".py",
   "mimetype": "text/x-python",
   "name": "python",
   "nbconvert_exporter": "python",
   "pygments_lexer": "ipython3",
   "version": "3.7.6"
  }
 },
 "nbformat": 4,
 "nbformat_minor": 4
}
