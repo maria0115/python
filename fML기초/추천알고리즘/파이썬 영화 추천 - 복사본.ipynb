{
 "cells": [
  {
   "cell_type": "code",
   "execution_count": 20,
   "metadata": {},
   "outputs": [],
   "source": [
    "otherdic = {'me': { '해장국': 1, '김치찌개': 1, '짜장면': 10, '간장게장': 5, '비빔밥': 4, '해물파전': 2, '된장찌개': 7 , '보쌈': 2},\n",
    "            'other1': { '해물파전': 3, '설렁탕': 2, '짜장면': 5}, \n",
    "            'other2': { '간장게장': 5, '비빔밥': 2, '떡볶이': 1, '순대': 3, '짬뽕': 5, '된장찌개': 2, '닭갈비': 21 }, \n",
    "            'other3': { '감자탕': 7, '순대': 2, '갈비': 4, '치킨': 8, '해장국': 3, '곱창': 1, '설렁탕': 1 }, \n",
    "            'other4': { '콩국수': 1, '감자탕': 1, '떡볶이': 1, '비빔밥': 1, '해물파전': 1, '간장게장': 2, '보쌈': 2 }}\n"
   ]
  },
  {
   "cell_type": "code",
   "execution_count": 6,
   "metadata": {},
   "outputs": [],
   "source": [
    "from math import sqrt \n",
    "# sqrt(pow(x1-x2) + pow(y1-y2))\n",
    "\n",
    "\n"
   ]
  },
  {
   "cell_type": "code",
   "execution_count": 11,
   "metadata": {},
   "outputs": [],
   "source": [
    "# 1/(1+sqrt(pow(x1-x2) + pow(y1-y2)))"
   ]
  },
  {
   "cell_type": "code",
   "execution_count": 23,
   "metadata": {},
   "outputs": [
    {
     "name": "stdout",
     "output_type": "stream",
     "text": [
      "me and other1 0.1639607805437114\n",
      "me and me 1.0\n",
      "me and other2 0.1566130288262323\n",
      "me and other3 0.3333333333333333\n",
      "me and other4 0.18660549686337075\n"
     ]
    }
   ],
   "source": [
    "import recommendations as re\n",
    "for item in critics:\n",
    "    print(\"me and\", item, re.sim_distance(critics, 'me', item) )\n",
    "\n"
   ]
  },
  {
   "cell_type": "code",
   "execution_count": 22,
   "metadata": {},
   "outputs": [
    {
     "name": "stdout",
     "output_type": "stream",
     "text": [
      "12\n",
      "me and other1 1.0\n",
      "32\n",
      "me and me 1.0\n",
      "16\n",
      "me and other2 -0.18898223650461352\n",
      "1\n",
      "me and other3 0\n",
      "13\n",
      "me and other4 0.19245008972987526\n"
     ]
    }
   ],
   "source": [
    "\n",
    "for item in critics: \n",
    "    print (\"me and\", item, re.sim_pearson(critics, \"me\", item))\n"
   ]
  },
  {
   "cell_type": "code",
   "execution_count": 21,
   "metadata": {},
   "outputs": [
    {
     "name": "stdout",
     "output_type": "stream",
     "text": [
      "12\n",
      "16\n",
      "1\n",
      "13\n",
      "me and other1 1.0\n",
      "me and other4 0.19245008972987526\n",
      "me and other3 0\n",
      "me and other2 -0.18898223650461352\n"
     ]
    }
   ],
   "source": [
    "\n",
    "for score, other in re.top_matches(critics, \"me\"): \n",
    "    print (\"me and\", other, score)\n"
   ]
  },
  {
   "cell_type": "code",
   "execution_count": 6,
   "metadata": {},
   "outputs": [
    {
     "name": "stdout",
     "output_type": "stream",
     "text": [
      "9.5\n",
      "Toby and Lisa Rose 0.99\n",
      "9.5\n",
      "Toby and Gene Seymour 0.38\n",
      "8.5\n",
      "Toby and Michael Phillips 0\n",
      "9.5\n",
      "Toby and Claudia Puig 0.89\n",
      "9.5\n",
      "Toby and Mick LaSalle 0.92\n",
      "9.5\n",
      "Toby and Jack Mattheuws 0.66\n"
     ]
    }
   ],
   "source": [
    "for item in [item for item in critics if item!=\"Toby\"]:\n",
    "    print (\"Toby and\", item, round(re.sim_pearson(critics, \"Toby\", item),2))"
   ]
  },
  {
   "cell_type": "code",
   "execution_count": 7,
   "metadata": {},
   "outputs": [
    {
     "name": "stdout",
     "output_type": "stream",
     "text": [
      "9.5\n",
      "9.5\n",
      "8.5\n",
      "9.5\n",
      "9.5\n",
      "9.5\n",
      "The Night Listener 3.35\n",
      "Lady in the Water 2.83\n",
      "Just My Luck 2.53\n"
     ]
    }
   ],
   "source": [
    "\n",
    "for score, item in re.get_recommendations(critics, \"Toby\"):\n",
    "    print (item, round(score,2))\n"
   ]
  },
  {
   "cell_type": "code",
   "execution_count": 8,
   "metadata": {},
   "outputs": [
    {
     "name": "stdout",
     "output_type": "stream",
     "text": [
      "The Night Listener 3.48\n",
      "Lady in the Water 2.77\n",
      "Just My Luck 2.42\n"
     ]
    }
   ],
   "source": [
    "for score, item in re.get_recommendations(critics, \"Toby\", similarity=re.sim_distance):\n",
    "    print(item, round(score,2))\n"
   ]
  },
  {
   "cell_type": "code",
   "execution_count": 9,
   "metadata": {},
   "outputs": [
    {
     "name": "stdout",
     "output_type": "stream",
     "text": [
      "20.0\n",
      "28.0\n",
      "15.5\n",
      "24.5\n",
      "24.0\n",
      "You, Me and Dupree 0.66\n",
      "Lady in the Water 0.49\n",
      "Snakes on a Plane 0.0\n",
      "The Night Listener -0.18\n",
      "Just My Luck -0.42\n"
     ]
    }
   ],
   "source": [
    "\n",
    "transformed = re.transform_prefs(critics)\n",
    "for score, item in re.top_matches(transformed, \"Superman Returns\"):\n",
    "    print(item, round(score,2))\n",
    "#이는 Superman Returns를 좋아하는 사람들은 Just My Luck 영화를 싫어하는 경향이 있다\n"
   ]
  },
  {
   "cell_type": "code",
   "execution_count": null,
   "metadata": {},
   "outputs": [],
   "source": []
  },
  {
   "cell_type": "code",
   "execution_count": null,
   "metadata": {},
   "outputs": [],
   "source": []
  },
  {
   "cell_type": "code",
   "execution_count": null,
   "metadata": {},
   "outputs": [],
   "source": []
  },
  {
   "cell_type": "code",
   "execution_count": null,
   "metadata": {},
   "outputs": [],
   "source": []
  }
 ],
 "metadata": {
  "kernelspec": {
   "display_name": "Python 3",
   "language": "python",
   "name": "python3"
  },
  "language_info": {
   "codemirror_mode": {
    "name": "ipython",
    "version": 3
   },
   "file_extension": ".py",
   "mimetype": "text/x-python",
   "name": "python",
   "nbconvert_exporter": "python",
   "pygments_lexer": "ipython3",
   "version": "3.7.6"
  }
 },
 "nbformat": 4,
 "nbformat_minor": 4
}
