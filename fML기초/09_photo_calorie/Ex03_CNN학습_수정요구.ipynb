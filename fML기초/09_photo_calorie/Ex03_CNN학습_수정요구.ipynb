{
 "cells": [
  {
   "cell_type": "markdown",
   "metadata": {},
   "source": [
    "cnn_model.py 파일에 함수를 선언하고 호출하는 방식으로 진행"
   ]
  },
  {
   "cell_type": "code",
   "execution_count": 1,
   "metadata": {},
   "outputs": [
    {
     "name": "stdout",
     "output_type": "stream",
     "text": [
      "Requirement already satisfied: tensorflow in c:\\programdata\\anaconda3\\lib\\site-packages (2.2.0)\n",
      "Requirement already satisfied: grpcio>=1.8.6 in c:\\programdata\\anaconda3\\lib\\site-packages (from tensorflow) (1.30.0)\n",
      "Requirement already satisfied: keras-preprocessing>=1.1.0 in c:\\programdata\\anaconda3\\lib\\site-packages (from tensorflow) (1.1.2)\n",
      "Requirement already satisfied: google-pasta>=0.1.8 in c:\\programdata\\anaconda3\\lib\\site-packages (from tensorflow) (0.2.0)\n",
      "Requirement already satisfied: wrapt>=1.11.1 in c:\\programdata\\anaconda3\\lib\\site-packages (from tensorflow) (1.11.2)\n",
      "Requirement already satisfied: opt-einsum>=2.3.2 in c:\\programdata\\anaconda3\\lib\\site-packages (from tensorflow) (3.2.1)\n",
      "Requirement already satisfied: tensorboard<2.3.0,>=2.2.0 in c:\\programdata\\anaconda3\\lib\\site-packages (from tensorflow) (2.2.2)\n",
      "Requirement already satisfied: scipy==1.4.1; python_version >= \"3\" in c:\\programdata\\anaconda3\\lib\\site-packages (from tensorflow) (1.4.1)\n",
      "Requirement already satisfied: h5py<2.11.0,>=2.10.0 in c:\\programdata\\anaconda3\\lib\\site-packages (from tensorflow) (2.10.0)\n",
      "Requirement already satisfied: tensorflow-estimator<2.3.0,>=2.2.0 in c:\\programdata\\anaconda3\\lib\\site-packages (from tensorflow) (2.2.0)\n",
      "Requirement already satisfied: wheel>=0.26; python_version >= \"3\" in c:\\programdata\\anaconda3\\lib\\site-packages (from tensorflow) (0.34.2)\n",
      "Requirement already satisfied: six>=1.12.0 in c:\\programdata\\anaconda3\\lib\\site-packages (from tensorflow) (1.14.0)\n",
      "Requirement already satisfied: absl-py>=0.7.0 in c:\\programdata\\anaconda3\\lib\\site-packages (from tensorflow) (0.9.0)\n",
      "Requirement already satisfied: astunparse==1.6.3 in c:\\programdata\\anaconda3\\lib\\site-packages (from tensorflow) (1.6.3)\n",
      "Requirement already satisfied: protobuf>=3.8.0 in c:\\programdata\\anaconda3\\lib\\site-packages (from tensorflow) (3.12.2)\n",
      "Requirement already satisfied: gast==0.3.3 in c:\\programdata\\anaconda3\\lib\\site-packages (from tensorflow) (0.3.3)\n",
      "Requirement already satisfied: numpy<2.0,>=1.16.0 in c:\\programdata\\anaconda3\\lib\\site-packages (from tensorflow) (1.16.1)\n",
      "Requirement already satisfied: termcolor>=1.1.0 in c:\\programdata\\anaconda3\\lib\\site-packages (from tensorflow) (1.1.0)\n",
      "Requirement already satisfied: google-auth<2,>=1.6.3 in c:\\programdata\\anaconda3\\lib\\site-packages (from tensorboard<2.3.0,>=2.2.0->tensorflow) (1.18.0)\n",
      "Requirement already satisfied: requests<3,>=2.21.0 in c:\\programdata\\anaconda3\\lib\\site-packages (from tensorboard<2.3.0,>=2.2.0->tensorflow) (2.22.0)\n",
      "Requirement already satisfied: markdown>=2.6.8 in c:\\programdata\\anaconda3\\lib\\site-packages (from tensorboard<2.3.0,>=2.2.0->tensorflow) (3.2.2)\n",
      "Requirement already satisfied: werkzeug>=0.11.15 in c:\\programdata\\anaconda3\\lib\\site-packages (from tensorboard<2.3.0,>=2.2.0->tensorflow) (1.0.0)\n",
      "Requirement already satisfied: tensorboard-plugin-wit>=1.6.0 in c:\\programdata\\anaconda3\\lib\\site-packages (from tensorboard<2.3.0,>=2.2.0->tensorflow) (1.7.0)\n",
      "Requirement already satisfied: google-auth-oauthlib<0.5,>=0.4.1 in c:\\programdata\\anaconda3\\lib\\site-packages (from tensorboard<2.3.0,>=2.2.0->tensorflow) (0.4.1)\n",
      "Requirement already satisfied: setuptools>=41.0.0 in c:\\programdata\\anaconda3\\lib\\site-packages (from tensorboard<2.3.0,>=2.2.0->tensorflow) (45.2.0.post20200210)\n",
      "Requirement already satisfied: cachetools<5.0,>=2.0.0 in c:\\programdata\\anaconda3\\lib\\site-packages (from google-auth<2,>=1.6.3->tensorboard<2.3.0,>=2.2.0->tensorflow) (4.1.1)\n",
      "Requirement already satisfied: rsa<5,>=3.1.4; python_version >= \"3\" in c:\\programdata\\anaconda3\\lib\\site-packages (from google-auth<2,>=1.6.3->tensorboard<2.3.0,>=2.2.0->tensorflow) (4.6)\n",
      "Requirement already satisfied: pyasn1-modules>=0.2.1 in c:\\programdata\\anaconda3\\lib\\site-packages (from google-auth<2,>=1.6.3->tensorboard<2.3.0,>=2.2.0->tensorflow) (0.2.8)\n",
      "Requirement already satisfied: urllib3!=1.25.0,!=1.25.1,<1.26,>=1.21.1 in c:\\programdata\\anaconda3\\lib\\site-packages (from requests<3,>=2.21.0->tensorboard<2.3.0,>=2.2.0->tensorflow) (1.25.8)\n",
      "Requirement already satisfied: chardet<3.1.0,>=3.0.2 in c:\\programdata\\anaconda3\\lib\\site-packages (from requests<3,>=2.21.0->tensorboard<2.3.0,>=2.2.0->tensorflow) (3.0.4)\n",
      "Requirement already satisfied: certifi>=2017.4.17 in c:\\programdata\\anaconda3\\lib\\site-packages (from requests<3,>=2.21.0->tensorboard<2.3.0,>=2.2.0->tensorflow) (2019.11.28)\n",
      "Requirement already satisfied: idna<2.9,>=2.5 in c:\\programdata\\anaconda3\\lib\\site-packages (from requests<3,>=2.21.0->tensorboard<2.3.0,>=2.2.0->tensorflow) (2.8)\n",
      "Requirement already satisfied: importlib-metadata; python_version < \"3.8\" in c:\\programdata\\anaconda3\\lib\\site-packages (from markdown>=2.6.8->tensorboard<2.3.0,>=2.2.0->tensorflow) (1.5.0)\n",
      "Requirement already satisfied: requests-oauthlib>=0.7.0 in c:\\programdata\\anaconda3\\lib\\site-packages (from google-auth-oauthlib<0.5,>=0.4.1->tensorboard<2.3.0,>=2.2.0->tensorflow) (1.3.0)\n",
      "Requirement already satisfied: pyasn1>=0.1.3 in c:\\programdata\\anaconda3\\lib\\site-packages (from rsa<5,>=3.1.4; python_version >= \"3\"->google-auth<2,>=1.6.3->tensorboard<2.3.0,>=2.2.0->tensorflow) (0.4.8)\n",
      "Requirement already satisfied: zipp>=0.5 in c:\\programdata\\anaconda3\\lib\\site-packages (from importlib-metadata; python_version < \"3.8\"->markdown>=2.6.8->tensorboard<2.3.0,>=2.2.0->tensorflow) (2.2.0)\n",
      "Requirement already satisfied: oauthlib>=3.0.0 in c:\\programdata\\anaconda3\\lib\\site-packages (from requests-oauthlib>=0.7.0->google-auth-oauthlib<0.5,>=0.4.1->tensorboard<2.3.0,>=2.2.0->tensorflow) (3.1.0)\n"
     ]
    }
   ],
   "source": [
    "# Keras requires TensorFlow 2.2 or higher. Install TensorFlow via `pip install tensorflow`\n",
    "\n",
    "#!pip install tensorflow"
   ]
  },
  {
   "cell_type": "code",
   "execution_count": null,
   "metadata": {},
   "outputs": [],
   "source": [
    "#!pip install keras\n"
   ]
  },
  {
   "cell_type": "code",
   "execution_count": null,
   "metadata": {},
   "outputs": [],
   "source": [
    "#! pip install opencv-python"
   ]
  },
  {
   "cell_type": "code",
   "execution_count": 1,
   "metadata": {},
   "outputs": [
    {
     "name": "stderr",
     "output_type": "stream",
     "text": [
      "Using TensorFlow backend.\n"
     ]
    }
   ],
   "source": [
    "import cnn_model"
   ]
  },
  {
   "cell_type": "code",
   "execution_count": 2,
   "metadata": {},
   "outputs": [
    {
     "name": "stdout",
     "output_type": "stream",
     "text": [
      "Train on 497 samples, validate on 125 samples\n",
      "Epoch 1/20\n",
      "497/497 [==============================] - 1s 2ms/step - loss: 1.7886 - accuracy: 0.1932 - val_loss: 1.6703 - val_accuracy: 0.2240\n",
      "Epoch 2/20\n",
      "497/497 [==============================] - 1s 1ms/step - loss: 1.5681 - accuracy: 0.3300 - val_loss: 1.5815 - val_accuracy: 0.3760\n",
      "Epoch 3/20\n",
      "497/497 [==============================] - 1s 1ms/step - loss: 1.3657 - accuracy: 0.4306 - val_loss: 1.4183 - val_accuracy: 0.4640\n",
      "Epoch 4/20\n",
      "497/497 [==============================] - 1s 1ms/step - loss: 1.2338 - accuracy: 0.5111 - val_loss: 1.2371 - val_accuracy: 0.4400\n",
      "Epoch 5/20\n",
      "497/497 [==============================] - 1s 1ms/step - loss: 1.1266 - accuracy: 0.5573 - val_loss: 0.9431 - val_accuracy: 0.6960\n",
      "Epoch 6/20\n",
      "497/497 [==============================] - 1s 1ms/step - loss: 0.9694 - accuracy: 0.6137 - val_loss: 0.8510 - val_accuracy: 0.6880\n",
      "Epoch 7/20\n",
      "497/497 [==============================] - 1s 1ms/step - loss: 0.8935 - accuracy: 0.6660 - val_loss: 0.8804 - val_accuracy: 0.6720\n",
      "Epoch 8/20\n",
      "497/497 [==============================] - 1s 1ms/step - loss: 0.8804 - accuracy: 0.6237 - val_loss: 0.9169 - val_accuracy: 0.6880\n",
      "Epoch 9/20\n",
      "497/497 [==============================] - 1s 1ms/step - loss: 0.7571 - accuracy: 0.7163 - val_loss: 0.8921 - val_accuracy: 0.6720\n",
      "Epoch 10/20\n",
      "497/497 [==============================] - 1s 1ms/step - loss: 0.7642 - accuracy: 0.7143 - val_loss: 0.8641 - val_accuracy: 0.6880\n",
      "Epoch 11/20\n",
      "497/497 [==============================] - 1s 1ms/step - loss: 0.7259 - accuracy: 0.7364 - val_loss: 1.0749 - val_accuracy: 0.6800\n",
      "Epoch 12/20\n",
      "497/497 [==============================] - 1s 1ms/step - loss: 0.6858 - accuracy: 0.7445 - val_loss: 1.0568 - val_accuracy: 0.6800\n",
      "Epoch 13/20\n",
      "497/497 [==============================] - 1s 1ms/step - loss: 0.6190 - accuracy: 0.7787 - val_loss: 0.7114 - val_accuracy: 0.7440\n",
      "Epoch 14/20\n",
      "497/497 [==============================] - 1s 1ms/step - loss: 0.6240 - accuracy: 0.7686 - val_loss: 0.8115 - val_accuracy: 0.7040\n",
      "Epoch 15/20\n",
      "497/497 [==============================] - 1s 1ms/step - loss: 0.4770 - accuracy: 0.8129 - val_loss: 0.7992 - val_accuracy: 0.7280\n",
      "Epoch 16/20\n",
      "497/497 [==============================] - 1s 1ms/step - loss: 0.4584 - accuracy: 0.8270 - val_loss: 0.9573 - val_accuracy: 0.7120\n",
      "Epoch 17/20\n",
      "497/497 [==============================] - 1s 1ms/step - loss: 0.4752 - accuracy: 0.8249 - val_loss: 1.5584 - val_accuracy: 0.5680\n",
      "Epoch 18/20\n",
      "497/497 [==============================] - 1s 1ms/step - loss: 0.4195 - accuracy: 0.8491 - val_loss: 1.0639 - val_accuracy: 0.6800\n",
      "Epoch 19/20\n",
      "497/497 [==============================] - 1s 1ms/step - loss: 0.3713 - accuracy: 0.8431 - val_loss: 0.8671 - val_accuracy: 0.7120\n",
      "Epoch 20/20\n",
      "497/497 [==============================] - 1s 1ms/step - loss: 0.3956 - accuracy: 0.8692 - val_loss: 0.8496 - val_accuracy: 0.7360\n",
      "125/125 [==============================] - 0s 215us/step\n",
      "정답률= 0.7360000014305115 loss= 0.8496107501983643\n"
     ]
    }
   ],
   "source": [
    "\n",
    "from tensorflow.python import keras\n",
    "# import keras\n",
    "\n",
    "import matplotlib.pyplot as plt\n",
    "import numpy as np\n",
    "from sklearn.model_selection import train_test_split\n",
    "\n",
    "# 입력과 출력 지정하기 --- (*1)\n",
    "im_rows = 32 # 이미지의 높이\n",
    "im_cols = 32 # 이미지의 너비\n",
    "im_color = 3 # 이미지의 색공간\n",
    "in_shape = (im_rows, im_cols, im_color)\n",
    "nb_classes = 6\n",
    "\n",
    "# 사진 데이터 읽어 들이기 --- (*2)\n",
    "photos = np.load('image/photos.npz')\n",
    "x = photos['x']\n",
    "y = photos['y']\n",
    "\n",
    "# 읽어들인 데이터를 3차원 배열로 변환하기 --- (*3)\n",
    "x = x.reshape(-1, im_rows, im_cols, im_color)\n",
    "x = x.astype('float32') / 255\n",
    "# 레이블 데이터를 One-hot 형식으로 변환하기 --- (*4)\n",
    "y = keras.utils.np_utils.to_categorical(y.astype('int32'), nb_classes)\n",
    "\n",
    "# 학습 전용과 테스트 전용으로 구분하기 --- (*5)\n",
    "x_train, x_test, y_train, y_test = train_test_split(\n",
    "    x, y, train_size=0.8)\n",
    "\n",
    "# CNN 모델 만들기 (위에 선언한 함수) --- (*6)\n",
    "model = cnn_model.get_model(in_shape, nb_classes)\n",
    "\n",
    "# 학습 실행하기 --- (*7)\n",
    "hist = model.fit(x_train, y_train,\n",
    "          batch_size=32,\n",
    "          epochs=20,\n",
    "          verbose=1,\n",
    "          validation_data=(x_test, y_test))\n",
    "\n",
    "# 모델 평가하기 --- (*8)\n",
    "score = model.evaluate(x_test, y_test, verbose=1)\n",
    "print('정답률=', score[1], 'loss=', score[0])\n"
   ]
  },
  {
   "cell_type": "code",
   "execution_count": 3,
   "metadata": {},
   "outputs": [
    {
     "data": {
      "image/png": "[encoded data removed]",
      "text/plain": [
       "<Figure size 432x288 with 1 Axes>"
      ]
     },
     "metadata": {
      "needs_background": "light"
     },
     "output_type": "display_data"
    },
    {
     "data": {
      "image/png": "[encoded data removed]",
      "text/plain": [
       "<Figure size 432x288 with 1 Axes>"
      ]
     },
     "metadata": {
      "needs_background": "light"
     },
     "output_type": "display_data"
    }
   ],
   "source": [
    "\n",
    "# 학습 상태를 그래프로 그리기 --- (*9)\n",
    "# 정답률 추이를 그래프로 그리기\n",
    "plt.plot(hist.history['accuracy'])\n",
    "plt.plot(hist.history['val_accuracy'])\n",
    "plt.title('Accuracy')\n",
    "plt.legend(['train', 'test'], loc='upper left')\n",
    "plt.show()\n",
    "\n",
    "# 손실 추이를 그래프로 그리기\n",
    "plt.plot(hist.history['loss'])\n",
    "plt.plot(hist.history['val_loss'])\n",
    "plt.title('Loss')\n",
    "plt.legend(['train', 'test'], loc='upper left')\n",
    "plt.show()\n",
    "\n",
    "model.save_weights('./image/photos-model-light.hdf5')\n"
   ]
  },
  {
   "cell_type": "markdown",
   "metadata": {},
   "source": [
    "[ 결과 ] \n",
    "\n",
    "정답률이 70% 정도 나온다 하더라도 좋은 결과가 아니다.\n",
    "\n",
    "만일 값이 너무 안 좋으면 데이타클리닝 작업으로 필요없는 사진을 제거해야 한다.\n",
    "\n",
    "정답률의 차이는 대부분 데이터의 품질에서 발생한다."
   ]
  }
 ],
 "metadata": {
  "kernelspec": {
   "display_name": "Python 3",
   "language": "python",
   "name": "python3"
  },
  "language_info": {
   "codemirror_mode": {
    "name": "ipython",
    "version": 3
   },
   "file_extension": ".py",
   "mimetype": "text/x-python",
   "name": "python",
   "nbconvert_exporter": "python",
   "pygments_lexer": "ipython3",
   "version": "3.7.6"
  }
 },
 "nbformat": 4,
 "nbformat_minor": 2
}
