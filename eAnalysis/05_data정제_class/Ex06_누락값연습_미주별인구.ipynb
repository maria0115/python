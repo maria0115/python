{
 "cells": [
  {
   "cell_type": "markdown",
   "metadata": {},
   "source": [
    "#    미국 주와 주별 인구 데이타 예제 \n",
    "     - 2010년도 인구 밀도 기준으로 미국 주와 지역 순위를 출력\n",
    " \n",
    "1. 데이타를 로딩 후 데이타 정보 확인\n",
    "\n",
    "\n",
    "2. 데이타 연결\n",
    "        1- 인구 데이타와 주이름 약어 데이타를 연결\n",
    "            ( 각 주의 전체 이름과 인구를 볼 수 있도록 )\n",
    "            \n",
    "        2- 각 주의 인구 데이타와 면적 데이타를 연결\n",
    "            ( 각 주의 면적당 인구를 계산하여 인구 밀도를 구하기 )\n",
    "            \n",
    "3. 데이타 정제(데이타 전처리)\n",
    "     * 누락값 처리\n",
    "        1. 삭제한다\n",
    "        2. 대체한다\n",
    "    \n",
    "    실제로 2000년 이전의 PR(푸에르토리토)의 인구 데이타가 없는 것이다.\n",
    "    여기서는 2010년 데이타를 구할 것이기에 삭제해도 되지만 대체하는 방식을 연습한다\n",
    "    또한 전체 미국을 뜻하는 USA에 state와 abbreviation이 없다.\n",
    " \n",
    " \n",
    "4. 2010년 인구밀도 계산하고 표현\n",
    "        인구밀도 = 인구 / 면적\n",
    "        \n",
    "\n",
    " \n",
    "    [도서] 파이썬 데이타 사이언스 핸드북 - 위키북스/오렐리"
   ]
  },
  {
   "cell_type": "markdown",
   "metadata": {},
   "source": [
    "---\n",
    "## 1. 데이타를 로딩 후 데이타 정보 확인"
   ]
  },
  {
   "cell_type": "code",
   "execution_count": 14,
   "metadata": {},
   "outputs": [
    {
     "data": {
      "text/html": [
       "<div>\n",
       "<style scoped>\n",
       "    .dataframe tbody tr th:only-of-type {\n",
       "        vertical-align: middle;\n",
       "    }\n",
       "\n",
       "    .dataframe tbody tr th {\n",
       "        vertical-align: top;\n",
       "    }\n",
       "\n",
       "    .dataframe thead th {\n",
       "        text-align: right;\n",
       "    }\n",
       "</style>\n",
       "<table border=\"1\" class=\"dataframe\">\n",
       "  <thead>\n",
       "    <tr style=\"text-align: right;\">\n",
       "      <th></th>\n",
       "      <th>state/region</th>\n",
       "      <th>ages</th>\n",
       "      <th>year</th>\n",
       "      <th>population</th>\n",
       "    </tr>\n",
       "  </thead>\n",
       "  <tbody>\n",
       "    <tr>\n",
       "      <th>0</th>\n",
       "      <td>AL</td>\n",
       "      <td>under18</td>\n",
       "      <td>2012</td>\n",
       "      <td>1117489.0</td>\n",
       "    </tr>\n",
       "    <tr>\n",
       "      <th>1</th>\n",
       "      <td>AL</td>\n",
       "      <td>total</td>\n",
       "      <td>2012</td>\n",
       "      <td>4817528.0</td>\n",
       "    </tr>\n",
       "    <tr>\n",
       "      <th>2</th>\n",
       "      <td>AL</td>\n",
       "      <td>under18</td>\n",
       "      <td>2010</td>\n",
       "      <td>1130966.0</td>\n",
       "    </tr>\n",
       "    <tr>\n",
       "      <th>3</th>\n",
       "      <td>AL</td>\n",
       "      <td>total</td>\n",
       "      <td>2010</td>\n",
       "      <td>4785570.0</td>\n",
       "    </tr>\n",
       "    <tr>\n",
       "      <th>4</th>\n",
       "      <td>AL</td>\n",
       "      <td>under18</td>\n",
       "      <td>2011</td>\n",
       "      <td>1125763.0</td>\n",
       "    </tr>\n",
       "  </tbody>\n",
       "</table>\n",
       "</div>"
      ],
      "text/plain": [
       "  state/region     ages  year  population\n",
       "0           AL  under18  2012   1117489.0\n",
       "1           AL    total  2012   4817528.0\n",
       "2           AL  under18  2010   1130966.0\n",
       "3           AL    total  2010   4785570.0\n",
       "4           AL  under18  2011   1125763.0"
      ]
     },
     "execution_count": 14,
     "metadata": {},
     "output_type": "execute_result"
    }
   ],
   "source": [
    "# 1. 데이타를 로딩 후 데이타 정보 확인\n",
    "import pandas as pd\n",
    "\n",
    "pop = pd.read_csv('./data/state-population.csv')    # 주별 인구\n",
    "areas = pd.read_csv('./data/state-areas.csv')       # 주의 면적\n",
    "abbrevs = pd.read_csv('./data/state-abbrevs.csv')   # 주이름 약자\n",
    "\n",
    "# 데이타 살펴보기\n",
    "pop\n",
    "areas\n",
    "abbrevs\n",
    "# 행수 확인\n",
    "# len(abbrevs)\n",
    "pop.head()"
   ]
  },
  {
   "cell_type": "code",
   "execution_count": 15,
   "metadata": {},
   "outputs": [
    {
     "data": {
      "text/html": [
       "<div>\n",
       "<style scoped>\n",
       "    .dataframe tbody tr th:only-of-type {\n",
       "        vertical-align: middle;\n",
       "    }\n",
       "\n",
       "    .dataframe tbody tr th {\n",
       "        vertical-align: top;\n",
       "    }\n",
       "\n",
       "    .dataframe thead th {\n",
       "        text-align: right;\n",
       "    }\n",
       "</style>\n",
       "<table border=\"1\" class=\"dataframe\">\n",
       "  <thead>\n",
       "    <tr style=\"text-align: right;\">\n",
       "      <th></th>\n",
       "      <th>state</th>\n",
       "      <th>area (sq. mi)</th>\n",
       "    </tr>\n",
       "  </thead>\n",
       "  <tbody>\n",
       "    <tr>\n",
       "      <th>0</th>\n",
       "      <td>Alabama</td>\n",
       "      <td>52423</td>\n",
       "    </tr>\n",
       "    <tr>\n",
       "      <th>1</th>\n",
       "      <td>Alaska</td>\n",
       "      <td>656425</td>\n",
       "    </tr>\n",
       "    <tr>\n",
       "      <th>2</th>\n",
       "      <td>Arizona</td>\n",
       "      <td>114006</td>\n",
       "    </tr>\n",
       "    <tr>\n",
       "      <th>3</th>\n",
       "      <td>Arkansas</td>\n",
       "      <td>53182</td>\n",
       "    </tr>\n",
       "    <tr>\n",
       "      <th>4</th>\n",
       "      <td>California</td>\n",
       "      <td>163707</td>\n",
       "    </tr>\n",
       "  </tbody>\n",
       "</table>\n",
       "</div>"
      ],
      "text/plain": [
       "        state  area (sq. mi)\n",
       "0     Alabama          52423\n",
       "1      Alaska         656425\n",
       "2     Arizona         114006\n",
       "3    Arkansas          53182\n",
       "4  California         163707"
      ]
     },
     "execution_count": 15,
     "metadata": {},
     "output_type": "execute_result"
    }
   ],
   "source": [
    "areas.head()"
   ]
  },
  {
   "cell_type": "code",
   "execution_count": 16,
   "metadata": {},
   "outputs": [
    {
     "data": {
      "text/html": [
       "<div>\n",
       "<style scoped>\n",
       "    .dataframe tbody tr th:only-of-type {\n",
       "        vertical-align: middle;\n",
       "    }\n",
       "\n",
       "    .dataframe tbody tr th {\n",
       "        vertical-align: top;\n",
       "    }\n",
       "\n",
       "    .dataframe thead th {\n",
       "        text-align: right;\n",
       "    }\n",
       "</style>\n",
       "<table border=\"1\" class=\"dataframe\">\n",
       "  <thead>\n",
       "    <tr style=\"text-align: right;\">\n",
       "      <th></th>\n",
       "      <th>state</th>\n",
       "      <th>abbreviation</th>\n",
       "    </tr>\n",
       "  </thead>\n",
       "  <tbody>\n",
       "    <tr>\n",
       "      <th>0</th>\n",
       "      <td>Alabama</td>\n",
       "      <td>AL</td>\n",
       "    </tr>\n",
       "    <tr>\n",
       "      <th>1</th>\n",
       "      <td>Alaska</td>\n",
       "      <td>AK</td>\n",
       "    </tr>\n",
       "    <tr>\n",
       "      <th>2</th>\n",
       "      <td>Arizona</td>\n",
       "      <td>AZ</td>\n",
       "    </tr>\n",
       "    <tr>\n",
       "      <th>3</th>\n",
       "      <td>Arkansas</td>\n",
       "      <td>AR</td>\n",
       "    </tr>\n",
       "    <tr>\n",
       "      <th>4</th>\n",
       "      <td>California</td>\n",
       "      <td>CA</td>\n",
       "    </tr>\n",
       "  </tbody>\n",
       "</table>\n",
       "</div>"
      ],
      "text/plain": [
       "        state abbreviation\n",
       "0     Alabama           AL\n",
       "1      Alaska           AK\n",
       "2     Arizona           AZ\n",
       "3    Arkansas           AR\n",
       "4  California           CA"
      ]
     },
     "execution_count": 16,
     "metadata": {},
     "output_type": "execute_result"
    }
   ],
   "source": [
    "abbrevs.head()"
   ]
  },
  {
   "cell_type": "markdown",
   "metadata": {},
   "source": [
    "---\n",
    "## 2. 데이타 연결\n",
    "        \n",
    "    1- 인구 데이타(pop)와 주이름 약어 데이타(abbrevs)를 연결\n",
    "            ( 각 주의 전체 이름과 인구를 볼 수 있도록 )\n",
    "    2- 각 주의 인구 데이타(pop)와 면적 데이타(areas)를 연결\n",
    "            ( 각 주의 면적당 인구를 계산하여 인구 밀도를 구하기 )\n",
    "\n"
   ]
  },
  {
   "cell_type": "code",
   "execution_count": 32,
   "metadata": {
    "scrolled": true
   },
   "outputs": [
    {
     "data": {
      "text/plain": [
       "state/region    ALALALALALALALALALALALALALALALALALALALALALALAL...\n",
       "ages            under18totalunder18totalunder18totaltotalunder...\n",
       "year                                                        96072\n",
       "population                                            1.34297e+08\n",
       "state           AlabamaAlabamaAlabamaAlabamaAlabamaAlabamaAlab...\n",
       "abbreviation    ALALALALALALALALALALALALALALALALALALALALALALAL...\n",
       "dtype: object"
      ]
     },
     "execution_count": 32,
     "metadata": {},
     "output_type": "execute_result"
    }
   ],
   "source": [
    "redata = pd.merge(pop,abbrevs, left_on='state/region',right_on='abbreviation')\n",
    "\n",
    "redata\n",
    "data = pd.merge(redata,areas, left_on='state',right_on='state')\n",
    "r = data.groupby('state').sum()\n",
    "r['pa'] = r['population']/r['area (sq. mi)']\n",
    "redata[redata['state/region']=='AL'].sum()"
   ]
  },
  {
   "cell_type": "markdown",
   "metadata": {},
   "source": [
    "---\n",
    "##  3. 데이타 정제 -    누락값 처리\n",
    "\n",
    "        (1) 삭제한다\n",
    "        (2) 대체한다\n",
    "    \n",
    "    실제로 2000년 이전의 PR(푸에르토리토)의 인구 데이타가 없는 것이다.\n",
    "    여기서는 2010년 데이타를 구할 것이기에 삭제해도 되지만 대체하는 방식을 연습한다\n",
    "    또한 전체 미국을 뜻하는 USA에 state와 abbreviation이 없다.\n"
   ]
  },
  {
   "cell_type": "code",
   "execution_count": 2,
   "metadata": {},
   "outputs": [],
   "source": [
    "\n",
    "# (1) null 값 확인\n",
    "redata\n",
    "\n",
    "# (2) 우선 state 컬럼의 null 처리\n"
   ]
  },
  {
   "cell_type": "markdown",
   "metadata": {},
   "source": [
    "## 4. 각 주의 인구를 연결한 데이타셋에 주의 면적 데이타 셋을 연결하기 \n",
    "\n",
    "(merge이용)\n",
    "\n",
    "\n",
    "#### 1- pop과 abbreviation의 연결한 데이타셋과 areas(면적) 데이타셋을 연결\n",
    "\n",
    "#### 2-널 값 여부 확인\n",
    "\n",
    "#### 3- 널값 확인\n",
    "\n",
    "#### 4- 널값 처리 : 데이타 삭제하기\n",
    "    미국 전역에 대한 데이타는 인구 밀도와 관련이 없기에 삭제\n",
    "    \n",
    "#### 5- 면적이 null 값이 있는지 없는지 확인    "
   ]
  },
  {
   "cell_type": "code",
   "execution_count": 3,
   "metadata": {},
   "outputs": [],
   "source": [
    "# 각 주의 인구를 연결한 데이타셋에 주의 면적 데이타 셋을 연결하기\n",
    "\n",
    "# 1- pop과 abbreviation의 연결한 데이타셋과 areas(면적) 데이타셋을 연결\n",
    "\n",
    "# 2-널 값 여부 확인\n",
    "\n",
    "# 3- 널값 확인 : 면적값이 널인 주를 찾으면\n"
   ]
  },
  {
   "cell_type": "code",
   "execution_count": 4,
   "metadata": {},
   "outputs": [],
   "source": [
    "# 4- 널값 처리 : 데이타 삭제하기\n",
    "# 미국 전역에 대한 데이타는 인구 밀도와 관련이 없기에 삭제\n"
   ]
  },
  {
   "cell_type": "code",
   "execution_count": 5,
   "metadata": {},
   "outputs": [],
   "source": [
    "# 5- [결과확인] 면적이 null 값이 있는지 없는지 확인\n",
    "\n"
   ]
  },
  {
   "cell_type": "markdown",
   "metadata": {},
   "source": [
    "## 2010년 인구밀도 계산하고 표현\n",
    "        \n",
    "        \n",
    "    인구밀도 = 인구 / 면적\n",
    "        \n",
    "    필요한 데이타는 2010년 전체 인구에 대한 데이타집합이다.\n"
   ]
  },
  {
   "cell_type": "code",
   "execution_count": 6,
   "metadata": {},
   "outputs": [
    {
     "data": {
      "text/plain": [
       "\"\\n# 필요한 데이타집합 추출\\ndata = finalmerged[finalmerged['year']==2010]\\ndata = data[finalmerged['ages']=='total']\\n# print(data)\\n\\n# 주(state)를 기준으로 데이타 인덱스를 정하고 인구밀도 계산\\ndata.set_index('state', inplace=True)\\n# print(data)\\n\\n\\ndensity = data['population']/data['area (sq. mi)']\\ndensity\\n\\ndensity.sort_values(ascending=False, inplace=True)\\nprint(density)  \\n\""
      ]
     },
     "execution_count": 6,
     "metadata": {},
     "output_type": "execute_result"
    }
   ],
   "source": [
    "'''\n",
    "\n",
    "# 필요한 데이타집합 추출\n",
    "data = finalmerged[finalmerged['year']==2010]\n",
    "data = data[finalmerged['ages']=='total']\n",
    "# print(data)\n",
    "\n",
    "# 주(state)를 기준으로 데이타 인덱스를 정하고 인구밀도 계산\n",
    "data.set_index('state', inplace=True)\n",
    "# print(data)\n",
    "\n",
    "\n",
    "density = data['population']/data['area (sq. mi)']\n",
    "density\n",
    "\n",
    "density.sort_values(ascending=False, inplace=True)\n",
    "print(density)  \n",
    "'''"
   ]
  },
  {
   "cell_type": "markdown",
   "metadata": {},
   "source": [
    "### [결과] \n",
    "\n",
    "        state\n",
    "        District of Columbia    8898.897059\n",
    "        New Jersey              1009.253268\n",
    "        Rhode Island             681.339159\n",
    "        Connecticut              645.600649\n",
    "        Massachusetts            621.815538\n",
    "        Maryland                 466.445797\n",
    "        Delaware                 460.445752\n",
    "        New York                 356.094135\n",
    "        Florida                  286.597129\n",
    "        Pennsylvania             275.966651\n",
    "        Ohio                     257.549634\n",
    "        California               228.051342\n",
    "        Illinois                 221.687472\n",
    "        Virginia                 187.622273\n",
    "        Indiana                  178.197831\n",
    "        North Carolina           177.617157\n",
    "        Georgia                  163.409902\n",
    "        Tennessee                150.825298\n",
    "        South Carolina           144.854594\n",
    "        New Hampshire            140.799273\n",
    "        Hawaii                   124.746707\n",
    "        Kentucky                 107.586994\n",
    "        Michigan                 102.015794\n",
    "        Washington                94.557817\n",
    "        Texas                     93.987655\n",
    "        Alabama                   91.287603\n",
    "        Louisiana                 87.676099\n",
    "        Wisconsin                 86.851900\n",
    "        Missouri                  86.015622\n",
    "        West Virginia             76.519582\n",
    "        Vermont                   65.085075\n",
    "        Mississippi               61.321530\n",
    "        Minnesota                 61.078373\n",
    "        Arizona                   56.214497\n",
    "        Arkansas                  54.948667\n",
    "        Iowa                      54.202751\n",
    "        Oklahoma                  53.778278\n",
    "        Colorado                  48.493718\n",
    "        Oregon                    39.001565\n",
    "        Maine                     37.509990\n",
    "        Kansas                    34.745266\n",
    "        Utah                      32.677188\n",
    "        Nevada                    24.448796\n",
    "        Nebraska                  23.654153\n",
    "        Idaho                     18.794338\n",
    "        New Mexico                16.982737\n",
    "        South Dakota              10.583512\n",
    "        North Dakota               9.537565\n",
    "        Montana                    6.736171\n",
    "        Wyoming                    5.768079\n",
    "        Alaska                     1.087509\n",
    "\n",
    "\n",
    "---"
   ]
  },
  {
   "cell_type": "markdown",
   "metadata": {},
   "source": [
    "\n",
    "  [분석결과]\n",
    "  \n",
    "  인구 밀도가 가장 높은 주는 District of Columbia(DC) 워싱톤DC 이고\n",
    "  그 다음은 Puerto Rico 이다.\n",
    "  \n",
    "  인구 밀도가 가장 작은 Alaska는 1제곱마일당 평균 주민수가 1만명정도이다.\n",
    "  \n",
    "  [시각화작업]\n"
   ]
  }
 ],
 "metadata": {
  "kernelspec": {
   "display_name": "Python 3",
   "language": "python",
   "name": "python3"
  },
  "language_info": {
   "codemirror_mode": {
    "name": "ipython",
    "version": 3
   },
   "file_extension": ".py",
   "mimetype": "text/x-python",
   "name": "python",
   "nbconvert_exporter": "python",
   "pygments_lexer": "ipython3",
   "version": "3.7.6"
  }
 },
 "nbformat": 4,
 "nbformat_minor": 2
}
