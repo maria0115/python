{
 "cells": [
  {
   "cell_type": "markdown",
   "metadata": {},
   "source": [
    "### 다양한 포맷으로 된 파일을 DataFrame으로 로딩하는 API \n",
    "\n",
    "1.  read_excel()\n",
    "\n",
    "\n",
    "2.  read_csv()         \n",
    "    - 기본 구분자 콤마(,)\n",
    "\n",
    "\n",
    "3.  read_table() : 기본 구문자가 탭(\\t)이다\n",
    "               read_csv('파일명','\\t') 동일하다\n",
    "                   \n",
    "4.  read_fwf() : Fixed Width (고정길이) 기반의 컬럼 포맷을 읽어오는 함수\n",
    "\n",
    "\n",
    "\n",
    "\n",
    "##### [참고]  utf-8 관련 에러 발생한다면?\n",
    "    - read_csv('data/temp.csv', encoding=cp949)\n",
    "    - cp949 : 윈도우에서의 한글"
   ]
  },
  {
   "cell_type": "code",
   "execution_count": 3,
   "metadata": {
    "scrolled": false
   },
   "outputs": [],
   "source": [
    "import pandas as pd\n",
    "\n",
    "# csv 파일로 저장하기\n",
    "mysource = {\n",
    "    '시도':['서울','경기','인천','부산','대전'],\n",
    "    '구분':['특별시','도','광역시','광역시','광역시'],\n",
    "    '인구':['999만','1300만','400만','600만','300만'],\n",
    "    '면적':[600.9, 10171, 1234.5, 747.8, 459.1]\n",
    "}\n",
    "\n",
    "df = pd.DataFrame(mysource)\n",
    "df\n",
    "\n",
    "#df.to_csv('./result/temp.csv')\n",
    "#df.to_excel('result/temp2.xlsx')"
   ]
  },
  {
   "cell_type": "code",
   "execution_count": 4,
   "metadata": {},
   "outputs": [
    {
     "data": {
      "text/html": [
       "<div>\n",
       "<style scoped>\n",
       "    .dataframe tbody tr th:only-of-type {\n",
       "        vertical-align: middle;\n",
       "    }\n",
       "\n",
       "    .dataframe tbody tr th {\n",
       "        vertical-align: top;\n",
       "    }\n",
       "\n",
       "    .dataframe thead th {\n",
       "        text-align: right;\n",
       "    }\n",
       "</style>\n",
       "<table border=\"1\" class=\"dataframe\">\n",
       "  <thead>\n",
       "    <tr style=\"text-align: right;\">\n",
       "      <th></th>\n",
       "      <th>Unnamed: 0</th>\n",
       "      <th>시도</th>\n",
       "      <th>구분</th>\n",
       "      <th>인구</th>\n",
       "      <th>면적</th>\n",
       "    </tr>\n",
       "  </thead>\n",
       "  <tbody>\n",
       "    <tr>\n",
       "      <th>0</th>\n",
       "      <td>0</td>\n",
       "      <td>서울</td>\n",
       "      <td>특별시</td>\n",
       "      <td>999만</td>\n",
       "      <td>600.9</td>\n",
       "    </tr>\n",
       "    <tr>\n",
       "      <th>1</th>\n",
       "      <td>1</td>\n",
       "      <td>경기</td>\n",
       "      <td>도</td>\n",
       "      <td>1300만</td>\n",
       "      <td>10171.0</td>\n",
       "    </tr>\n",
       "    <tr>\n",
       "      <th>2</th>\n",
       "      <td>2</td>\n",
       "      <td>인천</td>\n",
       "      <td>광역시</td>\n",
       "      <td>400만</td>\n",
       "      <td>1234.5</td>\n",
       "    </tr>\n",
       "    <tr>\n",
       "      <th>3</th>\n",
       "      <td>3</td>\n",
       "      <td>부산</td>\n",
       "      <td>광역시</td>\n",
       "      <td>600만</td>\n",
       "      <td>747.8</td>\n",
       "    </tr>\n",
       "    <tr>\n",
       "      <th>4</th>\n",
       "      <td>4</td>\n",
       "      <td>대전</td>\n",
       "      <td>광역시</td>\n",
       "      <td>300만</td>\n",
       "      <td>459.1</td>\n",
       "    </tr>\n",
       "  </tbody>\n",
       "</table>\n",
       "</div>"
      ],
      "text/plain": [
       "   Unnamed: 0  시도   구분     인구       면적\n",
       "0           0  서울  특별시   999만    600.9\n",
       "1           1  경기    도  1300만  10171.0\n",
       "2           2  인천  광역시   400만   1234.5\n",
       "3           3  부산  광역시   600만    747.8\n",
       "4           4  대전  광역시   300만    459.1"
      ]
     },
     "execution_count": 4,
     "metadata": {},
     "output_type": "execute_result"
    }
   ],
   "source": [
    "# csv 파일을 읽어오는 방법\n",
    "df2 = pd.read_csv('result/temp.csv')\n",
    "df2"
   ]
  },
  {
   "cell_type": "code",
   "execution_count": 5,
   "metadata": {},
   "outputs": [
    {
     "data": {
      "text/html": [
       "<div>\n",
       "<style scoped>\n",
       "    .dataframe tbody tr th:only-of-type {\n",
       "        vertical-align: middle;\n",
       "    }\n",
       "\n",
       "    .dataframe tbody tr th {\n",
       "        vertical-align: top;\n",
       "    }\n",
       "\n",
       "    .dataframe thead th {\n",
       "        text-align: right;\n",
       "    }\n",
       "</style>\n",
       "<table border=\"1\" class=\"dataframe\">\n",
       "  <thead>\n",
       "    <tr style=\"text-align: right;\">\n",
       "      <th></th>\n",
       "      <th>시도</th>\n",
       "      <th>구분</th>\n",
       "      <th>인구</th>\n",
       "      <th>면적</th>\n",
       "    </tr>\n",
       "  </thead>\n",
       "  <tbody>\n",
       "    <tr>\n",
       "      <th>0</th>\n",
       "      <td>서울</td>\n",
       "      <td>특별시</td>\n",
       "      <td>999만</td>\n",
       "      <td>600.9</td>\n",
       "    </tr>\n",
       "    <tr>\n",
       "      <th>1</th>\n",
       "      <td>경기</td>\n",
       "      <td>도</td>\n",
       "      <td>1300만</td>\n",
       "      <td>10171.0</td>\n",
       "    </tr>\n",
       "    <tr>\n",
       "      <th>2</th>\n",
       "      <td>인천</td>\n",
       "      <td>광역시</td>\n",
       "      <td>400만</td>\n",
       "      <td>1234.5</td>\n",
       "    </tr>\n",
       "    <tr>\n",
       "      <th>3</th>\n",
       "      <td>부산</td>\n",
       "      <td>광역시</td>\n",
       "      <td>600만</td>\n",
       "      <td>747.8</td>\n",
       "    </tr>\n",
       "    <tr>\n",
       "      <th>4</th>\n",
       "      <td>대전</td>\n",
       "      <td>광역시</td>\n",
       "      <td>300만</td>\n",
       "      <td>459.1</td>\n",
       "    </tr>\n",
       "  </tbody>\n",
       "</table>\n",
       "</div>"
      ],
      "text/plain": [
       "   시도   구분     인구       면적\n",
       "0  서울  특별시   999만    600.9\n",
       "1  경기    도  1300만  10171.0\n",
       "2  인천  광역시   400만   1234.5\n",
       "3  부산  광역시   600만    747.8\n",
       "4  대전  광역시   300만    459.1"
      ]
     },
     "execution_count": 5,
     "metadata": {},
     "output_type": "execute_result"
    }
   ],
   "source": [
    "# 컬럼명을 인덱스로 지정\n",
    "df2 = pd.read_csv('result/temp.csv',index_col='Unnamed: 0')\n",
    "df2"
   ]
  },
  {
   "cell_type": "code",
   "execution_count": 7,
   "metadata": {},
   "outputs": [
    {
     "data": {
      "text/html": [
       "<div>\n",
       "<style scoped>\n",
       "    .dataframe tbody tr th:only-of-type {\n",
       "        vertical-align: middle;\n",
       "    }\n",
       "\n",
       "    .dataframe tbody tr th {\n",
       "        vertical-align: top;\n",
       "    }\n",
       "\n",
       "    .dataframe thead th {\n",
       "        text-align: right;\n",
       "    }\n",
       "</style>\n",
       "<table border=\"1\" class=\"dataframe\">\n",
       "  <thead>\n",
       "    <tr style=\"text-align: right;\">\n",
       "      <th></th>\n",
       "      <th>시도</th>\n",
       "      <th>구분</th>\n",
       "      <th>인구</th>\n",
       "      <th>면적</th>\n",
       "    </tr>\n",
       "    <tr>\n",
       "      <th>No</th>\n",
       "      <th></th>\n",
       "      <th></th>\n",
       "      <th></th>\n",
       "      <th></th>\n",
       "    </tr>\n",
       "  </thead>\n",
       "  <tbody>\n",
       "    <tr>\n",
       "      <th>0</th>\n",
       "      <td>서울</td>\n",
       "      <td>특별시</td>\n",
       "      <td>999만</td>\n",
       "      <td>600.9</td>\n",
       "    </tr>\n",
       "    <tr>\n",
       "      <th>1</th>\n",
       "      <td>경기</td>\n",
       "      <td>도</td>\n",
       "      <td>1300만</td>\n",
       "      <td>10171.0</td>\n",
       "    </tr>\n",
       "    <tr>\n",
       "      <th>2</th>\n",
       "      <td>인천</td>\n",
       "      <td>광역시</td>\n",
       "      <td>400만</td>\n",
       "      <td>1234.5</td>\n",
       "    </tr>\n",
       "    <tr>\n",
       "      <th>3</th>\n",
       "      <td>부산</td>\n",
       "      <td>광역시</td>\n",
       "      <td>600만</td>\n",
       "      <td>747.8</td>\n",
       "    </tr>\n",
       "    <tr>\n",
       "      <th>4</th>\n",
       "      <td>대전</td>\n",
       "      <td>광역시</td>\n",
       "      <td>300만</td>\n",
       "      <td>459.1</td>\n",
       "    </tr>\n",
       "  </tbody>\n",
       "</table>\n",
       "</div>"
      ],
      "text/plain": [
       "    시도   구분     인구       면적\n",
       "No                         \n",
       "0   서울  특별시   999만    600.9\n",
       "1   경기    도  1300만  10171.0\n",
       "2   인천  광역시   400만   1234.5\n",
       "3   부산  광역시   600만    747.8\n",
       "4   대전  광역시   300만    459.1"
      ]
     },
     "execution_count": 7,
     "metadata": {},
     "output_type": "execute_result"
    }
   ],
   "source": [
    "df2 = pd.read_csv('result/temp.csv',names=['No','시도','구분','인구','면적'],index_col='No',skiprows=[0])\n",
    "df2"
   ]
  },
  {
   "cell_type": "code",
   "execution_count": 8,
   "metadata": {},
   "outputs": [
    {
     "data": {
      "text/html": [
       "<div>\n",
       "<style scoped>\n",
       "    .dataframe tbody tr th:only-of-type {\n",
       "        vertical-align: middle;\n",
       "    }\n",
       "\n",
       "    .dataframe tbody tr th {\n",
       "        vertical-align: top;\n",
       "    }\n",
       "\n",
       "    .dataframe thead th {\n",
       "        text-align: right;\n",
       "    }\n",
       "</style>\n",
       "<table border=\"1\" class=\"dataframe\">\n",
       "  <thead>\n",
       "    <tr style=\"text-align: right;\">\n",
       "      <th></th>\n",
       "      <th>시도</th>\n",
       "      <th>구분</th>\n",
       "      <th>인구</th>\n",
       "      <th>면적</th>\n",
       "    </tr>\n",
       "    <tr>\n",
       "      <th>No</th>\n",
       "      <th></th>\n",
       "      <th></th>\n",
       "      <th></th>\n",
       "      <th></th>\n",
       "    </tr>\n",
       "  </thead>\n",
       "  <tbody>\n",
       "    <tr>\n",
       "      <th>0</th>\n",
       "      <td>서울</td>\n",
       "      <td>특별시</td>\n",
       "      <td>999만</td>\n",
       "      <td>600.9</td>\n",
       "    </tr>\n",
       "    <tr>\n",
       "      <th>1</th>\n",
       "      <td>경기</td>\n",
       "      <td>도</td>\n",
       "      <td>1300만</td>\n",
       "      <td>10171.0</td>\n",
       "    </tr>\n",
       "    <tr>\n",
       "      <th>2</th>\n",
       "      <td>인천</td>\n",
       "      <td>광역시</td>\n",
       "      <td>400만</td>\n",
       "      <td>1234.5</td>\n",
       "    </tr>\n",
       "  </tbody>\n",
       "</table>\n",
       "</div>"
      ],
      "text/plain": [
       "    시도   구분     인구       면적\n",
       "No                         \n",
       "0   서울  특별시   999만    600.9\n",
       "1   경기    도  1300만  10171.0\n",
       "2   인천  광역시   400만   1234.5"
      ]
     },
     "execution_count": 8,
     "metadata": {},
     "output_type": "execute_result"
    }
   ],
   "source": [
    "# 불필요한 행 제외하고 로딩하기\n",
    "df2 = pd.read_csv('result/temp.csv',names=['No','시도','구분','인구','면적'],index_col='No',skiprows=[0],nrows=3)\n",
    "df2"
   ]
  },
  {
   "cell_type": "code",
   "execution_count": 14,
   "metadata": {},
   "outputs": [
    {
     "data": {
      "text/html": [
       "<div>\n",
       "<style scoped>\n",
       "    .dataframe tbody tr th:only-of-type {\n",
       "        vertical-align: middle;\n",
       "    }\n",
       "\n",
       "    .dataframe tbody tr th {\n",
       "        vertical-align: top;\n",
       "    }\n",
       "\n",
       "    .dataframe thead th {\n",
       "        text-align: right;\n",
       "    }\n",
       "</style>\n",
       "<table border=\"1\" class=\"dataframe\">\n",
       "  <thead>\n",
       "    <tr style=\"text-align: right;\">\n",
       "      <th></th>\n",
       "      <th>남자</th>\n",
       "      <th>여자</th>\n",
       "      <th>내국인계</th>\n",
       "      <th>내국인_남자</th>\n",
       "      <th>내국인_여자</th>\n",
       "      <th>외국인계</th>\n",
       "    </tr>\n",
       "  </thead>\n",
       "  <tbody>\n",
       "    <tr>\n",
       "      <th>0</th>\n",
       "      <td>25608502</td>\n",
       "      <td>25460873</td>\n",
       "      <td>49705663</td>\n",
       "      <td>24819839</td>\n",
       "      <td>24885824</td>\n",
       "      <td>1363712</td>\n",
       "    </tr>\n",
       "    <tr>\n",
       "      <th>1</th>\n",
       "      <td>2360708</td>\n",
       "      <td>2256094</td>\n",
       "      <td>4467697</td>\n",
       "      <td>2262853</td>\n",
       "      <td>2204844</td>\n",
       "      <td>149105</td>\n",
       "    </tr>\n",
       "    <tr>\n",
       "      <th>2</th>\n",
       "      <td>2455898</td>\n",
       "      <td>2318980</td>\n",
       "      <td>4546520</td>\n",
       "      <td>2291860</td>\n",
       "      <td>2254660</td>\n",
       "      <td>228358</td>\n",
       "    </tr>\n",
       "    <tr>\n",
       "      <th>3</th>\n",
       "      <td>20791896</td>\n",
       "      <td>20885799</td>\n",
       "      <td>40691446</td>\n",
       "      <td>20265126</td>\n",
       "      <td>20426320</td>\n",
       "      <td>986249</td>\n",
       "    </tr>\n",
       "    <tr>\n",
       "      <th>4</th>\n",
       "      <td>4859535</td>\n",
       "      <td>5044777</td>\n",
       "      <td>9567196</td>\n",
       "      <td>4694317</td>\n",
       "      <td>4872879</td>\n",
       "      <td>337116</td>\n",
       "    </tr>\n",
       "    <tr>\n",
       "      <th>5</th>\n",
       "      <td>1701347</td>\n",
       "      <td>1747390</td>\n",
       "      <td>3404667</td>\n",
       "      <td>1675339</td>\n",
       "      <td>1729328</td>\n",
       "      <td>44070</td>\n",
       "    </tr>\n",
       "    <tr>\n",
       "      <th>6</th>\n",
       "      <td>1228511</td>\n",
       "      <td>1237541</td>\n",
       "      <td>2436770</td>\n",
       "      <td>1211219</td>\n",
       "      <td>1225551</td>\n",
       "      <td>29282</td>\n",
       "    </tr>\n",
       "    <tr>\n",
       "      <th>7</th>\n",
       "      <td>1455017</td>\n",
       "      <td>1435434</td>\n",
       "      <td>2822601</td>\n",
       "      <td>1414793</td>\n",
       "      <td>1407808</td>\n",
       "      <td>67850</td>\n",
       "    </tr>\n",
       "    <tr>\n",
       "      <th>8</th>\n",
       "      <td>748867</td>\n",
       "      <td>754014</td>\n",
       "      <td>1481289</td>\n",
       "      <td>736656</td>\n",
       "      <td>744633</td>\n",
       "      <td>21592</td>\n",
       "    </tr>\n",
       "    <tr>\n",
       "      <th>9</th>\n",
       "      <td>772243</td>\n",
       "      <td>766151</td>\n",
       "      <td>1519314</td>\n",
       "      <td>763310</td>\n",
       "      <td>756004</td>\n",
       "      <td>19080</td>\n",
       "    </tr>\n",
       "  </tbody>\n",
       "</table>\n",
       "</div>"
      ],
      "text/plain": [
       "         남자        여자      내국인계    내국인_남자    내국인_여자     외국인계\n",
       "0  25608502  25460873  49705663  24819839  24885824  1363712\n",
       "1   2360708   2256094   4467697   2262853   2204844   149105\n",
       "2   2455898   2318980   4546520   2291860   2254660   228358\n",
       "3  20791896  20885799  40691446  20265126  20426320   986249\n",
       "4   4859535   5044777   9567196   4694317   4872879   337116\n",
       "5   1701347   1747390   3404667   1675339   1729328    44070\n",
       "6   1228511   1237541   2436770   1211219   1225551    29282\n",
       "7   1455017   1435434   2822601   1414793   1407808    67850\n",
       "8    748867    754014   1481289    736656    744633    21592\n",
       "9    772243    766151   1519314    763310    756004    19080"
      ]
     },
     "execution_count": 14,
     "metadata": {},
     "output_type": "execute_result"
    }
   ],
   "source": [
    "# 출력행수 지정\n",
    "df3 = pd.read_excel('./data/인구주택총조사2015.xlsx',nrows=10,usecols='C:H')\n",
    "df3"
   ]
  },
  {
   "cell_type": "code",
   "execution_count": 7,
   "metadata": {
    "scrolled": true
   },
   "outputs": [],
   "source": [
    "# 엑셀 파일 로딩하기\n"
   ]
  },
  {
   "cell_type": "code",
   "execution_count": 8,
   "metadata": {},
   "outputs": [],
   "source": [
    "# 컬럼 지정 (컬럼의 종류가 너무 많은데 필요한 부분이 작은 경우에 사용한다)\n"
   ]
  },
  {
   "cell_type": "code",
   "execution_count": null,
   "metadata": {},
   "outputs": [],
   "source": []
  },
  {
   "cell_type": "code",
   "execution_count": null,
   "metadata": {},
   "outputs": [],
   "source": []
  },
  {
   "cell_type": "code",
   "execution_count": null,
   "metadata": {},
   "outputs": [],
   "source": []
  },
  {
   "cell_type": "markdown",
   "metadata": {},
   "source": [
    "### 텍스트파일 읽어오기"
   ]
  },
  {
   "cell_type": "code",
   "execution_count": 20,
   "metadata": {},
   "outputs": [
    {
     "data": {
      "text/html": [
       "<div>\n",
       "<style scoped>\n",
       "    .dataframe tbody tr th:only-of-type {\n",
       "        vertical-align: middle;\n",
       "    }\n",
       "\n",
       "    .dataframe tbody tr th {\n",
       "        vertical-align: top;\n",
       "    }\n",
       "\n",
       "    .dataframe thead th {\n",
       "        text-align: right;\n",
       "    }\n",
       "</style>\n",
       "<table border=\"1\" class=\"dataframe\">\n",
       "  <thead>\n",
       "    <tr style=\"text-align: right;\">\n",
       "      <th></th>\n",
       "      <th>행정구역별</th>\n",
       "      <th>총인구</th>\n",
       "      <th>남자</th>\n",
       "      <th>여자</th>\n",
       "      <th>내국인계</th>\n",
       "      <th>내국인_남자</th>\n",
       "    </tr>\n",
       "  </thead>\n",
       "  <tbody>\n",
       "    <tr>\n",
       "      <th>0</th>\n",
       "      <td>전국</td>\n",
       "      <td>51069375</td>\n",
       "      <td>25608502</td>\n",
       "      <td>25460873</td>\n",
       "      <td>49705663</td>\n",
       "      <td>24819839</td>\n",
       "    </tr>\n",
       "    <tr>\n",
       "      <th>1</th>\n",
       "      <td>읍부</td>\n",
       "      <td>4616802</td>\n",
       "      <td>2360708</td>\n",
       "      <td>2256094</td>\n",
       "      <td>4467697</td>\n",
       "      <td>2262853</td>\n",
       "    </tr>\n",
       "    <tr>\n",
       "      <th>2</th>\n",
       "      <td>면부</td>\n",
       "      <td>4774878</td>\n",
       "      <td>2455898</td>\n",
       "      <td>2318980</td>\n",
       "      <td>4546520</td>\n",
       "      <td>2291860</td>\n",
       "    </tr>\n",
       "    <tr>\n",
       "      <th>3</th>\n",
       "      <td>동부</td>\n",
       "      <td>41677695</td>\n",
       "      <td>20791896</td>\n",
       "      <td>20885799</td>\n",
       "      <td>40691446</td>\n",
       "      <td>20265126</td>\n",
       "    </tr>\n",
       "  </tbody>\n",
       "</table>\n",
       "</div>"
      ],
      "text/plain": [
       "  행정구역별       총인구        남자        여자      내국인계    내국인_남자\n",
       "0    전국  51069375  25608502  25460873  49705663  24819839\n",
       "1    읍부   4616802   2360708   2256094   4467697   2262853\n",
       "2    면부   4774878   2455898   2318980   4546520   2291860\n",
       "3    동부  41677695  20791896  20885799  40691446  20265126"
      ]
     },
     "execution_count": 20,
     "metadata": {},
     "output_type": "execute_result"
    }
   ],
   "source": [
    "# 텍스트파일 읽어오기\n",
    "# 미리 엑셀파일에서 5줄 복사해서 메모장에 넣고 (탭구분상태)로 저장한다.\n",
    "df4 = pd.read_csv('data/TextData.txt','\\t',encoding='cp949')\n",
    "df4"
   ]
  },
  {
   "cell_type": "markdown",
   "metadata": {},
   "source": [
    "### JSON 파일 읽어오기"
   ]
  },
  {
   "cell_type": "code",
   "execution_count": 27,
   "metadata": {},
   "outputs": [
    {
     "data": {
      "text/plain": [
       "{'kind1': 'koreanfood',\n",
       " 'region': ['nosong', 'bibim', 'jungsung'],\n",
       " 'food_name': {'best-of-best': 'bibimbab', 'one-of-best': 'bulgogi'}}"
      ]
     },
     "execution_count": 27,
     "metadata": {},
     "output_type": "execute_result"
    }
   ],
   "source": [
    "# JSON 파일 읽어오기\n",
    "import json\n",
    "df5 = json.load(open('data/JsonData.json'))\n",
    "df5"
   ]
  },
  {
   "cell_type": "code",
   "execution_count": 28,
   "metadata": {},
   "outputs": [
    {
     "data": {
      "text/plain": [
       "'bibimbab'"
      ]
     },
     "execution_count": 28,
     "metadata": {},
     "output_type": "execute_result"
    }
   ],
   "source": [
    "df5['food_name']['best-of-best']"
   ]
  },
  {
   "cell_type": "code",
   "execution_count": 29,
   "metadata": {},
   "outputs": [
    {
     "data": {
      "text/plain": [
       "'bibim'"
      ]
     },
     "execution_count": 29,
     "metadata": {},
     "output_type": "execute_result"
    }
   ],
   "source": [
    "df5['region'][1]"
   ]
  },
  {
   "cell_type": "code",
   "execution_count": null,
   "metadata": {},
   "outputs": [],
   "source": []
  },
  {
   "cell_type": "code",
   "execution_count": null,
   "metadata": {},
   "outputs": [],
   "source": []
  },
  {
   "cell_type": "code",
   "execution_count": null,
   "metadata": {},
   "outputs": [],
   "source": []
  },
  {
   "cell_type": "code",
   "execution_count": null,
   "metadata": {},
   "outputs": [],
   "source": []
  }
 ],
 "metadata": {
  "kernelspec": {
   "display_name": "Python 3",
   "language": "python",
   "name": "python3"
  },
  "language_info": {
   "codemirror_mode": {
    "name": "ipython",
    "version": 3
   },
   "file_extension": ".py",
   "mimetype": "text/x-python",
   "name": "python",
   "nbconvert_exporter": "python",
   "pygments_lexer": "ipython3",
   "version": "3.7.6"
  }
 },
 "nbformat": 4,
 "nbformat_minor": 2
}
