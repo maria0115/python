{
 "cells": [
  {
   "cell_type": "markdown",
   "metadata": {},
   "source": [
    "### 가중합(weighted sum) \n",
    "\n",
    "신경망 이론에서 사용되는 개념으로 가중치를 더하는 것이다\n"
   ]
  },
  {
   "cell_type": "code",
   "execution_count": 3,
   "metadata": {},
   "outputs": [
    {
     "data": {
      "text/plain": [
       "32"
      ]
     },
     "execution_count": 3,
     "metadata": {},
     "output_type": "execute_result"
    }
   ],
   "source": [
    "import numpy as np\n",
    "\n",
    "# 2차원 배열의 곱\n",
    "x = np.array([[1],[2],[3]]) # 열벡터\n",
    "y = np.array([[4],[5],[6]])\n",
    "\n",
    "# 두 벡터를 곱할 때는 하나의 열벡터와 하나의 행벡터여야 한기에\n",
    "# 하나의 벡터를 T로 변경한다.\n",
    "# 두 벡터의 곱은 각각을 곱한 합이 결과이다\n",
    "np.dot(x.T, y)\n",
    "np.dot(x.T, y)[0,0]"
   ]
  },
  {
   "cell_type": "code",
   "execution_count": 10,
   "metadata": {},
   "outputs": [
    {
     "name": "stdout",
     "output_type": "stream",
     "text": [
      "32\n"
     ]
    }
   ],
   "source": [
    "# 1차원 배열의 곱\n",
    "x = np.array([1,2,3])\n",
    "y = np.array([4,5,6])\n",
    "print(np.dot(x,y))\n",
    "# 이 경우는 자동으로 하나의 벡터를 열벡터로 만들기에 에러가 발생하기 않는다"
   ]
  },
  {
   "cell_type": "markdown",
   "metadata": {},
   "source": [
    "### 가중 평균(weighted average)와 단순평균\n",
    "\n",
    "가중합의 가중치값을 전체 가중치값의 합으로 나누면 가중평균이 된다.\n",
    "\n",
    "\n",
    "*  [1,2,3]의 단순평균\n",
    "\n",
    "  (1+2+3)/3 = 2\n",
    "  \n",
    "  \n",
    "*  가중평균의 예 : 대학교 성적 계산 (과목별 학점을 곱하여 평균을 구함 )\n",
    "            여기서 학점이 가중치가 되는 것이다\n",
    "            \n",
    "\n",
    "\n",
    "[참고] 데이터 사이언스 스쿨\n",
    "\n",
    "데이터 사이언스 스쿨\n",
    "https://datascienceschool.net/view-notebook/3f44cfdda2874080a9aa6b034c71d5ec/\n",
    "\n"
   ]
  },
  {
   "cell_type": "code",
   "execution_count": 12,
   "metadata": {},
   "outputs": [
    {
     "data": {
      "text/plain": [
       "4.5"
      ]
     },
     "execution_count": 12,
     "metadata": {},
     "output_type": "execute_result"
    }
   ],
   "source": [
    "x = np.arange(10) \n",
    "x         # 0부터 9까지 수\n",
    "x.mean()  # 단순평균"
   ]
  },
  {
   "cell_type": "code",
   "execution_count": 14,
   "metadata": {},
   "outputs": [
    {
     "data": {
      "text/plain": [
       "4.5"
      ]
     },
     "execution_count": 14,
     "metadata": {},
     "output_type": "execute_result"
    }
   ],
   "source": [
    "n = len(x)\n",
    "\n",
    "np.dot( np.ones(n), x)/n  # mean() 동일"
   ]
  }
 ],
 "metadata": {
  "kernelspec": {
   "display_name": "Python 3",
   "language": "python",
   "name": "python3"
  },
  "language_info": {
   "codemirror_mode": {
    "name": "ipython",
    "version": 3
   },
   "file_extension": ".py",
   "mimetype": "text/x-python",
   "name": "python",
   "nbconvert_exporter": "python",
   "pygments_lexer": "ipython3",
   "version": "3.7.1"
  }
 },
 "nbformat": 4,
 "nbformat_minor": 2
}
