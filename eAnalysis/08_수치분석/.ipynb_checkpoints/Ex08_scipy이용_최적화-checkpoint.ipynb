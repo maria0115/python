{
 "cells": [
  {
   "cell_type": "markdown",
   "metadata": {},
   "source": [
    "## scipy를 이용한 최적화\n",
    "\n",
    "* scipy의 서브 패키지 optimize에 minimize 메소드를 이용하여 최적화한다\n",
    "* 이 때 사용하는 BFGS 알고리즘이다\n",
    "* minimize 메소드는 최적화를 시작하기 위한 초기값과 목적함수를 인수로 사용한다\n",
    "\n",
    "\n",
    "#### * minimize 메소드\n",
    "최적화 결과를 OptimizeResult 클래스 객체로 반환한다\n",
    "\n",
    "    OptimizeResult 클래스의 속성들 :\n",
    "    - x : 최적화 해\n",
    "    - success : 최적화를 성공했을 때 True 반환\n",
    "    - status : 종료 상태. 최적화에 성공했을 때 0을 반환\n",
    "    - message : 최적화 성공/실패 메세지 문자열\n",
    "    - fun : x 위치에서의 함수 값\n",
    "    - jac : x 위치에서의 자코비안(그레디언트:기울기) 벡터 값\n",
    "    - hess : x 위치에서의 헤시안 행렬 값\n",
    "    - nfev : 목적 함수를 몇 번 호출한 횟수\n",
    "    - njev : 자코비안 계산 횟수\n",
    "    - nhev : 헤시안 계산 횟수\n",
    "    - nit : x 이동 횟수\n",
    "\n",
    "[참고] 데이타 사이언스 스쿨\n",
    "https://datascienceschool.net/view-notebook/4642b9f187784444b8f3a8309c583007/\n"
   ]
  },
  {
   "cell_type": "code",
   "execution_count": null,
   "metadata": {},
   "outputs": [],
   "source": []
  },
  {
   "cell_type": "code",
   "execution_count": null,
   "metadata": {},
   "outputs": [],
   "source": []
  },
  {
   "cell_type": "code",
   "execution_count": null,
   "metadata": {},
   "outputs": [],
   "source": [
    "## scipy의 서브 패키지(하위 모듈)\n",
    "\n",
    "\n",
    "1. scipy.optimize : 최적화\n",
    "2. scipy.stats : 통계\n",
    "3. scipy.interplate : 보간법\n",
    "4. scipy.io : 데이터 입출력\n",
    "5. scipy.linalg : 선형대수 루틴 (linear algibura"
   ]
  }
 ],
 "metadata": {
  "kernelspec": {
   "display_name": "Python 3",
   "language": "python",
   "name": "python3"
  },
  "language_info": {
   "codemirror_mode": {
    "name": "ipython",
    "version": 3
   },
   "file_extension": ".py",
   "mimetype": "text/x-python",
   "name": "python",
   "nbconvert_exporter": "python",
   "pygments_lexer": "ipython3",
   "version": "3.7.1"
  }
 },
 "nbformat": 4,
 "nbformat_minor": 2
}
