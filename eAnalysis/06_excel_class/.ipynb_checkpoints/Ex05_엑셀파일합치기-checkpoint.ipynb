{
 "cells": [
  {
   "cell_type": "markdown",
   "metadata": {},
   "source": [
    "### 엑셀파일 읽는 2가지 방식\n",
    "\n",
    "1. 파이썬 라이브러리(판다스) 처리\n",
    "    + pandas.read_excel('엑셀파일')\n",
    "    + 단순히 데이타만 읽어서 합치는 경우에 빠른 처리\n",
    "\n",
    "\n",
    "\n",
    "2. 엑셀 프로그램을 통한 처리\n",
    "    + xlwings 라이브러리 활용\n",
    "    + 엑셀파일 rows 제한 (xls:65535개, xlsx:2048576개)\n",
    "    \n",
    "    \n",
    "    [예] 일반적으로 분기별/월별/주별 엑셀파일을 종합해서 분석하고자 할 때\n",
    "    \n",
    "    "
   ]
  },
  {
   "cell_type": "code",
   "execution_count": null,
   "metadata": {},
   "outputs": [],
   "source": [
    "import pandas as pd"
   ]
  },
  {
   "cell_type": "code",
   "execution_count": null,
   "metadata": {},
   "outputs": [],
   "source": [
    "%ls data  # 데이타 폴더의 내용 보기"
   ]
  },
  {
   "cell_type": "code",
   "execution_count": null,
   "metadata": {},
   "outputs": [],
   "source": [
    "df1 = pd.read_excel('data/2016-01.xls', index_col='상품명')\n"
   ]
  },
  {
   "cell_type": "code",
   "execution_count": null,
   "metadata": {},
   "outputs": [],
   "source": [
    "# 2016-01파일과 다른 파일들을 합치면 데이타구분을 위해 날짜컬럼을 추가\n",
    "# 2016-01 부터 2016-06까지 작업 -> 반복\n",
    "\n"
   ]
  },
  {
   "cell_type": "code",
   "execution_count": null,
   "metadata": {},
   "outputs": [],
   "source": [
    "# 데이타 프레임 합치기\n",
    "\n"
   ]
  },
  {
   "cell_type": "code",
   "execution_count": null,
   "metadata": {},
   "outputs": [],
   "source": [
    "# 합친 데이타를 엑셀로 다시 저장\n"
   ]
  },
  {
   "cell_type": "code",
   "execution_count": null,
   "metadata": {},
   "outputs": [],
   "source": []
  },
  {
   "cell_type": "markdown",
   "metadata": {},
   "source": [
    "### pathlib.Path 객체 이용\n",
    "\n",
    "+ path.glob('2016-*.xls') 이용"
   ]
  },
  {
   "cell_type": "code",
   "execution_count": null,
   "metadata": {},
   "outputs": [],
   "source": [
    "import pathlib\n",
    "\n",
    "path = pathlib.Path('./data')\n",
    "for p_name in path.iterdir():\n",
    "    print(p_name)"
   ]
  },
  {
   "cell_type": "code",
   "execution_count": null,
   "metadata": {},
   "outputs": [],
   "source": [
    "  "
   ]
  },
  {
   "cell_type": "markdown",
   "metadata": {},
   "source": [
    "만일 하위의 모든 경로에서 검색하려면? \n",
    "\n",
    "    path.glob('**/*.xls')\n",
    "    \n",
    "    \n",
    "웹이나 네트워크를 통해 데이타를 가져오는 경우 그 데이타를 바로 가져다가 정제하고 분석하지 못한다.\n",
    "그래서 일단 필요한 데이타를 읽어서 파일에 저장을 먼저 하는 경우가 많기 때문에\n",
    "크롤링하는 분들이 파일처리 부분을 강조 많이 하신다"
   ]
  }
 ],
 "metadata": {
  "kernelspec": {
   "display_name": "Python 3",
   "language": "python",
   "name": "python3"
  },
  "language_info": {
   "codemirror_mode": {
    "name": "ipython",
    "version": 3
   },
   "file_extension": ".py",
   "mimetype": "text/x-python",
   "name": "python",
   "nbconvert_exporter": "python",
   "pygments_lexer": "ipython3",
   "version": "3.7.3"
  }
 },
 "nbformat": 4,
 "nbformat_minor": 2
}
