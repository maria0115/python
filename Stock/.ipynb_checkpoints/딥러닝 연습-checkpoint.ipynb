{
 "cells": [
  {
   "cell_type": "code",
   "execution_count": null,
   "metadata": {},
   "outputs": [],
   "source": [
    "# 데이터셋 준비"
   ]
  },
  {
   "cell_type": "code",
   "execution_count": 10,
   "metadata": {},
   "outputs": [
    {
     "data": {
      "text/plain": [
       "array([-10,  -9,  -8,  -7,  -6,  -5,  -4,  -3,  -2,  -1,   0,   1,   2,\n",
       "         3,   4,   5,   6,   7,   8,   9])"
      ]
     },
     "execution_count": 10,
     "metadata": {},
     "output_type": "execute_result"
    }
   ],
   "source": [
    "import numpy as np\n",
    "x = np.arange(-10, 10, 1)\n",
    "x"
   ]
  },
  {
   "cell_type": "code",
   "execution_count": 11,
   "metadata": {},
   "outputs": [
    {
     "data": {
      "text/plain": [
       "array([-21, -19, -17, -15, -13, -11,  -9,  -7,  -5,  -3,  -1,   1,   3,\n",
       "         5,   7,   9,  11,  13,  15,  17])"
      ]
     },
     "execution_count": 11,
     "metadata": {},
     "output_type": "execute_result"
    }
   ],
   "source": [
    "y = 2*x - 1\n",
    "y"
   ]
  },
  {
   "cell_type": "code",
   "execution_count": 12,
   "metadata": {},
   "outputs": [
    {
     "data": {
      "text/plain": [
       "[<matplotlib.lines.Line2D at 0x1a692eada90>]"
      ]
     },
     "execution_count": 12,
     "metadata": {},
     "output_type": "execute_result"
    },
    {
     "data": {
      "image/png": "[encoded data removed]",
      "text/plain": [
       "<Figure size 432x288 with 1 Axes>"
      ]
     },
     "metadata": {
      "needs_background": "light"
     },
     "output_type": "display_data"
    }
   ],
   "source": [
    "import matplotlib.pyplot as plt\n",
    "plt.plot(x, y)"
   ]
  },
  {
   "cell_type": "code",
   "execution_count": 17,
   "metadata": {},
   "outputs": [
    {
     "data": {
      "text/plain": [
       "array([-15,  13, -11,  -7,   5,  -5,   7, -13,   3,   1, -19, -21, -17,\n",
       "        -1,  11,  -3,   9,  -9,  15,  17])"
      ]
     },
     "execution_count": 17,
     "metadata": {},
     "output_type": "execute_result"
    }
   ],
   "source": [
    "y"
   ]
  },
  {
   "cell_type": "code",
   "execution_count": 14,
   "metadata": {},
   "outputs": [
    {
     "name": "stdout",
     "output_type": "stream",
     "text": [
      "x 배열의 원소 개수:  20\n",
      "기존 인덱스: [ 0  1  2  3  4  5  6  7  8  9 10 11 12 13 14 15 16 17 18 19]\n",
      "섞인 인덱스: [ 3 17  5  7 13  8 14  4 12 11  1  0  2 10 16  9 15  6 18 19]\n"
     ]
    },
    {
     "data": {
      "text/plain": [
       "array([-10,  -9,  -8,  -7,  -6,  -5,  -4,  -3,  -2,  -1,   0,   1,   2,\n",
       "         3,   4,   5,   6,   7,   8,   9])"
      ]
     },
     "execution_count": 14,
     "metadata": {},
     "output_type": "execute_result"
    }
   ],
   "source": [
    "print(\"x 배열의 원소 개수: \", x.shape[0])\n",
    "idx = np.arange(x.shape[0])\n",
    "print(\"기존 인덱스:\", idx)\n",
    "np.random.shuffle(idx)\n",
    "print(\"섞인 인덱스:\", idx)\n"
   ]
  },
  {
   "cell_type": "code",
   "execution_count": 16,
   "metadata": {},
   "outputs": [
    {
     "name": "stdout",
     "output_type": "stream",
     "text": [
      "x:  [ -7   7  -5  -3   3  -2   4  -6   2   1  -9 -10  -8   0   6  -1   5  -4\n",
      "   8   9]\n",
      "y:  [-15  13 -11  -7   5  -5   7 -13   3   1 -19 -21 -17  -1  11  -3   9  -9\n",
      "  15  17]\n"
     ]
    }
   ],
   "source": [
    "x = x[idx]\n",
    "print (\"x: \", x)\n",
    "y = y[idx]\n",
    "print (\"y: \", y)"
   ]
  },
  {
   "cell_type": "code",
   "execution_count": 21,
   "metadata": {},
   "outputs": [
    {
     "data": {
      "text/plain": [
       "array([[ -7],\n",
       "       [  7],\n",
       "       [ -5],\n",
       "       [ -3],\n",
       "       [  3],\n",
       "       [ -2],\n",
       "       [  4],\n",
       "       [ -6],\n",
       "       [  2],\n",
       "       [  1],\n",
       "       [ -9],\n",
       "       [-10],\n",
       "       [ -8],\n",
       "       [  0],\n",
       "       [  6],\n",
       "       [ -1],\n",
       "       [  5],\n",
       "       [ -4],\n",
       "       [  8],\n",
       "       [  9]])"
      ]
     },
     "execution_count": 21,
     "metadata": {},
     "output_type": "execute_result"
    }
   ],
   "source": [
    "x_new = x.reshape(-1,1)\n",
    "x_new"
   ]
  },
  {
   "cell_type": "code",
   "execution_count": null,
   "metadata": {},
   "outputs": [],
   "source": [
    "# 선형회귀모델"
   ]
  },
  {
   "cell_type": "code",
   "execution_count": 7,
   "metadata": {},
   "outputs": [],
   "source": [
    "from sklearn.linear_model import LinearRegression"
   ]
  },
  {
   "cell_type": "code",
   "execution_count": 19,
   "metadata": {},
   "outputs": [],
   "source": [
    "lr = LinearRegression()"
   ]
  },
  {
   "cell_type": "code",
   "execution_count": 22,
   "metadata": {},
   "outputs": [
    {
     "name": "stdout",
     "output_type": "stream",
     "text": [
      "기울기:  [2.]\n",
      "y절편:  -0.9999999999999993\n"
     ]
    }
   ],
   "source": [
    "lr.fit(x_new, y)\n",
    "print (\"기울기: \", lr.coef_)\n",
    "print (\"y절편: \", lr.intercept_)"
   ]
  },
  {
   "cell_type": "code",
   "execution_count": 23,
   "metadata": {},
   "outputs": [
    {
     "data": {
      "text/plain": [
       "array([[11],\n",
       "       [12],\n",
       "       [13],\n",
       "       [14],\n",
       "       [15]])"
      ]
     },
     "execution_count": 23,
     "metadata": {},
     "output_type": "execute_result"
    }
   ],
   "source": [
    "x_test = np.arange(11, 16, 1).reshape(-1, 1)\n",
    "x_test"
   ]
  },
  {
   "cell_type": "code",
   "execution_count": 24,
   "metadata": {},
   "outputs": [
    {
     "data": {
      "text/plain": [
       "array([21., 23., 25., 27., 29.])"
      ]
     },
     "execution_count": 24,
     "metadata": {},
     "output_type": "execute_result"
    }
   ],
   "source": [
    "y_hat = lr.predict(x_test)\n",
    "y_hat"
   ]
  },
  {
   "cell_type": "code",
   "execution_count": null,
   "metadata": {},
   "outputs": [],
   "source": [
    "# 간단한 실습예제 tensorflow,keras"
   ]
  },
  {
   "cell_type": "code",
   "execution_count": 28,
   "metadata": {},
   "outputs": [],
   "source": [
    "# 텐서플로우(케라스) 불러오기\n",
    "from tensorflow import keras\n",
    "from tensorflow.keras.layers import Dense"
   ]
  },
  {
   "cell_type": "markdown",
   "metadata": {},
   "source": [
    "## 심층신경망(DNN)\n",
    "완전연결층 Dense 레이어를 add 명령을 사용하여 추가합니다. <br>\n",
    "units=1 인자는 목표변수(타겟 레이블)의 출력 데이터가 1가지 종류라는 뜻입니다. <br>\n",
    "회귀 문제는 하나의 단일 값을 예측하기 때문에 1로 지정합니다. <br>\n",
    "input_shape=(1,) 옵션은 입력 데이터인 설명변수(x 변수)의 데이터 구조를 지정합니다. <br>\n",
    "여기서는 1개의 열, 즉 입력 변수인 x가 1개라는 뜻"
   ]
  },
  {
   "cell_type": "code",
   "execution_count": 29,
   "metadata": {},
   "outputs": [],
   "source": [
    "# 딥러닝 모델 객체 정의하기\n",
    "# 1개의 레이어를 갖는 간단한 신경망 모델\n",
    "\n",
    "dnn = keras.Sequential()\n",
    "dnn.add(Dense(units=1, input_shape=(1,)))\n",
    "dnn.compile(optimizer='sgd', loss='mse')"
   ]
  },
  {
   "cell_type": "code",
   "execution_count": 30,
   "metadata": {},
   "outputs": [
    {
     "name": "stdout",
     "output_type": "stream",
     "text": [
      "Model: \"sequential\"\n",
      "_________________________________________________________________\n",
      "Layer (type)                 Output Shape              Param #   \n",
      "=================================================================\n",
      "dense (Dense)                (None, 1)                 2         \n",
      "=================================================================\n",
      "Total params: 2\n",
      "Trainable params: 2\n",
      "Non-trainable params: 0\n",
      "_________________________________________________________________\n"
     ]
    }
   ],
   "source": [
    "dnn.summary()"
   ]
  },
  {
   "cell_type": "code",
   "execution_count": 31,
   "metadata": {},
   "outputs": [
    {
     "name": "stdout",
     "output_type": "stream",
     "text": [
      "Epoch 1/10\n",
      "1/1 [==============================] - 0s 452ms/step - loss: 27.3955\n",
      "Epoch 2/10\n",
      "1/1 [==============================] - 0s 2ms/step - loss: 3.8032\n",
      "Epoch 3/10\n",
      "1/1 [==============================] - 0s 2ms/step - loss: 1.2041\n",
      "Epoch 4/10\n",
      "1/1 [==============================] - 0s 3ms/step - loss: 0.8902\n",
      "Epoch 5/10\n",
      "1/1 [==============================] - 0s 3ms/step - loss: 0.8262\n",
      "Epoch 6/10\n",
      "1/1 [==============================] - 0s 999us/step - loss: 0.7906\n",
      "Epoch 7/10\n",
      "1/1 [==============================] - 0s 996us/step - loss: 0.7592\n",
      "Epoch 8/10\n",
      "1/1 [==============================] - 0s 2ms/step - loss: 0.7293\n",
      "Epoch 9/10\n",
      "1/1 [==============================] - 0s 3ms/step - loss: 0.7007\n",
      "Epoch 10/10\n",
      "1/1 [==============================] - 0s 2ms/step - loss: 0.6731\n"
     ]
    },
    {
     "data": {
      "text/plain": [
       "<tensorflow.python.keras.callbacks.History at 0x1a69a7f1eb0>"
      ]
     },
     "execution_count": 31,
     "metadata": {},
     "output_type": "execute_result"
    }
   ],
   "source": [
    "# 주어진 데이터로 모델 학습시키기\n",
    "dnn.fit(x_new, y, epochs=10)"
   ]
  },
  {
   "cell_type": "code",
   "execution_count": 32,
   "metadata": {},
   "outputs": [
    {
     "data": {
      "text/plain": [
       "array([[21.943596],\n",
       "       [23.955997],\n",
       "       [25.9684  ],\n",
       "       [27.9808  ],\n",
       "       [29.993202]], dtype=float32)"
      ]
     },
     "execution_count": 32,
     "metadata": {},
     "output_type": "execute_result"
    }
   ],
   "source": [
    "# 새로운 x 데이터에 대한 y값 예측하기 \n",
    "y_hat_dnn = dnn.predict(x_test)\n",
    "y_hat_dnn"
   ]
  },
  {
   "cell_type": "markdown",
   "metadata": {},
   "source": [
    "# 강화학습"
   ]
  },
  {
   "cell_type": "code",
   "execution_count": 46,
   "metadata": {},
   "outputs": [
    {
     "ename": "ModuleNotFoundError",
     "evalue": "No module named 'rl'",
     "output_type": "error",
     "traceback": [
      "\u001b[1;31m---------------------------------------------------------------------------\u001b[0m",
      "\u001b[1;31mModuleNotFoundError\u001b[0m                       Traceback (most recent call last)",
      "\u001b[1;32m<ipython-input-46-11185eb504d4>\u001b[0m in \u001b[0;36m<module>\u001b[1;34m\u001b[0m\n\u001b[0;32m      6\u001b[0m \u001b[1;32mfrom\u001b[0m \u001b[0mkeras\u001b[0m\u001b[1;33m.\u001b[0m\u001b[0moptimizers\u001b[0m \u001b[1;32mimport\u001b[0m \u001b[0mAdam\u001b[0m\u001b[1;33m\u001b[0m\u001b[1;33m\u001b[0m\u001b[0m\n\u001b[0;32m      7\u001b[0m \u001b[1;33m\u001b[0m\u001b[0m\n\u001b[1;32m----> 8\u001b[1;33m \u001b[1;32mfrom\u001b[0m \u001b[0mrl\u001b[0m\u001b[1;33m.\u001b[0m\u001b[0magents\u001b[0m\u001b[1;33m.\u001b[0m\u001b[0mdqn\u001b[0m \u001b[1;32mimport\u001b[0m \u001b[0mDQNAgent\u001b[0m                    \u001b[1;31m# 강화학습 에이전트, 정책, 메모리\u001b[0m\u001b[1;33m\u001b[0m\u001b[1;33m\u001b[0m\u001b[0m\n\u001b[0m\u001b[0;32m      9\u001b[0m \u001b[1;32mfrom\u001b[0m \u001b[0mrl\u001b[0m\u001b[1;33m.\u001b[0m\u001b[0mpolicy\u001b[0m \u001b[1;32mimport\u001b[0m \u001b[0mEpsGreedyQPolicy\u001b[0m\u001b[1;33m\u001b[0m\u001b[1;33m\u001b[0m\u001b[0m\n\u001b[0;32m     10\u001b[0m \u001b[1;32mfrom\u001b[0m \u001b[0mrl\u001b[0m\u001b[1;33m.\u001b[0m\u001b[0mmemory\u001b[0m \u001b[1;32mimport\u001b[0m \u001b[0mSequentialMemory\u001b[0m\u001b[1;33m\u001b[0m\u001b[1;33m\u001b[0m\u001b[0m\n",
      "\u001b[1;31mModuleNotFoundError\u001b[0m: No module named 'rl'"
     ]
    }
   ],
   "source": [
    "import numpy as np\n",
    "import gym\n",
    "\n",
    "from keras.models import Sequential                     # 케라스 모델 임포트\n",
    "from keras.layers import Dense, Activation, Flatten\n",
    "from keras.optimizers import Adam\n",
    "\n",
    "from rl.agents.dqn import DQNAgent                    # 강화학습 에이전트, 정책, 메모리 \n",
    "from rl.policy import EpsGreedyQPolicy\n",
    "from rl.memory import SequentialMemory\n",
    "\n",
    "ENV_NAME = 'CartPole-v0'\n",
    "\n",
    "# Get the environment and extract the number of actions available in the Cartpole problem\n",
    "env = gym.make(ENV_NAME)           # 훈련 환경 가져오기\n",
    "np.random.seed(123)                      # 훈련 랜덤 데이터 생성\n",
    "env.seed(123)\n",
    "nb_actions = env.action_space.n\n",
    "\n",
    "model = Sequential()                      # 딥러인 모델 작성\n",
    "model.add(Flatten(input_shape=(1,) + env.observation_space.shape))   # 입력\n",
    "model.add(Dense(16))                     \n",
    "model.add(Activation('relu'))\n",
    "model.add(Dense(nb_actions))\n",
    "model.add(Activation('linear'))\n",
    "print(model.summary())\n",
    "\n",
    "policy = EpsGreedyQPolicy()            # 정책 알고리즘\n",
    "memory = SequentialMemory(limit=50000, window_length=1)\n",
    "dqn = DQNAgent(model=model, nb_actions=nb_actions, memory=memory, nb_steps_warmup=10, target_model_update=1e-2, policy=policy)   # 에이전트 설정\n",
    "dqn.compile(Adam(lr=1e-3), metrics=['mae'])     # 최적화 모델 설정\n",
    "\n",
    "# Okay, now it's time to learn something! We visualize the training here for show, but this slows down training quite a lot. \n",
    "dqn.fit(env, nb_steps=5000, visualize=True, verbose=2)      # 딥러닝\n",
    "\n",
    "dqn.test(env, nb_episodes=5, visualize=True)      # 테스트"
   ]
  },
  {
   "cell_type": "code",
   "execution_count": 48,
   "metadata": {},
   "outputs": [
    {
     "name": "stdout",
     "output_type": "stream",
     "text": [
      "Collecting rl\n",
      "  Using cached rl-3.0.zip (448 kB)\n",
      "Requirement already satisfied: setuptools in c:\\users\\user\\anaconda3\\envs\\py38_64\\lib\\site-packages (from rl) (50.3.1.post20201107)\n",
      "Building wheels for collected packages: rl\n",
      "  Building wheel for rl (setup.py): started\n",
      "  Building wheel for rl (setup.py): finished with status 'error'\n",
      "  Running setup.py clean for rl\n",
      "Failed to build rl\n",
      "Installing collected packages: rl\n",
      "    Running setup.py install for rl: started\n",
      "    Running setup.py install for rl: finished with status 'error'\n",
      "Note: you may need to restart the kernel to use updated packages.\n"
     ]
    },
    {
     "name": "stderr",
     "output_type": "stream",
     "text": [
      "  ERROR: Command errored out with exit status 1:\n",
      "   command: 'C:\\Users\\user\\anaconda3\\envs\\py38_64\\python.exe' -u -c 'import sys, setuptools, tokenize; sys.argv[0] = '\"'\"'C:\\\\Users\\\\Public\\\\Documents\\\\ESTsoft\\\\CreatorTemp\\\\pip-install-pmq5en8g\\\\rl_357ee2b687884e00b38d20dcf21eb3d0\\\\setup.py'\"'\"'; __file__='\"'\"'C:\\\\Users\\\\Public\\\\Documents\\\\ESTsoft\\\\CreatorTemp\\\\pip-install-pmq5en8g\\\\rl_357ee2b687884e00b38d20dcf21eb3d0\\\\setup.py'\"'\"';f=getattr(tokenize, '\"'\"'open'\"'\"', open)(__file__);code=f.read().replace('\"'\"'\\r\\n'\"'\"', '\"'\"'\\n'\"'\"');f.close();exec(compile(code, __file__, '\"'\"'exec'\"'\"'))' bdist_wheel -d 'C:\\Users\\Public\\Documents\\ESTsoft\\CreatorTemp\\pip-wheel-crgf325g'\n",
      "       cwd: C:\\Users\\Public\\Documents\\ESTsoft\\CreatorTemp\\pip-install-pmq5en8g\\rl_357ee2b687884e00b38d20dcf21eb3d0\\\n",
      "  Complete output (65 lines):\n",
      "  running bdist_wheel\n",
      "  running build\n",
      "  running build_py\n",
      "  creating build\n",
      "  creating build\\lib.win-amd64-3.8\n",
      "  creating build\\lib.win-amd64-3.8\\rl\n",
      "  copying rl\\testing.py -> build\\lib.win-amd64-3.8\\rl\n",
      "  copying rl\\utils.py -> build\\lib.win-amd64-3.8\\rl\n",
      "  copying rl\\_completion.py -> build\\lib.win-amd64-3.8\\rl\n",
      "  copying rl\\_history.py -> build\\lib.win-amd64-3.8\\rl\n",
      "  copying rl\\_init.py -> build\\lib.win-amd64-3.8\\rl\n",
      "  copying rl\\__init__.py -> build\\lib.win-amd64-3.8\\rl\n",
      "  creating build\\lib.win-amd64-3.8\\rl\\examples\n",
      "  copying rl\\examples\\display_matches_hook.py -> build\\lib.win-amd64-3.8\\rl\\examples\n",
      "  copying rl\\examples\\email.py -> build\\lib.win-amd64-3.8\\rl\\examples\n",
      "  copying rl\\examples\\factory.py -> build\\lib.win-amd64-3.8\\rl\\examples\n",
      "  copying rl\\examples\\filename.py -> build\\lib.win-amd64-3.8\\rl\\examples\n",
      "  copying rl\\examples\\pre_input_hook.py -> build\\lib.win-amd64-3.8\\rl\\examples\n",
      "  copying rl\\examples\\raw_input.py -> build\\lib.win-amd64-3.8\\rl\\examples\n",
      "  copying rl\\examples\\static.py -> build\\lib.win-amd64-3.8\\rl\\examples\n",
      "  copying rl\\examples\\__init__.py -> build\\lib.win-amd64-3.8\\rl\\examples\n",
      "  creating build\\lib.win-amd64-3.8\\rl\\tests\n",
      "  copying rl\\tests\\test_callhooks.py -> build\\lib.win-amd64-3.8\\rl\\tests\n",
      "  copying rl\\tests\\test_generator.py -> build\\lib.win-amd64-3.8\\rl\\tests\n",
      "  copying rl\\tests\\test_histfile.py -> build\\lib.win-amd64-3.8\\rl\\tests\n",
      "  copying rl\\tests\\test_history.py -> build\\lib.win-amd64-3.8\\rl\\tests\n",
      "  copying rl\\tests\\test_initfile.py -> build\\lib.win-amd64-3.8\\rl\\tests\n",
      "  copying rl\\tests\\test_properties.py -> build\\lib.win-amd64-3.8\\rl\\tests\n",
      "  copying rl\\tests\\test_readline.py -> build\\lib.win-amd64-3.8\\rl\\tests\n",
      "  copying rl\\tests\\test_setup.py -> build\\lib.win-amd64-3.8\\rl\\tests\n",
      "  copying rl\\tests\\test_unicode.py -> build\\lib.win-amd64-3.8\\rl\\tests\n",
      "  copying rl\\tests\\__init__.py -> build\\lib.win-amd64-3.8\\rl\\tests\n",
      "  running egg_info\n",
      "  writing rl.egg-info\\PKG-INFO\n",
      "  writing dependency_links to rl.egg-info\\dependency_links.txt\n",
      "  writing requirements to rl.egg-info\\requires.txt\n",
      "  writing top-level names to rl.egg-info\\top_level.txt\n",
      "  reading manifest file 'rl.egg-info\\SOURCES.txt'\n",
      "  reading manifest template 'MANIFEST.in'\n",
      "  writing manifest file 'rl.egg-info\\SOURCES.txt'\n",
      "  copying rl\\iterator.c -> build\\lib.win-amd64-3.8\\rl\n",
      "  copying rl\\iterator.h -> build\\lib.win-amd64-3.8\\rl\n",
      "  copying rl\\modulestate.c -> build\\lib.win-amd64-3.8\\rl\n",
      "  copying rl\\modulestate.h -> build\\lib.win-amd64-3.8\\rl\n",
      "  copying rl\\readline.c -> build\\lib.win-amd64-3.8\\rl\n",
      "  copying rl\\stringarray.c -> build\\lib.win-amd64-3.8\\rl\n",
      "  copying rl\\stringarray.h -> build\\lib.win-amd64-3.8\\rl\n",
      "  copying rl\\unicode.c -> build\\lib.win-amd64-3.8\\rl\n",
      "  copying rl\\unicode.h -> build\\lib.win-amd64-3.8\\rl\n",
      "  copying rl\\examples\\README.rst -> build\\lib.win-amd64-3.8\\rl\\examples\n",
      "  running build_ext\n",
      "  WARNING: Command not found: ldd\n",
      "  WARNING: Failed to find a termcap library\n",
      "  하위 디렉터리 또는 파일 build이(가) 이미 있습니다.\n",
      "  다음 내용 진행 중 오류 발생: build.\n",
      "  building 'rl.readline' extension\n",
      "  creating build\\temp.win-amd64-3.8\n",
      "  creating build\\temp.win-amd64-3.8\\Release\n",
      "  creating build\\temp.win-amd64-3.8\\Release\\rl\n",
      "  creating build\\temp.win-amd64-3.8\\Release\\build\n",
      "  creating build\\temp.win-amd64-3.8\\Release\\build\\readline\n",
      "  C:\\Program Files (x86)\\Microsoft Visual Studio\\2017\\BuildTools\\VC\\Tools\\MSVC\\14.16.27023\\bin\\HostX86\\x64\\cl.exe /c /nologo /Ox /W3 /GL /DNDEBUG /MD -DHAVE_CONFIG_H -DRL_LIBRARY_VERSION=\"8.0\" -Ibuild -Ibuild/readline -IC:\\Users\\user\\anaconda3\\envs\\py38_64\\include -IC:\\Users\\user\\anaconda3\\envs\\py38_64\\include \"-IC:\\Program Files (x86)\\Microsoft Visual Studio\\2017\\BuildTools\\VC\\Tools\\MSVC\\14.16.27023\\include\" \"-IC:\\Program Files (x86)\\Windows Kits\\10\\include\\10.0.17763.0\\ucrt\" \"-IC:\\Program Files (x86)\\Windows Kits\\10\\include\\10.0.17763.0\\shared\" \"-IC:\\Program Files (x86)\\Windows Kits\\10\\include\\10.0.17763.0\\um\" \"-IC:\\Program Files (x86)\\Windows Kits\\10\\include\\10.0.17763.0\\winrt\" \"-IC:\\Program Files (x86)\\Windows Kits\\10\\include\\10.0.17763.0\\cppwinrt\" /Tcrl/readline.c /Fobuild\\temp.win-amd64-3.8\\Release\\rl/readline.obj\n",
      "  readline.c\n",
      "  rl/readline.c(18): fatal error C1083: 포함 파일을 열 수 없습니다. 'sys/time.h': No such file or directory\n",
      "  error: command 'C:\\\\Program Files (x86)\\\\Microsoft Visual Studio\\\\2017\\\\BuildTools\\\\VC\\\\Tools\\\\MSVC\\\\14.16.27023\\\\bin\\\\HostX86\\\\x64\\\\cl.exe' failed with exit status 2\n",
      "  ----------------------------------------\n",
      "  ERROR: Failed building wheel for rl\n",
      "    ERROR: Command errored out with exit status 1:\n",
      "     command: 'C:\\Users\\user\\anaconda3\\envs\\py38_64\\python.exe' -u -c 'import sys, setuptools, tokenize; sys.argv[0] = '\"'\"'C:\\\\Users\\\\Public\\\\Documents\\\\ESTsoft\\\\CreatorTemp\\\\pip-install-pmq5en8g\\\\rl_357ee2b687884e00b38d20dcf21eb3d0\\\\setup.py'\"'\"'; __file__='\"'\"'C:\\\\Users\\\\Public\\\\Documents\\\\ESTsoft\\\\CreatorTemp\\\\pip-install-pmq5en8g\\\\rl_357ee2b687884e00b38d20dcf21eb3d0\\\\setup.py'\"'\"';f=getattr(tokenize, '\"'\"'open'\"'\"', open)(__file__);code=f.read().replace('\"'\"'\\r\\n'\"'\"', '\"'\"'\\n'\"'\"');f.close();exec(compile(code, __file__, '\"'\"'exec'\"'\"'))' install --record 'C:\\Users\\Public\\Documents\\ESTsoft\\CreatorTemp\\pip-record-dsi5dkph\\install-record.txt' --single-version-externally-managed --compile --install-headers 'C:\\Users\\user\\anaconda3\\envs\\py38_64\\Include\\rl'\n",
      "         cwd: C:\\Users\\Public\\Documents\\ESTsoft\\CreatorTemp\\pip-install-pmq5en8g\\rl_357ee2b687884e00b38d20dcf21eb3d0\\\n",
      "    Complete output (67 lines):\n",
      "    running install\n",
      "    running build\n",
      "    running build_py\n",
      "    creating build\n",
      "    creating build\\lib.win-amd64-3.8\n",
      "    creating build\\lib.win-amd64-3.8\\rl\n",
      "    copying rl\\testing.py -> build\\lib.win-amd64-3.8\\rl\n",
      "    copying rl\\utils.py -> build\\lib.win-amd64-3.8\\rl\n",
      "    copying rl\\_completion.py -> build\\lib.win-amd64-3.8\\rl\n",
      "    copying rl\\_history.py -> build\\lib.win-amd64-3.8\\rl\n",
      "    copying rl\\_init.py -> build\\lib.win-amd64-3.8\\rl\n",
      "    copying rl\\__init__.py -> build\\lib.win-amd64-3.8\\rl\n",
      "    creating build\\lib.win-amd64-3.8\\rl\\examples\n",
      "    copying rl\\examples\\display_matches_hook.py -> build\\lib.win-amd64-3.8\\rl\\examples\n",
      "    copying rl\\examples\\email.py -> build\\lib.win-amd64-3.8\\rl\\examples\n",
      "    copying rl\\examples\\factory.py -> build\\lib.win-amd64-3.8\\rl\\examples\n",
      "    copying rl\\examples\\filename.py -> build\\lib.win-amd64-3.8\\rl\\examples\n",
      "    copying rl\\examples\\pre_input_hook.py -> build\\lib.win-amd64-3.8\\rl\\examples\n",
      "    copying rl\\examples\\raw_input.py -> build\\lib.win-amd64-3.8\\rl\\examples\n",
      "    copying rl\\examples\\static.py -> build\\lib.win-amd64-3.8\\rl\\examples\n",
      "    copying rl\\examples\\__init__.py -> build\\lib.win-amd64-3.8\\rl\\examples\n",
      "    creating build\\lib.win-amd64-3.8\\rl\\tests\n",
      "    copying rl\\tests\\test_callhooks.py -> build\\lib.win-amd64-3.8\\rl\\tests\n",
      "    copying rl\\tests\\test_generator.py -> build\\lib.win-amd64-3.8\\rl\\tests\n",
      "    copying rl\\tests\\test_histfile.py -> build\\lib.win-amd64-3.8\\rl\\tests\n",
      "    copying rl\\tests\\test_history.py -> build\\lib.win-amd64-3.8\\rl\\tests\n",
      "    copying rl\\tests\\test_initfile.py -> build\\lib.win-amd64-3.8\\rl\\tests\n",
      "    copying rl\\tests\\test_properties.py -> build\\lib.win-amd64-3.8\\rl\\tests\n",
      "    copying rl\\tests\\test_readline.py -> build\\lib.win-amd64-3.8\\rl\\tests\n",
      "    copying rl\\tests\\test_setup.py -> build\\lib.win-amd64-3.8\\rl\\tests\n",
      "    copying rl\\tests\\test_unicode.py -> build\\lib.win-amd64-3.8\\rl\\tests\n",
      "    copying rl\\tests\\__init__.py -> build\\lib.win-amd64-3.8\\rl\\tests\n",
      "    running egg_info\n",
      "    writing rl.egg-info\\PKG-INFO\n",
      "    writing dependency_links to rl.egg-info\\dependency_links.txt\n",
      "    writing requirements to rl.egg-info\\requires.txt\n",
      "    writing top-level names to rl.egg-info\\top_level.txt\n",
      "    reading manifest file 'rl.egg-info\\SOURCES.txt'\n",
      "    reading manifest template 'MANIFEST.in'\n",
      "    writing manifest file 'rl.egg-info\\SOURCES.txt'\n",
      "    copying rl\\iterator.c -> build\\lib.win-amd64-3.8\\rl\n",
      "    copying rl\\iterator.h -> build\\lib.win-amd64-3.8\\rl\n",
      "    copying rl\\modulestate.c -> build\\lib.win-amd64-3.8\\rl\n",
      "    copying rl\\modulestate.h -> build\\lib.win-amd64-3.8\\rl\n",
      "    copying rl\\readline.c -> build\\lib.win-amd64-3.8\\rl\n",
      "    copying rl\\stringarray.c -> build\\lib.win-amd64-3.8\\rl\n",
      "    copying rl\\stringarray.h -> build\\lib.win-amd64-3.8\\rl\n",
      "    copying rl\\unicode.c -> build\\lib.win-amd64-3.8\\rl\n",
      "    copying rl\\unicode.h -> build\\lib.win-amd64-3.8\\rl\n",
      "    copying rl\\examples\\README.rst -> build\\lib.win-amd64-3.8\\rl\\examples\n",
      "    running build_ext\n",
      "    WARNING: Command not found: ldd\n",
      "    WARNING: Failed to find a termcap library\n",
      "    하위 디렉터리 또는 파일 -p이(가) 이미 있습니다.\n",
      "    다음 내용 진행 중 오류 발생: -p.\n",
      "    하위 디렉터리 또는 파일 build이(가) 이미 있습니다.\n",
      "    다음 내용 진행 중 오류 발생: build.\n",
      "    building 'rl.readline' extension\n",
      "    creating build\\temp.win-amd64-3.8\n",
      "    creating build\\temp.win-amd64-3.8\\Release\n",
      "    creating build\\temp.win-amd64-3.8\\Release\\rl\n",
      "    creating build\\temp.win-amd64-3.8\\Release\\build\n",
      "    creating build\\temp.win-amd64-3.8\\Release\\build\\readline\n",
      "    C:\\Program Files (x86)\\Microsoft Visual Studio\\2017\\BuildTools\\VC\\Tools\\MSVC\\14.16.27023\\bin\\HostX86\\x64\\cl.exe /c /nologo /Ox /W3 /GL /DNDEBUG /MD -DHAVE_CONFIG_H -DRL_LIBRARY_VERSION=\"8.0\" -Ibuild -Ibuild/readline -IC:\\Users\\user\\anaconda3\\envs\\py38_64\\include -IC:\\Users\\user\\anaconda3\\envs\\py38_64\\include \"-IC:\\Program Files (x86)\\Microsoft Visual Studio\\2017\\BuildTools\\VC\\Tools\\MSVC\\14.16.27023\\include\" \"-IC:\\Program Files (x86)\\Windows Kits\\10\\include\\10.0.17763.0\\ucrt\" \"-IC:\\Program Files (x86)\\Windows Kits\\10\\include\\10.0.17763.0\\shared\" \"-IC:\\Program Files (x86)\\Windows Kits\\10\\include\\10.0.17763.0\\um\" \"-IC:\\Program Files (x86)\\Windows Kits\\10\\include\\10.0.17763.0\\winrt\" \"-IC:\\Program Files (x86)\\Windows Kits\\10\\include\\10.0.17763.0\\cppwinrt\" /Tcrl/readline.c /Fobuild\\temp.win-amd64-3.8\\Release\\rl/readline.obj\n",
      "    readline.c\n",
      "    rl/readline.c(18): fatal error C1083: 포함 파일을 열 수 없습니다. 'sys/time.h': No such file or directory\n",
      "    error: command 'C:\\\\Program Files (x86)\\\\Microsoft Visual Studio\\\\2017\\\\BuildTools\\\\VC\\\\Tools\\\\MSVC\\\\14.16.27023\\\\bin\\\\HostX86\\\\x64\\\\cl.exe' failed with exit status 2\n",
      "    ----------------------------------------\n",
      "ERROR: Command errored out with exit status 1: 'C:\\Users\\user\\anaconda3\\envs\\py38_64\\python.exe' -u -c 'import sys, setuptools, tokenize; sys.argv[0] = '\"'\"'C:\\\\Users\\\\Public\\\\Documents\\\\ESTsoft\\\\CreatorTemp\\\\pip-install-pmq5en8g\\\\rl_357ee2b687884e00b38d20dcf21eb3d0\\\\setup.py'\"'\"'; __file__='\"'\"'C:\\\\Users\\\\Public\\\\Documents\\\\ESTsoft\\\\CreatorTemp\\\\pip-install-pmq5en8g\\\\rl_357ee2b687884e00b38d20dcf21eb3d0\\\\setup.py'\"'\"';f=getattr(tokenize, '\"'\"'open'\"'\"', open)(__file__);code=f.read().replace('\"'\"'\\r\\n'\"'\"', '\"'\"'\\n'\"'\"');f.close();exec(compile(code, __file__, '\"'\"'exec'\"'\"'))' install --record 'C:\\Users\\Public\\Documents\\ESTsoft\\CreatorTemp\\pip-record-dsi5dkph\\install-record.txt' --single-version-externally-managed --compile --install-headers 'C:\\Users\\user\\anaconda3\\envs\\py38_64\\Include\\rl' Check the logs for full command output.\n"
     ]
    }
   ],
   "source": [
    "pip install rl"
   ]
  },
  {
   "cell_type": "code",
   "execution_count": null,
   "metadata": {},
   "outputs": [],
   "source": []
  }
 ],
 "metadata": {
  "kernelspec": {
   "display_name": "Python 3",
   "language": "python",
   "name": "python3"
  },
  "language_info": {
   "codemirror_mode": {
    "name": "ipython",
    "version": 3
   },
   "file_extension": ".py",
   "mimetype": "text/x-python",
   "name": "python",
   "nbconvert_exporter": "python",
   "pygments_lexer": "ipython3",
   "version": "3.8.5"
  }
 },
 "nbformat": 4,
 "nbformat_minor": 4
}
