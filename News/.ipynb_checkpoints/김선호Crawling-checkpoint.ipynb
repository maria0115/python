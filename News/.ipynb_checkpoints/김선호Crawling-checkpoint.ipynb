{
 "cells": [
  {
   "cell_type": "code",
   "execution_count": 34,
   "metadata": {},
   "outputs": [],
   "source": [
    "def searching(word):\n",
    "    url = \"https://www.instagram.com/explore/tags/\" + word\n",
    "    return url\n",
    "    "
   ]
  },
  {
   "cell_type": "code",
   "execution_count": 35,
   "metadata": {},
   "outputs": [],
   "source": [
    "def select_first(driver):\n",
    "    \n",
    "    driver.implicitly_wait(10)\n",
    "    \n",
    "    first = driver.find_element_by_class_name('eLAPa')\n",
    "    print(\"첫게시물클릭햇다\")\n",
    "    first.click()\n",
    "    time.sleep(3)"
   ]
  },
  {
   "cell_type": "code",
   "execution_count": 49,
   "metadata": {},
   "outputs": [],
   "source": [
    "import re\n",
    "\n",
    "def get_content(driver):\n",
    "    html = driver.page_source\n",
    "    soup = BeautifulSoup(html, 'lxml')\n",
    "    try:\n",
    "        content = soup.select('div.C4VMK > span')[0].text\n",
    "    except:\n",
    "        content = ' '\n",
    "    tags = re.findall(r'#[^\\s#,\\\\]+', content)  \n",
    "    date = soup.select('time._1o9PC.Nzb55')[0]['datetime'][:10]\n",
    "    try:\n",
    "        like = soup.select('div.Nm9Fw > button')[0].text[4:-1]   \n",
    "    except:\n",
    "        like = 0\n",
    "    try: \n",
    "        place = soup.select('div.M30cS')[0].text\n",
    "    except:\n",
    "        place = ''\n",
    "    data = [content, date, like, place, tags]\n",
    "    return data\n"
   ]
  },
  {
   "cell_type": "code",
   "execution_count": 37,
   "metadata": {},
   "outputs": [],
   "source": [
    "def move_next(driver):\n",
    "\n",
    "    driver.implicitly_wait(10)\n",
    "    \n",
    "    right = driver.find_element_by_css_selector ('a.coreSpriteRightPaginationArrow')\n",
    "    right.click()\n",
    "    time.sleep(3)"
   ]
  },
  {
   "cell_type": "code",
   "execution_count": 51,
   "metadata": {},
   "outputs": [
    {
     "name": "stdout",
     "output_type": "stream",
     "text": [
      "https://www.instagram.com/explore/tags/오늘뭐먹지 url\n",
      "첫게시물 등장\n",
      "첫게시물클릭햇다\n",
      "[['갈치조림 조기굽고 치킨텐더 시금치나물 김치 잔멸치볶음😋😋오늘도 행복하세요😍😍😍 .....☘️#집밥스타그램 #홈쿡 #요리스타그램 #쿡스타그램 #인스타푸드 #요리하는여자 #플레이팅 #요리 #한식 #온더테이블 #맛있다 #오늘뭐먹지 #홈메이드 #맛스타', '2021-03-12', 0, '', ['#집밥스타그램', '#홈쿡', '#요리스타그램', '#쿡스타그램', '#인스타푸드', '#요리하는여자', '#플레이팅', '#요리', '#한식', '#온더테이블', '#맛있다', '#오늘뭐먹지', '#홈메이드', '#맛스타']], ['#협찬 #백년밥상 양등심이랑 양통갈비살 냠냠🍖🍖양고기 좋아하는데 진짜 간만에 먹게 됐다🐑구워진 상태에서 바로 집어먹는 것보다 쯔란을 뿌려 먹으니까 정말 양고기 먹는 느낌ㅋㅋ양통갈비살은 살짝 기름지고양등심은 담백하니 고소해서 맛있었당😋⠀⠀⠀⠀⠀⠀⠀⠀⠀⠀⠀⠀⠀⠀구매문의->#백년밥상 @100_bs', '2021-03-12', 0, '', ['#협찬', '#백년밥상', '#백년밥상']]]\n"
     ]
    }
   ],
   "source": [
    "from selenium import webdriver\n",
    "from bs4 import BeautifulSoup\n",
    "import time\n",
    "import re\n",
    "\n",
    "driver = webdriver.Chrome('./webdriver/chromedriver_win32/chromedriver.exe') \n",
    "usr = '01027047772'\n",
    "pwd = open('./pass.txt').readline()\n",
    "word = \"김선호\"    \n",
    "url = searching(word)\n",
    "driver.implicitly_wait(3)\n",
    "driver.get(url)\n",
    "time.sleep(3)\n",
    "\n",
    "element_id = driver.find_element_by_name(\"username\")\n",
    "element_id.send_keys(usr)\n",
    "element_password = driver.find_element_by_name(\"password\")\n",
    "element_password.send_keys(pwd)\n",
    "driver.find_element_by_css_selector('.sqdOP.L3NKy.y3zKF').click()\n",
    "\n",
    "time.sleep(5)\n",
    "\n",
    "driver.find_element_by_css_selector('body > div.RnEpo.Yx5HN > div > div > div > div.mt3GC > button.aOOlW.HoLwm').click()\n",
    "print(url,\"url\")\n",
    "print(\"첫게시물 등장\")\n",
    "\n",
    "driver.get(url)\n",
    "select_first(driver)\n",
    "\n",
    "results = [ ]\n",
    "\n",
    "target = 50\n",
    "for i in range(target):\n",
    "    data = get_content(driver)\n",
    "    results.append(data)\n",
    "    move_next(driver)\n",
    "\n",
    "print(results[:2])"
   ]
  },
  {
   "cell_type": "code",
   "execution_count": 52,
   "metadata": {},
   "outputs": [],
   "source": [
    "\n",
    "import pandas as pd\n",
    "\n",
    "results_df = pd.DataFrame(results)\n",
    "results_df.columns = ['content','data','like','place','tags']\n",
    "results_df.to_excel('./files/오늘뭐먹지.xlsx')"
   ]
  },
  {
   "cell_type": "code",
   "execution_count": 42,
   "metadata": {},
   "outputs": [],
   "source": [
    "pohang_insta_df = pd.DataFrame( [ ] )\n",
    "\n",
    "folder = './files/'\n",
    "\n",
    "f_list = ['kimseonho.xlsx']\n",
    "\n",
    "for fname in f_list:\n",
    "    fpath = folder + fname\n",
    "    temp = pd.read_excel(fpath)\n",
    "    pohang_insta_df = pohang_insta_df.append(temp)\n",
    "\n",
    "pohang_insta_df.columns =['','content','data','like','place','tags']\n"
   ]
  },
  {
   "cell_type": "code",
   "execution_count": 43,
   "metadata": {},
   "outputs": [],
   "source": [
    "pohang_insta_df.drop_duplicates(subset = [ \"content\"] , inplace = True)\n",
    "pohang_insta_df.to_excel('./files/test_crawling_raw.xlsx', index = False)"
   ]
  }
 ],
 "metadata": {
  "kernelspec": {
   "display_name": "Python 3",
   "language": "python",
   "name": "python3"
  },
  "language_info": {
   "codemirror_mode": {
    "name": "ipython",
    "version": 3
   },
   "file_extension": ".py",
   "mimetype": "text/x-python",
   "name": "python",
   "nbconvert_exporter": "python",
   "pygments_lexer": "ipython3",
   "version": "3.8.5"
  }
 },
 "nbformat": 4,
 "nbformat_minor": 4
}
