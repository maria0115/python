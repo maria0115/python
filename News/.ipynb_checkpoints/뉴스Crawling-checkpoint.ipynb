{
 "cells": [
  {
   "cell_type": "code",
   "execution_count": 29,
   "metadata": {},
   "outputs": [],
   "source": [
    "def searching(word,num):\n",
    "    url = 'https://search.naver.com/search.naver?&where=news&query={keyword}&sm=tab_pge&sort=0&photo=0&field=0&reporter_article=&pd=0&ds=&de=&docid=&nso=so:r,p:all,a:all&mynews=0&cluster_rank=55&start={pagenum}&refresh_start=0'.format(keyword=word,pagenum=num)\n",
    "    return url\n",
    "    "
   ]
  },
  {
   "cell_type": "code",
   "execution_count": 12,
   "metadata": {},
   "outputs": [
    {
     "name": "stdout",
     "output_type": "stream",
     "text": [
      "https://search.naver.com/search.naver?&where=news&query=hi&sm=tab_pge&sort=0&photo=0&field=0&reporter_article=&pd=0&ds=&de=&docid=&nso=so:r,p:all,a:all&mynews=0&cluster_rank=55&start=01&refresh_start=0\n"
     ]
    }
   ],
   "source": [
    "print(searching(\"hi\",\"01\"))"
   ]
  },
  {
   "cell_type": "code",
   "execution_count": 35,
   "metadata": {},
   "outputs": [],
   "source": [
    "def select_first(driver):\n",
    "    \n",
    "    driver.implicitly_wait(10)\n",
    "    \n",
    "    first = driver.find_element_by_class_name('eLAPa')\n",
    "    print(\"첫게시물클릭햇다\")\n",
    "    first.click()\n",
    "    time.sleep(3)"
   ]
  },
  {
   "cell_type": "code",
   "execution_count": null,
   "metadata": {},
   "outputs": [],
   "source": [
    "# 네이버 뉴스 1페이지\n",
    "# https://search.naver.com/search.naver?&where=news&query=%EC%A3%BC%EC%8B%9D&sm=tab_pge&sort=0&photo=0&field=0&reporter_article=&pd=0&ds=&de=&docid=&nso=so:r,p:all,a:all&mynews=0&cluster_rank=55&start=1&refresh_start=0\n",
    "# 네이버 뉴스 2페이지\n",
    "# https://search.naver.com/search.naver?&where=news&query=%EC%A3%BC%EC%8B%9D&sm=tab_pge&sort=0&photo=0&field=0&reporter_article=&pd=0&ds=&de=&docid=&nso=so:r,p:all,a:all&mynews=0&cluster_rank=87&start=11&refresh_start=0"
   ]
  },
  {
   "cell_type": "code",
   "execution_count": 87,
   "metadata": {},
   "outputs": [],
   "source": [
    "def html2text(html):\n",
    "    soup = BeautifulSoup(html)\n",
    "    text_parts = soup.findAll(text=True)\n",
    "    print(''.join(text_parts))\n",
    "    return ''.join(text_parts)"
   ]
  },
  {
   "cell_type": "code",
   "execution_count": 42,
   "metadata": {},
   "outputs": [],
   "source": [
    "import re\n",
    "\n",
    "def get_content(driver):\n",
    "    html = driver.page_source\n",
    "#     html2text(html)\n",
    "    soup = BeautifulSoup(html, 'lxml')\n",
    "    BeautifulSoup(html)\n",
    "    content = []\n",
    "    try:\n",
    "        list = soup.select('ul.list_news div.dsc_wrap a')\n",
    "        titlist = soup.select('ul.list_news a.news_tit')\n",
    "#         print(list[0])\n",
    "        print(len(list))\n",
    "        for a in range(len(list)):\n",
    "            href = list[a].get_text()\n",
    "            text = list[a].attrs[\"href\"]\n",
    "            print(text, \":\", href)\n",
    "        print(len(titlist))\n",
    "#         for i in alllist:\n",
    "#             content[i][\"title\"] = alllist \n",
    "        \n",
    "        \n",
    "    except:\n",
    "        content = []\n",
    "        print(content,\"except\")\n",
    "        \n",
    "    \n",
    "#     tags = re.findall(r'#[^\\s#,\\\\]+', content)  \n",
    "#     date = soup.select('time._1o9PC.Nzb55')[0]['datetime'][:10]\n",
    "#     try:\n",
    "#         like = soup.select('div.Nm9Fw > button')[0].text[4:-1]   \n",
    "#     except:\n",
    "#         like = 0\n",
    "#     try: \n",
    "#         place = soup.select('div.M30cS')[0].text\n",
    "#     except:\n",
    "#         place = ''\n",
    "#     data = [content, date, like, place, tags]\n",
    "#     return data\n"
   ]
  },
  {
   "cell_type": "code",
   "execution_count": 37,
   "metadata": {},
   "outputs": [],
   "source": [
    "def move_next(driver):\n",
    "\n",
    "    driver.implicitly_wait(10)\n",
    "    \n",
    "    right = driver.find_element_by_css_selector ('a.coreSpriteRightPaginationArrow')\n",
    "    right.click()\n",
    "    time.sleep(3)"
   ]
  },
  {
   "cell_type": "code",
   "execution_count": 77,
   "metadata": {},
   "outputs": [
    {
     "name": "stdout",
     "output_type": "stream",
     "text": [
      "0\n",
      "0\n"
     ]
    }
   ],
   "source": [
    "from selenium import webdriver\n",
    "from bs4 import BeautifulSoup\n",
    "import time\n",
    "import re\n",
    "\n",
    "options = webdriver.ChromeOptions()\n",
    "\n",
    "# headless 옵션 설정\n",
    "options.add_argument('headless')\n",
    "options.add_argument(\"no-sandbox\")\n",
    "\n",
    "# 브라우저 윈도우 사이즈\n",
    "options.add_argument('window-size=1920x1080')\n",
    "\n",
    "# 사람처럼 보이게 하는 옵션들\n",
    "options.add_argument(\"disable-gpu\")   # 가속 사용 x\n",
    "options.add_argument(\"lang=ko_KR\")    # 가짜 플러그인 탑재\n",
    "options.add_argument('user-agent=Mozilla/5.0 (Macintosh; Intel Mac OS X 10_12_6) AppleWebKit/537.36 (KHTML, like Gecko) Chrome/61.0.3163.100 Safari/537.36')  # user-agent 이름 설정\n",
    "\n",
    "driver = webdriver.Chrome('./webdriver/chromedriver_win32/chromedriver.exe') \n",
    "usr = 'rkddpdms12'\n",
    "pwd = open('./newspass.txt').readline()\n",
    "word = \"주식\"\n",
    "\n",
    "url = searching(word,\"01\")\n",
    "driver.implicitly_wait(3)\n",
    "driver.get(url)\n",
    "time.sleep(3)\n",
    "get_content(driver)\n",
    "\n",
    "# driver.find_element_by_css_selector('div.dsc_wrap').click()\n",
    "\n",
    "# time.sleep(5)\n",
    "# # print(driver.window_handles)\n",
    "\n",
    "\n",
    "# get_content(driver)\n",
    "\n",
    "\n",
    "\n",
    "# driver.switch_to.window(driver.window_handles[-1])\n",
    "# driver.close()\n",
    "# time.sleep(1)\n",
    "\n",
    "\n",
    "# driver.find_element_by_css_selector('body > div.RnEpo.Yx5HN > div > div > div > div.mt3GC > button.aOOlW.HoLwm').click()\n",
    "# print(url,\"url\")\n",
    "# print(\"첫게시물 등장\")\n",
    "\n",
    "# driver.get(url)\n",
    "# select_first(driver)\n",
    "\n",
    "# results = [ ]\n",
    "\n",
    "# target = 50\n",
    "# for i in range(target):\n",
    "#     data = get_content(driver)\n",
    "#     results.append(data)\n",
    "#     move_next(driver)\n",
    "\n",
    "# print(results[:2])"
   ]
  },
  {
   "cell_type": "code",
   "execution_count": 52,
   "metadata": {},
   "outputs": [],
   "source": [
    "\n",
    "import pandas as pd\n",
    "\n",
    "results_df = pd.DataFrame(results)\n",
    "results_df.columns = ['content','data','like','place','tags']\n",
    "results_df.to_excel('./files/오늘뭐먹지.xlsx')"
   ]
  },
  {
   "cell_type": "code",
   "execution_count": 42,
   "metadata": {},
   "outputs": [],
   "source": [
    "pohang_insta_df = pd.DataFrame( [ ] )\n",
    "\n",
    "folder = './files/'\n",
    "\n",
    "f_list = ['kimseonho.xlsx']\n",
    "\n",
    "for fname in f_list:\n",
    "    fpath = folder + fname\n",
    "    temp = pd.read_excel(fpath)\n",
    "    pohang_insta_df = pohang_insta_df.append(temp)\n",
    "\n",
    "pohang_insta_df.columns =['','content','data','like','place','tags']\n"
   ]
  },
  {
   "cell_type": "code",
   "execution_count": 43,
   "metadata": {},
   "outputs": [],
   "source": [
    "pohang_insta_df.drop_duplicates(subset = [ \"content\"] , inplace = True)\n",
    "pohang_insta_df.to_excel('./files/test_crawling_raw.xlsx', index = False)"
   ]
  },
  {
   "cell_type": "code",
   "execution_count": 41,
   "metadata": {},
   "outputs": [
    {
     "name": "stdout",
     "output_type": "stream",
     "text": [
      "1868 start\n",
      "하나금융투자대표이사 이진국는 5월28일까지 해외주식 적립식 서비스를 이용하는 손님을 대상으로 경품을 제공하는 엄마 아빠 해외주식 사주세요’ 이벤트를 진행한다고 16일 밝혔다 \n",
      "\n",
      "\n",
      "\n",
      "\n",
      "\n",
      "썝蹂몃낫湲 븘씠肄\n",
      "\n",
      "해외주식 적립식 서비스는 미국주식 또는 ETF 상품을 최대 5종목 이내에서 지정해 매달 또는 매주 정해진 날짜에 설정한 금액만큼 자동으로 매수할 수 있는 서비스다 미국 주식을 정기적으로 환전 없이 쉽고 편리하게 매수할 수 있는 장점이 있다 미국주식 장기투자를 원하는 투자자는 물론 자녀에게 정기적으로 주식을 사주고 싶어 하는 손님을 위한 서비스다 이번 이벤트는 적립식 서비스를 통해 3달 동안 매달 30만원 이상 미국주식 혹은 ETF를 매수하면 자동으로 참여할 수 있다 선착순 500명에게 5만원 상당의 백화점 모바일 상품권을 제공하고 추가로 추첨을 통해 100명에게 디즈니10명’ 애플30명’ 코카콜라60명’ 등의 미국 주식을 1주씩 지급한다\t\n",
      "\n",
      "신규 계좌개설 손님뿐만 아니라 기존 하나금융투자 계좌를 보유하고 있는 손님 모두 이벤트에 참여할 수 있다조일환 하나금융투자 BK추진본부장은 “최근 국내주식뿐만 아니라 해외주식 거래에 대한 투자자들의 관심과 열기가 고조되고 있는 가운데 특히 미국주식에 대한 수요가 폭증하고 있다”며 “하나금융투자는 미국주식을 매매하는 손님에게 보다 다양한 서비스를 제공하고자 미국주식 적립식 서비스 이벤트를 마련했다”고 말했다엄마 아빠 해외주식 사주세요’ 이벤트에 대한 자세한 사항은 하나금융투자 홈페이지나 하나금융투자 모바일 어플리케이션MTS 원큐프로’에서 확인할 수 있다\t\n",
      "\n",
      " \n",
      "    \n",
      "지연진 \n"
     ]
    }
   ],
   "source": [
    "from bs4 import BeautifulSoup\n",
    "import requests\n",
    "import re\n",
    "\n",
    "# url = searching(\"주식\",\"01\")\n",
    "url = \"https://view.asiae.co.kr/article/2021031610195729346\"\n",
    "res = requests.get(url)\n",
    "soup = BeautifulSoup(res.text,'html.parser')\n",
    "\n",
    "for script in soup.find_all('script'):\n",
    "    script.extract()\n",
    "\n",
    "str1 = soup.get_text();\n",
    "str1 = cleanText(str1)\n",
    "# print(str1)\n",
    "# print(str1.replace(\"\\n\",\"A\").replace(\"\\r\",\"B\").replace(\"\\t\",\"C\"))\n",
    "str2 = \"하나금융투자(대표이사 이진국)는 5월28일까지 해외주식 적립식 서비스를 이용하는 손님을 대상으로 경품을 제공하는 ‘엄마, 아빠 해외주식 사주세요’ 이벤트를 진행한다고 16일 밝혔다.\"\n",
    "str2 = cleanText(str2)\n",
    "start = 0\n",
    "for a in re.finditer(str2,str1):\n",
    "    start = a.start()\n",
    "    print(start,\"start\")\n",
    "restr = str1[start:]\n",
    "# print(start,\"start\")\n",
    "end=restr.find(\"기자\")\n",
    "restr = restr[:end]\n",
    "print(restr)\n"
   ]
  },
  {
   "cell_type": "code",
   "execution_count": 40,
   "metadata": {},
   "outputs": [],
   "source": [
    "def cleanText(readData):\n",
    "    #텍스트에 포함되어 있는 특수 문자 제거\n",
    "    text = re.sub('[-=+,#/\\?:^$.@*\\\"※~&amp;%ㆍ!』\\\\‘|\\(\\)\\[\\]\\&lt;\\&gt;`\\'…》]','',readData)\n",
    "    return text"
   ]
  },
  {
   "cell_type": "code",
   "execution_count": 78,
   "metadata": {},
   "outputs": [
    {
     "name": "stdout",
     "output_type": "stream",
     "text": [
      "\n",
      "\n",
      "\n",
      "인터파크, 주식 서적 판매량 5배↑ - ZDNet korea\n",
      "\n",
      "\n",
      "\n",
      "\n",
      "\n",
      "\n",
      "\n",
      "\n",
      "\n",
      "\n",
      "\n",
      "\n",
      "\n",
      "\n",
      "\n",
      "\n",
      "\n",
      "\n",
      "\n",
      "\n",
      "\n",
      "\n",
      "\n",
      "\n",
      "\n",
      "\n",
      "\n",
      "\n",
      "\n",
      "\n",
      "\n",
      "\n",
      "\n",
      "\n",
      "\n",
      "\n",
      "\n",
      "\n",
      "\n",
      "\n",
      "\n",
      "\n",
      "\n",
      "\n",
      "\n",
      ".targetpushAd_pc_wrap {margin:0;padding:0;-webkit-tap-highlight-color:rgba(0,0,0,0);z-index:999999998;}.targetpushAd_pc_wrap div, .targetpushAd_pc_wrap dl, .targetpushAd_pc_wrap dt, .targetpushAd_pc_wrap dd, .targetpushAd_pc_wrap ul, .targetpushAd_pc_wrap ol, .targetpushAd_pc_wrap li, .targetpushAd_pc_wrap h1, .targetpushAd_pc_wrap h2, .targetpushAd_pc_wrap h3, .targetpushAd_pc_wrap h4, .targetpushAd_pc_wrap h5, .targetpushAd_pc_wrap h6, .targetpushAd_pc_wrap pre, .targetpushAd_pc_wrap form, .targetpushAd_pc_wrap fieldset, .targetpushAd_pc_wrap input, .targetpushAd_pc_wrap p, .targetpushAd_pc_wrap blockquote, .targetpushAd_pc_wrap table, .targetpushAd_pc_wrap th, .targetpushAd_pc_wrap td, .targetpushAd_pc_wrap embed, .targetpushAd_pc_wrap object, .targetpushAd_pc_wrap textarea, .targetpushAd_pc_wrap a, .targetpushAd_pc_wrap img{padding:0;margin:0;}.targetpushAd_pc_wrap ol, .targetpushAd_pc_wrap ul, .targetpushAd_pc_wrap li{list-style:none;display:block;}.targetpushAd_pc_wrap div{display:block;}.targetpushAd_pc_wrap img{border:0;vertical-align:top;}.targetpushAd_pc_wrap{display:none;}.targetpushAd_pc_wrap.run{display:block;}.targetpushAd_pc_wrap.run ul{list-style-type:none;margin:0;padding:0;}.targetpushAd_pc_wrap.run .targetpushAd_banner_wrap{width:320px;position:fixed;z-index:999999998;height:auto;}.targetpushAd_pc_wrap.run .targetpushAd_banner_wrap img{width:100%;}.targetpushAd_pc_wrap.run .targetpushAd_banner_wrap .btn_close{display:block;position:absolute;top:25px;right:22px;width:18px;height:18px;text-indent:-9999em;background: url(//cdn.targetpush.co.kr/upload/images/x_bt2.png) center center no-repeat;}.targetpushAd_pc_wrap.run .targetpushAd_banner_wrap .btn_close_2{display:none;position:absolute;top:1px;right:1px;width:19px;height:19px;text-indent:-9999em;background:#FFF url(//cdn.targetpush.co.kr/upload/images/infor_ad_icon.png) center center no-repeat;}.targetpushAd_pc_wrap.run .targetpushAd_banner_wrap,.targetpushAd_pc_wrap.run .targetpushAd_banner_wrap a,.targetpushAd_pc_wrap.run .targetpushAd_banner_wrap a:after{box-sizing:initial;}.targetpushAd_pc_wrap .targetpushAd_banner_wrap{bottom:0;}.targetpushAd_pc_wrap_a{display:block;}.targetpushAd_pc_wrap .targetpushAd_banner_wrap:hover{cursor:pointer;}.targetpushAd_pc_wrap.type1.run .targetpushAd_banner_wrap{animation:type1 0.5s ease-in-out;}.targetpushAd_pc_wrap.type2.run .targetpushAd_banner_wrap{animation:type2 0.5s ease-in-out;}@keyframes type1 {0%{bottom:-120px;}100%{bottom:0;}}@keyframes type2 {0%{bottom:-132px;}100%{bottom:0;}}.targetpushAd-animate-up{animation:animateup 1s}@keyframes animateup{from{bottom:-350px;opacity:0} to{bottom:0;opacity:1;}}.targetpushAd-animate-down{animation:animatedown 1s;animation-fill-mode: both;-webkit-animation-fill-mode: both;}@keyframes animatedown{from{bottom:0;opacity:1} to{bottom:-350px;opacity:0}} .targetpushAd_pc_wrap.wrap_new .targetpushAd_pc_wrap.wrap_new .targetpushAd_banner_wrap, .targetpushAd_pc_wrap.wrap_new .targetpushAd_banner_wrap a, .targetpushAd_pc_wrap.wrap_new .targetpushAd_banner_wrap a:after, .targetpushAd_pc_wrap.wrap_new .banner_header, .targetpushAd_pc_wrap.wrap_new .banner_content, .targetpushAd_pc_wrap.wrap_new .ico_wrap_new {box-sizing:border-box;} .targetpushAd_pc_wrap.wrap_new .targetpushAd_banner_wrap {position:fixed;   z-index:999999998;  width:328px;; height:246px; right:50px; border-radius:17px; font-family: 'Noto Sans KR', sans-serif;}  .adtive_pushCam_fix, .adtive_pushCam_fix div, .adtive_pushCam_fix dl, .adtive_pushCam_fix dt, .adtive_pushCam_fix dd, .adtive_pushCam_fix ul, .adtive_pushCam_fix ol, .adtive_pushCam_fix li, .adtive_pushCam_fix h1, .adtive_pushCam_fix h2, .adtive_pushCam_fix h3, .adtive_pushCam_fix h4, .adtive_pushCam_fix h5, .adtive_pushCam_fix h6, .adtive_pushCam_fix pre, .adtive_pushCam_fix form, .adtive_pushCam_fix fieldset, .adtive_pushCam_fix input, .adtive_pushCam_fix p, .adtive_pushCam_fix blockquote, .adtive_pushCam_fix table, .adtive_pushCam_fix th, .adtive_pushCam_fix td, .adtive_pushCam_fix embed, .adtive_pushCam_fix object, .adtive_pushCam_fix textarea, .adtive_pushCam_fix a, .adtive_pushCam_fix span, .adtive_pushCam_fix em, .adtive_pushCam_fix i, .adtive_pushCam_fix b, .adtive_pushCam_fix strong, .adtive_pushCam_fix img {margin: 0; padding: 0;border: 0;font: inherit;vertical-align:baseline;-webkit-box-sizing: border-box;box-sizing:border-box !important;\t}  .adtive_pushCam_fix dt, .adtive_pushCam_fix dd {float:none;}  .adtive_pushCam_fix div {display:block;} .adtive_pushCam_fix img {border:0; vertical-align:middle;} .adtive_pushCam_fix li {list-style:none;} .adtive_pushCam_fix a {text-decoration:none} .adtive_pushCam_fix a:hover, .adtive_pushCam_fix a:visited, .adtive_pushCam_fix a:active, .adtive_pushCam_fix a:link, .adtive_pushCam_fix a:focus {color:inherit; text-decoration:none;} .adtive_pushCam_fix {position:fixed; right:30px; bottom:0px; z-index:99999; width:300px; height:217px; border-radius:17px; box-shadow:0px 5px 10px 4px rgba(0,0,0,.3); background:rgba(255,255,255,.99); -webkit-tap-highlight-color:rgba(0,0,0,0); color:#000; font-weight:normal; font-size:13px; line-height:1.2; letter-spacing:-0.3px; word-spacing:0px; font-family: AppleSDGothicNeo-Regular,'DroidSans Fallback','Malgun Gothic','맑은 고딕',Dotum,'돋움',sans-serif; text-align:left; -webkit-text-size-adjust:none; word-break:break-all;} .adtive_pushCam_fix .cam_inner {position:relative; padding: 16px 17px 16px 17px !important;} .adtive_pushCam_fix .cam_profile {margin:0 20px 9px 59px; color:#525252; font-size:13.5px; font-weight:bold; overflow:hidden; white-space:nowrap; text-overflow:ellipsis;} .adtive_pushCam_fix .cam_tit {width:100%;  padding-left:59px; margin-bottom:23px; word-spacing:-1px; letter-spacing:-0.8px; color:#333; font-size:17px; font-weight:bold; line-height:1.2;} .adtive_pushCam_fix .cam_txt {overflow:hidden; text-overflow:ellipsis; display:-webkit-box; display:-moz-box; display:-ms-box; -webkit-box-orient:vertical; -webkit-line-clamp:3; word-wrap:break-word; line-height:1.45em; max-height:4.35em; color:#333; font-size:14.5px; letter-spacing: -0.2px; word-spacing:-2px;} .adtive_pushCam_fix dt {display:block !important} .adtive_pushCam_fix .cam_link {margin-top:12px; text-align:center;} .adtive_pushCam_fix .cam_link:after {content:''; display:block; clear:both;} .adtive_pushCam_fix .linkBtn {display:inline-block; max-width:100%; height:37px; line-height:35px; padding:0 38px; border-radius:18px; border:1px solid #e9cf37; background:#f4d732; color:#303030; font-size:13.5px;  font-weight:bold; word-spacing:-1px; overflow:hidden; white-space:nowrap; text-overflow:ellipsis;} .adtive_pushCam_fix .cam_link.division .linkBtn {float:left; max-width:49%; width:49%; padding:0 3px;} .adtive_pushCam_fix .cam_link.division .linkBtn:nth-child(2n) {margin-left:2%;} .adtive_pushCam_fix .cam_link.division .linkBtn:nth-child(2n+1) {margin-top:5px;} .adtive_pushCam_fix .cam_link.division .linkBtn:nth-child(2n+2) {margin-top:5px;} .adtive_pushCam_fix .cam_link.imgType .linkBtn {height:auto; line-height:1.2; padding:0 0; border:none; border-radius:0; background:none;} .adtive_pushCam_fix .cam_link.imgType .linkBtn img {max-width:100%;} .adtive_pushCam_fix .cam_thumb {position:absolute; top:21px; left:13px; width:53px; height:53px; padding:3px; overflow:hidden; z-index:1; border-radius:50%; box-shadow:1px 2px 3px 1px rgba(0,0,0,.1); background:rgba(255,255,255,.99); text-align:center; font-size:0;} .adtive_pushCam_fix .cam_thumb img {width:47px; border-radius:50%; vertical-align:middle;} .adtive_pushCam_fix .closeBtn {position:absolute; top:2px; right:2px; z-index:1; padding:14px 7px 0px; border:0; text-align:center; font-size:0; display:block;} .adtive_pushCam_fix .closeBtn img {width:14px; vertical-align:middle;} .adtive_pushCam_fix .btn_close_2{display:none; position:absolute;top:-10px;right:-10px;width:19px;height:19px;text-indent:-9999em;background:#FFF url(//cdn.targetpush.co.kr/upload/images/infor_ad_icon.png) center center no-repeat;} .adtive_pushCam_fix .cam_content {overflow:hidden; height:160px;}  .adtive_pushCam_fix .cam_txt + .cam_img {margin-top:5px;} .adtive_pushCam_fix .cam_img {height:auto; max-height:116px;} .adtive_pushCam_fix .cam_img img {width:100%; height:auto;} .targetpushAd-up-exc {top:630px;-webkit-animation: ani-upexc 1s; animation: ani-upexc 1s;} @keyframes ani-upexc {from {transform:translateY(350px); opacity: 0;}to {transform:translateY(0px); opacity: 1; }} @-webkit-keyframes ani-upexc {from {-webkit-transform:translateY(350px); opacity: 0;}to {-webkit-transform:translateY(0px); opacity: 1; }} .targetpushAd-down-exc {top:100%;} .targetpushAd-fadeOut-exc {-webkit-animation: ani-fadeOut-exc 0.2s forwards; animation: ani-fadeOut-exc 0.2s forwards;} @keyframes ani-fadeOut-exc {from {opacity:1;}to {opacity:0;}} @-webkit-keyframes ani-fadeOut-exc {from {opacity:1;}to {opacity:0;}} .targetpushAd_pc_wrap.run .targetpushAd_banner_wrap .targetpushAd_bnr_qr {position:relative;}  .targetpushAd_pc_wrap.run .targetpushAd_banner_wrap .targetpushAd_bnr_qr .btn_close {  display: block;  position: absolute;  top: 18px; right: 22px;   width: 20px;  height: 20px; text-indent: -9999em; background: url(//cdn.targetpush.co.kr/images/btn_downsize.png) center center no-repeat;  z-index:11;\t}  .targetpushAd_pc_wrap.run .targetpushAd_bnr_qr .btn_qr_open {position:absolute; left:22px; top:17px; font-size:0;}  .targetpushAd_pc_wrap.run .targetpushAd_bnr_qr .targetpushAd_qrInfo {position:absolute; top:auto; bottom:1px; left:0; right:0; z-index:10;}   .targetpushAd_pc_wrap.run .targetpushAd_bnr_qr .targetpushAd_qrInfo .btn_qr_close {position:absolute; top:17px; right:22px; width:20px; height:20px; text-indent: -9999em; background: url(//cdn.targetpush.co.kr/images/btn_qr_close.png) center center no-repeat;}  .targetpushAd_pc_wrap.run .targetpushAd_bnr_qr {}  .targetpushAd_pc_wrap.run .targetpushAd_bnr_qr {}  #muteButton{position: absolute;cursor: pointer;right: 5px;bottom: 10px;} .cvideo{background:url(https://cdn.targetpush.co.kr/images/speaker_24_on.png) no-repeat center;background-size:24px;border:0;width:24px;height:24px;} .cvideomuted {background:url(https://cdn.targetpush.co.kr/images/speaker_24_off.png) no-repeat center;background-size:24px;border:0;width:24px;height:24px;} .img_eff1 .targetpushAd_view.show::before {content:''; position: absolute; z-index: 1; left:0; top:0; width:420px; height:150px; opacity: 1; background-image: linear-gradient(to bottom, rgba(255, 255, 255, 0) 0%, rgba(255, 255, 255, 0.4) 40%, rgba(255, 255, 255, 0.7) 60%, rgba(255, 255, 255, 0) 100%); transform-origin: center center; animation: reflector1 3s ease infinite; animation-delay: 1s; transform: rotate(-36deg) translate(-50px, -300px);}   .img_eff1 .targetpushAd_view.show::after {content:''; position: absolute; z-index: 2; left:0; top:0; width:420px; height:5px; opacity: 0; background-color: #fff; transform-origin: center center; animation: reflector2 3s ease infinite; animation-delay: 1s; opacity: 0.3; transform: rotate(-36deg) translate(-100px, -220px);}   @keyframes reflector1 { \t0% {transform: rotate(-36deg) translate(-50px, -300px);}  70%,100% {transform: rotate(-36deg) translate(-50px, 260px);} }  @keyframes reflector2 {  \t0% {opacity: 0.4; transform: rotate(-36deg) translate(-100px, -220px);}  \t70%,100% {opacity: 0.4; transform: rotate(-36deg) translate(-100px, 340px);}   }  .img_eff2 .targetpushAd_view.show {-webkit-animation: blinkImg 5s ease 1s infinite; animation: blinkImg 5s ease 1s infinite;}  @-webkit-keyframes blinkImg { \t0%,10%,20%,100% {opacity: 1;} \t5%,15% {opacity: 0.3;}     }  @keyframes blinkImg { \t0%,10%,20%,100% {opacity: 1;}  \t5%,15% {opacity: 0.3;}  }  .img_eff3 .targetpushAd_view > .line {display:none;}  .img_eff3 .targetpushAd_view.show > .line {position: absolute; display:block;}    .img_eff3 .targetpushAd_view.show > .line:nth-child(1) {top:0; left:-100%; width:100%; height:2px; background: linear-gradient(90deg,transparent,#ff0000); animation: shootingStar1 2s linear infinite;}   .img_eff3 .targetpushAd_view.show > .line:nth-child(2) {top:-100%; right:0; width:2px; height:100%; background: linear-gradient(180deg,transparent,#ff0000); animation: shootingStar2 2s linear infinite; animation-delay: 0.50s;}   .img_eff3 .targetpushAd_view.show > .line:nth-child(3) {bottom:0; right:-100%; width:100%; height:2px; background: linear-gradient(270deg,transparent,#ff0000); animation: shootingStar3 2s linear infinite; animation-delay: 1s;}  .img_eff3 .targetpushAd_view.show > .line:nth-child(4) {bottom:-100%; left:0; width:2px; height:100%; background: linear-gradient(360deg,transparent,#ff0000); animation: shootingStar4 2s linear infinite; animation-delay: 1.5s;}   @keyframes shootingStar1 { 0% {left: -100%;} 50%,100% {left: 100%;}\t}  @keyframes shootingStar2 { 0% {top: -100%;} 50%,100% {top: 100%;} }  @keyframes shootingStar3 { 0% {right: -100%;} 50%,100% {right: 100%;} }  @keyframes shootingStar4 { 0% {bottom: -100%;} 50%,100% {bottom: 100%;}\t}   .img_eff1 .targetpushAd_view, .img_eff3 .targetpushAd_view {overflow:hidden; position:relative; display:block; transition: 0.5s;}  .img_eff1 .targetpushAd_banner_wrap .btn_close, .img_eff3 .targetpushAd_banner_wrap .btn_close {z-index:10;}  .img_hover4 .targetpushAd_view {overflow:hidden; position:relative; display:block; width:100%; height:245px; }  .img_hover4 .targetpushAd_banner_wrap .btn_close {z-index:10;}  .img_hover4 .targetpushAd_banner_wrap .hover_figcaption {overflow:hidden; position:absolute; top:100%; left:0; width:100%; height:100%; opacity:0; background:rgba(0,0,0,.85); transition: all 0.4s ease-in; -webkit-transition: all 0.4s ease-in;}  .img_hover4 .targetpushAd_banner_wrap .hover_figcaption img {width:100%;}  .img_hover4 .targetpushAd_banner_wrap .hover_figcaption .hover_random {position:absolute; left:14.5%; top:35%; display:block; float:none; width:38px; height:28px; line-height:27px; color:#ff0; font-size:24px; font-weight:600; white-space:nowrap; text-align:center; letter-spacing:0; word-spacing:0; font-family: AppleSDGothicNeo-Regular,'DroidSans Fallback','Malgun Gothic','맑은 고딕',Dotum,'돋움',sans-serif;}  .img_hover4 .targetpushAd_banner_wrap:hover .hover_figcaption {top:0%; opacity:1;} .iwmads{position:relative;display:block;overflow:hidden;width:100%;height:100%;height:100vh;max-height:0!important;padding:0;margin:0 auto;border:0;text-align:center;-webkit-box-sizing:border-box;box-sizing:border-box;-webkit-font-smoothing:antialiased;-moz-osx-font-smoothing:grayscale;will-change:width,height}.iwmads .ip-header,.iwmads .ip-header2{width:100%;height:30px;cursor:pointer;background:url(data:image/png;base64,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) 50% no-repeat;background-size:80px}.iwmads .ip-container,.iwmads .ip-container2{position:relative;width:100%;left:0;display:inline-block;background-position:0 0;background-repeat:no-repeat;background-size:100%!important}.iwmads .ip-ratio{padding-top:56.25%;background-color:rgba(0,0,0,.35)}.ip-container .ip-engine,.ip-container .ip-main,.ip-container .ip-ui,.ip-container .ip-ui .ip-clickthrough{position:absolute;top:0;left:0;width:100%;height:100%}.ip-container .ip-ui{z-index:100}.ip-container .ip-ui .ip-icons{position:unset!important}.ip-container2 .ip-main2{width:100%;height:100%;position:unset!important}.ip-container2 .ip-main2 .ip-ui{position:unset!important}.ip-container2 .ip-main2 .ip-ui2{position:absolute;top:0;left:0;width:100%;height:100%}.ip-container2 .ip-main2 .ip-ui2 .ip-icons{position:unset!important}.ip-container2 .ip-engine2{width:70%;z-index:95;-o-object-fit:contain;object-fit:contain;will-change:opacity;left:20px;top:37px;-webkit-box-shadow:10px 10px 10px rgba(0,0,0,.35);box-shadow:10px 10px 10px rgba(0,0,0,.35)}.ip-container2 .ip-clickthrough,.ip-container2 .ip-engine2,.ip-container2 .ip-product,.ip-container2 .ip-stop{position:absolute;opacity:0;-webkit-transition:opacity 1s cubic-bezier(.4,0,1,1);transition:opacity 1s cubic-bezier(.4,0,1,1)}.ip-container2 .ip-clickthrough,.ip-container2 .ip-product,.ip-container2 .ip-stop{top:0;left:0;width:100%;height:100%;z-index:199;background-position:0 0;background-repeat:no-repeat;background-size:contain}.ip-container2 .ip-stop{z-index:1}.ip-engine,.ip-engine2{z-index:95;opacity:0;-o-object-fit:cover;object-fit:cover;will-change:opacity;-webkit-transition:opacity 1s cubic-bezier(.4,0,1,1);transition:opacity 1s cubic-bezier(.4,0,1,1)}.ip-container2 .ip-clickthrough,.ip-container2 .ip-engine2,.ip-container2 .ip-product,.ip-container2 .ip-stop{position:absolute;opacity:0;-webkit-transition:opacity 1s cubic-bezier(.4,0,1,1);transition:opacity 1s cubic-bezier(.4,0,1,1)}.ip-waiting{display:none;position:absolute;top:50%;left:50%;-webkit-transform:translate(-50%,-50%);-ms-transform:translate(-50%,-50%);transform:translate(-50%,-50%);width:130px;height:130px}.ip-waiting em{position:absolute;-webkit-box-sizing:border-box;box-sizing:border-box;border-radius:50%}.ip-waiting em:before{content:\"\";position:absolute;top:50%;left:-5px;width:5px;height:5px;background:#ff0;border-radius:50%}.ip-waiting em:first-child{top:0;left:0;right:0;bottom:0;-webkit-animation:rotate 4s linear infinite;animation:rotate 4s linear infinite}.ip-waiting em:first-child:before{background:#86ff00;-webkit-box-shadow:0 0 20px #86ff00,0 0 40px #86ff00,0 0 60px #86ff00,0 0 80px #86ff00,0 0 0 4px #86ff00;box-shadow:0 0 20px #86ff00,0 0 40px #86ff00,0 0 60px #86ff00,0 0 80px #86ff00,0 0 0 4px #86ff00}.ip-waiting em:nth-child(2){top:20px;left:20px;right:20px;bottom:20px;-webkit-animation:rotate-reverse 4s linear infinite;animation:rotate-reverse 4s linear infinite}.ip-waiting em:nth-child(2):before{background:#ffd600;-webkit-box-shadow:0 0 20px #ffd600,0 0 40px #ffd600,0 0 60px #ffd600,0 0 80px #ffd600,0 0 0 4px #ffd600;box-shadow:0 0 20px #ffd600,0 0 40px #ffd600,0 0 60px #ffd600,0 0 80px #ffd600,0 0 0 4px #ffd600}.ip-waiting em:nth-child(3){top:40px;left:40px;right:40px;bottom:40px;-webkit-animation:rotate 2s linear infinite;animation:rotate 2s linear infinite}.ip-waiting em:nth-child(3):before{background:#00e2ff;-webkit-box-shadow:0 0 20px #00e2ff,0 0 40px #00e2ff,0 0 60px #00e2ff,0 0 80px #00e2ff,0 0 0 4px #00e1ff;box-shadow:0 0 20px #00e2ff,0 0 40px #00e2ff,0 0 60px #00e2ff,0 0 80px #00e2ff,0 0 0 4px #00e1ff}.ip-title{position:absolute;top:0;left:12px;width:100%}.ip-title h1{font-family:Arial,Helvetica,sans-serif!important;font-size:16px!important;line-height:20px;margin:0 0 0 11px;text-align:left;padding:12px 40px 0 0;color:#fff;font-weight:400;letter-spacing:-1px;overflow:hidden;text-overflow:ellipsis;white-space:nowrap;word-wrap:normal;-webkit-line-clamp:3;-webkit-box-orient:vertical;text-shadow:0 1px 0 #b6b6b6;display:block}.ip-title h1:before{content:\"\";position:absolute;left:11px;top:12px;width:20px;height:20px;display:block;opacity:.6;background-size:cover}.ip-icons .close,.ip-icons .close2,.ip-icons .replay,.ip-icons .replay2,.ip-icons .sound,.ip-title{opacity:0;filter:alpha(opacity=0);-ms-filter:\"progid:DXImageTransform.Microsoft.Alpha(Opacity=0)\";visibility:hidden;will-change:opacity;-webkit-transition:opacity .5s ease-in-out;transition:opacity .5s ease-in-out;z-index:200}.ip-icons i{position:absolute;z-index:99}.ip-icons .close,.ip-icons .close2,.ip-icons .replay,.ip-icons .replay2,.ip-icons .sound{cursor:pointer}.ip-icons .geo{display:none;width:77px;height:15px;left:10px;bottom:21px;z-index:97;background-color:rgba(0,0,0,.4)}.ip-icons .close2,.ip-icons .replay2{width:35px;height:35px;right:10px;bottom:13px;background-position:50%;background-repeat:no-repeat}.ip-icons .replay2{border-radius:50%;background-color:rgba(0,0,0,.5)}.ip-icons .replay2:hover{background-color:rgba(0,0,0,.2)}.ip-icons .close,.ip-icons .replay,.ip-icons .sound{width:35px;height:35px;right:10px;bottom:13px;border-radius:50%;background-position:50%;background-color:rgba(0,0,0,.4);background-repeat:no-repeat}.ip-icons .close:hover,.ip-icons .replay:hover,.ip-icons .sound:hover{background-color:rgba(0,0,0,.2)}.ip-icons .close .sound_sub,.ip-icons .replay .sound_sub,.ip-icons .sound .sound_sub{width:14px;height:14px;right:11px;bottom:10px;cursor:pointer;z-index:999}.ip-icons .close_sub{position:absolute;width:9px!important;height:9px!important;right:5px!important;top:5px!important;background:none!important;background-image:none!important;z-index:201!important}.ip-icons .close_0.close,.ip-icons .close_0.close2{width:20px;height:20px;right:11px;top:12px;background-image:url(data:image/png;base64,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);background-size:54%;background-position:50%}.ip-icons .close_0.close2{border-radius:50%;border:1px solid #fff;-webkit-box-shadow:rgba(0,0,0,.35) 2px 2px 2px;box-shadow:2px 2px 2px rgba(0,0,0,.35);-webkit-box-sizing:border-box;box-sizing:border-box}.ip-icons .close_1.close,.ip-icons .close_1.close2{width:15px;height:15px;right:14px;top:14px;background-image:url(data:image/png;base64,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);background-size:contain}.ip-icons .sound{background-image:url(data:image/png;base64,iVBORw0KGgoAAAANSUhEUgAAAQAAAAEAAQMAAABmvDolAAAABlBMVEUAAAD///+l2Z/dAAAAAXRSTlMAQObYZgAAAmNJREFUaN7t2EGO4yAQhWEjFiw5AkfhaORm46PkCF72wuoapV9IxgrlXxpmN2bR3bI/dVwVA0Ut17jGNa7xf42yAmgbAPs6vx9sPweRQLZvCIJAJdAIGIBAIBLIBAqBSqARMACBQCKQCRQClUAjYAAigUQgEygEKoFGwABEAolAJlAIVAINQDAAkUAikAkUAvUF6trjuh2j7MC2Htf9EGUHoa+2UfIdpcB7MU0HkN6gP2g+LNz5E5QDKC+QzPql/TNKgZsuHYD9CVYFLmAaB6D47QeEAVB4QSAOgJ4+CqQPEAU6zCOwP8E2BH3Jzx54xPVM3X0MmjJVlY/yAXRHzgH63+aC8gLLEOjxFcwIKENK5BDolpgDwuuDHKDH06O64LbUE9CeYHWA7j2UA/TxytMIKACFMgRKgZLhg/2BHKAqIZ+BILA5QJlSIj3QzH6ZrT7QTL75QBcXAN8nIAPQhN19oCn/5QMtGpsPtOzcfaB1eSVwOwOVQFEifZD1hwf0TiHgj5h6yAoA8gCphi8Lvm58YfiVY8BvNU8cnno8eXn6B4Ht71eYCIsYLIO8kPJSrMVcmXK3g1U/aL/ALYk3Nd4WeWP1t+bob83lvXfj7o8FBpYoWORgmeSB/QcoU8mvxFygG/13hHKRC85ezLolax9GRW8DwHV1ptI9DYr/A4h0fAgGB5DlDWq/bscjzPQpKRNI02e9QGBBUAmU6VNzmj65BwILgkqgTPdA0nQfJth0L6hO96PydE8sElgQtOneYJnuT6bpFuiCoBGo073iTCDZjh1v7Jlj15379te4xjWu8W/Gb1JiODOGZr+6AAAAAElFTkSuQmCC);background-size:70%}.ip-icons .replay,.ip-icons .replay2{background-image:url(data:image/png;base64,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);background-size:90%}.ip-icons .replay2:after,.ip-icons .replay:after{border:1px solid #efefef;content:attr(data-remain);position:absolute;right:35px;bottom:3px;color:#fff;width:100px;text-align:center;pointer-events:none;font-style:normal;text-shadow:0 1px 0 #b6b6b6;font-family:Arial,Helvetica,sans-serif!important;font-size:16px!important;padding:3px;letter-spacing:-1px;-webkit-box-shadow:rgba(0,0,0,.25) 1px 1px 1px;box-shadow:1px 1px 1px rgba(0,0,0,.25)}.ip-clickthrough{cursor:pointer;z-index:98;background-color:hsla(0,0%,100%,0)}.ip-clickthrough:after,.ip-clickthrough:before{content:\"\";position:absolute;left:0;height:54px;width:100%;opacity:0;visibility:hidden}.ip-clickthrough:before{top:0;background:-webkit-gradient(linear,left top,left bottom,color-stop(0,rgba(0,0,0,.2)),to(rgba(0,0,0,0)));background:linear-gradient(180deg,rgba(0,0,0,.2),rgba(0,0,0,0))}.ip-clickthrough:after{bottom:3px;background:-webkit-gradient(linear,left top,left bottom,color-stop(10%,rgba(0,0,0,0)),to(rgba(0,0,0,.2)));background:linear-gradient(180deg,rgba(0,0,0,0) 10%,rgba(0,0,0,.2))}.ip-buffered,.ip-progress,.ip-timeline{position:absolute!important;left:0;width:100%;height:4px;background:rgba(0,0,0,.5);-webkit-transition:opacity .5s ease-in-out;transition:opacity .5s ease-in-out}.ip-timeline{bottom:-1px;opacity:0;visibility:hidden}.ip-progress{background:#35c324}.ip-buffered{background:hsla(0,0%,100%,.7)}.ip-buffered,.ip-progress{margin:0!important;width:0;-webkit-transition:width .25s linear;transition:width .25s linear}.is-speakout.iwmads .ip-icons .sound{background-image:url(data:image/png;base64,iVBORw0KGgoAAAANSUhEUgAAAQAAAAEAAQMAAABmvDolAAAABlBMVEUAAAD///+l2Z/dAAAAAXRSTlMAQObYZgAAAs5JREFUaN7t2EuSpCAQBmAIFizzCByFm7UczaN4BJYuCHNKtHhMZpFdVlTMYmRlhF93BYKY+at73OMe9/i/hpsFMMXzQice4HpeWGTva3z+IWDggCnA4cwBwO288riwk5CAb0BkZ1nAhCsHsAGJm6UEbAs2BkAFHpGbpQT8A1QbmFl2YKYAKwAO6AZYZJ617UEkABpgOOAaoJFZDN8AxYGpB4kALOCHXS1TgMZQ904dtgCDM7cYUIDFRTkKXAGAceeBzLKClQNTAe4BLFktjQ1IDDAt2JQhy2klAC1Apclyug4ERYCvAFgwdWAmb6fGCiwHTA8W5THRWWaQcSQAKjim6HCjs6xgJcA3QO0A/gJYwbEhAbGbpQRMBedpZ3tgO+AOEBoAFfwcy2l64ArQGBRQMBVgcH6Cmc4y//aSf1/voN6pADC2QDNgzf9eH5vSEOBOoA5gGZCUrgBegWUANpVvThivAtxBPIEjAB4g3/SvQTjBygJ7gHUEZuUHwDyBGwGXQeJAfor55lWQH1K+CSMAIzBlsI3AeoKNB/43wOZHeg2Uk/pDYEYACsDLYMvAfArCS2B/A/S3AX4bmBu88ST/+X4QgLhpoYLP36xvvd2ugK+cUdfPSfmspqe9DK5/UJ7fLPjWV69+eWVw9eMOfXkAUoEBQokiFjlymWRZoBsglWqGAOiLPcXXkw3wFMRacPI1bS1ZX1TFSwV8XV3LZr4yR/UEYVTbZyB0Bx3QHHirQ1FeAq4FXJcEUhtlaSOWOmCkVk5LzaAatJO0Y2WBk1pakIAV2mq5c9cs4NMDIOEAzR844EhAMchA4s7DIEVZdjDKYWYuh9HNjgoEkCxowiSlSen9PAokYKXIy0ihmZJiNzUJwZ3yUvTnOhAu5JNWAroFm2JGCxIHJgn4BqxSVhwvpc22yasXKfGex5k5YBin7maTcvtV3eMe97jHR+MPjY3hMI2Lof0AAAAASUVORK5CYII=)}.is-loading.iwmads .ip-waiting{display:block}.is-loaded.iwmads .ip-engine,.is-loaded.iwmads .ip-engine2,.is-paused.iwmads .ip-clickthrough,.is-paused.iwmads .ip-engine,.is-paused.iwmads .ip-engine2,.is-paused.iwmads .ip-icons .sound,.is-paused.iwmads .ip-product,.is-paused.iwmads .ip-timeline,.is-playing.iwmads .ip-clickthrough,.is-playing.iwmads .ip-engine,.is-playing.iwmads .ip-engine2,.is-playing.iwmads .ip-icons .sound,.is-playing.iwmads .ip-product,.is-playing.iwmads .ip-timeline,:not(.is-loading).iwmads .ip-clickthrough:after,:not(.is-loading).iwmads .ip-clickthrough:before,:not(.is-loading).iwmads .ip-title{opacity:1;visibility:visible}.is-show-xbtn_toast.is-paused.iwmads .ip-icons .close,.is-show-xbtn_toast.is-paused.iwmads .ip-icons .close2,.is-show-xbtn_toast.is-playing.iwmads .ip-icons .close,.is-show-xbtn_toast.is-playing.iwmads .ip-icons .close2{opacity:1;filter:alpha(opacity=100);-ms-filter:\"progid:DXImageTransform.Microsoft.Alpha(Opacity=100)\";visibility:visible;top:-27px;right:2px;background-color:rgba(0,0,0,.6)}.is-finished.iwmads .ip-icons .replay,.is-finished.iwmads .ip-icons .replay2,.is-show-xbtn.is-paused.iwmads .ip-icons .close,.is-show-xbtn.is-paused.iwmads .ip-icons .close2,.is-show-xbtn.is-playing.iwmads .ip-icons .close,.is-show-xbtn.is-playing.iwmads .ip-icons .close2{opacity:1;filter:alpha(opacity=100);-ms-filter:\"progid:DXImageTransform.Microsoft.Alpha(Opacity=100)\";visibility:visible}.is-finished.iwmads .ip-engine,.is-finished.iwmads .ip-engine2{opacity:0}.is-finished.iwmads .ip-ratio{background-color:rgba(0,0,0,0)}.is-finished.iwmads .ip-product{opacity:0}.is-finished.iwmads .ip-clickthrough{opacity:1!important}.is-finished.iwmads .ip-stop{opacity:1!important;z-index:199}.is-finished.iwmads .ip-clickthrough:after{bottom:0}.is-shutdown.iwmads{display:none;margin-bottom:0!important}.no-header.iwmads .ip-header,.no-header.iwmads .ip-header2,.no-replay.iwmads .ip-icons .replay,.no-replay.iwmads .ip-icons .replay2,.no-sound.iwmads .ip-icons .sound{display:none}.no-timeline.iwmads .ip-icons .geo{bottom:18px}.no-timeline.iwmads .ip-icons .replay,.no-timeline.iwmads .ip-icons .replay2,.no-timeline.iwmads .ip-icons .sound{bottom:10px}.no-timeline.iwmads .ip-clickthrough:after{bottom:0}.no-timeline.iwmads .ip-timeline{display:none}.ie.iwmads .ip-title h1{padding-top:11px}.ip-container2 .ip-main2 div .ip-icons .sound{left:10px!important}@-webkit-keyframes pulse{0%{opacity:0}to{opacity:1}}@keyframes pulse{0%{opacity:0}to{opacity:1}}@-webkit-keyframes rotate{0%{-webkit-transform:rotate(0deg);transform:rotate(0deg)}to{-webkit-transform:rotate(1turn);transform:rotate(1turn)}}@keyframes rotate{0%{-webkit-transform:rotate(0deg);transform:rotate(0deg)}to{-webkit-transform:rotate(1turn);transform:rotate(1turn)}}@-webkit-keyframes rotate-reverse{0%{-webkit-transform:rotate(1turn);transform:rotate(1turn)}to{-webkit-transform:rotate(0deg);transform:rotate(0deg)}}@keyframes rotate-reverse{0%{-webkit-transform:rotate(1turn);transform:rotate(1turn)}to{-webkit-transform:rotate(0deg);transform:rotate(0deg)}}\n",
      "\n",
      "\n",
      "\n",
      "\n",
      "\n",
      "(function() {\n",
      "var nl = document.createElement('script'); nl.type = 'text/javascript';\n",
      "nl.src = 'https://zdnet.co.kr/js/wl6.js?ver=19.02.21';\n",
      "var s = document.getElementsByTagName('script')[0]; s.parentNode.insertBefore(nl, s);\n",
      "var done = false;\n",
      "nl.onload = nl.onreadystatechange = function() {\n",
      "\t\t if ( !done && (!this.readyState || this.readyState === \"loaded\" || this.readyState === \"complete\") ) {\n",
      "\t\t\t\t\tdone = true;\n",
      "\t\t\t\t\t_n_sid = \"zdnet_web\";\n",
      "\t\t\t\t\t_n_info1_cookie = \"article1\";\n",
      "\t\t\t\t\t_n_info2_cookie = \"article2\";\n",
      "\t\t\t\t\t_n_info3_cookie = \"article3\";\n",
      "\t\t\t\t\tn_logging();\n",
      "\t\t\t\t\tnl.onload = nl.onreadystatechange = null;\n",
      "\t\t }\n",
      "}\n",
      "})();\n",
      "\n",
      "\n",
      "\n",
      "\n",
      "  var _paq = window._paq || [];\n",
      "  /* tracker methods like \"setCustomDimension\" should be called before \"trackPageView\" */\n",
      "  _paq.push(['trackPageView']);\n",
      "  _paq.push(['enableLinkTracking']);\n",
      "  (function() {\n",
      "    var u=\"//log.zdnet.co.kr/\";\n",
      "\n",
      "    _paq.push(['setTrackerUrl', u+'index.php']);\n",
      "    _paq.push(['setSiteId', 'zdnet_web']);\n",
      "    var d=document, g=d.createElement('script'), s=d.getElementsByTagName('script')[0];\n",
      "    g.type='text/javascript'; g.async=true; g.defer=true; g.src=u+'techLog.js'; s.parentNode.insertBefore(g,s);\n",
      "  })();\n",
      "\n",
      "\n",
      "\n",
      "\n",
      "\n",
      "  window.dataLayer = window.dataLayer || [];\n",
      "  function gtag(){dataLayer.push(arguments);}\n",
      "  gtag('js', new Date());\n",
      "\n",
      "  gtag('config', 'UA-26701480-12');\n",
      "\n",
      "\n",
      "\n",
      "\n",
      "        (function(d,a,b,l,e,_) {d[b]=d[b]||function(){(d[b].q=d[b].q||[]).push(arguments)};e=a.createElement(l);e.async=1;e.charset='utf-8';e.src='//static.dable.io/dist/plugin.min.js';_=a.getElementsByTagName(l)[0];_.parentNode.insertBefore(e,_);})(window,document,'dable','script');dable('setService', 'zdnet.co.kr');\n",
      "    \n",
      "\n",
      "\n",
      "\n",
      "\n",
      "\n",
      "\n",
      "\n",
      "\n",
      "\n",
      "\n",
      "\t\tjQuery(document).ready( function() {\n",
      "\t\t\t$(\"img.lazyload\").lazyload({\n",
      "\t\t\t\tfailure_limit : 1000, \n",
      "\t\t\t\tevent: \"lazyload\", \n",
      "\t\t\t\tthreshold : 200, \n",
      "\t\t\t\teffect: \"fadeIn\", \n",
      "\t\t\t\tskip_invisible: false\n",
      "\t\t\t});\n",
      "\t\t});\n",
      "\t\t$(function() {\n",
      "\t\t\t$(\"img.lazy\").show().lazyload()\n",
      "\t\t\twindow.onload = function() {\n",
      "\t\t\t\t$(window).resize()\n",
      "\t\t\t};\n",
      "\t\t});\n",
      "\t\tfunction article_print(artice_id){\n",
      "\t\t\tvar gsWin = window.open('about:blank','article_printwin','toolbar=0,scrollbars=0,width=735,height=600,scrollbars=yes,resizable=yes,left=0,top=0');\n",
      "\t\t\tvar frm =document.article_print;\n",
      "\t\t\tfrm.action = '/view/print.php';\n",
      "\t\t\t$(\"#no\").val(artice_id);\n",
      "\t\t\tfrm.target =\"article_printwin\";\n",
      "\t\t\tfrm.method =\"post\";\n",
      "\t\t\tfrm.submit();\n",
      "\t\t}\n",
      "\n",
      "        function article_print(artice_id){\n",
      "        \tvar gsWin = window.open('about:blank','article_printwin','toolbar=0,scrollbars=0,width=735,height=600,scrollbars=yes,resizable=yes,left=0,top=0');\n",
      "        \tvar frm =document.article_print;\n",
      "        \tfrm.action = '/view/print.php';\n",
      "        \t$(\"#no\").val(artice_id);\n",
      "        \tfrm.target =\"article_printwin\";\n",
      "        \tfrm.method =\"post\";\n",
      "        \tfrm.submit();\n",
      "        }\n",
      "        \n",
      "        var lastScrollTop = 0;\n",
      "        $(window).bind('scroll', function() {\n",
      "           var st = $(this).scrollTop();\n",
      "           if (st > lastScrollTop){\n",
      "        \t\t// downscroll code\n",
      "        \t\tif($(window).scrollTop() >= $('.right_cont').offset().top + $('.right_cont').outerHeight() - window.innerHeight) {\n",
      "        \t\t\tif($('.right_cont').outerHeight() > 0){\n",
      "        \t\t\t\t$('#ad_right_height').val( $(window).scrollTop() );\n",
      "        \t\t\t}\n",
      "        \t\t\t$('.f_box').addClass('nav-bottom '); \n",
      "        \t\t}\n",
      "        \t}else{\n",
      "        \t\t// upscroll code\n",
      "        \t\tif( $('#ad_right_height').val() > 0){\n",
      "        \t\t\tif($(window).scrollTop() <= $('#ad_right_height').val()){\n",
      "        \t\t\t\t$('.f_box').removeClass('nav-bottom '); \n",
      "        \t\t\t}\n",
      "        \t\t}\n",
      "        \t}\n",
      "           lastScrollTop = st;\n",
      "        });\n",
      "        \n",
      "        $(window).bind('scroll', function() {\n",
      "           if($(window).scrollTop() >= $('.contentWrapper').offset().top + $('.contentWrapper').outerHeight() - window.innerHeight) {\n",
      "        \t\t\t $('.f_box').css(\"bottom\",\"330px\");\n",
      "           }else{\n",
      "        \t\t\t $('.f_box').removeAttr(\"style\");\n",
      "           }\n",
      "        });\n",
      "    \n",
      "\n",
      "\n",
      "\n",
      "ZDNet Korea 뉴스레터 구독신청\n",
      "\n",
      "\n",
      "구독신청\n",
      "닫기\n",
      "\n",
      "\n",
      "\n",
      "\n",
      "\n",
      "\n",
      "\n",
      "\n",
      "\n",
      "\n",
      "\n",
      "\n",
      "\n",
      "Edition: KOREA\n",
      "\n",
      "\n",
      "English\n",
      "지디넷 웨비나\n",
      "\n",
      "ZDNet around the globe:\n",
      "ZDNet USA\n",
      "ZDNet China\n",
      "ZDNet Japan\n",
      "\n",
      "\n",
      "\n",
      "\n",
      "\n",
      "\n",
      "\n",
      "\n",
      "\n",
      "\n",
      "\n",
      "\n",
      "\n",
      "\n",
      "\n",
      "\t\t\t\t\t\t.st0{fill:#DE1400;}\n",
      "\t\t\t\t\t\t.st1{fill:#FFFFFF;}\n",
      "\t\t\t\t\t\t.st2{fill:#D7E3E9;}\n",
      "\t\t\t\t\t\n",
      "\n",
      "\n",
      "\n",
      "\n",
      "\n",
      "\n",
      "\n",
      "\n",
      "\n",
      "\n",
      "\n",
      "\n",
      "\n",
      "\n",
      "\n",
      "\n",
      "\n",
      "\n",
      "\n",
      "\n",
      "Search\n",
      "\n",
      "\n",
      "\n",
      "\n",
      "\n",
      "\n",
      "\n",
      "\n",
      "\n",
      "\n",
      "\n",
      "\n",
      "\n",
      "\n",
      "\n",
      "\n",
      "\n",
      "\n",
      "\n",
      "\n",
      "\n",
      "\n",
      "뉴스\n",
      "\n",
      "최신뉴스\n",
      "방송/통신\n",
      "컴퓨팅\n",
      "홈&모바일\n",
      "인터넷\n",
      "반도체/디스플레이\n",
      "카테크\n",
      "게임\n",
      "중기&벤처\n",
      "유통\n",
      "금융\n",
      "과학\n",
      "산업일반\n",
      "인사•부음\n",
      "통계뉴스\n",
      "인터뷰\n",
      "\n",
      "\n",
      "\n",
      "이슈진단+\n",
      "인공지능\n",
      "전기차\n",
      "교육\n",
      "컨퍼런스\n",
      "칼럼•연재\n",
      "포토•영상\n",
      "뉴스레터\n",
      "로그인 \n",
      "\n",
      "\n",
      "\n",
      "\n",
      "\n",
      "\n",
      "\n",
      "\n",
      "\n",
      "\n",
      "\n",
      "        var nextPenSlugs = [\n",
      "\t\t\t\t\t\t\t\t20210316131656,\n",
      "\t\t\t\t20210316101002,\n",
      "\t\t\t\t20210316135207,\n",
      "\t\t\t\t20210316110221,\n",
      "\t\t\t\t20210316092013,\n",
      "\t\t\t\t20210316132310,\n",
      "\t\t\t\t20210316093119,\n",
      "\t\t\t\t20210316094338,\n",
      "\t\t\t\t20210316104157,\n",
      "\t\t\t\t20210316140658,\n",
      "\t\t\t\t20210316154405,\n",
      "\t\t\t\t20210316154936,\n",
      "\t\t\t\t20210316153129,\n",
      "\t\t\t\t20210316123009,\n",
      "\t\t\t\t20210316115540,\n",
      "\t\t\t\t20210316111702,\n",
      "\t\t\t\t20210316140446,\n",
      "\t\t\t\t20210315133716,\n",
      "\t\t\t\t20210315143524,\n",
      "\t\t\t\t20210315165300,\n",
      "\t\t\t\t20210315091515,\n",
      "\t\t\t\t20210315222727,\n",
      "\t\t\t\t20210315170120,\n",
      "\t\t\t\t20210315150411,\n",
      "\t\t\t\t20210315213915,\n",
      "\t\t\t\t20210315084959,\n",
      "\t\t\t\t20210315171427,\n",
      "\t\t\t\t20210315092316,\n",
      "\t\t\t\t20210315152337\n",
      "        \t];\n",
      "        \tfunction getArticlePath() {\n",
      "        \t\tvar slug = nextPenSlugs[ this.loadCount ];\n",
      "        \t\tif ( slug ) {\n",
      "        \t\t\treturn '/view/?no=' + slug + \"&re=O_\" + slug + \"&p=\" + (this.loadCount + 1) ;\n",
      "        \t\t}\n",
      "        \t}\n",
      "        \n",
      "        \t// init Infinite Scroll\n",
      "        \tjQuery(function() {\n",
      "        \t\t$('.article-feed').infiniteScroll({\n",
      "        \t\t\tpath: getArticlePath,\n",
      "        \t\t\tappend: '.zdnetkor-scroll',\n",
      "        \t\t\tstatus: '.scroller-status',\n",
      "        \t\t\thistoryTitle: true,\n",
      "        \t\t});\n",
      "        \t});\n",
      "    \n",
      "\n",
      "\n",
      "\n",
      "\n",
      "\n",
      "\n",
      "\n",
      "\n",
      "\n",
      "\n",
      "\n",
      "\n",
      "\n",
      "\n",
      "인터파크, 주식 서적 판매량 5배↑\n",
      "염승환 부장과 직접 상담할 수 있는 단독 이벤트 마련\n",
      "\n",
      "\n",
      "백봉삼 기자 입력 :2021/03/15 09:31 유통\n",
      "\n",
      "\n",
      "\n",
      "\n",
      "\n",
      "\n",
      "\n",
      "\n",
      "\n",
      "\n",
      "\n",
      "\n",
      "\n",
      "\n",
      "\n",
      "\n",
      "\n",
      "\n",
      "\n",
      "\n",
      "\n",
      "\n",
      "\n",
      "\n",
      "\n",
      "인터파크 염승환직접상담이벤트\n",
      "\n",
      "\n",
      "\n",
      "\n",
      "\n",
      "국내 주식 투자 인구가 800만 명을 넘어섰고 주식거래 활동계좌도 올 3월 기준 4천만 개에 육박하며 주식 투자가 보편적인 자산운용 수단으로 자리 잡으면서 관련 서적 판매량도 크게 증가했다.\n",
      "인터파크에 따르면 올해 1월1일부터 3월10일까지 주식/투자/펀드 카테고리에 도서 판매량과 매출액이 전년 동기간 대비 각각 5배씩 폭발적으로 증가한 것으로 나타났다.\n",
      "특히 매년 3월께 발표되는 예탁결제원의 12월 결산 상장법인 주식 소유자 기준에 따르면 주식 투자 인구는 2019년 말 619만 명에서 2021년 3월에는 약 835만 명으로 추정돼 약 216만 명의 ‘주린이’(초보 주식 투자자)들이 양성된 것으로 보인다. 요즘 주린이들은 업종과 종목 분석 자료도 찾아보며 적극적으로 공부하면서 투자하는 성향을 가진 이유로 실제 서점가에서 판매된 관련 서적도 주식 거래 필수 지식과 투자 원칙 등에 대한 입문서들의 판매량이 압도적으로 높은 것으로 나타났다.\n",
      "그 결과 2020년 1년간 주식/투자/펀드 카테고리 베스트셀러는 1위가 ‘주식투자 무작정 따라하기’,  2위 ‘전설로 떠나는 월가의 영웅’, 3위 ‘주식 공부 5일 완성’, 4위 ‘파워슈팅의 주식투자족보 시즌 3’, 5위 ‘미스터 마켓 2021’ 순으로 나타났다.\n",
      "2021년으로 넘어오면서 1월1일부터 3월10일까지 판매량에서도 주린이들을 위한 신간 출간과 인기가 더욱 두드러지고 있다. 분야 1위 도서로 ‘주린이가 가장 알고 싶은 최다질문 TOP 77’이 급부상했으며 이 책은 출간 이후 7주 연속 종합 베스트셀러 1위를 지키고 있을 만큼 호응이 높다. ‘주식투자 무작정 따라하기’와 ‘전설로 떠나는 월가의 영웅’, ‘미스터 마켓 2021’도 지난해에 이어 인기를 지속하고 있으며 ‘주린이도 술술 읽는 친절한 주식책’도 분야 5위에 올라왔다.\n",
      "이에 인터파크는 주린이들을 위한 특별한 단독 이벤트를 마련했다. ‘주린이가 가장 알고 싶은 최다질문 TOP 77’의 저자이자 주린이들 사이에 '염블리'라는 애칭으로 통하는 이베스트투자증권의 염승환 부장에게 직접 상담할 수 있는 기회를 제공하는 것.\n",
      "관련기사\n",
      "\n",
      "\n",
      "\n",
      "\n",
      "\n",
      "\n",
      "\n",
      "\n",
      "\n",
      "\n",
      "\n",
      "배민 김봉진, 직원·라이더에 1천억원대 주식 나눔\n",
      "\n",
      "\n",
      "2021.03.11안희정 기자\n",
      "\n",
      "\n",
      "\n",
      "\n",
      "\n",
      "\n",
      "\n",
      "\n",
      "\n",
      "\n",
      "\n",
      "\n",
      "야놀자, 전직원 1천만원 주식 무상 지급...\"새 직원도 준다”\n",
      "\n",
      "\n",
      "2021.03.08백봉삼 기자\n",
      "\n",
      "\n",
      "\n",
      "\n",
      "\n",
      "\n",
      "\n",
      "\n",
      "\n",
      "\n",
      "\n",
      "\n",
      "쿠팡, 상시직 전환 일용직 3천명에 주식 부여\n",
      "\n",
      "\n",
      "2021.02.17안희정 기자\n",
      "\n",
      "\n",
      "\n",
      "\n",
      "\n",
      "\n",
      "\n",
      "\n",
      "\n",
      "\n",
      "\n",
      "\n",
      "토스증권, 초보 눈높이 맞춘 MTS로 월 100만 MZ세대 겨낭한다\n",
      "\n",
      "\n",
      "2021.02.03차재서 기자\n",
      "\n",
      "\n",
      "\n",
      "3월31일 까지 주린이가 가장 알고 싶은 최다질문 TOP 77을 구매한 독자들의 이벤트 응모가 가능하며, 깊이 있는 대면 상담을 위해 단 3명에게만 행운이 주어지게 된다. 참여방법은 해당 도서 구매 후 이벤트 페이지의 게시판에 직접 상담을 해야 하는 이유와 궁금한 점을 남기면 된다. 당첨자 발표는 4월 9일에 있을 예정이며, 직접 상담 일정은 염승환 부장과 일정 조율 후 확정하게 된다.\n",
      "인터파크 권미혜 경제경영 MD는 \"지난해 같은 상승장을 지나 변동성이 심해진 요즘 시장에서 불안해진 주린이들이 자신의 포트폴리오를 갖고 직접 상담도 받고 책을 읽으면서 궁금했던 점을 질문도 할 수 있는 유익한 자리가 될 것으로 기대한다\"고 밝혔다.\n",
      "\n",
      "\n",
      "\n",
      "\n",
      "\n",
      "\n",
      "\n",
      "\n",
      " \n",
      "\n",
      "\n",
      "\n",
      "\n",
      "\n",
      "\n",
      "\n",
      "tags:\n",
      "주린이\n",
      "인터파크\n",
      "주식\n",
      "책\n",
      "도서\n",
      "투자\n",
      "서적\n",
      "염승환\n",
      "\n",
      "\n",
      "\n",
      "\n",
      "\n",
      "\n",
      "\n",
      "\n",
      "\n",
      "\n",
      "백봉삼 기자\n",
      "\n",
      "\n",
      "요즘 가장 ‘핫’한 인터넷/전자상거래/스타트업을 취재합니다. 여러분의 작은 제보가 세상을 놀라게 하는 뉴스가 될 수 있습니다. 백 기자에게 연락주세요.\n",
      "\n",
      "  \n",
      "                        \n",
      "\n",
      "\n",
      "\n",
      "\n",
      "\n",
      "\n",
      "\n",
      "\n",
      "\n",
      "\n",
      "\n",
      "\n",
      "\n",
      "\n",
      "\n",
      "\n",
      "\n",
      "\n",
      "\n",
      "\n",
      "jQuery(function(){\n",
      "\t$(\"img.lazy\").show().lazyload();\n",
      "\n",
      "\twindow.onload = function() {\n",
      "\t\t$(window).resize()\n",
      "\t};\n",
      "});\n",
      "jQuery(document).ready( function() {\n",
      "\t$(\"img.lazyload\").lazyload();\n",
      "\n",
      "\t$('.fb-share').click(function(e) {\n",
      "\t\te.preventDefault();\n",
      "\t\twindow.open(encodeURI($(this).attr('href') + $(this).attr('aria-label')), 'fbShareWindow', 'height=450, width=550, top=0, left=0, toolbar=0, location=0, menubar=0, directories=0, scrollbars=0');\n",
      "\t\treturn false;\n",
      "\t});\n",
      "\n",
      "\t$('.fb2-share').click(function(e) {\n",
      "\t\te.preventDefault();\n",
      "\t\twindow.open($(this).attr('href') + $(this).attr('aria-label'), 'fbShareWindow', 'height=450, width=550, top=0, left=0, toolbar=0, location=0, menubar=0, directories=0, scrollbars=0');\n",
      "\t\treturn false;\n",
      "\t});\n",
      "\n",
      "});\n",
      "\n",
      "\n",
      "\n",
      "이 기사에 댓글쓰기펼치기\n",
      "\n",
      "\n",
      "\n",
      "\t\t\t\t\t\t\t\twindow.livereOptions ={\n",
      "\n",
      "\t\t\t\t\t\t\t\t\t\trefer: 'zdnet.co.kr/view/?no=20210315093140',\n",
      "\n",
      "\t\t\t\t\t\t\t\t\t\teagerLoading: true\n",
      "\t\t\t\t\t\t\t\t\t};\n",
      "\t\t\t\t\t\t\t\t\twindow.livereHooks = {\n",
      "\t\t\t\t\t\t\t\t\t\tcreated: function (data) {\n",
      "\t\t\t\t\t\t\t\t\t\t\tconsole.log('livere=' + data.totalCount);\n",
      "\t\t\t\t\t\t\t\t\t\t\tif (data.totalCount > 0) {\n",
      "\t\t\t\t\t\t\t\t\t\t\t\tjQuery('#comment_box').css('height', '');\n",
      "\t\t\t\t\t\t\t\t\t\t\t\tjQuery('#comment_btn').hide();\n",
      "\t\t\t\t\t\t\t\t\t\t\t}\n",
      "\t\t\t\t\t\t\t\t\t\t}\n",
      "\t\t\t\t\t\t\t\t\t};\n",
      "\t\t\t\t\t\t\t\t\t(function(d,s) {\n",
      "\t\t\t\t\t\t\t\t\t\tvar j, e=d.getElementsByTagName(s)[0];\n",
      "\t\t\t\t\t\t\t\t\t\t\n",
      "\t\t\t\t\t\t\t\t\t\tif (typeof LivereTower === 'function') {return;}\n",
      "\t\t\t\t\t\t\t\t\t\t\n",
      "\t\t\t\t\t\t\t\t\t\tj=d.createElement(s);\n",
      "\t\t\t\t\t\t\t\t\t\tj.src='https://cdn-city.livere.com/js/embed.dist.js'; j.async=true;\n",
      "\t\t\t\t\t\t\t\t\t\te.parentNode.insertBefore(j,e);\n",
      "\t\t\t\t\t\t\t\t\t})(document,'script');\n",
      "\t\t\t\t\t\t\t\t\n",
      "라이브리 댓글 작성을 위해 javascript를 활성화해 주세요\n",
      "\n",
      "\n",
      "\n",
      "\n",
      "\n",
      "\n",
      "\n",
      "\n",
      "\n",
      "\n",
      "\n",
      "\n",
      "\n",
      "\n",
      "\n",
      "\n",
      "\n",
      "\n",
      "가장 많이 본 뉴스\n",
      "\n",
      "\n",
      "\n",
      "\n",
      "\n",
      "\n",
      "기아 EV6 전기차 완전 공개...온라인으로 사전예약 진행\n",
      "\n",
      "기사내용\n",
      "2021.03.15조재환 기자\n",
      "\n",
      "\n",
      "\n",
      "\n",
      "\n",
      "\n",
      "\n",
      "\n",
      "일론 머스크 또 기행…테슬라 '테크노킹' 됐다\n",
      "\n",
      "기사내용\n",
      "2021.03.15김익현 미디어연구소장\n",
      "\n",
      "\n",
      "\n",
      "\n",
      "\n",
      "\n",
      "\n",
      "\n",
      "5G폰도 40만원대...알뜰폰 도약 기회 보인다\n",
      "\n",
      "기사내용\n",
      "2021.03.15박수형 기자\n",
      "\n",
      "\n",
      "\n",
      "\n",
      "\n",
      "\n",
      "\n",
      "\n",
      "올해부터 본격화하는 SK하이닉스만의 파이낸셜 스토리\n",
      "\n",
      "기사내용\n",
      "2021.03.15양태훈 기자\n",
      "\n",
      "\n",
      "\n",
      "\n",
      "\n",
      "\n",
      "\n",
      "\n",
      "구글, 인앱결제 수수료 15%로 내린다\n",
      "\n",
      "기사내용\n",
      "2021.03.15안희정 기자\n",
      "\n",
      "\n",
      "\n",
      "\n",
      "\n",
      "\n",
      "\n",
      "\n",
      "이베이코리아 예비 입찰…누구 품으로 갈까\n",
      "\n",
      "기사내용\n",
      "2021.03.16안희정 기자\n",
      "\n",
      "\n",
      "\n",
      "\n",
      "\n",
      "\n",
      "\n",
      "\n",
      "스페이스X, 로켓 재활용 기록 또 깼다…9번째 성공\n",
      "\n",
      "기사내용\n",
      "2021.03.15이정현 미디어연구소\n",
      "\n",
      "\n",
      "\n",
      "\n",
      "\n",
      "\n",
      "\n",
      "\n",
      "이베이코리아 예비입찰 D-1…흥행 성공할까\n",
      "\n",
      "기사내용\n",
      "2021.03.15안희정 기자\n",
      "\n",
      "\n",
      "\n",
      "\n",
      "\n",
      "\n",
      "\n",
      "\n",
      "요기요, 3년 내 ‘최대 1천명’ 개발 조직 꾸린다\n",
      "\n",
      "기사내용\n",
      "2021.03.15백봉삼 기자\n",
      "\n",
      "\n",
      "\n",
      "\n",
      "\n",
      "\n",
      "\n",
      "\n",
      "TV 보면 눈 나빠진다?…삼성·LG, 눈 건강 챙긴다\n",
      "\n",
      "기사내용\n",
      "2021.03.15권혜미 기자\n",
      "\n",
      "\n",
      "\n",
      "\n",
      "\n",
      "\n",
      "\n",
      "\n",
      "\n",
      "\n",
      "\n",
      "\n",
      "\n",
      "\n",
      "이시각 주요뉴스\n",
      "\n",
      "\n",
      "\n",
      "\n",
      "\n",
      "\n",
      "\n",
      "\n",
      "네이버-신세계 지분교환 확정...\"오늘 이사회 후 공식화”\n",
      "\n",
      "기사내용\n",
      "백봉삼 기자\n",
      "\n",
      "\n",
      "\n",
      "\n",
      "\n",
      "\n",
      "\n",
      "\n",
      "\n",
      "\n",
      "이베이코리아 예비 입찰…누구 품으로 갈까\n",
      "\n",
      "기사내용\n",
      "안희정 기자\n",
      "\n",
      "\n",
      "\n",
      "\n",
      "\n",
      "\n",
      "\n",
      "\n",
      "\n",
      "\n",
      "논란 중심에 선 확률형 아이템...글로벌 게임시장 사례는?\n",
      "\n",
      "기사내용\n",
      "김한준 기자\n",
      "\n",
      "\n",
      "\n",
      "\n",
      "\n",
      "\n",
      "\n",
      "\n",
      "\n",
      "\n",
      "\"현 위치에서 계속 업무 봐라\"...LG폰 사업 운명은?\n",
      "\n",
      "기사내용\n",
      "정진호 기자\n",
      "\n",
      "\n",
      "\n",
      "\n",
      "\n",
      "\n",
      "\n",
      "\n",
      "\n",
      "\n",
      "\n",
      "\n",
      "\n",
      "\n",
      "\n",
      "\n",
      "\n",
      "\n",
      "\n",
      "\n",
      "\n",
      "\n",
      "\n",
      "\n",
      "\n",
      "\n",
      "\n",
      "\n",
      "\n",
      "\n",
      "\n",
      "\n",
      "\n",
      "ZDNet Power Center\n",
      "\n",
      "\n",
      "\n",
      "\n",
      "\n",
      "\n",
      "\n",
      "\n",
      "\n",
      "\n",
      "\n",
      "\n",
      "\n",
      "\n",
      "\n",
      "\n",
      "\n",
      "\n",
      "\n",
      "\n",
      "\n",
      "\n",
      "\n",
      "\n",
      "\n",
      "\n",
      "\n",
      "\n",
      "\n",
      "\n",
      "\n",
      "\n",
      "\n",
      "\n",
      "\n",
      "\n",
      "\n",
      "\n",
      "\n",
      "\n",
      "\n",
      "\n",
      "\n",
      "\n",
      "\n",
      "\n",
      "\n",
      "\n",
      "\n",
      "\n",
      "\n",
      "\n",
      "\n",
      "\n",
      "\n",
      "\n",
      "\n",
      "\n",
      "\n",
      "\n",
      "\n",
      "\n",
      "\n",
      "\n",
      "\n",
      "\n",
      "\n",
      "\n",
      "\n",
      "\n",
      "\n",
      "\n",
      "\n",
      "\n",
      "\n",
      "\n",
      "\n",
      "\n",
      "\n",
      "\n",
      "\n",
      "\n",
      "\n",
      "\n",
      "\n",
      "\n",
      "\n",
      "\n",
      "\n",
      "\n",
      "\n",
      "\n",
      "Connect with us\n",
      "\n",
      "\n",
      "\n",
      "\n",
      "\n",
      "\n",
      "\n",
      "\n",
      "                    © 2020 ZDNET, A RED VENTURES COMPANY. ALL RIGHTS RESERVED. All rights reserved. Global family site >>  CNET.com | ZDNet.com\n",
      "\n",
      "\n",
      "\n",
      "\n",
      "ZDNet Korea Newsletter 구독 신청\n",
      "\n",
      "구독신청\n",
      "\n",
      "\n",
      "\n",
      "\n",
      "\n",
      "\n",
      "\n",
      "회사소개\n",
      "광고문의\n",
      "DB마케팅문의\n",
      "제휴문의\n",
      "개인정보처리방침\n",
      "이용약관\n",
      "청소년 보호정책\n",
      "\n",
      "\n",
      "회사명 : (주)메가뉴스\n",
      "제호 : 지디넷코리아\n",
      "등록번호 : 서울아00665\n",
      "\n",
      "\n",
      "등록연월일 : 2008년 9월 23일\n",
      "사업자 등록번호 : 220-87-44355\n",
      "\n",
      "\n",
      "주소 : 서울시 마포구 양화로111 지은빌딩 3층\n",
      "대표전화 : (02)330-0100\n",
      "\n",
      "\n",
      "발행인 : 김경묵\n",
      "편집국장 : 박승정\n",
      "개인정보보호 책임자·청소년보호책임자 : 김익현\n",
      "\n",
      "\n",
      "\n",
      "\n",
      "\n",
      "\n",
      "\n",
      "\n",
      "\n",
      "\n",
      "\n",
      "\n",
      "\n",
      "\n",
      "\n",
      "\n",
      " \n",
      "\n",
      "\n",
      "\n",
      "\n",
      "\n",
      "\n",
      "\n",
      "\n",
      "\t(function(){var d=!1,e=\"//www.mediacategory.com/servlet/iadbn?from=\"+escape(document.referrer)+\"&s=12622&psb=99\",c=function(){d=!0;var a=document.createElement(\"iframe\");a.src=e;a.width=\"0\";a.height=\"0\";a.frameBorder=0;a.marginWidth=0;a.marginHeight=0;a.scrolling=\"no\";a.async?a.async=!0:a.defer&&(a.defer=!0);if(document.body)document.body.appendChild(a);else{var b=document.getElementsByTagName(\"html\")[0],c=document.createElement(\"body\");b.appendChild(c);c.appendChild(a)}};try{var f=setTimeout(c,1E3),g=document.getElementsByTagName(\"head\").item(0),b=document.createElement(\"script\");b.src=\"//cdn.megadata.co.kr/js/media/1.1/MBSHandler.js\";b.type=\"text/javascript\";b.async?b.async=!0:b.defer=!0;b.onload=function(){!0!==d&&(clearTimeout(f),enlipleMBSHandler(enlipleMBSHandler.getProductTypeCode(\"ico\"),enlipleMBSHandler.getWebCode(),12622).appendICover(e))};g.appendChild(b)}catch(a){c()}})();\n",
      "\t\n",
      "\n",
      "\n",
      "\n",
      "\n",
      " 닫기닫기\n"
     ]
    }
   ],
   "source": [
    "import requests\n",
    "from selenium import webdriver\n",
    "from bs4 import BeautifulSoup\n",
    "import time\n",
    "import re\n",
    "\n",
    "options = webdriver.ChromeOptions()\n",
    "\n",
    "# headless 옵션 설정\n",
    "options.add_argument('headless')\n",
    "options.add_argument(\"no-sandbox\")\n",
    "\n",
    "# 브라우저 윈도우 사이즈\n",
    "options.add_argument('window-size=1920x1080')\n",
    "\n",
    "# 사람처럼 보이게 하는 옵션들\n",
    "options.add_argument(\"disable-gpu\")   # 가속 사용 x\n",
    "options.add_argument(\"lang=ko_KR\")    # 가짜 플러그인 탑재\n",
    "options.add_argument('user-agent=Mozilla/5.0 (Macintosh; Intel Mac OS X 10_12_6) AppleWebKit/537.36 (KHTML, like Gecko) Chrome/61.0.3163.100 Safari/537.36')  # user-agent 이름 설정\n",
    "\n",
    "driver = webdriver.Chrome('./webdriver/chromedriver_win32/chromedriver.exe') \n",
    "\n",
    "# res = requests.get(\"https://www.chosun.com/economy/2021/03/14/G47VELTHWVEF5BB727RO7GMXYM/?utm_source=naver&utm_medium=referral&utm_campaign=naver-news\")\n",
    "# soup = BeautifulSoup(res.text,'html.parser')\n",
    "\n",
    "# print(soup)\n",
    "\n",
    "# for script in soup.find_all('script'):\n",
    "#     script.extract()\n",
    "\n",
    "# str1 = soup.get_text();\n",
    "\n",
    "url = \"https://zdnet.co.kr/view/?no=20210315093140\"\n",
    "driver.implicitly_wait(3)\n",
    "driver.get(url)\n",
    "time.sleep(3)\n",
    "\n",
    "\n",
    "import re\n",
    "\n",
    "html = driver.page_source\n",
    "# soup = BeautifulSoup(res.text, 'lxml')\n",
    "# BeautifulSoup(html)\n",
    "content = []\n",
    "soup = BeautifulSoup(html,'html.parser')\n",
    "\n",
    "# for script in soup.find_all('script'):\n",
    "#     script.extract()\n",
    "# for style in soup.find_all('style'):\n",
    "#     style.extract()\n",
    "str1 = soup.get_text();\n",
    "print(str1)"
   ]
  },
  {
   "cell_type": "code",
   "execution_count": null,
   "metadata": {},
   "outputs": [],
   "source": []
  },
  {
   "cell_type": "code",
   "execution_count": null,
   "metadata": {},
   "outputs": [],
   "source": []
  },
  {
   "cell_type": "code",
   "execution_count": null,
   "metadata": {},
   "outputs": [],
   "source": []
  },
  {
   "cell_type": "code",
   "execution_count": 1,
   "metadata": {},
   "outputs": [],
   "source": [
    "import pandas as pd\n",
    "import numpy as np\n",
    "\n",
    "import platform\n",
    "import matplotlib.pyplot as plt\n",
    "\n",
    "from bs4 import BeautifulSoup \n",
    "from urllib.request import urlopen\n",
    "import urllib\n",
    "import time\n",
    "from urllib.request import Request\n",
    "\n",
    "%matplotlib inline\n",
    "\n",
    "from matplotlib import rc\n",
    "plt.rcParams['axes.unicode_minus']=False\n",
    "rc('font', family='Malgun Gothic')"
   ]
  },
  {
   "cell_type": "code",
   "execution_count": null,
   "metadata": {},
   "outputs": [],
   "source": []
  },
  {
   "cell_type": "code",
   "execution_count": 2,
   "metadata": {},
   "outputs": [],
   "source": [
    "def searching(word,num):\n",
    "    url = 'https://search.naver.com/search.naver?&where=news&query={keyword}&sm=tab_pge&sort=0&photo=0&field=0&reporter_article=&pd=0&ds=&de=&docid=&nso=so:r,p:all,a:all&mynews=0&cluster_rank=55&start={pagenum}&refresh_start=0'.format(keyword=word,pagenum=num)\n",
    "    return url\n",
    "    "
   ]
  },
  {
   "cell_type": "code",
   "execution_count": 3,
   "metadata": {},
   "outputs": [],
   "source": [
    "def cleanText(readData):\n",
    "    #텍스트에 포함되어 있는 특수 문자 제거\n",
    "    text = re.sub('[-=+,#/\\?:^$.*\\\"※~&amp;%ㆍ!』\\\\‘|\\(\\)\\[\\]\\&lt;\\&gt;`\\'…》]','',readData)\n",
    "    text = ' '.join(text.split())\n",
    "    return text"
   ]
  },
  {
   "cell_type": "code",
   "execution_count": 4,
   "metadata": {},
   "outputs": [],
   "source": [
    "def searchText(readData):\n",
    "    #텍스트에 포함되어 있는 특수 문자 제거\n",
    "    text = re.sub('[-=+,#/\\?:^$*\\\"※~&amp;%ㆍ!』\\\\‘|\\(\\)\\[\\]\\&lt;\\&gt;`\\'…》]','',readData)\n",
    "    text = ' '.join(text.split())\n",
    "    i = len(text)\n",
    "    i = text.find(\".\")\n",
    "    text = text[:i]\n",
    "    return text"
   ]
  },
  {
   "cell_type": "code",
   "execution_count": 61,
   "metadata": {},
   "outputs": [],
   "source": [
    "from bs4 import BeautifulSoup\n",
    "import requests\n",
    "import re\n",
    "\n",
    "# url = searching(\"주식\",\"01\")\n",
    "def detail(url,summary):\n",
    "#     url = \"https://www.edaily.co.kr/news/read?newsId=01863046628983976&mediaCodeNo=257\"\n",
    "    headers = {'User-Agent' : 'Mozilla/5.0 (Macintosh; Intel Mac OS X 10_12_6) AppleWebKit/537.36 (KHTML, like Gecko) Chrome/61.0.3163.100 Safari/537.36'}\n",
    "\n",
    "\n",
    "    res = requests.get(url, headers = headers, verify=False)\n",
    "#     res.encoding = 'utf-8'\n",
    "    if res.encoding == 'ISO-8859-1':\n",
    "#         print(res.content)\n",
    "        soup = BeautifulSoup(res.content,'html.parser')\n",
    "        links = soup.find_all(\"meta\")\n",
    "        breaker = False\n",
    "        for a in links:\n",
    "            print(a.attrs)\n",
    "            meta = a.attrs\n",
    "            for k,v in meta.items():\n",
    "                if v == 'text/html; charset=utf-8' or v=='text/html; charset=euc-kr' or v == 'text/html;charset=utf-8' or v=='text/html;charset=euc-kr':\n",
    "                    print('{key}:{value}'.format(key=k,value=v))\n",
    "                    if v == 'text/html; charset=utf-8' or v == 'text/html;charset=utf-8':\n",
    "                        res.encoding = 'utf-8'\n",
    "                    else:\n",
    "                        res.encoding = 'euc-kr'\n",
    "                    breaker = True\n",
    "                    break\n",
    "                if k == 'charset':\n",
    "                    res.encoding = v\n",
    "                    breaker = True\n",
    "                    break\n",
    "            if breaker == True:\n",
    "                break\n",
    "    print(res.encoding)\n",
    "    soup = BeautifulSoup(res.text,'html.parser')\n",
    "#     if res.encoding == 'ISO-8859-1':\n",
    "#         print(\"꺄ㅑㅑㅑㅑㅑㅑㅑㅑㅑㅑㅑㅑㅑㅑㅑㅑ\")\n",
    "#         soup = BeautifulSoup(res.content.decode('euc-kr', 'replace'),'html.parser')\n",
    "\n",
    "    for script in soup.find_all('script'):\n",
    "        script.extract()\n",
    "    for style in soup.find_all('style'):\n",
    "        style.extract()\n",
    "\n",
    "    str1 = cleanText(soup.get_text())\n",
    "    str2 = searchText(summary)\n",
    "    \n",
    "    start = 0\n",
    "    for a in re.finditer(str2,str1):\n",
    "        start = a.start()\n",
    "        print(start,\"start\")\n",
    "    restr = str1[start:]\n",
    "    \n",
    "    # print(start,\"start\")\n",
    "    end=restr.find(\"@\")\n",
    "    restr = restr[:end]\n",
    "    if restr.find(\"뉴스\") != -1:\n",
    "        restr = restr[:restr.find(\"뉴스\")]\n",
    "    if restr.find(\"기자\") != -1:\n",
    "        restr = restr[:restr.find(\"기자\")]\n",
    "    return restr\n",
    "    "
   ]
  },
  {
   "cell_type": "code",
   "execution_count": 62,
   "metadata": {},
   "outputs": [
    {
     "name": "stderr",
     "output_type": "stream",
     "text": [
      "<ipython-input-62-14875e788eda>:11: TqdmDeprecationWarning: This function will be removed in tqdm==5.0.0\n",
      "Please use `tqdm.notebook.tqdm` instead of `tqdm.tqdm_notebook`\n",
      "  for n in tqdm_notebook(range(1,100,10)):\n"
     ]
    },
    {
     "data": {
      "application/vnd.jupyter.widget-view+json": {
       "model_id": "7d574c1b2827491693c949c4bd098b6a",
       "version_major": 2,
       "version_minor": 0
      },
      "text/plain": [
       "HBox(children=(HTML(value=''), FloatProgress(value=0.0, max=10.0), HTML(value='')))"
      ]
     },
     "metadata": {},
     "output_type": "display_data"
    },
    {
     "name": "stderr",
     "output_type": "stream",
     "text": [
      "C:\\Users\\user\\anaconda3\\envs\\py38_64\\lib\\site-packages\\urllib3\\connectionpool.py:981: InsecureRequestWarning: Unverified HTTPS request is being made to host 'search.naver.com'. Adding certificate verification is strongly advised. See: https://urllib3.readthedocs.io/en/latest/advanced-usage.html#ssl-warnings\n",
      "  warnings.warn(\n"
     ]
    },
    {
     "name": "stdout",
     "output_type": "stream",
     "text": [
      "http://www.newsis.com/view/?id=NISX20210319_0001376141&cID=13001&pID=13000 : 쿠팡 주식을 보유한 직원 중 일부는 이제 쿠팡 주식을 팔 수 있다. 쿠팡은 지난 18일(현지 시간)부터 일부 직원의 조기 매각 제한 해제 조건이 충족됐다고 밝혔다. 상장 후 6번째 거래일 만에 주식을 팔 수 있게 된...\n",
      "UTF-8"
     ]
    },
    {
     "name": "stderr",
     "output_type": "stream",
     "text": [
      "C:\\Users\\user\\anaconda3\\envs\\py38_64\\lib\\site-packages\\urllib3\\connectionpool.py:981: InsecureRequestWarning: Unverified HTTPS request is being made to host 'newsis.com'. Adding certificate verification is strongly advised. See: https://urllib3.readthedocs.io/en/latest/advanced-usage.html#ssl-warnings\n",
      "  warnings.warn(\n"
     ]
    },
    {
     "name": "stdout",
     "output_type": "stream",
     "text": [
      "\n",
      "1241 start\n",
      "쿠팡 주식을 보유한 직원 중 일부는 이제 쿠팡 주식을 팔 수 있다 쿠팡은 지난 18일현지 시간부터 일부 직원의 조기 매각 제한 해제 조건이 충족됐다고 밝혔다 상장 후 6번째 거래일 만에 주식을 팔 수 있게 된 것이다 이번에 주식을 팔 수 있는 건 회사 임원이나 상장 전 투자자가 아닌 일반 직원이다 쿠팡 관계자는 기존 직원에게 적용돼야 하는 통상적인 180일 동안의 매각 제한 기간을 6일로 단축했다며 회사 임원은 이번 조기 매각 제한 해제 대상이 아니다라고 했다 통상 기업공개IPO 직후엔 보호예수 때문에 임직원은 주식을 매각할 수 없다 보호예수는 기관 투자자나 직원 등 내부자가 상장 후 일정 기간 주식을 팔 수 없게 한 것이다 쿠팡 임원 및 관계사와 쿠팡 기업공개 주관사 간에 체결된 특정 매각제한 합의서 규정에 따르면 지난해 12월31일 기준으로 쿠팡에 근무하던 직원 중 현재 쿠팡에 재직 중인 직원이 2021년 2월26일까지 보유하고 있던 발행주식은 매각제한이 해제되고 거래도 할 수 있다 한편 18일현지 시간 쿠팡 주가는 4389달러약 4만9507원에 마감했다 전날보다 139 오른 수치다 쿠팡 주가는 상장 이후 줄곧 떨어졌다 상장 첫 날 공모가 35달러의 두 배인 69달러까지 오르기도 했으나 이후 주가가 계속 떨어져 17일엔 4329달러로 마감했다 창업자인 김범석 이사회 의장의 지분 가치는 약 8조6500억원이 됐다 김 의장은 쿠팡 주식 1억7480만2990주를 갖고 있다 보유 주식 가치로만 보면 이재용 삼성전자 부회장에 이은 국내 2위다 김 의장은 일반 주식인 클래스A 대비 29배 의결권을 가진 클래스B 주식을 전량 보유하고 있다 해당 주식 가치는 쿠팡 전체 지분의 약 10다 ◎공감언론 뉴시스 jb return 받은값\n",
      "UTF-8\n"
     ]
    },
    {
     "name": "stderr",
     "output_type": "stream",
     "text": [
      "C:\\Users\\user\\anaconda3\\envs\\py38_64\\lib\\site-packages\\urllib3\\connectionpool.py:981: InsecureRequestWarning: Unverified HTTPS request is being made to host 'newsis.com'. Adding certificate verification is strongly advised. See: https://urllib3.readthedocs.io/en/latest/advanced-usage.html#ssl-warnings\n",
      "  warnings.warn(\n"
     ]
    },
    {
     "name": "stdout",
     "output_type": "stream",
     "text": [
      "1241 start\n",
      "http://www.womennews.co.kr/news/articleView.html?idxno=209236 : 국내 주식 비중을 확대하는 방향으로 자산배분 목표비중 수정안을 논의할 계획이 없다고 밝혔다. 복지부와 국민연금은 \"국민연금 기금운용 최고의사결정기구인 기금운용위원회(기금위)에서 국내주식 비중 확대 관련...\n",
      "UTF-8\n",
      "1070 start\n",
      "국내 주식 비중을 확대하는 방향으로 자산배분 목표비중 수정안을 논의할 계획이 없다고 밝혔다 복지부와 국민연금은 국민연금 기금운용 최고의사결정기구인 기금운용위원회기금위에서 국내주식 비중 확대 관련 자산배분 목표비중에 대해 논의할 계획이 없다면서 국내주식의 허용오차 범위 ±10포인트 검토는 전혀 사실이 아니다라고 전했다 앞서 한 언론은 오는 26일 열리는 국민연금 기금위에서 국내주식 비중을 20까지 확대하는 자산배분 목표범위 수정안을 논의해 의결하고 국내주식의 허용오차 범위를 현재 ±5포인트에서 ±10포인트로 늘리는 방안을 검토하고 있다고 보도했다 T 보건복지부 국민연금 기금운용위원회 저작권자 © 여성신문 무단전재 및 재배포 금지 전성운  return 받은값\n",
      "UTF-8\n",
      "1070 start\n",
      "https://www.news1.kr/articles/?4246309 : '주식 고수' 이정윤이 주식을 시작한 뒤 3년 만에 100억을 달성한 과정을 공개했다. 지난 18일 방송된 MBC '개미의 꿈'에서는 주식 시작 이래 3년 만에 100억원 신화를 이룬 '주식 고수' 졸업생 이정윤이 등장해 눈길을 끌었다....\n"
     ]
    },
    {
     "name": "stderr",
     "output_type": "stream",
     "text": [
      "C:\\Users\\user\\anaconda3\\envs\\py38_64\\lib\\site-packages\\urllib3\\connectionpool.py:981: InsecureRequestWarning: Unverified HTTPS request is being made to host 'www.news1.kr'. Adding certificate verification is strongly advised. See: https://urllib3.readthedocs.io/en/latest/advanced-usage.html#ssl-warnings\n",
      "  warnings.warn(\n"
     ]
    },
    {
     "name": "stdout",
     "output_type": "stream",
     "text": [
      "{'name': 'referrer', 'content': 'unsafe-url'}\n",
      "{'http-equiv': 'Content-Type', 'content': 'text/html; charset=utf-8'}\n",
      "content:text/html; charset=utf-8\n",
      "utf-8\n",
      "1090 start\n",
      "주식 고수 이정윤이 주식을 시작한 뒤 3년 만에 100억을 달성한 과정을 공개했다 지난 18일 방송된 MBC 개미의 꿈에서는 주식 시작 이래 3년 만에 100억원 신화를 이룬 주식 고수 졸업생 이정윤이 등장해 눈길을 끌었다이정윤은 23년 차 주식 투자자로 전직 세무사에서 재야의 주식 고수가 된 인물이다 그는 등장부터 본격적으로 주식 시작한 지 3년 만에 100억원을 달성했다는 사실이 밝혀져 주터디원들을 경악하게 했다 그는 처음엔 10만원으로 계좌를 만들었다며 매달 월급을 넣었다고 투자금에 대해 설명했다 이에 장동민은 월급이 몇천만 원 아니냐며 너스레를 떨자 이정윤은 IMF 외환위기 직후 주식을 시작해 운이 좋았다고 해명하기도 했다이어 이정윤은 주식 투자 성공법을 공개하며 수요와 공급의 법칙에 주목했다 수요가 많은 종목의 이유를 파악한다면 좋은 종목을 고를 수 있다고 생각한 것 주식 종목 선정 기준도 재무제표 분석 정보 분석 차트 분석 등 세 가지로 나눠 설명했다또한 주터디원들은 물론 전문가들의 궁금증마저 자아낸 이정윤의 포트폴리오가 방송 최초로 공개됐다 그러나 종목에 대한 기대감으로 가득 찼던 주터디원들은 이내 분야별로 공개된 포트폴리오를 보자 실망감을 감추지 못했다 이에 이정윤은 대다수 주린이들이 하는 행동이라고 일침을 가하면서도 중요한 것은 종목을 짚어주는 게 아니라 공부하는 방법이라고 말하며 포트폴리오 구축 방법을 소개했다또 이정윤은 투자금이 적다면 3종목 투자금이 많다면 810종목 15종목까지 사야 한다고 추천 적정 종목 개수가 중요하다고 강조했다 또한 서로 다른 업종으로 포트폴리오를 분산하는 게 중요하다고 했다 종목을 먼저 고르기보다 업종을 먼저 고르는 법도 추천했다 한편 개미의 꿈은 초저금리 시대를 맞아 주식 투자에 직접 뛰어든 일명 개미들의 꿈을 이루고자 모인 연예계 주린이들과 김동환 대표 박병창 부장 등 전문가들이 함께하는 주식 토크쇼 프로그램이다 2회 방송을 마지막으로 파일럿 방송이 종료됐으며 추후 정규 방송 일정은 미정이다 uechn return 받은값\n"
     ]
    },
    {
     "name": "stderr",
     "output_type": "stream",
     "text": [
      "C:\\Users\\user\\anaconda3\\envs\\py38_64\\lib\\site-packages\\urllib3\\connectionpool.py:981: InsecureRequestWarning: Unverified HTTPS request is being made to host 'www.news1.kr'. Adding certificate verification is strongly advised. See: https://urllib3.readthedocs.io/en/latest/advanced-usage.html#ssl-warnings\n",
      "  warnings.warn(\n"
     ]
    },
    {
     "name": "stdout",
     "output_type": "stream",
     "text": [
      "{'name': 'referrer', 'content': 'unsafe-url'}\n",
      "{'http-equiv': 'Content-Type', 'content': 'text/html; charset=utf-8'}\n",
      "content:text/html; charset=utf-8\n",
      "utf-8\n",
      "1090 start\n",
      "https://biz.chosun.com/site/data/html_dir/2021/03/19/2021031900493.html?utm_source=naver&utm_medium=original&utm_campaign=biz : 그러나 이것만으로는 부족하다고 느낀 개미(개인 투자자)들이 있었으니, 바로 비상장 주식을 노리는 이들이다. 비상장 주식이란 말 그대로 유가증권시장이나 코스닥시장에 상장되지 않은 주식으로, ‘장외주식’...\n"
     ]
    },
    {
     "name": "stderr",
     "output_type": "stream",
     "text": [
      "C:\\Users\\user\\anaconda3\\envs\\py38_64\\lib\\site-packages\\urllib3\\connectionpool.py:981: InsecureRequestWarning: Unverified HTTPS request is being made to host 'biz.chosun.com'. Adding certificate verification is strongly advised. See: https://urllib3.readthedocs.io/en/latest/advanced-usage.html#ssl-warnings\n",
      "  warnings.warn(\n",
      "C:\\Users\\user\\anaconda3\\envs\\py38_64\\lib\\site-packages\\urllib3\\connectionpool.py:981: InsecureRequestWarning: Unverified HTTPS request is being made to host 'biz.chosun.com'. Adding certificate verification is strongly advised. See: https://urllib3.readthedocs.io/en/latest/advanced-usage.html#ssl-warnings\n",
      "  warnings.warn(\n",
      "C:\\Users\\user\\anaconda3\\envs\\py38_64\\lib\\site-packages\\urllib3\\connectionpool.py:981: InsecureRequestWarning: Unverified HTTPS request is being made to host 'www.hankyung.com'. Adding certificate verification is strongly advised. See: https://urllib3.readthedocs.io/en/latest/advanced-usage.html#ssl-warnings\n",
      "  warnings.warn(\n"
     ]
    },
    {
     "name": "stdout",
     "output_type": "stream",
     "text": [
      "{'charset': 'UTF-8'}\n",
      "UTF-8\n",
      "353 start\n",
      "그러나 이것만으로는 부족하다고 느낀 개미개인 투자자들이 있었으니 바로 비상장 주식을 노리는 이들이다비상장 주식이란 말 그대로 유가증권시장이나 코스닥시장에 상장되지 않은 주식으로 장외주식’이라고도 한다 금융투자협회가 운영하는 KOTC’를 비롯해 비상장 주식 거래 사이트 38커뮤니케이션’ 비상장 주식 플랫폼 증권플러스 비상장’ 서울거래소 비상장’ 등에서 매매된다 장외주식 거래 터줏대감인 38커뮤니케이션은 중고나라 카페처럼 게시판에 매매글을 올려 사고팔 수 있다 증권플러스 비상장이나 서울거래소 비상장은 연결된 증권사 계좌를 통한 안전거래’를 내세워 장외주식 매매를 중개해준다 일러스트이철원 요즘 장외시장은 제2의 쿠팡’ 제2의 SK바사’를 꿈꾸는 이들로 붐빈다 지난해부터 이어진 IPO 열기로 따상’이 예상되는 기업의 주식 물량을 상장 전에 미리 확보하기 위함이다 이런 니즈와 함께 비바리퍼블리카토스·컬리마켓컬리·야놀자를 비롯한 대형 스타트업 카카오뱅크·크래프톤배틀그라운드과 같은 핀테크·게임 기업의 상장이 예고되면서 더욱 흥하고 있다 이 중 야놀자와 컬리의 거래가격은 최고가 수준이다 다만 흥행 예상 장외주식만 사면 만사 오케이’라는 태도는 지양해야 한다 장외시장의 거래가격이 100 상장 이후 주가로 이어지는 것은 아니기 때문이다 지난해 IPO 마지막 대어였던 빅히트는 상장 직전까지 주당 30만원대에 거래됐지만 상장 이후 20만원대에 머물고 있다 한 증권사 관계자는 비상장 주식은 상장 주식보다 정보의 비대칭성과 유동성 부문에서 개인 투자자에게 불리할 수밖에 없다고 말했다 현재 증권플러스 비상장이나 서울거래소 비상장은 전자공시시스템 기업 홈페이지 공고 언론보도 중 신뢰도가 높은 정보를 재가공해 제공하고 있다 그러나 애초에 비상장 주식은 기업 공시 의무 대상이 아닐뿐더러 외부에 공개된 신뢰도 있는 자료도 적기 때문에 깜깜이 투자’가 될 가능성이 높다 당연히 기업 밸류에이션평가 가치이나 재무상태를 정확히 파악하기도 어렵다 몇 증권사가 비상장 기업의 분석 보고서리포트를 발간하고 있지만 이마저도 소수에 그치고 있다 또 시중에 유통되는 물량 자체가 적기 때문에 거래가 상장 주식보다 이뤄지기 어려울 수 있다 이 관계자는 물량이 없어서 한 달 내내 못 사고 못 파는 경우도 허다하다고 말했다 각 장외시장 업체들이 유동성 확보를 내세우는 이유도 이 때문이다 시장에서는 지금 증시에 투자여력이 남아돌아 장외주식까지 떠오르고 있다고 보고 있다 즉 시장에 자금이 줄어들면 장외시장에 유입되는 이용자와 자금도 줄어들어 유동성이 더 적어질 수 있다는 얘기다 비상장 주식 거래에서 바보가 되지 않으려면 비슷한 업종 내 상장기업 시가총액을 꼭 따져봐야 한다 카카오뱅크 주식을 사려면 유가증권시장에 상장된 시중은행과 시총을 비교하라는 것이다투자자들 사이에서는 장외시장에서 카카오뱅크 시총이 이미 국내 금융지주사들의 시총 합을 뛰어넘어 적정가의 59배에 이른다는 분석이 나오고 있다 아울러 서울거래소 관계자는 공신력 있는 벤처캐피탈VC의 투자 여부를 확인하고 기업 발표를 100 믿기 보다는 전문가에게 확인해야 한다고도 조언했다무엇보다 모든 비상장 주식이 나중에 효자’가 될 것이라는 맹목적인 믿음은 금물이다 생소한 비상장 주식은 사기의 온상일 수도 있다 한 금융투자업계 관계자는 이전부터 대부분의 주식 사기의 90는 비상장 주식을 미끼로 삼았다고 말했다 흔히 A라는 불법 자문업체가 B라는 비상장주식을 미리 매수한 후에 A의 회원들에게 우선 매수 기회’를 주겠다며 꼬셔 이른바 높은 가격에 먹튀차익실현 후 잠적’하는 식이다 또 허가받지 않은 업체가 보유한 비상장 주식을 추천하고 이 주식을 사려는 회원에게 매매를 중개하면서 거래세 등 명목으로 높은 수수료를 받는 일도 있다 좋아요 0 Coyrih ⓒ 조선비즈 Chosunco 제휴안내구독신청 주요 return 받은값\n",
      "{'charset': 'UTF-8'}\n",
      "UTF-8\n",
      "353 start\n",
      "https://www.hankyung.com/economy/article/202103180195g : 전자상거래(e커머스) 기업 쿠팡이 성공적인 뉴욕증권거래소(NYSE) 데뷔전을 치른지 일주일 만인 18일(현지시간) 이 회사 주식이 대거 시장에 풀릴 전망이다. 전체 상장 주식의 2%에 달하는 직원 보유 주식에 대한...\n",
      "UTF-8\n",
      "1310 start\n",
      "전자상거래e커머스 기업 쿠팡이 성공적인 뉴욕증권거래소NYSE 데뷔전을 치른지 일주일 만인 18일현지시간 이 회사 주식이 대거 시장에 풀릴 전망이다 전체 상장 주식의 2에 달하는 직원 보유 주식에 대한 보호예수가 풀리기 때문이다쿠팡은 이날 뉴욕증권거래소NYSE 개장부터 자사 직원이 보유한 클래스 A 보통주 약 3400만주에 대한 매각 제한이 해제된다고 밝혔다 매각 제한 해제 물량은 전체 주식 수17억1514만 주의 2에 해당한다쿠팡은 직원그룹이 보유한 약 3400만주에 대한 일부 조기 매각 제한 해제 조건이 충족됨에 따라 해당 주식이 공개시장에서 거래 가능하게 될 것이라며 회사의 임원 및 기업공개IPO 전 투자자보다 일반 직원들을 우선시하기로 선택한 것이라고 설명했다 쿠팡은 이에 대해 임원 및 관계사들과 맞은 특정 매각제한 합의서 규정에 따른 조치라며 매각제한 합의서의 적용을 받는 잔여주식 전부는 계속해 매각제한기간의 적용을 받는다고 덧붙였다 전자상거래e커머스 기업 쿠팡이 성공적인 뉴욕증권거래소NYSE 데뷔전을 치른지 일주일 만인 18일현지시간 주식이 대량으로 풀릴 전망이다 전체의 2에 달하는 직원 보유 주식에 대한 보호예수가 풀리기 때문이다 쿠팡은 이날 뉴욕증권거래소NYSE 개장부터 자사 직원이 보유한 클래스 A 보통주 약 3400만주에 대한 매각 제한이 해제된다고 밝혔다 사진쿠팡 제공 이번에 풀리는 물량은 전체 임직원에게 부여된 스톡옵션지난해 말 기준 6570만 주 중 일부다 보호예수는 상장 직후 일정 기간 기존 주주의 거래를 제한하는 제도로 통상 기업공개IPO 후 6개월 간 유지된다다만 이날 매각 제한이 풀리는 3400만주의 경우 주가가 공모가35달러보다 높을 경우 대주주가 아닌 직원은 상장 후 6일째 되는 날부터 보유 주식을 매도할 수 있는 예외를 인정 받을 수 있다는 조항의 적용을 받는다 쿠팡의 대주주도 주가가 공모가보다 33 이상 높다면 상장 12일 후부터 지분 일부를 처분할 수 있다물량 출회에 대한 우려로 최근 쿠팡 주가는 하락한 상태다 쿠팡 주가는 지난 11일 상장 첫날 공모가35달러 대비 84 급등한 6350달러로 거래를 시작했다 한때 69달러까지 치솟았으나 이후 50달러 아래로 떨어져 4329달러17일 종가로 내려앉았다 전자상거래e커머스 기업 쿠팡이 성공적인 뉴욕증권거래소NYSE 데뷔전을 치른지 일주일 만인 18일현지시간 주식이 대량으로 풀릴 전망이다 전체의 2에 달하는 직원 보유 주식에 대한 보호예수가 풀리기 때문이다 쿠팡은 이날 뉴욕증권거래소NYSE 개장부터 자사 직원이 보유한 클래스 A 보통주 약 3400만주에 대한 매각 제한이 해제된다고 밝혔다 사진AP 앞서 쿠팡의 창업자 김범석 쿠팡 이사회 의장은 자사주 120만주를 매도했다 미국 증권거래위원회 공시에 따르면 김 의장은 지난 15일 120만주를 매도했다 매도 평균 가액은 주당 35달러로 총 매각 규모는 4200만달러약 475억원 상당이다상장 당시 김 의장은 클래스 A 보통주 대비 의결권이 29배 많은 클래스 B를 보유해 지분율이 102인 상황이었다 김 의장은 이번 매도를 위해 클래스 B 주식 120만주를 유통이 가능한 클래스 A 보통주로 전환했다 의결권은 기존 767에서 762 수준으로 낮아졌다오정민 한경닷컴  return 받은값\n",
      "UTF-8\n",
      "1310 start\n",
      "http://yna.kr/AKR20210317149200002?did=1195m : 경기도 수원시에 사는 40대 남성의 투자자 수가 서울 강남구를 제치고 주식 투자자 수가 가장 많은... 이들이 보유한 전체 주식 수(2억608만주)는 강남(8억2천513만주)의 4분의 1에 미치지 못했지만, 투자자 수는 더...\n"
     ]
    },
    {
     "name": "stderr",
     "output_type": "stream",
     "text": [
      "C:\\Users\\user\\anaconda3\\envs\\py38_64\\lib\\site-packages\\urllib3\\connectionpool.py:981: InsecureRequestWarning: Unverified HTTPS request is being made to host 'www.hankyung.com'. Adding certificate verification is strongly advised. See: https://urllib3.readthedocs.io/en/latest/advanced-usage.html#ssl-warnings\n",
      "  warnings.warn(\n",
      "C:\\Users\\user\\anaconda3\\envs\\py38_64\\lib\\site-packages\\urllib3\\connectionpool.py:981: InsecureRequestWarning: Unverified HTTPS request is being made to host 'www.yna.co.kr'. Adding certificate verification is strongly advised. See: https://urllib3.readthedocs.io/en/latest/advanced-usage.html#ssl-warnings\n",
      "  warnings.warn(\n"
     ]
    },
    {
     "name": "stdout",
     "output_type": "stream",
     "text": [
      "UTF-8\n",
      "1202 start\n",
      "경기도 수원시에 사는 40대 남성의 투자자 수가 서울 강남구를 제치고 주식 투자자 수가 가장 많은 전국 지역 단위에 올랐다 18일 한국예탁결제원에 따르면 지난해 말 기준 개인투자자 중 수원에 거주하는 40대 남성 투자자수는 3만4천463명으로 전국 구·시·군 및 성별·연령대별 투자자 수가 가장 많았다 강남구 40대 남성3만4천187명을 넘어섰다 주식투자 금융거래 연합 return 받은값\n"
     ]
    },
    {
     "name": "stderr",
     "output_type": "stream",
     "text": [
      "C:\\Users\\user\\anaconda3\\envs\\py38_64\\lib\\site-packages\\urllib3\\connectionpool.py:981: InsecureRequestWarning: Unverified HTTPS request is being made to host 'www.yna.co.kr'. Adding certificate verification is strongly advised. See: https://urllib3.readthedocs.io/en/latest/advanced-usage.html#ssl-warnings\n",
      "  warnings.warn(\n"
     ]
    },
    {
     "name": "stdout",
     "output_type": "stream",
     "text": [
      "UTF-8\n",
      "1202 start\n",
      "http://www.fnnews.com/news/202103191240586673 : SK바이오사이언스가 코스피 상장 첫날 '따상(공모가 2배의 시초가 형성 뒤 상한가)'을 기록하자 비상장 주식에 대한 관심이 커지고 있다. 19일 비상장 주식 거래 플랫폼 증권플러스 비상장에 따르면 최근 증권플러스...\n"
     ]
    },
    {
     "name": "stderr",
     "output_type": "stream",
     "text": [
      "C:\\Users\\user\\anaconda3\\envs\\py38_64\\lib\\site-packages\\urllib3\\connectionpool.py:981: InsecureRequestWarning: Unverified HTTPS request is being made to host 'www.fnnews.com'. Adding certificate verification is strongly advised. See: https://urllib3.readthedocs.io/en/latest/advanced-usage.html#ssl-warnings\n",
      "  warnings.warn(\n",
      "C:\\Users\\user\\anaconda3\\envs\\py38_64\\lib\\site-packages\\urllib3\\connectionpool.py:981: InsecureRequestWarning: Unverified HTTPS request is being made to host 'www.fnnews.com'. Adding certificate verification is strongly advised. See: https://urllib3.readthedocs.io/en/latest/advanced-usage.html#ssl-warnings\n",
      "  warnings.warn(\n"
     ]
    },
    {
     "name": "stdout",
     "output_type": "stream",
     "text": [
      "UTF-8\n",
      "891 start\n",
      "SK바이오사이언스가 코스피 상장 첫날 따상공모가 2배의 시초가 형성 뒤 상한가을 기록하자 비상장 주식에 대한 관심이 커지고 있다 19일 비상장 주식 거래 플랫폼 증권플러스 비상장에 따르면 최근 증권플러스 비상장의 월간 활성 이용자수MAU는 25만명을 넘긴 것으로 나타났다 SK바이오사이언스가 상장 첫날 대박을 치면서 예비 상장주로 투자자들의 시선이 몰리고 있는 것으로 풀이된다 앞서 SK바이오사이언스는 상장 전날인 지난 17일 주당 19만2000원으로 거래됐다 직전 6개월 대비 약 74 상승했고 공모가인 6만5000원의 3배에 달하는 가격이지만 상장 후 가치가 그 이상일 것이라는 시장의 기대감이 반영됐기 때문이다 지난해 카카오게임즈가 상장 전 6개월 간 장외시장에서 4배 이상 가격이 상승했음에도 상장 직후 가격이 이를 훌쩍 뛰어넘었던 경험도 영향을 미쳤다는 분석이다 SK바이오사이언스의 상장 대박 소식에 야놀자와 크래프톤 카카오뱅크가 다음 따상’ 주자로 주목된다 야놀자는 증권플러스 비상장에서 지난해 11월 30만원으로 첫 거래된 후 무상증자 직전인 올해 2월 24일 110만원으로 무려 267 치솟았다 최근 1대 20 무상증자 후 야놀자 주가는 7만원대를 유지하고 있다 크래프톤의 주가는 219만원선으로 6개월 전 대비 32 올랐다 특히 SK바이오사이언스의 공모주 청약이 마무리된 다음날3월 11일부터 일주일 사이에만 215 수직 상승했다 크래프톤의 IPO 본격화 소식과 SK바이오사이언스로 몰렸던 증거금의 일부가 몰린 결과로 풀이된다 하반기 상장을 예고한 카카오뱅크는 19일 기준 주당 7만4000원에 거래되고 있으며 3개 종목 모두 증권플러스 비상장 인기 조회 종목 톱5에 이름을 올렸다 증권플러스 비상장 관계자는 “상장 대박 사례가 이어지면서 주요한 상장 소식이 있을 때마다 비상장 주식에 대한 투자자의 관심이 높아지고 있다”며 “5000개 이상의 종목을 24시간 거래 협의할 수 있고 기업 정보와 공모 일정 등을 집약해 제공하는 증권플러스 비상장을 활용하면 편리하고 안전한 비상장 주식 거래가 가능할 것”이라고 밝혔다 지난 2019년 11월 출시된 증권플러스 비상장은 비상장 주식의 종목과 거래 정보를 모바일에서 편리하게 탐색하고 안전하게 거래할 수 있도록 지원하는 서비스로 누적 가입자 수만 40만명 이상이다 서비스 확장성과 이용자 편의 향상을 위한 노력을 지속한 끝에 지난해 4월 1일 금융위원회로부터 혁신금융서비스로 지정된 바 있다 블록체인 기반 증권 및 펀드 관리 서비스 온보드’가 지난해 12월 21일 개시된 데 따라 올해 상반기 중 증권플러스 비상장 내 거래 가능 종목의 범위가 비상장 종목의 대부분을 차지하는 통일주권 미발행 기업까지 확대된다 fnjs return 받은값\n",
      "UTF-8\n",
      "891 start\n",
      "https://www.chosun.com/national/incident/2021/03/18/NNASX6RBSFDGXLOQ6EHTJ55ONU/?utm_source=naver&utm_medium=referral&utm_campaign=naver-news : 50대 어머니는 주식 투자 실패로 상당액의 채무가 있었고, 30대 아들은 사업 실패로 생활고에 시달렸던... 경찰 관계자는 “어머니의 주식 투자 실패와 아들의 사업 실패 등이 겹치면서 생활고에 시달린 것으로...\n"
     ]
    },
    {
     "name": "stderr",
     "output_type": "stream",
     "text": [
      "C:\\Users\\user\\anaconda3\\envs\\py38_64\\lib\\site-packages\\urllib3\\connectionpool.py:981: InsecureRequestWarning: Unverified HTTPS request is being made to host 'www.chosun.com'. Adding certificate verification is strongly advised. See: https://urllib3.readthedocs.io/en/latest/advanced-usage.html#ssl-warnings\n",
      "  warnings.warn(\n"
     ]
    },
    {
     "name": "stdout",
     "output_type": "stream",
     "text": [
      "utf-8\n",
      "주식 날린 엄마 사업실패 아들해수욕장서 서글픈 마침표 조선일 return 받은값\n",
      "utf-8\n",
      "http://www.edaily.co.kr/news/newspath.asp?newsid=01902406628984632 : 해외주식 투자 세미나를 진행하고 있다고 18일 밝혔다. 세미나는 이달 말까지 3차례에 걸쳐 온라인 컨퍼런스로 진행된다. 제퍼리스 금융그룹 애널리스트가 해외주식 종목 및 산업분석, 투자 아이디어 및 전략을...\n"
     ]
    },
    {
     "name": "stderr",
     "output_type": "stream",
     "text": [
      "C:\\Users\\user\\anaconda3\\envs\\py38_64\\lib\\site-packages\\urllib3\\connectionpool.py:981: InsecureRequestWarning: Unverified HTTPS request is being made to host 'www.chosun.com'. Adding certificate verification is strongly advised. See: https://urllib3.readthedocs.io/en/latest/advanced-usage.html#ssl-warnings\n",
      "  warnings.warn(\n",
      "C:\\Users\\user\\anaconda3\\envs\\py38_64\\lib\\site-packages\\urllib3\\connectionpool.py:981: InsecureRequestWarning: Unverified HTTPS request is being made to host 'www.edaily.co.kr'. Adding certificate verification is strongly advised. See: https://urllib3.readthedocs.io/en/latest/advanced-usage.html#ssl-warnings\n",
      "  warnings.warn(\n",
      "C:\\Users\\user\\anaconda3\\envs\\py38_64\\lib\\site-packages\\urllib3\\connectionpool.py:981: InsecureRequestWarning: Unverified HTTPS request is being made to host 'www.edaily.co.kr'. Adding certificate verification is strongly advised. See: https://urllib3.readthedocs.io/en/latest/advanced-usage.html#ssl-warnings\n",
      "  warnings.warn(\n"
     ]
    },
    {
     "name": "stdout",
     "output_type": "stream",
     "text": [
      "utf-8\n",
      "906 start\n",
      "해외주식 투자 세미나를 진행하고 있다고 18일 밝혔다 세미나는 이달 말까지 3차례에 걸쳐 온라인 컨퍼런스로 진행된다 제퍼리스 금융그룹 애널리스트가 해외주식 종목 및 산업분석 투자 아이디어 및 전략을 소개한다 특히 해외 기업이 직접 참가해 기업의 장기 성장전략도 공유할 예정이다 앞서 지난 8일에는 제퍼리스 금융그룹의 인터넷 미디어 담당 애널리스트가 중국 인터넷 산업 주요 이슈와 주식 종목을 전했고 15일에는 제퍼리스 금융그룹의 수석 글로벌주식 전략가가 글로벌 경기 상황과 시사점을 소개했다 2930일에는 중국 인터넷 기업 30곳이 참가하는 Chin Inerne Corore Dy’가 진행될 예정이다 제퍼리스 금융그룹은 미국 뉴욕에 본사를 둔 투자은행IB으로 1962년 설립된 글로벌 IB 매출 8위2020년 기준 업체다 KB증권은 지난 12월부터 제퍼리스 금융그룹과 본격 협업을 시작 제퍼리스 금융그룹의 글로벌 기관투자자들을 대상으로 한 국내주식 중개 및 리서치 서비스를 제공하고 있다서영호 KB증권 기관영업부문장은 “이번 서비스를 시작으로 양사간 협업 강화 및 다양한 콘텐츠 개발을 통해 국내 기관투자자 대상 해외주식 투자 서비스를 지속적으로 강화해 나갈 예정”이라며 “중장기적으로는 제퍼리스 금융그룹과의 협업 영역을 국내 기업의 해외 주식시장 상장 등 IB 비즈니스까지 확대할 계획”이라고 말했다세미나 접속 및 상세 문의사항은 KB증권 기관영업추진부를 통해 확인하면 된다 주요 return 받은값\n"
     ]
    },
    {
     "name": "stderr",
     "output_type": "stream",
     "text": [
      "C:\\Users\\user\\anaconda3\\envs\\py38_64\\lib\\site-packages\\urllib3\\connectionpool.py:981: InsecureRequestWarning: Unverified HTTPS request is being made to host 'www.edaily.co.kr'. Adding certificate verification is strongly advised. See: https://urllib3.readthedocs.io/en/latest/advanced-usage.html#ssl-warnings\n",
      "  warnings.warn(\n",
      "C:\\Users\\user\\anaconda3\\envs\\py38_64\\lib\\site-packages\\urllib3\\connectionpool.py:981: InsecureRequestWarning: Unverified HTTPS request is being made to host 'www.edaily.co.kr'. Adding certificate verification is strongly advised. See: https://urllib3.readthedocs.io/en/latest/advanced-usage.html#ssl-warnings\n",
      "  warnings.warn(\n"
     ]
    },
    {
     "name": "stdout",
     "output_type": "stream",
     "text": [
      "utf-8\n",
      "906 start\n",
      "http://news.mt.co.kr/mtview.php?no=2021031816550065633 : [작년말 기준 21.2%(176.7조), 주식비중 20% 확대후 상한 허용오차(3%) 추가시 195조 이상까지 보유 가능] 국민연금이 결국 국내 주식 비중 목표를 손질한다. 국민연금의 ‘기계적 매도’가 ‘코스피 3000’ 시대의 발목을...\n"
     ]
    },
    {
     "name": "stderr",
     "output_type": "stream",
     "text": [
      "C:\\Users\\user\\anaconda3\\envs\\py38_64\\lib\\site-packages\\urllib3\\connectionpool.py:981: InsecureRequestWarning: Unverified HTTPS request is being made to host 'news.mt.co.kr'. Adding certificate verification is strongly advised. See: https://urllib3.readthedocs.io/en/latest/advanced-usage.html#ssl-warnings\n",
      "  warnings.warn(\n"
     ]
    },
    {
     "name": "stdout",
     "output_type": "stream",
     "text": [
      "EUC-KR\n",
      "1809 start\n",
      "작년말 기준 2121767조 주식비중 20 확대후 상한 허용오차3 추가시 195조 이상까지 보유 가능 서울 return 받은값\n"
     ]
    },
    {
     "name": "stderr",
     "output_type": "stream",
     "text": [
      "C:\\Users\\user\\anaconda3\\envs\\py38_64\\lib\\site-packages\\urllib3\\connectionpool.py:981: InsecureRequestWarning: Unverified HTTPS request is being made to host 'news.mt.co.kr'. Adding certificate verification is strongly advised. See: https://urllib3.readthedocs.io/en/latest/advanced-usage.html#ssl-warnings\n",
      "  warnings.warn(\n"
     ]
    },
    {
     "name": "stdout",
     "output_type": "stream",
     "text": [
      "EUC-KR\n",
      "1809 start\n"
     ]
    },
    {
     "name": "stderr",
     "output_type": "stream",
     "text": [
      "C:\\Users\\user\\anaconda3\\envs\\py38_64\\lib\\site-packages\\urllib3\\connectionpool.py:981: InsecureRequestWarning: Unverified HTTPS request is being made to host 'search.naver.com'. Adding certificate verification is strongly advised. See: https://urllib3.readthedocs.io/en/latest/advanced-usage.html#ssl-warnings\n",
      "  warnings.warn(\n"
     ]
    },
    {
     "name": "stdout",
     "output_type": "stream",
     "text": [
      "http://www.newsis.com/view/?id=NISX20210319_0001376770&cID=10701&pID=10700 : ◇ 부의 레벨을 바꾸는 미국주식 중국주식 저자는 국내 다수 대학, 미래에셋, KB금융, 신한금융, 클래스101에서 투자 강연을 하고 있다. 이 책은 해외주식을 처음 접하는 사람들도 자신감을 가질 수 있도록 쉽고 자세하게...\n"
     ]
    },
    {
     "name": "stderr",
     "output_type": "stream",
     "text": [
      "C:\\Users\\user\\anaconda3\\envs\\py38_64\\lib\\site-packages\\urllib3\\connectionpool.py:981: InsecureRequestWarning: Unverified HTTPS request is being made to host 'newsis.com'. Adding certificate verification is strongly advised. See: https://urllib3.readthedocs.io/en/latest/advanced-usage.html#ssl-warnings\n",
      "  warnings.warn(\n"
     ]
    },
    {
     "name": "stdout",
     "output_type": "stream",
     "text": [
      "UTF-8\n",
      "1091 start\n",
      "◇ 부의 레벨을 바꾸는 미국주식 중국주식 저자는 국내 다수 대학 미래에셋 KB금융 신한금융 클래스101에서 투자 강연을 하고 있다 이 책은 해외주식을 처음 접하는 사람들도 자신감을 가질 수 있도록 쉽고 자세하게 알려준다 바이오 스마트 전기차 영상 스트리밍 헬스케어 데이터플랫폼 전자상거래 등 미래 섹터별로 유망 주식을 소개한다 정주용 지음 348쪽 매일경제신문사 1만8000원 서울뉴시스 모르면 호구 되는 주식상식 사진한스미디어 제공 20210318 hoo return 받은값\n"
     ]
    },
    {
     "name": "stderr",
     "output_type": "stream",
     "text": [
      "C:\\Users\\user\\anaconda3\\envs\\py38_64\\lib\\site-packages\\urllib3\\connectionpool.py:981: InsecureRequestWarning: Unverified HTTPS request is being made to host 'newsis.com'. Adding certificate verification is strongly advised. See: https://urllib3.readthedocs.io/en/latest/advanced-usage.html#ssl-warnings\n",
      "  warnings.warn(\n"
     ]
    },
    {
     "name": "stdout",
     "output_type": "stream",
     "text": [
      "UTF-8\n",
      "1091 start\n",
      "https://www.chosun.com/national/incident/2021/03/18/NNASX6RBSFDGXLOQ6EHTJ55ONU/?utm_source=naver&utm_medium=referral&utm_campaign=naver-news : 50대 어머니는 주식 투자 실패로 상당액의 채무가 있었고, 30대 아들은 사업 실패로 생활고에 시달렸던... 경찰 관계자는 “어머니의 주식 투자 실패와 아들의 사업 실패 등이 겹치면서 생활고에 시달린 것으로...\n",
      "utf-8\n"
     ]
    },
    {
     "name": "stderr",
     "output_type": "stream",
     "text": [
      "C:\\Users\\user\\anaconda3\\envs\\py38_64\\lib\\site-packages\\urllib3\\connectionpool.py:981: InsecureRequestWarning: Unverified HTTPS request is being made to host 'www.chosun.com'. Adding certificate verification is strongly advised. See: https://urllib3.readthedocs.io/en/latest/advanced-usage.html#ssl-warnings\n",
      "  warnings.warn(\n",
      "C:\\Users\\user\\anaconda3\\envs\\py38_64\\lib\\site-packages\\urllib3\\connectionpool.py:981: InsecureRequestWarning: Unverified HTTPS request is being made to host 'www.chosun.com'. Adding certificate verification is strongly advised. See: https://urllib3.readthedocs.io/en/latest/advanced-usage.html#ssl-warnings\n",
      "  warnings.warn(\n"
     ]
    },
    {
     "name": "stdout",
     "output_type": "stream",
     "text": [
      "주식 날린 엄마 사업실패 아들해수욕장서 서글픈 마침표 조선일 return 받은값\n",
      "utf-8\n",
      "http://www.newsis.com/view/?id=NISX20210319_0001376119&cID=10601&pID=10600 : '주식 고수' 이정윤 밸런스에셋 대표가 투자 성공 비법을 공개했다. 지난 18일 방송된 MBC TV 예능물 '개미의 꿈'에는 주식 투자 3년 만에 10만원에서 100억원의 성공 신화를 이룬 이정윤 대표가 등장했다. 그는 \"처음엔...\n"
     ]
    },
    {
     "name": "stderr",
     "output_type": "stream",
     "text": [
      "C:\\Users\\user\\anaconda3\\envs\\py38_64\\lib\\site-packages\\urllib3\\connectionpool.py:981: InsecureRequestWarning: Unverified HTTPS request is being made to host 'newsis.com'. Adding certificate verification is strongly advised. See: https://urllib3.readthedocs.io/en/latest/advanced-usage.html#ssl-warnings\n",
      "  warnings.warn(\n"
     ]
    },
    {
     "name": "stdout",
     "output_type": "stream",
     "text": [
      "UTF-8\n",
      "1098 start\n",
      "주식 고수 이정윤 밸런스에셋 대표가 투자 성공 비법을 공개했다 지난 18일 방송된 MBC TV 예능물 개미의 꿈에는 주식 투자 3년 만에 10만원에서 100억원의 성공 신화를 이룬 이정윤 대표가 등장했다 그는 처음엔 10만원으로 계좌를 만들었다며 매달 월급을 넣었다라고 투자금에 대해 설명했다 이에 장동민이 월급이 몇천만원 아니냐라며 너스레를 떨자 이 대표는 IMF 직후 주식을 시작해 운이 좋았다고 해명했다 이 대표는 수요와 공급의 법칙에 주목했다 수요가 많은 종목의 이유를 파악한다면 좋은 종목을 고를 수 있다고 생각한 것 주식 종목 선정 기준도 재무제표 분석 정보 분석 차트 분석 등 세 가지로 나눠 주목했다 이 대표의 포트폴리오도 방송 최초로 공개됐다 그러나 종목에 대한 기대감으로 가득 찼던 출연진들은 이내 분야별로 공개된 포트폴리오를 보자 실망감을 감추지 못했다 이에 이 대표는 대다수 주린이들이 하는 행동라고 일침을 가하면서도 중요한 것은 종목을 짚어주는 게 아니라 공부하는 방법이라고 말하며 포트폴리오 구축 방법을 소개했다 KBS 아나운서 출신 방송인 김민정은 45세부터 엄마 손을 잡고 주식 객장에 다녔다라며 등장부터 남다른 주식 인생 스토리로 눈길을 끌었다 김민정은 대학생 시절부터 주식을 시작 아르바이트로 모은 140만원을 한 종목에 몰아 투자했던 일화부터 남편 조충현의 신발을 몰래 판 이후 삐친 남편에게 신발값의 주식을 선물했던 에피소드까지 방출했다 서울뉴시스 18일 방송된 MBC TV 예능물 개미의 꿈 사진 MBC 2021319 hoo return 받은값\n",
      "UTF-8"
     ]
    },
    {
     "name": "stderr",
     "output_type": "stream",
     "text": [
      "C:\\Users\\user\\anaconda3\\envs\\py38_64\\lib\\site-packages\\urllib3\\connectionpool.py:981: InsecureRequestWarning: Unverified HTTPS request is being made to host 'newsis.com'. Adding certificate verification is strongly advised. See: https://urllib3.readthedocs.io/en/latest/advanced-usage.html#ssl-warnings\n",
      "  warnings.warn(\n"
     ]
    },
    {
     "name": "stdout",
     "output_type": "stream",
     "text": [
      "\n",
      "1098 start\n",
      "http://www.newsis.com/view/?id=NISX20210318_0001375261&cID=15001&pID=15000 : 해외주식 투자 세미나를 진행하고 있다고 18일 밝혔다. 지난 8일 시작된 세미나는 이달 말까지 세 차례에 걸쳐 온라인 콘퍼런스로 진행되고 있다. 이번 세미나에선 제퍼리스 애널리스트가 해외주식 종목 및 산업분석...\n",
      "UTF-8\n"
     ]
    },
    {
     "name": "stderr",
     "output_type": "stream",
     "text": [
      "C:\\Users\\user\\anaconda3\\envs\\py38_64\\lib\\site-packages\\urllib3\\connectionpool.py:981: InsecureRequestWarning: Unverified HTTPS request is being made to host 'newsis.com'. Adding certificate verification is strongly advised. See: https://urllib3.readthedocs.io/en/latest/advanced-usage.html#ssl-warnings\n",
      "  warnings.warn(\n"
     ]
    },
    {
     "name": "stdout",
     "output_type": "stream",
     "text": [
      "1115 start\n",
      "해외주식 투자 세미나를 진행하고 있다고 18일 밝혔다 지난 8일 시작된 세미나는 이달 말까지 세 차례에 걸쳐 온라인 콘퍼런스로 진행되고 있다 이번 세미나에선 제퍼리스 애널리스트가 해외주식 종목 및 산업분석 투자 아이디어 및 전략을 소개한다 특히 해외 기업이 직접 참가해 기업의 장기 성장전략을 공유하는 시간도 마련됐다 오는 29일과 30일에는 세 번째 콘퍼런스인 차이나 인터넷 코어퍼릿 데이가 열린다 중국 인터넷 기업 30곳도 참가할 예정이다 앞서 지난 8일엔 제퍼리스의 인터넷 미디어 담당 애널리스트가 중국 인터넷 산업 주요 이슈와 주식 종목을 분석했고 15일엔 제퍼리스의 수석 글로벌주식 전략가가 글로벌 경기 상황과 시사점을 소개했다 1962년 미국 뉴욕에 설립된 제퍼리스는 지난해 기준 글로벌 IB 매출 8위로 현재 약 3200여개의 글로벌 기업에 대한 리서치 커버리지를 보유하고 있다 서영호 KB증권 기관영업부문장은 이번 서비스를 시작으로 양사간 협업 강화와 다양한 콘텐츠 개발을 통해 국내 기관투자자 대상 해외주식 투자 서비스를 지속적으로 강화해 나갈 예정이라며 중장기적으로는 제퍼리스 금융그룹과의 협업 영역을 국내 기업의 해외 주식시장 상장 등 IB 비즈니스까지 확대할 계획이라고 말했다 ◎공감언론 뉴시스 shoon return 받은값\n",
      "UTF-8"
     ]
    },
    {
     "name": "stderr",
     "output_type": "stream",
     "text": [
      "C:\\Users\\user\\anaconda3\\envs\\py38_64\\lib\\site-packages\\urllib3\\connectionpool.py:981: InsecureRequestWarning: Unverified HTTPS request is being made to host 'newsis.com'. Adding certificate verification is strongly advised. See: https://urllib3.readthedocs.io/en/latest/advanced-usage.html#ssl-warnings\n",
      "  warnings.warn(\n"
     ]
    },
    {
     "name": "stdout",
     "output_type": "stream",
     "text": [
      "\n",
      "1115 start\n",
      "https://www.news1.kr/articles/?4246546 : 힌화그룹이 미국의 수소 트럭 스타트업인 니콜라 주식 절반을 매각한다. 19일 한화그룹에 따르면 그린니콜라홀딩스는 모건스탠리를 매각주관사로 선정하고 보유하고 있는 니콜라 지분 2200만 주 중 약 50%인 1106만주를...\n"
     ]
    },
    {
     "name": "stderr",
     "output_type": "stream",
     "text": [
      "C:\\Users\\user\\anaconda3\\envs\\py38_64\\lib\\site-packages\\urllib3\\connectionpool.py:981: InsecureRequestWarning: Unverified HTTPS request is being made to host 'www.news1.kr'. Adding certificate verification is strongly advised. See: https://urllib3.readthedocs.io/en/latest/advanced-usage.html#ssl-warnings\n",
      "  warnings.warn(\n"
     ]
    },
    {
     "name": "stdout",
     "output_type": "stream",
     "text": [
      "{'name': 'referrer', 'content': 'unsafe-url'}\n",
      "{'http-equiv': 'Content-Type', 'content': 'text/html; charset=utf-8'}\n",
      "content:text/html; charset=utf-8\n",
      "utf-8\n",
      "1141 start\n",
      "힌화그룹이 미국의 수소 트럭 스타트업인 니콜라 주식 절반을 매각한다19일 한화그룹에 따르면 그린니콜라홀딩스는 모건스탠리를 매각주관사로 선정하고 보유하고 있는 니콜라 지분 2200만 주 중 약 50인 1106만주를 매각한다고 지난 17일미국 현지시간 공시했다 매각 시점은 오는 6월부터 6개월간이다그린니콜라홀딩스는 한화종합화학USA가 51 한화에너지가 49의 지분을 보유한 회사이다한화그룹은 그린니콜라홀딩스를 통해 2018년 11월 니콜라에 총 1억달러를 투자 니콜라 지분 6가량을 보유하고 있다 이 투자는 김승연 한화그룹 회장의 장남인 김동관 한화솔루션 사장이 주도한 것으로 알려져 있다니콜라는 제2의 테슬라로 불리며 지난해 국내 개인투자자들에게도 뜨거운 관심을 받았지만 공매도 업체인 힌덴버그리서치가 지난해 9월 보고서를 내면서 무너지기 시작했다 힌덴버그리서치는 보고서에서 니콜라는 창업자 트레버 밀턴의 수십 가지 거짓말을 기반으로 세워진 사기 업체라고 주장했고 보고서가 나온 직후인 니콜라의 주가는 1133 급락했다 니콜라 창업자 트레버 밀턴은 사기 논란 여파로 결국 사임했다한화그룹은 수소 및 에너지 전환 사업의 확대 차원에서 자금 유동화 등이 필요하다는 판단에 따라 지분 매각을 결정한 것이라며 니콜라와의 전략적 제휴는 계속 이어간다는 방침이라고 밝혔다 ryud01 return 받은값\n"
     ]
    },
    {
     "name": "stderr",
     "output_type": "stream",
     "text": [
      "C:\\Users\\user\\anaconda3\\envs\\py38_64\\lib\\site-packages\\urllib3\\connectionpool.py:981: InsecureRequestWarning: Unverified HTTPS request is being made to host 'www.news1.kr'. Adding certificate verification is strongly advised. See: https://urllib3.readthedocs.io/en/latest/advanced-usage.html#ssl-warnings\n",
      "  warnings.warn(\n"
     ]
    },
    {
     "name": "stdout",
     "output_type": "stream",
     "text": [
      "{'name': 'referrer', 'content': 'unsafe-url'}\n",
      "{'http-equiv': 'Content-Type', 'content': 'text/html; charset=utf-8'}\n",
      "content:text/html; charset=utf-8\n",
      "utf-8\n",
      "1141 start\n",
      "http://news.mt.co.kr/mtview.php?no=2021031816550065633 : [작년말 기준 21.2%(176.7조), 주식비중 20% 확대후 상한 허용오차(3%) 추가시 195조 이상까지 보유 가능] 국민연금이 결국 국내 주식 비중 목표를 손질한다. 국민연금의 ‘기계적 매도’가 ‘코스피 3000’ 시대의 발목을...\n"
     ]
    },
    {
     "name": "stderr",
     "output_type": "stream",
     "text": [
      "C:\\Users\\user\\anaconda3\\envs\\py38_64\\lib\\site-packages\\urllib3\\connectionpool.py:981: InsecureRequestWarning: Unverified HTTPS request is being made to host 'news.mt.co.kr'. Adding certificate verification is strongly advised. See: https://urllib3.readthedocs.io/en/latest/advanced-usage.html#ssl-warnings\n",
      "  warnings.warn(\n"
     ]
    },
    {
     "name": "stdout",
     "output_type": "stream",
     "text": [
      "EUC-KR\n",
      "1809 start\n",
      "작년말 기준 2121767조 주식비중 20 확대후 상한 허용오차3 추가시 195조 이상까지 보유 가능 서울 return 받은값\n"
     ]
    },
    {
     "name": "stderr",
     "output_type": "stream",
     "text": [
      "C:\\Users\\user\\anaconda3\\envs\\py38_64\\lib\\site-packages\\urllib3\\connectionpool.py:981: InsecureRequestWarning: Unverified HTTPS request is being made to host 'news.mt.co.kr'. Adding certificate verification is strongly advised. See: https://urllib3.readthedocs.io/en/latest/advanced-usage.html#ssl-warnings\n",
      "  warnings.warn(\n"
     ]
    },
    {
     "name": "stdout",
     "output_type": "stream",
     "text": [
      "EUC-KR\n",
      "1809 start\n",
      "http://www.edaily.co.kr/news/newspath.asp?newsid=01430086628984304 : 지난 16일 신세계(004170)그룹과 네이버(035420)간 2500억원 규모의 주식교환 결정에 대해 최고 수혜는... 네이버와 이마트(139480)는 자사주, 신세계의 경우 신세계인터내셔날 보유주식을 활용해 주식교환이 이뤄질...\n"
     ]
    },
    {
     "name": "stderr",
     "output_type": "stream",
     "text": [
      "C:\\Users\\user\\anaconda3\\envs\\py38_64\\lib\\site-packages\\urllib3\\connectionpool.py:981: InsecureRequestWarning: Unverified HTTPS request is being made to host 'www.edaily.co.kr'. Adding certificate verification is strongly advised. See: https://urllib3.readthedocs.io/en/latest/advanced-usage.html#ssl-warnings\n",
      "  warnings.warn(\n",
      "C:\\Users\\user\\anaconda3\\envs\\py38_64\\lib\\site-packages\\urllib3\\connectionpool.py:981: InsecureRequestWarning: Unverified HTTPS request is being made to host 'www.edaily.co.kr'. Adding certificate verification is strongly advised. See: https://urllib3.readthedocs.io/en/latest/advanced-usage.html#ssl-warnings\n",
      "  warnings.warn(\n"
     ]
    },
    {
     "name": "stdout",
     "output_type": "stream",
     "text": [
      "utf-8\n",
      "846 start\n",
      "지난 16일 신세계004170그룹과 네이버035420간 2500억원 규모의 주식교환 결정에 대해 최고 수혜는 신세계인터내셔날031430이 될 것이란 분석이 나왔다 하누리 정은수 메리츠증권 연구원은 17일 보고서에서 “관계사중 유일한 콘텐츠 제공자’로서 소비자 저변 확장이 기대된다”며 “채널간 트래픽 이탈 방지가 아닌 판매채널 추가가 가능하다”고 설명했다최근 네이버 스마트스토어 입점이 확대되고 있는 추세인데다 네이버 브랜드 경쟁력 증대 또한 신세계인터내셔날의 몫이라는 것이다 네이버와 이마트139480는 자사주 신세계의 경우 신세계인터내셔날 보유주식을 활용해 주식교환이 이뤄질 예정이다 교환 이후 네이버는 이마트 지분 296 및 신세계인터내셔날 지분 685를 확보하게 된다 이마트와 신세계는 각각 네이버 지분 024 016를 취득한다 신세계인터내셔날 주요 주주 합산 지분율은 609로 유지되는데 신세계 보유 지분 중 685가 네이버로 이전됨에 따라 주주구성은 변화된다 최대주주인 신세계 지분율이 3891로 낮아지고 네이버가 685의 지분을 신규 취득한다 정유경 지분율은 1514로 동일하다 하누리 연구원은 “최근 유통시장내 인수합병 합작투자법인 설립 및 전략적 제휴가 증가 추세에 있다”며 “11번가와 아마존 제휴 GS홈쇼핑028150과 GS리테일 합병 이베이코리아 매각 쿠팡 상장 등 굴지의 유통사가 모두 유사한 행보를 보이고 있다”고 설명했다 이번 신세계그룹과 네이버의 주식교환 역시 이와 같은 궤라는 것 그는 “국내 최대 온오프라인 유통사인 네이버와 신세계그룹의 만남 그 자체만으로도 위협적”이라며 “채널간 트래픽 흡수 뿐 아니라 제휴사자회사 활용 시너지 극대화가 기대된다”고 밝혔다 신세계그룹은 네이버CJ대한통운000120의 3대 주주의 물류배송 경쟁력을 향유하고 네이버는 신세계그룹신세계 인터내셔날 최대주주의 콘텐츠 경쟁력을 활용할 수 있다는 분석이다 특히 최대 수혜는 신세계인터내셔날에 있다고 봤다 콘텐츠 제공자로서 소비자 저변 확장 뿐 아니라 네이버 브랜드 경쟁력 증대 또한 신세계인터내셔날의 몫이기 때문 하 연구원은 “국내 최대 브랜드사업자중 하나인 신세계인터내셔날은 의류 화장품 생활용품 등 자유 소비재 전 품목을 취급하며 자체 라이선싱 판권 합산 보유 브랜드는 40여개 이상으로 파악된다”고 덧붙였다 주요 return 받은값\n"
     ]
    },
    {
     "name": "stderr",
     "output_type": "stream",
     "text": [
      "C:\\Users\\user\\anaconda3\\envs\\py38_64\\lib\\site-packages\\urllib3\\connectionpool.py:981: InsecureRequestWarning: Unverified HTTPS request is being made to host 'www.edaily.co.kr'. Adding certificate verification is strongly advised. See: https://urllib3.readthedocs.io/en/latest/advanced-usage.html#ssl-warnings\n",
      "  warnings.warn(\n",
      "C:\\Users\\user\\anaconda3\\envs\\py38_64\\lib\\site-packages\\urllib3\\connectionpool.py:981: InsecureRequestWarning: Unverified HTTPS request is being made to host 'www.edaily.co.kr'. Adding certificate verification is strongly advised. See: https://urllib3.readthedocs.io/en/latest/advanced-usage.html#ssl-warnings\n",
      "  warnings.warn(\n"
     ]
    },
    {
     "name": "stdout",
     "output_type": "stream",
     "text": [
      "utf-8\n",
      "846 start\n",
      "https://www.hankyung.com/international/article/202103190447i : 그는 \"장기 금리가 오를 때 (투자자들은)장기 채권을 안사려고 한다\"며 \"사람들이 잊고 있는건 (투자자들이)주식에서도 장기물을 안사려고 한다는 점\"이라고 했다. 그러면서 \"장기물 주식은 간단히 말하면 고PER주\"라고...\n",
      "UTF-8\n"
     ]
    },
    {
     "name": "stderr",
     "output_type": "stream",
     "text": [
      "C:\\Users\\user\\anaconda3\\envs\\py38_64\\lib\\site-packages\\urllib3\\connectionpool.py:981: InsecureRequestWarning: Unverified HTTPS request is being made to host 'www.hankyung.com'. Adding certificate verification is strongly advised. See: https://urllib3.readthedocs.io/en/latest/advanced-usage.html#ssl-warnings\n",
      "  warnings.warn(\n",
      "C:\\Users\\user\\anaconda3\\envs\\py38_64\\lib\\site-packages\\urllib3\\connectionpool.py:981: InsecureRequestWarning: Unverified HTTPS request is being made to host 'www.hankyung.com'. Adding certificate verification is strongly advised. See: https://urllib3.readthedocs.io/en/latest/advanced-usage.html#ssl-warnings\n",
      "  warnings.warn(\n"
     ]
    },
    {
     "name": "stdout",
     "output_type": "stream",
     "text": [
      "1222 start\n",
      "그는 장기 금리가 오를 때 투자자들은장기 채권을 안사려고 한다며 사람들이 잊고 있는건 투자자들이주식에서도 장기물을 안사려고 한다는 점이라고 했다 그러면서 장기물 주식은 간단히 말하면 고PER주라고 말했다 금리 인상기엔 주가수익비율PER이 높은 주식에 대한 수요가 감소한다는 것이다번스타인은 최근 나스닥 시장의 강세는 일시적이라며 지금 상황을 1990년대말2000년대초와 비교했다 그는 당시미래가 어떻게될지에 대해 수많은 약속들이 나왔고 그 약속들 대부분은 20002010년에 현실이 됐다며 하지만 기술주는 10년간 투자자들에게 마이너스 수익률을 안겨줬다고 지적했다 번스타인은 오늘날 너무 많은 기술주 투자자들이 향후 3년 5년 혹은 10년간 수익률이 마이너스가 될 수 있는 상황에는 준비돼 있지 않다고 했다 번스타인은 기술주 대신 경기 회복으로 수혜을 볼 수 있는 경기순환주에 관심을 두라고 조언했다 구체적으로 상품 관련주와 에너지주를 유망주로 꼽았다 번스타인은 2019년과 2020년에도 기술주에 대해 비중 축소나 부정적 의견을 냈다워싱턴주용석 특파원 hohoboy return 받은값\n",
      "UTF-8\n",
      "1208 start\n",
      "http://news.tf.co.kr/read/economy/1848469.htm : 클래스B 주식 전환해 매도…의결권 76.7%→76.2 감소 쿠팡 창업자 김범석 이사회 의장이 쿠팡 주식 120만 주를 팔아 현금 확보에 나섰다. 16일 미국 증권거래위원회(SEC) 공시사이트에 따르면 김 의장은 지난 15일...\n",
      "UTF-8\n",
      "254 start\n",
      "클래스B 주식 전환해 매도의결권 767→762 감소더팩트｜이민주  return 받은값\n",
      "UTF-8\n",
      "254 start\n",
      "http://news.mk.co.kr/newsRead.php?no=261007&year=2021 : 2019년 대기업에 취업한 후 곧장 주식 투자를 시작한 김씨는 요즘 낮에는 주식, 저녁에는 코인 투자를 병행하고 있다. 김씨는 \"한창 코인 시장이 좋을 때 소액을 넣었는데 수익률이 좋은 걸 보고 추가로 돈을 넣었다\"며...\n"
     ]
    },
    {
     "name": "stderr",
     "output_type": "stream",
     "text": [
      "C:\\Users\\user\\anaconda3\\envs\\py38_64\\lib\\site-packages\\urllib3\\connectionpool.py:981: InsecureRequestWarning: Unverified HTTPS request is being made to host 'www.mk.co.kr'. Adding certificate verification is strongly advised. See: https://urllib3.readthedocs.io/en/latest/advanced-usage.html#ssl-warnings\n",
      "  warnings.warn(\n"
     ]
    },
    {
     "name": "stdout",
     "output_type": "stream",
     "text": [
      "{'http-equiv': 'Content-Type', 'content': 'text/html; charset=euc-kr'}\n",
      "content:text/html; charset=euc-kr\n",
      "euc-kr\n",
      "686 start\n",
      "2019년 대기업에 취업한 후 곧장 주식 투자를 시작한 김씨는 요즘 낮에는 주식 저녁에는 코인 투자를 병행하고 있다 김씨는 한창 코인 시장이 좋을 때 소액을 넣었는데 수익률이 좋은 걸 보고 추가로 돈을 넣었다며 이후 시장 상황이 급격히 안 좋아지면서 결국 원금의 일부마저 잃게 됐다고 말했다 또 잃은 돈을 찾기 위해 꾸준히 돈을 넣는데 결과가 좋지는 않다며 본업에 집중도 안 되고 휴대전화를 보는 시간이 많고 스트레스도 크게 받는다고 한숨을 쉬었다 최근 동학개미를 중심으로 투자 열풍이 부는 가운데 투자를 넘어 투기의 늪에 빠진 이들이 급증한 것으로 드러났다 투자 원금을 잃었음에도 대출 등 빚투를 통해 무리한 투자를 반복하는 것이다 특히 지난해 도박에 빠져 도움을 요청한 청년층이 무려 3배 이상 증가했다 코로나19 확산 초기엔 비대면 도박 게임에 중독된 이들이 많았는데 도박에 빠지는 주된 길로 주식과 코인 시장이 새롭게 떠오르는 모양새다 18일 매일경제가 한국도박문제관리센터에서 받은 자료에 따르면 지난해 주식 코인 투자로 인한 도박 상담 건수는 5523건으로 전년3540건 대비 56 증가했다 투자 중독으로 센터 문을 두드린 이들은 무려 718 늘었다 특히 20대 청년층의 상담 이용인원은 223 급증했다 10대도 20182019년엔 투자로 인한 도박 상담이 한 건도 없었지만 지난해에는 총 25명이 센터 문을 두드렸다 황선영 한국도박문제관리센터 예방부장은 센터 설립 이후 헬프라인을 통해 주식 등 투자 문제를 호소한 내담자는 35였다며 작년부터 주식 투자 열풍이 불면서 이 문제로 상담받는 분이 급증했다고 밝혔다 1020세대는 물론 전 연령층에서 투자 시장의 불장이 시작된 지난해 도박 상담 이용인원은 약 72 증가했다 은퇴한 60대 이상 노년층에서는 88 올랐다 올해 들어서도 도박 상담 건수는 꾸준히 오르는 모습이다 올해 12월 접수된 도박 상담 건수는 809건으로 지난해391건 대비 2배 이상 올랐다 투자 도박에 빠진 이들에게서 한탕을 노리는 모습이 자주 포착된다고 한다 초기에 돈을 번 경험인 빅 윈Bi Win의 기억을 잊지 못하고 원칙 있는 투자가 아닌 투기에 빠지게 되는 것이다 인터넷 사회관계망서비스SNS 등 주위에서 돈을 벌었다는 소식이 퍼지는 것도 도박에 빠지게 되는 주요인이다 황 예방부장은 우리 사회는 투자를 재테크로만 생각해 과몰입의 부작용을 간과하는 경우가 많다며 주식 투자를 위해 돈을 빌리거나 주변인에게 거짓말을 하고 잃은 돈을 만회하기 위해 무리하게 추격 매수를 한다면 중독 증상을 의심해야 한다고 말했다 투자 도박에 빠진 이들은 대출금까지 끌어모아 투자에 활용하기도 한다 올해 초 5대 시중은행의 신용대출 잔액은 무려 134조1015억원에 달한다 마이너스 통장을 이용한 신규 신용대출 건수도 지난해보다 2배가량 늘었다 원금을 넘어 대출금까지 마이너스 수익률을 기록하면 자칫 도박판에 빠질 위험성이 크다 실제 최근 코인을 전송해주면 높은 수익률을 얻을 수 있다는 사기 수법에 속아 돈을 잃은 이들이 적지 않다 군인들은 코인 투자 삼매경에 빠져 있다 일과 후 주말에 휴대전화를 쓸 수 있게 되자 24시간 장이 열리는 코인 투자에 나선 것이다 최근 들어 병사 월급이 인상된 것도 이들이 투자에 목돈을 활용하는 계기가 됐다 이들을 지칭해 병정개미라는 말도 생겼다 한 육군 병사는 일부 중대는 돈을 잃은 병사들 사례를 모아 부대 교육 때 투자 실패 사례로 활용한다고 말했다 곽금주 서울대 심리학과 교수는 과거엔 저축하면 성공이 따라온다는 희망이 있었는데 지금 세대에게는 그런 희망이 없어 절박함으로 투기에 빠지는 부작용이 나타난다고 설명했다 차창희  return 받은값\n"
     ]
    },
    {
     "name": "stderr",
     "output_type": "stream",
     "text": [
      "C:\\Users\\user\\anaconda3\\envs\\py38_64\\lib\\site-packages\\urllib3\\connectionpool.py:981: InsecureRequestWarning: Unverified HTTPS request is being made to host 'www.mk.co.kr'. Adding certificate verification is strongly advised. See: https://urllib3.readthedocs.io/en/latest/advanced-usage.html#ssl-warnings\n",
      "  warnings.warn(\n"
     ]
    },
    {
     "name": "stdout",
     "output_type": "stream",
     "text": [
      "{'http-equiv': 'Content-Type', 'content': 'text/html; charset=euc-kr'}\n",
      "content:text/html; charset=euc-kr\n",
      "euc-kr\n",
      "686 start\n"
     ]
    },
    {
     "name": "stderr",
     "output_type": "stream",
     "text": [
      "C:\\Users\\user\\anaconda3\\envs\\py38_64\\lib\\site-packages\\urllib3\\connectionpool.py:981: InsecureRequestWarning: Unverified HTTPS request is being made to host 'search.naver.com'. Adding certificate verification is strongly advised. See: https://urllib3.readthedocs.io/en/latest/advanced-usage.html#ssl-warnings\n",
      "  warnings.warn(\n"
     ]
    },
    {
     "name": "stdout",
     "output_type": "stream",
     "text": [
      "http://sports.chosun.com/news/ntype.htm?id=202103200100148750009572&servicedate=20210319 : 주식 예능 '개미의 꿈'에 '주식 고수' 이정윤이 등장했다 18일 방송된 MBC 예능프로그램 '개미의 꿈'에는 이정윤이 등장해 주터디원들에게 성공 신화를 들려줬다. B투자 아카데미 대표로 주식 투자 부문 최초 트리플 크라운...\n",
      "{'charset': 'EUC-KR'}\n",
      "EUC-KR\n",
      "331 start\n",
      "주식 예능 개미의 꿈에 주식 고수 이정윤이 등장했다 18일 방송된 MBC 예능프로그램 개미의 꿈에는 이정윤이 등장해 주터디원들에게 성공 신화를 들려줬다 B투자 아카데미 대표로 주식 투자 부문 최초 트리플 크라운 달성 K증권 투자대회에서 4년 연속 수상한 이정윤은 1997년 군 입대 후 시드머니 10만원으로 주식을 시작했다 꾸준히 월급을 모아 주식을 해왔다는 이정윤은 3년 만에 100억원을 만든 성공사례로 인해 모두의 롤모델로 등극했다이정윤은 운이 좋게도 IMF 직후라 모든 게 2배 이상의 수익이 났다 주식시장에서 가격이 오른다는 건 수요가 몰린다는 거다 남들이 매수하는 이유를 알면 많은 종목을 고를 수 있겠다 싶었다고 성공 팁을 공개했다재무제표를 제대로 볼 것을 조언한 이정윤은 지라시 같은 정보가 아닌 모두가 아는 정보를 보라 증권사 리포트나 경제 기사 공시를 봐야 한다고 정확한 정보를 강조했다이정윤은 이어 존버 정신이 필요하다며 마음을 다스리기 위해서는 자기 자신에 대한 자신감이 필요하다 제가 생각하는 존버는 존중하며 버티기라며 자기 자신을 존중해야 한다고 했다 꾸준한 공부를 통해 자신감을 갖고 열심히 공부하다 보면 자기 자신에 대한 믿음도 저절로 따라올 거라고이어 이정윤의 포트폴리오가 공개됐다 이정윤은 주린이들을 위해 투자금이 적다면 3종목 투자금이 많다면 810종목 15종목까지 사야 한다고 추천 적절한 종목 개수와 겹치지 않는 업종이 중요하다고 했다 또한 증권사 리포트를 하루에 한 번 챙겨볼 것 그리고 유명 투자가의 책 5권을 읽을 것 컴퓨터로 운영되는 주식거래인 HTS를 활용할 것을 조언했다문지연  return 받은값\n"
     ]
    },
    {
     "name": "stderr",
     "output_type": "stream",
     "text": [
      "C:\\Users\\user\\anaconda3\\envs\\py38_64\\lib\\site-packages\\urllib3\\connectionpool.py:981: InsecureRequestWarning: Unverified HTTPS request is being made to host 'sports.chosun.com'. Adding certificate verification is strongly advised. See: https://urllib3.readthedocs.io/en/latest/advanced-usage.html#ssl-warnings\n",
      "  warnings.warn(\n",
      "C:\\Users\\user\\anaconda3\\envs\\py38_64\\lib\\site-packages\\urllib3\\connectionpool.py:981: InsecureRequestWarning: Unverified HTTPS request is being made to host 'sports.chosun.com'. Adding certificate verification is strongly advised. See: https://urllib3.readthedocs.io/en/latest/advanced-usage.html#ssl-warnings\n",
      "  warnings.warn(\n"
     ]
    },
    {
     "name": "stdout",
     "output_type": "stream",
     "text": [
      "{'charset': 'EUC-KR'}\n",
      "EUC-KR\n",
      "331 start\n",
      "http://news.mt.co.kr/mtview.php?no=2021031718283189838 : 적은 유통주식 수…높아지는 SK바사 따상 기대감 18일 상장하는 SK바이오사이언스의 따상에 대한 기대가... 상장 후 유통제한 주식은 기관 의무보유 확약 물량과 최대주주 SK케미칼이 보유한 5235만주, 우리사주조합...\n"
     ]
    },
    {
     "name": "stderr",
     "output_type": "stream",
     "text": [
      "C:\\Users\\user\\anaconda3\\envs\\py38_64\\lib\\site-packages\\urllib3\\connectionpool.py:981: InsecureRequestWarning: Unverified HTTPS request is being made to host 'news.mt.co.kr'. Adding certificate verification is strongly advised. See: https://urllib3.readthedocs.io/en/latest/advanced-usage.html#ssl-warnings\n",
      "  warnings.warn(\n"
     ]
    },
    {
     "name": "stdout",
     "output_type": "stream",
     "text": [
      "EUC-KR\n",
      "SK바사 상장 첫날 따상 가나유통주식 적다 머니투데이 본문영역 바로가기 로그인 전체  return 받은값\n"
     ]
    },
    {
     "name": "stderr",
     "output_type": "stream",
     "text": [
      "C:\\Users\\user\\anaconda3\\envs\\py38_64\\lib\\site-packages\\urllib3\\connectionpool.py:981: InsecureRequestWarning: Unverified HTTPS request is being made to host 'news.mt.co.kr'. Adding certificate verification is strongly advised. See: https://urllib3.readthedocs.io/en/latest/advanced-usage.html#ssl-warnings\n",
      "  warnings.warn(\n"
     ]
    },
    {
     "name": "stdout",
     "output_type": "stream",
     "text": [
      "EUC-KR\n",
      "http://www.newspim.com/news/view/20210319000277 :  대신증권은 휴면고객이 주식거래를 재개하면 3년간 국내주식 온라인 거래 수수료를 할인해주는 '웰컴홈 2021' 이벤트를 진행한다고 19일 밝혔다. 이번 이벤트는 재거래 고객들에게 수수료 할인이라는 실질적인...\n",
      "UTF-8\n",
      "873 start\n",
      "대신증권은 휴면고객이 주식거래를 재개하면 3년간 국내주식 온라인 거래 수수료를 할인해주는 웰컴홈 2021 이벤트를 진행한다고 19일 밝혔다 이번 이벤트는 재거래 고객들에게 수수료 할인이라는 실질적인 혜택을 제공하기 위해 마련됐다 대상은 이벤트 신청 직전 월부터 6개월 이상 대신증권 및 크레온을 통한 국내주식 거래가 없는 휴면고객이다 사진대신증권 해당 고객이 대신증권에서 온라인으로 국내주식과 상장지수펀드ETF 등을 거래하면 3년간 거래수수료를 할인해준다 할인된 수수료는 국내주식의 경우 거래대금의 00036396 ETF 등은 거래대금의 00042087이다 이 이벤트는 오는 12월 31일까지 진행된다 이벤트에 참여하려면 대신증권 홈페이지 크레온 홈페이지 등에서 이벤트 참여를 신청하면 된다 안석준 대신증권 스마트Biz추진부장은 복귀 고객의 성공적인 투자를 바라며 실질적인 혜택을 드리기 위해 이벤트를 마련했다며 앞으로도 고객의 니즈에 부응하는 다양한 이벤트를 지속적으로 추진해 나갈 것이라고 말했다 ibon return 받은값\n",
      "UTF-8\n",
      "873 start\n",
      "http://www.ddaily.co.kr/news/article.html?no=210915 : 서울옥션은 미술품 및 NFT 시장 호황에 힘입어 주가가 크게 오르는 등 주식시장에서도 관심을 받고 있다. ◆해외에선 크리스티‧소더비, 국내선 서울옥션 최근 서울옥션은 자회사 서울옥션블루를 블록체인 기반 NFT...\n",
      "UTF-8\n",
      "835 start\n",
      "서울옥션은 미술품 및 NFT 시장 호황에 힘입어 주가가 크게 오르는 등 주식시장에서도 관심을 받고 있다 ◆해외에선 크리스티‧소더비 국내선 서울옥션 최근 서울옥션은 자회사 서울옥션블루를 블록체인 기반 NFT 시장에 진출하기로 했다 미술 시장에서 NFT가 인기를 끌자 NFT 기반 디지털 예술품 생태계를 구축하겠다는 취지다 해외에선 최대 경매 업체인 크리스티와 소더비가 NFT 경매 시장에 진출한 상태다 관련 서비스는 올해 3분기 출시 예정이다 서울옥션블루에서 운영하는 미술품 공동구매 서비스 소투SOTWO가 신한은행과 함께 비즈니스를 추진한다 이 과정에서 서울 옥션은 작가 발굴을 진행할 예정이다 다만 NFT 예술품 경매 일정 등 구체적인 계획은 아직 비공개다 서울옥션 관계자는 “NFT 기반 디지털 미술품의 장점에 주목했다”면서도 “자세한 사항은 비공개로 진행하고 있어 현재는 밝히기 어렵다”고 전했다 구체적인 사항이 공개되지 않았음에도 불구 NFT 시장 진출 소식에 서울옥션 주가가 상승하기도 했다 NFT 관련 소식이 알려진 지난 11일에는 전거래일 대비 9 이상 올랐으며 이달에만 40 가량 상승했다 유안타증권은 지난 16일 서울옥션에 투자 의견 매수’를 유지하고 목표 주가를 1만 8000원으로 상향했다 안주원 유안타증권 연구원은 “과거 미술시장은 소수 컬렉터를 중심으로 이루어졌다면 지금은 온라인 등을 통해 소비층이 다양해지고 있는 만큼 새로우면서도 지속적으로 성장할 수 있는 대중적인 시장으로 바뀌어가고 있다”고 설명했다 ◆위메이드 3단계 걸쳐 NFT 사업 추진 NFT 사업에 뛰어든 다른 상장사로는 게임사 위메이드가 꼽힌다 위메이드는 블록체인 자회사 위메이드트리를 앞세워 NFT 사업에 힘을 보태고 있다 최근 위메이드트리는 3단계에 걸쳐 NFT 시장 진출을 추진한다고 밝혔다 우선 자체 개발한 블록체인 플랫폼 위믹스’를 기반으로 하는 NFT 거래소를 올해 상반기 내에 선보인다 이후에는 블록체인 기반 게임 내에서 NFT를 활용한다 출시 준비 중인 <크립토네이도 for WEMIX>부터 본격적으로 게임 내에서 NFT를 활용할 전망이다 하반기에는 카카오의 블록체인 기술 계열사 그라운드X가 개발한 블록체인 플랫폼 클레이튼에서 NFT를 거래할 수 있는 서비스를 시작한다 이를 통해 게임 아이템 형태의 NFT뿐 아니라 디지털 예술 작품 수집품 등 클레이튼을 기반으로 한 광범위한 NFT 거래를 지원할 예정이다 NFT 관련 소식이 알려진 지난 8일부터 9일 사이 위메이드 주가는 5 가까이 뛰었다 이달 들어선 85 가량 상승한 상태다 <박현영 return 받은값\n",
      "UTF-8\n",
      "835 start\n",
      "http://www.newsis.com/view/?id=NISX20210319_0001376027&cID=10403&pID=15000 : 19일 오전 빅데이터로 분석한 주식시장 코스피 200종목의 시장심리지수(Market Sentiment Index·MSI)는 4단계... 주식시장에서는 다양한 국내외 변수가 존재하기 때문에 한 지표로만 판단하면 뜻하지 않은 결과를...\n"
     ]
    },
    {
     "name": "stderr",
     "output_type": "stream",
     "text": [
      "C:\\Users\\user\\anaconda3\\envs\\py38_64\\lib\\site-packages\\urllib3\\connectionpool.py:981: InsecureRequestWarning: Unverified HTTPS request is being made to host 'newsis.com'. Adding certificate verification is strongly advised. See: https://urllib3.readthedocs.io/en/latest/advanced-usage.html#ssl-warnings\n",
      "  warnings.warn(\n"
     ]
    },
    {
     "name": "stdout",
     "output_type": "stream",
     "text": [
      "UTF-8\n",
      "1031 start\n",
      "19일 오전 빅데이터로 분석한 주식시장 코스피 200종목의 시장심리지수Mrke Senien Index·MSI는 4단계 보통으로 나타났다 뉴시스와 코스콤이 공동으로 뽑아낸 빅데이터 MSIhnewsiscosockh 모바일 전용에 따르면 전 거래일 오후 4시부터 이날 오전 8시까지 집계된 코스피 MSI 레벨은 전 거래일보다 한 단계 하락했다 대장주 삼성전자의 MSI 레벨은 3단계로 집계됐다 시가총액 상위 종목 중 SK하이닉스는 2단계 LG화학은 4단계 현대차는 4단계 셀트리온은 3단계로 나타났다 뉴시스와 코스콤은 250개 주요 상장 기업에 대해 감성 사전을 만들어 해당 종목의 실시간 점수를 산출하고 이를 최근 1년간의 흐름과 비교해 MSI 레벨로 제시하고 있다 빅데이터MSI는 투자 참고용이며 투자 결과에 책임을 지지 않습니다 주식시장에서는 다양한 국내외 변수가 존재하기 때문에 한 지표로만 판단하면 뜻하지 않은 결과를 초래할 수 있습니다 ◎공감언론 뉴시스 hnseob return 받은값\n"
     ]
    },
    {
     "name": "stderr",
     "output_type": "stream",
     "text": [
      "C:\\Users\\user\\anaconda3\\envs\\py38_64\\lib\\site-packages\\urllib3\\connectionpool.py:981: InsecureRequestWarning: Unverified HTTPS request is being made to host 'newsis.com'. Adding certificate verification is strongly advised. See: https://urllib3.readthedocs.io/en/latest/advanced-usage.html#ssl-warnings\n",
      "  warnings.warn(\n"
     ]
    },
    {
     "name": "stdout",
     "output_type": "stream",
     "text": [
      "UTF-8\n",
      "1031 start\n",
      "http://www.inews24.com/view/1350861 : 조현아 전 대한항공 부사장이 KCGI에 한진칼 주식 일부를 매각했다. 17일 금융감독원 전자공시시스템에 따르면 조 전 부사장은 자신이 보유한 한진칼 주식 중 1.43%인 5만5천주를 KCGI 측에 장외매도했다. 처분단가는...\n",
      "UTF-8\n",
      "414 start\n",
      "조현아 전 대한항공 부사장이 KCGI에 한진칼 주식 일부를 매각했다17일 금융감독원 전자공시시스템에 따르면 조 전 부사장은 자신이 보유한 한진칼 주식 중 143인 5만5천주를 KCGI 측에 장외매도했다 처분단가는 1주당 6만1천300원이다 이로써 조 전 부사장은 33억원가량의 현금을 확보하게 됐다조 전 부사장은 고故 조양호 회장의 지분을 상속하면서 수백억원의 상속세를 납부해야하는 것으로 알려졌다 이번 현금확보도 상속세 납부를 위한 것으로 추정된다한편 조원태 한진그룹 회장과 3자연합KCGI·조현아·반도건설의 경영권 분쟁은 소강 상태를 보이고 있다 대한항공의 아시아나항공 인수를 위해 산업은행이 한진칼 지분을 확보하면서 3자연합이 동력을 상실했다는 분석이 나온다 3자연합은 오는 26일 열리는 한진칼 주주총회에도 별다른 주주제안을 하지 않았다강길홍  return 받은값\n",
      "UTF-8\n",
      "414 start\n",
      "http://news.mk.co.kr/newsRead.php?no=257738&year=2021 : 한화측에 따르면 소유하고 있는 니콜라주식 2200만주 중 최대 50%를 오는 6월부터 6개월간 매각할 예정이다. 아직 정해진 매각물량은 없다. 시장상황에 발맞춰 매각작업을 진행한다는 계획이다. 다만 한화그룹은 매각을...\n"
     ]
    },
    {
     "name": "stderr",
     "output_type": "stream",
     "text": [
      "C:\\Users\\user\\anaconda3\\envs\\py38_64\\lib\\site-packages\\urllib3\\connectionpool.py:981: InsecureRequestWarning: Unverified HTTPS request is being made to host 'www.mk.co.kr'. Adding certificate verification is strongly advised. See: https://urllib3.readthedocs.io/en/latest/advanced-usage.html#ssl-warnings\n",
      "  warnings.warn(\n"
     ]
    },
    {
     "name": "stdout",
     "output_type": "stream",
     "text": [
      "{'http-equiv': 'Content-Type', 'content': 'text/html; charset=euc-kr'}\n",
      "content:text/html; charset=euc-kr\n",
      "euc-kr\n",
      "736 start\n",
      "한화측에 따르면 소유하고 있는 니콜라주식 2200만주 중 최대 50를 오는 6월부터 6개월간 매각할 예정이다 아직 정해진 매각물량은 없다 시장상황에 발맞춰 매각작업을 진행한다는 계획이다 다만 한화그룹은 매각을 해도 니콜라와의 전략적 제휴는 유지된다고 설명했다 이번 매각은 유관사업 확대 차원에서 자금유동화 등이 필요하다는 한화그룹의 사업적 판단에 따른다 한화는 한화솔루션을 중심으로 수소 사업을 새 먹거리로 삼고 있다 한화솔루션은 수소 산업에 투자해 온 계열사들과 협업해 사업 시너지를 확대할 방침이다 충남 대산에 세계 최초의 부생 수소 발전소를 건설한 한화에너지 한국가스공사에 수소 충전 시스템을 공급하는 한화파워시스템 등과 함께 수소 산업의 전 밸류 체인에서 수익성을 극대화한다는 전략이다 한편 한화는 니콜라 지분을 45달러 사이에 구매했고 현재 니콜라의 주당 가격이 1639불에 달하기 때문에 현재가격에 보유지분 절반의 매각이 이뤄진다면 300에 가까운 수익률을 낼 것으로 추정된다 한화로는 약 1480억원에 달한다 니콜라는 지난해 6월 나스닥에 상장 수소트럭 생태계 구축 기대감에 주가가 급등했다 상장 당시 주가를 기준으로 한화그룹이 지분을 전량 매각했다면 시세차익만 1조원에 달할 정도였다 하지만 얼마 안 가 공매도 리포트가 나오며 사기 논란에 휩싸였다 수소트럭 기술은 상용화하기에 무리가 많은 데다 기업설명회IR용으로 내놓은 트럭 영상은 조작이라는 지적이 잇따르면서 주가가 급락했다 최근도  return 받은값\n"
     ]
    },
    {
     "name": "stderr",
     "output_type": "stream",
     "text": [
      "C:\\Users\\user\\anaconda3\\envs\\py38_64\\lib\\site-packages\\urllib3\\connectionpool.py:981: InsecureRequestWarning: Unverified HTTPS request is being made to host 'www.mk.co.kr'. Adding certificate verification is strongly advised. See: https://urllib3.readthedocs.io/en/latest/advanced-usage.html#ssl-warnings\n",
      "  warnings.warn(\n"
     ]
    },
    {
     "name": "stdout",
     "output_type": "stream",
     "text": [
      "{'http-equiv': 'Content-Type', 'content': 'text/html; charset=euc-kr'}\n",
      "content:text/html; charset=euc-kr\n",
      "euc-kr\n",
      "736 start\n",
      "https://www.news1.kr/articles/?4246713 : 서학개미들이 가장 아끼는 주식인 테슬라의 주가가 연일 하락하고 있다. 테슬라 주식을 털어야 하는 시점이 다가오고 있는 듯하다. 고백건대, 필자는 주식에는 문외한이다. 그러나 매일 수십수백 개의 외신 제목을 보고...\n"
     ]
    },
    {
     "name": "stderr",
     "output_type": "stream",
     "text": [
      "C:\\Users\\user\\anaconda3\\envs\\py38_64\\lib\\site-packages\\urllib3\\connectionpool.py:981: InsecureRequestWarning: Unverified HTTPS request is being made to host 'www.news1.kr'. Adding certificate verification is strongly advised. See: https://urllib3.readthedocs.io/en/latest/advanced-usage.html#ssl-warnings\n",
      "  warnings.warn(\n"
     ]
    },
    {
     "name": "stdout",
     "output_type": "stream",
     "text": [
      "{'name': 'referrer', 'content': 'unsafe-url'}\n",
      "{'http-equiv': 'Content-Type', 'content': 'text/html; charset=utf-8'}\n",
      "content:text/html; charset=utf-8\n",
      "utf-8\n",
      "1088 start\n",
      "서학개미들이 가장 아끼는 주식인 테슬라의 주가가 연일 하락하고 있다 테슬라 주식을 털어야 하는 시점이 다가오고 있는 듯하다고백건대 필자는 주식에는 문외한이다 그러나 매일 수십수백 개의 외신 제목을 보고 있다 때문에 트렌드는 짚을 수 있다필자는 최근 외신의 헤드라인에서 전기차와 관련 변곡점이 오고 있음을 감지할 수 있었다 지금까지 테슬라는 전기차 수혜를 독점해왔다 그러나 이 독점 공식이 파괴되고 있다18일현지시간에만 기존의 완성차 업체의 반격이 시작됐다며 테슬라의 주가 고공행진이 지속될지 의문이라는 기사가 속출했다일단 미국 최고 권위의 경제지인 월스트리트저널WSJ은 테슬라 주가가 급락하고 있는 가운데 현대차 제너럴 모터스GM 폴크스바겐 등 기존의 완성차 업체들의 주가는 일제히 급등하고 있다며 기존 업체의 반란이 시작됐다고 보도했다WSJ은 기존의 업체가 전기차 시장에 빠르게 진출함에 따라 그동안 전기차 시장에서 독점적인 지위를 누렸던 테슬라의 아성이 위협 받고 있다고 분석했다올 들어 테슬라의 주가는 약 7 정도 빠졌다 이에 비해 독일의 폴크스바겐은 48 일본의 미쯔비시는 45 미국의 GM은 42 한국의 현대차는 22 각각 급등했다이는 기존의 완성차 업체들이 빠르게 전기차업체로 변신하고 있기 때문이다 폴크스바겐은 지난 16일  return 받은값\n"
     ]
    },
    {
     "name": "stderr",
     "output_type": "stream",
     "text": [
      "C:\\Users\\user\\anaconda3\\envs\\py38_64\\lib\\site-packages\\urllib3\\connectionpool.py:981: InsecureRequestWarning: Unverified HTTPS request is being made to host 'www.news1.kr'. Adding certificate verification is strongly advised. See: https://urllib3.readthedocs.io/en/latest/advanced-usage.html#ssl-warnings\n",
      "  warnings.warn(\n"
     ]
    },
    {
     "name": "stdout",
     "output_type": "stream",
     "text": [
      "{'name': 'referrer', 'content': 'unsafe-url'}\n",
      "{'http-equiv': 'Content-Type', 'content': 'text/html; charset=utf-8'}\n",
      "content:text/html; charset=utf-8\n",
      "utf-8\n",
      "1088 start\n",
      "http://news.mt.co.kr/mtview.php?no=2021031815043114926 : 미국 연방공개시장위원회(FOMC)가 17일(현지시간) 2023년까지 금리를 올리지 않는다는 신호를 보내며 시장을 안정시켰지만 불안감이 완전히 사라진 건 아니다. 의결권을 가진 FOMC 위원 10명 가운데 4명이 내년 기준금리...\n"
     ]
    },
    {
     "name": "stderr",
     "output_type": "stream",
     "text": [
      "C:\\Users\\user\\anaconda3\\envs\\py38_64\\lib\\site-packages\\urllib3\\connectionpool.py:981: InsecureRequestWarning: Unverified HTTPS request is being made to host 'news.mt.co.kr'. Adding certificate verification is strongly advised. See: https://urllib3.readthedocs.io/en/latest/advanced-usage.html#ssl-warnings\n",
      "  warnings.warn(\n"
     ]
    },
    {
     "name": "stdout",
     "output_type": "stream",
     "text": [
      "EUC-KR\n",
      "1877 start\n",
      "미국 연방공개시장위원회FOMC가 17일현지시간 2023년까지 금리를 올리지 않는다는 신호를 보내며 시장을 안정시켰지만 불안감이 완전히 사라진 건 아니다 의결권을 가진 FOMC 위원 10명 가운데 4명이 내년 기준금리 인상을 예상했다 만약 근원 PCE개인소비지출 물가상승률인플레이션이 연 25를 넘긴다면 그동안 주가를 밀어올린 제로금리도 끝날 수 있다고 시장은 우려한다 기획재정부와 한국은행은 18일 오전 각각 회의를 열고 FOMC 결과가 국내시장에 미칠 불확실성을 점검했다 김용범 기재부 1차관은 실제 경제지표 및 정책 대응 등에 따라 미국 국채금리 상승 등 금융시장 변동성이 지속될 가능성을 배제할 수 없다고 경고했다 한은도 금융시장 변동성 확대 가능성을 배제할 수 없다며 시장 모니터링 강화를 약속했다 앞서 FOMC는 기준금리 전망을 2023년까지 제로수준으로 유지하고 양적완화 규모도 1200억달러로 이어가는 등 완화적 통화정책을 유지하기로 했다 이에 미국 시장은 물론 한국 시장도 안도하는 모습을 보였다 이날 코스피지수는 06 오른 채 마감했다 ━내년 금리인상 1명→4명━그러나 시장 일각에선 여전히 의구심을 버리지 못하고 있다 연방준비제도연준·Fed가 인플레 전망치를 크게 높여 잡은 때문이다 FOMC는 이번 회의에서 통화정책의 기준이 되는 근원PCE 물가상승률 전망치를 △2021년 22 △2022년 20 △2023년 21로 전망했다 지난해 12월 전망인 △18 △19 △20보다 0104포인트 높다 올해의 경우 04포인트나 상향조정했다 물가연동성이 강한 장기물 채권금리는 앞으로도 계속 오를 수 있다는 의미다 김민형 미래에셋대우 연구원은 미국의 경기정상화와 1조9000달러약 2100조원의 경기 부양책 등에 대한 기대감을 반영하면 금리 추세전환은 없을 것이라며 미 국채 10년물 금리는 2 수준까지 오를 수 있다고 말했다 최악의 경우 연준의 기준금리 인상 시점이 빨라질 수 있다는 관측도 나온다 연준은 지난해 평균물가목표제AIT를 통해 물가가 일시적으로 2 이상으로 올라도 금리를 올리지 않겠다고 예고했다 미국 경제방송 CNBC 등에 따르면 연준이 인내하는 물가상승률 상단은 25라고 미국 채권시장은 보고 있다 물가가 그 이상 뛰면 기준금리를 올릴 수도 있다는 얘기다 조용구 신영증권 연구원도 근원PCE 상승률이 22만 나와도 상당히 높은 편이라며 소비자물가CPI 상승률은 이보다 높은 2 중반까지도 나올 수 있다고 말했다 그러면서 8월 연준의 잭슨홀 컨퍼런스나 9월 FOMC에서 연준의 태도에 변화가 생길 수 있을 것이라고 전했다 이날 발표된 FOMC 위원 점도표에 따르면 직전 발표까지 1명이던 2022년 금리인상 전망은 4명으로 5명이던 2023년 금리인상 전망은 7명으로 늘었다 제롬 파월 연준 의장은 대다수 위원들은 이번 예측기간인 20212023년동안 금리인상을 예상하지 않았다며 소수의견이라고 일축했지만 FOMC 내부에서 금리인상 시점에 대한 전망을 앞당겨진 걸 부인할 순 없다 ━과도한 우려비둘기파 연준을 믿어라━그러나 이같은 의견이 과도한 우려라는 지적도 있다 김상훈 하이투자증권 연구원은 6월 FOMC 전 백신접종으로 집단면역이 생겨 경기개선이 된다면 2023년 점도표는 계속 상향 조정될 수 있을 것이라면서도 이번에 인플레이션 전망치를 상향했지만 완전고용 달성시점을 개선해 잡은 게 내후년이기 때문에 금리인상 시점을 앞당길 것이란 우려는 크지 않다고 풀이했다 공동락 대신증권 연구원은 주류가 가지고 있는 컨센서스대체적 전망치가 점도표의 본질이라며 이를 통해 봤을 때 금리인상을 앞당길 수 있다는 생각은 할 여지가 있지만 기준금리 테이퍼링양적완화 축소이 올해 중 이뤄질 가능성은 낮다고 본다고 했다 허재환 유진투자증권 연구원도 점도표상 2023년을 찍은 인원이 7명에서 9명으로 늘긴 했지만 금리 전망의 상단 자체가 12월보다 높아지진 않았다며 물가 상승률도 연준 입장에서 전망치인 2 이상을 충분히 만족시켜 금리 인상을 할 만큼이 아니라고 내부적으로 전망한 것이라고 분석했다 <저작권자 © 돈이 보이는 리얼타임  return 받은값\n"
     ]
    },
    {
     "name": "stderr",
     "output_type": "stream",
     "text": [
      "C:\\Users\\user\\anaconda3\\envs\\py38_64\\lib\\site-packages\\urllib3\\connectionpool.py:981: InsecureRequestWarning: Unverified HTTPS request is being made to host 'news.mt.co.kr'. Adding certificate verification is strongly advised. See: https://urllib3.readthedocs.io/en/latest/advanced-usage.html#ssl-warnings\n",
      "  warnings.warn(\n"
     ]
    },
    {
     "name": "stdout",
     "output_type": "stream",
     "text": [
      "EUC-KR\n",
      "1877 start\n",
      "http://news.heraldcorp.com/view.php?ud=20210318000938 : 한화그룹이 니콜라 주식 지분 중 절반을 매각하기로 했다고 니콜라가 17일(현지시간) 밝혔다. 블룸버그통신은 미 증권당국에 제출된 서류를 인용해 한화 측이 니콜라 주식 지분 중 1105만주를 매각할 계획이라고...\n",
      "UTF-8\n",
      "290 start\n",
      "한화그룹이 니콜라 주식 지분 중 절반을 매각하기로 했다고 니콜라가 17일현지시간 밝혔다블룸버그통신은 미 증권당국에 제출된 서류를 인용해 한화 측이 니콜라 주식 지분 중 1105만주를 매각할 계획이라고 보도했다니콜라는 한화 측의 이번 지분 매각과 관련해 한화는 전략적 파트너로 계속 남아 이사회에서도 적극적인 역할을 할 것이라면서 한화가 향후 청정에너지 생산용 발전에 필요한 태양광 패널도 제공할 것이라고 설명했다한화 측도 6월 9일에서 12월 10일 사이에 매각할 계획이며 매각 지분이 절반에 못 미칠 수도 있다고 말한 것으로 전해졌다 매각 물량은 17일 종가1639달러 기준으로 최대 1억8000만달러약 2023억원에 달한다다만 이번 지분 매각으로 니콜라와의 협력 관계가 끝나는 것은 아니라는 입장을 밝힌 것으로 전해졌다앞서 한화에너지와 한화종합화학은 2018년 11월 약 5000만달러씩 총 1억달러를 니콜라에 투자해 613의 지분을 보유하고 있다 한화솔루션은 한화종합화학 지분 3605를 보유하고 있어 한화솔루션의 미국 수소 생태계 시장 진출 기대감에 주가가 크게 움직이기도 했다그러나 지난해 공매도 업체 힌덴버그 리서치의 보고서 발간 이후 니콜라는 사기 논란에 휩싸이면서 최근 주요 사업 파트너들이 등을 돌리는 움직임을 보여왔다미국 자동차회사 제너럴모터스GM는 지난해 12월 니콜라 지분 인수를 포기했으며 니콜라와 함께 만들기로 했던 픽업트럭 배저 생산 계획을 철회했다joze return 받은값\n",
      "UTF-8\n",
      "290 start\n"
     ]
    },
    {
     "name": "stderr",
     "output_type": "stream",
     "text": [
      "C:\\Users\\user\\anaconda3\\envs\\py38_64\\lib\\site-packages\\urllib3\\connectionpool.py:981: InsecureRequestWarning: Unverified HTTPS request is being made to host 'search.naver.com'. Adding certificate verification is strongly advised. See: https://urllib3.readthedocs.io/en/latest/advanced-usage.html#ssl-warnings\n",
      "  warnings.warn(\n"
     ]
    },
    {
     "name": "stdout",
     "output_type": "stream",
     "text": [
      "http://star.mk.co.kr/new/view.php?mc=ST&year=2021&no=261326 : 김민정이 과거 주식투자 경험을 밝혔다. 18일 방송된 MBC ‘개미의 꿈’에서는 방송인 김민정의 주식 인생 그래프가 공개됐다. 이날 MC 김구라는 김민정에게 “어렸을 때부터 엄마랑 주식 시장을 다녔다고?”라고...\n"
     ]
    },
    {
     "name": "stderr",
     "output_type": "stream",
     "text": [
      "C:\\Users\\user\\anaconda3\\envs\\py38_64\\lib\\site-packages\\urllib3\\connectionpool.py:981: InsecureRequestWarning: Unverified HTTPS request is being made to host 'www.mk.co.kr'. Adding certificate verification is strongly advised. See: https://urllib3.readthedocs.io/en/latest/advanced-usage.html#ssl-warnings\n",
      "  warnings.warn(\n"
     ]
    },
    {
     "name": "stdout",
     "output_type": "stream",
     "text": [
      "{'http-equiv': 'Content-Type', 'content': 'text/html; charset=euc-kr'}\n",
      "content:text/html; charset=euc-kr\n",
      "euc-kr\n",
      "412 start\n",
      "김민정이 과거 주식투자 경험을 밝혔다 18일 방송된 MBC 개미의 꿈’에서는 방송인 김민정의 주식 인생 그래프가 공개됐다 이날 MC 김구라는 김민정에게 “어렸을 때부터 엄마랑 주식 시장을 다녔다고”라고 물었고 김민정은 “조기 교육을 확실히 받았다 그 기억이 생생하다”고 말했다김민정은 “45살 때부터 엄마랑 손잡고 주식 객장을 다녔다”며 “제가 직접 들어간 건 2006년이다 제 첫주는 조선주였다 그 다음부터 쭉쭉 너무 좋아졌다 너도나도 들어올 때였다”고 설명했다 또 김민정은 “아르바이트를 해서 종잣돈을 모아서 상선에 투자했다 그 당시 140만 원을 했다 몰빵이었다 단타였다 수익을 조금 보고 빠졌다”고 이야기했다 하지만 이내 “2007년 7월 15일 코스피 2000P가 돌파했다 이때 장이 뜨거워서 엄마에게 추천했다 엄마가 아버지 몰래 비상금 500만 원으로 장기투자했는데 휴짓조각이 됐다”고 털어놨다 김민정은 “학업에 집중을 못 하겠더라 매일 보게 됐다 미국 주식을 보고 비상장 주식을 보게 되니까 피폐해지더라”고 말했다 그는 “저는 이런 소스가 아르바이트에서 나왔다 MBA 유학 컨설팅에서 국문 교정 아르바이트를 했다 MBA 가려고 하는 분들은 기업에 중추인 분들이지 않나 귀를 열고 그분들의 정보를 들었다 2008년에 다 뺐다”고 이야기했다 skyb1842 return 받은값\n"
     ]
    },
    {
     "name": "stderr",
     "output_type": "stream",
     "text": [
      "C:\\Users\\user\\anaconda3\\envs\\py38_64\\lib\\site-packages\\urllib3\\connectionpool.py:981: InsecureRequestWarning: Unverified HTTPS request is being made to host 'www.mk.co.kr'. Adding certificate verification is strongly advised. See: https://urllib3.readthedocs.io/en/latest/advanced-usage.html#ssl-warnings\n",
      "  warnings.warn(\n"
     ]
    },
    {
     "name": "stdout",
     "output_type": "stream",
     "text": [
      "{'http-equiv': 'Content-Type', 'content': 'text/html; charset=euc-kr'}\n",
      "content:text/html; charset=euc-kr\n",
      "euc-kr\n",
      "412 start\n",
      "http://www.xportsnews.com/?ac=article_view&entry_id=1402541 : 주식 고수 이정윤이 주식 시장 3년 만에 100억을 달성한 비법을 공개했다. 또 전 아나운서 김민정이 주식 실패담을 털어놨다. 지난 18일 방송된 MBC 파일럿 예능프로그램 '개미의 꿈'에는 세무사 출신 주식고수 이정윤과...\n",
      "UTF-8\n",
      "221 start\n",
      "주식 고수 이정윤이 주식 시장 3년 만에 100억을 달성한 비법을 공개했다 또 전 아나운서 김민정이 주식 실패담을 털어놨다 지난 18일 방송된 MBC 파일럿 예능프로그램 개미의 꿈에는 세무사 출신 주식고수 이정윤과 전 아나운서 김민정이 게스트로 출연했다 이날 이정윤은 주식 시작 3년 만에 100억을 달성했다고 밝혀 놀라움을 자아냈다 이정윤은 처음엔 10만 원으로 계좌를 만들었다 돈이 없는 상태여서 매달 월급을 넣어 자본금을 조금씩 불렸다라고 투자금에 대해 설명했다 이에 장동민이 월급이 몇천만 원 아니냐고 묻자 이정윤은 IMF 직후 주식을 시작해 운이 좋았다 2배가 나는 종목이 매일 나왔다라고 설명했다 또한 이정윤은 수요가 많은 종목의 이유를 파악한다면 좋은 종목을 고를 수 있다고 생각했다며 수요와 공급의 법칙에 주목했다고 전했다 그러면서 재무제표의 중요성을 언급했다 이정윤은 기업의 가치가 나와있는 재무제표를 확인한다 이익성 성장성 안정성 세가 지를 본 후 정보 분석을 한다고 밝혔다 더불어 이정윤은 투자금이 크다면 810종목 더 크게는 15종목을 가지는 것도 좋다 업종을 먼저 골라봐라고 조언했다 김민정은 주식 조기교육을 확실하게 받았다고 전했다 김민정은 기억이 생생하다 45살 때부터 엄마 손을 잡고 주식 객장을 다녔다 예전에는 전광판이 있었고 엄마가 종이에 써서 거래를 하셨다고 이야기했다 이어 “첫 주는 조선주였다 그다음부터 계속 좋아졌다”며 “이후 아르바이트를 해 종잣돈을 모아 상선에 투자했다 그 당시 140만 원을 몰빵했다 돈을 잃을까봐 단타로 수익을 봤었다”라고 설명했다 그러면서 김민정은 2007년 7월 코스피 지수 2000P를 돌파했을 때 그 종목이 정말 괜찮은 것 같아서 어머니께 추천했다 어머니가 500만 원 비상금을 넣었다 장기 투자하는 어머니가 이 종목을 가지고 있다가 휴짓조각이 됐다며 실패담도 털어놨다 또한 2011년 KBS 아나운서로 입사했던 김민정은 “KBS 퇴사 후 퇴직금을 받았는데 지금은 다 쓰고 없다 다 썼다”라며 “여행도 가고 어느 순간 없어졌다라고 털어놔 시선을 끌었다 ener return 받은값\n",
      "UTF-8\n",
      "221 start\n",
      "http://www.edaily.co.kr/news/newspath.asp?newsid=02069686628984632 : 제롬 파월 미 연방준비제도(Fed·연준) 의장이 일관된 메시지로 시장 신뢰를 확고히 하면서 미국 뿐 아니라 국내 금융시장도 안도하는 모습이다. 미국 증시가 급등한데 이어 국내에서도 주가·원화·채권 값이 동반...\n"
     ]
    },
    {
     "name": "stderr",
     "output_type": "stream",
     "text": [
      "C:\\Users\\user\\anaconda3\\envs\\py38_64\\lib\\site-packages\\urllib3\\connectionpool.py:981: InsecureRequestWarning: Unverified HTTPS request is being made to host 'www.edaily.co.kr'. Adding certificate verification is strongly advised. See: https://urllib3.readthedocs.io/en/latest/advanced-usage.html#ssl-warnings\n",
      "  warnings.warn(\n",
      "C:\\Users\\user\\anaconda3\\envs\\py38_64\\lib\\site-packages\\urllib3\\connectionpool.py:981: InsecureRequestWarning: Unverified HTTPS request is being made to host 'www.edaily.co.kr'. Adding certificate verification is strongly advised. See: https://urllib3.readthedocs.io/en/latest/advanced-usage.html#ssl-warnings\n",
      "  warnings.warn(\n"
     ]
    },
    {
     "name": "stdout",
     "output_type": "stream",
     "text": [
      "utf-8\n",
      "914 start\n",
      "제롬 파월 미 연방준비제도Fed·연준 의장이 일관된 메시지로 시장 신뢰를 확고히 하면서 미국 뿐 아니라 국내 금융시장도 안도하는 모습이다 미국 증시가 급등한데 이어 국내에서도 주가·원화·채권 값이 동반 상승하는 트리플 강세’가 나타나고 있다 18일 코스피 지수 변동 추이18일 우리나라 시간 기준 새벽 3시경 연준의 FOMC 회의 결과를 발표 파월 의장의 완화적dovish인 발언에 국내 시장에서도 주가·원화·채권값이 상승하는 트리플 강세’로 이어졌다 코스피 시장에서는 외국인이 4거래일 만에 순매수세로 전환하면서 코스피 지수가 지난 3일308299 이후 약 11거래일 만에 3070선을 돌파해 상승세다 국내 주가 상승세는 다우 지수 신고점 경신 등 뉴욕 시장의 온기를 이어받은 영향이다 간밤 뉴욕시장에서 주가는 상승 미 국채금리는 상승폭을 축소 달러는 약세를 보였다 미국 뉴욕증권거래소에서 다우존스 30 산업평균지수는 전거래일 대비 058 상승한 3만301537에 거래를 마쳐 처음으로 3만3000선을 넘었다 스탠더드앤드푸어스SP 500 지수는 029 오른 397412에 마감했다 기술주 중심의 나스닥 지수는 040 오른 1만352520을 기록했다 위험선호 재개에 따른 미 달러화 약세에 원·달러 환율은 1120원대 초반으로 내려 앉아 원화가 상대적 강세를 보이고 있다 미 달러화는 FOMC 발표 전 금리 상승 영향으로 강세를 보이다 회의 직후 내용이 다소 완화적이라는 인식 등으로 전일 대비 05 하락하며 약세로 전환하는 모습을 보였다원화 채권 시장에서도 미 국채 10년물 금리가 상승폭을 축소하고 16 초반대에 하향 안정한 영향을 받아 국채 금리 장단기물이 모두 전일 대비 하락하며 채권 값은 오름세를 보이는 중이다 국채 3년물 5년물 금리는 전일 대비 0053포인트 0033포인트 하락한 연 1127 1606를 기록하고 있다 국채 10년물과 20년물 역시 각각 0017포인트 0006포인트 내린 21 초반대를 보이고 있다 일주일 전까지만 해도 코스피는 3개월 만에 원화가치는 5개월 만에 최저점을 기록했었다 시장 금리의 지표가 되는 3년 만기 국고채 금리 역시 약 1년여 만에 연 12대로 올라 채권 가격은 떨어지는 트리플 약세 상황을 보였지만 FOMC 회의 결과로 단번에 상황이 뒤집어진 것이다 제롬 파월 미국 연방준비제도Fed 의장이 1617일현지시간 연방공개시장위원회FOMC 정례회의 직후  return 받은값\n"
     ]
    },
    {
     "name": "stderr",
     "output_type": "stream",
     "text": [
      "C:\\Users\\user\\anaconda3\\envs\\py38_64\\lib\\site-packages\\urllib3\\connectionpool.py:981: InsecureRequestWarning: Unverified HTTPS request is being made to host 'www.edaily.co.kr'. Adding certificate verification is strongly advised. See: https://urllib3.readthedocs.io/en/latest/advanced-usage.html#ssl-warnings\n",
      "  warnings.warn(\n",
      "C:\\Users\\user\\anaconda3\\envs\\py38_64\\lib\\site-packages\\urllib3\\connectionpool.py:981: InsecureRequestWarning: Unverified HTTPS request is being made to host 'www.edaily.co.kr'. Adding certificate verification is strongly advised. See: https://urllib3.readthedocs.io/en/latest/advanced-usage.html#ssl-warnings\n",
      "  warnings.warn(\n"
     ]
    },
    {
     "name": "stdout",
     "output_type": "stream",
     "text": [
      "utf-8\n",
      "914 start\n",
      "https://www.hankyung.com/finance/article/202103189024i : 주식시장이 주춤하면서 장외시장으로 몰려가는 투자자들이 많아지고 있다. 기업공개(IPO)를 앞둔 비상장... 장외주식도 유동성의 효과로 올랐다는 얘기다. 마켓컬리의 경우 작년초 주가는 1만8000원 수준이었다. 하지만...\n",
      "UTF-8\n"
     ]
    },
    {
     "name": "stderr",
     "output_type": "stream",
     "text": [
      "C:\\Users\\user\\anaconda3\\envs\\py38_64\\lib\\site-packages\\urllib3\\connectionpool.py:981: InsecureRequestWarning: Unverified HTTPS request is being made to host 'www.hankyung.com'. Adding certificate verification is strongly advised. See: https://urllib3.readthedocs.io/en/latest/advanced-usage.html#ssl-warnings\n",
      "  warnings.warn(\n",
      "C:\\Users\\user\\anaconda3\\envs\\py38_64\\lib\\site-packages\\urllib3\\connectionpool.py:981: InsecureRequestWarning: Unverified HTTPS request is being made to host 'www.hankyung.com'. Adding certificate verification is strongly advised. See: https://urllib3.readthedocs.io/en/latest/advanced-usage.html#ssl-warnings\n",
      "  warnings.warn(\n"
     ]
    },
    {
     "name": "stdout",
     "output_type": "stream",
     "text": [
      "1076 start\n",
      "주식시장이 주춤하면서 장외시장으로 몰려가는 투자자들이 많아지고 있다 기업공개IPO를 앞둔 비상장 기업들의 주가가 급등하면서 과열을 우려하는 목소리도 커지고 있다18일 코스피지수는 061 오른 306601에 마감했다 연초부터 3000포인트 오르내리며 박스권을 그리고 있다 하지만 장외시장은 유례없는 활황이다 투자금이 기대수익이 낮아진 제도권에서 장외시장으로 옮겨가고 있기 때문으로 분석된다 서울거래소 비상장에 따르면 숙박예약 업체인 야놀자 주가는 올해만 273가 올랐다 최근 한달 동안만 두배가 오르면서 시가총액이 7조2947억원으로 불어났다 마켓컬리도 올해 1137가 올랐다 주가는 5만7000원대인데 호가가 810만원이어서 더 오를 가능성도 있다 코로나19 이후와 비교하면 상승폭이 더 크다 장외주식도 유동성의 효과로 올랐다는 얘기다 마켓컬리의 경우 작년초 주가는 1만8000원 수준이었다 하지만 밸류에이션 측정이 어려운 장외주식 특성상 투자열기가 지속되고 있다는 분석이다 벤처업계에서도 위험성을 경고하고 있다 한 벤처캐피탈VC 관계자는 “좋은 기업은 많지만 밸류에이션을 보면 투자가 망설여진다”고 했다 주가가 급등하면서 거래소간 가격이 벌어지는 경우도 있다 이 관계자는 “똑같은 종목인데 가격이 다른 것도 자주 보일 정도”라고 했다이럴때일수록 장기적 관점에서 투자할 기업을 골라야 한다는 조언이다 따따상’ 또는 따상’ 등을 노리고 프리IPO에 투자하기보다 성공할만한 벤처기업에 투자하라는 것이다 전문가들은 비상장 주식에 투자할때 두가지 원칙을 명심해야 한다고 강조했다 첫번째로 상장기업과 시가총액을 비교하는 것이다 만약 카카오뱅크나 비바리퍼블리카토스에 투자를 생각하면 유가증권시장에 상장된 시중은행들과 시총을 비교해야 한다는 얘기다 게임업체 크래프톤의 경우 엔씨소프트 넷마블과 시가총액 매출 영업이익 등을 비교해볼 수 있다 공신력 있는 기관들이 투자했는지 확인하는 것도 중요하다 개인 투자자들이 비상장 기업을 분석하기 힘들기 때문이다 서울거래소 비상장은 “벤처캐피탈은 재무제표뿐 아니라 일반인이 접근하기 힘든 여러 정보를 통해 기업을 분석한다”며 “기존에 투자성공 사례가 많은 벤처캐피탈의 심사를 통과한 기업이라면 투자해볼 만한 기업이라 볼 수 있다”고 설명했다 박의명  return 받은값\n",
      "UTF-8\n",
      "1076 start\n",
      "https://www.hankyung.com/finance/article/2021031746951 : 한국 투자자들이 쿠팡 주식 상장 이후 이틀간 700억원 넘게 사들인 것으로 나타났다. 실생활에서 투자... 쿠팡 주식을 순매수했다. 상장 당일인 전날에는 3397만달러(약 383억원)어치를 사들였다. 이틀간 순매수액은...\n"
     ]
    },
    {
     "name": "stderr",
     "output_type": "stream",
     "text": [
      "C:\\Users\\user\\anaconda3\\envs\\py38_64\\lib\\site-packages\\urllib3\\connectionpool.py:981: InsecureRequestWarning: Unverified HTTPS request is being made to host 'www.hankyung.com'. Adding certificate verification is strongly advised. See: https://urllib3.readthedocs.io/en/latest/advanced-usage.html#ssl-warnings\n",
      "  warnings.warn(\n"
     ]
    },
    {
     "name": "stdout",
     "output_type": "stream",
     "text": [
      "UTF-8\n",
      "1085 start\n",
      "한국 투자자들이 쿠팡 주식 상장 이후 이틀간 700억원 넘게 사들인 것으로 나타났다 실생활에서 투자 아이디어를 얻는 개인투자자들이 쿠팡 상장에 맞춰 대거 매수에 나선 것으로 풀이된다17일 한국예탁결제원에 따르면 한국 투자자들은 쿠팡 상장 이틀째인 지난 12일 3478만달러약 393억원어치 쿠팡 주식을 순매수했다 상장 당일인 전날에는 3397만달러약 383억원어치를 사들였다 이틀간 순매수액은 총 6875만달러약 776억원에 달한다 이틀 연속으로 한국 투자자들이 가장 많이 순매수한 해외 종목이다상장 후 쿠팡 주식은 오르락내리락 하고 있다 16일 뉴욕증권거래소NYSE에서 전날보다 658 떨어진 4713달러에 거래를 마쳤다 상장 후 430 떨어졌다김범석 쿠팡 이사회 의장의 주식 매도 소식이 악재로 작용했다 앞서 15일 김 의장은 클래스A 주식 120만 주를 매도했다고 미국 증권거래위원회SEC 공시 사이트에 공시했다 매도 가격은 주당 35달러로 총 4200만달러약 474억원 규모다고윤상  return 받은값\n"
     ]
    },
    {
     "name": "stderr",
     "output_type": "stream",
     "text": [
      "C:\\Users\\user\\anaconda3\\envs\\py38_64\\lib\\site-packages\\urllib3\\connectionpool.py:981: InsecureRequestWarning: Unverified HTTPS request is being made to host 'www.hankyung.com'. Adding certificate verification is strongly advised. See: https://urllib3.readthedocs.io/en/latest/advanced-usage.html#ssl-warnings\n",
      "  warnings.warn(\n"
     ]
    },
    {
     "name": "stdout",
     "output_type": "stream",
     "text": [
      "UTF-8\n",
      "1085 start\n",
      "http://sports.khan.co.kr/news/sk_index.html?art_id=202103190000013&sec_id=540201&pt=nv : 김민정 전 KBS 아나운서가 퇴직금 탕진과 주식투자 실패담을 방송에서 공개했다. 지난 18일 MBC 파일럿 버라이어티 토크쇼 ‘개미의 꿈’ 두 번째 이야기가 펼쳐졌다. 김 전 아나운서는 “(학창시절)주식투자를 하다가...\n",
      "euc_kr\n",
      "783 start\n",
      "김민정 전 KBS 아나운서가 퇴직금 탕진과 주식투자 실패담을 방송에서 공개했다 지난 18일 MBC 파일럿 버라이어티 토크쇼 개미의 꿈’ 두 번째 이야기가 펼쳐졌다 김 전 아나운서는 “학창시절주식투자를 하다가 학업과 취업 준비로 인해 공부에 집중했다”고 밝혔다 그는 “KBS 퇴사 후 퇴직금을 받았는데 지금은 다 쓰고 없다 다 썼다”며 “여행 갔었고어느 순간 없어졌다”고 털어놨다 김민정 전 아나운서는 또 “주식을 하면서 학업에 집중을 못하겠더라 그때 국내 미국 비상장 주식까지 욕심 내면서 제가 피폐해졌다 계속 봐서 힘들었다”고 말했다 김민정은 첫 주식 투자는 2006년에 했다고 말했다 김민정 아나운서는 “첫주는 조선주였고 다음부터 쭉쭉 너무 좋아졌다”며 “아르바이트 해서 종잣돈을 모아서 상선에 투자했다“고 말했다 이어 “당시 140만원 몰빵 했고 수입 조금 보고 빠졌다”고 말했다 김민정은 “그런데 2007년 7월 15일 코스피 2000P가 돌파했다”며 “장이 뜨거워 엄에게 추천했고 엄마가 아버지 몰래 비상금 500만 원으로 장기투자했는데 휴짓조각이 됐다”고 말했다 김민정 전 아나운서는 2011년 KBS 38기 아나운서로 입사했고 2019년 퇴사했다 개미의 꿈’은 저금리 시대를 맞아 주식 투자에 뛰어든 일명 개미’들의 꿈을 이루고자 모인 연예계 주린이들과 경제계 조지클루니라 불리는 김동환 대표 증권계 윤종신이라 불리는 박병창 부장 등 대한민국 톱 주식 전문가들과 함께 주린이라면 반드시 알아야 할 주식 정보를 배우는 경제 예능 프로그램이다 ⓒ 스포츠경향 경향닷컴 무단 전재 및 재배포 금지 >Pese cive JvScri for wrie coen in LiveRe 오늘의 명장면 겨울에 꼭 들어야 할 K캐롤 뭐가 있을까 동영상 시청률만으론 따질 수 없는 드라마 사이코지만 괜찮아’ 동영상 380만 유튜버 쏘영이 3년 만에 배우로 컴백한 이유는 동영상 트와이스부터 세븐틴까지 아이돌 MBTI로 보는 성격 동영상 오늘의 핫클릭 유혈낭자 끔찍한 쿵푸 축구’ 양승남  return 받은값\n",
      "euc_kr\n",
      "783 start\n",
      "https://www.seoul.co.kr/news/newsView.php?id=20210319018029&wlog_tag3=naver : 한화가 ‘사기 논란’이 불거진 미국 수소트럭 업체 니콜라의 지분 절반을 팔기로 했다. 한화는 수소사업 투자금을 마련하기 위한 매각일 뿐 협력 관계는 유지한다고 밝혔지만, 손절을 위한 수순이 아니냐는 시선도...\n"
     ]
    },
    {
     "name": "stderr",
     "output_type": "stream",
     "text": [
      "C:\\Users\\user\\anaconda3\\envs\\py38_64\\lib\\site-packages\\urllib3\\connectionpool.py:981: InsecureRequestWarning: Unverified HTTPS request is being made to host 'www.seoul.co.kr'. Adding certificate verification is strongly advised. See: https://urllib3.readthedocs.io/en/latest/advanced-usage.html#ssl-warnings\n",
      "  warnings.warn(\n"
     ]
    },
    {
     "name": "stdout",
     "output_type": "stream",
     "text": [
      "{'http-equiv': 'content-type', 'content': 'text/html;   charset=euc-kr'}\n",
      "{'http-equiv': 'X-UA-Compatible', 'content': 'IE=edge,chrome=1'}\n",
      "{'http-equiv': 'Cache-Control', 'content': 'no-cache'}\n",
      "{'name': 'referrer', 'content': 'unsafe-url'}\n",
      "{'property': 'fb:pages', 'name': 'fb:pages', 'content': '264054780362220'}\n",
      "{'property': 'fb:app_id', 'name': 'fb:app_id', 'content': '349779462971199'}\n",
      "{'name': 'kakao:app_id', 'property': 'kakao:app_id', 'content': '4283795867fb5070359e8bcd1aa07a2d'}\n",
      "{'property': 'og:url', 'name': 'og:url', 'content': 'https://www.seoul.co.kr/news/newsView.php?id=20210319018029'}\n",
      "{'property': 'og:site_name', 'name': 'og:site_name', 'content': '서울신문'}\n",
      "{'property': 'og:title', 'name': 'og:title', 'content': '한화, 니콜라서 발빼나… 사기 논란 후 보유주식 절반 매각'}\n",
      "{'property': 'og:type', 'name': 'og:type', 'content': 'article'}\n",
      "{'property': 'article:author', 'name': 'article:author', 'content': 'https://www.seoul.co.kr'}\n",
      "{'property': 'article:publisher', 'name': 'article:publisher', 'content': 'https://www.seoul.co.kr'}\n",
      "{'property': 'og:image', 'name': 'og:image', 'content': 'https://img.seoul.co.kr/img/facebook.png'}\n",
      "{'property': 'og:description', 'name': 'og:description', 'content': '한화가 ‘사기 논란’이 불거진 미국 수소트럭 업체 니콜라의 지분 절반을 팔기로 했다. 한화는 수소사업 투자금을 마련하기 위한 매각일 뿐 협력 관계는 유지한다고 밝혔지만, 손절을 위한 수순이 아니냐는 시선도 적지 않다.니콜라는 17일(현지시간) 한화가 보유한 지분 50%, 1105만주를 매각할 계획이라고 공시했다. 지분 가치는 이날 종가 ...'}\n",
      "{'name': 'description', 'content': ' 한화가 ‘사기 논란’이 불거진 미국 수소트럭 업체 니콜라의 지분 절반을 팔기로 했다. 한화는 수소사업 투자금을 마련하기 위한 매각일 뿐 협력 관계는 유지한다고 밝혔지만, 손절을 위한 수순이 아니냐는 시선도 적지 않다.니콜라는 17일(현지시간) 한화가 보유한 지분 50%, 1105만주를 매각할 계획이라고 공시했다. 지분 가치는 이날 종가 ... '}\n",
      "ISO-8859-1\n",
      "¼­¿ï½Å¹® ÇÑÈ­ ´ÏÄÝ¶ó¼­ ¹ß»©³ª¡¦ »ç±â ³í¶õ ÈÄ º¸À¯ÁÖ½Ä Àý¹Ý ¸Å°¢ ÀüÃ¼ ¼­¿ï½Å¹®°ø½Ä SNS Ã¤³Î±¸µ¶ ÁÁ¾Æ¿ä ¼­¿ï½Å¹® ºê·£µå ½Å¹®±¸µ¶ Áö¸é PDF ·Î±×ÀÎ °ø½ÄSNSÃ¤³Î Since 1904718 ±â»çÁ¦º¸ºÒÆí½Å°í ´º½ººê·£µå ¼­¿ï½Å¹® ³ª¿ì´º½º ¼­¿ïPn ¼­¿ïEye ¼­¿ïTV ¼­¿ïEn ¼­¿ïºñÁî °ø»ý°ø»ç °øÀÍ¹®È­»ç¾÷ ¼­¿ï¸¶ÄÏ ¼­¿ï°¶·¯¸® ´õºÒ¾î»óÁ¶ ÇÏÇÁ¸¶¶óÅæ Ä¿¹ö´í½º ¹Ì·¡ÄÁÆÛ·±½º »ý¸í°øÇÐÄ·ÇÁ ÆòÈ­¿¬±¸¼Ò ¼­ºñ½º¹®ÀÇ ½Å¹®±¸µ¶ PDF Áö¸éº¸±â µðÁöÅÐÃÊÆÇ º¸µµÀÚ·á Áö¸é±¤°í ¿Â¶óÀÎ±¤°í ¿Á¿Ü±¤°í ¼­¿ï¸¶´ç ´ë°ü °æÁ¦ ÃÖ½Å±â»ç ºÎµ¿»ê ±ÝÀ¶ ÀÚµ¿Â÷ À¯Åë Áõ±Ç IT¡¤ÀÎÅÍ³Ý Á¤Ã¥ Á¤Ä¡ »çÈ¸ °æÁ¦ ±¹Á¦ ¿ÀÇÇ´Ï¾ð Á¤Ã¥¡¤ÀÚÄ¡ ¹®È­¡¤°Ç°­ ±âÈ¹¡¤¿¬Àç ½ºÆ÷Ã÷ ¿¬¿¹ ÇÇÇÃ ´º½º¸¦ ºÎÅ¹ÇØ ¼­¿ï½Å¹®±â»ç ÀüÃ¼º¸±â ÇÑÈ­ ´ÏÄÝ¶ó¼­ ¹ß»©³ª¡¦ »ç±â ³í¶õ ÈÄ º¸À¯ÁÖ½Ä Àý¹Ý ¸Å°¢ ÀÔ·Â 20210318 2226¤Ó ¼öÁ¤ 20210319 0259 ÑÑ»çÀå ÁÖµµ·Î ÅõÀÚ¡¦ Æø·Î ÈÄ ÁÖ°¡ ±Þ¶ô¾çÃø ¡°Çù·Â À¯Áö¡±¡¦ ÀÏ°¢¼± ¡°¼ÕÀý ¼ö¼ø¡± ÇÑÈ­°¡ ¡®»ç±â ³í¶õ¡¯ÀÌ ºÒ°ÅÁø ¹Ì±¹ ¼ö¼ÒÆ®·° ¾÷Ã¼ ´ÏÄÝ¶óÀÇ ÁöºÐ Àý¹ÝÀ» ÆÈ±â·Î Çß´Ù ÇÑÈ­´Â ¼ö¼Ò»ç¾÷ ÅõÀÚ±ÝÀ» ¸¶·ÃÇÏ±â À§ÇÑ ¸Å°¢ÀÏ »Ó Çù·Â °ü°è´Â À¯ÁöÇÑ´Ù°í ¹àÇûÁö¸¸ ¼ÕÀýÀ» À§ÇÑ ¼ö¼øÀÌ ¾Æ´Ï³Ä´Â ½Ã¼±µµ ÀûÁö ¾Ê´Ù´ÏÄÝ¶ó´Â 17ÀÏÇöÁö½Ã°£ ÇÑÈ­°¡ º¸À¯ÇÑ ÁöºÐ 50 1105¸¸ÁÖ¸¦ ¸Å°¢ÇÒ °èÈ¹ÀÌ¶ó°í °ø½ÃÇß´Ù ÁöºÐ °¡Ä¡´Â ÀÌ³¯ Á¾°¡ 1639´Þ·¯ ±âÁØÀ¸·Î 1¾ï 8110¸¸ ´Þ·¯¾à 2035¾ï¿ø ¼öÁØÀÌ´Ù ÇÑÈ­ Ãøµµ ÁöºÐ ¸Å°¢ °èÈ¹À» ÀÎÁ¤Çß´ÙÇÑÈ­ °ü°èÀÚ´Â ¡°¿À´Â 6¿ù ÀÌÈÄ ÁöºÐ ÀÏºÎ¸¦ ºÐÇÒ ¸Å°¢ÇÒ °èÈ¹ÀÌ³ª ¾ó¸¶³ª ¸Å°¢ÇÒÁö´Â ¹ÌÁ¤¡±ÀÌ¶ó°í ¸»Çß´Ù ÀÌ¾î ¡°´ÏÄÝ¶óÀÇ »ç±â ³í¶õ°ú´Â ¹«°üÇÏ°Ô ¼ö¼Ò ¿¡³ÊÁö °ü·Ã »ç¾÷ È®Àå¿¡ ÅõÀÚÇÏ°íÀÚ ÁøÇàÇÏ´Â °Í¡±ÀÌ¶ó°í ¹è°æÀ» ¼³¸íÇß´ÙÇÑÈ­¿¡³ÊÁö¿Í ÇÑÈ­Á¾ÇÕÈ­ÇÐÀº 2018³â 1¾ï ´Þ·¯¾à 1100¾ï¿ø¸¦ ÅõÀÚÇØ ´ÏÄÝ¶ó ÁöºÐ 613¸¦ È®º¸Çß´Ù ±èµ¿°ü ÇÑÈ­¼Ö·ç¼Ç »çÀåÀÌ Æ®·¹¹ö ¹ÐÅÏ Ã¢¾÷ÀÚ¸¦ Á÷Á¢ ¸¸³ª °è¾àÀ» µû³»¸é¼­ ±è »çÀå ÁÖµµÀÇ »ç¾÷ÀÌ¶ó°í Æò°¡¹Þ¾Ò´Ù ´ÏÄÝ¶ó´Â Áö³­ÇØ 6¿ù ³ª½º´Ú¿¡ »óÀåÇÑ Áö ³ªÈê ¸¸¿¡ Á¾°¡ ±âÁØ ÃÖ°í°¡ÀÎ 7973´Þ·¯¸¦ ±â·ÏÇß°í ÇÑÈ­°¡ º¸À¯ÇÑ ÁöºÐ °¡Ä¡µµ 16¾ï ´Þ·¯¾à 1Á¶ 8000¾ï¿ø·Î 16¹è ¶Ù´Â ¡®´ë¹Ú¡¯ÀÌ ³µ´Ù ÇÏÁö¸¸ Áö³­ÇØ 9¿ù ¡°´ÏÄÝ¶óÀÇ ¼ö¼ÒÆ®·°Àº ½ÇÃ¼ ¾ø´Â »ç±â¡±¶ó´Â Æø·Î°¡ ³ª¿À¸é¼­ ÁÖ°¡´Â ±Þ¶ôÇß°í ÇöÀç 1639´Þ·¯±îÁö ÁÖÀú¾É¾Ò´Ù¾÷°è¿¡¼­´Â ÇÑÈ­°¡ »ç±â ³í¶õ¿¡ ÈÛ½ÎÀÎ ´ÏÄÝ¶ó·ÎºÎÅÍ ¹ßÀ» »©·Á´Â ½ÃµµÀÏ °¡´É¼º¿¡ ¹«°Ô¸¦ ½Æ°í ÀÖ´Ù ³í¶õ ÀÌÈÄ ¹Ì±¹ Á¦³Ê·²¸ðÅÍ½ºGM´Â ´ÏÄÝ¶óÀÇ ÁöºÐ ÃëµæÀ» Æ÷±âÇß°í µ¶ÀÏ ºÎÇ°¾÷Ã¼ º¸½´µµ ´ÏÄÝ¶ó ÁöºÐÀ» ÁÙ¿´´Ù ÇÏÁö¸¸ ÇÑÈ­ ÃøÀº ¡°´ÏÄÝ¶ó¿ÍÀÇ Àü·«Àû ÆÄÆ®³Ê½Ê¿¡´Â º¯µ¿ÀÌ ¾ø´Ù¡±°í ¼³¸íÇß´Ù ´ÏÄÝ¶ó Ãø ¿ª½Ã ¡°ÇÑÈ­´Â ¿©ÀüÈ÷ ´ÏÄÝ¶ó ÀÌ»çÈ¸¿¡¼­ Àû±ØÀûÀÎ ¿ªÇÒÀ» ¼öÇàÇÏ°í ÀÖ´Ù¡±°í ¹àÇû´Ù ÀÌ¿µÁØ ±âÀÚ he return 받은값\n"
     ]
    },
    {
     "name": "stderr",
     "output_type": "stream",
     "text": [
      "C:\\Users\\user\\anaconda3\\envs\\py38_64\\lib\\site-packages\\urllib3\\connectionpool.py:981: InsecureRequestWarning: Unverified HTTPS request is being made to host 'www.seoul.co.kr'. Adding certificate verification is strongly advised. See: https://urllib3.readthedocs.io/en/latest/advanced-usage.html#ssl-warnings\n",
      "  warnings.warn(\n"
     ]
    },
    {
     "name": "stdout",
     "output_type": "stream",
     "text": [
      "{'http-equiv': 'content-type', 'content': 'text/html;   charset=euc-kr'}\n",
      "{'http-equiv': 'X-UA-Compatible', 'content': 'IE=edge,chrome=1'}\n",
      "{'http-equiv': 'Cache-Control', 'content': 'no-cache'}\n",
      "{'name': 'referrer', 'content': 'unsafe-url'}\n",
      "{'property': 'fb:pages', 'name': 'fb:pages', 'content': '264054780362220'}\n",
      "{'property': 'fb:app_id', 'name': 'fb:app_id', 'content': '349779462971199'}\n",
      "{'name': 'kakao:app_id', 'property': 'kakao:app_id', 'content': '4283795867fb5070359e8bcd1aa07a2d'}\n",
      "{'property': 'og:url', 'name': 'og:url', 'content': 'https://www.seoul.co.kr/news/newsView.php?id=20210319018029'}\n",
      "{'property': 'og:site_name', 'name': 'og:site_name', 'content': '서울신문'}\n",
      "{'property': 'og:title', 'name': 'og:title', 'content': '한화, 니콜라서 발빼나… 사기 논란 후 보유주식 절반 매각'}\n",
      "{'property': 'og:type', 'name': 'og:type', 'content': 'article'}\n",
      "{'property': 'article:author', 'name': 'article:author', 'content': 'https://www.seoul.co.kr'}\n",
      "{'property': 'article:publisher', 'name': 'article:publisher', 'content': 'https://www.seoul.co.kr'}\n",
      "{'property': 'og:image', 'name': 'og:image', 'content': 'https://img.seoul.co.kr/img/facebook.png'}\n",
      "{'property': 'og:description', 'name': 'og:description', 'content': '한화가 ‘사기 논란’이 불거진 미국 수소트럭 업체 니콜라의 지분 절반을 팔기로 했다. 한화는 수소사업 투자금을 마련하기 위한 매각일 뿐 협력 관계는 유지한다고 밝혔지만, 손절을 위한 수순이 아니냐는 시선도 적지 않다.니콜라는 17일(현지시간) 한화가 보유한 지분 50%, 1105만주를 매각할 계획이라고 공시했다. 지분 가치는 이날 종가 ...'}\n",
      "{'name': 'description', 'content': ' 한화가 ‘사기 논란’이 불거진 미국 수소트럭 업체 니콜라의 지분 절반을 팔기로 했다. 한화는 수소사업 투자금을 마련하기 위한 매각일 뿐 협력 관계는 유지한다고 밝혔지만, 손절을 위한 수순이 아니냐는 시선도 적지 않다.니콜라는 17일(현지시간) 한화가 보유한 지분 50%, 1105만주를 매각할 계획이라고 공시했다. 지분 가치는 이날 종가 ... '}\n",
      "ISO-8859-1\n",
      "http://news.tvchosun.com/site/data/html_dir/2021/03/19/2021031990043.html : 미래에셋대우의 모바일트레이딩시스템(MTS)이 19일 오전 장 초반 접속 지연 등 장애를 일으켜 투자자들의 불만이 쏟아지고 있다. 이날 미래에셋대우의 MTS는 19일 오전 장 시작부터 오전 10시 20분 현재까지 제대로...\n",
      "{'http-equiv': 'Content-Type', 'content': 'text/html; charset=utf-8'}\n",
      "content:text/html; charset=utf-8\n",
      "utf-8\n",
      "215 start\n",
      "미래에셋대우의 모바일트레이딩시스템MTS이 19일 오전 장 초반 접속 지연 등 장애를 일으켜 투자자들의 불만이 쏟아지고 있다이날 미래에셋대우의 MTS는 19일 오전 장 시작부터 오전 10시 20분 현재까지 제대로 실행되지 않는 상황이다전날 따상을 기록한 SK바이오사이언스가 가격제한폭까지 오르는 데 실패하면서 차익 실현을 위한 투자자들이 몰렸기 때문인 것으로 보인다인터넷 커뮤니티에는 접속을 못해서 팔지 못하고 있다 장 초반 거래를 못한 것을 누가 책임질거냐는 불만이 잇따랐다미래에셋대우 관계자는 일부 MTS에 접속 오류가 발생했다며 향후 피해가 있는 고객의 경우 관련 규정에 근거해 합리적 보상을 제공할 예정이라고 밝혔다 이정연  return 받은값\n",
      "{'http-equiv': 'Content-Type', 'content': 'text/html; charset=utf-8'}\n",
      "content:text/html; charset=utf-8\n",
      "utf-8\n",
      "215 start\n",
      "https://zdnet.co.kr/view/?no=20210316214028 : 쿠팡 창업자인 김범석 의장이 쿠팡 주식 120만주를 매도했다. 15일(현지시간) 미국 증권거래위원회(SEC)... 김범석 의장은 쿠팡 주식 1억7천480만2천990주를 보유했었는데, 이번에 매도한 자사주는 김 의장 소유 주식...\n",
      "UTF-8\n"
     ]
    },
    {
     "name": "stderr",
     "output_type": "stream",
     "text": [
      "C:\\Users\\user\\anaconda3\\envs\\py38_64\\lib\\site-packages\\urllib3\\connectionpool.py:981: InsecureRequestWarning: Unverified HTTPS request is being made to host 'zdnet.co.kr'. Adding certificate verification is strongly advised. See: https://urllib3.readthedocs.io/en/latest/advanced-usage.html#ssl-warnings\n",
      "  warnings.warn(\n",
      "C:\\Users\\user\\anaconda3\\envs\\py38_64\\lib\\site-packages\\urllib3\\connectionpool.py:981: InsecureRequestWarning: Unverified HTTPS request is being made to host 'zdnet.co.kr'. Adding certificate verification is strongly advised. See: https://urllib3.readthedocs.io/en/latest/advanced-usage.html#ssl-warnings\n",
      "  warnings.warn(\n"
     ]
    },
    {
     "name": "stdout",
     "output_type": "stream",
     "text": [
      "360 start\n",
      "쿠팡 창업자인 김범석 의장이 쿠팡 주식 120만주를 매도했다 15일현지시간 미국 증권거래위원회SEC 공시에 따르면 김 의장은 이날 클래스A보통주 120만주를 매도했다 매도 가격은 주당 35달러로 총 4천200만달러약 475억원 규모다 김범석 의장은 쿠팡 주식 1억7천480만2천990주를 보유했었는데 이번에 매도한 자사주는 김 의장 소유 주식 수의 약 068 정도 된다 관련기사 쿠팡 월가 거물도 투자둘째날 주가는 16↓ 20210313김익현 미디어연구소장 쿠팡 이어 마켓컬리도 美 상장 검토1조 가치 기업” 20210312백봉삼  return 받은값\n",
      "UTF-8\n",
      "360 start\n",
      "https://www.asiatoday.co.kr/view.php?key=20210319010012614 : 연말까지 '웰컴홈 2021' 이벤트 진행 대신증권은 6개월 이상 거래가 없는 휴면고객이 다시 주식거래를 재개하면 3년간 국내주식 온라인 거래 수수료를 할인해주는 ‘웰컴홈 2021’ 이벤트를 연말까지 진행한다고 19일...\n"
     ]
    },
    {
     "name": "stderr",
     "output_type": "stream",
     "text": [
      "C:\\Users\\user\\anaconda3\\envs\\py38_64\\lib\\site-packages\\urllib3\\connectionpool.py:981: InsecureRequestWarning: Unverified HTTPS request is being made to host 'www.asiatoday.co.kr'. Adding certificate verification is strongly advised. See: https://urllib3.readthedocs.io/en/latest/advanced-usage.html#ssl-warnings\n",
      "  warnings.warn(\n",
      "C:\\Users\\user\\anaconda3\\envs\\py38_64\\lib\\site-packages\\urllib3\\connectionpool.py:981: InsecureRequestWarning: Unverified HTTPS request is being made to host 'www.asiatoday.co.kr'. Adding certificate verification is strongly advised. See: https://urllib3.readthedocs.io/en/latest/advanced-usage.html#ssl-warnings\n",
      "  warnings.warn(\n"
     ]
    },
    {
     "name": "stdout",
     "output_type": "stream",
     "text": [
      "UTF-8\n",
      "대신증권 휴먼고객 대상 주식 거래 수수료할인 이벤트 아시아투데이 아시아투데이 네이버 return 받은값\n",
      "UTF-8\n"
     ]
    },
    {
     "name": "stderr",
     "output_type": "stream",
     "text": [
      "C:\\Users\\user\\anaconda3\\envs\\py38_64\\lib\\site-packages\\urllib3\\connectionpool.py:981: InsecureRequestWarning: Unverified HTTPS request is being made to host 'search.naver.com'. Adding certificate verification is strongly advised. See: https://urllib3.readthedocs.io/en/latest/advanced-usage.html#ssl-warnings\n",
      "  warnings.warn(\n"
     ]
    },
    {
     "name": "stdout",
     "output_type": "stream",
     "text": [
      "http://www.newsis.com/view/?id=NISX20210316_0001372820&cID=13001&pID=13000 : 클래스A 주식 120만주를 팔아 4200만 달러(약 475억원) 현금을 확보했다. 쿠팡은 이 내용을 지난 15일(현지 시각) 미국 증권거래위원회(SEC) 공시했다. 매도 가격은 쿠팡 주식 주당 공모가인 35달러다. 김 의장은 클래스B...\n",
      "UTF-8"
     ]
    },
    {
     "name": "stderr",
     "output_type": "stream",
     "text": [
      "C:\\Users\\user\\anaconda3\\envs\\py38_64\\lib\\site-packages\\urllib3\\connectionpool.py:981: InsecureRequestWarning: Unverified HTTPS request is being made to host 'newsis.com'. Adding certificate verification is strongly advised. See: https://urllib3.readthedocs.io/en/latest/advanced-usage.html#ssl-warnings\n",
      "  warnings.warn(\n"
     ]
    },
    {
     "name": "stdout",
     "output_type": "stream",
     "text": [
      "\n",
      "1188 start\n",
      "클래스A 주식 120만주를 팔아 4200만 달러약 475억원 현금을 확보했다 쿠팡은 이 내용을 지난 15일현지 시각 미국 증권거래위원회SEC 공시했다 매도 가격은 쿠팡 주식 주당 공모가인 35달러다 김 의장은 클래스B 보통주 100를 부여받았다 쿠팡 주식은 1주당 의결권 1개가 부여된 일반 보통주인 클래스A와 일반 주식의 29배 의결권이 있는 클래스B로 두 종류로 나뉜다 차등의결권이 주어진 클래스B 주식은 장내 매도를 할 수 없다 김 의장은 이번 주식 매도를 위해 클래스B 주식 120만주를 클래스A 주식으로 전환했다 이에 따라 김 의장의 의결권은 기존 767에서 762로 줄었다 ◎공감언론 뉴시스 jb return 받은값\n",
      "UTF-8\n"
     ]
    },
    {
     "name": "stderr",
     "output_type": "stream",
     "text": [
      "C:\\Users\\user\\anaconda3\\envs\\py38_64\\lib\\site-packages\\urllib3\\connectionpool.py:981: InsecureRequestWarning: Unverified HTTPS request is being made to host 'newsis.com'. Adding certificate verification is strongly advised. See: https://urllib3.readthedocs.io/en/latest/advanced-usage.html#ssl-warnings\n",
      "  warnings.warn(\n"
     ]
    },
    {
     "name": "stdout",
     "output_type": "stream",
     "text": [
      "1188 start\n",
      "http://www.edaily.co.kr/news/newspath.asp?newsid=01869606628984960 : 주식 시작 3년 만에 100억원의 수익을 올린 ‘주식 고수’ 이정윤씨가 자신의 성공담을 전했다. MBC 예능프로그램 ‘개미의 꿈’18일 방송된 MBC ‘개미의 꿈’에는 이정윤씨가 출연했다. 그는 B투자 아카데미 대표로...\n"
     ]
    },
    {
     "name": "stderr",
     "output_type": "stream",
     "text": [
      "C:\\Users\\user\\anaconda3\\envs\\py38_64\\lib\\site-packages\\urllib3\\connectionpool.py:981: InsecureRequestWarning: Unverified HTTPS request is being made to host 'www.edaily.co.kr'. Adding certificate verification is strongly advised. See: https://urllib3.readthedocs.io/en/latest/advanced-usage.html#ssl-warnings\n",
      "  warnings.warn(\n",
      "C:\\Users\\user\\anaconda3\\envs\\py38_64\\lib\\site-packages\\urllib3\\connectionpool.py:981: InsecureRequestWarning: Unverified HTTPS request is being made to host 'www.edaily.co.kr'. Adding certificate verification is strongly advised. See: https://urllib3.readthedocs.io/en/latest/advanced-usage.html#ssl-warnings\n",
      "  warnings.warn(\n"
     ]
    },
    {
     "name": "stdout",
     "output_type": "stream",
     "text": [
      "utf-8\n",
      "808 start\n",
      "주식 시작 3년 만에 100억원의 수익을 올린 주식 고수’ 이정윤씨가 자신의 성공담을 전했다 MBC 예능프로그램 개미의 꿈’18일 방송된 MBC 개미의 꿈’에는 이정윤씨가 출연했다 그는 B투자 아카데미 대표로 주식 투자 부문 최초 트리플 크라운 달성 K증권 투자대회에서 4년 연속 수상한 주식 고수’다 1997년 군 입대 후 10만원으로 주식을 시작한 이씨는 꾸준히 월급을 모아 주식을 매수해 3년 만에 100억원을 만들었다 이씨는 “운이 좋게도 IMF 직후라 모든 게 2배 이상의 수익이 났다”며 “주식시장에서 가격이 오른다는 건 수요가 몰린다는 거다 남들이 매수하는 이유를 알면 좋은 종목을 고를 수 있겠다 싶었다”고 말했다 그는 주식 성공 팁으로 재무제표’를 꼼꼼하게 보라고 조언했다 이씨는 “지라시 같은 정보가 아닌 모두가 아는 정보를 봐라 증권사 리포트나 경제 기사 공시를 봐야 한다”고 말했다 MBC 예능프로그램 개미의 꿈’또한 존버 정신’의 필요성도 강조했다 그는 “마음을 다스리기 위해선 자기 자신에 대한 자신감이 필요하다 제가 생각하는 존버’는 존중하며 버티기’다 자기 자신을 존중해야 한다”라고 말했다 이날 방송에는 이씨의 포트폴리오도 공개됐다 이씨는 “투자금이 적다면 3종목 투자금이 많다면 810종목 15종목까지 사야 한다”고 조언했다또한 증권사 리포트를 하루에 한 번 챙겨볼 것 유명 투자가의 책 5권 읽을 것 컴퓨터로 운영되는 주식거래인 HTS를 활용하라고 전했다 주요 return 받은값\n",
      "utf-8\n"
     ]
    },
    {
     "name": "stderr",
     "output_type": "stream",
     "text": [
      "C:\\Users\\user\\anaconda3\\envs\\py38_64\\lib\\site-packages\\urllib3\\connectionpool.py:981: InsecureRequestWarning: Unverified HTTPS request is being made to host 'www.edaily.co.kr'. Adding certificate verification is strongly advised. See: https://urllib3.readthedocs.io/en/latest/advanced-usage.html#ssl-warnings\n",
      "  warnings.warn(\n",
      "C:\\Users\\user\\anaconda3\\envs\\py38_64\\lib\\site-packages\\urllib3\\connectionpool.py:981: InsecureRequestWarning: Unverified HTTPS request is being made to host 'www.edaily.co.kr'. Adding certificate verification is strongly advised. See: https://urllib3.readthedocs.io/en/latest/advanced-usage.html#ssl-warnings\n",
      "  warnings.warn(\n"
     ]
    },
    {
     "name": "stdout",
     "output_type": "stream",
     "text": [
      "808 start\n",
      "https://www.paxnetnews.com/articles/72003 : BEP 돌파로 장외주식 거래 환경 안정화 구축…개방형 시스템 전환 추진 금융투자협회가 운영중인 국내 유일한 제도권 장외주식 시장인 한국장외거래시장(K-OTC)가 순항하고 있다. 협회의 지속적인 활성화 노력에...\n"
     ]
    },
    {
     "name": "stderr",
     "output_type": "stream",
     "text": [
      "C:\\Users\\user\\anaconda3\\envs\\py38_64\\lib\\site-packages\\urllib3\\connectionpool.py:981: InsecureRequestWarning: Unverified HTTPS request is being made to host 'www.paxnetnews.com'. Adding certificate verification is strongly advised. See: https://urllib3.readthedocs.io/en/latest/advanced-usage.html#ssl-warnings\n",
      "  warnings.warn(\n",
      "C:\\Users\\user\\anaconda3\\envs\\py38_64\\lib\\site-packages\\urllib3\\connectionpool.py:981: InsecureRequestWarning: Unverified HTTPS request is being made to host 'paxnetnews.com'. Adding certificate verification is strongly advised. See: https://urllib3.readthedocs.io/en/latest/advanced-usage.html#ssl-warnings\n",
      "  warnings.warn(\n"
     ]
    },
    {
     "name": "stdout",
     "output_type": "stream",
     "text": [
      "utf-8\n",
      "KOTC 힘 싣는 금투협 팍스넷 return 받은값\n"
     ]
    },
    {
     "name": "stderr",
     "output_type": "stream",
     "text": [
      "C:\\Users\\user\\anaconda3\\envs\\py38_64\\lib\\site-packages\\urllib3\\connectionpool.py:981: InsecureRequestWarning: Unverified HTTPS request is being made to host 'www.paxnetnews.com'. Adding certificate verification is strongly advised. See: https://urllib3.readthedocs.io/en/latest/advanced-usage.html#ssl-warnings\n",
      "  warnings.warn(\n",
      "C:\\Users\\user\\anaconda3\\envs\\py38_64\\lib\\site-packages\\urllib3\\connectionpool.py:981: InsecureRequestWarning: Unverified HTTPS request is being made to host 'paxnetnews.com'. Adding certificate verification is strongly advised. See: https://urllib3.readthedocs.io/en/latest/advanced-usage.html#ssl-warnings\n",
      "  warnings.warn(\n"
     ]
    },
    {
     "name": "stdout",
     "output_type": "stream",
     "text": [
      "utf-8\n",
      "http://www.ggilbo.com/news/articleView.html?idxno=835080 : SK바이오사이언스는 SK케미칼 주식회사의 VAX사업부문을 물적분할하여 설립되었으며, [주식] SK바이오사이언스, 2거래일 연속 강세 +7% SK바이오사이언스가 +7.10%(1만2000원)상승한 18만1000원에 거래되며 강세를 보이고...\n",
      "UTF-8\n",
      "주식 SK바이오사이언스 2거래일 연속 강세 7 < 금융증권 < 경제 < 기사본문 금강일보 주요서비스 바로가기 본문 바로가기 매체정보 바로가기 로그인 바로가기 기사검색 바로가기 전체서비스 바로가기 상단영역  return 받은값\n",
      "UTF-8\n",
      "https://view.asiae.co.kr/article/2021031819030880702 : 펄어비스는 신기술사업금융업 외 종속회사 펄어비스캐피탈의 주식 600만주를 300억원에 추가 취득한다고 18일 공시했다. 주식 취득 뒤 펄어비스의 펄어비스캐피탈 지분율은 100%가 된다. 주식 취득 예정일은 4일이다....\n"
     ]
    },
    {
     "name": "stderr",
     "output_type": "stream",
     "text": [
      "C:\\Users\\user\\anaconda3\\envs\\py38_64\\lib\\site-packages\\urllib3\\connectionpool.py:981: InsecureRequestWarning: Unverified HTTPS request is being made to host 'view.asiae.co.kr'. Adding certificate verification is strongly advised. See: https://urllib3.readthedocs.io/en/latest/advanced-usage.html#ssl-warnings\n",
      "  warnings.warn(\n",
      "C:\\Users\\user\\anaconda3\\envs\\py38_64\\lib\\site-packages\\urllib3\\connectionpool.py:981: InsecureRequestWarning: Unverified HTTPS request is being made to host 'view.asiae.co.kr'. Adding certificate verification is strongly advised. See: https://urllib3.readthedocs.io/en/latest/advanced-usage.html#ssl-warnings\n",
      "  warnings.warn(\n"
     ]
    },
    {
     "name": "stdout",
     "output_type": "stream",
     "text": [
      "utf-8\n",
      "펄어비스 종속사 펄어비스캐피탈 주식 300억에 추가취득 아시아경제 본문 바로가기 br_roress 전체메뉴클릭 중진공SK텔레콤KASAD 中企 데이터활용·스마트공장 활성화 협력 靑 행정관 이하도 투기거래 0의심사례 3건 특수본에 전달종합 SK증권 국내 금융기관 최초 탄소배출권 획득 한국공항공사 상반기 신입 및 경력직원 공개채용 日 닛케이지수 141 하락 마감 김종인 안철수 주말 여론조사 결과 취해보려고 지키지 못할 말 민주당 박형준 추가 의혹 제기10억 대출·영포라인 해명하라 靑 경호처 직원 1명 3기 신도시 토지 매입 확인대기발령 중 靑 2차 조사결과 투기거래 0의심사례 3건 참고자료로 전달 아스트라제네카 백신 접종 계속이번 주말 예방접종전문위 개최상보 검색하기영역 검색하기 페이스북 트위터 카카오플러스친구 로그인하기 로그아웃하기 증권 시황 특징주 종목·공시 파생·채권·외환 글로벌·원자재 기타 전체 왼쪽으로 이동 오른쪽으로 이동 전체메뉴클릭 아시아경제 증권 펄어비스 종속사 펄어비스캐피탈 주식 300억에 추가취득 페이스북 트위터 공유하기 카카오톡 이미지 카카오톡 네이버블로그 이미지 네이버블로그 주소복사 이미지 주소복사 정치 청와대 정당 정부부처 국방·외교 일반 전체 return 받은값\n",
      "utf-8\n",
      "http://news.kbs.co.kr/news/view.do?ncd=5142534&ref=A : 대구의 주식투자 인구가 늘어난 것으로 나타났습니다. 한국예탁결제원의 전국 상장법인 소유자 현황 자료를 보면, 지난 해 말 기준 대구의 주식 투자자수는 41만8천여 명으로 전년 28만7천여 명에 비해 46...\n",
      "UTF-8\n",
      "832 start\n",
      "1130 start\n",
      "대구의 주식투자 인구가 늘어난 것으로 나타났습니다한국예탁결제원의 전국 상장법인 소유자 현황 자료를 보면 지난 해 말 기준 대구의 주식 투자자수는 41만8천여 명으로 전년 28만7천여 명에 비해 46 늘었습니다인구 대비 투자자 비율은 173로 전국 17개 특별 광역자치단체 가운데 서울과 대전 울산에 이어 4번째로 많았습니다경북은 36만9천여 명으로 역시 전년 대비 41 늘었고 인구 대비 투자자 비율은 14로 나타났습니다  return 받은값\n",
      "UTF-8\n",
      "832 start\n",
      "1130 start\n",
      "http://www.businesspost.co.kr/BP?command=article_view&num=222302 : 핀테크 기업 두나무가 모든 직원에게 주식매수선택권(스톡옵션)을 부여한다. 두나무는 회사와 서비스의 발전에 기여한 직원 모두와 결실을 나누기 위해 주식매수선택권을 부여한다고 18일 밝혔다. 두나무는 회사와...\n",
      "UTF-8\n",
      "360 start\n",
      "핀테크 기업 두나무가 모든 직원에게 주식매수선택권스톡옵션을 부여한다 두나무는 회사와 서비스의 발전에 기여한 직원 모두와 결실을 나누기 위해 주식매수선택권을 부여한다고 18일 밝혔다 ▲ 두나무는 회사와 서비스의 발전에 기여한 직원 모두와 결실을 나누기 위해 주식매수선택권을 부여한다고 18일 밝혔다 두나무는 2월 주주총회에서 임직원 186명에게 연봉의 10에 해당하는 주식매수선택권을 부여하기로 의결했다 두나무는 두나무가 디지털자산과 증권 등 각 분야를 대표하는 기업으로 자리매김할 수 있도록 매진해 준 직원들을 격려하고 장기적인 동반성장을 도모하려는 의미라고 설명했다 두나무는 2012년 설립된 블록체인 및 핀테크 전문기업이다 가상화폐거래소 업비트와 비상장 주식거래 플랫폼인 증권플러스 등을 운영하고 있다 두나무 관계자는 “업비트를 비롯해 증권플러스와 증권플러스 비상장 등 두나무의 서비스가 모두 고른 성장세를 보이며 업계 선두에 오른 것은 모든 임직원의 열정과 노력이 있었기 때문“이라며 “앞으로도 구성원들과 나누고 공유하는 기업문화를 만들어가겠다“고 말했다 비즈니스포스트 윤종학  return 받은값\n",
      "UTF-8\n",
      "360 start\n",
      "http://www.newsway.co.kr/news/view?tp=1&ud=2021031914242784287 : 신영증권이 해외주식 거래시스템 개발에 나섰다. 19일 신영증권 관계자는 “회사에서 해외주식 거래시스템을 개발 중”이라고 밝혔다. 그동안 해외 자산의 경우 펀드 등을 통한 간접 투자만 가능했는데, 이제 다양한...\n",
      "UTF-8\n",
      "608 start\n",
      "신영증권이 해외주식 거래시스템 개발에 나섰다 19일 신영증권 관계자는 “회사에서 해외주식 거래시스템을 개발 중”이라고 밝혔다 그동안 해외 자산의 경우 펀드 등을 통한 간접 투자만 가능했는데 이제 다양한 해외 시장의 개별주식을 개인 고객이 직접 온라인으로 거래할 수 있게 될 전망이다 앞서 신영증권은 지난해 9월부터 Gob Sock Reor’를 발간하며 해외 투자 정보 수요에 부응한 바 있다 개별주식 중개 서비스를 회사에서 시작하기 전에도 해외 투자 자산 운용을 비롯해 글로벌 스탁 리포트 등을 통해 국내와 해외 시장 및 주식을 유기적으로 연결한 투자 아이디어를 제공해 호응을 얻었다 예를 들어 자동차 산업에 대한 투자 관점을 제시한다고 할 때 전 세계 자동차 시장 동향과 함께 비상장회사인 독일 자동차 부품 업체인 Bosch의 전동화 사업으로의 재편 역사 등을 소개하면서 미국의 GM 한국의 현대차 현대모비스 기아차를 밸류에이션 하는 방식으로 투자 관점에 대한 유기성을 가져가는 방식이다 차별화된 해외주식 서비스를 선보이기 위해 전사가 분주한 한편 이를 계기로 온라인 중개시스템 인터페이스가 전반적으로 개편될 수 있을지도 주목된다 신영증권은 다른 증권사에 비해 HTS홈트레이딩시스템과 MTS모바일트레이딩시스템이 올드하다는 평가를 받고 있기 때문이다 지난해 회사 홈페이지를 성공적으로 개편한 만큼 새로운 거래시스템에 대한 기대가 높아지고 있다 신영증권은 거래시스템 개발과 함께 해외주식 운영 경력직원 채용도 시작했다 해외주식 야간데스크와 증권 결제 운영 관리를 맡을 실무 인력을 이달 중 충원할 계획이다 다만 회사 측은 실제 해외주식 거래가 언제부터 온라인으로 가능할지 거래시스템을 어떻게 구현하게 될지 어떤 시장을 서비스할 것인지에 대한 구체적인 설명에 대해서는 말을 아꼈다 삼성 NH투자 미래에셋 키움 등 대형 증권사의 해외주식 개인 고객 유치 경쟁이 활발한 가운데 신영증권도 해외주식 서비스에 뛰어 들었다 중형 증권사 가운데서는 현대차증권이 지난해 해외주식 거래 서비스를 시작했다 IBK투자는 해외주식 거래시스템 개발이 예상보다 늦어지고 있다 토스증권 카카오페이증권 등 핀테크 계열 증권사는 해외주식을 지원하고 있지 않다 조은비  return 받은값\n",
      "UTF-8\n",
      "608 start\n",
      "https://www.hankyung.com/finance/article/202103187704i : 미국의 제재를 받고 있는 중국 최대 반도체 파운드리(수탁생산) 중신궈지(SMIC)가 선전시정부와 합작사를 세우고 선전에 새 공장을 짓기로 했다. 중국 투자자들은 정부의 반도체산업에 대한 지원 확대를...\n"
     ]
    },
    {
     "name": "stderr",
     "output_type": "stream",
     "text": [
      "C:\\Users\\user\\anaconda3\\envs\\py38_64\\lib\\site-packages\\urllib3\\connectionpool.py:981: InsecureRequestWarning: Unverified HTTPS request is being made to host 'www.hankyung.com'. Adding certificate verification is strongly advised. See: https://urllib3.readthedocs.io/en/latest/advanced-usage.html#ssl-warnings\n",
      "  warnings.warn(\n"
     ]
    },
    {
     "name": "stdout",
     "output_type": "stream",
     "text": [
      "UTF-8\n",
      "1160 start\n",
      "미국의 제재를 받고 있는 중국 최대 반도체 파운드리수탁생산 중신궈지SMIC가 선전시정부와 합작사를 세우고 선전에 새 공장을 짓기로 했다 중국 투자자들은 정부의 반도체산업에 대한 지원 확대를 긍정적으로 평가하고 있다18일 로이터통신 등에 따르면 SMIC는 전날 선전시정부와 함께 자본금 23억5000만달러약 2조6000억원의 자회사 SMIC선전을 설립한다고 공시했다 SMIC선전은 선전에 300㎜짜리 웨이퍼를 월 4만장 생산할 수 있는 새 공장을 지어 2022년부터 가동할 계획이다선전 신공장은 SMIC의 현 주력 공정인 28㎚ 기술을 적용할 예정이다 반도체 파운드리의 웨이퍼는 크게 다품종 소량생산을 하는 200㎜와 소품종 대량생산을 하는 300㎜로 구분왼다 300㎜ 웨이퍼는 생산량을 늘리기 위해 초미세공정을 적용하는 게 일반적이다 SMIC는 14㎚ 공정까지 상용화했으며 기존에 운영 중인 선전의 200㎜ 웨이퍼 공장에서 활용하고 있다SMIC 측은 글로벌 반도체 수요 확대로 현재 주력 공장들의 가동률을 최대로 끌어올린 상태라며 반도체 시장 규모는 계속 커질 전망이라고 신규 투자 이유를 설명했다 합작 SMIC선전의 지분율은 SMIC 55 선전시 23로 책정했다 외부 투자자들을 모집해 자본을 확보할 계획이다SMIC는 지난해 9월부터 시작된 미국의 제재로 미국의 허가 없이는 미국 기술이 들어간 장비와 부품을 살 수 없게 됐다 이 때문에 10㎚ 이하의 최첨단 공정 개발은 사실상 멈춰 있는 상태다 다만 SMIC가 최근 네덜란드의 장비업체 ASML과 장비 공급 계약을 1년 연장하고 중국반도체산업협회가 미국반도체산업협회와 협의체를 구성하는 등 미국의 제재가 다소 풀리는 듯한 양상도 나타나고 있다SMIC는 지난해 베이징시와 함께 자본금 50억달러약 6조원 규모의 합작법인을 설립하기로 했다 SMIC의 본사가 있는 상하이시도 올해 12㎚ 반도체를 양산한다는 계획을 최근 내놨는데 이 역시 SMIC와 관련된 것으로 업계에선 보고 있다베이징강현우 특파원 hkn return 받은값\n"
     ]
    },
    {
     "name": "stderr",
     "output_type": "stream",
     "text": [
      "C:\\Users\\user\\anaconda3\\envs\\py38_64\\lib\\site-packages\\urllib3\\connectionpool.py:981: InsecureRequestWarning: Unverified HTTPS request is being made to host 'www.hankyung.com'. Adding certificate verification is strongly advised. See: https://urllib3.readthedocs.io/en/latest/advanced-usage.html#ssl-warnings\n",
      "  warnings.warn(\n"
     ]
    },
    {
     "name": "stdout",
     "output_type": "stream",
     "text": [
      "UTF-8\n",
      "1160 start\n",
      "http://news.mk.co.kr/newsRead.php?no=260776&year=2021 : 김범석 의장 120만주 팔아 직원 보유물량도 매도 가능 외신 \"내부자 투기 여지 둬\" 서학개미(해외 주식에 투자하는 한국 개인투자자)들이 집중 매수한 쿠팡 주가가 내부자 주식 매도 이슈로 출렁거렸다. 17일(현지시간)...\n"
     ]
    },
    {
     "name": "stderr",
     "output_type": "stream",
     "text": [
      "C:\\Users\\user\\anaconda3\\envs\\py38_64\\lib\\site-packages\\urllib3\\connectionpool.py:981: InsecureRequestWarning: Unverified HTTPS request is being made to host 'www.mk.co.kr'. Adding certificate verification is strongly advised. See: https://urllib3.readthedocs.io/en/latest/advanced-usage.html#ssl-warnings\n",
      "  warnings.warn(\n"
     ]
    },
    {
     "name": "stdout",
     "output_type": "stream",
     "text": [
      "{'http-equiv': 'Content-Type', 'content': 'text/html; charset=euc-kr'}\n",
      "content:text/html; charset=euc-kr\n",
      "euc-kr\n",
      "쿠팡 대주주 주식 매도에 서학개미 철렁 매일경제  return 받은값\n"
     ]
    },
    {
     "name": "stderr",
     "output_type": "stream",
     "text": [
      "C:\\Users\\user\\anaconda3\\envs\\py38_64\\lib\\site-packages\\urllib3\\connectionpool.py:981: InsecureRequestWarning: Unverified HTTPS request is being made to host 'www.mk.co.kr'. Adding certificate verification is strongly advised. See: https://urllib3.readthedocs.io/en/latest/advanced-usage.html#ssl-warnings\n",
      "  warnings.warn(\n"
     ]
    },
    {
     "name": "stdout",
     "output_type": "stream",
     "text": [
      "{'http-equiv': 'Content-Type', 'content': 'text/html; charset=euc-kr'}\n",
      "content:text/html; charset=euc-kr\n",
      "euc-kr\n"
     ]
    },
    {
     "name": "stderr",
     "output_type": "stream",
     "text": [
      "C:\\Users\\user\\anaconda3\\envs\\py38_64\\lib\\site-packages\\urllib3\\connectionpool.py:981: InsecureRequestWarning: Unverified HTTPS request is being made to host 'search.naver.com'. Adding certificate verification is strongly advised. See: https://urllib3.readthedocs.io/en/latest/advanced-usage.html#ssl-warnings\n",
      "  warnings.warn(\n"
     ]
    },
    {
     "name": "stdout",
     "output_type": "stream",
     "text": [
      "https://www.sedaily.com/NewsView/22JUU0RDR9 : 18일 한국투자증권은 금리 인상 우려가 잦아들면서 주식 시장이 안정을 되찾을 것이라고 전망했다. 간밤 3월 연방공개시장위원회(FOMC)는 경제와 고용 개선세를 반영해 올해 경제 성장률을 6.5%로 지난 12월 추정치(4.2...\n"
     ]
    },
    {
     "name": "stderr",
     "output_type": "stream",
     "text": [
      "C:\\Users\\user\\anaconda3\\envs\\py38_64\\lib\\site-packages\\urllib3\\connectionpool.py:981: InsecureRequestWarning: Unverified HTTPS request is being made to host 'www.sedaily.com'. Adding certificate verification is strongly advised. See: https://urllib3.readthedocs.io/en/latest/advanced-usage.html#ssl-warnings\n",
      "  warnings.warn(\n"
     ]
    },
    {
     "name": "stdout",
     "output_type": "stream",
     "text": [
      "utf-8\n",
      "1685 start\n",
      "18일 한국투자증권은 금리 인상 우려가 잦아들면서 주식 시장이 안정을 되찾을 것이라고 전망했다 viewer 자료NH투자증권 리서치센터간밤 3월 연방공개시장위원회FOMC는 경제와 고용 개선세를 반영해 올해 경제 성장률을 65로 지난 12월 추정치42보다 대폭 높여 잡았다 실업률도 12월 전망치인 50에서 45로 내려갈 것으로 전망했다 그럼에도 연준은 완전 고용과 물가가 실질적인 진전을 이룰 때까지 금리를 동결하겠고 했다 제롬 파월 연준 의장은 “나아진다는 전망이 아닌 실제 지표의 상당한 진전을 보고 싶다”면서 기대에 근거해 변화를 주지 않겠다는 입장을 피력했다 테이퍼링에 대해서도 지금은 논의할 때가 아니라고 잘라 말했다권희진 한국투자증권 연구원은 “경제 지표 전망치에서 연준이 최대한 인내심을 발휘하고 있는 것을 확인할 수 있다며 “이전 같았으면 슬슬 정책을 거둬들일 준비를 하기 시작할 숫자임에도 지금의 연준은 완화책으로 일관하고 있다”고 분석했다 실업률 전망치는 지난 12월 대비 모두 하향 조정됐는데 특히 2023년 예상치는 12월에 비해 02포인트 낮아진 35로 발표했다 이는 코로나19 사태 직전 실업률 값으로 완전 고용에 가까운 수준이다 또 근원 개인소비지출PCE이 이번 회의에서 20212023년 모두 20 이상을 기록할 것이라고 수정했다 viewer 자료NH투자증권 리서치센터한국투자증권은 이는 연준의 뒷북Behind he curve 전략을 다시 한번 확인한 것이라고 평가했다 권 연구원은 “과거처럼 경기 전망에 따라 미리 유동성을 조절하는 것이 아니라 어디까지 좋아질 수 있을지 지표를 봐가면서 대응하겠다는 의미”라며 “이러한 뒷북’ 전략의 목표는 경기 부양”이라고 설명했다 이어 “이는 물가 상승’이라는 부작용을 상쇄할 만큼의 긍정적 효과고용 확대를 기대할 수 있으면 가능한 데까지 밀려 붙일 테니 걱정하지 말라는 뜻”이라고 설명했다연준의 완화적 입장을 재확인한 글로벌 금융 시장은 안정을 찾을 전망이다 권 연구원은 “아직 SLR보충적 레버리지 비율의 추가 연장 여부가 확정되지 않아 불확실성은 남아 있다”면서도 “조기 금리 인상 가능성이 낮아지면서 시장의 변동성이 축소되고 원·달러 환율 상승 역시 최근의 상승폭을 반납하면서 안정화 될 것”이라고 밝혔다이승배  return 받은값\n"
     ]
    },
    {
     "name": "stderr",
     "output_type": "stream",
     "text": [
      "C:\\Users\\user\\anaconda3\\envs\\py38_64\\lib\\site-packages\\urllib3\\connectionpool.py:981: InsecureRequestWarning: Unverified HTTPS request is being made to host 'www.sedaily.com'. Adding certificate verification is strongly advised. See: https://urllib3.readthedocs.io/en/latest/advanced-usage.html#ssl-warnings\n",
      "  warnings.warn(\n"
     ]
    },
    {
     "name": "stdout",
     "output_type": "stream",
     "text": [
      "utf-8\n",
      "1685 start\n",
      "https://www.hankyung.com/finance/article/202103172334i : \"월가 대부분의 애널리스트는 테슬라, KB홈, 하얏트 주식을 사라고 말하지 않는다. 하지만 골드만삭스는 그들을 사랑한다.\" CNBC는 16일 \"골드만삭스가 사랑하지만 월가 다른 곳에선 싫어하는 주식들\"이라는 기사에서...\n"
     ]
    },
    {
     "name": "stderr",
     "output_type": "stream",
     "text": [
      "C:\\Users\\user\\anaconda3\\envs\\py38_64\\lib\\site-packages\\urllib3\\connectionpool.py:981: InsecureRequestWarning: Unverified HTTPS request is being made to host 'www.hankyung.com'. Adding certificate verification is strongly advised. See: https://urllib3.readthedocs.io/en/latest/advanced-usage.html#ssl-warnings\n",
      "  warnings.warn(\n"
     ]
    },
    {
     "name": "stdout",
     "output_type": "stream",
     "text": [
      "UTF-8\n",
      "1073 start\n",
      "월가 대부분의 애널리스트는 테슬라 KB홈 하얏트 주식을 사라고 말하지 않는다 하지만 골드만삭스는 그들을 사랑한다CNBC는 16일 골드만삭스가 사랑하지만 월가 다른 곳에선 싫어하는 주식들이라는 기사에서 이같이 보도했다골드만삭스는 이날 컨센서스를 벗어난 주식들이란 제목의 보고서를 내고 테슬라 등을 추천했다 월가 평균에 비해 골드만삭스에 훨씬 더 긍정적으로 평가하는 주식들이다골드만삭스의 딥 메타 상무는 자사의 분석을 바탕으로 확실한 선택이 될 수 있지만 월가에선 사랑받지 못하는 주식들을 찾았다고 설명했다 골드만삭스는 매수 투자등급을 줬지만 월가 대부분에선 중립 혹은 매도 의견을 내고 있는 종목이다 이들 주식을 사면 시장평균 수익을 초과할 수 있다는 게 골드만의 논리다 여기엔 테슬라TSLA와 햐얏트호텔스H KB홈KBH 외에 선파워SPWR 모더나MRNA 암젠AMGN 트랙터서플라이TSCO 등이 포함된다 이들 주식은 현 주가가 골드만삭스의 목표가보다 10 이상 낮은 상태다 햐얏트호텔스는 경제 재개 수혜주다 경기 회복이 기대되면서 하얏트는 지난 6개월 동안 43 지난 3개월 동안 205 상승했다 골드만은 또 최근 폭락한 테슬라를 추천했다 테슬라는 지난달 금리가 연 16 수준으로 급등하자 12 이상 하락했다 김현석  return 받은값\n",
      "UTF-8\n",
      "1073 start\n",
      "http://www.gukjenews.com/news/articleView.html?idxno=2184326 : 김민정 아나운서, 주식에 대한 남다른 관심 김민정 전 아나운서가 주식을 하며 겪었던 이야기를 털어놨다. 18일 방송된 MBC '개미의 꿈'에서는 김민정 전 아나운서가 출연해 주식에 대한 이야기를 나눴다. 이날 김민정은...\n"
     ]
    },
    {
     "name": "stderr",
     "output_type": "stream",
     "text": [
      "C:\\Users\\user\\anaconda3\\envs\\py38_64\\lib\\site-packages\\urllib3\\connectionpool.py:981: InsecureRequestWarning: Unverified HTTPS request is being made to host 'www.hankyung.com'. Adding certificate verification is strongly advised. See: https://urllib3.readthedocs.io/en/latest/advanced-usage.html#ssl-warnings\n",
      "  warnings.warn(\n"
     ]
    },
    {
     "name": "stdout",
     "output_type": "stream",
     "text": [
      "UTF-8\n",
      "1216 start\n",
      "김민정 아나운서 주식에 대한 남다른 관심 김민정 전 아나운서가 주식을 하며 겪었던 이야기를 털어놨다 18일 방송된 MBC 개미의 꿈’에서는 김민정 전 아나운서가 출연해 주식에 대한 이야기를 나눴다 이날 김민정은 어린 시절 엄마와 함께 주식을 시작했다고 말해 놀라움을 자아냈다 김민정은 45살부터 주식 객장을 다녔다고 전했다 하지만 주식 시작 후 학업에 집중하지 못했다는 그는 “미국 주식 비상장 주식도 보게 됐다 보다 보니 점점 피폐해졌다고 회상했다 이어 학업과 취업에 매진하면서 주식을 안 했다 취업 후엔 적금과 저축을 했다 퇴사 후 퇴직금을 받았는데 지금 없다 불안감이 느껴져서 13년만에 주식 계좌를 열었다고 말했다 김민정은 남편 조충현을 언급하며 “운동화 마니아다 근데 제가 몰래 팔았다 삐쳤길래 주식을 사줬다 신발 한 켤레에 1주를 주겠다고 달래고 있다”고 말햇 웃음을 자아냈다 김민재  return 받은값\n",
      "UTF-8\n",
      "1216 start\n",
      "http://moneys.mt.co.kr/news/mwView.php?no=2021031716238024075 : 이번 협약으로 이마트는 자사주 82만4176주(지분 2.96%)를 네이버 주식 38만9106주(지분 0.24%)와, 신세계는 신세계인터내셔날 주식 48만8998주(지분 6.85%)를 네이버 주식 25만9404주(지분 0.16%)와 각각 맞교환한다. 지분 스왑...\n"
     ]
    },
    {
     "name": "stderr",
     "output_type": "stream",
     "text": [
      "C:\\Users\\user\\anaconda3\\envs\\py38_64\\lib\\site-packages\\urllib3\\connectionpool.py:981: InsecureRequestWarning: Unverified HTTPS request is being made to host 'moneys.mt.co.kr'. Adding certificate verification is strongly advised. See: https://urllib3.readthedocs.io/en/latest/advanced-usage.html#ssl-warnings\n",
      "  warnings.warn(\n"
     ]
    },
    {
     "name": "stdout",
     "output_type": "stream",
     "text": [
      "EUC-KR\n",
      "1015 start\n",
      "이번 협약으로 이마트는 자사주 82만4176주지분 296를 네이버 주식 38만9106주지분 024와 신세계는 신세계인터내셔날 주식 48만8998주지분 685를 네이버 주식 25만9404주지분 016와 각각 맞교환한다지분 스왑 시 신세계인터내셔날에 대한 신세계의 보유 지분은 458에서 389로 줄어든다 반면 네이버는 68 신세계인터내셔날 지분을 보유하게 됐다손효주 한화투자증권 연구원은 지분 교환 후에도 신세계의 보유 지분은 389로서 지배 구조 측면에서 우려될 만한 요인이 없다며 네이버와의 협업으로 이마트와 신세계인터내셔날은 이커머스 채널의 역량이 강화될 것으로 보인다고 밝혔다이어 네이버는 이마트의 신선식품 신세계인터내셔날의 의류 화장품 생활용품의 카테고리 역량이 강화될 수 있을 것으로 기대된다고 덧붙였다이런 기대감 속 지난 17일 신세계인터내셔날 주가는 전 거래일 대비 244 오른 20만9500원에 마감했다 반면 이마트 220 네이버052 신세계053는 하락 마감했다이지영 NH투자증권 연구원은 국내에서 가장 많은 럭셔리 브랜드를 유통하는 신세계인터내셔날은 향후 네이버 플랫폼을 통해 판로를 크게 확대할 수 있을 것이라고 내다봤다 김정훈 kjhnce1 return 받은값\n"
     ]
    },
    {
     "name": "stderr",
     "output_type": "stream",
     "text": [
      "C:\\Users\\user\\anaconda3\\envs\\py38_64\\lib\\site-packages\\urllib3\\connectionpool.py:981: InsecureRequestWarning: Unverified HTTPS request is being made to host 'moneys.mt.co.kr'. Adding certificate verification is strongly advised. See: https://urllib3.readthedocs.io/en/latest/advanced-usage.html#ssl-warnings\n",
      "  warnings.warn(\n"
     ]
    },
    {
     "name": "stdout",
     "output_type": "stream",
     "text": [
      "EUC-KR\n",
      "1015 start\n",
      "http://news.mt.co.kr/mtview.php?no=2021031815245373703 : 쉬운 말로 주식, 펀드 등이다. '원금 손실 가능성'이 금지 이유다. 금지 대상 2번은 원금 손실 가능성이 없는... 신용카드로 주식을 사면 안 될까. 이른바 ‘빚투’로 불리는 게 신용융자거래다. 증권사가 개인이 갖고 있는...\n"
     ]
    },
    {
     "name": "stderr",
     "output_type": "stream",
     "text": [
      "C:\\Users\\user\\anaconda3\\envs\\py38_64\\lib\\site-packages\\urllib3\\connectionpool.py:981: InsecureRequestWarning: Unverified HTTPS request is being made to host 'news.mt.co.kr'. Adding certificate verification is strongly advised. See: https://urllib3.readthedocs.io/en/latest/advanced-usage.html#ssl-warnings\n",
      "  warnings.warn(\n"
     ]
    },
    {
     "name": "stdout",
     "output_type": "stream",
     "text": [
      "EUC-KR\n",
      "2302 start\n",
      "쉬운 말로 주식 펀드 등이다 원금 손실 가능성이 금지 이유다 금지 대상 2번은 원금 손실 가능성이 없는 예금·적금이다 외상신용카드으로 예금·적금을 하는 게 이상하다는 논리다 은행은 원금 손실 가능성이 없어서 자본시장은 원금 손실 가능성이 높아서 카드 결제가 안 된다 흥미로운 곳은 보험업계다 보험도 어엿한 금융상품인데 카드 결제가 허용된다 1년마다 갱신하는 자동차보험은 80 정도가 카드 결제다 이때 명분은 소비자 편의성이다 편의성은 무적無敵이다 만기에 돌려받을 수 있는 장기 저축성 보험 원금 손실 우려가 있는 변액보험 등도 신용카드 결제가 가능하다 손해보험협회에 따르면 지난해 16개 손해보험사의 원수보험료는 78조3500억원인데 이중 카드 결제가 22조4600억원이다 카드 결제 비중이 286다 카드 수수료를 2로 잡아도 4400억원 규모다 장기저축성 보험도 5조6000억원중 2800억원이 카드로 결제된다 보험 성격이 다른 생명보험사는 그나마 낫다 24개 생보사의 보험료 수납형태별 통계2020년 11월 기준를 보면 신용카드가 2조5400억원으로 전체의 38 수준이다 저금리 시대에 보험료를 받아서 카드사 수수료를 주고나면 운용 수익을 내기 쉽지 않다 보험업계가 카드업계를 먹여 살리는 셈이다 소비자 편의를 위한 여전법이 업권별 건전성의 차별을 만든다 카드 수수료는 보험료 상승의 한 요인이다 소비자는 자각하지 못한 채 편의성과 보험료를 맞바꾼다 성격이 비슷한 데 대우가 다르면 차별’이다 보험 상품은 신용카드로 사고 예·적금 상품은 자기 현금으로 산다 도발적 질문을 던져보자 신용카드로 주식을 사면 안 될까 이른바 빚투’로 불리는 게 신용융자거래다 증권사가 개인이 갖고 있는 증거금의 일정 정도를 빌려주는 개념이다 신용’이란 말 때문에 외상처럼 비쳐지지만 실제론 살 주식’을 담보로 한 대출이다 지난해 상위 20개 증권사들이 신용융자로 거둔 이자 수익만 1조4000억원이다 금리도 58 수준으로 높다 이 한도가 차면 은행의 마이너스 대출 카드사의 현금서비스 등을 끌어 쓴다 영끌이다 소비자 편의를 위해서라면 카드 결제만한 게 없다는데 주식은 안 된다 구입한 상품주식의 가격이 변하는 게 문제라지만 실제 세상에서 가격이 유지되는 상품은 많지 않다 물론 실현 가능성은 없다 이자수익이 사라지고 카드 수수료까지 내야하는 증권사들이 가만히 있지 않을 것이니까 다만 업권별 차별로 건전성에 영향을 준다면 근본으로 돌아갈 필요가 있다 저축과 저축성보험은 주식·펀드와 변액보험은 어떤 기준으로 카드 결제 유무가 갈리는 것인지 게다가 변액보험은 자본시장법상 금투상품으로 분류되는데 말이다 카드보다 페이y’가 익숙한 시대 시시각각 가격이 변동하는 코인’으로 결제하는 시대다 기본 원칙 기본 기준이라도 명확히 해야 경험하지 못한 미래에 적응할 수 있다 <저작권자 © 돈이 보이는 리얼타임  return 받은값\n"
     ]
    },
    {
     "name": "stderr",
     "output_type": "stream",
     "text": [
      "C:\\Users\\user\\anaconda3\\envs\\py38_64\\lib\\site-packages\\urllib3\\connectionpool.py:981: InsecureRequestWarning: Unverified HTTPS request is being made to host 'news.mt.co.kr'. Adding certificate verification is strongly advised. See: https://urllib3.readthedocs.io/en/latest/advanced-usage.html#ssl-warnings\n",
      "  warnings.warn(\n"
     ]
    },
    {
     "name": "stdout",
     "output_type": "stream",
     "text": [
      "EUC-KR\n",
      "2302 start\n",
      "http://www.businesspost.co.kr/BP?command=article_view&num=222448 : 한샘 주식 매수의견이 유지됐다. 한샘은 건축물 리모델링시장의 성장과 직시공(본사에서 직접 시공하는 것) 확대에 힘입어 실적이 좋아질 것으로 전망됐다. 강승수 한샘 대표이사 회장. 이상현 하이투자증권...\n",
      "UTF-8\n",
      "369 start\n",
      "한샘 주식 매수의견이 유지됐다 한샘은 건축물 리모델링시장의 성장과 직시공본사에서 직접 시공하는 것 확대에 힘입어 실적이 좋아질 것으로 전망됐다 ▲ 강승수 한샘 대표이사 회장 이상현 하이투자증권 연구원은 19일 한샘 목표주가 12만2천 원 투자의견 매수BUY를 유지했다 18일 한샘 주가는 10만3천 원으로 거래를 마쳤다 이 연구원은 건축물 리모델링시장이 성장하면서 한샘이 수혜받을 것이라며 리하우스라는 효율적이면서도 편리한 리모델링 패키지를 통해 인테리어 리모델링시장에서 점유율을 높일 수 있다고 바라봤다 한샘은 건축물 리모델링시장의 성장으로 매출과 영업이익이 늘어날 것으로 전망됐다 2018년 말 기준으로 준공한지 30년 이상 지난 건축물은 전체 건축물 재고의 371에 이르러 앞으로 건축물 리모델링시장이 성장할 것으로 전망됐다 노후건축물 가운데 주거용은 수도권에 328 지방에 509로 높은 비중을 차지하고 있는 것으로 나타났다 한샘은 2021년부터 패키지 판매 및 직시공 확대로 매출이 증가하고 수익성이 개선될 것으로 전망됐다 한샘은 2020년 리하우스사업을 위해 대량 시공체계를 확립해 직시공을 확대할 수 있는 인력 및 숙련도 등의 여건을 마련했다 한샘 리하우스는 특정 인테리어에 맞게 마루 바닥 등 건자재와 가구 생활용품까지 모두 제공하는 리모델링 패키지 전문 브랜드다 상담에서 설계 시공 AS까지 모든 과정을 일원화한 서비스를 제공한다 이 연구원은 현재 한샘은 기업과 소비자 사이 기업B2C시장에서 점유율이 10도 되지 않는다며 그러나 리하우스의 장점인 시간 절약 가격 투명성 AS 효율성 등을 통한 구조적 성장으로 앞으로 시장 점유율을 끌어올릴 수 있다고 평가했다 한샘은 2021년 연결기준으로 매출은 2조2530억 원 영업이익은 1180억 원을 낼 것으로 전망됐다 2020년 실적 추정치와 비교해 매출은 90 영업이익은 262 증가하는 수치다 비즈니스포스트 진선희  return 받은값\n",
      "UTF-8\n",
      "369 start\n",
      "http://www.edaily.co.kr/news/newspath.asp?newsid=01312006628984960 : 국내 주식형 펀드 자금이 2거래일 연속 순유입됐다. 19일 금융투자협회에 따르면 지난 17일 기준 국내 주식형 펀드(상장지수펀드 제외)에서 357억원이 설정되고 445억원이 해지돼 88억원이 순유출됐다. 또 해외...\n",
      "utf-8\n"
     ]
    },
    {
     "name": "stderr",
     "output_type": "stream",
     "text": [
      "C:\\Users\\user\\anaconda3\\envs\\py38_64\\lib\\site-packages\\urllib3\\connectionpool.py:981: InsecureRequestWarning: Unverified HTTPS request is being made to host 'www.edaily.co.kr'. Adding certificate verification is strongly advised. See: https://urllib3.readthedocs.io/en/latest/advanced-usage.html#ssl-warnings\n",
      "  warnings.warn(\n",
      "C:\\Users\\user\\anaconda3\\envs\\py38_64\\lib\\site-packages\\urllib3\\connectionpool.py:981: InsecureRequestWarning: Unverified HTTPS request is being made to host 'www.edaily.co.kr'. Adding certificate verification is strongly advised. See: https://urllib3.readthedocs.io/en/latest/advanced-usage.html#ssl-warnings\n",
      "  warnings.warn(\n"
     ]
    },
    {
     "name": "stdout",
     "output_type": "stream",
     "text": [
      "808 start\n",
      "국내 주식형 펀드 자금이 2거래일 연속 순유입됐다 19일 금융투자협회에 따르면 지난 17일 기준 국내 주식형 펀드상장지수펀드 제외에서 357억원이 설정되고 445억원이 해지돼 88억원이 순유출됐다또 해외 주식형 펀드에서는 707억원이 설정되고 467억원이 해지돼 240억원이 순유입됐다 4거래일 연속 순유입이다 국내·외 주식형 펀드 설정원본은 80조8602억원으로 전 거래일보다 7161억원 줄었다 설정원본에 운용 손익을 더한 순자산총액은 96조437억원으로 전 거래일보다 7953억원 감소했다 국내·외 채권형 펀드 설정원본은 126조685억원으로 전 거래일보다 258억원 늘었다 순자산총액은 126조4444억원으로 전 거래일보다 86억원 감소했다단기금융상품인 머니마켓펀드MMF 설정원본은 156조1538억원으로 전 거래일보다 1조1089억원 늘었다 순자산총액은 156조6722억원으로 전 거래일보다 1조1123억원 증가했다 주요 return 받은값\n",
      "utf-8\n",
      "808 start\n",
      "https://www.sedaily.com/NewsView/22JUTXH2F4 : 미래에셋대우 엠클럽에 따르면 투자 수익률 1%에 해당하는 ‘주식 초고수’는 이날 오전 11시까지... 이날 오전 주식 고수들이 가장 많이 판 종목은 삼성전자(005930)였다. 간밤 연방준비제도(연준·Fed)가 완화적...\n"
     ]
    },
    {
     "name": "stderr",
     "output_type": "stream",
     "text": [
      "C:\\Users\\user\\anaconda3\\envs\\py38_64\\lib\\site-packages\\urllib3\\connectionpool.py:981: InsecureRequestWarning: Unverified HTTPS request is being made to host 'www.edaily.co.kr'. Adding certificate verification is strongly advised. See: https://urllib3.readthedocs.io/en/latest/advanced-usage.html#ssl-warnings\n",
      "  warnings.warn(\n",
      "C:\\Users\\user\\anaconda3\\envs\\py38_64\\lib\\site-packages\\urllib3\\connectionpool.py:981: InsecureRequestWarning: Unverified HTTPS request is being made to host 'www.edaily.co.kr'. Adding certificate verification is strongly advised. See: https://urllib3.readthedocs.io/en/latest/advanced-usage.html#ssl-warnings\n",
      "  warnings.warn(\n",
      "C:\\Users\\user\\anaconda3\\envs\\py38_64\\lib\\site-packages\\urllib3\\connectionpool.py:981: InsecureRequestWarning: Unverified HTTPS request is being made to host 'www.sedaily.com'. Adding certificate verification is strongly advised. See: https://urllib3.readthedocs.io/en/latest/advanced-usage.html#ssl-warnings\n",
      "  warnings.warn(\n"
     ]
    },
    {
     "name": "stdout",
     "output_type": "stream",
     "text": [
      "utf-8\n",
      "1761 start\n",
      "미래에셋대우 엠클럽에 따르면 투자 수익률 1에 해당하는 주식 초고수’는 이날 오전 11시까지 가상화폐 관련 주로 분류되는 비덴트를 가장 많이 사들였으며 매수 3위에도 우리기술투자가 올랐다 최근 가상화폐가 투자처로 가능성을 재평가 받고 있는 가운데 모건스탠리가 월가에서 최초로 가상화폐에 투자하는 펀드를 출시하겠다고 밝혔다 미국 CNBC는 “모건스탠리가 대형은행 중 처음으로 자산운용 고객들에게 비트코인 펀드에 투자할 수 있도록 했다”며 “비트코인을 소유할 수 있도록 하는 펀드 세 개를 출시할 것”이라고 보도했다 비덴트는 국내 최대 암호화폐 거래소 빗썸의 단일 최대주주이며 우리기술투자는 가상화폐 거래소 업비트를 운영하는 두나무 지분을 보유하고 있다매수 상위 2위와 4위에는 팬오션과 HMM이 올랐다 최근 글로벌 경기의 회복 움직임을 보이면서 물동량이 늘면서 해운 시황이 꾸준히 전망될 것이라는 전망이 나온다 방민진 유진투자증권 연구원은 팬오션에 대해 “이달 중순 드라이벌크운임지수BDI가 2000을 돌파했으면 철광석과 석탄의 물동량이 회복되면서 2분기에도 강세를 이어나갈 전망”이라며 “시차를 감안할 때 현 시황은 2분기 실적에 반영될 것이라고 분석했다 이외 솔본 SK하이닉스 서울식품 등에도 매수가 몰리고 있다이날 오전 주식 고수들이 가장 많이 판 종목은 삼성전자005930 재무분석차트영역계속기업리포트였다 간밤 연방준비제도연준·Fed가 완화적 통화책 유지 입장을 강력히 피력하면서 코스피가 1대 상승 중인 가운데 이날 오전 11시 기준 삼성전자도 170 오르고 있다 이외 비덴트 우리기술투자 SK케미칼285130 재무분석차트영역계속기업리포트 HMM 등이 뒤를 이었다 전 거래일인 17일 고수익 투자자들이 가장 많이 산 종목은 삼성바이오로직스207940 재무분석차트영역계속기업리포트 우리기술투자 비덴트 삼성출판사068290 재무분석차트영역계속기업리포트 HMM 등이었다 같은 날 삼성출판사 신풍제약019170 재무분석차트영역계속기업리포트 우리기술투자 비덴트 한국전력015760 재무분석차트영역계속기업리포트 순서로 매도가 많았다한편 미래에셋대우는 자사 고객 중에서 지난 1개월간 수익률 상위 1 투자자들의 매매 종목을 집계해 실시간·전일·최근 5일 기준으로 모바일트레이딩시스템MTS상에서 공개하고 있다 이 통계데이터는 미래에셋대우의 의견과 무관한 단순 정보안내이며 각각의 투자자 개인에게 맞는 투자 또는 수익달성을 보장하지 않는다 또 테마주 관련 종목은 이상 급등락 가능성이 있으므로 유의해야 한다 viewer 이승배  return 받은값\n"
     ]
    },
    {
     "name": "stderr",
     "output_type": "stream",
     "text": [
      "C:\\Users\\user\\anaconda3\\envs\\py38_64\\lib\\site-packages\\urllib3\\connectionpool.py:981: InsecureRequestWarning: Unverified HTTPS request is being made to host 'www.sedaily.com'. Adding certificate verification is strongly advised. See: https://urllib3.readthedocs.io/en/latest/advanced-usage.html#ssl-warnings\n",
      "  warnings.warn(\n"
     ]
    },
    {
     "name": "stdout",
     "output_type": "stream",
     "text": [
      "utf-8\n",
      "1761 start\n",
      "http://edu.donga.com/?p=article&ps=view&at_no=20210318092646443201 : 실제 한국형 파이어족을 준비하는 이들에게 조기은퇴 자금을 마련하기 위해 가장 많이 투자하고 있는 것은 무엇인지 조사한 결과(복수응답), ‘주식투자’를 꼽은 응답자가 50.7%로 절반정도로 가장 많았다. 이어...\n",
      "ISO-8859-1\n",
      " return 받은값\n",
      "ISO-8859-1\n",
      "http://www.edaily.co.kr/news/newspath.asp?newsid=01213606628984632 : 사진=이미지 투데이[이데일리 김인경 기자] “여기 자산가들, 주식에서 돈 빼는 분들은 별로 없어요. 여전히 주식이에요.” 강남 부자들을 상대하는 국내 대표 은행·증권 프라이빗뱅커(PB) 7명 모두가 한결같이 하는...\n"
     ]
    },
    {
     "name": "stderr",
     "output_type": "stream",
     "text": [
      "C:\\Users\\user\\anaconda3\\envs\\py38_64\\lib\\site-packages\\urllib3\\connectionpool.py:981: InsecureRequestWarning: Unverified HTTPS request is being made to host 'www.edaily.co.kr'. Adding certificate verification is strongly advised. See: https://urllib3.readthedocs.io/en/latest/advanced-usage.html#ssl-warnings\n",
      "  warnings.warn(\n",
      "C:\\Users\\user\\anaconda3\\envs\\py38_64\\lib\\site-packages\\urllib3\\connectionpool.py:981: InsecureRequestWarning: Unverified HTTPS request is being made to host 'www.edaily.co.kr'. Adding certificate verification is strongly advised. See: https://urllib3.readthedocs.io/en/latest/advanced-usage.html#ssl-warnings\n",
      "  warnings.warn(\n",
      "C:\\Users\\user\\anaconda3\\envs\\py38_64\\lib\\site-packages\\urllib3\\connectionpool.py:981: InsecureRequestWarning: Unverified HTTPS request is being made to host 'www.edaily.co.kr'. Adding certificate verification is strongly advised. See: https://urllib3.readthedocs.io/en/latest/advanced-usage.html#ssl-warnings\n",
      "  warnings.warn(\n",
      "C:\\Users\\user\\anaconda3\\envs\\py38_64\\lib\\site-packages\\urllib3\\connectionpool.py:981: InsecureRequestWarning: Unverified HTTPS request is being made to host 'www.edaily.co.kr'. Adding certificate verification is strongly advised. See: https://urllib3.readthedocs.io/en/latest/advanced-usage.html#ssl-warnings\n",
      "  warnings.warn(\n"
     ]
    },
    {
     "name": "stdout",
     "output_type": "stream",
     "text": [
      "utf-8\n",
      "901 start\n",
      "사진이미지 투데이이데일리 김인경  return 받은값\n",
      "utf-8\n",
      "901 start\n"
     ]
    },
    {
     "name": "stderr",
     "output_type": "stream",
     "text": [
      "C:\\Users\\user\\anaconda3\\envs\\py38_64\\lib\\site-packages\\urllib3\\connectionpool.py:981: InsecureRequestWarning: Unverified HTTPS request is being made to host 'search.naver.com'. Adding certificate verification is strongly advised. See: https://urllib3.readthedocs.io/en/latest/advanced-usage.html#ssl-warnings\n",
      "  warnings.warn(\n"
     ]
    },
    {
     "name": "stdout",
     "output_type": "stream",
     "text": [
      "http://www.kukinews.com/newsView/kuk202103180216 : 장외주식이 눈길을 끌고 있습니다. 상장 후 주가 상승을 이뤄 시세차익을 누릴 수 있다는 기대감 때문입니다. 대표적으로 야놀자와 마켓컬리가 상장 추진을 밝히면서 장외주가가 급등했습니다. 이런 장외주식은 어디서...\n",
      "UTF-8\n",
      "854 start\n",
      "장외주식이 눈길을 끌고 있습니다 상장 후 주가 상승을 이뤄 시세차익을 누릴 수 있다는 기대감 때문입니다 대표적으로 야놀자와 마켓컬리가 상장 추진을 밝히면서 장외주가가 급등했습니다 이런 장외주식은 어디서 어떻게 거래되는 걸까요장외주식 거래 플랫폼 서울거래소 비상장에 따르면 18일 야놀자의 주가는 지난 1일 5만2500원에서 60오른 8만4000원까지 올랐습니다 같은 기간 마켓컬리도 3만5000원에서 5914 올라 5만5700원을 기록했습니다 다만 두 종목 모두 유가증권시장이나 코스닥시장에서는 찾아볼 수 없습니다 비상장주식장외주식이기 때문입니다거래소 밖에서 거래되는 장외주식 우선 장외시장’이란 법률로 제도화된 장내시장을 제외한 모든 시장을 통칭하는 말입니다 대표적인 공인된 장내시장으로 코스피 및 코스닥시장이 있습니다 즉 장내시장을 통하지 않은 개인 간의 거래는 장외시장 거래라고 할 수 있습니다 장외주식’은 장내시장에 상장되지 않은 주식을 말합니다 상장되지 않은 만큼 개인 간의 협상 즉 장외시장을 통해 거래가 이루어집니다 중고 상품 직거래와 비슷합니다이런 장외주식을 보다 원활하게 거래하려면 별도의 플랫폼을 이용해야 합니다 대표적으로 38커뮤니케이션 서울거래소 비상장 증권플러스 비상장 그리고 금융투자협회가 운영하는 KOTC 등이 있습니다 상장주식의 경우 어떤 증권사 모바일 트레이딩 시스템MTS·홈 트레이딩 시스템HTS을 사용하든 원하는 주식을 사고 팔 수 있지만 장외주식은 그렇지 않습니다 예를 들어 야놀자의 경우 증권플러스 비상장 서울거래소 비상장에서 거래할 수 있지만 KOTC에는 등록되지 않아 거래할 수 없습니다 플랫폼 마다 다른 거래 방식각 플랫폼마다 거래되는 주식이 다른 만큼 거래 방식도 다릅니다 38커뮤니케이션과 서울거래소 비상장은 개인 간의 직거래를 통해 장외주식 매매가 이뤄집니다 우선 게시판에 원하는 주식의 수량과 가격 그리고 연락처를 올립니다 그 다음에는 개인 간의 연락을 통해 협상을 합니다 이후 매도자는 매수자의 증권계좌로 주식을 이체하고 매수자는 매도자에게 돈을 보냅니다 일반적인 직거래와 방식이 같습니다 매매시간도 따로 제한이 없습니다다만 개인 간의 직거래로 이뤄지는 만큼 허위매물 등 사기 가능성도 있습니다 38커뮤니케이션의 경우 대포폰 확인을 통해 거래를 하라고 명시하고 있습니다 서울거래소 비상장은 신한금융투자 증권계좌와 연계해 매매를 하는 안전거래’로 이를 보완하고 있습니다 증권플러스 비상장도 삼성증권 계좌를 통해 안전한 장외주식 거래를 지원하고 있습니다KOTC는 증권사 모바일트레이딩시스템MTS·홈 트레이딩 시스템HTS을 통해서 상장 주식처럼 거래할 수 있습니다 다른 플랫폼과 다르게 매매거래시간이 9시부터 15시30분까지 정해져 있으며 상한가·하한가도 적용됩니다 다만 등록된 종목수가 135개입니다 원하는 장외주식이 없을 수도 있습니다이런 계좌이체를 통한 장외주식 거래는 통일주권’일 때만 가능합니다 통일주권은 증권계좌 간에 거래가 가능한 주식입니다 한국예탁결제원을 통해 위·변조 여부도 확인할 수 있습니다 비교적 안전하고 편리한 거래가 가능합니다 반면 비통일주권’은 계좌이체가 불가능해 명의개서라는 절차를 거쳐야 주주가 될 수 있습니다 명의개서란 주식을 발행한 회사를 방문해 주주명부에 성명과 주소를 기재하는 것을 말합니다고수익·고위험 투자자가 유의해야할 점이렇듯 장외주식은 거래도 복잡하고 사기위험성도 있습니다 투자에 상당한 주의가 필요한데요 이와 관련해 자본시장연구원 강소현 자본시장실 연구위원은 “상장주식은 기업 정보가 많이 공개되기 때문에 기업가치 평가가 비교적 쉽다 또 다수의 투자자들이 거래를 하기 때문에 적정가격도 형성도 수월하다”면서도 “반면 장외주식은 거래량 자체가 적어 적정 주가를 발견하기 어렵다 가격 변동성도 커질 수 있고 관련 정보도 신뢰하기 어렵다 투자자들의 주의가 필요하다“고 조언했습니다또 가격이 너무 올라도 문제입니다 빅히트는 상장 직전 장외시장에서 30만원대에 거래됐지만 이후에는 1020만원대에 거래되고 있습니다 전날 종가는 23만1000원이었습니다 상장 후 시세차익을 누리지 못할 수도 있습니다 ssj9181 return 받은값\n",
      "UTF-8\n",
      "854 start\n",
      "http://www.ggilbo.com/news/articleView.html?idxno=835086 : 한국타이어 기업집단은 한국타이어앤테크놀로지주식회사를 포함하여 국내법인 24개사, 해외법인 56개사로 이루어져있는 기업이다. 이에 많은 투자자들은 \"고맙죠\", \"경영권분쟁\", \"2만300원에 전량 매도\", \"지금사면...\n",
      "UTF-8\n",
      "1040 start\n",
      "한국타이어 기업집단은 한국타이어앤테크놀로지주식회사를 포함하여 국내법인 24개사 해외법인 56개사로 이루어져있는 기업이다 이에 많은 투자자들은 고맙죠 경영권분쟁 2만300원에 전량 매도 지금사면 될까고민된다 미끄러지는 상황 생각보다 못가네 오늘은 인버스인척 하자 등 다양한 반응을 보이고 있다 저작권자 © 금강일보 무단전재 및 재배포 금지 조민규 인턴 return 받은값\n",
      "UTF-8\n",
      "1040 start\n",
      "http://www.businesspost.co.kr/BP?command=article_view&num=222439 : 삼성SDI 주식 매수의견이 유지됐다. 폴크스바겐이 2023년부터 각형배터리를 전기차에 탑재한다는 계획을 발표함에 따라 국내업체 가운데 유일하게 각형배터리를 생산하고 있는 삼성SDI에 기회가 될 수 있을 것으로...\n",
      "UTF-8\n",
      "369 start\n",
      "삼성SDI 주식 매수의견이 유지됐다 폴크스바겐이 2023년부터 각형배터리를 전기차에 탑재한다는 계획을 발표함에 따라 국내업체 가운데 유일하게 각형배터리를 생산하고 있는 삼성SDI에 기회가 될 수 있을 것으로 전망됐다 ▲ 전영현 삼성SDI 대표이사 사장 소현철 신한금융투자 연구원은 19일 삼성SDI 목표주가를 90만 원 투자의견을 매수BUY로 각각 유지했다 삼성SDI 주가는 18일 66만2천 원에 거래를 마쳤다 소 연구원은 “폴크스바겐이 각형배터리를 전기차에 탑재하기로 발표함에 따라 글로벌 전기차 배터리시장이 각형 중심으로 빠르게 재편되면 한국업체 가운데 유일하게 각형배터리를 생산하고 있는 삼성SDI는 수혜를 입을 수 있다”고 말했다 소 연구원은 “다만 폴크스바겐의 단가 인하압력에 효과적으로 대응해야 삼성SDI가 수익성을 확보할 수 있을 것”이라고 덧붙였다 폴크스바겐은 15일 진행한 파워데이에서 향후 전기차배터리 생산계획과 원가 절감계획을 발표했다 각형배터리를 2023년까지 개발해 2030년에는 전기차 80에 적용한다는 계획이다 삼성SDI는 2021년에 연결기준으로 매출 13조6693억 원 영업이익 1조724억 원을 거둘 것으로 예상됐다 2020년보다 매출은 21 영업이익은 53 늘어나는 것이다 비즈니스포스트 조장우  return 받은값\n",
      "UTF-8\n",
      "369 start\n",
      "http://news.mt.co.kr/mtview.php?no=2021031817093260936 : 가계에서도 주식 등 투자 수요가 이어지면서 지난해의 증가세를 이어가고 있다. 넘치는 유동성이 주식·부동산 등 자산가격 상승을 불러 일으킬지 주목된다. 한국은행이 18일 발표한 ‘2021년 1월 중 통화 및...\n"
     ]
    },
    {
     "name": "stderr",
     "output_type": "stream",
     "text": [
      "C:\\Users\\user\\anaconda3\\envs\\py38_64\\lib\\site-packages\\urllib3\\connectionpool.py:981: InsecureRequestWarning: Unverified HTTPS request is being made to host 'news.mt.co.kr'. Adding certificate verification is strongly advised. See: https://urllib3.readthedocs.io/en/latest/advanced-usage.html#ssl-warnings\n",
      "  warnings.warn(\n"
     ]
    },
    {
     "name": "stdout",
     "output_type": "stream",
     "text": [
      "EUC-KR\n",
      "1860 start\n",
      "가계에서도 주식 등 투자 수요가 이어지면서 지난해의 증가세를 이어가고 있다 넘치는 유동성이 주식·부동산 등 자산가격 상승을 불러 일으킬지 주목된다 한국은행이 18일 발표한 2021년 1월 중 통화 및 유동성’에 따르면 지난 1월 통화량M2·평잔 원계열 기준은 전월 대비 41조 8000억원13 증가한 3233조4000억원을 기록해 사상 처음 3200조원대를 돌파했다 2001년 12월 관련 통계를 만든 이후 최대 규모다 전년동월 대비로는 101295조1746억원 늘어 2009년 10월105 후 가장 높은 증가율을 보였다 M2는 현금과 요구불예금 수시입출금식 예금 2년 미만 정기 예·적금 머니마켓펀드MMF 등 단기 금융상품을 포함한 넓은 의미의 통화지표다 M2가 늘어난 항목을 보면상품별로는 수시입출식 저축성예금15조3000억원 과 MMF7조2000억원 등을 중심으로 증가했다 특히 수시입출식 저축성예금은 가계와 비영리단체 기업 등의 자금 유입 확대 등에 기인했다 기업24조원 가계 및 비영리단체4조7000억원 기타금융기관4조5000억원 기타부문1조2000억원 등 모든 경제주체에서 증가했다 한은 관계자는 기업의 경우 코로나19의 영향으로 상황이 좋아지지 않을 것을 대비해 여유자금을 확보하려고 자금을 조달한 경우가 있다며 가계는 지난 1월 주식시장이 활발할 때 대출을 받아 주식에 투자하거나 코로나로 인한 생계 대출 수요 등 흐름때문인 것으로 보인다고 설명했다 지난 1월 코스피와 코스닥을 합한 일평균 거래대금은 42조1000억원으로 지난해 12월 대비 251 급증했다 유동성이 크게 불어난 것은 한은이 기준금리를 사상 최저 수준인 연 05으로 유지한 영향이 크다 저금리로 이자 비용이 줄자 가계에서 대출 수요가 늘어났다 한은에 따르면 지난 1월 말 가계대출 잔액은 996조4000억원이었다 이후 지난달 말에는 1003조1000억원으로 1000조대를 넘어섰다 시중자금 가운데 단 return 받은값\n"
     ]
    },
    {
     "name": "stderr",
     "output_type": "stream",
     "text": [
      "C:\\Users\\user\\anaconda3\\envs\\py38_64\\lib\\site-packages\\urllib3\\connectionpool.py:981: InsecureRequestWarning: Unverified HTTPS request is being made to host 'news.mt.co.kr'. Adding certificate verification is strongly advised. See: https://urllib3.readthedocs.io/en/latest/advanced-usage.html#ssl-warnings\n",
      "  warnings.warn(\n"
     ]
    },
    {
     "name": "stdout",
     "output_type": "stream",
     "text": [
      "EUC-KR\n",
      "1860 start\n",
      "http://www.fnnews.com/news/202103170901074474 : 유진투자증권이 개인별 국내주식 거래금액을 기준으로 제시된 목표금액을 달성하면 다양한 혜택이 지급되는 ‘목표달성 주식레이스’ 이벤트를 진행한다고 17일 밝혔다. ‘목표달성 주식레이스’ 이벤트는 온라인...\n"
     ]
    },
    {
     "name": "stderr",
     "output_type": "stream",
     "text": [
      "C:\\Users\\user\\anaconda3\\envs\\py38_64\\lib\\site-packages\\urllib3\\connectionpool.py:981: InsecureRequestWarning: Unverified HTTPS request is being made to host 'www.fnnews.com'. Adding certificate verification is strongly advised. See: https://urllib3.readthedocs.io/en/latest/advanced-usage.html#ssl-warnings\n",
      "  warnings.warn(\n",
      "C:\\Users\\user\\anaconda3\\envs\\py38_64\\lib\\site-packages\\urllib3\\connectionpool.py:981: InsecureRequestWarning: Unverified HTTPS request is being made to host 'www.fnnews.com'. Adding certificate verification is strongly advised. See: https://urllib3.readthedocs.io/en/latest/advanced-usage.html#ssl-warnings\n",
      "  warnings.warn(\n"
     ]
    },
    {
     "name": "stdout",
     "output_type": "stream",
     "text": [
      "UTF-8\n",
      "766 start\n",
      "유진투자증권이 개인별 국내주식 거래금액을 기준으로 제시된 목표금액을 달성하면 다양한 혜택이 지급되는 목표달성 주식레이스’ 이벤트를 진행한다고 17일 밝혔다 목표달성 주식레이스’ 이벤트는 온라인비대면 종합계좌 보유 고객 대상으로 오는 4월까지 한 달에 한 시즌씩 진행된다 이벤트가 적용되는 거래 종목은 국내주식으로 코스피 코스닥 KOTC 코넥스 ETF ETN 등이다 이벤트 목표금액은 전월 거래실적 개인별 투자성향 등이 반영 되며 주식을 매수하거나 매도한 합산 거래금액을 기준으로 각 시즌별 개인마다 다르게 책정된다 이벤트 참가를 위해서는 별도의 참가신청이 필요하며 이벤트 페이지를 통해 참가신청 및 개인별 목표금액 달성현황 확인이 가능하다 이벤트 참가자들은 참여 결과에 따라 다양한 혜택을 누릴 수 있다 우선 목표달성률 200를 돌파하면 아메리카노 커피상품권 1장이 500를 넘어서면 백화점상품권 5만원권이 1000를 달성할 경우 백화점상품권 10만권이 조건을 충족한 이벤트 참가자 전원에게 지급된다 매일마다 목표달성률 100를 기록한 고객 중 10명을 뽑아 배달상품권 1만원권도 제공한다 배달상품권은 시즌1과 시즌2 통틀어 개인당 한번만 수령 가능하다 유진투자증권은 국내주식 거래 상위 참가자들을 위한 혜택도 추가로 준비했다 먼저 시즌별 목표달성률 상위 100명에게는 각각 5만원의 투자지원금이 제공된다 또한 목표달성 초과금액 기준으로 1등부터 5등까지의 참가자들은 각각 100만원의 상금도 받을 수 있다 유진투자증권 김경식 디지털금융실장은 “MZ세대 중심으로 소소하지만 확실한 성취라는 의미를 지닌 소확성’에 대한 관심이 높아지는 점에 착안하여 목표달성을 테마로 하는 이번 이벤트를 기획하게 됐다”면서 “그동안 진행된 주식 거래 이벤트의 경우 소규모 투자자들은 혜택을 받기 어려웠으나 개인별 투자 성향을 반영한 목표달성 주식레이스 이벤트를 통해 소규모 투자자들도 많은 혜택을 누리길 바란다”고 전했다 이벤트에 대한 보다 자세한 내용은 유진투자증권 홈페이지를 참고하거나 고객만족센터로 문의하면 된다 fnjs return 받은값\n",
      "UTF-8\n",
      "766 start\n",
      "https://www.inthenews.co.kr/news/article.html?no=31983 : 규모의 주식을 추가 취득했습니다. 18일 대웅은 자회사 대웅제약의 30만 6513주를약 취득한다고 공시했습니다. 주식 취득 뒤 대웅의 대웅제약 지분율은 47.7%가 됩니다. 주식 취득은 오는 19일로 예정돼 있습니다. 대웅은...\n"
     ]
    },
    {
     "name": "stderr",
     "output_type": "stream",
     "text": [
      "C:\\Users\\user\\anaconda3\\envs\\py38_64\\lib\\site-packages\\urllib3\\connectionpool.py:981: InsecureRequestWarning: Unverified HTTPS request is being made to host 'www.inthenews.co.kr'. Adding certificate verification is strongly advised. See: https://urllib3.readthedocs.io/en/latest/advanced-usage.html#ssl-warnings\n",
      "  warnings.warn(\n"
     ]
    },
    {
     "name": "stdout",
     "output_type": "stream",
     "text": [
      "utf-8\n",
      "898 start\n",
      "규모의 주식을 추가 취득했습니다 18일 대웅은 자회사 대웅제약의 30만 6513주를약 취득한다고 공시했습니다 주식 취득 뒤 대웅의 대웅제약 지분율은 477가 됩니다 주식 취득은 오는 19일로 예정돼 있습니다 대웅은 이번 주식 취득의 목적을 “자회사 지분 확대”라고 밝혔습니다 한편 대웅제약은 최근 위식도역류질환 치료 신약인 펙수프라잔’을 중국에 수출한다고 공식 발표한 바 있습니다 유은실  return 받은값\n"
     ]
    },
    {
     "name": "stderr",
     "output_type": "stream",
     "text": [
      "C:\\Users\\user\\anaconda3\\envs\\py38_64\\lib\\site-packages\\urllib3\\connectionpool.py:981: InsecureRequestWarning: Unverified HTTPS request is being made to host 'www.inthenews.co.kr'. Adding certificate verification is strongly advised. See: https://urllib3.readthedocs.io/en/latest/advanced-usage.html#ssl-warnings\n",
      "  warnings.warn(\n"
     ]
    },
    {
     "name": "stdout",
     "output_type": "stream",
     "text": [
      "utf-8\n",
      "898 start\n",
      "http://news.mt.co.kr/mtview.php?no=2021031710315274563 : 상장 후 유통제한 주식은 기관 의무보유 확약 물량과 최대주주 SK케미칼이 보유한 5235만주, 우리사주조합 배정물량 449만400주 등을 합산하면 6760만2490주다. 총 발행주식(7650만주)의 88.37%다. 이를 제외한 상장...\n"
     ]
    },
    {
     "name": "stderr",
     "output_type": "stream",
     "text": [
      "C:\\Users\\user\\anaconda3\\envs\\py38_64\\lib\\site-packages\\urllib3\\connectionpool.py:981: InsecureRequestWarning: Unverified HTTPS request is being made to host 'news.mt.co.kr'. Adding certificate verification is strongly advised. See: https://urllib3.readthedocs.io/en/latest/advanced-usage.html#ssl-warnings\n",
      "  warnings.warn(\n"
     ]
    },
    {
     "name": "stdout",
     "output_type": "stream",
     "text": [
      "EUC-KR\n",
      "2394 start\n",
      "상장 후 유통제한 주식은 기관 의무보유 확약 물량과 최대주주 SK케미칼이 보유한 5235만주 우리사주조합 배정물량 449만400주 등을 합산하면 6760만2490주다 총 발행주식7650만주의 8837다 이를 제외한 상장 직후 유통 가능한 주식은 1163에 불과하다 그러나 상장일 이후에도 보유한다면 의무보유확약 기간이 끝나는 시기를 눈여겨볼 필요가 있다 기관투자자의 차익 실현 물량이 쏟아질 수 있기 때문이다 실제 지난해 10월 5일 SK바이오팜은 3개월 의무보유 기간이 끝난 기관 물량 170만여주가 쏟아지면서 1022 하락 마감했다 6개월 의무보유 물량492만주이 해제된 올해 1월 4일에도 8 넘게 급락했다 카카오게임즈 52600원 300 06도 1개월 의무보유확약 물량435만주이 해제된 지난해 10월 12일 7 이상 급락했다 이날만 기관은 257만주 가까이 팔아치웠다 SK바이오사이언스의 기관투자자 의무보유확약 물량은 6개월이 394만8100주3128로 가장 많다 이어 3개월2639 1개월2471 15일289 등 순이다 <저작권자 © 돈이 보이는 리얼타임  return 받은값\n"
     ]
    },
    {
     "name": "stderr",
     "output_type": "stream",
     "text": [
      "C:\\Users\\user\\anaconda3\\envs\\py38_64\\lib\\site-packages\\urllib3\\connectionpool.py:981: InsecureRequestWarning: Unverified HTTPS request is being made to host 'news.mt.co.kr'. Adding certificate verification is strongly advised. See: https://urllib3.readthedocs.io/en/latest/advanced-usage.html#ssl-warnings\n",
      "  warnings.warn(\n"
     ]
    },
    {
     "name": "stdout",
     "output_type": "stream",
     "text": [
      "EUC-KR\n",
      "2394 start\n",
      "https://www.nocutnews.co.kr/news/5517057 : 개인들의 주식 투자 열기에 힘입어 지난해 상장사 주식 투자자가 1년 전 보다 50% 가까이 폭증했다. 국민주로 부상한 삼성전자 주식을 보유한 주주는 300만 명에 육박했다. 16일 한국예탁결제원에 따르면...\n"
     ]
    },
    {
     "name": "stderr",
     "output_type": "stream",
     "text": [
      "C:\\Users\\user\\anaconda3\\envs\\py38_64\\lib\\site-packages\\urllib3\\connectionpool.py:981: InsecureRequestWarning: Unverified HTTPS request is being made to host 'www.nocutnews.co.kr'. Adding certificate verification is strongly advised. See: https://urllib3.readthedocs.io/en/latest/advanced-usage.html#ssl-warnings\n",
      "  warnings.warn(\n",
      "C:\\Users\\user\\anaconda3\\envs\\py38_64\\lib\\site-packages\\urllib3\\connectionpool.py:981: InsecureRequestWarning: Unverified HTTPS request is being made to host 'www.nocutnews.co.kr'. Adding certificate verification is strongly advised. See: https://urllib3.readthedocs.io/en/latest/advanced-usage.html#ssl-warnings\n",
      "  warnings.warn(\n"
     ]
    },
    {
     "name": "stdout",
     "output_type": "stream",
     "text": [
      "utf-8\n",
      "685 start\n",
      "개인들의 주식 투자 열기에 힘입어 지난해 상장사 주식 투자자가 1년 전 보다 50 가까이 폭증했다 국민주로 부상한 삼성전자 주식을 보유한 주주는 300만 명에 육박했다16일 한국예탁결제원에 따르면 지난해 상장법인 2352곳의 투자자 수중복 제외는 연말 기준 919만 명으로 집계됐다 이는 전년보다 300만 3055명 485 급증한 규모다 올해 초 주식 투자 열기가 절정에 달했던 점을 감안하면 이달 기준 주식 투자 인구는 1000만 명을 돌파했을 가능성이 크다 소유자별로 보면 개인 소유자910만 명가 전체의 991에 달했다 법인 소유자04와 외국인 소유자02가 그 뒤를 이었다 다만 1인당 평균 보유 주식 수는 법인 소유자가 약 116만 주로 가장 많았다그래픽김성기  return 받은값\n",
      "utf-8\n",
      "685 start\n",
      "http://www.incheonilbo.com/news/articleView.html?idxno=1084646 : 벼락 거지가 되는 것을 막기 위해 사람들은 주식 시장에 뛰어들었고, 많은 사람들이 식당, 지하철, 길거리에서 주식 이야기를 나누고 있고, 주식 거래 앱을 들여다보고 있다. 한국예탁결제원에 따르면 2020. 12.결산...\n",
      "UTF-8\n",
      "2846 start\n",
      "벼락 거지가 되는 것을 막기 위해 사람들은 주식 시장에 뛰어들었고 많은 사람들이 식당 지하철 길거리에서 주식 이야기를 나누고 있고 주식 거래 앱을 들여다보고 있다 한국예탁결제원에 따르면 2020 12결산 상장법인의 주식 소유자는 전년보다 약 300만 명이 늘어난 약 919만 명으로 집계되었다고 한다 우리나라 국민 5명 중 1명은 주식투자를 하고 있다는 이야기다 이러한 변화는 이혼 소송에서도 나타나고 있다 과거에는 주식을 가지고 있는 이혼 당사자를 만나보기 어려웠지만 요즘에는 주식을 가지고 있는 이혼 당사자를 심심치 않게 만나고 있다 가정법원에서 의뢰인과 주식 이야기를 나누기도 한다 그리고 상대방의 주식 보유 여부에 관한 조회 절차가 필수적인 절차가 되었다 주식은 재산적 가치가 있기 때문에 재산분할의 대상이 된다 상장주식은 물론 비상장주식도 재산적 가치가 있다면 재산분할의 대상이 된다 만약 상대방이 주식을 갖고 싶어 한다면 그 주식으로 재산분할을 하면 될 것이다 그러나 만약 상대방이 주식으로 재산분할하는 것에 동의하지 않는다면 그 주식의 재산가치를 평가하여 그 가액을 산정한 뒤 기여도에 따라 현금으로 재산분할을 해야 할 것이다 그렇다면 주식의 재산가액은 어떻게 평가해야 할까 상장주식이라면 시장에서 거래되는 가격 즉 시가에 따라 그 가액을 산정하면 된다 그러나 비상장주식은 시장에서 거래되지 않고 거래가 어렵고 복잡하기 때문에 그 가액을 산정하는데 어려움이 있다 물론 비상장주식의 객관적인 교환가치를 적정하게 반영한 매매사례가 있으면 그 가격을 재산가액으로 산정하면 될 것이다 그러한 매매사례가 없는 경우 당해 법인의 순자산가액을 발행주식총수로 나누어 나온 금액을 기준으로 1주당 가액을 정할 수 있다대법원 2002 6 11 선고 2001므1377 판결 참조 서울가정법원은 상속세 및 증여세법 시행령 제54조가 정한 방법 자산가치평가법 시장가치법 등에 따라 평가하기도 하고 시가감정을 통해 가액을 산정하기도 한다 이처럼 주식은 상장주식이든 비상장주식이든 그 평가방법에 차이가 있을 뿐 재산분할의 대상이 된다는 점에서는 동일하다 변호사와 이혼 상담을 할 때 변호사에게 자신 또는 상대방에게 주식이 있는지 여부와 그 주식의 가치를 평가할 수 있는 자료가 있는지 여부를 알려주는 것이 좋다 그리고 무엇보다 중요한 것은 주식투자를 하기 전에 내가 왜 주식투자를 하고자 하는지 주식투자로 성공을 하면 그 돈을 어디에 쓰고자 하는지’를 생각해보아야 한다는 점이다 무리한 주식투자 위험한 주식투자로 나의 사랑하는 가족을 위험에 빠뜨리고 나의 소중한 혼인관계를 위험에 빠뜨리지 않아야 할 것이다 법무법인 YK 이상준 이혼전문변호사 저작권자 © 인천일보 무단전재 및 재배포 금지 김도현 다른기사 보기 댓글삭제 삭제한 댓글은 다시 복구할 수 없습니다 그래도 삭제하시겠습니까 비밀번호 삭제 × 댓글 0 로그인 이름 비밀번호 내용 0 400 등록 댓글쓰기 계정을 선택하시면 로그인·계정인증을 통해 댓글을 남기실 수 있습니다 회원 로그인 비회원 글쓰기 이름 비밀번호 자동등록방지 확인 × 최신순 추천순 많이 본  return 받은값\n",
      "UTF-8\n",
      "2846 start\n",
      "http://www.discoverynews.kr/375208 : 오늘의주식TV(법인명스탁미디어그룹 주식회사)는 그동안 VIP 회원들을 대상에게만 판매했던 오늘의주식TV 주식교범 온라인 판매를 진행한다고 19일 밝혔다. 오늘의주식TV 주식교범은 다년간 경제방송을 통해 수익률과...\n",
      "UTF-8\n",
      "244 start\n",
      "오늘의주식TV법인명스탁미디어그룹 주식회사는 그동안 VIP 회원들을 대상에게만 판매했던 오늘의주식TV 주식교범 온라인 판매를 진행한다고 19일 밝혔다 오늘의주식TV 주식교범은 다년간 경제방송을 통해 수익률과 전문성을 갖추고 수익률 대회에서 1위를 차지한 바 있는 주식투자 전문가의 노하우를 담았다 기본적인 차트분석부터 실전투자에 바로 사용할 수 있는 주식투자 기법 등 주식거래 시 도움이 될 수 있는 내용으로 구성했다 오늘의주식TV 김상훈 대표이사는 “그동안 주식교범 판매를 원하는 투자자들의 성원에 힘입어 온라인 판매를 시작하게 됐다”며 “주식 초보도 쉽게 따라 할 수 있도록 챕터를 구성하고 시중의 주식 도서 보다 실제 투자에 바로 사용이 가능한 전문가의 노하우를 집약했다”고 전했다 오늘의주식TV 주식교범은 검색 포털에서 오늘의주식TV교범’으로 검색하면 구매 가능하다 <저작권자 ⓒ 디스커버리 return 받은값\n",
      "UTF-8\n",
      "244 start\n"
     ]
    },
    {
     "name": "stderr",
     "output_type": "stream",
     "text": [
      "C:\\Users\\user\\anaconda3\\envs\\py38_64\\lib\\site-packages\\urllib3\\connectionpool.py:981: InsecureRequestWarning: Unverified HTTPS request is being made to host 'search.naver.com'. Adding certificate verification is strongly advised. See: https://urllib3.readthedocs.io/en/latest/advanced-usage.html#ssl-warnings\n",
      "  warnings.warn(\n"
     ]
    },
    {
     "name": "stdout",
     "output_type": "stream",
     "text": [
      "https://www.sedaily.com/NewsView/22JVB1A8YU : 전날 ‘주식 초고수’가 가장 많이 사들인 종목은 비덴트였다. 우리기술투자(041190), HMM, 팬오션, 솔본(035610)이 그 다음이었다. 전날 최다 매도 종목은 우리기술투자며 비덴트, 삼성전자(005930), HMM, SK케미칼이 그...\n"
     ]
    },
    {
     "name": "stderr",
     "output_type": "stream",
     "text": [
      "C:\\Users\\user\\anaconda3\\envs\\py38_64\\lib\\site-packages\\urllib3\\connectionpool.py:981: InsecureRequestWarning: Unverified HTTPS request is being made to host 'www.sedaily.com'. Adding certificate verification is strongly advised. See: https://urllib3.readthedocs.io/en/latest/advanced-usage.html#ssl-warnings\n",
      "  warnings.warn(\n"
     ]
    },
    {
     "name": "stdout",
     "output_type": "stream",
     "text": [
      "utf-8\n",
      "2330 start\n",
      "전날 주식 초고수’가 가장 많이 사들인 종목은 비덴트였다 우리기술투자041190 재무분석차트영역계속기업리포트 HMM 팬오션 솔본035610 재무분석차트영역계속기업리포트이 그 다음이었다 전날 최다 매도 종목은 우리기술투자며 비덴트 삼성전자005930 재무분석차트영역계속기업리포트 HMM SK케미칼이 그 뒤를 이었다한편 미래에셋대우는 자사 고객 중에서 지난 1개월간 수익률 상위 1 투자자들의 매매 종목을 집계해 실시간·전일·최근 5일 기준으로 모바일트레이딩시스템MTS상에서 공개하고 있다 이 통계데이터는 미래에셋대우의 의견과 무관한 단순 정보안내이며 각각의 투자자 개인에게 맞는 투자 또는 수익달성을 보장하지 않는다 또 테마주 관련 종목은 이상 급등락 가능성이 있으므로 유의해야 한다 viewer 심우일  return 받은값\n"
     ]
    },
    {
     "name": "stderr",
     "output_type": "stream",
     "text": [
      "C:\\Users\\user\\anaconda3\\envs\\py38_64\\lib\\site-packages\\urllib3\\connectionpool.py:981: InsecureRequestWarning: Unverified HTTPS request is being made to host 'www.sedaily.com'. Adding certificate verification is strongly advised. See: https://urllib3.readthedocs.io/en/latest/advanced-usage.html#ssl-warnings\n",
      "  warnings.warn(\n"
     ]
    },
    {
     "name": "stdout",
     "output_type": "stream",
     "text": [
      "utf-8\n",
      "2330 start\n",
      "http://www.dailypop.kr/news/articleView.html?idxno=49841 : 스마트 팜 RTU(원격단말장치)를 제공하고 농업데이터를 스마트폰으로 수집·분석·제어하는 애그테크 플랫폼(AgTech·농사와 기술의 합성어)기업 주식회사 인팜이 주식회사 엘스톤으로부터 시드단계 투자금을 유치했다....\n",
      "UTF-8\n",
      "732 start\n",
      "스마트 팜 RTU원격단말장치를 제공하고 농업데이터를 스마트폰으로 수집·분석·제어하는 애그테크 플랫폼ATech·농사와 기술의 합성어기업 주식회사 인팜이 주식회사 엘스톤으로부터 시드단계 투자금을 유치했다 인팜은 외산 솔루션이 장비렌탈이 주류였던 시장에 내구성이 향상된 스마트팜 제어 플랫폼을 과수 농가에 접목하고 나아가 데이터 수집과 서비스 플랫폼으로 과수 농가를 위한 전용 RTU 장비와 앱을 통해 농민들은 날씨 재배법 상품 시세 판매 채널 등 농작물 생산부터 판매까지 모든 과정에서 필요한 정보를 얻는다 인팜의 핵심 사업은 하우스 농가에 적용하여 특용작물 시설작물의 관개 시설 제어를 계절과 날씨에 따라 자동적으로 제어하고 작물의 생육정보를 모으고 분석하여 기존에 축적된 작물별 생육 데이터를 활용하여 최적의 재배환경을 마련하는 원격 단말 제어장치 시스템에 있다 구대원 대표는 ”스마트팜 핵심 장비는 현재 어떠한 상황에서는 고장나지 않고 365일 정지하지 않는 최적의 환경 조성하는 시스템이 인프라로 구축되어져야 가능하다며 ”현장에 설치한 다양한 센서가 현재 습도와 온도 강우량 바람 등의 환경 요소를 센서가 감지하여 실시간으로 측정하고 중앙 통제 장치가 자동으로 냉난방 시설을 가동해 작물의 수확량을 극대화할 수 있어야 한다고 설명했다 ▲사진 좌 T 콘트롤 1호 내구성이 우수한 RTU 우 인파밍 제어 A 또한 ”타이탄농업용 방수방진 RTU는 외산제품보다 외부환경 변화에 대한 하드웨어적 내구성과 전기적 안정성을 극대화하고 LTE 통신으로 인터넷을 통해 제어하며 방수방진 효과가 높은 IP67 등급을 갖춘 제어장치로써 잦은 고장과 AS등의 문제로 유지보수의 어려움을 개선하고 농가에서 저렴한 서비스로 사용할 수 있도록 렌탈 요금체계를 제공하고 있다”고 설명했다 구대원 대표는 오랜기간의 과수 농가경험과 IT 및 정보통신 장비 개발 경험을 바탕으로 실제 과수원에 스마트 팜을 적용하며 터득한 노하우를 활용하고자 시스템을 개발하게 되었다고 한다 ”앞으로 계획은 범용 어플리케이션 센서 모듈 추가 및 도시형 인파밍 서비스 업그레이드와 해양어촌에서 사용될 수 있도록 바닷물 침수에 강화된 “포세이돈 RTU”를 추가 개발할 예정이며 지방 농촌도시를 중심으로 가맹사업을 점차 확대해 나갈 계획이다라며 이후 사업 계획을 밝혔다 주식회사 인팜은 창업진흥원 “2020 재도전 성공패키지 투자연계형”에 선정된 기업입니다 저작권자 © 데일리팝 무단전재 및 재배포 금지 김수진 다른기사 보기 인기기사 1스타트업 소식 마이리얼트립·밀리의서재·리디·요기요 外 2효성 조현준 회장 스마트 컨택센터로 “축적된 데이터를 통해 가치를 극대화해 활용해야” 3오늘뭐먹지 자취요리 초보에게도 쉬운 파스타 레시피 3종 함께 만들어봐요 4금융 단신 하나은행·신한금융희망재단·우리은행·KB국민은행 外 5한화가 달라져요 주요 계열사 여성 사외이사 대거 영입 6랜선여행 코로나 시대 혼자서 즐기기 좋은 행궁동 혼놀 코스 추천 7솔로이코노미 동향 배달의민족·CGV·GS25·세븐일레븐 外 8코로나19 시대 인증마크 제대로 알고 쓰자 마스크 구매 꿀팁 9KCC글라스 분할 및 합병 이후 첫 정기주총 개최코리아오토글라스 합병 10그것이 궁금 배민에서 새로 생긴 쇼핑라이브 어떤 걸까 최신기사 CJ CGV 올해도어렵다4월 2일부터 영화 관람료 1천원 인상 그것이 궁금 노후주택에 살고 있는 1인가구 서울시에서 리모델링비 지원 그것이 궁금 노후주택에 살고 있는 1인가구 서울시에서 리모델링비 지원 자취Ti 쓰던 치약으로 청소하자 활용방법 3가지 자취Ti 쓰던 치약으로 청소하자 활용방법 3가지 구해줘 청혼 집주인이 전세보증금 올려달래요 전세보증금 증액계약 시 주의 확정일자를 새로 받아야 할까 혼라이프 인터뷰 호텔조리과 전공의 자취러 전공을 살려서 혼밥이 더 수월했어요 혼라이프 인터뷰 호텔조리과 전공의 자취러 전공을 살려서 혼밥이 더 수월했어요 갤럭시 어썸 언팩 개최삼성전자 갤럭시 A52·A52 5G·A72 공개 갤럭시 어썸 언팩 개최삼성전자 갤럭시 A52·A52 5G·A72 공개 삼성전자 제52기 정기 주주총회 개최김기남 대표 정기 배당 규모 상향 등 주주환원 약속 성실 이행 신문사소개 기사 배열 기본방침 개인정보취급방침 청소년보호정책 이메일무단수집거부 RSS 서울시 강남구 테헤란로38길 6 MeMo빌딩 7층 청소년보호책임자 오정희 명칭 주와이드필드 제호 데일리팝 등록번호등록일 서울 자 0049820150115 · 강남 라 0074920110427 발행일 20110427 발행인 정단비 편집인 정단비 데일리팝 모든 콘텐츠영상기사 사진는 저작권법의 보호를 받은바 무단 전재와 복사 배포 등을 금합니다 Coyrih © 2021 데일리팝 A rihs reserved i o diyo return 받은값\n",
      "UTF-8\n",
      "732 start\n",
      "http://www.edaily.co.kr/news/newspath.asp?newsid=01197206628984632 : 강남에 거주하는 전문의 김모씨는 작년 10월 건물을 팔아 주식에 투자했다. 바이오주로 고수익을... 최근 주식시장의 변동성이 커졌지만 금 같은 안전자산은 외려 떨어졌다. 금리가 오르고 있긴 하지만 채권에 넣어봤자...\n"
     ]
    },
    {
     "name": "stderr",
     "output_type": "stream",
     "text": [
      "C:\\Users\\user\\anaconda3\\envs\\py38_64\\lib\\site-packages\\urllib3\\connectionpool.py:981: InsecureRequestWarning: Unverified HTTPS request is being made to host 'www.edaily.co.kr'. Adding certificate verification is strongly advised. See: https://urllib3.readthedocs.io/en/latest/advanced-usage.html#ssl-warnings\n",
      "  warnings.warn(\n",
      "C:\\Users\\user\\anaconda3\\envs\\py38_64\\lib\\site-packages\\urllib3\\connectionpool.py:981: InsecureRequestWarning: Unverified HTTPS request is being made to host 'www.edaily.co.kr'. Adding certificate verification is strongly advised. See: https://urllib3.readthedocs.io/en/latest/advanced-usage.html#ssl-warnings\n",
      "  warnings.warn(\n",
      "C:\\Users\\user\\anaconda3\\envs\\py38_64\\lib\\site-packages\\urllib3\\connectionpool.py:981: InsecureRequestWarning: Unverified HTTPS request is being made to host 'www.edaily.co.kr'. Adding certificate verification is strongly advised. See: https://urllib3.readthedocs.io/en/latest/advanced-usage.html#ssl-warnings\n",
      "  warnings.warn(\n"
     ]
    },
    {
     "name": "stdout",
     "output_type": "stream",
     "text": [
      "utf-8\n",
      "935 start\n",
      "강남에 거주하는 전문의 김모씨는 작년 10월 건물을 팔아 주식에 투자했다 바이오주로 고수익을 내보겠다며 장기투자에 나섰지만 불과 5개월 만에 싱겁게 목표수익률을 달성했다 5억원을 투자해 2억5000만원을 벌었다 6개월만에 50 수익률이다 김씨는 이 돈을 어떻게 굴리면 좋을까 고민이 많았다 최근 주식시장의 변동성이 커졌지만 금 같은 안전자산은 외려 떨어졌다 금리가 오르고 있긴 하지만 채권에 넣어봤자 연간 1 수익도 기대하기 힘들다 다시 부동산으로 돌아가자니 정부가 쏟아낸 각종 규제가 걸림돌이다 김씨는 결국 주식에 재투자하기로 결심했다 다만 종목은 재설정할 생각이다 올해 들어 미국발 금리 상승이 주식 시장의 변동성을 키우면서 작년 막차를 탄 투자자들의 불안감이 커지고 있지만 섣불리 주식시장을 떠나고 있지는 않다 증시주변자금이 감소하긴 했으나 투자처를 잃고 떠돌아다니는 부동자금이 늘어나진 않았다 자산가들 역시 컨택트Conc·접촉하는 경기민감주가 주도주로 떠오르는 등 색깔이 바뀌었을 뿐 주가가 더 오를 것이란 믿음은 굳건하다 금리 상승은 경기 회복 신호“유동성 충분하고 펀더멘털 건재” 자산시장의 큰 손이자 재테크 나침반인 강남 부자들은 작년에 오른 주식을 내다팔아 일부 차익을 실현하기는 했으나 여전히 주식을 가장 매력적인 투자처로 여긴다 이데일리가 강남권에 위치한 7명의 은행·증권 프라이빗뱅커PB를 상대로 인터뷰한 결과다 이데일리 김정훈  return 받은값\n",
      "utf-8\n"
     ]
    },
    {
     "name": "stderr",
     "output_type": "stream",
     "text": [
      "C:\\Users\\user\\anaconda3\\envs\\py38_64\\lib\\site-packages\\urllib3\\connectionpool.py:981: InsecureRequestWarning: Unverified HTTPS request is being made to host 'www.edaily.co.kr'. Adding certificate verification is strongly advised. See: https://urllib3.readthedocs.io/en/latest/advanced-usage.html#ssl-warnings\n",
      "  warnings.warn(\n"
     ]
    },
    {
     "name": "stdout",
     "output_type": "stream",
     "text": [
      "935 start\n",
      "http://www.businesspost.co.kr/BP?command=article_view&num=222444 : 에코프로비엠 주식 매수의견이 유지됐다. 올해부터 완성차기업들이 전기차용 배터리에 하이니켈(High-nickel) 양극재 도입을 본격화하며 매출이 크게 늘어날 것으로 전망됐다. 판매가격에 연동되는 원재료 가격이...\n",
      "UTF-8\n",
      "364 start\n",
      "에코프로비엠 주식 매수의견이 유지됐다 올해부터 완성차기업들이 전기차용 배터리에 하이니켈Hihnicke 양극재 도입을 본격화하며 매출이 크게 늘어날 것으로 전망됐다 판매가격에 연동되는 원재료 가격이 오르고 있는 점도 매출 증가에 영향을 줄 것으로 예상됐다 ▲ 김병훈왼쪽·권우석 에코프로비엠 공동대표 하이투자증권 정원석 연구원은 19일 에코프로비엠 목표주가를 19만 원으로 투자의견을 매수BUY로 유지했다 18일 에코프로비엠 주가는 15만7700원에 장을 마감했다 에코프로비엠은 전기차배터리에 쓰이는 2차전지의 주요 소재인 양극재를 주력으로 생산하는 기업이다 에코프로비엠은 2021년 1분기 연결기준으로 매출 3040억 원 영업이익 178억 원을 낼 것으로 예상된다 2020년 1분기와 비교해 매출은 81 영업이익은 102 늘어나는 것이다 정 연구원은 “제품 판매가격과 연동되는 주요 원재료 가격이 2020년 4분기부터 가파르게 상승하면서 매출 확대를 견인할 것으로 예상한다”고 내다봤다 리튬과 코발트는 에코프로비엠의 리튬이온 2차전지 원재료다 리튬 가격은 2020년 4분기에 15 2021년 1분기에 72 올랐다 코발트 가격은 2020년 4분기에 3 2021년 1분기에는 39 상승했다 2020년 4분기 실적 부진의 원인이었던 해상 운임비용도 점차 완화되며 판매관리비 부담도 줄어들고 있다는 점도 긍정적 요인이다 세계적 탄소제로정책과 전방업체들의 하이니켈Hihnicke 양극재 수요가 늘어난다는 점도 매출 증가에 기여할 것으로 전망됐다 하이니켈 양극재는 양극재에 니켈 함량을 높인 양극재를 말한다 양극재의 니켈 함량이 높을수록 배터리 용량을 늘리기 용이하다 에코프로비엠은 하이니켈 양극재시장에서 점유율로 따지면 세계 2위를 보이고 있다 주력 고객사인 SK 이노베이션의 배터리 다툼 결과에 따른 불확실성은 존재한다 SK이노베이션이 LG에너지솔루션과 국제무역위원회ITC 특허침해소송 최종판결 이후에도 합의에 적극적으로 나서지 않고 있기 때문이다 LG에너지솔루션이 원하는 배상액은 최소 3조 원 이상인 반면 SK이노베이션은 이에 크게 못 미치는 1조 원 안팎을 제시하고 있는 것으로 알려졌다 SK이노베이션이 3조 원 이상의 배상금을 지불하게 되면 중대형 배터리 누적 매출 50조 원 이상을 달성해야 발생할 수 있는 이익 규모이기 때문에 배터리 사업에 차질이 생길 것이라고 예상됐다 정 연구원은 일부 불확실성이 존재한다고 하더라도 향후 전기차시장의 높은 성장성을 고려할 때 배터리 수요 급증에 따른 에코프로비엠의 중장기 실적 성장의 방향성에는 변함이 없다고 판단된다고 바라봤다 에코프로비엠은 2021년 연결기준으로 매출 1조5440억 원 영업이익 970억 원을 낼 것으로 예상된다 2020년과 비교해 매출은 805 영업이익은 901 늘어나는 것이다 비즈니스포스트 정용석  return 받은값\n",
      "UTF-8\n",
      "364 start\n",
      "http://www.inews24.com/view/1351122 : 증시 활황으로 개인투자자들의 주식 직접 투자가 크게 늘면서 국내 주식형 펀드 환매가 잇따르고 있다. 그러나 ESG(환경·사회책임·지배구조) 펀드는 꾸준히 자금 유입이 늘며 활황을 보이고 있다. 17일...\n",
      "UTF-8\n",
      "390 start\n",
      "증시 활황으로 개인투자자들의 주식 직접 투자가 크게 늘면서 국내 주식형 펀드 환매가 잇따르고 있다 그러나 ESG환경·사회책임·지배구조 펀드는 꾸준히 자금 유입이 늘며 활황을 보이고 있다17일 금융투자업계에 따르면 국내 주식형 펀드는 설정액이 꾸준히 감소하며 올해 들어 1조2천억원의 자금이 빠져나갔다 지난해에는 주식형 펀드에서 연간 6조원에 달하는 자금이 빠져나가기도 했다17일 금융투자업계에 따르면 국내 주식형 펀드 중 ESG 펀드는 올해 들어 4천300억원의 자금이 유입되며 가파른 성장세를 보이고 있다 그래픽아이 return 받은값\n",
      "UTF-8\n",
      "390 start\n",
      "http://news.kmib.co.kr/article/view.asp?arcid=0015647517&code=61121211&cp=nv : 경찰 관계자에 따르면 어머니는 주식 투자에 실패해 빚이 많았고, 아들은 사업 실패로 인해 마땅한 수입이 없어 생활고에 시달리고 있었던 것으로 전해진다. 타살 정황이 없어 보인다고 판단한 경찰은 현재 정확한...\n",
      "{'http-equiv': 'Content-Type', 'content': 'text/html; charset=euc-kr'}\n",
      "content:text/html; charset=euc-kr\n",
      "euc-kr\n",
      "458 start\n",
      "경찰 관계자에 따르면 어머니는 주식 투자에 실패해 빚이 많았고 아들은 사업 실패로 인해 마땅한 수입이 없어 생활고에 시달리고 있었던 것으로 전해진다타살 정황이 없어 보인다고 판단한 경찰은 현재 정확한 사고 경위를 조사 중이다 우울감 등 말하기 어려운 고민이 있거나 주변에 이런 어려움을 겪는 가족지인이 있을 경우 자살예방 상담전화 ☎1393 정신건강 상담전화 ☎15770199 희망의 전화 ☎129 생명의 전화 ☎15889191 청소년 전화 ☎1388 청소년 모바일 상담 다 들어줄 개’ 어플 카카오톡 등에서 24시간 전문가의 상담을 받을 수 있습니다황금주 인턴 return 받은값\n",
      "{'http-equiv': 'Content-Type', 'content': 'text/html; charset=euc-kr'}\n",
      "content:text/html; charset=euc-kr\n",
      "euc-kr\n",
      "458 start\n",
      "http://www.sportsseoul.com/news/read/1024399?ref=naver : 바른경제TV는 오는 3월 24일부터 26일까지 서울 삼성동 코엑스에서 열리는‘국제인공지능대전 2021’에 참가해 AI 주식매매 프로그램 ‘바른이S’의 기술력을 선보인다. AI 주식매매 프로그램 ‘바른이S’는 금융위원회...\n",
      "utf-8\n",
      "130 start\n",
      "바른경제TV는 오는 3월 24일부터 26일까지 서울 삼성동 코엑스에서 열리는국제인공지능대전 2021’에 참가해 AI 주식매매 프로그램 바른이S’의 기술력을 선보인다AI 주식매매 프로그램 바른이S’는 금융위원회 주관 테스트베드 통과 및 수익률 1위를 기록한 AI를 탑재하여 개발되었다 AI 로봇이 수집한 신뢰성 있는 빅데이터를 통해 주식 정보를 분석하고 실시간으로 시장 변화에 대응하여 최적의 타이밍에 매매할 수 있도록 도와준다특히 주식을 처음 접하는 초보자도 시작 버튼 하나로 편하게 주식을 시작할 수 있도록 개발되었으며 개인의 투자 성향에 맞추어 투자금액 및 종목수 익절가 손절가를 조절할 수 있어 큰 호응을 얻고 있다이번 국제인공지능대전 참가에 맞추어 AI가 종목 분석을 하고 목표가를 제시하는 AI 분석 기능이 탑재된바른이S PRO’버전과 휴대폰으로 프로그램을 제어할 수 있는바른이S 모바일’버전을 처음 선보인다한편 바른경제TV 강우진 이종명 대표는 “진화되고 있는 바른이S의 기술력을 국제인공지능 대전에서 선보일 수 있어 자랑스럽고 프로그램 시연 가능한 자리에 많은 분들이 오시길 기대한다”고 밝혔다 sjsj1129 return 받은값\n",
      "utf-8\n",
      "130 start\n",
      "http://www.fashionbiz.co.kr/TN/?cate=2&recom=2&idx=183410 : 프랑스 럭셔리 슈즈 브랜드 ‘크리스찬루부탱(Christian Louboutin)’이 아넬리(Agnelli) 패밀리가 보유한 유럽의 투자 회사 엑소르에 자사 주식 24%를 5억4100만유로(약 7331억원)에 매각했다. 엑소르는 이번 파트너십 투자로...\n",
      "{'http-equiv': 'X-UA-Compatible', 'content': 'IE=Edge'}\n",
      "{'http-equiv': 'Content-Type', 'content': 'text/html; charset=euc-kr'}\n",
      "content:text/html; charset=euc-kr\n",
      "euc-kr\n",
      "356 start\n",
      "프랑스 럭셔리 슈즈 브랜드 크리스찬루부탱Chrisin Loubouin’이 아넬리Anei 패밀리가 보유한 유럽의 투자 회사 엑소르에 자사 주식 24를 5억4100만유로약 7331억원에 매각했다엑소르는 이번 파트너십 투자로 럭셔리 루부탱이 중국 시장을 중심으로 세계 시장 진출에 계기를 마련하게 됐다고 밝혔다 또 기존의 디지털과 e커머스 플랫폼 등 멀티 유통 채널 개발과 관련해 전략적으로 회사를 돕게 될 전망이다 패션 디자이너 크리스찬 루부탱은 지난 1991년 파트너 브루노 샴벨랑Bruno Chbend과 함께 파리를 베이스로 자신의 네임을 건 슈즈 브랜드를 설립했다 이후 글로벌 럭셔리 브랜드들과 경쟁하며 세계적인 메종으로 성장시켰다특히 2000년대 초반 세계적으로 히트한 미드 섹스앤더시티’의 주인공 캐리사라 제시카 파커가 사랑한 슈즈로 이름을 날렸다 아이코닉 한 레드 솔의 하이힐로 셀레브리티에서 로열패밀리까지 하이 프로필들이 즐겨 신는 등 유명세를 치르며 전 세계 여성들의 로망으로 자리 잡았다 지난 2014년에는 에펠 타워를 연상시키는 뾰족한 캡의 독특한 제품 디자인으로 화제가 된 하이엔드 코스메틱 라인을 출시해 성공적으로 전개 중이다 루부탱은 럭셔리 재벌에 속하지 않은 독립 기업으로 전 세계 30개국에 150여 개의 리테일 매장을 직접 운영해 왔다엑소르는 이번 딜을 2021년 2분기까지 마무리한다는 계획으로 “루부탱이 매우 중요하고 새로운 기회를 잡기 위해 준비하고 있던 중에 투자 합의가 이루어졌다”라고 밝혔다“지난 몇 년간 크리스찬 루부탱이 글로벌 럭셔리 메종들 사이에서 세계적으로 훌륭한 브랜드로 만들어낸 재능을 지켜보며 감탄했다”라고 엑소르 회장이자 CEO 존 엘칸John Eknn은 말했다 설립자 크리스찬 루부탱은 “그동안 우리 밸류를 존중하고 오픈 마인드로 야망과 젊은 다이내믹을 지닌 파트너를 찾아왔으며 마침내 그 길이 엑소르에 이르렀다”라며 “엑소르는 이상적인 파트너로 30여 년 전 시작된 루부탱의 도전을 함께 해 나갈 수 있다는 것을 확신하게 됐다 엑소르 팀이 앞으로 오랜 기간 함께 하길 바라며 메종의 휴먼 히스토리를 이해하고 케어해 나갈 수 있는 것에 감사한다”라고 말했다한편 하이엔드 자동차 브랜드 페라리의 대주주이기도 한 이탈리아 최대 투자 기업 엑소르는 자본 투자뿐만 아니라 설립자 루부탱의 동의하에 이사진 7명 중 2명을 선출하게 된다에소르는 작년 12월에는 프렌치 럭셔리 그룹 에르메스가 합작 설립한 중국 럭셔리 라이프스타일 브랜드 샹시아Shn Xi’에 8000만유로약 1084억원를 투자하며 대주주로 떠오르기도 했다 패션비즈이영지 파리 통신원<사진 출처_ 크르스찬루부탱> ＜저작권자 ⓒ Fshionbiz 무단전재 및 재배포 금지＞ 기사목록 이전 관련기사 월드이탈리아 OTB그룹 질샌더’ 전격 인수 뉴발란스키즈 라이프스타일 오이뮤와 컬래버 이랜드 후아유 곰 캐릭터 전년비 150 신장세 벨앤로스 롯데백화점 에비뉴엘 월드타워점 그랜드 오픈 주목 이앤씨 코스트코 등 대형 플랫폼에 밀착 대응 Todys Ho Cick 월요기획 잇미샤 등 영캐릭터 고급화 전략 통했다 세정 웰메이드 전속모델 임영웅 미공개컷 방출 LF 출신 박연 대표 서양네트웍스 CEO로 흄 하반기 오프라인 종료 캐주얼 업계 위기 HM 아르켓 메가 플래그십 가로수길에 4월 오픈 Bes Cick News 더현대서울 매출 톱 20은 가전 · 명품 압도 단독 머렐 이어 독립문까지 인수한 권성윤의 뒷심 하고엘앤에프 핫 브랜드 마뗑킴 투자 확정 탬버린즈젠틀몬스터 한 곳에 하우스도산 오픈 역시 젠틀몬스터 디저트도 색달라 누데이크 오픈 HM그룹 아르켓 더현대서울에 아시아 첫 매장 임블리 임지현 X 푸마 네이버라방 매출 4억7000만원 한세엠케이•인디에프 적자지속 올해는 반등할까 LF 출신 이상훈 상무 패션플러스 영업총괄로 월요기획빅3 유통 골프웨어 MD 리셋 포인트는 문의하기 기사제보 광고문의 정기구독 사이트이용 결제문의 기타문의 독자후기 회사소개 온라인광고 매거진광고 정기구독 고객센터 개인정보처리방침 Fiy Sie FSconsuin 주섬유저널 대표이사 김숙경 개인정보 보호책임자 김숙경 개인정보 보호담당자 이광주 사업자등록번호 2118160169 통신판매업신고 제 강남8535호 주소 서울시 강남구 논현로 815 6층 전화 025152235 팩스 025152745 Coyrih ⓒ FASHIONBIZ coLTD A Rihs Reserved 02 515 223 return 받은값\n",
      "{'http-equiv': 'X-UA-Compatible', 'content': 'IE=Edge'}\n",
      "{'http-equiv': 'Content-Type', 'content': 'text/html; charset=euc-kr'}\n",
      "content:text/html; charset=euc-kr\n",
      "euc-kr\n",
      "356 start\n",
      "http://www.sportsseoul.com/news/read/1023866?ref=naver : 최근 방송가에도 주식 열풍이 휘몰아치는 가운데, 연예인 개미 투자자들의 희로애락 스토리가 화제다. 지난 13일 방송된 MBC 예능 프로그램 '놀면 뭐하니?'에서는 직장인 '주린이(주식+어린이)'와 만나 대화를 나누는...\n",
      "utf-8\n",
      "133 start\n",
      "최근 방송가에도 주식 열풍이 휘몰아치는 가운데 연예인 개미 투자자들의 희로애락 스토리가 화제다지난 13일 방송된 MBC 예능 프로그램 놀면 뭐하니에서는 직장인 주린이주식어린이와 만나 대화를 나누는 유재석의 모습이 담겼다이날 주식을 하고 있다고 밝힌 유재석은 2008년 금융위기 때 관심을 갖게 됐다 단타 주식은 종일 붙잡고 있어야 해서 피곤하다며 끈기가 필요하다 가치투자 장기투자 할 사람은 마음먹은 순간 투자하면 된다 나는 나만의 철칙으로 장기투자를 한다 투자하고 싶은 기업은 확실하게 분석하는 편이고 경제신문 구독 주식 관련 방송을 본다고 전했다1987년 종잣돈 550만 원으로 주식 투자를 시작한 전원주는 노력파 주식 고수 중 한 명이다 전원주는 덮어놓고 투자하면 안 된다 회사가 우량한지 직원들이 얼마나 성실한지 봐야 한다고 강조했다이어 유재석과 마찬가지로 공부를 강조하며 직접 알아본 정보를 믿고 남의 말은 듣지 않아야 한다 나는 종목을 추천받아도 절반 정도만 투자했고 시간이 날 때마다 증권회사 객장에 가서 시세와 흐름을 보고 메모하며 공부한 다음 투자를 결정했다고 설명했다11년 전 2만 원대에 샀던 SK하이닉스 주식지난 2월 기준 12만 원대을 지금까지 보유 중인 전원주 그는 수익률 600를 달성했다고 전원주는 주식 투자 비결에 관해 일단 욕심을 버려야 한다며 보통 10 정도 수익이 나면 빼는 것도 방법이다 안 오른 주식은 참을성 있게 갖고 있으면 오른다 이윤이 적은 것부터 시작하면 실수가 없다고 말했다주식에 희비가 엇갈린 연예인들도 있다 앞서 지난 11일 방송된 MBC 파일럿 예능 프로그램 개미의 꿈에서도 주식 인생 그래프를 공개한 장동민 도경완의 모습이 전파를 탔다이날 장동민은 주식 투자를 누구에게 배운 것이 아니다라며 예전에 주식 투자를 했는데 상장폐지가 됐다 그때 주식은 나와 맞지 않는다고 생각해 아예 접었다 몇 년 뒤 지인이 좋은 주식을 추천해 줘서 다시 시작했지만 반토막이 났다고 회상했다실패의 경험을 딛고 일어선 장동민은 현재 투자금 대비 1200 이상 수익이 난 상황 그는 주식 투자 성공 비결에 관해 주가가 상승하더라도 내 원칙에 따라 매도한다라며 누구의 말을 듣지 않고 내 방식대로 주식을 하고 있다 욕심내지 않고 34 정도 수익이 나면 바로 매도한다 아쉬워하면 안 되더라고 밝혔다잡주 마니아 도경완은 급등주 투자로 300 가까이 수익을 봤다고 전했으나 현재 그 주식은 거래정지라고 최초 고백해 스튜디오를 발칵 뒤집었다 그는 아내 장윤정도 모르고 있는 사실이라며 장윤정의 투자는 받지 않을 거다 내 마지막 자존심이라고 밝혀 눈길을 끌었다과거 김보성은 갖고 있던 주식을 매도하지 않다가 4번이나 상장 폐지됐다고 밝힌 바 당시 그는 100억 원 가까이 손해를 본 탓에 연예계 활동을 하며 모았던 전 재산을 잃었다고 털어놨다미래에 대한 불안감으로 대한민국을 강타한 주식 투자 열풍 주식전문가 존 리는 여러 매체와의 인터뷰를 통해 주변의 권유로 주식을 매수하기보다는 회사의 가치를 보고 투자해야 한다고 조언하며 현명한 투자가들은 회사의 가치를 보고 투자한다 주식을 산다는 건 그 기업과 동행한다는 의미다 회사가 성장하는 동안 참고 기다려 줘야 한다고 꼬집었다 yoonz return 받은값\n",
      "utf-8\n",
      "133 start\n",
      "http://www.munhwa.com/news/view.html?no=2021031801072427100002 : 하이투자증권은 오는 5월 13일까지 스마트 지점 고객을 대상으로 ‘비대면 미국주식 매매 및 계좌개설 이벤트’를 진행하기로 했다고 18일 밝혔다. 특히 미국주식 매매 서비스 신청을 완료한 고객을 대상으로...\n",
      "{'http-equiv': 'content-type', 'content': 'text/html;charset=euc-kr'}\n",
      "content:text/html;charset=euc-kr\n"
     ]
    },
    {
     "name": "stdout",
     "output_type": "stream",
     "text": [
      "euc-kr\n",
      "477 start\n",
      "하이투자증권은 오는 5월 13일까지 스마트 지점 고객을 대상으로 비대면 미국주식 매매 및 계좌개설 이벤트’를 진행하기로 했다고 18일 밝혔다 특히 미국주식 매매 서비스 신청을 완료한 고객을 대상으로 미국주식 매매수수료를 업계 최저 수준이자 최장 기간인 1년간 0069로 제공하기로 했다 미국주식 매매를 위한 최초 투자지원금 30달러를 지원하며 100만 원 이상 매매한 고객에게는 최대 70달러를 추가로 지급한다 또 미국주식 실시간 시세 조회 서비스도 2개월간 무료로 제공한다 매월 100만 원 이상 매매할 경우에는 최대 1년간 무료 서비스를 제공한다 비대면 신규 계좌를 개설하는 고객에게 주식 매매수수료 001와 신용융자 3년간 45의 이자율 혜택을 제공한다 국내주식 계좌개설 시 축하금 1만 원을 100만 원 이상 매매 시에는 1만 원을 추가 지급한다 또 총 10주간 진행되는 이벤트 기간 동안 주차별로 매매 조건최소 1억 원을 충족할 경우 최대 현금 50만 원매주 최대 5만 원 중복 참여 가능의 혜택도 제공한다 이벤트와 관련된 보다 자세한 사항은 하이투자증권 홈페이지와 고객지원센터에 문의하면 된다 유회경  return 받은값\n",
      "{'http-equiv': 'content-type', 'content': 'text/html;charset=euc-kr'}\n",
      "content:text/html;charset=euc-kr\n",
      "euc-kr\n",
      "477 start\n"
     ]
    },
    {
     "name": "stderr",
     "output_type": "stream",
     "text": [
      "C:\\Users\\user\\anaconda3\\envs\\py38_64\\lib\\site-packages\\urllib3\\connectionpool.py:981: InsecureRequestWarning: Unverified HTTPS request is being made to host 'search.naver.com'. Adding certificate verification is strongly advised. See: https://urllib3.readthedocs.io/en/latest/advanced-usage.html#ssl-warnings\n",
      "  warnings.warn(\n"
     ]
    },
    {
     "name": "stdout",
     "output_type": "stream",
     "text": [
      "https://www.donga.com/news/article/all/20210316/105903047/1 : 자신의 주식을 모두 퍼싱스퀘어재단 등 자선단체에 기부하겠다고 썼다. 그는 “나는 쿠팡의 매우 운이 좋은... 이날 애크먼 회장이 기부한 주식은 현재 쿠팡 한 주를 50달러 선으로 계산하면 13억2500만 달러(약 1조5000억...\n",
      "UTF-8\n"
     ]
    },
    {
     "name": "stderr",
     "output_type": "stream",
     "text": [
      "C:\\Users\\user\\anaconda3\\envs\\py38_64\\lib\\site-packages\\urllib3\\connectionpool.py:981: InsecureRequestWarning: Unverified HTTPS request is being made to host 'www.donga.com'. Adding certificate verification is strongly advised. See: https://urllib3.readthedocs.io/en/latest/advanced-usage.html#ssl-warnings\n",
      "  warnings.warn(\n",
      "C:\\Users\\user\\anaconda3\\envs\\py38_64\\lib\\site-packages\\urllib3\\connectionpool.py:981: InsecureRequestWarning: Unverified HTTPS request is being made to host 'www.donga.com'. Adding certificate verification is strongly advised. See: https://urllib3.readthedocs.io/en/latest/advanced-usage.html#ssl-warnings\n",
      "  warnings.warn(\n"
     ]
    },
    {
     "name": "stdout",
     "output_type": "stream",
     "text": [
      "751 start\n",
      "자신의 주식을 모두 퍼싱스퀘어재단 등 자선단체에 기부하겠다고 썼다 그는 “나는 쿠팡의 매우 운이 좋은 초기 투자자”라면서 “Bo김범석 이사회 의장과 쿠팡의 팀에게 우리 모두를 대신해 감사한다”고 덧붙였다 퍼싱스퀘어재단은 경제 발전과 교육 의료 인권 예술 도시개발 분야의 혁신을 지원하기 위해 애크먼 회장 본인이 2006년 설립한 재단이다 주요기사 오세훈 “모든 조건 수용한다는 安 후보 발언 사실과 달라”靑 “경호처 직원 1명 LH근무 가족과 3기신도시 토지 매입대기발령” 이날 애크먼 회장이 기부한 주식은 현재 쿠팡 한 주를 50달러 선으로 계산하면 13억2500만 달러약 1조5000억 원 가량에 이르는 규모다 쿠팡의 주식 가치가 이번 상장 이후 급격히 불어나면서 그는 막대한 차익을 얻었는데 이를 모두 기부하겠다고 선언한 것이다 애크먼 회장이 쿠팡에 투자하고 있다는 사실은 오래 전부터 알려져 있었지만 그 규모가 얼마인지는 일반에 공개되지 않았었다 애크먼 회장의 순자산이 포브스 기준 30억 달러 선인 것을 감안하면 자기 재산의 상당히 많은 부분을 내놓기로 한 결정으로 월가에서도 그의 기부 결정을 듣고 매우 놀라워하는 분위기다 애크먼 회장은 리틀 버핏’으로 불릴 만큼 헤지펀드계에서 알아주는 거물급 인사로 통한다 뉴욕 출신으로 부동산금융회사를 운영하는 아버지에게 자라난 그는 하버드대를 나온 뒤 1992년 동창들과 함께 고담 파트너스’라는 투자회사를 설립하면서 월가에 뛰어들었다 돈 냄새를 기가 막히게 잘 맡는다는 평가를 들으며 승승장구를 해온 애크먼 회장은 행동주의 펀드’를 표방하면서 실적이 안 좋은 기업의 경영진들을 무섭게 몰아세운 적도 많았다 이런 냉정한 이미지와는 별개로 그는 자선사업에도 큰 관심을 기울이면서 남에게 베푸는 활동을 해왔다 애크먼 회장은 워런 버핏과 빌·멜린다 게이츠 부부가 시작한 기빙 플레지Givin Pede’에 2012년 동참하면서 전 재산의 절반 이상을 기부하겠다고 약속한 바 있다 당시 애크먼 회장은 “어렸을 때부터 아버지는 베푸는 것의 중요성을 알려주셨다”며 “이 가르침이 내 안에 남아있으며 처음에 돈을 벌었을 때도 나는 일부를 기부했다”고 밝혔다뉴욕유재동 특파원 jrre return 받은값\n",
      "UTF-8\n",
      "751 start\n",
      "https://view.asiae.co.kr/article/2021031610195729346 : 하나금융투자(대표이사 이진국)는 5월28일까지 해외주식 적립식 서비스를 이용하는 손님을 대상으로 경품을 제공하는 ‘엄마, 아빠 해외주식 사주세요’ 이벤트를 진행한다고 16일 밝혔다. 해외주식 적립식 서비스는...\n"
     ]
    },
    {
     "name": "stderr",
     "output_type": "stream",
     "text": [
      "C:\\Users\\user\\anaconda3\\envs\\py38_64\\lib\\site-packages\\urllib3\\connectionpool.py:981: InsecureRequestWarning: Unverified HTTPS request is being made to host 'view.asiae.co.kr'. Adding certificate verification is strongly advised. See: https://urllib3.readthedocs.io/en/latest/advanced-usage.html#ssl-warnings\n",
      "  warnings.warn(\n"
     ]
    },
    {
     "name": "stdout",
     "output_type": "stream",
     "text": [
      "utf-8\n",
      "1317 start\n",
      "하나금융투자대표이사 이진국는 5월28일까지 해외주식 적립식 서비스를 이용하는 손님을 대상으로 경품을 제공하는 엄마 아빠 해외주식 사주세요’ 이벤트를 진행한다고 16일 밝혔다 썝蹂몃낫湲 븘씠肄 해외주식 적립식 서비스는 미국주식 또는 ETF 상품을 최대 5종목 이내에서 지정해 매달 또는 매주 정해진 날짜에 설정한 금액만큼 자동으로 매수할 수 있는 서비스다 미국 주식을 정기적으로 환전 없이 쉽고 편리하게 매수할 수 있는 장점이 있다 미국주식 장기투자를 원하는 투자자는 물론 자녀에게 정기적으로 주식을 사주고 싶어 하는 손님을 위한 서비스다 이번 이벤트는 적립식 서비스를 통해 3달 동안 매달 30만원 이상 미국주식 혹은 ETF를 매수하면 자동으로 참여할 수 있다 선착순 500명에게 5만원 상당의 백화점 모바일 상품권을 제공하고 추가로 추첨을 통해 100명에게 디즈니10명’ 애플30명’ 코카콜라60명’ 등의 미국 주식을 1주씩 지급한다 신규 계좌개설 손님뿐만 아니라 기존 하나금융투자 계좌를 보유하고 있는 손님 모두 이벤트에 참여할 수 있다조일환 하나금융투자 BK추진본부장은 “최근 국내주식뿐만 아니라 해외주식 거래에 대한 투자자들의 관심과 열기가 고조되고 있는 가운데 특히 미국주식에 대한 수요가 폭증하고 있다”며 “하나금융투자는 미국주식을 매매하는 손님에게 보다 다양한 서비스를 제공하고자 미국주식 적립식 서비스 이벤트를 마련했다”고 말했다엄마 아빠 해외주식 사주세요’ 이벤트에 대한 자세한 사항은 하나금융투자 홈페이지나 하나금융투자 모바일 어플리케이션MTS 원큐프로’에서 확인할 수 있다 지연진  return 받은값\n",
      "utf-8\n",
      "1317 start\n",
      "https://www.sedaily.com/NewsView/22JVB0SR8P : 유가증권시장에서 개인 투자자가 1조 2,000억 원이 넘는 주식을 사들이면서 코스피 지수를 지탱하고 있다. 19일 오후 1시 42분 현재 코스피 지수는 전날보다 19.04포인트(0.62%) 내린 3,046.97을 나타내고 있다. 이날...\n"
     ]
    },
    {
     "name": "stderr",
     "output_type": "stream",
     "text": [
      "C:\\Users\\user\\anaconda3\\envs\\py38_64\\lib\\site-packages\\urllib3\\connectionpool.py:981: InsecureRequestWarning: Unverified HTTPS request is being made to host 'view.asiae.co.kr'. Adding certificate verification is strongly advised. See: https://urllib3.readthedocs.io/en/latest/advanced-usage.html#ssl-warnings\n",
      "  warnings.warn(\n",
      "C:\\Users\\user\\anaconda3\\envs\\py38_64\\lib\\site-packages\\urllib3\\connectionpool.py:981: InsecureRequestWarning: Unverified HTTPS request is being made to host 'www.sedaily.com'. Adding certificate verification is strongly advised. See: https://urllib3.readthedocs.io/en/latest/advanced-usage.html#ssl-warnings\n",
      "  warnings.warn(\n"
     ]
    },
    {
     "name": "stdout",
     "output_type": "stream",
     "text": [
      "utf-8\n",
      "1652 start\n",
      "유가증권시장에서 개인 투자자가 1조 2000억 원이 넘는 주식을 사들이면서 코스피 지수를 지탱하고 있다19일 오후 1시 42분 현재 코스피 지수는 전날보다 1904포인트062 내린 304697을 나타내고 있다이날 코스피는 18일현지 시간 미국 국고채 금리가 연 175에 육박했다는 소식이 알려지면서 장 초반 낙폭을 키웠다 미국 금리 상승은 외국인의 자금 이탈을 촉진하고 배터리·바이오·인터넷 등 기술주 부문의 가격 매력을 떨어뜨리는 변수로 작용한다 장중 한때 전 거래일보다 142 내린 302249를 기록하기도 했다그러나 개인 투자자가 유가증권시장에서 1조 2411억 원을 순매수하면서 낙폭이 다소 제한되는 모습이었다 외국인이 4282억 원 기관이 8000억 원을 순매도한 것과는 대조적이다 NAVER05 기아차023를 제외하면 시가총액 상위 10개 종목 모두 전날보다 내렸다 이 중 LG화학314 SK하이닉스176 삼성SDI136 등의 약세가 상대적으로 크다같은 시각 코스닥 지수는 전날보다 171포인트165포인트 오른 95148을 나타내고 있다 코스닥 역시 장중 한때 전 거래일보다 153 하락한 93527을 기록하기도 했지만 이후 개인과 외국인의 매수세에 힘입어 강보합세로 태세를 바꿨다현재 코스닥 시장에선 개인이 124억 원 외국인이 730억 원을 순매수하고 있다 반면 기관은 787억 원을 순매도 중이다 시가총액 상위 종목 중에선 알테오젠169 카카오게임즈076 펄어비스085 등이 전날보다 오른 가격에 거래되고 있다 반면 SK머티리얼즈249 씨젠156은 전 거래일 대비 내린 주가를 보이고 있다심우일  return 받은값\n"
     ]
    },
    {
     "name": "stderr",
     "output_type": "stream",
     "text": [
      "C:\\Users\\user\\anaconda3\\envs\\py38_64\\lib\\site-packages\\urllib3\\connectionpool.py:981: InsecureRequestWarning: Unverified HTTPS request is being made to host 'www.sedaily.com'. Adding certificate verification is strongly advised. See: https://urllib3.readthedocs.io/en/latest/advanced-usage.html#ssl-warnings\n",
      "  warnings.warn(\n"
     ]
    },
    {
     "name": "stdout",
     "output_type": "stream",
     "text": [
      "utf-8\n",
      "1652 start\n",
      "https://www.hankyung.com/economy/article/2021031716141 : 한다”며 “주식 등 수익률을 불리는 투자는 그 이후 생각해야 할 일”이라고 말했다. 주택청약은 민영주택... 미국 주식이나 나이가 적을수록 주식 투자 비중을 높여서 자금을 운용하는 타깃데이트펀드(TDF) 등...\n"
     ]
    },
    {
     "name": "stderr",
     "output_type": "stream",
     "text": [
      "C:\\Users\\user\\anaconda3\\envs\\py38_64\\lib\\site-packages\\urllib3\\connectionpool.py:981: InsecureRequestWarning: Unverified HTTPS request is being made to host 'www.hankyung.com'. Adding certificate verification is strongly advised. See: https://urllib3.readthedocs.io/en/latest/advanced-usage.html#ssl-warnings\n",
      "  warnings.warn(\n"
     ]
    },
    {
     "name": "stdout",
     "output_type": "stream",
     "text": [
      "UTF-8\n",
      "1353 start\n",
      "한다”며 “주식 등 수익률을 불리는 투자는 그 이후 생각해야 할 일”이라고 말했다주택청약은 민영주택·국민주택 가운데 어떤 형태의 분양을 원하는지 따져 월 납입액을 결정해야 한다 민간분양을 원하는 경우는 오랫동안 납입하는 것이 중요하다 금액은 원하는 지역과 전용면적에 따라 일정 금액만 청약통장에 예치돼 있으면 된다 다만 LH한국토지주택공사 서울주택도시공사SH공사 등 공공분양을 생각한다면 납입기간과 금액 둘 다 신경써야 한다 여유가 있다면 월 납부 인정 최대 금액인 10만원씩 저축하는 게 좋다연금저축·개인종합자산관리계좌ISA·IRP 등 노후를 준비하는 동시에 세액공제가 되는 상품에도 가입해야 한다 PB들 사이에서는 연간 납입액 700만원까지 세액공제가 되는 IRP에 대한 추천이 많았다 연말정산 때 공제분을 돌려받기 때문이다 IRP는 가입자가 직접 포트폴리오를 구성해 수익률을 조정할 수 있다 한수연 우리은행TCE센터 부지점장은 “IRP는 만 55세 이후 연금 형태로 받는 돈이기에 장기 투자에 적격”이라고 추천했다자산의 기초를 닦았다면 비로소 투자에 눈을 돌릴 때다 주요 은행 PB들은 일정 수준의 여유자금은 남겨 놓고 투자해야 한다고 강조했다 박현석 하나은행 투자전략부 팀장은 “여유자금이 없는 상태에서 결혼 내 집 마련 등 갑자기 목돈이 들어갈 일이 생길 수 있다”며 “투자한 종목이 단기적으로 손해를 보고 있는데 돈을 빼야 하는 상황이 올 수 있기 때문에 투자금 외에 여윳돈을 마련해둬야 한다”고 강조했다또 다른 은행의 PB센터장은 “이른바 몰빵’ 투자는 투자가 아니라 로또를 사는 것이나 마찬가지”라며 “배당금을 주는 미국 주식이나 나이가 적을수록 주식 투자 비중을 높여서 자금을 운용하는 타깃데이트펀드TDF 등 장기적으로 투자할 수 있는 대상에도 눈을 돌려봐야 한다”고 조언했다오현아정소람  return 받은값\n"
     ]
    },
    {
     "name": "stderr",
     "output_type": "stream",
     "text": [
      "C:\\Users\\user\\anaconda3\\envs\\py38_64\\lib\\site-packages\\urllib3\\connectionpool.py:981: InsecureRequestWarning: Unverified HTTPS request is being made to host 'www.hankyung.com'. Adding certificate verification is strongly advised. See: https://urllib3.readthedocs.io/en/latest/advanced-usage.html#ssl-warnings\n",
      "  warnings.warn(\n"
     ]
    },
    {
     "name": "stdout",
     "output_type": "stream",
     "text": [
      "UTF-8\n",
      "1353 start\n",
      "https://www.news1.kr/articles/?4246074 : 권혜정 기자,문영광 기자,김동은 기자 = 연예계에서 '주식' 이야기가 나오면 몇년째 거론되는 이가 있다. 바로 개그맨 표영호다. 종자돈 1000만원으로 15억원을 만들고, 15억원을 전부 잃었다는 이야기에 연예계 대표 주식...\n"
     ]
    },
    {
     "name": "stderr",
     "output_type": "stream",
     "text": [
      "C:\\Users\\user\\anaconda3\\envs\\py38_64\\lib\\site-packages\\urllib3\\connectionpool.py:981: InsecureRequestWarning: Unverified HTTPS request is being made to host 'www.news1.kr'. Adding certificate verification is strongly advised. See: https://urllib3.readthedocs.io/en/latest/advanced-usage.html#ssl-warnings\n",
      "  warnings.warn(\n"
     ]
    },
    {
     "name": "stdout",
     "output_type": "stream",
     "text": [
      "{'name': 'referrer', 'content': 'unsafe-url'}\n",
      "{'http-equiv': 'Content-Type', 'content': 'text/html; charset=utf-8'}\n",
      "content:text/html; charset=utf-8\n",
      "utf-8\n",
      "영상15억 날렸다고 25억 벌었다 개그맨 표영호 알고보니 연예계 주식고수 검색 본문 바로가기 회사정보 바로가기 20210319 금 실시간 return 받은값\n"
     ]
    },
    {
     "name": "stderr",
     "output_type": "stream",
     "text": [
      "C:\\Users\\user\\anaconda3\\envs\\py38_64\\lib\\site-packages\\urllib3\\connectionpool.py:981: InsecureRequestWarning: Unverified HTTPS request is being made to host 'www.news1.kr'. Adding certificate verification is strongly advised. See: https://urllib3.readthedocs.io/en/latest/advanced-usage.html#ssl-warnings\n",
      "  warnings.warn(\n"
     ]
    },
    {
     "name": "stdout",
     "output_type": "stream",
     "text": [
      "{'name': 'referrer', 'content': 'unsafe-url'}\n",
      "{'http-equiv': 'Content-Type', 'content': 'text/html; charset=utf-8'}\n",
      "content:text/html; charset=utf-8\n",
      "utf-8\n",
      "http://news.kbs.co.kr/news/view.do?ncd=5141051&ref=A : A 씨는 4년(2013년~2016년)간 7,200여 회 거래하고, 700억 원이 넘는 주식 '단타'를 쳤다가 감사원 감사에... 누구보다 주식시장 정보에 가까운 사람들의 주식 거래 규정입니다. ■자본시장법부터 까다로워 일부 LH 직원들은 내부...\n",
      "UTF-8\n",
      "985 start\n",
      "3449 start\n",
      "A 씨는 4년2013년2016년간 7200여 회 거래하고 700억 원이 넘는 주식 단타를 쳤다가 감사원 감사에 적발되기도 했습니다 계좌도 본인 계좌가 아닌 장모의 계좌를 썼습니다 매일 5번꼴 거래인데요 장중 거래만 했다면 금융시장 감독할 시간이 있었을까 싶을 정도입니다그럼 궁금해집니다 A 씨 같은 사람 또 나올 수 있을까요 누구보다 주식시장 정보에 가까운 사람들의 주식 거래 규정입니다 ■자본시장법부터 까다로워일부 LH 직원들은 내부 정보를 이용한 부동산 매매에 대해 수사를 받고 있지만 금융당국 직원은 주식 계좌 2개만 써도 수사 대상입니다 자본시장법 때문입니다자본시장법 제63조임직원의 금융투자상품 매매 1항입니다 ▲본인 명의 거래 ▲증권사 1곳의 1개 계좌만 사용 ▲거래내용 분기마다 보고를 규정하고 있습니다내 계좌 1개로 분기마다 무슨 종목 사고팔았는지 일일이 보고하지 않으면 형사적 책임을 져야 합니다 차명 거래는 3년 이하 징역까지 처벌받습니다 미공개 정보 이용 범죄는 1년 이상 징역이 가능한 중죄입니다금융감독원 임직원 행동강령 중 ＜임직원의 금융투자상품 매매거래 기준＞ ■68쪽짜리 금감원 행동강령주식은 점심때만 연 소득 절반 이하로그렇다고 자본시장법 범위 안에서 자유롭게 거래가 가능한 것도 아닙니다먼저 A씨가 소속돼 있던 금융감독원의 경우입니다 임직원 행동강령에 비교적 구체적으로 주식투자 방법을 써놨습니다 ｢임직원의 금융투자상품 매매거래 기준｣입니다먼저 근무시간에 거래하면 안 됩니다 점심시간엔 됩니다 국내 신용융자잔고가 무려 21조 원이 넘는다는데 신용도 못 씁니다 미수거래도 안 됩니다거래총액이 원천징수영수증에 찍힌 노동소득 총액의 50를 넘어서도 안 됩니다 거래 횟수는 분기별로 10번을 넘으면 안 됩니다 매수든 매도든 모두 거래가 체결되면 1번입니다 단타가 어려운 구조입니다 또 국·실장급 이상 직원은 주식거래 자체가 불가능합니다금감원 직원들은 직접 투자는 거의 못한다고 봐야 한다 장 좋았던 지난해도 공모펀드나 ETF 정도를 해야 했다고 말합니다■금융위 더 엄격4급 이상 주식 금지금융시장 정책을 총괄하는 금융위원회는 어떨까요 여기는 공무원 신분이란 단서가 더 붙습니다 공직자윤리법이 적용된단 소리입니다 주식 거래 규정이 더 엄격합니다4급 이상 공무원부터 주식 거래가 금지돼 있습니다 갖고 있던 주식은 3천만 원이 넘으면 팔아야 합니다 어기면 역시 수사대상입니다4급 이상 공무원은 배우자나 직계존비속의 주식이 3천만 원을 넘어도 팔아야 합니다금융당국 관계자는 배우자가 어떤 종목에 얼마 투자하는지까지는 모르는 경우가 많다면서 특히 부모나 성인 자녀보고 가진 있는 주식 팔라고 하면 제대로 응할지도 의문이라고 말했습니다그럼 금융위 5급 공무원 이하는 주식투자 좀 할 수 있을까요 분기별 20회 안에서 주식투자를 할 수는 있습니다 그런데 실제론 그것도 쉽지 않습니다직원이 주식 거래 내역을 보고하면 내부 검토를 거칩니다 내가 담은 종목 다 들여다보고 있는 거죠 그래서 대부분 테마주 같은 주식은 근처도 못 가고 대형주만 사야 한다고 합니다 금융위의 경우 과 한 곳에서 많아야 12명 정도만 주식 거래를 한다고 합니다■금융당국 직원이 LH에 혀를 찰 수 있게 되기까지 아니 그래가지고 주택 정책할 때 신경이 안 쓰일 수 있겠어요 금융당국 관계자가 혀를 차며 한 말입니다LH 등 주택 정책을 이끄는 공기업과 공무원이 현재의 느슨한 공직자 부동산 매매 규정 속에선 미공개 정보에 흔들리기 쉽다는 취지입니다이런 말을 할 수 있는 건 아마 금융당국 직원이 모든 공직자 중 가장 청렴해서는 아닐 겁니다 금융위원회는 2008년 개편 출범하면서 직원 주식거래 기준이 명확해졌습니다 그동안 금융당국 임직원의 주식 거래를 두고 수많은 반칙이 적발되면서 가능해진 일입니다 그렇게 쌓인 결과가 지금의 금융당국 직원 주식거래 규정입니다모든 금융당국 직원에게 완전히 주식 거래를 금지하는 것도 재산권 침해 소지가 있겠죠 재산권과 공직자 윤리 사이에 절충점을 십여 년간 찾아왔습니다 그래도 잡음이 전혀 없는 건 아닙니다 그만큼 어려운 일입니다LH 직원이라고 집이나 땅 사지 못하게 할 제도를 만들 수도 없을 테죠 역시 절충점이 필요합니다 그리고 그 계기는 지금일 겁니다홍남기 경제부총리가 오늘17일 LH 관련 투기 근절안을 이달 안에 내놓겠다고 밝혔습니다 주식 계좌 없이 금융 정책을 맡는 금융당국 직원이 이번에 발표될 LH 등 투기 근절안을 보고 또 혀를 차는 일은 없었으면 합니다  return 받은값\n",
      "UTF-8\n",
      "985 start\n",
      "3449 start\n",
      "http://www.busan.com/view/busan/view.php?code=2021031616232852039 : 주식 서적 코너. 연합뉴스 지난해 개인 투자자들의 주식 광풍이 불면서 1년 동안 상장사 주식 투자자가 300만 명 이상 급증했다. 전년 대비 50% 가까이 투자자가 늘어난 셈이다. 특히 ‘국민 주식’으로 불리는...\n",
      "UTF-8\n",
      "2952 start\n",
      "주식 서적 코너 연합 return 받은값\n",
      "UTF-8\n",
      "2952 start\n",
      "https://www.dailian.co.kr/news/view/973944/?sc=Naver : 주식에 대한 관심이 높아지며 많은 주식 프로그램들이 덩달아 관심을 받고 있다. 그 중에서 주식의민족이 개발한 주식 자동매매 프로그램 마운티의 경우 특정증권사 외의 국내의 모든 증권사와 연동하여 이용이 가능하며...\n"
     ]
    },
    {
     "name": "stderr",
     "output_type": "stream",
     "text": [
      "C:\\Users\\user\\anaconda3\\envs\\py38_64\\lib\\site-packages\\urllib3\\connectionpool.py:981: InsecureRequestWarning: Unverified HTTPS request is being made to host 'www.dailian.co.kr'. Adding certificate verification is strongly advised. See: https://urllib3.readthedocs.io/en/latest/advanced-usage.html#ssl-warnings\n",
      "  warnings.warn(\n",
      "C:\\Users\\user\\anaconda3\\envs\\py38_64\\lib\\site-packages\\urllib3\\connectionpool.py:981: InsecureRequestWarning: Unverified HTTPS request is being made to host 'www.dailian.co.kr'. Adding certificate verification is strongly advised. See: https://urllib3.readthedocs.io/en/latest/advanced-usage.html#ssl-warnings\n",
      "  warnings.warn(\n"
     ]
    },
    {
     "name": "stdout",
     "output_type": "stream",
     "text": [
      "utf-8\n",
      "338 start\n",
      "주식에 대한 관심이 높아지며 많은 주식 프로그램들이 덩달아 관심을 받고 있다 그 중에서 주식의민족이 개발한 주식 자동매매 프로그램 마운티의 경우 특정증권사 외의 국내의 모든 증권사와 연동하여 이용이 가능하며 주입식교육인 슈퍼바이저드 형식의 반자동 프로그램이 아닌 자율학습 형식의 언슈퍼바이저드 완전 자동 프로그램으로 별도의 수동 설치 없이 원터치 매매를 통해 초보자도 쉽게 주식자동주문 구동을 할 수 있어 편리함을 높였다기존에는 별도의 서버 구축이 되어있지 않아 노트북 및 컴퓨터에 설치한 후 고객에게 따로 전송하는 방식이었으나 최근 대규모 서버 확충으로 핸드폰 어플을 이용해 시간과 장소에 구애받지 않고 이용 가능하며 2세대 인공 지능 자동 주식프로그램인 만큼 고객 컴퓨터에 직접 원격 설치도 가능하다 따라서 PC 노트북 모바일 등 디바이스를 넘나들며 편히 거래가 가능해져 컴퓨터가 무조건적으로 필요한 HTS보다 접근성도 높다주식 초보자의 경우 매수와 매도 타이밍을 보는 게 문제가 아닌 여러 용어들을 배워가며 매매하는 자체가 어려울 수 있으나 프로그램 사용을 위해 조작법을 익히는 시간 낭비 없이 원터치 간편 구동 방식으로 많은 사람들의 이용이 늘고 있으며 투기 심리가 높은 사람들도 그 효율적으로 이용 가능하다주식자동매매프로그램 마운티는 시장패턴 3096개 알고리즘 업데이트 예정임을 밝혔으며 SGI서을보증과 제휴하여 증권프로그램 중에서는 유일하게 품질보증특허를 보유하고 있다는 점에서 주식자동매매프로그램에 대한 신뢰감이 더 높아진다관계자는 “스토카타 매매라고 불리는 초 분할매매 방식에 대한 특허 보유로 일확천금은 아니더라도 매일 꾸준한 수익을 기록할 수 있는 티끌 모아 태산’으로 시드머니를 많이 불릴 수 있다”며 “매일 가져가는 수익 자체는 23 수준으로 장기적으로 보았을 때 안정적으로 시드를 불려가고 싶은 개미들에게 유용할 것”이라고 전했다한편 주식자동매매프로그램에 대한 활용 방법이나 프로그램 다운로드 등에 대한 더욱 자세한 내용은 공식 홈페이지에서 상세하게 볼 수 있다©주 데일리안 무단전재 및 재배포 금지 0 0 0 관련기사 주식자동매매프로그램 마운티 주식매매 편하게 이용 가능해 주식자동매매프로그램 마운티 대규모 서버 확충으로 편리한 이용가능 전체 댓글 0 로그인 후 댓글을 작성하실 수 있습니다 좋아요순 최신순 반대순 많이 본  return 받은값\n",
      "utf-8\n",
      "338 start\n",
      "http://yna.kr/AKR20210315113200002?did=1195m : 국내주식 거래 시 유관기관 수수료를 포함한 모든 매매수수료를 받지 않는 이벤트를 벌인다고 15일... 김두헌 디지털영업본부 본부장은 \"장기간 투자해야 할 주식투자는 거래비용 걱정 없이 수수료 비용의 재투자...\n"
     ]
    },
    {
     "name": "stderr",
     "output_type": "stream",
     "text": [
      "C:\\Users\\user\\anaconda3\\envs\\py38_64\\lib\\site-packages\\urllib3\\connectionpool.py:981: InsecureRequestWarning: Unverified HTTPS request is being made to host 'www.yna.co.kr'. Adding certificate verification is strongly advised. See: https://urllib3.readthedocs.io/en/latest/advanced-usage.html#ssl-warnings\n",
      "  warnings.warn(\n"
     ]
    },
    {
     "name": "stdout",
     "output_type": "stream",
     "text": [
      "UTF-8\n",
      "1288 start\n",
      "국내주식 거래 시 유관기관 수수료를 포함한 모든 매매수수료를 받지 않는 이벤트를 벌인다고 15일 밝혔다 해당 계좌로 주가연계증권ELS이나 파생결합증권DLS을 100만원 이상 가입한 고객 1만명에겐 1만원을 지급하며 1천만원 이상 가입 고객 중 140명을 추첨해 세전 연 14 수익률의 특판 환매조건부채권RP 가입 혜택을 부여한다 김두헌 디지털영업본부 본부장은 장기간 투자해야 할 주식투자는 거래비용 걱정 없이 수수료 비용의 재투자 효과까지 누릴 수 있는 모바일증권 나무의 중개형 ISA로 시작하는 게 이득이다고 말했다 광고 n return 받은값\n"
     ]
    },
    {
     "name": "stderr",
     "output_type": "stream",
     "text": [
      "C:\\Users\\user\\anaconda3\\envs\\py38_64\\lib\\site-packages\\urllib3\\connectionpool.py:981: InsecureRequestWarning: Unverified HTTPS request is being made to host 'www.yna.co.kr'. Adding certificate verification is strongly advised. See: https://urllib3.readthedocs.io/en/latest/advanced-usage.html#ssl-warnings\n",
      "  warnings.warn(\n"
     ]
    },
    {
     "name": "stdout",
     "output_type": "stream",
     "text": [
      "UTF-8\n",
      "1288 start\n",
      "https://weekly.donga.com/3/all/11/2504536/1 : 국내주식은 약 100조 원이다. 개인투자자 수도 1000만 명에 육박한다. 그야말로 ‘대(大)주식시대’다. 그럼에도 ‘개미’의 투자 입문은 쉽지 않다. IPO(기업공개), ETF(상장지수펀드), 시크리컬(Cyclical: 경기민감주) 등...\n"
     ]
    },
    {
     "name": "stderr",
     "output_type": "stream",
     "text": [
      "C:\\Users\\user\\anaconda3\\envs\\py38_64\\lib\\site-packages\\urllib3\\connectionpool.py:981: InsecureRequestWarning: Unverified HTTPS request is being made to host 'weekly.donga.com'. Adding certificate verification is strongly advised. See: https://urllib3.readthedocs.io/en/latest/advanced-usage.html#ssl-warnings\n",
      "  warnings.warn(\n"
     ]
    },
    {
     "name": "stdout",
     "output_type": "stream",
     "text": [
      "UTF-8\n",
      "491 start\n",
      "국내주식은 약 100조 원이다 개인투자자 수도 1000만 명에 육박한다 그야말로 대大주식시대’다 그럼에도 개미’의 투자 입문은 쉽지 않다 IPO기업공개 ETF상장지수펀드 시크리컬Cycic 경기민감주 등 용어조차 낯선 주식판에서 떡상’가격 급등은 꿈만 같다 염승환 이베스트투자증권 부장이 펴낸 주린이가 가장 알고 싶은 최다질문 TOP 77’은 주식 초심자에게 유용한 가이드북이다 저자는 15년 차 증권맨이다 증권사에서의 경험을 살려 TV 방송과 유튜브 등에서 개인투자자를 위한 주식 상담 및 강의에 나섰다 날카로운 분석력과 초보자도 이해하기 쉬운 설명으로 증시명탐정’ 염블리’염승환러블리 등의 애칭도 얻었다주간동아’ 1277호 증시명탐정 염승환 “정유주·금융주 주목할 때”’ 제하 기사 참조 이 책은 주식 초보자의 궁금증을 해소해준다 주식 용어와 개념 등 기본기는 물론 주식시장의 작동 원리와 실전 투자 정석 등을 담았는데 77개 질문에 답하는 형식이라 이해하기 수월하다 “증권사 보고서는 주가에 어떤 영향을 미치는가”라는 질문에 대해 증권사 보고서의 뜻과 이를 작성하는 애널리스트의 역할을 짚고 “전망이 틀리기도 하지만 기업과 산업에 관한 깊은 정보를 제공하므로 반드시 정독해야 한다”270271쪽고 답하는 식이다 풍부한 실제 사례도 함께 제시했다 20대 시절 저자는 섣불리 투자한 종목이 상장 폐지되는 충격을 겪었다 주변 풍문과 가족·친척의 소개에 의존한 투자로 자산 3000만 원이 30만 원으로 쪼그라든 것 이를 계기로 본격적으로 투자 공부에 나선 그는 증권사에 입사 오늘의 염블리가 될 수 있었다 당시 경험을 두고 그는 “멋모르고 투자를 하다가 큰 손실을 봤다 당시 주식투자란 무엇인지 어떤 것을 알아야 하고 어떻게 투자해야 하는지 알았다면 큰 손실을 피할 수 있었을 것”9쪽이라며 기본기의 중요성을 강조한다포털에서 투벤저스’를 검색해 포스트를 팔로잉하시면 다채로운 투자 정보를 만나보실 수 있습니다주간동아 1280호 3535 김우정  return 받은값\n",
      "UTF-8\n"
     ]
    },
    {
     "name": "stderr",
     "output_type": "stream",
     "text": [
      "C:\\Users\\user\\anaconda3\\envs\\py38_64\\lib\\site-packages\\urllib3\\connectionpool.py:981: InsecureRequestWarning: Unverified HTTPS request is being made to host 'weekly.donga.com'. Adding certificate verification is strongly advised. See: https://urllib3.readthedocs.io/en/latest/advanced-usage.html#ssl-warnings\n",
      "  warnings.warn(\n"
     ]
    },
    {
     "name": "stdout",
     "output_type": "stream",
     "text": [
      "491 start\n"
     ]
    },
    {
     "name": "stderr",
     "output_type": "stream",
     "text": [
      "C:\\Users\\user\\anaconda3\\envs\\py38_64\\lib\\site-packages\\urllib3\\connectionpool.py:981: InsecureRequestWarning: Unverified HTTPS request is being made to host 'search.naver.com'. Adding certificate verification is strongly advised. See: https://urllib3.readthedocs.io/en/latest/advanced-usage.html#ssl-warnings\n",
      "  warnings.warn(\n"
     ]
    },
    {
     "name": "stdout",
     "output_type": "stream",
     "text": [
      "http://it.chosun.com/site/data/html_dir/2021/03/19/2021031900712.html : 주식 전문가 ‘염블리’ 염승환의 주린이를 위한 참고서 ‘주린이가 가장 알고 싶은 최다질문 TOP 77’은 한 계단 하락한 4위를 차지했고, 어린이 판타지 만화 ‘이상한 과자 가게 전천당 10’은 5위를 유지했다....\n",
      "UTF-8\n",
      "389 start\n",
      "주식 전문가 염블리’ 염승환의 주린이를 위한 참고서 주린이가 가장 알고 싶은 최다질문 TOP 77’은 한 계단 하락한 4위를 차지했고 어린이 판타지 만화 이상한 과자 가게 전천당 10’은 5위를 유지했다어린이 학습 만화 육아서 등의 인기가 꾸준하다 한국사를 쉽고 재미있게 학습할 수 있는 설민석의 한국사 대모험 16’이 예약판매를 시작하며 6위를 기록했고 흔한남매’와 우리말을 쉽고 재미있게 학습할 수 있는 흔한남매 불꽃 튀는 우리말 1’은 한 계단 내려 7위로 나타났다 국민 육아멘토 오은영 박사의 자녀교육서 어떻게 말해줘야 할까’는 전주와 동일한 8위를 기록했다 자격증 취득을 위한 학습서에도 독자들의 손길이 닿고 있다 EBS한국사 대표 강사 큰별쌤의 2021 큰별쌤 최태성의 별별한국사 한국사능력검정시험 심화123급>’상 하권은 일곱 계단 오른 9위와 10위를 기록했다 주제별 연상 암기로 쉽고 재미있게 단어를 외울 수 있는 해커스 토익 기출 보카’는 열 계단 하락해 19위에 안착했다전자책 분야에서는 제3회 자음과모음 경장편소설상 수상작 부디 얼지 않게끔’이 새롭게 1위에 등극했다 뒤를 이어 최상의 업무 환경을 제공하는 미래 기업 클라우드에서 벌어지는 일련의 사건을 다룬 SF 스릴러 웨어하우스’가 2위로 나타났다이은주  return 받은값\n",
      "UTF-8\n",
      "389 start\n",
      "http://www.edaily.co.kr/news/newspath.asp?newsid=03509606628984632 : 발행주식총수는 병합전 7378만9453주에서 병합후 1475만7890주로 줄어들게 된다. 회사 측은 목적에 대해 “적정유통 주식수 유지및 주가안정화”이라고 밝혔다. 주식병합으로 인해 오는 4월14일부터 5월3일까지...\n"
     ]
    },
    {
     "name": "stderr",
     "output_type": "stream",
     "text": [
      "C:\\Users\\user\\anaconda3\\envs\\py38_64\\lib\\site-packages\\urllib3\\connectionpool.py:981: InsecureRequestWarning: Unverified HTTPS request is being made to host 'www.edaily.co.kr'. Adding certificate verification is strongly advised. See: https://urllib3.readthedocs.io/en/latest/advanced-usage.html#ssl-warnings\n",
      "  warnings.warn(\n",
      "C:\\Users\\user\\anaconda3\\envs\\py38_64\\lib\\site-packages\\urllib3\\connectionpool.py:981: InsecureRequestWarning: Unverified HTTPS request is being made to host 'www.edaily.co.kr'. Adding certificate verification is strongly advised. See: https://urllib3.readthedocs.io/en/latest/advanced-usage.html#ssl-warnings\n",
      "  warnings.warn(\n",
      "C:\\Users\\user\\anaconda3\\envs\\py38_64\\lib\\site-packages\\urllib3\\connectionpool.py:981: InsecureRequestWarning: Unverified HTTPS request is being made to host 'www.edaily.co.kr'. Adding certificate verification is strongly advised. See: https://urllib3.readthedocs.io/en/latest/advanced-usage.html#ssl-warnings\n",
      "  warnings.warn(\n",
      "C:\\Users\\user\\anaconda3\\envs\\py38_64\\lib\\site-packages\\urllib3\\connectionpool.py:981: InsecureRequestWarning: Unverified HTTPS request is being made to host 'www.edaily.co.kr'. Adding certificate verification is strongly advised. See: https://urllib3.readthedocs.io/en/latest/advanced-usage.html#ssl-warnings\n",
      "  warnings.warn(\n"
     ]
    },
    {
     "name": "stdout",
     "output_type": "stream",
     "text": [
      "utf-8\n",
      "867 start\n",
      "발행주식총수는 병합전 7378만9453주에서 병합후 1475만7890주로 줄어들게 된다 회사 측은 목적에 대해 “적정유통 주식수 유지및 주가안정화”이라고 밝혔다주식병합으로 인해 오는 4월14일부터 5월3일까지 매매거래가 정지될 예정이다 신주권 상장 예정일은 2021년 5월4일이다 회사 측은 “주식병합은 기업가치가 유지되는 주식병합’ 이며 자본금이 감소되는 감자’가 아니”라면서 “주식의 병합으로 발생하는 1주미만의 단수주는 신주의 상장초일종가로 결정하여 현금 지급 예정”이라고 밝혔다 주요 return 받은값\n",
      "utf-8\n",
      "867 start\n",
      "https://imnews.imbc.com/replay/2021/nwtoday/article/6121707_34943.html : \"주식 쓸어 담는 큰손 '강남' 4050\" 국내 주식 열풍 소식, 어제도 전해드렸었는데요. 주식 쓸어 담는 큰손이 강남 사는 4050 투자자인가요. 마지막 키워드, 어떤 내용인지 소개해 주시죠. ◀ 나경철 아나운서 ▶ 지난해...\n"
     ]
    },
    {
     "name": "stderr",
     "output_type": "stream",
     "text": [
      "C:\\Users\\user\\anaconda3\\envs\\py38_64\\lib\\site-packages\\urllib3\\connectionpool.py:981: InsecureRequestWarning: Unverified HTTPS request is being made to host 'imnews.imbc.com'. Adding certificate verification is strongly advised. See: https://urllib3.readthedocs.io/en/latest/advanced-usage.html#ssl-warnings\n",
      "  warnings.warn(\n"
     ]
    },
    {
     "name": "stdout",
     "output_type": "stream",
     "text": [
      "utf-8\n",
      "264 start\n",
      "주식 쓸어 담는 큰손 강남 4050 국내 주식 열풍 소식 어제도 전해드렸었는데요 주식 쓸어 담는 큰손이 강남 사는 4050 투자자인가요 마지막 키워드 어떤 내용인지 소개해 주시죠 ◀ 나경철 아나운서 ▶ 지난해 개인 투자자들의 주식 열기로 주식 소유자가 급증했는데요 서울 강남구에 사는 4050대 중년층 남성이 큰손 투자자인 것으로 나타났다고 합니다 코스피 지수가 40년 만에 3천 선이 열리면서 지난해부터 동학 개미 운동 열풍이 이어지고 있는데요 한국예탁결제원이 발표한 2020 12월 결산 상장법인 소유자 현황에 따르면 지난해 주식 소유자는 919만76명으로 전년보다 300만 명이 증가했다고 합니다 이 가운데 개인은 910만 명 가량으로 대부분을 차지했다는데요 그렇다면 상장사 주식을 가장 많이 보유한 집단은 어디일까요 거주지와 연령 성별을 고려하면 서울 강남구에 거주하는 50대 남성으로 이들의 보유 주식 수는 총 11억 4000만 주에 달했다는데요 2위 역시 강남구에 사는 40대 남성으로 보유 주식 수는 8억300만 주였다고 합니다  return 받은값\n",
      "utf-8\n",
      "264 start\n",
      "http://www.businesspost.co.kr/BP?command=article_view&num=222446 : 휠라홀딩스 주식 매수의견이 유지됐다. 자회사의 신제품 출시가 예정돼 있고 미국에서 경기회복 조짐이 나타나고 있어 실적이 개선될 것으로 예상됐다. 윤근창 휠라홀딩스 대표이사. 이상헌 하이투자증권 연구원은...\n"
     ]
    },
    {
     "name": "stderr",
     "output_type": "stream",
     "text": [
      "C:\\Users\\user\\anaconda3\\envs\\py38_64\\lib\\site-packages\\urllib3\\connectionpool.py:981: InsecureRequestWarning: Unverified HTTPS request is being made to host 'imnews.imbc.com'. Adding certificate verification is strongly advised. See: https://urllib3.readthedocs.io/en/latest/advanced-usage.html#ssl-warnings\n",
      "  warnings.warn(\n"
     ]
    },
    {
     "name": "stdout",
     "output_type": "stream",
     "text": [
      "UTF-8\n",
      "369 start\n",
      "휠라홀딩스 주식 매수의견이 유지됐다 자회사의 신제품 출시가 예정돼 있고 미국에서 경기회복 조짐이 나타나고 있어 실적이 개선될 것으로 예상됐다 ▲ 윤근창 휠라홀딩스 대표이사 이상헌 하이투자증권 연구원은 19일 휠라홀딩스 목표주가를 5만3천 원 투자의견을 매수BUY로 각각 유지했다 휠라홀딩스 주가는 18일 4만3천 원에 거래를 마쳤다 이 연구원은 “휠라홀딩스의 자회사인 골프용품기업 아쿠쉬네트가 올해 신제품을 출시하기로 돼 있어 실적 개선이 예상된다”며 “올해 미국에서 소비 회복조짐이 나타나고 있는 점도 긍정적이다”라고 말했다 휠라홀딩스는 휠라FILA 브랜드로 국내와 미국에서 신발 의류를 판매하고 있으며 휠라 브랜드와 관련된 로열티를 글로벌기업들로부터 받고 있다 이 연구원은 “글로벌 경기회복에 따른 실적 개선이 예상되는 만큼 휠라 브랜드의 가치 상승도 기대된다”고 덧붙였다 휠라홀딩스는 2021년 연결기준으로 매출 3조3120억 원 영업이익 4090억 원을 거둘 것으로 전망됐다 2020년보다 매출은 58 영업이익은 195 늘어나는 것이다 비즈니스포스트 조장우  return 받은값\n",
      "UTF-8\n",
      "369 start\n",
      "http://www.newsway.co.kr/news/view?tp=1&ud=2021031914595176446 : 증권업계에선 대형주 주식선물 호가가 제대로 만들어지지 않게 되고, 이는 개미 피해로 이어질 수 있다는 우려를 내놓고 있다. 혜택이 줄어들면 주식 거래량 자체가 줄어 증시가 위축될 수 있다는 지적도 있다. 현재...\n",
      "UTF-8\n",
      "2179 start\n",
      "증권업계에선 대형주 주식선물 호가가 제대로 만들어지지 않게 되고 이는 개미 피해로 이어질 수 있다는 우려를 내놓고 있다 혜택이 줄어들면 주식 거래량 자체가 줄어 증시가 위축될 수 있다는 지적도 있다 현재 미국과 영국 홍콩 같은 증시 선진국들은 시장조성 거래에 세금을 매기지 않는다 사공이 많으면 배가 산으로 간다는 옛말이 있다 표심 따라 여론 따라 흔들리며 국내 증시 제도는 산으로 가고 있는 듯 하다 금융당국은 스스로 뱉은 말조차 번복하며 정책 혼란만 가중시키고 있다 당국이 중심을 잡지 못하면 그 피해는 고스란히 일반 개인 투자자에게 돌아간다 더 이상 개미 눈치보기’가 아닌 금융당국의 강단을 기대한다 허지은  return 받은값\n",
      "UTF-8\n",
      "2179 start\n",
      "https://www.chosun.com/economy/stock-finance/2021/03/17/HYZ6FAVRWVCRFMWWAAWJKP5TQQ/?utm_source=naver&utm_medium=referral&utm_campaign=naver-news : “왜 내리기만 하는가” 개미들 혼란 “3월인데 스키장 개장했습니까? 왜 이렇게 내리기만 하는 겁니까?” (SK주주 이모씨) 역대급 청약 증거금을 모은 SK바이오사이언스 상장일을 하루 앞둔 가운데, 최근 한...\n"
     ]
    },
    {
     "name": "stderr",
     "output_type": "stream",
     "text": [
      "C:\\Users\\user\\anaconda3\\envs\\py38_64\\lib\\site-packages\\urllib3\\connectionpool.py:981: InsecureRequestWarning: Unverified HTTPS request is being made to host 'www.chosun.com'. Adding certificate verification is strongly advised. See: https://urllib3.readthedocs.io/en/latest/advanced-usage.html#ssl-warnings\n",
      "  warnings.warn(\n"
     ]
    },
    {
     "name": "stdout",
     "output_type": "stream",
     "text": [
      "utf-8\n",
      "“SK그룹이 스키장 주식이냐” 한달만에 시총 8조 넘게 줄었다 조선일 return 받은값\n",
      "utf-8\n",
      "http://www.ohmynews.com/NWS_Web/View/at_pg.aspx?CNTN_CD=A0002726602&CMPT_CD=P0010&utm_source=naver&utm_medium=newsearch&utm_campaign=naver_news : 주식투자에서 마음이 편안해지는 소소한 방법 2020년 3월 초, 코로나 발생 이후 흔들리던 주가가 폭락장세로... \"대출받으려는데 카뱅 접속이 안 되네..\" \"나도 아까부터 안 되더라고..\" 지금 대출이라도 받아서 주식을 사자는...\n"
     ]
    },
    {
     "name": "stderr",
     "output_type": "stream",
     "text": [
      "C:\\Users\\user\\anaconda3\\envs\\py38_64\\lib\\site-packages\\urllib3\\connectionpool.py:981: InsecureRequestWarning: Unverified HTTPS request is being made to host 'www.chosun.com'. Adding certificate verification is strongly advised. See: https://urllib3.readthedocs.io/en/latest/advanced-usage.html#ssl-warnings\n",
      "  warnings.warn(\n"
     ]
    },
    {
     "name": "stdout",
     "output_type": "stream",
     "text": [
      "utf-8\n",
      "아내가 미수로 주식을 샀습니다 왜 마음이 편할까요 오마이 return 받은값\n",
      "utf-8\n",
      "https://magazine.hankyung.com/business/article/202103187105b : 있다면, 주식투자 분야에서 엄청난 성과를 거둘 수 있을 것이다. -필립피셔 잠자는 동안에도 돈이 들어오는... -워렌버핏 한국경제신문 증시전문기자들이 총력을 기울여 만든 주식 투자 가이드북 <똑똑한 주식투자>가...\n"
     ]
    },
    {
     "name": "stderr",
     "output_type": "stream",
     "text": [
      "C:\\Users\\user\\anaconda3\\envs\\py38_64\\lib\\site-packages\\urllib3\\connectionpool.py:981: InsecureRequestWarning: Unverified HTTPS request is being made to host 'magazine.hankyung.com'. Adding certificate verification is strongly advised. See: https://urllib3.readthedocs.io/en/latest/advanced-usage.html#ssl-warnings\n",
      "  warnings.warn(\n"
     ]
    },
    {
     "name": "stdout",
     "output_type": "stream",
     "text": [
      "UTF-8\n",
      "655 start\n",
      "있다면 주식투자 분야에서 엄청난 성과를 거둘 수 있을 것이다 필립피셔잠자는 동안에도 돈이 들어오는 방법을 찾지 못한다면 당신은 죽을 때까지 일을 해야만 할 것이다 워렌버핏한국경제신문 증시전문 return 받은값\n"
     ]
    },
    {
     "name": "stderr",
     "output_type": "stream",
     "text": [
      "C:\\Users\\user\\anaconda3\\envs\\py38_64\\lib\\site-packages\\urllib3\\connectionpool.py:981: InsecureRequestWarning: Unverified HTTPS request is being made to host 'magazine.hankyung.com'. Adding certificate verification is strongly advised. See: https://urllib3.readthedocs.io/en/latest/advanced-usage.html#ssl-warnings\n",
      "  warnings.warn(\n"
     ]
    },
    {
     "name": "stdout",
     "output_type": "stream",
     "text": [
      "UTF-8\n",
      "655 start\n",
      "http://news.mt.co.kr/mtview.php?no=2021031714485121501 : 17일 금융감독원 전자공시시스템에 따르면 조 전 부사장은 지난 11일 한진칼 주식 5만5000주를 장외거래로 KCGI에 넘겼다. 매매가격은 주당 6만1300원, 총액 34억원 가량이다. 이로 인해 조 전 부사장의 보유주식은 기존...\n"
     ]
    },
    {
     "name": "stderr",
     "output_type": "stream",
     "text": [
      "C:\\Users\\user\\anaconda3\\envs\\py38_64\\lib\\site-packages\\urllib3\\connectionpool.py:981: InsecureRequestWarning: Unverified HTTPS request is being made to host 'news.mt.co.kr'. Adding certificate verification is strongly advised. See: https://urllib3.readthedocs.io/en/latest/advanced-usage.html#ssl-warnings\n",
      "  warnings.warn(\n"
     ]
    },
    {
     "name": "stdout",
     "output_type": "stream",
     "text": [
      "EUC-KR\n",
      "1997 start\n",
      "17일 금융감독원 전자공시시스템에 따르면 조 전 부사장은 지난 11일 한진칼 주식 5만5000주를 장외거래로 KCGI에 넘겼다 매매가격은 주당 6만1300원 총액 34억원 가량이다 이로 인해 조 전 부사장의 보유주식은 기존 383만7394주575에서 378만2394주566로 감소한 것으로 추산된다 이번 거래로 KCGI의 진용이 흔들리지는 않는다 조 전 부사장의 주식을 KCGI가 샀기 때문에 3자 연합의 지분율은 변동없다 KCGI의 의결권 비중이 커졌다는 정도의 변화다 그러나 시장에서는 3자 연합에서 조 전 부사장이 이탈하려는 움직임 아니냐는 추측이 나온다 조원태 회장을 구심점으로 한 한진그룹이 산업은행의 지원을 받아 의결권 경쟁에서 사실상 승리한 만큼 기존 3자 연합의 입지가 크게 위축된 상태다 이런 시점에서 나온 조 전 부사장의 지분매각은 이들 진영의 해체를 예고하는 것 아니냐는 해석이다 나아가 일각에서는 3자 연합의 결속력이 예전 같지 않다는 점을 들어 각자 살길을 마련하는 수순에 들어갔을 수도 있다는 관측까지 있다 그러나 다소 섣부른 결론이란 시각도 적잖다 조 전 부사장의 지분은 외부주주에게 넘어가지 않았고 아직도 적잖은 주식이 3자 연합 울타리 안에 있다 다만 조 전 부사장이 자금압박을 느끼는 것은 사실이다 매달 생활비는 물론 1년에 한번씩 100억원 규모의 상속세를 마련해야 하는데 5년 넘게 이렇다할 소득이 보이지 않는다 대한항공 땅콩회항 사태에서 경영분쟁까지 진행되는 일련의 과정에서 한진그룹을 떠나면서 급여소득이 사라졌다 그나마 연간 10억원 가량 들어오던 주식 배당금도 줄어든 터다 반면 상속세 재원마련을 위해 시중은행 증권사 저축은행 등에서 빌린 주식담보대출 이자비용은 계속 나가는 중이다 이번 지분매각도 이런 사정 때문 아니겠냐는 것이 대체적인 시각이다 아직은 균열이 드러나진 않았으나 3자 연합의 결속력과 별개로 조 전 부사장의 자금난이 계속될 경우 이탈이 불가피해 보인다 투자은행IB업계 관계자는 한진그룹과 3자연합의 싸움은 아직 진행중이며 양쪽이 보유한 지분과 투자비용을 생각하면 줄다리기가 쉽게 끝나지는 않을 것이라면서도 다만 산업은행의 품으로 들어가며 여유를 찾은 한진그룹에 비해 3자 연합은 자원이 부족한데 시간이 갈 수록 자금이 고갈된다는 점이 가장 큰 문제라고 지적했다 이어 특히 3자연합이 전선에 쏟아부은 자금 상당수가 차입금이라 불어나는 이자비용과 다가오는 만기연장을 이어가기 쉽지 않을 것이라고 덧붙였다 대한항공과 아시아나항공 여객기가 이동하고 있다 사진이기범  return 받은값\n"
     ]
    },
    {
     "name": "stderr",
     "output_type": "stream",
     "text": [
      "C:\\Users\\user\\anaconda3\\envs\\py38_64\\lib\\site-packages\\urllib3\\connectionpool.py:981: InsecureRequestWarning: Unverified HTTPS request is being made to host 'news.mt.co.kr'. Adding certificate verification is strongly advised. See: https://urllib3.readthedocs.io/en/latest/advanced-usage.html#ssl-warnings\n",
      "  warnings.warn(\n"
     ]
    },
    {
     "name": "stdout",
     "output_type": "stream",
     "text": [
      "EUC-KR\n",
      "1997 start\n",
      "https://www.dailian.co.kr/news/view/973637/?sc=Naver : 한국토지주택공사(LH) 직원의 땅 투기 의혹 여파로 금융당국 직원의 주식거래 행태도 살펴봐야 한다는... 3년간 주식투자와 관련해 자본시장법이나 내규를 위반한 직원이 121명으로 확인됐다. 특히 징계 사유 가운데...\n",
      "utf-8"
     ]
    },
    {
     "name": "stderr",
     "output_type": "stream",
     "text": [
      "C:\\Users\\user\\anaconda3\\envs\\py38_64\\lib\\site-packages\\urllib3\\connectionpool.py:981: InsecureRequestWarning: Unverified HTTPS request is being made to host 'www.dailian.co.kr'. Adding certificate verification is strongly advised. See: https://urllib3.readthedocs.io/en/latest/advanced-usage.html#ssl-warnings\n",
      "  warnings.warn(\n",
      "C:\\Users\\user\\anaconda3\\envs\\py38_64\\lib\\site-packages\\urllib3\\connectionpool.py:981: InsecureRequestWarning: Unverified HTTPS request is being made to host 'www.dailian.co.kr'. Adding certificate verification is strongly advised. See: https://urllib3.readthedocs.io/en/latest/advanced-usage.html#ssl-warnings\n",
      "  warnings.warn(\n"
     ]
    },
    {
     "name": "stdout",
     "output_type": "stream",
     "text": [
      "\n",
      "398 start\n",
      "한국토지주택공사LH 직원의 땅 투기 의혹 여파로 금융당국 직원의 주식거래 행태도 살펴봐야 한다는 목소리가 커지고 있다 실제 금융당국 일부 직원들이 내부규정을 어기고 차명계좌로 투자를 하다가 적발된 사실이 드러났기 때문이다19일 국회 정무위원회 소속 강민국 국민의힘 의원이 금융감독원과 한국거래소로부터 제출받은 자료에 따르면 최근 3년간 주식투자와 관련해 자본시장법이나 내규를 위반한 직원이 121명으로 확인됐다특히 징계 사유 가운데 차명을 이용해 거래한 경우나 거래내역을 신고하지 않은 사례도 1건 있었다 이에 중징계를 받은 직원은 면직과 정직이 각각 1명 감봉 6명 견책 1명이었고 나머지 112명은 주의나 경고의 솜방망이 처분을 받았다금감원의 경우 지난해 투자거래·신고 규정을 어기고 거래하다 자체 감사에서 적발된 임직원만 32명에 달했다 2019년에 12건이 적발된 것과 비교하면 징계‧조치 건수가 2배 넘게 늘어난 수준이다자본시장법 제63조는 금융당국 직원들의 내부정보‧미공개 정보를 활용한 거래를 막기 위해 차명 거래를 금지하고 거래하더라도 계좌를 1개만 사용하도록 강제하고 있다 또 거래내용을 정기 보고하도록 하고 있다금감원 직원은 주식거래를 할 경우 계좌를 사전에 등록해야 하고 거래 금액전년도 근로소득의 50 이내 거래 횟수분기당 10회 이내 거래 시간업무 시간외 점심시간만 가능 등을 제한받는다LH사태 불길 금융권 옮겨 붙을라내부거래 벼르는 야당 문제는 금융당국의 후속대처 자세다 최근 LH사태로 들끓는 여론을 감안하면 바짝 엎드려야 하지만 오히려 불법 거래는 없었다며 내부 비위 문제를 두둔하는 모습이다 실제 금융당국 관계자들도 우리는 LH처럼 내부정보를 사전에 알 수 있는 위치가 아니다고 항변하고 있다금감원 관계자는 최근 3년 간 임직원에 대한 조치는 불공정 거래로 인한 것이 아니라 거래내용 신고 일부누락이나 지연신고 거래한도 초과 등에 따른 것이라며 적발 건수가 늘어난 것은 기준을 강화해 거래 시간과 횟수 등 경미한 위반도 적발하고 있기 때문이라고 했다금융권 안팎에선 시장을 감시해야할 당국이 규정을 어긴 내부 직원에게 대부분 경징계로 면죄부를 주며 덮고 가려는 것 아니냐는 지적이 나오고 있다 LH사태로 치솟은 여론의 불길이 언제든 금융당국 쪽으로 옮겨 붙을 수 있는 상황이다현재 정치권에선 금융당국을 제2의 LH사태 타깃으로 벼르고 있다 시대적 화두로 공정 문제가 부상하면서 야당을 중심으로 금융시장에 대한 불공정 거래도 파헤쳐보겠다며 목청을 높이고 있다 자본시장의 불공정 사례가 추가로 확인돼 여론이 악화되면 금융당국도 사정칼날을 피하기 어려울 것으로 예상된다이와 관련 강민국 의원은 LH사태를 계기로 공직자가 부당하게 재산을 증식하는 것에 대해 국민적 공분이 일고 있는데 주식시장에서도 비슷한 일이 일어나는 건 아닌지 의심스럽다면서 공직사회와 시장참여자들에게 뿌리내린 불공정을 발본색원하는 계기가 돼야 한다고 말했다©주 데일리안 무단전재 및 재배포 금지 0 0 0 관련기사 금감원 OK·SBI·웰컴저축銀 고금리대출 비중 여전히 높아 금감원 미국 워싱턴사무소 폐쇄절차 돌입구조조정 일환 금감원 신한은행에 과태료 21억 부과시금고 과다 출연 금감원 옵티머스 2차 제재심도 결론 못내추후 재논의 금감원 노조 윤석헌 원장 퇴진 요구5일까지 거취 밝혀야 전체 댓글 0 로그인 후 댓글을 작성하실 수 있습니다 좋아요순 최신순 반대순 많이 본  return 받은값\n",
      "utf-8\n",
      "398 start\n",
      "\n"
     ]
    }
   ],
   "source": [
    "#1000 만개 정도의 검색 결과를 읽어온다.\n",
    "# 첫번째 페이지 start=1, 두번째 페이지인 경우 start=11인거 확인한다.\n",
    "# 웹 페이지 직접 접근 할 땐느 간단이 time.sleep()으로 요청을 간격적으로 한다.\n",
    "# 시간이 10분 정도 소요되기에 상태바를 보여준다. ( tqdm.tqdm_notebook 이용)\n",
    "\n",
    "from urllib.request import urlopen\n",
    "from tqdm import tqdm_notebook\n",
    "\n",
    "present_candi_text = []\n",
    "\n",
    "for n in tqdm_notebook(range(1,100,10)):\n",
    "    word = \"주식\"\n",
    "\n",
    "    url = searching(word,n)\n",
    "    headers = {'User-Agent' : 'Mozilla/5.0 (Macintosh; Intel Mac OS X 10_12_6) AppleWebKit/537.36 (KHTML, like Gecko) Chrome/61.0.3163.100 Safari/537.36'}\n",
    "    res = requests.get(url, headers = headers, verify=False)\n",
    "    soup = BeautifulSoup(res.text,'html.parser')\n",
    "#     print(soup)\n",
    "    list = soup.select('ul.list_news div.dsc_wrap a')\n",
    "    titlist = soup.select('ul.list_news a.news_tit')\n",
    "\n",
    "    for a in range(len(list)):\n",
    "        text = list[a].get_text()\n",
    "        href = list[a].attrs[\"href\"]\n",
    "        print(href, \":\", text)\n",
    "#         time.sleep(5)\n",
    "        print(detail(href,text),\"return 받은값\")\n",
    "    \n",
    "        present_candi_text.append(detail(href,text))\n",
    "    \n",
    "#     soup = BeautifulSoup(res.text,'html.parser')\n",
    "\n",
    "#     list = soup.select('ul.list_news div.dsc_wrap a')\n",
    "#     titlist = soup.select('ul.list_news a.news_tit')\n",
    "\n",
    "\n",
    "\n",
    "\n",
    "\n",
    "\n",
    "\n",
    "#     for a in range(len(list)):\n",
    "#         text = list[a].get_text()\n",
    "#         href = list[a].attrs[\"href\"]\n",
    "#         print(href, \":\", text)\n",
    "#         detail(href,text)\n",
    "    \n",
    "#     for line in tmp:\n",
    "#         present_candi_text.append(line.text)\n",
    "    time.sleep(1)"
   ]
  },
  {
   "cell_type": "code",
   "execution_count": 63,
   "metadata": {},
   "outputs": [
    {
     "data": {
      "text/plain": [
       "100"
      ]
     },
     "execution_count": 63,
     "metadata": {},
     "output_type": "execute_result"
    }
   ],
   "source": [
    "len(present_candi_text)"
   ]
  },
  {
   "cell_type": "code",
   "execution_count": 64,
   "metadata": {},
   "outputs": [],
   "source": [
    "import nltk\n",
    "from konlpy.tag import Okt\n",
    "\n",
    "okt = Okt()\n",
    "\n",
    "present_text = ''\n",
    "for each_line in present_candi_text[:100]:\n",
    "    present_text = present_text + each_line + \"\\n\""
   ]
  },
  {
   "cell_type": "code",
   "execution_count": 65,
   "metadata": {},
   "outputs": [
    {
     "data": {
      "text/plain": [
       "['쿠팡',\n",
       " '주식',\n",
       " '을',\n",
       " '보유',\n",
       " '한',\n",
       " '직원',\n",
       " '중',\n",
       " '일부',\n",
       " '는',\n",
       " '이제',\n",
       " '쿠팡',\n",
       " '주식',\n",
       " '을',\n",
       " '팔',\n",
       " '수',\n",
       " '있다',\n",
       " '쿠팡',\n",
       " '은',\n",
       " '지난',\n",
       " '18일',\n",
       " '현지',\n",
       " '시간',\n",
       " '부터',\n",
       " '일부',\n",
       " '직원',\n",
       " '의',\n",
       " '조기',\n",
       " '매각',\n",
       " '제한',\n",
       " '해제',\n",
       " '조건',\n",
       " '이',\n",
       " '충족',\n",
       " '됐다고',\n",
       " '밝혔다',\n",
       " '상장',\n",
       " '후',\n",
       " '6',\n",
       " '번째',\n",
       " '거래',\n",
       " '일',\n",
       " '만에',\n",
       " '주식',\n",
       " '을',\n",
       " '팔',\n",
       " '수',\n",
       " '있게',\n",
       " '된',\n",
       " '것',\n",
       " '이다',\n",
       " '이번',\n",
       " '에',\n",
       " '주식',\n",
       " '을',\n",
       " '팔',\n",
       " '수',\n",
       " '있는',\n",
       " '건',\n",
       " '회사',\n",
       " '임원',\n",
       " '이나',\n",
       " '상장',\n",
       " '전',\n",
       " '투자자',\n",
       " '가',\n",
       " '아닌',\n",
       " '일반',\n",
       " '직원',\n",
       " '이다',\n",
       " '쿠팡',\n",
       " '관계자',\n",
       " '는',\n",
       " '기존',\n",
       " '직원',\n",
       " '에게',\n",
       " '적용',\n",
       " '돼야',\n",
       " '하는',\n",
       " '통상',\n",
       " '적',\n",
       " '인',\n",
       " '180일',\n",
       " '동안',\n",
       " '의',\n",
       " '매각',\n",
       " '제한',\n",
       " '기간',\n",
       " '을',\n",
       " '6일',\n",
       " '로',\n",
       " '단축',\n",
       " '했다며',\n",
       " '회사',\n",
       " '임원',\n",
       " '은',\n",
       " '이번',\n",
       " '조기',\n",
       " '매각',\n",
       " '제한',\n",
       " '해제',\n",
       " '대상',\n",
       " '이',\n",
       " '아니다라고',\n",
       " '했다',\n",
       " '통상',\n",
       " '기업',\n",
       " '공개',\n",
       " 'IPO',\n",
       " '직후',\n",
       " '엔',\n",
       " '보호',\n",
       " '예수',\n",
       " '때문',\n",
       " '에',\n",
       " '임',\n",
       " '직원',\n",
       " '은',\n",
       " '주식',\n",
       " '을',\n",
       " '매각',\n",
       " '할',\n",
       " '수',\n",
       " '없다',\n",
       " '보호',\n",
       " '예수',\n",
       " '는',\n",
       " '기관',\n",
       " '투자자',\n",
       " '나',\n",
       " '직원',\n",
       " '등',\n",
       " '내',\n",
       " '부자',\n",
       " '가',\n",
       " '상장',\n",
       " '후',\n",
       " '일정',\n",
       " '기간',\n",
       " '주식',\n",
       " '을',\n",
       " '팔',\n",
       " '수',\n",
       " '없게',\n",
       " '한',\n",
       " '것',\n",
       " '이다',\n",
       " '쿠팡',\n",
       " '임원',\n",
       " '및',\n",
       " '관계',\n",
       " '사와',\n",
       " '쿠팡',\n",
       " '기업',\n",
       " '공개',\n",
       " '주',\n",
       " '관사',\n",
       " '간',\n",
       " '에',\n",
       " '체결',\n",
       " '된',\n",
       " '특정',\n",
       " '매각',\n",
       " '제한',\n",
       " '합의',\n",
       " '서',\n",
       " '규정',\n",
       " '에',\n",
       " '따르면',\n",
       " '지난해',\n",
       " '12월',\n",
       " '31일',\n",
       " '기준',\n",
       " '으로',\n",
       " '쿠팡',\n",
       " '에',\n",
       " '근무',\n",
       " '하던',\n",
       " '직원',\n",
       " '중',\n",
       " '현재',\n",
       " '쿠팡',\n",
       " '에',\n",
       " '재직',\n",
       " '중인',\n",
       " '직원',\n",
       " '이',\n",
       " '2021년',\n",
       " '2월',\n",
       " '26일',\n",
       " '까지',\n",
       " '보유',\n",
       " '하고',\n",
       " '있던',\n",
       " '발행',\n",
       " '주식',\n",
       " '은',\n",
       " '매',\n",
       " '각',\n",
       " '제한',\n",
       " '이',\n",
       " '해제',\n",
       " '되고',\n",
       " '거래',\n",
       " '도',\n",
       " '할',\n",
       " '수',\n",
       " '있다',\n",
       " '한편',\n",
       " '18일',\n",
       " '현지',\n",
       " '시간',\n",
       " '쿠팡',\n",
       " '주가',\n",
       " '는',\n",
       " '4389달러',\n",
       " '약',\n",
       " '4만',\n",
       " '9507원',\n",
       " '에',\n",
       " '마감',\n",
       " '했다',\n",
       " '전날',\n",
       " '보다',\n",
       " '139',\n",
       " '오른',\n",
       " '수치',\n",
       " '다',\n",
       " '쿠팡',\n",
       " '주가',\n",
       " '는',\n",
       " '상장',\n",
       " '이후',\n",
       " '줄곧',\n",
       " '떨어졌다',\n",
       " '상장',\n",
       " '첫',\n",
       " '날',\n",
       " '공모',\n",
       " '가',\n",
       " '35달러',\n",
       " '의',\n",
       " '두',\n",
       " '배',\n",
       " '인',\n",
       " '69달러',\n",
       " '까지',\n",
       " '오르',\n",
       " '기도',\n",
       " '했으나',\n",
       " '이후',\n",
       " '주가',\n",
       " '가',\n",
       " '계속',\n",
       " '떨어져',\n",
       " '17일',\n",
       " '엔',\n",
       " '4329달러',\n",
       " '로',\n",
       " '마감',\n",
       " '했다',\n",
       " '창업',\n",
       " '자',\n",
       " '인',\n",
       " '김범',\n",
       " '석',\n",
       " '이사회',\n",
       " '의장',\n",
       " '의',\n",
       " '지',\n",
       " '분',\n",
       " '가치',\n",
       " '는',\n",
       " '약',\n",
       " '8조',\n",
       " '6500억원',\n",
       " '이',\n",
       " '됐다',\n",
       " '김',\n",
       " '의장',\n",
       " '은',\n",
       " '쿠팡',\n",
       " '주식',\n",
       " '1억',\n",
       " '7480만',\n",
       " '2990',\n",
       " '주',\n",
       " '를',\n",
       " '갖고',\n",
       " '있다',\n",
       " '보유',\n",
       " '주식',\n",
       " '가치',\n",
       " '로만',\n",
       " '보면',\n",
       " '이재용',\n",
       " '삼성',\n",
       " '전자',\n",
       " '부회장',\n",
       " '에',\n",
       " '이',\n",
       " '은',\n",
       " '국내',\n",
       " '2',\n",
       " '위',\n",
       " '다',\n",
       " '김',\n",
       " '의장',\n",
       " '은',\n",
       " '일반',\n",
       " '주식',\n",
       " '인',\n",
       " '클래스',\n",
       " 'A',\n",
       " '대비',\n",
       " '29',\n",
       " '배',\n",
       " '의결권',\n",
       " '을',\n",
       " '가진',\n",
       " '클래스',\n",
       " 'B',\n",
       " '주식',\n",
       " '을',\n",
       " '전량',\n",
       " '보유',\n",
       " '하고',\n",
       " '있다',\n",
       " '해당',\n",
       " '주식',\n",
       " '가치',\n",
       " '는',\n",
       " '쿠팡',\n",
       " '전체',\n",
       " '지',\n",
       " '분',\n",
       " '의',\n",
       " '약',\n",
       " '10',\n",
       " '다',\n",
       " '◎',\n",
       " '공감',\n",
       " '언론',\n",
       " '뉴시스',\n",
       " 'jb',\n",
       " '\\n',\n",
       " '국내',\n",
       " '주식',\n",
       " '비중',\n",
       " '을',\n",
       " '확대',\n",
       " '하는',\n",
       " '방향',\n",
       " '으로',\n",
       " '자산',\n",
       " '배분',\n",
       " '목표',\n",
       " '비중',\n",
       " '수',\n",
       " '정안',\n",
       " '을',\n",
       " '논의',\n",
       " '할',\n",
       " '계획',\n",
       " '이',\n",
       " '없다고',\n",
       " '밝혔다',\n",
       " '복지부',\n",
       " '와',\n",
       " '국민연금',\n",
       " '은',\n",
       " '국민연금',\n",
       " '기금',\n",
       " '운용',\n",
       " '최고',\n",
       " '의사결정',\n",
       " '기구',\n",
       " '인',\n",
       " '기금',\n",
       " '운용',\n",
       " '위원회',\n",
       " '기',\n",
       " '금위',\n",
       " '에서',\n",
       " '국내',\n",
       " '주식',\n",
       " '비중',\n",
       " '확대',\n",
       " '관련',\n",
       " '자산',\n",
       " '배분',\n",
       " '목표',\n",
       " '비중',\n",
       " '에',\n",
       " '대해',\n",
       " '논의',\n",
       " '할',\n",
       " '계획',\n",
       " '이',\n",
       " '없다면서',\n",
       " '국내',\n",
       " '주식',\n",
       " '의',\n",
       " '허용',\n",
       " '오차',\n",
       " '범위',\n",
       " '±',\n",
       " '10',\n",
       " '포인트',\n",
       " '검토',\n",
       " '는',\n",
       " '전혀',\n",
       " '사실',\n",
       " '이',\n",
       " '아니다라고',\n",
       " '전',\n",
       " '했다',\n",
       " '앞서',\n",
       " '한',\n",
       " '언론',\n",
       " '은',\n",
       " '오는',\n",
       " '26일',\n",
       " '열리는',\n",
       " '국민연금',\n",
       " '기',\n",
       " '금위',\n",
       " '에서',\n",
       " '국내',\n",
       " '주식',\n",
       " '비중',\n",
       " '을',\n",
       " '20',\n",
       " '까지',\n",
       " '확대',\n",
       " '하는',\n",
       " '자산',\n",
       " '배분',\n",
       " '목표',\n",
       " '범위',\n",
       " '수',\n",
       " '정안',\n",
       " '을',\n",
       " '논의',\n",
       " '해',\n",
       " '의결',\n",
       " '하고',\n",
       " '국내',\n",
       " '주식',\n",
       " '의',\n",
       " '허용',\n",
       " '오차',\n",
       " '범위',\n",
       " '를',\n",
       " '현재',\n",
       " '±',\n",
       " '5',\n",
       " '포인트',\n",
       " '에서',\n",
       " '±',\n",
       " '10',\n",
       " '포인트',\n",
       " '로',\n",
       " '늘리는',\n",
       " '방안',\n",
       " '을',\n",
       " '검토',\n",
       " '하고',\n",
       " '있다고',\n",
       " '보도',\n",
       " '했다',\n",
       " 'T',\n",
       " '보건복지부',\n",
       " '국민연금',\n",
       " '기금',\n",
       " '운용',\n",
       " '위원회',\n",
       " '저작권',\n",
       " '자',\n",
       " '©',\n",
       " '여성신문',\n",
       " '무단',\n",
       " '전',\n",
       " '재',\n",
       " '및',\n",
       " '재',\n",
       " '배포',\n",
       " '금지',\n",
       " '전',\n",
       " '성운',\n",
       " '주식',\n",
       " '고수',\n",
       " '이정윤',\n",
       " '이',\n",
       " '주식',\n",
       " '을',\n",
       " '시작',\n",
       " '한',\n",
       " '뒤',\n",
       " '3년',\n",
       " '만에',\n",
       " '100억',\n",
       " '을',\n",
       " '달성',\n",
       " '한',\n",
       " '과정',\n",
       " '을',\n",
       " '공개',\n",
       " '했다',\n",
       " '지난',\n",
       " '18일',\n",
       " '방송',\n",
       " '된',\n",
       " 'MBC',\n",
       " '개미',\n",
       " '의',\n",
       " '꿈',\n",
       " '에서는',\n",
       " '주식',\n",
       " '시작',\n",
       " '이래',\n",
       " '3년',\n",
       " '만에',\n",
       " '100억원',\n",
       " '신화',\n",
       " '를',\n",
       " '이룬',\n",
       " '주식',\n",
       " '고수',\n",
       " '졸업생',\n",
       " '이정윤',\n",
       " '이',\n",
       " '등장',\n",
       " '해',\n",
       " '눈길',\n",
       " '을',\n",
       " '끌었다',\n",
       " '이정윤',\n",
       " '은',\n",
       " '23년',\n",
       " '차',\n",
       " '주식',\n",
       " '투자자',\n",
       " '로',\n",
       " '전직',\n",
       " '세무사',\n",
       " '에서',\n",
       " '재야',\n",
       " '의',\n",
       " '주식',\n",
       " '고수',\n",
       " '가',\n",
       " '된',\n",
       " '인물',\n",
       " '이다',\n",
       " '그',\n",
       " '는',\n",
       " '등장',\n",
       " '부터',\n",
       " '본격',\n",
       " '적',\n",
       " '으로',\n",
       " '주식',\n",
       " '시작',\n",
       " '한',\n",
       " '지',\n",
       " '3년',\n",
       " '만에',\n",
       " '100억원',\n",
       " '을',\n",
       " '달성',\n",
       " '했다는',\n",
       " '사실',\n",
       " '이',\n",
       " '밝혀져',\n",
       " '주',\n",
       " '터디원',\n",
       " '들',\n",
       " '을',\n",
       " '경악',\n",
       " '하게',\n",
       " '했다',\n",
       " '그',\n",
       " '는',\n",
       " '처음',\n",
       " '엔',\n",
       " '10만원',\n",
       " '으로',\n",
       " '계좌',\n",
       " '를',\n",
       " '만들었다며',\n",
       " '매달',\n",
       " '월급',\n",
       " '을',\n",
       " '넣었다고',\n",
       " '투',\n",
       " '자금',\n",
       " '에',\n",
       " '대해',\n",
       " '설명',\n",
       " '했다',\n",
       " '이',\n",
       " '에',\n",
       " '장동민',\n",
       " '은',\n",
       " '월급',\n",
       " '이',\n",
       " '몇',\n",
       " '천만',\n",
       " '원',\n",
       " '아니냐며',\n",
       " '너스레',\n",
       " '를',\n",
       " '떨자',\n",
       " '이정윤',\n",
       " '은',\n",
       " 'IMF',\n",
       " '외환위기',\n",
       " '직후',\n",
       " '주식',\n",
       " '을',\n",
       " '시작',\n",
       " '해',\n",
       " '운',\n",
       " '이',\n",
       " '좋았다고',\n",
       " '해명',\n",
       " '하기도',\n",
       " '했다이어',\n",
       " '이정윤',\n",
       " '은',\n",
       " '주식',\n",
       " '투자',\n",
       " '성',\n",
       " '공법',\n",
       " '을',\n",
       " '공개',\n",
       " '하며',\n",
       " '수요',\n",
       " '와',\n",
       " '공급',\n",
       " '의',\n",
       " '법칙',\n",
       " '에',\n",
       " '주목',\n",
       " '했다',\n",
       " '수요',\n",
       " '가',\n",
       " '많은',\n",
       " '종목',\n",
       " '의',\n",
       " '이유',\n",
       " '를',\n",
       " '파악',\n",
       " '한다면',\n",
       " '좋은',\n",
       " '종목',\n",
       " '을',\n",
       " '고를',\n",
       " '수',\n",
       " '있다고',\n",
       " '생각',\n",
       " '한',\n",
       " '것',\n",
       " '주식',\n",
       " '종목',\n",
       " '선정',\n",
       " '기준',\n",
       " '도',\n",
       " '재무제표',\n",
       " '분석',\n",
       " '정보',\n",
       " '분석',\n",
       " '차트',\n",
       " '분석',\n",
       " '등',\n",
       " '세',\n",
       " '가지',\n",
       " '로',\n",
       " '나눠',\n",
       " '설명',\n",
       " '했다',\n",
       " '또한',\n",
       " '주',\n",
       " '터디원',\n",
       " '들',\n",
       " '은',\n",
       " '물론',\n",
       " '전문가',\n",
       " '들',\n",
       " '의',\n",
       " '궁금증',\n",
       " '마저',\n",
       " '자아낸',\n",
       " '이정윤',\n",
       " '의',\n",
       " '포트폴리오',\n",
       " '가',\n",
       " '방송',\n",
       " '최초',\n",
       " '로',\n",
       " '공개',\n",
       " '됐다',\n",
       " '그러나',\n",
       " '종목',\n",
       " '에',\n",
       " '대한',\n",
       " '기',\n",
       " '대감',\n",
       " '으로',\n",
       " '가득',\n",
       " '찼던',\n",
       " '주',\n",
       " '터디원',\n",
       " '들',\n",
       " '은',\n",
       " '이내',\n",
       " '분야',\n",
       " '별로',\n",
       " '공개',\n",
       " '된',\n",
       " '포트폴리오',\n",
       " '를',\n",
       " '보자',\n",
       " '실망',\n",
       " '감',\n",
       " '을',\n",
       " '감추지',\n",
       " '못',\n",
       " '했다',\n",
       " '이',\n",
       " '에',\n",
       " '이정윤',\n",
       " '은',\n",
       " '대다수',\n",
       " '주린이',\n",
       " '들이',\n",
       " '하는',\n",
       " '행동',\n",
       " '이라고',\n",
       " '일침',\n",
       " '을',\n",
       " '가하면서도',\n",
       " '중요한',\n",
       " '것',\n",
       " '은',\n",
       " '종목',\n",
       " '을',\n",
       " '짚어주는',\n",
       " '게',\n",
       " '아니라',\n",
       " '공부',\n",
       " '하는',\n",
       " '방법',\n",
       " '이라고',\n",
       " '말',\n",
       " '하며',\n",
       " '포트폴리오',\n",
       " '구축',\n",
       " '방법',\n",
       " '을',\n",
       " '소개',\n",
       " '했다',\n",
       " '또',\n",
       " '이정윤',\n",
       " '은',\n",
       " '투',\n",
       " '자금',\n",
       " '이',\n",
       " '적다면',\n",
       " '3',\n",
       " '종목',\n",
       " '투',\n",
       " '자금',\n",
       " '이',\n",
       " '많다면',\n",
       " '810',\n",
       " '종목',\n",
       " '15',\n",
       " '종목',\n",
       " '까지',\n",
       " '사야',\n",
       " '한다고',\n",
       " '추천',\n",
       " '적정',\n",
       " '종목',\n",
       " '개수',\n",
       " '가',\n",
       " '중요하다고',\n",
       " '강조',\n",
       " '했다',\n",
       " '또한',\n",
       " '서로',\n",
       " '다른',\n",
       " '업종',\n",
       " '으로',\n",
       " '포트폴리오',\n",
       " '를',\n",
       " '분산',\n",
       " '하는',\n",
       " '게',\n",
       " '중요하다고',\n",
       " '했다',\n",
       " '종목',\n",
       " '을',\n",
       " '먼저',\n",
       " '고르',\n",
       " '기보',\n",
       " '다',\n",
       " '업종',\n",
       " '을',\n",
       " '먼저',\n",
       " '고르는',\n",
       " '법도',\n",
       " '추천',\n",
       " '했다',\n",
       " '한편',\n",
       " '개미',\n",
       " '의',\n",
       " '꿈',\n",
       " '은',\n",
       " '초',\n",
       " '저',\n",
       " '금리',\n",
       " '시대',\n",
       " '를',\n",
       " '맞아',\n",
       " '주식',\n",
       " '투자',\n",
       " '에',\n",
       " '직접',\n",
       " '뛰어든',\n",
       " '일명',\n",
       " '개미',\n",
       " '들',\n",
       " '의',\n",
       " '꿈',\n",
       " '을',\n",
       " '이루고자',\n",
       " '모인',\n",
       " '연예계',\n",
       " '주린이',\n",
       " '들과',\n",
       " '김동환',\n",
       " '대표',\n",
       " '박병창',\n",
       " '부장',\n",
       " '등',\n",
       " '전문가',\n",
       " '들',\n",
       " '이',\n",
       " '함께',\n",
       " '하는',\n",
       " '주식',\n",
       " '토크쇼',\n",
       " '프로그램',\n",
       " '이다',\n",
       " '2회',\n",
       " '방송',\n",
       " '을',\n",
       " '마지막',\n",
       " '으로',\n",
       " '파일럿',\n",
       " '방송',\n",
       " '이',\n",
       " '종료',\n",
       " '됐으며',\n",
       " '추후',\n",
       " '정규',\n",
       " '방송',\n",
       " '일정',\n",
       " '은',\n",
       " '미정',\n",
       " '이다',\n",
       " 'uechn',\n",
       " '\\n',\n",
       " '그러나',\n",
       " '이',\n",
       " '것',\n",
       " '만으로는',\n",
       " '부족하다고',\n",
       " '느낀',\n",
       " '개미',\n",
       " '개인',\n",
       " '투자자',\n",
       " '들',\n",
       " '이',\n",
       " '있었으니',\n",
       " '바로',\n",
       " '비상',\n",
       " '장',\n",
       " '주식',\n",
       " '을',\n",
       " '노리는',\n",
       " '이',\n",
       " '들',\n",
       " '이다',\n",
       " '비상',\n",
       " '장',\n",
       " '주식',\n",
       " '이란',\n",
       " '말',\n",
       " '그대로',\n",
       " '유가',\n",
       " '증권',\n",
       " '시장',\n",
       " '이나',\n",
       " '코스닥시장',\n",
       " '에',\n",
       " '상장',\n",
       " '되지',\n",
       " '않은',\n",
       " '주식',\n",
       " '으로',\n",
       " '장외',\n",
       " '주식',\n",
       " '’',\n",
       " '이라고도',\n",
       " '한다',\n",
       " '금융투자',\n",
       " '협회',\n",
       " '가',\n",
       " '운영',\n",
       " '하는',\n",
       " 'KOTC',\n",
       " '’',\n",
       " '를',\n",
       " '비롯',\n",
       " '해',\n",
       " '비상',\n",
       " '장',\n",
       " '주식',\n",
       " '거래',\n",
       " '사이트',\n",
       " '38',\n",
       " '커뮤니케이션',\n",
       " '’',\n",
       " '비상',\n",
       " '장',\n",
       " '주식',\n",
       " '플랫폼',\n",
       " '증권',\n",
       " '플러스',\n",
       " '비상',\n",
       " '장',\n",
       " '’',\n",
       " '서울',\n",
       " '거래소',\n",
       " '비상',\n",
       " '장',\n",
       " '’',\n",
       " '등',\n",
       " '에서',\n",
       " '매매',\n",
       " '된다',\n",
       " '장외',\n",
       " '주식',\n",
       " '거래',\n",
       " '터',\n",
       " '줏대',\n",
       " '감',\n",
       " '인',\n",
       " '38',\n",
       " '커뮤니케이션',\n",
       " '은',\n",
       " '중고나라',\n",
       " '카페',\n",
       " '처럼',\n",
       " '게시판',\n",
       " '에',\n",
       " '매매',\n",
       " '글',\n",
       " '을',\n",
       " '올려',\n",
       " '사고팔',\n",
       " '수',\n",
       " '있다',\n",
       " '증권',\n",
       " '플러스',\n",
       " '비상',\n",
       " '장이',\n",
       " '나',\n",
       " '서울',\n",
       " '거래소',\n",
       " '비상',\n",
       " '장',\n",
       " '은',\n",
       " '연결',\n",
       " '된',\n",
       " '증권사',\n",
       " '계좌',\n",
       " '를',\n",
       " '통한',\n",
       " '안전',\n",
       " '거래',\n",
       " '’',\n",
       " '를',\n",
       " '내세워',\n",
       " '장외',\n",
       " '주식',\n",
       " '매매',\n",
       " ...]"
      ]
     },
     "execution_count": 65,
     "metadata": {},
     "output_type": "execute_result"
    }
   ],
   "source": [
    "tokens_ko = okt.morphs(present_text)\n",
    "tokens_ko"
   ]
  },
  {
   "cell_type": "code",
   "execution_count": 66,
   "metadata": {},
   "outputs": [
    {
     "name": "stdout",
     "output_type": "stream",
     "text": [
      "28619\n",
      "5927\n"
     ]
    }
   ],
   "source": [
    "ko = nltk.Text(tokens_ko, name='주식')\n",
    "print(len(ko.tokens))\n",
    "print(len(set(ko.tokens)))"
   ]
  },
  {
   "cell_type": "code",
   "execution_count": 67,
   "metadata": {},
   "outputs": [
    {
     "data": {
      "text/plain": [
       "[('을', 694),\n",
       " ('이', 614),\n",
       " ('주식', 477),\n",
       " ('의', 477),\n",
       " ('에', 473),\n",
       " ('를', 441),\n",
       " ('은', 429),\n",
       " ('가', 325),\n",
       " ('는', 319),\n",
       " ('했다', 263),\n",
       " ('으로', 257),\n",
       " ('한', 239),\n",
       " ('투자', 212),\n",
       " ('로', 177),\n",
       " ('거래', 170),\n",
       " ('수', 153),\n",
       " ('것', 150),\n",
       " ('이다', 135),\n",
       " ('들', 132),\n",
       " ('에서', 130),\n",
       " ('있다', 128),\n",
       " ('다', 123),\n",
       " ('도', 117),\n",
       " ('등', 114),\n",
       " ('·', 114),\n",
       " ('할', 113),\n",
       " ('하는', 111),\n",
       " ('“', 111),\n",
       " ('과', 110),\n",
       " ('전', 109),\n",
       " ('’', 108),\n",
       " ('”', 105),\n",
       " ('증권', 103),\n",
       " ('하고', 98),\n",
       " ('시장', 96),\n",
       " ('적', 91),\n",
       " ('장', 89),\n",
       " ('고', 88),\n",
       " ('인', 87),\n",
       " ('와', 84),\n",
       " ('원', 80),\n",
       " ('기업', 76),\n",
       " ('해', 72),\n",
       " ('종목', 72),\n",
       " ('상장', 70),\n",
       " ('말', 70),\n",
       " ('있는', 67),\n",
       " ('된', 63),\n",
       " ('투자자', 63),\n",
       " ('그', 62),\n",
       " ('주', 60),\n",
       " ('비상', 59),\n",
       " ('까지', 57),\n",
       " ('직원', 56),\n",
       " ('주가', 56),\n",
       " ('미국', 56),\n",
       " ('명', 56),\n",
       " ('보유', 53),\n",
       " ('지', 53),\n",
       " ('부터', 52),\n",
       " ('분', 52),\n",
       " ('국내', 50),\n",
       " ('\\n', 50),\n",
       " ('금융', 49),\n",
       " ('쿠팡', 48),\n",
       " ('1', 47),\n",
       " ('된다', 46),\n",
       " ('및', 45),\n",
       " ('됐다', 45),\n",
       " ('지난', 44),\n",
       " ('날', 44),\n",
       " ('매매', 44),\n",
       " ('자', 43),\n",
       " ('2', 43),\n",
       " ('중', 42),\n",
       " ('지난해', 42),\n",
       " ('대한', 42),\n",
       " ('3', 42),\n",
       " ('기준', 41),\n",
       " ('이상', 41),\n",
       " ('에게', 40),\n",
       " ('때문', 40),\n",
       " ('시작', 40),\n",
       " ('금리', 40),\n",
       " ('한다', 40),\n",
       " ('이라고', 39),\n",
       " ('개인', 39),\n",
       " ('하면', 38),\n",
       " ('서비스', 38),\n",
       " ('가격', 37),\n",
       " ('해외', 37),\n",
       " ('18일', 36),\n",
       " ('약', 36),\n",
       " ('자금', 36),\n",
       " ('대', 36),\n",
       " ('밝혔다', 35),\n",
       " ('위', 35),\n",
       " ('정보', 35),\n",
       " ('장외', 35),\n",
       " ('에는', 35)]"
      ]
     },
     "execution_count": 67,
     "metadata": {},
     "output_type": "execute_result"
    }
   ],
   "source": [
    "ko.vocab().most_common(100)"
   ]
  },
  {
   "cell_type": "code",
   "execution_count": 68,
   "metadata": {},
   "outputs": [
    {
     "data": {
      "text/plain": [
       "[('주식', 477),\n",
       " ('투자', 212),\n",
       " ('거래', 170),\n",
       " ('“', 111),\n",
       " ('”', 105),\n",
       " ('증권', 103),\n",
       " ('시장', 96),\n",
       " ('장', 89),\n",
       " ('고', 88),\n",
       " ('원', 80),\n",
       " ('기업', 76),\n",
       " ('종목', 72),\n",
       " ('상장', 70),\n",
       " ('투자자', 63),\n",
       " ('주', 60),\n",
       " ('비상', 59),\n",
       " ('직원', 56),\n",
       " ('미국', 56),\n",
       " ('명', 56),\n",
       " ('보유', 53)]"
      ]
     },
     "execution_count": 68,
     "metadata": {},
     "output_type": "execute_result"
    }
   ],
   "source": [
    "stop_words = ['을', '한', '중', '일부', '는', '이제',  '을', '팔', '수', '있다', '은', '지난', \n",
    "'시간', '부터','일부',  '의',  '이', '충족','됐다고','밝혔다', '후','6', '번째',\n",
    " '일', '만에', '을', '팔', '수','있게', '된', '것', '이다', '이번', '에', '을', '팔', '수', '있는', '건',\n",
    " '이나',  '전',  '가', '아닌','이다',  '는', '기존',  '에게',  '돼야', '하는',\n",
    "  '적', '인',  '동안', '의', '을',  '로',  '했다며', '은', '이번', \n",
    "  '이', '아니다라고', '했다','직후', '엔','때문', '에','은',\n",
    "'을',  '할', '수', '없다', '는', '나', '등', '내','가',\n",
    " '후',  '을', '팔', '수', '없게', '한', '것', '이다', '및',\n",
    " '간', '에',  '된', '에', '따르면', \n",
    " '기준', '으로',  '에',  '하던', '중',  '에', '중인',  '이',  '까지',\n",
    " '하고', '있던','은',  '이',  '되고', '도', '할', '수', '있다', '한편', \n",
    " '시간', '는',  '약', '에',  '했다', '전날', '보다', '오른', '수치', '다', \n",
    " '는',  '이후', '줄곧', '떨어졌다',  '첫', '날','가',  '의', '두', '배', '인', '까지', '오르', '기도', '했으나',\n",
    " '이후', '가', '계속', '떨어져', '17일', '엔',  '로',  '했다', '인',  '의', \n",
    " '는', '약',  '이','됐다',  '은',  '를', '갖고', '있다', \n",
    " '가치', '로만', '보면',  '에', '이', '은', '2',  '다', '은', '인', \n",
    " '대비',  '을', '가진',  '을', '하고', '있다', '해당', '가치', '는', '의',\n",
    " '약', '10', '다', '◎', '공감', '언론', '뉴시스', 'jb', '\\n', '그러나', '이', '것', '만으로는', '부족하다고', '느낀', \n",
    " '들', '이', '있었으니', '바로', '을', '노리는', '이', '들', '이다',\n",
    " '이란', '말', '그대로', '이나', '에', '되지', '않은', '으로',  '’', '이라고도',\n",
    " '한다', '가', '운영', '하는', '’', '를', '비롯', '해', \n",
    " '’',  '’',  '’', '등', '에서', \n",
    " '된다', '은',  '처럼',  '에', '을',\n",
    " '올려', '사고팔', '수', '있다', '장이', '나', '은',  '된','를',\n",
    " '통한',  '’', '를', '내세워',  '를', '해준다', '일러스트', '이', '철원', '요즘', '은',\n",
    " '’', '’', '를', '꿈꾸는', '이', '들', '로', '붐빈다', '지난해', '부터', '이어진', \n",
    " '로', '’', '이','되는',  '의',  '을',  '에', '미리',  '하기',\n",
    " '위함', '이다', '이런', '와', '함께',  '·',  '·',\n",
    " '비롯', '한','·', '과', '같은',  '·',\n",
    " '의',  '이',  '되면서', '더욱',  '하고', '있다', '이', '중',   '의',\n",
    " '은', '이다', '다만',  '만', '사면','만사', '오케이', '’', '라는',\n",
    " '태도', '는', '지', '양해', '야', '한다',  '의',  '이', '100',  '이후', '주가', '로', '이어지는',\n",
    " '것', '은', '아니기', '때문', '이다',  '마지막', '는', '직전', '까지',  '30만원', '대에','됐지만',\n",
    "'이후',  '대에', '머물고', '있다', '한','는', '은',  '보다',  '의',  '과',\n",
    "'에서',  '에게', '불리할', '수', '밖에', '없다고', '말', '했다', '현재', '나', \n",
    "  '은','중', '가', '높은',  '를', \n",
    " '하고', '있다', '그러나', '애초', '에',  '은', '이', '아닐', '뿐더러', '에', \n",
    " '된',  '있는', '도', '적기', '때문', '에',  '’', '가', '될', '가능성', '이', '높다', '당연히', \n",
    "'이나',  '를', '정확히', '파악', '하기도', '어렵다', '몇', '가', '의',\n",
    " '를', '발간', '하고', '있지만', '이', '마저도', '소수', '에', '그', '치고', '있다', '또', '에',  '되는',  '자체', '가', '적기',\n",
    " '때문', '에',  '가',  '보다', '이뤄지기', '어려울', '수', '있다', '이', '관계자', '는',  '이', '없어서','내내', '못', '사고',\n",
    " '못', '파는', '경우', '도', '허다하다고', '말', '했다', '각',  '들', '이', '를', '내세우는', '이유', '도', '이', '때문',\n",
    " '이다',  '에서는', '지금',  '에', '여력', '이', '남아돌아','까지', '떠오르고', '있다고', '보고', '있다', '즉', '에', '자금', '이',\n",
    " '줄어들면',  '에', '되는', '이용자', '와', '자금', '도', '줄어들어', '유동성', '이', '더', '적어질', '수', '있다는', '얘기', '다',\n",
    "  '에서', '바보', '가', '되지', '않으려면', '내', '을', '꼭', '따져', '봐야', '한다', \n",
    " '을', '사려', '면',  '에', '된','과',  '을','하', '라는', '것', '이다', '들', '사이',\n",
    " '에서는', '에서',  '이', '이미', '들', '의','을', '뛰어넘어',\n",
    " '에', '이른다는',  '이', '나오고', '있다', '아울러',  '는',  '있는',  '의', '를',\n",
    " '확인','하고', '를', '100', '믿기', '보다는',  '에게', '확인', '해야', '한다고도', '조언', '했다', '무엇', '보다', '모든',\n",
    "  '이', '나중', '에', '효자', '’', '가', '될', '것', '이라는', '맹목', '적', '인', '믿음', '은',\n",
    " '금물', '이다', '생소한', '은', '사기', '의', '온', '상일', '수도', '있다', '한',  '는','김민정','따라']\n",
    "\n",
    "tokens_ko = [each_word for each_word in tokens_ko \n",
    "                          if each_word not in stop_words]\n",
    "\n",
    "ko = nltk.Text(tokens_ko, name='주식')\n",
    "ko.vocab().most_common(20)"
   ]
  },
  {
   "cell_type": "code",
   "execution_count": 73,
   "metadata": {},
   "outputs": [
    {
     "data": {
      "image/png": "[encoded data removed]",
      "text/plain": [
       "<Figure size 1440x1152 with 1 Axes>"
      ]
     },
     "metadata": {
      "needs_background": "light"
     },
     "output_type": "display_data"
    }
   ],
   "source": [
    "from PIL import Image\n",
    "\n",
    "import matplotlib.pyplot as plt\n",
    "from wordcloud import WordCloud\n",
    "import numpy as np\n",
    "from PIL import Image\n",
    "import matplotlib\n",
    "\n",
    "matplotlib.rcParams['font.family'] = \"Maulgun Gothic\"\n",
    "font_path = \"c:/Windows/Fonts/malgun.ttf\"\n",
    "\n",
    "# denne_mask = np.array(Image.open('cloud.png'))\n",
    "custom_mask = np.array (Image.open ( \"image.png\")) \n",
    "wc = WordCloud(font_path=font_path,mask=custom_mask, background_color=\"white\", width=800, height=600)\n",
    "data = ko.vocab().most_common(100)\n",
    "cloud = wc.generate_from_frequencies(dict(data))\n",
    "plt.figure(figsize = (20, 16))\n",
    "plt.axis('off')\n",
    "plt.imshow(cloud)\n",
    "plt.savefig('./files/newswordcloud.png')"
   ]
  },
  {
   "cell_type": "code",
   "execution_count": null,
   "metadata": {},
   "outputs": [],
   "source": []
  },
  {
   "cell_type": "code",
   "execution_count": null,
   "metadata": {},
   "outputs": [],
   "source": []
  },
  {
   "cell_type": "code",
   "execution_count": null,
   "metadata": {},
   "outputs": [],
   "source": []
  },
  {
   "cell_type": "code",
   "execution_count": null,
   "metadata": {},
   "outputs": [],
   "source": []
  }
 ],
 "metadata": {
  "kernelspec": {
   "display_name": "Python 3",
   "language": "python",
   "name": "python3"
  },
  "language_info": {
   "codemirror_mode": {
    "name": "ipython",
    "version": 3
   },
   "file_extension": ".py",
   "mimetype": "text/x-python",
   "name": "python",
   "nbconvert_exporter": "python",
   "pygments_lexer": "ipython3",
   "version": "3.8.5"
  }
 },
 "nbformat": 4,
 "nbformat_minor": 4
}
