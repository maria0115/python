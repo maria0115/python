{
 "cells": [
  {
   "cell_type": "code",
   "execution_count": 29,
   "metadata": {},
   "outputs": [],
   "source": [
    "def searching(word,num):\n",
    "    url = 'https://search.naver.com/search.naver?&where=news&query={keyword}&sm=tab_pge&sort=0&photo=0&field=0&reporter_article=&pd=0&ds=&de=&docid=&nso=so:r,p:all,a:all&mynews=0&cluster_rank=55&start={pagenum}&refresh_start=0'.format(keyword=word,pagenum=num)\n",
    "    return url\n",
    "    "
   ]
  },
  {
   "cell_type": "code",
   "execution_count": 12,
   "metadata": {},
   "outputs": [
    {
     "name": "stdout",
     "output_type": "stream",
     "text": [
      "https://search.naver.com/search.naver?&where=news&query=hi&sm=tab_pge&sort=0&photo=0&field=0&reporter_article=&pd=0&ds=&de=&docid=&nso=so:r,p:all,a:all&mynews=0&cluster_rank=55&start=01&refresh_start=0\n"
     ]
    }
   ],
   "source": [
    "print(searching(\"hi\",\"01\"))"
   ]
  },
  {
   "cell_type": "code",
   "execution_count": 35,
   "metadata": {},
   "outputs": [],
   "source": [
    "def select_first(driver):\n",
    "    \n",
    "    driver.implicitly_wait(10)\n",
    "    \n",
    "    first = driver.find_element_by_class_name('eLAPa')\n",
    "    print(\"첫게시물클릭햇다\")\n",
    "    first.click()\n",
    "    time.sleep(3)"
   ]
  },
  {
   "cell_type": "code",
   "execution_count": null,
   "metadata": {},
   "outputs": [],
   "source": [
    "# 네이버 뉴스 1페이지\n",
    "# https://search.naver.com/search.naver?&where=news&query=%EC%A3%BC%EC%8B%9D&sm=tab_pge&sort=0&photo=0&field=0&reporter_article=&pd=0&ds=&de=&docid=&nso=so:r,p:all,a:all&mynews=0&cluster_rank=55&start=1&refresh_start=0\n",
    "# 네이버 뉴스 2페이지\n",
    "# https://search.naver.com/search.naver?&where=news&query=%EC%A3%BC%EC%8B%9D&sm=tab_pge&sort=0&photo=0&field=0&reporter_article=&pd=0&ds=&de=&docid=&nso=so:r,p:all,a:all&mynews=0&cluster_rank=87&start=11&refresh_start=0"
   ]
  },
  {
   "cell_type": "code",
   "execution_count": 87,
   "metadata": {},
   "outputs": [],
   "source": [
    "def html2text(html):\n",
    "    soup = BeautifulSoup(html)\n",
    "    text_parts = soup.findAll(text=True)\n",
    "    print(''.join(text_parts))\n",
    "    return ''.join(text_parts)"
   ]
  },
  {
   "cell_type": "code",
   "execution_count": 42,
   "metadata": {},
   "outputs": [],
   "source": [
    "import re\n",
    "\n",
    "def get_content(driver):\n",
    "    html = driver.page_source\n",
    "#     html2text(html)\n",
    "    soup = BeautifulSoup(html, 'lxml')\n",
    "    BeautifulSoup(html)\n",
    "    content = []\n",
    "    try:\n",
    "        list = soup.select('ul.list_news div.dsc_wrap a')\n",
    "        titlist = soup.select('ul.list_news a.news_tit')\n",
    "#         print(list[0])\n",
    "        print(len(list))\n",
    "        for a in range(len(list)):\n",
    "            href = list[a].get_text()\n",
    "            text = list[a].attrs[\"href\"]\n",
    "            print(text, \":\", href)\n",
    "        print(len(titlist))\n",
    "#         for i in alllist:\n",
    "#             content[i][\"title\"] = alllist \n",
    "        \n",
    "        \n",
    "    except:\n",
    "        content = []\n",
    "        print(content,\"except\")\n",
    "        \n",
    "    \n",
    "#     tags = re.findall(r'#[^\\s#,\\\\]+', content)  \n",
    "#     date = soup.select('time._1o9PC.Nzb55')[0]['datetime'][:10]\n",
    "#     try:\n",
    "#         like = soup.select('div.Nm9Fw > button')[0].text[4:-1]   \n",
    "#     except:\n",
    "#         like = 0\n",
    "#     try: \n",
    "#         place = soup.select('div.M30cS')[0].text\n",
    "#     except:\n",
    "#         place = ''\n",
    "#     data = [content, date, like, place, tags]\n",
    "#     return data\n"
   ]
  },
  {
   "cell_type": "code",
   "execution_count": 37,
   "metadata": {},
   "outputs": [],
   "source": [
    "def move_next(driver):\n",
    "\n",
    "    driver.implicitly_wait(10)\n",
    "    \n",
    "    right = driver.find_element_by_css_selector ('a.coreSpriteRightPaginationArrow')\n",
    "    right.click()\n",
    "    time.sleep(3)"
   ]
  },
  {
   "cell_type": "code",
   "execution_count": 77,
   "metadata": {},
   "outputs": [
    {
     "name": "stdout",
     "output_type": "stream",
     "text": [
      "0\n",
      "0\n"
     ]
    }
   ],
   "source": [
    "from selenium import webdriver\n",
    "from bs4 import BeautifulSoup\n",
    "import time\n",
    "import re\n",
    "\n",
    "options = webdriver.ChromeOptions()\n",
    "\n",
    "# headless 옵션 설정\n",
    "options.add_argument('headless')\n",
    "options.add_argument(\"no-sandbox\")\n",
    "\n",
    "# 브라우저 윈도우 사이즈\n",
    "options.add_argument('window-size=1920x1080')\n",
    "\n",
    "# 사람처럼 보이게 하는 옵션들\n",
    "options.add_argument(\"disable-gpu\")   # 가속 사용 x\n",
    "options.add_argument(\"lang=ko_KR\")    # 가짜 플러그인 탑재\n",
    "options.add_argument('user-agent=Mozilla/5.0 (Macintosh; Intel Mac OS X 10_12_6) AppleWebKit/537.36 (KHTML, like Gecko) Chrome/61.0.3163.100 Safari/537.36')  # user-agent 이름 설정\n",
    "\n",
    "driver = webdriver.Chrome('./webdriver/chromedriver_win32/chromedriver.exe') \n",
    "usr = 'rkddpdms12'\n",
    "pwd = open('./newspass.txt').readline()\n",
    "word = \"주식\"\n",
    "\n",
    "url = searching(word,\"01\")\n",
    "driver.implicitly_wait(3)\n",
    "driver.get(url)\n",
    "time.sleep(3)\n",
    "get_content(driver)\n",
    "\n",
    "# driver.find_element_by_css_selector('div.dsc_wrap').click()\n",
    "\n",
    "# time.sleep(5)\n",
    "# # print(driver.window_handles)\n",
    "\n",
    "\n",
    "# get_content(driver)\n",
    "\n",
    "\n",
    "\n",
    "# driver.switch_to.window(driver.window_handles[-1])\n",
    "# driver.close()\n",
    "# time.sleep(1)\n",
    "\n",
    "\n",
    "# driver.find_element_by_css_selector('body > div.RnEpo.Yx5HN > div > div > div > div.mt3GC > button.aOOlW.HoLwm').click()\n",
    "# print(url,\"url\")\n",
    "# print(\"첫게시물 등장\")\n",
    "\n",
    "# driver.get(url)\n",
    "# select_first(driver)\n",
    "\n",
    "# results = [ ]\n",
    "\n",
    "# target = 50\n",
    "# for i in range(target):\n",
    "#     data = get_content(driver)\n",
    "#     results.append(data)\n",
    "#     move_next(driver)\n",
    "\n",
    "# print(results[:2])"
   ]
  },
  {
   "cell_type": "code",
   "execution_count": 52,
   "metadata": {},
   "outputs": [],
   "source": [
    "\n",
    "import pandas as pd\n",
    "\n",
    "results_df = pd.DataFrame(results)\n",
    "results_df.columns = ['content','data','like','place','tags']\n",
    "results_df.to_excel('./files/오늘뭐먹지.xlsx')"
   ]
  },
  {
   "cell_type": "code",
   "execution_count": 42,
   "metadata": {},
   "outputs": [],
   "source": [
    "pohang_insta_df = pd.DataFrame( [ ] )\n",
    "\n",
    "folder = './files/'\n",
    "\n",
    "f_list = ['kimseonho.xlsx']\n",
    "\n",
    "for fname in f_list:\n",
    "    fpath = folder + fname\n",
    "    temp = pd.read_excel(fpath)\n",
    "    pohang_insta_df = pohang_insta_df.append(temp)\n",
    "\n",
    "pohang_insta_df.columns =['','content','data','like','place','tags']\n"
   ]
  },
  {
   "cell_type": "code",
   "execution_count": 43,
   "metadata": {},
   "outputs": [],
   "source": [
    "pohang_insta_df.drop_duplicates(subset = [ \"content\"] , inplace = True)\n",
    "pohang_insta_df.to_excel('./files/test_crawling_raw.xlsx', index = False)"
   ]
  },
  {
   "cell_type": "code",
   "execution_count": 41,
   "metadata": {},
   "outputs": [
    {
     "name": "stdout",
     "output_type": "stream",
     "text": [
      "1868 start\n",
      "하나금융투자대표이사 이진국는 5월28일까지 해외주식 적립식 서비스를 이용하는 손님을 대상으로 경품을 제공하는 엄마 아빠 해외주식 사주세요’ 이벤트를 진행한다고 16일 밝혔다 \n",
      "\n",
      "\n",
      "\n",
      "\n",
      "\n",
      "썝蹂몃낫湲 븘씠肄\n",
      "\n",
      "해외주식 적립식 서비스는 미국주식 또는 ETF 상품을 최대 5종목 이내에서 지정해 매달 또는 매주 정해진 날짜에 설정한 금액만큼 자동으로 매수할 수 있는 서비스다 미국 주식을 정기적으로 환전 없이 쉽고 편리하게 매수할 수 있는 장점이 있다 미국주식 장기투자를 원하는 투자자는 물론 자녀에게 정기적으로 주식을 사주고 싶어 하는 손님을 위한 서비스다 이번 이벤트는 적립식 서비스를 통해 3달 동안 매달 30만원 이상 미국주식 혹은 ETF를 매수하면 자동으로 참여할 수 있다 선착순 500명에게 5만원 상당의 백화점 모바일 상품권을 제공하고 추가로 추첨을 통해 100명에게 디즈니10명’ 애플30명’ 코카콜라60명’ 등의 미국 주식을 1주씩 지급한다\t\n",
      "\n",
      "신규 계좌개설 손님뿐만 아니라 기존 하나금융투자 계좌를 보유하고 있는 손님 모두 이벤트에 참여할 수 있다조일환 하나금융투자 BK추진본부장은 “최근 국내주식뿐만 아니라 해외주식 거래에 대한 투자자들의 관심과 열기가 고조되고 있는 가운데 특히 미국주식에 대한 수요가 폭증하고 있다”며 “하나금융투자는 미국주식을 매매하는 손님에게 보다 다양한 서비스를 제공하고자 미국주식 적립식 서비스 이벤트를 마련했다”고 말했다엄마 아빠 해외주식 사주세요’ 이벤트에 대한 자세한 사항은 하나금융투자 홈페이지나 하나금융투자 모바일 어플리케이션MTS 원큐프로’에서 확인할 수 있다\t\n",
      "\n",
      " \n",
      "    \n",
      "지연진 \n"
     ]
    }
   ],
   "source": [
    "from bs4 import BeautifulSoup\n",
    "import requests\n",
    "import re\n",
    "\n",
    "# url = searching(\"주식\",\"01\")\n",
    "url = \"https://view.asiae.co.kr/article/2021031610195729346\"\n",
    "res = requests.get(url)\n",
    "soup = BeautifulSoup(res.text,'html.parser')\n",
    "\n",
    "for script in soup.find_all('script'):\n",
    "    script.extract()\n",
    "\n",
    "str1 = soup.get_text();\n",
    "str1 = cleanText(str1)\n",
    "# print(str1)\n",
    "# print(str1.replace(\"\\n\",\"A\").replace(\"\\r\",\"B\").replace(\"\\t\",\"C\"))\n",
    "str2 = \"하나금융투자(대표이사 이진국)는 5월28일까지 해외주식 적립식 서비스를 이용하는 손님을 대상으로 경품을 제공하는 ‘엄마, 아빠 해외주식 사주세요’ 이벤트를 진행한다고 16일 밝혔다.\"\n",
    "str2 = cleanText(str2)\n",
    "start = 0\n",
    "for a in re.finditer(str2,str1):\n",
    "    start = a.start()\n",
    "    print(start,\"start\")\n",
    "restr = str1[start:]\n",
    "# print(start,\"start\")\n",
    "end=restr.find(\"기자\")\n",
    "restr = restr[:end]\n",
    "print(restr)\n"
   ]
  },
  {
   "cell_type": "code",
   "execution_count": 40,
   "metadata": {},
   "outputs": [],
   "source": [
    "def cleanText(readData):\n",
    "    #텍스트에 포함되어 있는 특수 문자 제거\n",
    "    text = re.sub('[-=+,#/\\?:^$.@*\\\"※~&amp;%ㆍ!』\\\\‘|\\(\\)\\[\\]\\&lt;\\&gt;`\\'…》]','',readData)\n",
    "    return text"
   ]
  },
  {
   "cell_type": "code",
   "execution_count": 78,
   "metadata": {},
   "outputs": [
    {
     "name": "stdout",
     "output_type": "stream",
     "text": [
      "\n",
      "\n",
      "\n",
      "인터파크, 주식 서적 판매량 5배↑ - ZDNet korea\n",
      "\n",
      "\n",
      "\n",
      "\n",
      "\n",
      "\n",
      "\n",
      "\n",
      "\n",
      "\n",
      "\n",
      "\n",
      "\n",
      "\n",
      "\n",
      "\n",
      "\n",
      "\n",
      "\n",
      "\n",
      "\n",
      "\n",
      "\n",
      "\n",
      "\n",
      "\n",
      "\n",
      "\n",
      "\n",
      "\n",
      "\n",
      "\n",
      "\n",
      "\n",
      "\n",
      "\n",
      "\n",
      "\n",
      "\n",
      "\n",
      "\n",
      "\n",
      "\n",
      "\n",
      "\n",
      ".targetpushAd_pc_wrap {margin:0;padding:0;-webkit-tap-highlight-color:rgba(0,0,0,0);z-index:999999998;}.targetpushAd_pc_wrap div, .targetpushAd_pc_wrap dl, .targetpushAd_pc_wrap dt, .targetpushAd_pc_wrap dd, .targetpushAd_pc_wrap ul, .targetpushAd_pc_wrap ol, .targetpushAd_pc_wrap li, .targetpushAd_pc_wrap h1, .targetpushAd_pc_wrap h2, .targetpushAd_pc_wrap h3, .targetpushAd_pc_wrap h4, .targetpushAd_pc_wrap h5, .targetpushAd_pc_wrap h6, .targetpushAd_pc_wrap pre, .targetpushAd_pc_wrap form, .targetpushAd_pc_wrap fieldset, .targetpushAd_pc_wrap input, .targetpushAd_pc_wrap p, .targetpushAd_pc_wrap blockquote, .targetpushAd_pc_wrap table, .targetpushAd_pc_wrap th, .targetpushAd_pc_wrap td, .targetpushAd_pc_wrap embed, .targetpushAd_pc_wrap object, .targetpushAd_pc_wrap textarea, .targetpushAd_pc_wrap a, .targetpushAd_pc_wrap img{padding:0;margin:0;}.targetpushAd_pc_wrap ol, .targetpushAd_pc_wrap ul, .targetpushAd_pc_wrap li{list-style:none;display:block;}.targetpushAd_pc_wrap div{display:block;}.targetpushAd_pc_wrap img{border:0;vertical-align:top;}.targetpushAd_pc_wrap{display:none;}.targetpushAd_pc_wrap.run{display:block;}.targetpushAd_pc_wrap.run ul{list-style-type:none;margin:0;padding:0;}.targetpushAd_pc_wrap.run .targetpushAd_banner_wrap{width:320px;position:fixed;z-index:999999998;height:auto;}.targetpushAd_pc_wrap.run .targetpushAd_banner_wrap img{width:100%;}.targetpushAd_pc_wrap.run .targetpushAd_banner_wrap .btn_close{display:block;position:absolute;top:25px;right:22px;width:18px;height:18px;text-indent:-9999em;background: url(//cdn.targetpush.co.kr/upload/images/x_bt2.png) center center no-repeat;}.targetpushAd_pc_wrap.run .targetpushAd_banner_wrap .btn_close_2{display:none;position:absolute;top:1px;right:1px;width:19px;height:19px;text-indent:-9999em;background:#FFF url(//cdn.targetpush.co.kr/upload/images/infor_ad_icon.png) center center no-repeat;}.targetpushAd_pc_wrap.run .targetpushAd_banner_wrap,.targetpushAd_pc_wrap.run .targetpushAd_banner_wrap a,.targetpushAd_pc_wrap.run .targetpushAd_banner_wrap a:after{box-sizing:initial;}.targetpushAd_pc_wrap .targetpushAd_banner_wrap{bottom:0;}.targetpushAd_pc_wrap_a{display:block;}.targetpushAd_pc_wrap .targetpushAd_banner_wrap:hover{cursor:pointer;}.targetpushAd_pc_wrap.type1.run .targetpushAd_banner_wrap{animation:type1 0.5s ease-in-out;}.targetpushAd_pc_wrap.type2.run .targetpushAd_banner_wrap{animation:type2 0.5s ease-in-out;}@keyframes type1 {0%{bottom:-120px;}100%{bottom:0;}}@keyframes type2 {0%{bottom:-132px;}100%{bottom:0;}}.targetpushAd-animate-up{animation:animateup 1s}@keyframes animateup{from{bottom:-350px;opacity:0} to{bottom:0;opacity:1;}}.targetpushAd-animate-down{animation:animatedown 1s;animation-fill-mode: both;-webkit-animation-fill-mode: both;}@keyframes animatedown{from{bottom:0;opacity:1} to{bottom:-350px;opacity:0}} .targetpushAd_pc_wrap.wrap_new .targetpushAd_pc_wrap.wrap_new .targetpushAd_banner_wrap, .targetpushAd_pc_wrap.wrap_new .targetpushAd_banner_wrap a, .targetpushAd_pc_wrap.wrap_new .targetpushAd_banner_wrap a:after, .targetpushAd_pc_wrap.wrap_new .banner_header, .targetpushAd_pc_wrap.wrap_new .banner_content, .targetpushAd_pc_wrap.wrap_new .ico_wrap_new {box-sizing:border-box;} .targetpushAd_pc_wrap.wrap_new .targetpushAd_banner_wrap {position:fixed;   z-index:999999998;  width:328px;; height:246px; right:50px; border-radius:17px; font-family: 'Noto Sans KR', sans-serif;}  .adtive_pushCam_fix, .adtive_pushCam_fix div, .adtive_pushCam_fix dl, .adtive_pushCam_fix dt, .adtive_pushCam_fix dd, .adtive_pushCam_fix ul, .adtive_pushCam_fix ol, .adtive_pushCam_fix li, .adtive_pushCam_fix h1, .adtive_pushCam_fix h2, .adtive_pushCam_fix h3, .adtive_pushCam_fix h4, .adtive_pushCam_fix h5, .adtive_pushCam_fix h6, .adtive_pushCam_fix pre, .adtive_pushCam_fix form, .adtive_pushCam_fix fieldset, .adtive_pushCam_fix input, .adtive_pushCam_fix p, .adtive_pushCam_fix blockquote, .adtive_pushCam_fix table, .adtive_pushCam_fix th, .adtive_pushCam_fix td, .adtive_pushCam_fix embed, .adtive_pushCam_fix object, .adtive_pushCam_fix textarea, .adtive_pushCam_fix a, .adtive_pushCam_fix span, .adtive_pushCam_fix em, .adtive_pushCam_fix i, .adtive_pushCam_fix b, .adtive_pushCam_fix strong, .adtive_pushCam_fix img {margin: 0; padding: 0;border: 0;font: inherit;vertical-align:baseline;-webkit-box-sizing: border-box;box-sizing:border-box !important;\t}  .adtive_pushCam_fix dt, .adtive_pushCam_fix dd {float:none;}  .adtive_pushCam_fix div {display:block;} .adtive_pushCam_fix img {border:0; vertical-align:middle;} .adtive_pushCam_fix li {list-style:none;} .adtive_pushCam_fix a {text-decoration:none} .adtive_pushCam_fix a:hover, .adtive_pushCam_fix a:visited, .adtive_pushCam_fix a:active, .adtive_pushCam_fix a:link, .adtive_pushCam_fix a:focus {color:inherit; text-decoration:none;} .adtive_pushCam_fix {position:fixed; right:30px; bottom:0px; z-index:99999; width:300px; height:217px; border-radius:17px; box-shadow:0px 5px 10px 4px rgba(0,0,0,.3); background:rgba(255,255,255,.99); -webkit-tap-highlight-color:rgba(0,0,0,0); color:#000; font-weight:normal; font-size:13px; line-height:1.2; letter-spacing:-0.3px; word-spacing:0px; font-family: AppleSDGothicNeo-Regular,'DroidSans Fallback','Malgun Gothic','맑은 고딕',Dotum,'돋움',sans-serif; text-align:left; -webkit-text-size-adjust:none; word-break:break-all;} .adtive_pushCam_fix .cam_inner {position:relative; padding: 16px 17px 16px 17px !important;} .adtive_pushCam_fix .cam_profile {margin:0 20px 9px 59px; color:#525252; font-size:13.5px; font-weight:bold; overflow:hidden; white-space:nowrap; text-overflow:ellipsis;} .adtive_pushCam_fix .cam_tit {width:100%;  padding-left:59px; margin-bottom:23px; word-spacing:-1px; letter-spacing:-0.8px; color:#333; font-size:17px; font-weight:bold; line-height:1.2;} .adtive_pushCam_fix .cam_txt {overflow:hidden; text-overflow:ellipsis; display:-webkit-box; display:-moz-box; display:-ms-box; -webkit-box-orient:vertical; -webkit-line-clamp:3; word-wrap:break-word; line-height:1.45em; max-height:4.35em; color:#333; font-size:14.5px; letter-spacing: -0.2px; word-spacing:-2px;} .adtive_pushCam_fix dt {display:block !important} .adtive_pushCam_fix .cam_link {margin-top:12px; text-align:center;} .adtive_pushCam_fix .cam_link:after {content:''; display:block; clear:both;} .adtive_pushCam_fix .linkBtn {display:inline-block; max-width:100%; height:37px; line-height:35px; padding:0 38px; border-radius:18px; border:1px solid #e9cf37; background:#f4d732; color:#303030; font-size:13.5px;  font-weight:bold; word-spacing:-1px; overflow:hidden; white-space:nowrap; text-overflow:ellipsis;} .adtive_pushCam_fix .cam_link.division .linkBtn {float:left; max-width:49%; width:49%; padding:0 3px;} .adtive_pushCam_fix .cam_link.division .linkBtn:nth-child(2n) {margin-left:2%;} .adtive_pushCam_fix .cam_link.division .linkBtn:nth-child(2n+1) {margin-top:5px;} .adtive_pushCam_fix .cam_link.division .linkBtn:nth-child(2n+2) {margin-top:5px;} .adtive_pushCam_fix .cam_link.imgType .linkBtn {height:auto; line-height:1.2; padding:0 0; border:none; border-radius:0; background:none;} .adtive_pushCam_fix .cam_link.imgType .linkBtn img {max-width:100%;} .adtive_pushCam_fix .cam_thumb {position:absolute; top:21px; left:13px; width:53px; height:53px; padding:3px; overflow:hidden; z-index:1; border-radius:50%; box-shadow:1px 2px 3px 1px rgba(0,0,0,.1); background:rgba(255,255,255,.99); text-align:center; font-size:0;} .adtive_pushCam_fix .cam_thumb img {width:47px; border-radius:50%; vertical-align:middle;} .adtive_pushCam_fix .closeBtn {position:absolute; top:2px; right:2px; z-index:1; padding:14px 7px 0px; border:0; text-align:center; font-size:0; display:block;} .adtive_pushCam_fix .closeBtn img {width:14px; vertical-align:middle;} .adtive_pushCam_fix .btn_close_2{display:none; position:absolute;top:-10px;right:-10px;width:19px;height:19px;text-indent:-9999em;background:#FFF url(//cdn.targetpush.co.kr/upload/images/infor_ad_icon.png) center center no-repeat;} .adtive_pushCam_fix .cam_content {overflow:hidden; height:160px;}  .adtive_pushCam_fix .cam_txt + .cam_img {margin-top:5px;} .adtive_pushCam_fix .cam_img {height:auto; max-height:116px;} .adtive_pushCam_fix .cam_img img {width:100%; height:auto;} .targetpushAd-up-exc {top:630px;-webkit-animation: ani-upexc 1s; animation: ani-upexc 1s;} @keyframes ani-upexc {from {transform:translateY(350px); opacity: 0;}to {transform:translateY(0px); opacity: 1; }} @-webkit-keyframes ani-upexc {from {-webkit-transform:translateY(350px); opacity: 0;}to {-webkit-transform:translateY(0px); opacity: 1; }} .targetpushAd-down-exc {top:100%;} .targetpushAd-fadeOut-exc {-webkit-animation: ani-fadeOut-exc 0.2s forwards; animation: ani-fadeOut-exc 0.2s forwards;} @keyframes ani-fadeOut-exc {from {opacity:1;}to {opacity:0;}} @-webkit-keyframes ani-fadeOut-exc {from {opacity:1;}to {opacity:0;}} .targetpushAd_pc_wrap.run .targetpushAd_banner_wrap .targetpushAd_bnr_qr {position:relative;}  .targetpushAd_pc_wrap.run .targetpushAd_banner_wrap .targetpushAd_bnr_qr .btn_close {  display: block;  position: absolute;  top: 18px; right: 22px;   width: 20px;  height: 20px; text-indent: -9999em; background: url(//cdn.targetpush.co.kr/images/btn_downsize.png) center center no-repeat;  z-index:11;\t}  .targetpushAd_pc_wrap.run .targetpushAd_bnr_qr .btn_qr_open {position:absolute; left:22px; top:17px; font-size:0;}  .targetpushAd_pc_wrap.run .targetpushAd_bnr_qr .targetpushAd_qrInfo {position:absolute; top:auto; bottom:1px; left:0; right:0; z-index:10;}   .targetpushAd_pc_wrap.run .targetpushAd_bnr_qr .targetpushAd_qrInfo .btn_qr_close {position:absolute; top:17px; right:22px; width:20px; height:20px; text-indent: -9999em; background: url(//cdn.targetpush.co.kr/images/btn_qr_close.png) center center no-repeat;}  .targetpushAd_pc_wrap.run .targetpushAd_bnr_qr {}  .targetpushAd_pc_wrap.run .targetpushAd_bnr_qr {}  #muteButton{position: absolute;cursor: pointer;right: 5px;bottom: 10px;} .cvideo{background:url(https://cdn.targetpush.co.kr/images/speaker_24_on.png) no-repeat center;background-size:24px;border:0;width:24px;height:24px;} .cvideomuted {background:url(https://cdn.targetpush.co.kr/images/speaker_24_off.png) no-repeat center;background-size:24px;border:0;width:24px;height:24px;} .img_eff1 .targetpushAd_view.show::before {content:''; position: absolute; z-index: 1; left:0; top:0; width:420px; height:150px; opacity: 1; background-image: linear-gradient(to bottom, rgba(255, 255, 255, 0) 0%, rgba(255, 255, 255, 0.4) 40%, rgba(255, 255, 255, 0.7) 60%, rgba(255, 255, 255, 0) 100%); transform-origin: center center; animation: reflector1 3s ease infinite; animation-delay: 1s; transform: rotate(-36deg) translate(-50px, -300px);}   .img_eff1 .targetpushAd_view.show::after {content:''; position: absolute; z-index: 2; left:0; top:0; width:420px; height:5px; opacity: 0; background-color: #fff; transform-origin: center center; animation: reflector2 3s ease infinite; animation-delay: 1s; opacity: 0.3; transform: rotate(-36deg) translate(-100px, -220px);}   @keyframes reflector1 { \t0% {transform: rotate(-36deg) translate(-50px, -300px);}  70%,100% {transform: rotate(-36deg) translate(-50px, 260px);} }  @keyframes reflector2 {  \t0% {opacity: 0.4; transform: rotate(-36deg) translate(-100px, -220px);}  \t70%,100% {opacity: 0.4; transform: rotate(-36deg) translate(-100px, 340px);}   }  .img_eff2 .targetpushAd_view.show {-webkit-animation: blinkImg 5s ease 1s infinite; animation: blinkImg 5s ease 1s infinite;}  @-webkit-keyframes blinkImg { \t0%,10%,20%,100% {opacity: 1;} \t5%,15% {opacity: 0.3;}     }  @keyframes blinkImg { \t0%,10%,20%,100% {opacity: 1;}  \t5%,15% {opacity: 0.3;}  }  .img_eff3 .targetpushAd_view > .line {display:none;}  .img_eff3 .targetpushAd_view.show > .line {position: absolute; display:block;}    .img_eff3 .targetpushAd_view.show > .line:nth-child(1) {top:0; left:-100%; width:100%; height:2px; background: linear-gradient(90deg,transparent,#ff0000); animation: shootingStar1 2s linear infinite;}   .img_eff3 .targetpushAd_view.show > .line:nth-child(2) {top:-100%; right:0; width:2px; height:100%; background: linear-gradient(180deg,transparent,#ff0000); animation: shootingStar2 2s linear infinite; animation-delay: 0.50s;}   .img_eff3 .targetpushAd_view.show > .line:nth-child(3) {bottom:0; right:-100%; width:100%; height:2px; background: linear-gradient(270deg,transparent,#ff0000); animation: shootingStar3 2s linear infinite; animation-delay: 1s;}  .img_eff3 .targetpushAd_view.show > .line:nth-child(4) {bottom:-100%; left:0; width:2px; height:100%; background: linear-gradient(360deg,transparent,#ff0000); animation: shootingStar4 2s linear infinite; animation-delay: 1.5s;}   @keyframes shootingStar1 { 0% {left: -100%;} 50%,100% {left: 100%;}\t}  @keyframes shootingStar2 { 0% {top: -100%;} 50%,100% {top: 100%;} }  @keyframes shootingStar3 { 0% {right: -100%;} 50%,100% {right: 100%;} }  @keyframes shootingStar4 { 0% {bottom: -100%;} 50%,100% {bottom: 100%;}\t}   .img_eff1 .targetpushAd_view, .img_eff3 .targetpushAd_view {overflow:hidden; position:relative; display:block; transition: 0.5s;}  .img_eff1 .targetpushAd_banner_wrap .btn_close, .img_eff3 .targetpushAd_banner_wrap .btn_close {z-index:10;}  .img_hover4 .targetpushAd_view {overflow:hidden; position:relative; display:block; width:100%; height:245px; }  .img_hover4 .targetpushAd_banner_wrap .btn_close {z-index:10;}  .img_hover4 .targetpushAd_banner_wrap .hover_figcaption {overflow:hidden; position:absolute; top:100%; left:0; width:100%; height:100%; opacity:0; background:rgba(0,0,0,.85); transition: all 0.4s ease-in; -webkit-transition: all 0.4s ease-in;}  .img_hover4 .targetpushAd_banner_wrap .hover_figcaption img {width:100%;}  .img_hover4 .targetpushAd_banner_wrap .hover_figcaption .hover_random {position:absolute; left:14.5%; top:35%; display:block; float:none; width:38px; height:28px; line-height:27px; color:#ff0; font-size:24px; font-weight:600; white-space:nowrap; text-align:center; letter-spacing:0; word-spacing:0; font-family: AppleSDGothicNeo-Regular,'DroidSans Fallback','Malgun Gothic','맑은 고딕',Dotum,'돋움',sans-serif;}  .img_hover4 .targetpushAd_banner_wrap:hover .hover_figcaption {top:0%; opacity:1;} .iwmads{position:relative;display:block;overflow:hidden;width:100%;height:100%;height:100vh;max-height:0!important;padding:0;margin:0 auto;border:0;text-align:center;-webkit-box-sizing:border-box;box-sizing:border-box;-webkit-font-smoothing:antialiased;-moz-osx-font-smoothing:grayscale;will-change:width,height}.iwmads .ip-header,.iwmads .ip-header2{width:100%;height:30px;cursor:pointer;background:url(data:image/png;base64,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) 50% no-repeat;background-size:80px}.iwmads .ip-container,.iwmads .ip-container2{position:relative;width:100%;left:0;display:inline-block;background-position:0 0;background-repeat:no-repeat;background-size:100%!important}.iwmads .ip-ratio{padding-top:56.25%;background-color:rgba(0,0,0,.35)}.ip-container .ip-engine,.ip-container .ip-main,.ip-container .ip-ui,.ip-container .ip-ui .ip-clickthrough{position:absolute;top:0;left:0;width:100%;height:100%}.ip-container .ip-ui{z-index:100}.ip-container .ip-ui .ip-icons{position:unset!important}.ip-container2 .ip-main2{width:100%;height:100%;position:unset!important}.ip-container2 .ip-main2 .ip-ui{position:unset!important}.ip-container2 .ip-main2 .ip-ui2{position:absolute;top:0;left:0;width:100%;height:100%}.ip-container2 .ip-main2 .ip-ui2 .ip-icons{position:unset!important}.ip-container2 .ip-engine2{width:70%;z-index:95;-o-object-fit:contain;object-fit:contain;will-change:opacity;left:20px;top:37px;-webkit-box-shadow:10px 10px 10px rgba(0,0,0,.35);box-shadow:10px 10px 10px rgba(0,0,0,.35)}.ip-container2 .ip-clickthrough,.ip-container2 .ip-engine2,.ip-container2 .ip-product,.ip-container2 .ip-stop{position:absolute;opacity:0;-webkit-transition:opacity 1s cubic-bezier(.4,0,1,1);transition:opacity 1s cubic-bezier(.4,0,1,1)}.ip-container2 .ip-clickthrough,.ip-container2 .ip-product,.ip-container2 .ip-stop{top:0;left:0;width:100%;height:100%;z-index:199;background-position:0 0;background-repeat:no-repeat;background-size:contain}.ip-container2 .ip-stop{z-index:1}.ip-engine,.ip-engine2{z-index:95;opacity:0;-o-object-fit:cover;object-fit:cover;will-change:opacity;-webkit-transition:opacity 1s cubic-bezier(.4,0,1,1);transition:opacity 1s cubic-bezier(.4,0,1,1)}.ip-container2 .ip-clickthrough,.ip-container2 .ip-engine2,.ip-container2 .ip-product,.ip-container2 .ip-stop{position:absolute;opacity:0;-webkit-transition:opacity 1s cubic-bezier(.4,0,1,1);transition:opacity 1s cubic-bezier(.4,0,1,1)}.ip-waiting{display:none;position:absolute;top:50%;left:50%;-webkit-transform:translate(-50%,-50%);-ms-transform:translate(-50%,-50%);transform:translate(-50%,-50%);width:130px;height:130px}.ip-waiting em{position:absolute;-webkit-box-sizing:border-box;box-sizing:border-box;border-radius:50%}.ip-waiting em:before{content:\"\";position:absolute;top:50%;left:-5px;width:5px;height:5px;background:#ff0;border-radius:50%}.ip-waiting em:first-child{top:0;left:0;right:0;bottom:0;-webkit-animation:rotate 4s linear infinite;animation:rotate 4s linear infinite}.ip-waiting em:first-child:before{background:#86ff00;-webkit-box-shadow:0 0 20px #86ff00,0 0 40px #86ff00,0 0 60px #86ff00,0 0 80px #86ff00,0 0 0 4px #86ff00;box-shadow:0 0 20px #86ff00,0 0 40px #86ff00,0 0 60px #86ff00,0 0 80px #86ff00,0 0 0 4px #86ff00}.ip-waiting em:nth-child(2){top:20px;left:20px;right:20px;bottom:20px;-webkit-animation:rotate-reverse 4s linear infinite;animation:rotate-reverse 4s linear infinite}.ip-waiting em:nth-child(2):before{background:#ffd600;-webkit-box-shadow:0 0 20px #ffd600,0 0 40px #ffd600,0 0 60px #ffd600,0 0 80px #ffd600,0 0 0 4px #ffd600;box-shadow:0 0 20px #ffd600,0 0 40px #ffd600,0 0 60px #ffd600,0 0 80px #ffd600,0 0 0 4px #ffd600}.ip-waiting em:nth-child(3){top:40px;left:40px;right:40px;bottom:40px;-webkit-animation:rotate 2s linear infinite;animation:rotate 2s linear infinite}.ip-waiting em:nth-child(3):before{background:#00e2ff;-webkit-box-shadow:0 0 20px #00e2ff,0 0 40px #00e2ff,0 0 60px #00e2ff,0 0 80px #00e2ff,0 0 0 4px #00e1ff;box-shadow:0 0 20px #00e2ff,0 0 40px #00e2ff,0 0 60px #00e2ff,0 0 80px #00e2ff,0 0 0 4px #00e1ff}.ip-title{position:absolute;top:0;left:12px;width:100%}.ip-title h1{font-family:Arial,Helvetica,sans-serif!important;font-size:16px!important;line-height:20px;margin:0 0 0 11px;text-align:left;padding:12px 40px 0 0;color:#fff;font-weight:400;letter-spacing:-1px;overflow:hidden;text-overflow:ellipsis;white-space:nowrap;word-wrap:normal;-webkit-line-clamp:3;-webkit-box-orient:vertical;text-shadow:0 1px 0 #b6b6b6;display:block}.ip-title h1:before{content:\"\";position:absolute;left:11px;top:12px;width:20px;height:20px;display:block;opacity:.6;background-size:cover}.ip-icons .close,.ip-icons .close2,.ip-icons .replay,.ip-icons .replay2,.ip-icons .sound,.ip-title{opacity:0;filter:alpha(opacity=0);-ms-filter:\"progid:DXImageTransform.Microsoft.Alpha(Opacity=0)\";visibility:hidden;will-change:opacity;-webkit-transition:opacity .5s ease-in-out;transition:opacity .5s ease-in-out;z-index:200}.ip-icons i{position:absolute;z-index:99}.ip-icons .close,.ip-icons .close2,.ip-icons .replay,.ip-icons .replay2,.ip-icons .sound{cursor:pointer}.ip-icons .geo{display:none;width:77px;height:15px;left:10px;bottom:21px;z-index:97;background-color:rgba(0,0,0,.4)}.ip-icons .close2,.ip-icons .replay2{width:35px;height:35px;right:10px;bottom:13px;background-position:50%;background-repeat:no-repeat}.ip-icons .replay2{border-radius:50%;background-color:rgba(0,0,0,.5)}.ip-icons .replay2:hover{background-color:rgba(0,0,0,.2)}.ip-icons .close,.ip-icons .replay,.ip-icons .sound{width:35px;height:35px;right:10px;bottom:13px;border-radius:50%;background-position:50%;background-color:rgba(0,0,0,.4);background-repeat:no-repeat}.ip-icons .close:hover,.ip-icons .replay:hover,.ip-icons .sound:hover{background-color:rgba(0,0,0,.2)}.ip-icons .close .sound_sub,.ip-icons .replay .sound_sub,.ip-icons .sound .sound_sub{width:14px;height:14px;right:11px;bottom:10px;cursor:pointer;z-index:999}.ip-icons .close_sub{position:absolute;width:9px!important;height:9px!important;right:5px!important;top:5px!important;background:none!important;background-image:none!important;z-index:201!important}.ip-icons .close_0.close,.ip-icons .close_0.close2{width:20px;height:20px;right:11px;top:12px;background-image:url(data:image/png;base64,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);background-size:54%;background-position:50%}.ip-icons .close_0.close2{border-radius:50%;border:1px solid #fff;-webkit-box-shadow:rgba(0,0,0,.35) 2px 2px 2px;box-shadow:2px 2px 2px rgba(0,0,0,.35);-webkit-box-sizing:border-box;box-sizing:border-box}.ip-icons .close_1.close,.ip-icons .close_1.close2{width:15px;height:15px;right:14px;top:14px;background-image:url(data:image/png;base64,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);background-size:contain}.ip-icons .sound{background-image:url(data:image/png;base64,iVBORw0KGgoAAAANSUhEUgAAAQAAAAEAAQMAAABmvDolAAAABlBMVEUAAAD///+l2Z/dAAAAAXRSTlMAQObYZgAAAmNJREFUaN7t2EGO4yAQhWEjFiw5AkfhaORm46PkCF72wuoapV9IxgrlXxpmN2bR3bI/dVwVA0Ut17jGNa7xf42yAmgbAPs6vx9sPweRQLZvCIJAJdAIGIBAIBLIBAqBSqARMACBQCKQCRQClUAjYAAigUQgEygEKoFGwABEAolAJlAIVAINQDAAkUAikAkUAvUF6trjuh2j7MC2Htf9EGUHoa+2UfIdpcB7MU0HkN6gP2g+LNz5E5QDKC+QzPql/TNKgZsuHYD9CVYFLmAaB6D47QeEAVB4QSAOgJ4+CqQPEAU6zCOwP8E2BH3Jzx54xPVM3X0MmjJVlY/yAXRHzgH63+aC8gLLEOjxFcwIKENK5BDolpgDwuuDHKDH06O64LbUE9CeYHWA7j2UA/TxytMIKACFMgRKgZLhg/2BHKAqIZ+BILA5QJlSIj3QzH6ZrT7QTL75QBcXAN8nIAPQhN19oCn/5QMtGpsPtOzcfaB1eSVwOwOVQFEifZD1hwf0TiHgj5h6yAoA8gCphi8Lvm58YfiVY8BvNU8cnno8eXn6B4Ht71eYCIsYLIO8kPJSrMVcmXK3g1U/aL/ALYk3Nd4WeWP1t+bob83lvXfj7o8FBpYoWORgmeSB/QcoU8mvxFygG/13hHKRC85ezLolax9GRW8DwHV1ptI9DYr/A4h0fAgGB5DlDWq/bscjzPQpKRNI02e9QGBBUAmU6VNzmj65BwILgkqgTPdA0nQfJth0L6hO96PydE8sElgQtOneYJnuT6bpFuiCoBGo073iTCDZjh1v7Jlj15379te4xjWu8W/Gb1JiODOGZr+6AAAAAElFTkSuQmCC);background-size:70%}.ip-icons .replay,.ip-icons .replay2{background-image:url(data:image/png;base64,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);background-size:90%}.ip-icons .replay2:after,.ip-icons .replay:after{border:1px solid #efefef;content:attr(data-remain);position:absolute;right:35px;bottom:3px;color:#fff;width:100px;text-align:center;pointer-events:none;font-style:normal;text-shadow:0 1px 0 #b6b6b6;font-family:Arial,Helvetica,sans-serif!important;font-size:16px!important;padding:3px;letter-spacing:-1px;-webkit-box-shadow:rgba(0,0,0,.25) 1px 1px 1px;box-shadow:1px 1px 1px rgba(0,0,0,.25)}.ip-clickthrough{cursor:pointer;z-index:98;background-color:hsla(0,0%,100%,0)}.ip-clickthrough:after,.ip-clickthrough:before{content:\"\";position:absolute;left:0;height:54px;width:100%;opacity:0;visibility:hidden}.ip-clickthrough:before{top:0;background:-webkit-gradient(linear,left top,left bottom,color-stop(0,rgba(0,0,0,.2)),to(rgba(0,0,0,0)));background:linear-gradient(180deg,rgba(0,0,0,.2),rgba(0,0,0,0))}.ip-clickthrough:after{bottom:3px;background:-webkit-gradient(linear,left top,left bottom,color-stop(10%,rgba(0,0,0,0)),to(rgba(0,0,0,.2)));background:linear-gradient(180deg,rgba(0,0,0,0) 10%,rgba(0,0,0,.2))}.ip-buffered,.ip-progress,.ip-timeline{position:absolute!important;left:0;width:100%;height:4px;background:rgba(0,0,0,.5);-webkit-transition:opacity .5s ease-in-out;transition:opacity .5s ease-in-out}.ip-timeline{bottom:-1px;opacity:0;visibility:hidden}.ip-progress{background:#35c324}.ip-buffered{background:hsla(0,0%,100%,.7)}.ip-buffered,.ip-progress{margin:0!important;width:0;-webkit-transition:width .25s linear;transition:width .25s linear}.is-speakout.iwmads .ip-icons .sound{background-image:url(data:image/png;base64,iVBORw0KGgoAAAANSUhEUgAAAQAAAAEAAQMAAABmvDolAAAABlBMVEUAAAD///+l2Z/dAAAAAXRSTlMAQObYZgAAAs5JREFUaN7t2EuSpCAQBmAIFizzCByFm7UczaN4BJYuCHNKtHhMZpFdVlTMYmRlhF93BYKY+at73OMe9/i/hpsFMMXzQice4HpeWGTva3z+IWDggCnA4cwBwO288riwk5CAb0BkZ1nAhCsHsAGJm6UEbAs2BkAFHpGbpQT8A1QbmFl2YKYAKwAO6AZYZJ617UEkABpgOOAaoJFZDN8AxYGpB4kALOCHXS1TgMZQ904dtgCDM7cYUIDFRTkKXAGAceeBzLKClQNTAe4BLFktjQ1IDDAt2JQhy2klAC1Apclyug4ERYCvAFgwdWAmb6fGCiwHTA8W5THRWWaQcSQAKjim6HCjs6xgJcA3QO0A/gJYwbEhAbGbpQRMBedpZ3tgO+AOEBoAFfwcy2l64ArQGBRQMBVgcH6Cmc4y//aSf1/voN6pADC2QDNgzf9eH5vSEOBOoA5gGZCUrgBegWUANpVvThivAtxBPIEjAB4g3/SvQTjBygJ7gHUEZuUHwDyBGwGXQeJAfor55lWQH1K+CSMAIzBlsI3AeoKNB/43wOZHeg2Uk/pDYEYACsDLYMvAfArCS2B/A/S3AX4bmBu88ST/+X4QgLhpoYLP36xvvd2ugK+cUdfPSfmspqe9DK5/UJ7fLPjWV69+eWVw9eMOfXkAUoEBQokiFjlymWRZoBsglWqGAOiLPcXXkw3wFMRacPI1bS1ZX1TFSwV8XV3LZr4yR/UEYVTbZyB0Bx3QHHirQ1FeAq4FXJcEUhtlaSOWOmCkVk5LzaAatJO0Y2WBk1pakIAV2mq5c9cs4NMDIOEAzR844EhAMchA4s7DIEVZdjDKYWYuh9HNjgoEkCxowiSlSen9PAokYKXIy0ihmZJiNzUJwZ3yUvTnOhAu5JNWAroFm2JGCxIHJgn4BqxSVhwvpc22yasXKfGex5k5YBin7maTcvtV3eMe97jHR+MPjY3hMI2Lof0AAAAASUVORK5CYII=)}.is-loading.iwmads .ip-waiting{display:block}.is-loaded.iwmads .ip-engine,.is-loaded.iwmads .ip-engine2,.is-paused.iwmads .ip-clickthrough,.is-paused.iwmads .ip-engine,.is-paused.iwmads .ip-engine2,.is-paused.iwmads .ip-icons .sound,.is-paused.iwmads .ip-product,.is-paused.iwmads .ip-timeline,.is-playing.iwmads .ip-clickthrough,.is-playing.iwmads .ip-engine,.is-playing.iwmads .ip-engine2,.is-playing.iwmads .ip-icons .sound,.is-playing.iwmads .ip-product,.is-playing.iwmads .ip-timeline,:not(.is-loading).iwmads .ip-clickthrough:after,:not(.is-loading).iwmads .ip-clickthrough:before,:not(.is-loading).iwmads .ip-title{opacity:1;visibility:visible}.is-show-xbtn_toast.is-paused.iwmads .ip-icons .close,.is-show-xbtn_toast.is-paused.iwmads .ip-icons .close2,.is-show-xbtn_toast.is-playing.iwmads .ip-icons .close,.is-show-xbtn_toast.is-playing.iwmads .ip-icons .close2{opacity:1;filter:alpha(opacity=100);-ms-filter:\"progid:DXImageTransform.Microsoft.Alpha(Opacity=100)\";visibility:visible;top:-27px;right:2px;background-color:rgba(0,0,0,.6)}.is-finished.iwmads .ip-icons .replay,.is-finished.iwmads .ip-icons .replay2,.is-show-xbtn.is-paused.iwmads .ip-icons .close,.is-show-xbtn.is-paused.iwmads .ip-icons .close2,.is-show-xbtn.is-playing.iwmads .ip-icons .close,.is-show-xbtn.is-playing.iwmads .ip-icons .close2{opacity:1;filter:alpha(opacity=100);-ms-filter:\"progid:DXImageTransform.Microsoft.Alpha(Opacity=100)\";visibility:visible}.is-finished.iwmads .ip-engine,.is-finished.iwmads .ip-engine2{opacity:0}.is-finished.iwmads .ip-ratio{background-color:rgba(0,0,0,0)}.is-finished.iwmads .ip-product{opacity:0}.is-finished.iwmads .ip-clickthrough{opacity:1!important}.is-finished.iwmads .ip-stop{opacity:1!important;z-index:199}.is-finished.iwmads .ip-clickthrough:after{bottom:0}.is-shutdown.iwmads{display:none;margin-bottom:0!important}.no-header.iwmads .ip-header,.no-header.iwmads .ip-header2,.no-replay.iwmads .ip-icons .replay,.no-replay.iwmads .ip-icons .replay2,.no-sound.iwmads .ip-icons .sound{display:none}.no-timeline.iwmads .ip-icons .geo{bottom:18px}.no-timeline.iwmads .ip-icons .replay,.no-timeline.iwmads .ip-icons .replay2,.no-timeline.iwmads .ip-icons .sound{bottom:10px}.no-timeline.iwmads .ip-clickthrough:after{bottom:0}.no-timeline.iwmads .ip-timeline{display:none}.ie.iwmads .ip-title h1{padding-top:11px}.ip-container2 .ip-main2 div .ip-icons .sound{left:10px!important}@-webkit-keyframes pulse{0%{opacity:0}to{opacity:1}}@keyframes pulse{0%{opacity:0}to{opacity:1}}@-webkit-keyframes rotate{0%{-webkit-transform:rotate(0deg);transform:rotate(0deg)}to{-webkit-transform:rotate(1turn);transform:rotate(1turn)}}@keyframes rotate{0%{-webkit-transform:rotate(0deg);transform:rotate(0deg)}to{-webkit-transform:rotate(1turn);transform:rotate(1turn)}}@-webkit-keyframes rotate-reverse{0%{-webkit-transform:rotate(1turn);transform:rotate(1turn)}to{-webkit-transform:rotate(0deg);transform:rotate(0deg)}}@keyframes rotate-reverse{0%{-webkit-transform:rotate(1turn);transform:rotate(1turn)}to{-webkit-transform:rotate(0deg);transform:rotate(0deg)}}\n",
      "\n",
      "\n",
      "\n",
      "\n",
      "\n",
      "(function() {\n",
      "var nl = document.createElement('script'); nl.type = 'text/javascript';\n",
      "nl.src = 'https://zdnet.co.kr/js/wl6.js?ver=19.02.21';\n",
      "var s = document.getElementsByTagName('script')[0]; s.parentNode.insertBefore(nl, s);\n",
      "var done = false;\n",
      "nl.onload = nl.onreadystatechange = function() {\n",
      "\t\t if ( !done && (!this.readyState || this.readyState === \"loaded\" || this.readyState === \"complete\") ) {\n",
      "\t\t\t\t\tdone = true;\n",
      "\t\t\t\t\t_n_sid = \"zdnet_web\";\n",
      "\t\t\t\t\t_n_info1_cookie = \"article1\";\n",
      "\t\t\t\t\t_n_info2_cookie = \"article2\";\n",
      "\t\t\t\t\t_n_info3_cookie = \"article3\";\n",
      "\t\t\t\t\tn_logging();\n",
      "\t\t\t\t\tnl.onload = nl.onreadystatechange = null;\n",
      "\t\t }\n",
      "}\n",
      "})();\n",
      "\n",
      "\n",
      "\n",
      "\n",
      "  var _paq = window._paq || [];\n",
      "  /* tracker methods like \"setCustomDimension\" should be called before \"trackPageView\" */\n",
      "  _paq.push(['trackPageView']);\n",
      "  _paq.push(['enableLinkTracking']);\n",
      "  (function() {\n",
      "    var u=\"//log.zdnet.co.kr/\";\n",
      "\n",
      "    _paq.push(['setTrackerUrl', u+'index.php']);\n",
      "    _paq.push(['setSiteId', 'zdnet_web']);\n",
      "    var d=document, g=d.createElement('script'), s=d.getElementsByTagName('script')[0];\n",
      "    g.type='text/javascript'; g.async=true; g.defer=true; g.src=u+'techLog.js'; s.parentNode.insertBefore(g,s);\n",
      "  })();\n",
      "\n",
      "\n",
      "\n",
      "\n",
      "\n",
      "  window.dataLayer = window.dataLayer || [];\n",
      "  function gtag(){dataLayer.push(arguments);}\n",
      "  gtag('js', new Date());\n",
      "\n",
      "  gtag('config', 'UA-26701480-12');\n",
      "\n",
      "\n",
      "\n",
      "\n",
      "        (function(d,a,b,l,e,_) {d[b]=d[b]||function(){(d[b].q=d[b].q||[]).push(arguments)};e=a.createElement(l);e.async=1;e.charset='utf-8';e.src='//static.dable.io/dist/plugin.min.js';_=a.getElementsByTagName(l)[0];_.parentNode.insertBefore(e,_);})(window,document,'dable','script');dable('setService', 'zdnet.co.kr');\n",
      "    \n",
      "\n",
      "\n",
      "\n",
      "\n",
      "\n",
      "\n",
      "\n",
      "\n",
      "\n",
      "\n",
      "\t\tjQuery(document).ready( function() {\n",
      "\t\t\t$(\"img.lazyload\").lazyload({\n",
      "\t\t\t\tfailure_limit : 1000, \n",
      "\t\t\t\tevent: \"lazyload\", \n",
      "\t\t\t\tthreshold : 200, \n",
      "\t\t\t\teffect: \"fadeIn\", \n",
      "\t\t\t\tskip_invisible: false\n",
      "\t\t\t});\n",
      "\t\t});\n",
      "\t\t$(function() {\n",
      "\t\t\t$(\"img.lazy\").show().lazyload()\n",
      "\t\t\twindow.onload = function() {\n",
      "\t\t\t\t$(window).resize()\n",
      "\t\t\t};\n",
      "\t\t});\n",
      "\t\tfunction article_print(artice_id){\n",
      "\t\t\tvar gsWin = window.open('about:blank','article_printwin','toolbar=0,scrollbars=0,width=735,height=600,scrollbars=yes,resizable=yes,left=0,top=0');\n",
      "\t\t\tvar frm =document.article_print;\n",
      "\t\t\tfrm.action = '/view/print.php';\n",
      "\t\t\t$(\"#no\").val(artice_id);\n",
      "\t\t\tfrm.target =\"article_printwin\";\n",
      "\t\t\tfrm.method =\"post\";\n",
      "\t\t\tfrm.submit();\n",
      "\t\t}\n",
      "\n",
      "        function article_print(artice_id){\n",
      "        \tvar gsWin = window.open('about:blank','article_printwin','toolbar=0,scrollbars=0,width=735,height=600,scrollbars=yes,resizable=yes,left=0,top=0');\n",
      "        \tvar frm =document.article_print;\n",
      "        \tfrm.action = '/view/print.php';\n",
      "        \t$(\"#no\").val(artice_id);\n",
      "        \tfrm.target =\"article_printwin\";\n",
      "        \tfrm.method =\"post\";\n",
      "        \tfrm.submit();\n",
      "        }\n",
      "        \n",
      "        var lastScrollTop = 0;\n",
      "        $(window).bind('scroll', function() {\n",
      "           var st = $(this).scrollTop();\n",
      "           if (st > lastScrollTop){\n",
      "        \t\t// downscroll code\n",
      "        \t\tif($(window).scrollTop() >= $('.right_cont').offset().top + $('.right_cont').outerHeight() - window.innerHeight) {\n",
      "        \t\t\tif($('.right_cont').outerHeight() > 0){\n",
      "        \t\t\t\t$('#ad_right_height').val( $(window).scrollTop() );\n",
      "        \t\t\t}\n",
      "        \t\t\t$('.f_box').addClass('nav-bottom '); \n",
      "        \t\t}\n",
      "        \t}else{\n",
      "        \t\t// upscroll code\n",
      "        \t\tif( $('#ad_right_height').val() > 0){\n",
      "        \t\t\tif($(window).scrollTop() <= $('#ad_right_height').val()){\n",
      "        \t\t\t\t$('.f_box').removeClass('nav-bottom '); \n",
      "        \t\t\t}\n",
      "        \t\t}\n",
      "        \t}\n",
      "           lastScrollTop = st;\n",
      "        });\n",
      "        \n",
      "        $(window).bind('scroll', function() {\n",
      "           if($(window).scrollTop() >= $('.contentWrapper').offset().top + $('.contentWrapper').outerHeight() - window.innerHeight) {\n",
      "        \t\t\t $('.f_box').css(\"bottom\",\"330px\");\n",
      "           }else{\n",
      "        \t\t\t $('.f_box').removeAttr(\"style\");\n",
      "           }\n",
      "        });\n",
      "    \n",
      "\n",
      "\n",
      "\n",
      "ZDNet Korea 뉴스레터 구독신청\n",
      "\n",
      "\n",
      "구독신청\n",
      "닫기\n",
      "\n",
      "\n",
      "\n",
      "\n",
      "\n",
      "\n",
      "\n",
      "\n",
      "\n",
      "\n",
      "\n",
      "\n",
      "\n",
      "Edition: KOREA\n",
      "\n",
      "\n",
      "English\n",
      "지디넷 웨비나\n",
      "\n",
      "ZDNet around the globe:\n",
      "ZDNet USA\n",
      "ZDNet China\n",
      "ZDNet Japan\n",
      "\n",
      "\n",
      "\n",
      "\n",
      "\n",
      "\n",
      "\n",
      "\n",
      "\n",
      "\n",
      "\n",
      "\n",
      "\n",
      "\n",
      "\n",
      "\t\t\t\t\t\t.st0{fill:#DE1400;}\n",
      "\t\t\t\t\t\t.st1{fill:#FFFFFF;}\n",
      "\t\t\t\t\t\t.st2{fill:#D7E3E9;}\n",
      "\t\t\t\t\t\n",
      "\n",
      "\n",
      "\n",
      "\n",
      "\n",
      "\n",
      "\n",
      "\n",
      "\n",
      "\n",
      "\n",
      "\n",
      "\n",
      "\n",
      "\n",
      "\n",
      "\n",
      "\n",
      "\n",
      "\n",
      "Search\n",
      "\n",
      "\n",
      "\n",
      "\n",
      "\n",
      "\n",
      "\n",
      "\n",
      "\n",
      "\n",
      "\n",
      "\n",
      "\n",
      "\n",
      "\n",
      "\n",
      "\n",
      "\n",
      "\n",
      "\n",
      "\n",
      "\n",
      "뉴스\n",
      "\n",
      "최신뉴스\n",
      "방송/통신\n",
      "컴퓨팅\n",
      "홈&모바일\n",
      "인터넷\n",
      "반도체/디스플레이\n",
      "카테크\n",
      "게임\n",
      "중기&벤처\n",
      "유통\n",
      "금융\n",
      "과학\n",
      "산업일반\n",
      "인사•부음\n",
      "통계뉴스\n",
      "인터뷰\n",
      "\n",
      "\n",
      "\n",
      "이슈진단+\n",
      "인공지능\n",
      "전기차\n",
      "교육\n",
      "컨퍼런스\n",
      "칼럼•연재\n",
      "포토•영상\n",
      "뉴스레터\n",
      "로그인 \n",
      "\n",
      "\n",
      "\n",
      "\n",
      "\n",
      "\n",
      "\n",
      "\n",
      "\n",
      "\n",
      "\n",
      "        var nextPenSlugs = [\n",
      "\t\t\t\t\t\t\t\t20210316131656,\n",
      "\t\t\t\t20210316101002,\n",
      "\t\t\t\t20210316135207,\n",
      "\t\t\t\t20210316110221,\n",
      "\t\t\t\t20210316092013,\n",
      "\t\t\t\t20210316132310,\n",
      "\t\t\t\t20210316093119,\n",
      "\t\t\t\t20210316094338,\n",
      "\t\t\t\t20210316104157,\n",
      "\t\t\t\t20210316140658,\n",
      "\t\t\t\t20210316154405,\n",
      "\t\t\t\t20210316154936,\n",
      "\t\t\t\t20210316153129,\n",
      "\t\t\t\t20210316123009,\n",
      "\t\t\t\t20210316115540,\n",
      "\t\t\t\t20210316111702,\n",
      "\t\t\t\t20210316140446,\n",
      "\t\t\t\t20210315133716,\n",
      "\t\t\t\t20210315143524,\n",
      "\t\t\t\t20210315165300,\n",
      "\t\t\t\t20210315091515,\n",
      "\t\t\t\t20210315222727,\n",
      "\t\t\t\t20210315170120,\n",
      "\t\t\t\t20210315150411,\n",
      "\t\t\t\t20210315213915,\n",
      "\t\t\t\t20210315084959,\n",
      "\t\t\t\t20210315171427,\n",
      "\t\t\t\t20210315092316,\n",
      "\t\t\t\t20210315152337\n",
      "        \t];\n",
      "        \tfunction getArticlePath() {\n",
      "        \t\tvar slug = nextPenSlugs[ this.loadCount ];\n",
      "        \t\tif ( slug ) {\n",
      "        \t\t\treturn '/view/?no=' + slug + \"&re=O_\" + slug + \"&p=\" + (this.loadCount + 1) ;\n",
      "        \t\t}\n",
      "        \t}\n",
      "        \n",
      "        \t// init Infinite Scroll\n",
      "        \tjQuery(function() {\n",
      "        \t\t$('.article-feed').infiniteScroll({\n",
      "        \t\t\tpath: getArticlePath,\n",
      "        \t\t\tappend: '.zdnetkor-scroll',\n",
      "        \t\t\tstatus: '.scroller-status',\n",
      "        \t\t\thistoryTitle: true,\n",
      "        \t\t});\n",
      "        \t});\n",
      "    \n",
      "\n",
      "\n",
      "\n",
      "\n",
      "\n",
      "\n",
      "\n",
      "\n",
      "\n",
      "\n",
      "\n",
      "\n",
      "\n",
      "\n",
      "인터파크, 주식 서적 판매량 5배↑\n",
      "염승환 부장과 직접 상담할 수 있는 단독 이벤트 마련\n",
      "\n",
      "\n",
      "백봉삼 기자 입력 :2021/03/15 09:31 유통\n",
      "\n",
      "\n",
      "\n",
      "\n",
      "\n",
      "\n",
      "\n",
      "\n",
      "\n",
      "\n",
      "\n",
      "\n",
      "\n",
      "\n",
      "\n",
      "\n",
      "\n",
      "\n",
      "\n",
      "\n",
      "\n",
      "\n",
      "\n",
      "\n",
      "\n",
      "인터파크 염승환직접상담이벤트\n",
      "\n",
      "\n",
      "\n",
      "\n",
      "\n",
      "국내 주식 투자 인구가 800만 명을 넘어섰고 주식거래 활동계좌도 올 3월 기준 4천만 개에 육박하며 주식 투자가 보편적인 자산운용 수단으로 자리 잡으면서 관련 서적 판매량도 크게 증가했다.\n",
      "인터파크에 따르면 올해 1월1일부터 3월10일까지 주식/투자/펀드 카테고리에 도서 판매량과 매출액이 전년 동기간 대비 각각 5배씩 폭발적으로 증가한 것으로 나타났다.\n",
      "특히 매년 3월께 발표되는 예탁결제원의 12월 결산 상장법인 주식 소유자 기준에 따르면 주식 투자 인구는 2019년 말 619만 명에서 2021년 3월에는 약 835만 명으로 추정돼 약 216만 명의 ‘주린이’(초보 주식 투자자)들이 양성된 것으로 보인다. 요즘 주린이들은 업종과 종목 분석 자료도 찾아보며 적극적으로 공부하면서 투자하는 성향을 가진 이유로 실제 서점가에서 판매된 관련 서적도 주식 거래 필수 지식과 투자 원칙 등에 대한 입문서들의 판매량이 압도적으로 높은 것으로 나타났다.\n",
      "그 결과 2020년 1년간 주식/투자/펀드 카테고리 베스트셀러는 1위가 ‘주식투자 무작정 따라하기’,  2위 ‘전설로 떠나는 월가의 영웅’, 3위 ‘주식 공부 5일 완성’, 4위 ‘파워슈팅의 주식투자족보 시즌 3’, 5위 ‘미스터 마켓 2021’ 순으로 나타났다.\n",
      "2021년으로 넘어오면서 1월1일부터 3월10일까지 판매량에서도 주린이들을 위한 신간 출간과 인기가 더욱 두드러지고 있다. 분야 1위 도서로 ‘주린이가 가장 알고 싶은 최다질문 TOP 77’이 급부상했으며 이 책은 출간 이후 7주 연속 종합 베스트셀러 1위를 지키고 있을 만큼 호응이 높다. ‘주식투자 무작정 따라하기’와 ‘전설로 떠나는 월가의 영웅’, ‘미스터 마켓 2021’도 지난해에 이어 인기를 지속하고 있으며 ‘주린이도 술술 읽는 친절한 주식책’도 분야 5위에 올라왔다.\n",
      "이에 인터파크는 주린이들을 위한 특별한 단독 이벤트를 마련했다. ‘주린이가 가장 알고 싶은 최다질문 TOP 77’의 저자이자 주린이들 사이에 '염블리'라는 애칭으로 통하는 이베스트투자증권의 염승환 부장에게 직접 상담할 수 있는 기회를 제공하는 것.\n",
      "관련기사\n",
      "\n",
      "\n",
      "\n",
      "\n",
      "\n",
      "\n",
      "\n",
      "\n",
      "\n",
      "\n",
      "\n",
      "배민 김봉진, 직원·라이더에 1천억원대 주식 나눔\n",
      "\n",
      "\n",
      "2021.03.11안희정 기자\n",
      "\n",
      "\n",
      "\n",
      "\n",
      "\n",
      "\n",
      "\n",
      "\n",
      "\n",
      "\n",
      "\n",
      "\n",
      "야놀자, 전직원 1천만원 주식 무상 지급...\"새 직원도 준다”\n",
      "\n",
      "\n",
      "2021.03.08백봉삼 기자\n",
      "\n",
      "\n",
      "\n",
      "\n",
      "\n",
      "\n",
      "\n",
      "\n",
      "\n",
      "\n",
      "\n",
      "\n",
      "쿠팡, 상시직 전환 일용직 3천명에 주식 부여\n",
      "\n",
      "\n",
      "2021.02.17안희정 기자\n",
      "\n",
      "\n",
      "\n",
      "\n",
      "\n",
      "\n",
      "\n",
      "\n",
      "\n",
      "\n",
      "\n",
      "\n",
      "토스증권, 초보 눈높이 맞춘 MTS로 월 100만 MZ세대 겨낭한다\n",
      "\n",
      "\n",
      "2021.02.03차재서 기자\n",
      "\n",
      "\n",
      "\n",
      "3월31일 까지 주린이가 가장 알고 싶은 최다질문 TOP 77을 구매한 독자들의 이벤트 응모가 가능하며, 깊이 있는 대면 상담을 위해 단 3명에게만 행운이 주어지게 된다. 참여방법은 해당 도서 구매 후 이벤트 페이지의 게시판에 직접 상담을 해야 하는 이유와 궁금한 점을 남기면 된다. 당첨자 발표는 4월 9일에 있을 예정이며, 직접 상담 일정은 염승환 부장과 일정 조율 후 확정하게 된다.\n",
      "인터파크 권미혜 경제경영 MD는 \"지난해 같은 상승장을 지나 변동성이 심해진 요즘 시장에서 불안해진 주린이들이 자신의 포트폴리오를 갖고 직접 상담도 받고 책을 읽으면서 궁금했던 점을 질문도 할 수 있는 유익한 자리가 될 것으로 기대한다\"고 밝혔다.\n",
      "\n",
      "\n",
      "\n",
      "\n",
      "\n",
      "\n",
      "\n",
      "\n",
      " \n",
      "\n",
      "\n",
      "\n",
      "\n",
      "\n",
      "\n",
      "\n",
      "tags:\n",
      "주린이\n",
      "인터파크\n",
      "주식\n",
      "책\n",
      "도서\n",
      "투자\n",
      "서적\n",
      "염승환\n",
      "\n",
      "\n",
      "\n",
      "\n",
      "\n",
      "\n",
      "\n",
      "\n",
      "\n",
      "\n",
      "백봉삼 기자\n",
      "\n",
      "\n",
      "요즘 가장 ‘핫’한 인터넷/전자상거래/스타트업을 취재합니다. 여러분의 작은 제보가 세상을 놀라게 하는 뉴스가 될 수 있습니다. 백 기자에게 연락주세요.\n",
      "\n",
      "  \n",
      "                        \n",
      "\n",
      "\n",
      "\n",
      "\n",
      "\n",
      "\n",
      "\n",
      "\n",
      "\n",
      "\n",
      "\n",
      "\n",
      "\n",
      "\n",
      "\n",
      "\n",
      "\n",
      "\n",
      "\n",
      "\n",
      "jQuery(function(){\n",
      "\t$(\"img.lazy\").show().lazyload();\n",
      "\n",
      "\twindow.onload = function() {\n",
      "\t\t$(window).resize()\n",
      "\t};\n",
      "});\n",
      "jQuery(document).ready( function() {\n",
      "\t$(\"img.lazyload\").lazyload();\n",
      "\n",
      "\t$('.fb-share').click(function(e) {\n",
      "\t\te.preventDefault();\n",
      "\t\twindow.open(encodeURI($(this).attr('href') + $(this).attr('aria-label')), 'fbShareWindow', 'height=450, width=550, top=0, left=0, toolbar=0, location=0, menubar=0, directories=0, scrollbars=0');\n",
      "\t\treturn false;\n",
      "\t});\n",
      "\n",
      "\t$('.fb2-share').click(function(e) {\n",
      "\t\te.preventDefault();\n",
      "\t\twindow.open($(this).attr('href') + $(this).attr('aria-label'), 'fbShareWindow', 'height=450, width=550, top=0, left=0, toolbar=0, location=0, menubar=0, directories=0, scrollbars=0');\n",
      "\t\treturn false;\n",
      "\t});\n",
      "\n",
      "});\n",
      "\n",
      "\n",
      "\n",
      "이 기사에 댓글쓰기펼치기\n",
      "\n",
      "\n",
      "\n",
      "\t\t\t\t\t\t\t\twindow.livereOptions ={\n",
      "\n",
      "\t\t\t\t\t\t\t\t\t\trefer: 'zdnet.co.kr/view/?no=20210315093140',\n",
      "\n",
      "\t\t\t\t\t\t\t\t\t\teagerLoading: true\n",
      "\t\t\t\t\t\t\t\t\t};\n",
      "\t\t\t\t\t\t\t\t\twindow.livereHooks = {\n",
      "\t\t\t\t\t\t\t\t\t\tcreated: function (data) {\n",
      "\t\t\t\t\t\t\t\t\t\t\tconsole.log('livere=' + data.totalCount);\n",
      "\t\t\t\t\t\t\t\t\t\t\tif (data.totalCount > 0) {\n",
      "\t\t\t\t\t\t\t\t\t\t\t\tjQuery('#comment_box').css('height', '');\n",
      "\t\t\t\t\t\t\t\t\t\t\t\tjQuery('#comment_btn').hide();\n",
      "\t\t\t\t\t\t\t\t\t\t\t}\n",
      "\t\t\t\t\t\t\t\t\t\t}\n",
      "\t\t\t\t\t\t\t\t\t};\n",
      "\t\t\t\t\t\t\t\t\t(function(d,s) {\n",
      "\t\t\t\t\t\t\t\t\t\tvar j, e=d.getElementsByTagName(s)[0];\n",
      "\t\t\t\t\t\t\t\t\t\t\n",
      "\t\t\t\t\t\t\t\t\t\tif (typeof LivereTower === 'function') {return;}\n",
      "\t\t\t\t\t\t\t\t\t\t\n",
      "\t\t\t\t\t\t\t\t\t\tj=d.createElement(s);\n",
      "\t\t\t\t\t\t\t\t\t\tj.src='https://cdn-city.livere.com/js/embed.dist.js'; j.async=true;\n",
      "\t\t\t\t\t\t\t\t\t\te.parentNode.insertBefore(j,e);\n",
      "\t\t\t\t\t\t\t\t\t})(document,'script');\n",
      "\t\t\t\t\t\t\t\t\n",
      "라이브리 댓글 작성을 위해 javascript를 활성화해 주세요\n",
      "\n",
      "\n",
      "\n",
      "\n",
      "\n",
      "\n",
      "\n",
      "\n",
      "\n",
      "\n",
      "\n",
      "\n",
      "\n",
      "\n",
      "\n",
      "\n",
      "\n",
      "\n",
      "가장 많이 본 뉴스\n",
      "\n",
      "\n",
      "\n",
      "\n",
      "\n",
      "\n",
      "기아 EV6 전기차 완전 공개...온라인으로 사전예약 진행\n",
      "\n",
      "기사내용\n",
      "2021.03.15조재환 기자\n",
      "\n",
      "\n",
      "\n",
      "\n",
      "\n",
      "\n",
      "\n",
      "\n",
      "일론 머스크 또 기행…테슬라 '테크노킹' 됐다\n",
      "\n",
      "기사내용\n",
      "2021.03.15김익현 미디어연구소장\n",
      "\n",
      "\n",
      "\n",
      "\n",
      "\n",
      "\n",
      "\n",
      "\n",
      "5G폰도 40만원대...알뜰폰 도약 기회 보인다\n",
      "\n",
      "기사내용\n",
      "2021.03.15박수형 기자\n",
      "\n",
      "\n",
      "\n",
      "\n",
      "\n",
      "\n",
      "\n",
      "\n",
      "올해부터 본격화하는 SK하이닉스만의 파이낸셜 스토리\n",
      "\n",
      "기사내용\n",
      "2021.03.15양태훈 기자\n",
      "\n",
      "\n",
      "\n",
      "\n",
      "\n",
      "\n",
      "\n",
      "\n",
      "구글, 인앱결제 수수료 15%로 내린다\n",
      "\n",
      "기사내용\n",
      "2021.03.15안희정 기자\n",
      "\n",
      "\n",
      "\n",
      "\n",
      "\n",
      "\n",
      "\n",
      "\n",
      "이베이코리아 예비 입찰…누구 품으로 갈까\n",
      "\n",
      "기사내용\n",
      "2021.03.16안희정 기자\n",
      "\n",
      "\n",
      "\n",
      "\n",
      "\n",
      "\n",
      "\n",
      "\n",
      "스페이스X, 로켓 재활용 기록 또 깼다…9번째 성공\n",
      "\n",
      "기사내용\n",
      "2021.03.15이정현 미디어연구소\n",
      "\n",
      "\n",
      "\n",
      "\n",
      "\n",
      "\n",
      "\n",
      "\n",
      "이베이코리아 예비입찰 D-1…흥행 성공할까\n",
      "\n",
      "기사내용\n",
      "2021.03.15안희정 기자\n",
      "\n",
      "\n",
      "\n",
      "\n",
      "\n",
      "\n",
      "\n",
      "\n",
      "요기요, 3년 내 ‘최대 1천명’ 개발 조직 꾸린다\n",
      "\n",
      "기사내용\n",
      "2021.03.15백봉삼 기자\n",
      "\n",
      "\n",
      "\n",
      "\n",
      "\n",
      "\n",
      "\n",
      "\n",
      "TV 보면 눈 나빠진다?…삼성·LG, 눈 건강 챙긴다\n",
      "\n",
      "기사내용\n",
      "2021.03.15권혜미 기자\n",
      "\n",
      "\n",
      "\n",
      "\n",
      "\n",
      "\n",
      "\n",
      "\n",
      "\n",
      "\n",
      "\n",
      "\n",
      "\n",
      "\n",
      "이시각 주요뉴스\n",
      "\n",
      "\n",
      "\n",
      "\n",
      "\n",
      "\n",
      "\n",
      "\n",
      "네이버-신세계 지분교환 확정...\"오늘 이사회 후 공식화”\n",
      "\n",
      "기사내용\n",
      "백봉삼 기자\n",
      "\n",
      "\n",
      "\n",
      "\n",
      "\n",
      "\n",
      "\n",
      "\n",
      "\n",
      "\n",
      "이베이코리아 예비 입찰…누구 품으로 갈까\n",
      "\n",
      "기사내용\n",
      "안희정 기자\n",
      "\n",
      "\n",
      "\n",
      "\n",
      "\n",
      "\n",
      "\n",
      "\n",
      "\n",
      "\n",
      "논란 중심에 선 확률형 아이템...글로벌 게임시장 사례는?\n",
      "\n",
      "기사내용\n",
      "김한준 기자\n",
      "\n",
      "\n",
      "\n",
      "\n",
      "\n",
      "\n",
      "\n",
      "\n",
      "\n",
      "\n",
      "\"현 위치에서 계속 업무 봐라\"...LG폰 사업 운명은?\n",
      "\n",
      "기사내용\n",
      "정진호 기자\n",
      "\n",
      "\n",
      "\n",
      "\n",
      "\n",
      "\n",
      "\n",
      "\n",
      "\n",
      "\n",
      "\n",
      "\n",
      "\n",
      "\n",
      "\n",
      "\n",
      "\n",
      "\n",
      "\n",
      "\n",
      "\n",
      "\n",
      "\n",
      "\n",
      "\n",
      "\n",
      "\n",
      "\n",
      "\n",
      "\n",
      "\n",
      "\n",
      "\n",
      "ZDNet Power Center\n",
      "\n",
      "\n",
      "\n",
      "\n",
      "\n",
      "\n",
      "\n",
      "\n",
      "\n",
      "\n",
      "\n",
      "\n",
      "\n",
      "\n",
      "\n",
      "\n",
      "\n",
      "\n",
      "\n",
      "\n",
      "\n",
      "\n",
      "\n",
      "\n",
      "\n",
      "\n",
      "\n",
      "\n",
      "\n",
      "\n",
      "\n",
      "\n",
      "\n",
      "\n",
      "\n",
      "\n",
      "\n",
      "\n",
      "\n",
      "\n",
      "\n",
      "\n",
      "\n",
      "\n",
      "\n",
      "\n",
      "\n",
      "\n",
      "\n",
      "\n",
      "\n",
      "\n",
      "\n",
      "\n",
      "\n",
      "\n",
      "\n",
      "\n",
      "\n",
      "\n",
      "\n",
      "\n",
      "\n",
      "\n",
      "\n",
      "\n",
      "\n",
      "\n",
      "\n",
      "\n",
      "\n",
      "\n",
      "\n",
      "\n",
      "\n",
      "\n",
      "\n",
      "\n",
      "\n",
      "\n",
      "\n",
      "\n",
      "\n",
      "\n",
      "\n",
      "\n",
      "\n",
      "\n",
      "\n",
      "\n",
      "\n",
      "\n",
      "Connect with us\n",
      "\n",
      "\n",
      "\n",
      "\n",
      "\n",
      "\n",
      "\n",
      "\n",
      "                    © 2020 ZDNET, A RED VENTURES COMPANY. ALL RIGHTS RESERVED. All rights reserved. Global family site >>  CNET.com | ZDNet.com\n",
      "\n",
      "\n",
      "\n",
      "\n",
      "ZDNet Korea Newsletter 구독 신청\n",
      "\n",
      "구독신청\n",
      "\n",
      "\n",
      "\n",
      "\n",
      "\n",
      "\n",
      "\n",
      "회사소개\n",
      "광고문의\n",
      "DB마케팅문의\n",
      "제휴문의\n",
      "개인정보처리방침\n",
      "이용약관\n",
      "청소년 보호정책\n",
      "\n",
      "\n",
      "회사명 : (주)메가뉴스\n",
      "제호 : 지디넷코리아\n",
      "등록번호 : 서울아00665\n",
      "\n",
      "\n",
      "등록연월일 : 2008년 9월 23일\n",
      "사업자 등록번호 : 220-87-44355\n",
      "\n",
      "\n",
      "주소 : 서울시 마포구 양화로111 지은빌딩 3층\n",
      "대표전화 : (02)330-0100\n",
      "\n",
      "\n",
      "발행인 : 김경묵\n",
      "편집국장 : 박승정\n",
      "개인정보보호 책임자·청소년보호책임자 : 김익현\n",
      "\n",
      "\n",
      "\n",
      "\n",
      "\n",
      "\n",
      "\n",
      "\n",
      "\n",
      "\n",
      "\n",
      "\n",
      "\n",
      "\n",
      "\n",
      "\n",
      " \n",
      "\n",
      "\n",
      "\n",
      "\n",
      "\n",
      "\n",
      "\n",
      "\n",
      "\t(function(){var d=!1,e=\"//www.mediacategory.com/servlet/iadbn?from=\"+escape(document.referrer)+\"&s=12622&psb=99\",c=function(){d=!0;var a=document.createElement(\"iframe\");a.src=e;a.width=\"0\";a.height=\"0\";a.frameBorder=0;a.marginWidth=0;a.marginHeight=0;a.scrolling=\"no\";a.async?a.async=!0:a.defer&&(a.defer=!0);if(document.body)document.body.appendChild(a);else{var b=document.getElementsByTagName(\"html\")[0],c=document.createElement(\"body\");b.appendChild(c);c.appendChild(a)}};try{var f=setTimeout(c,1E3),g=document.getElementsByTagName(\"head\").item(0),b=document.createElement(\"script\");b.src=\"//cdn.megadata.co.kr/js/media/1.1/MBSHandler.js\";b.type=\"text/javascript\";b.async?b.async=!0:b.defer=!0;b.onload=function(){!0!==d&&(clearTimeout(f),enlipleMBSHandler(enlipleMBSHandler.getProductTypeCode(\"ico\"),enlipleMBSHandler.getWebCode(),12622).appendICover(e))};g.appendChild(b)}catch(a){c()}})();\n",
      "\t\n",
      "\n",
      "\n",
      "\n",
      "\n",
      " 닫기닫기\n"
     ]
    }
   ],
   "source": [
    "import requests\n",
    "from selenium import webdriver\n",
    "from bs4 import BeautifulSoup\n",
    "import time\n",
    "import re\n",
    "\n",
    "options = webdriver.ChromeOptions()\n",
    "\n",
    "# headless 옵션 설정\n",
    "options.add_argument('headless')\n",
    "options.add_argument(\"no-sandbox\")\n",
    "\n",
    "# 브라우저 윈도우 사이즈\n",
    "options.add_argument('window-size=1920x1080')\n",
    "\n",
    "# 사람처럼 보이게 하는 옵션들\n",
    "options.add_argument(\"disable-gpu\")   # 가속 사용 x\n",
    "options.add_argument(\"lang=ko_KR\")    # 가짜 플러그인 탑재\n",
    "options.add_argument('user-agent=Mozilla/5.0 (Macintosh; Intel Mac OS X 10_12_6) AppleWebKit/537.36 (KHTML, like Gecko) Chrome/61.0.3163.100 Safari/537.36')  # user-agent 이름 설정\n",
    "\n",
    "driver = webdriver.Chrome('./webdriver/chromedriver_win32/chromedriver.exe') \n",
    "\n",
    "# res = requests.get(\"https://www.chosun.com/economy/2021/03/14/G47VELTHWVEF5BB727RO7GMXYM/?utm_source=naver&utm_medium=referral&utm_campaign=naver-news\")\n",
    "# soup = BeautifulSoup(res.text,'html.parser')\n",
    "\n",
    "# print(soup)\n",
    "\n",
    "# for script in soup.find_all('script'):\n",
    "#     script.extract()\n",
    "\n",
    "# str1 = soup.get_text();\n",
    "\n",
    "url = \"https://zdnet.co.kr/view/?no=20210315093140\"\n",
    "driver.implicitly_wait(3)\n",
    "driver.get(url)\n",
    "time.sleep(3)\n",
    "\n",
    "\n",
    "import re\n",
    "\n",
    "html = driver.page_source\n",
    "# soup = BeautifulSoup(res.text, 'lxml')\n",
    "# BeautifulSoup(html)\n",
    "content = []\n",
    "soup = BeautifulSoup(html,'html.parser')\n",
    "\n",
    "# for script in soup.find_all('script'):\n",
    "#     script.extract()\n",
    "# for style in soup.find_all('style'):\n",
    "#     style.extract()\n",
    "str1 = soup.get_text();\n",
    "print(str1)"
   ]
  },
  {
   "cell_type": "code",
   "execution_count": null,
   "metadata": {},
   "outputs": [],
   "source": []
  },
  {
   "cell_type": "code",
   "execution_count": null,
   "metadata": {},
   "outputs": [],
   "source": []
  },
  {
   "cell_type": "code",
   "execution_count": null,
   "metadata": {},
   "outputs": [],
   "source": []
  },
  {
   "cell_type": "code",
   "execution_count": 2,
   "metadata": {},
   "outputs": [],
   "source": [
    "import pandas as pd\n",
    "import numpy as np\n",
    "\n",
    "import platform\n",
    "import matplotlib.pyplot as plt\n",
    "\n",
    "from bs4 import BeautifulSoup \n",
    "from urllib.request import urlopen\n",
    "import urllib\n",
    "import time\n",
    "from urllib.request import Request\n",
    "\n",
    "%matplotlib inline\n",
    "\n",
    "from matplotlib import rc\n",
    "plt.rcParams['axes.unicode_minus']=False\n",
    "rc('font', family='Malgun Gothic')"
   ]
  },
  {
   "cell_type": "code",
   "execution_count": null,
   "metadata": {},
   "outputs": [],
   "source": []
  },
  {
   "cell_type": "code",
   "execution_count": 3,
   "metadata": {},
   "outputs": [],
   "source": [
    "def searching(word,num):\n",
    "    url = 'https://search.naver.com/search.naver?&where=news&query={keyword}&sm=tab_pge&sort=0&photo=0&field=0&reporter_article=&pd=0&ds=&de=&docid=&nso=so:r,p:all,a:all&mynews=0&cluster_rank=55&start={pagenum}&refresh_start=0'.format(keyword=word,pagenum=num)\n",
    "    return url\n",
    "    "
   ]
  },
  {
   "cell_type": "code",
   "execution_count": 5,
   "metadata": {},
   "outputs": [],
   "source": [
    "def cleanText(readData):\n",
    "    #텍스트에 포함되어 있는 특수 문자 제거\n",
    "    text = re.sub('[-=+,#/\\?:^$.*\\\"※~&amp;%ㆍ!』\\\\‘|\\(\\)\\[\\]\\&lt;\\&gt;`\\'…》]','',readData)\n",
    "    text = ' '.join(text.split())\n",
    "    return text"
   ]
  },
  {
   "cell_type": "code",
   "execution_count": 6,
   "metadata": {},
   "outputs": [],
   "source": [
    "def searchText(readData):\n",
    "    #텍스트에 포함되어 있는 특수 문자 제거\n",
    "    text = re.sub('[-=+,#/\\?:^$*\\\"※~&amp;%ㆍ!』\\\\‘|\\(\\)\\[\\]\\&lt;\\&gt;`\\'…》]','',readData)\n",
    "    text = ' '.join(text.split())\n",
    "    i = len(text)\n",
    "    i = text.find(\".\")\n",
    "    text = text[:i]\n",
    "    return text"
   ]
  },
  {
   "cell_type": "code",
   "execution_count": 7,
   "metadata": {},
   "outputs": [],
   "source": [
    "from bs4 import BeautifulSoup\n",
    "import requests\n",
    "import re\n",
    "\n",
    "# url = searching(\"주식\",\"01\")\n",
    "def detail(url,summary):\n",
    "#     url = \"https://www.edaily.co.kr/news/read?newsId=01863046628983976&mediaCodeNo=257\"\n",
    "    headers = {'User-Agent' : 'Mozilla/5.0 (Macintosh; Intel Mac OS X 10_12_6) AppleWebKit/537.36 (KHTML, like Gecko) Chrome/61.0.3163.100 Safari/537.36'}\n",
    "\n",
    "\n",
    "    res = requests.get(url, headers = headers, verify=False)\n",
    "#     res.encoding = 'utf-8'\n",
    "    if res.encoding == 'ISO-8859-1':\n",
    "#         print(res.content)\n",
    "        soup = BeautifulSoup(res.content,'html.parser')\n",
    "        links = soup.find_all(\"meta\")\n",
    "        breaker = False\n",
    "        for a in links:\n",
    "            print(a.attrs)\n",
    "            meta = a.attrs\n",
    "            for k,v in meta.items():\n",
    "                if v == 'text/html; charset=utf-8' or v=='text/html; charset=euc-kr' or v == 'text/html;charset=utf-8' or v=='text/html;charset=euc-kr':\n",
    "                    print('{key}:{value}'.format(key=k,value=v))\n",
    "                    if v == 'text/html; charset=utf-8' or v == 'text/html;charset=utf-8':\n",
    "                        res.encoding = 'utf-8'\n",
    "                    else:\n",
    "                        res.encoding = 'euc-kr'\n",
    "                    breaker = True\n",
    "                    break\n",
    "                if k == 'charset':\n",
    "                    res.encoding = v\n",
    "                    breaker = True\n",
    "                    break\n",
    "            if breaker == True:\n",
    "                break\n",
    "    print(res.encoding)\n",
    "    soup = BeautifulSoup(res.text,'html.parser')\n",
    "#     if res.encoding == 'ISO-8859-1':\n",
    "#         print(\"꺄ㅑㅑㅑㅑㅑㅑㅑㅑㅑㅑㅑㅑㅑㅑㅑㅑ\")\n",
    "#         soup = BeautifulSoup(res.content.decode('euc-kr', 'replace'),'html.parser')\n",
    "\n",
    "    for script in soup.find_all('script'):\n",
    "        script.extract()\n",
    "    for style in soup.find_all('style'):\n",
    "        style.extract()\n",
    "\n",
    "    str1 = cleanText(soup.get_text())\n",
    "    str2 = searchText(summary)\n",
    "    \n",
    "    start = 0\n",
    "    for a in re.finditer(str2,str1):\n",
    "        start = a.start()\n",
    "        print(start,\"start\")\n",
    "    restr = str1[start:]\n",
    "    \n",
    "    # print(start,\"start\")\n",
    "    end=restr.find(\"@\")\n",
    "    restr = restr[:end]\n",
    "    if restr.find(\"뉴스\") != -1:\n",
    "        restr = restr[:restr.find(\"뉴스\")]\n",
    "    if restr.find(\"기자\") != -1:\n",
    "        restr = restr[:restr.find(\"기자\")]\n",
    "    return restr\n",
    "    "
   ]
  },
  {
   "cell_type": "code",
   "execution_count": 8,
   "metadata": {},
   "outputs": [
    {
     "name": "stderr",
     "output_type": "stream",
     "text": [
      "<ipython-input-8-14875e788eda>:11: TqdmDeprecationWarning: This function will be removed in tqdm==5.0.0\n",
      "Please use `tqdm.notebook.tqdm` instead of `tqdm.tqdm_notebook`\n",
      "  for n in tqdm_notebook(range(1,100,10)):\n"
     ]
    },
    {
     "data": {
      "application/vnd.jupyter.widget-view+json": {
       "model_id": "0d51e113169e4ccf8f30f3294e87808e",
       "version_major": 2,
       "version_minor": 0
      },
      "text/plain": [
       "HBox(children=(HTML(value=''), FloatProgress(value=0.0, max=10.0), HTML(value='')))"
      ]
     },
     "metadata": {},
     "output_type": "display_data"
    },
    {
     "name": "stderr",
     "output_type": "stream",
     "text": [
      "C:\\Users\\user\\anaconda3\\envs\\py38_64\\lib\\site-packages\\urllib3\\connectionpool.py:981: InsecureRequestWarning: Unverified HTTPS request is being made to host 'search.naver.com'. Adding certificate verification is strongly advised. See: https://urllib3.readthedocs.io/en/latest/advanced-usage.html#ssl-warnings\n",
      "  warnings.warn(\n"
     ]
    },
    {
     "name": "stdout",
     "output_type": "stream",
     "text": [
      "http://news.mt.co.kr/mtview.php?no=2021032315073896012 : 국내 주식 보유 비중 확대를 위한 ‘리밸런싱(자산 조정)’ 안건이 상정된다. 현재 ±2%포인트인 리밸런싱 허용 범위를 최대 ±3.5%까지 확대하는 방안이 유력한 것으로 전해졌다. 이 경우 올해 국내주식 보유 비중 목표치가...\n"
     ]
    },
    {
     "name": "stderr",
     "output_type": "stream",
     "text": [
      "C:\\Users\\user\\anaconda3\\envs\\py38_64\\lib\\site-packages\\urllib3\\connectionpool.py:981: InsecureRequestWarning: Unverified HTTPS request is being made to host 'news.mt.co.kr'. Adding certificate verification is strongly advised. See: https://urllib3.readthedocs.io/en/latest/advanced-usage.html#ssl-warnings\n",
      "  warnings.warn(\n"
     ]
    },
    {
     "name": "stdout",
     "output_type": "stream",
     "text": [
      "EUC-KR\n",
      "2026 start\n",
      "국내 주식 보유 비중 확대를 위한 리밸런싱자산 조정’ 안건이 상정된다 현재 ±2포인트인 리밸런싱 허용 범위를 최대 ±35까지 확대하는 방안이 유력한 것으로 전해졌다 이 경우 올해 국내주식 보유 비중 목표치가 168에서 20까지 확대될 수 있다 23일 정부부처와 국민연금 등에 따르면 보건복지부는 최근 기금운용위원회 운용위원들에게 이같은 내용을 포함한 리밸런싱의결 안건을 전달했다 복지부는 보안’을 이유로 구체적 안건 설명 자료를 현장 배포할 계획이라고 참석위원들에게 안내했다 국민연금의 이번 리밸런싱’은 국민연금의 국내주식 보유 비중을 늘리기 위한 조치다 코스피 지수가 상승할 때마다 목표 비중을 맞추기 위해 기계적 매도’를 할 수밖에 없는 현실을 고려한 해법인 셈이다 기금위 관계자는 “지난 2월 회의 때 여러 위원들이 연금의 기계적 매도에 문제를 제기했다”며 “옛날 원칙을 지금 그대로 유지하는 게 옳은지 짚어봐야 한다는 데 공감대가 있었다”고 말했다 이어 “이번 회의때 데이터를 뽑아와 짚어보기로 한 것”이라며 “국내 주식 비중을 재평가하고 다르게 가자는 내용이었다”고 덧붙였다 국민연금의 국내 주식 비중 확대를 위해선 목표 비중 자치를 늘리는 방안과 정해진 목표 비중 내 추가 범위’를 늘리는 방안 등이 있다 복지부와 기금위는 후자 방안을 위한 리밸린싱 조정안을 택했다 리밸런싱은 매달 연금 목표 주식비중을 확인 한 뒤 초과하거나 미달할 경우 다음달 자동으로 매도·매수하는 전략적 자산배분의 방식이다 현재 리밸런싱 허용범위는 ±2포인트다 기금위는 최대 ±35포인트까지 확대하는 안을 논의 확정한다 이 경우 산술적으로 국민연금은 국내주식을 20 3목표비중 168전략적 허용범위 35포인트까지 보유할 수 있다 정부 관계자는 연금의 자산분배 전략을 시장 상황에 맞게 유연하게 조절한다는 방향이라며 며 주식 비중을 조금이라도 조정해 매도의 속도와 물량을 줄일 수 있다는 판단이라고 설명했다 기금위 관계자는 “복지부의 추계치를 보면 리밸런싱 허용범위를 35로 올릴 경우 리밸런싱 매도 회수가 지금의 1314 수준으로 줄어드는 걸로 나온다며 지금처럼 변동성이 큰 장세에서 연금이 리밸런싱을 이유로 매일 기계적 매도를 할 경우 발생하는 거래비용도 만만찮다는 지적도 있어 허용범위를 넓히는 쪽으로 방향을 잡은 것으로 안다”고 설명했다 한편 이번 기금위에선 올해 리밸런싱을 조정하는 의결 안건’ 외에 중장기 국내 주식 비중 조정 시나리오를 담은 보고 안건’도 논의한다 향후 20년 국민연금기금운용 자산배분 계획 새로 짠 기준 포트폴리오 시범 구성안이다 기금위 다른 관계자는 “20년짜리 큰 그림을 그린뒤 이를 토대로 5년단위 계획의 방향성을 논의하자는 취지로 알고 있다며 그간 국민연금이 성숙기였다면 앞으로는 감축기까지 고려해야 한다는 취지”라고 말했다 <저작권자 © 돈이 보이는 리얼타임  return 받은값\n"
     ]
    },
    {
     "name": "stderr",
     "output_type": "stream",
     "text": [
      "C:\\Users\\user\\anaconda3\\envs\\py38_64\\lib\\site-packages\\urllib3\\connectionpool.py:981: InsecureRequestWarning: Unverified HTTPS request is being made to host 'news.mt.co.kr'. Adding certificate verification is strongly advised. See: https://urllib3.readthedocs.io/en/latest/advanced-usage.html#ssl-warnings\n",
      "  warnings.warn(\n"
     ]
    },
    {
     "name": "stdout",
     "output_type": "stream",
     "text": [
      "EUC-KR\n",
      "2026 start\n",
      "http://www.newsis.com/view/?id=NISX20210323_0001379980&cID=10201&pID=10200 : 본인 주식을 다른 사람 소유인 것처럼 속인 자료를 공정거래위원회에 제출한 혐의 등으로 약식기소된... 이 전 회장은 2016~2018년 공정위에 지정 자료를 제출할 때 태광산업·대한화섬 2개사의 본인 주식이 다른 사람...\n"
     ]
    },
    {
     "name": "stderr",
     "output_type": "stream",
     "text": [
      "C:\\Users\\user\\anaconda3\\envs\\py38_64\\lib\\site-packages\\urllib3\\connectionpool.py:981: InsecureRequestWarning: Unverified HTTPS request is being made to host 'newsis.com'. Adding certificate verification is strongly advised. See: https://urllib3.readthedocs.io/en/latest/advanced-usage.html#ssl-warnings\n",
      "  warnings.warn(\n"
     ]
    },
    {
     "name": "stdout",
     "output_type": "stream",
     "text": [
      "UTF-8\n",
      "1153 start\n",
      "본인 주식을 다른 사람 소유인 것처럼 속인 자료를 공정거래위원회에 제출한 혐의 등으로 약식기소된 이호진 전 태광그룹 회장에게 법원이 벌금 3억원의 약식명령을 내렸다 24일 법원에 따르면 서울중앙지법 형사27단독 신세아 판사는 전날 자본시장과 금융투자업에 관한 법률 위반 등 혐의로 기소된 이 전 회장에게 벌금 3억원의 약식명령을 내렸다 약식명령은 재판 없이 벌금·과태료 등 처분을 하는 절차다 약식명령을 받은 당사자는 불복할 경우 약식명령문을 송달받은 후 일주일 이내에 정식재판을 청구할 수 있다 이 전 회장은 20162018년 공정위에 지정 자료를 제출할 때 태광산업·대한화섬 2개사의 본인 주식이 다른 사람 소유인 것처럼 속여 제출한 혐의를 받는다 앞서 공정위는 지난 1월 지난 2004년부터 15년간 공정위에 소속 회사 주주 현황 등 지정 자료를 제출할 때 실제 소유주본인가 아닌 친족 임직원 등 차명 주주로 허위 기재했다며 이 전 회장을 검찰에 고발했다 그 이전 기간도 위법에 해당하지만 형사소송법상 공소시효를 고려해 2016년 이후부터만 법 위반 대상 행위로 봤다는 것이 공정위의 설명이다 검찰은 공정위 고발 사건을 바탕으로 이 전 회장 등 피의자 조사를 거쳐 벌금 3억원에 약식기소 처분을 내렸다 당시 검찰 관계자는 법정형 자체가 높지 않아 억대 벌금으로 처분되는 것이 일반적이라고 설명했다 ◎공감언론 뉴시스 csenine return 받은값\n"
     ]
    },
    {
     "name": "stderr",
     "output_type": "stream",
     "text": [
      "C:\\Users\\user\\anaconda3\\envs\\py38_64\\lib\\site-packages\\urllib3\\connectionpool.py:981: InsecureRequestWarning: Unverified HTTPS request is being made to host 'newsis.com'. Adding certificate verification is strongly advised. See: https://urllib3.readthedocs.io/en/latest/advanced-usage.html#ssl-warnings\n",
      "  warnings.warn(\n"
     ]
    },
    {
     "name": "stdout",
     "output_type": "stream",
     "text": [
      "UTF-8\n",
      "1153 start\n",
      "https://biz.chosun.com/site/data/html_dir/2021/03/23/2021032302948.html?utm_source=naver&utm_medium=original&utm_campaign=biz : 우리나라 주식 거래 활동 계좌 수가 처음으로 4000만개를 돌파했다. 주식거래 활동계좌는 예탁자산이 10만원 이상이고, 6개월 동안 한 차례 이상 거래한 적이 있는 증권계좌를 말한다. 주로 개인투자자가...\n"
     ]
    },
    {
     "name": "stderr",
     "output_type": "stream",
     "text": [
      "C:\\Users\\user\\anaconda3\\envs\\py38_64\\lib\\site-packages\\urllib3\\connectionpool.py:981: InsecureRequestWarning: Unverified HTTPS request is being made to host 'biz.chosun.com'. Adding certificate verification is strongly advised. See: https://urllib3.readthedocs.io/en/latest/advanced-usage.html#ssl-warnings\n",
      "  warnings.warn(\n",
      "C:\\Users\\user\\anaconda3\\envs\\py38_64\\lib\\site-packages\\urllib3\\connectionpool.py:981: InsecureRequestWarning: Unverified HTTPS request is being made to host 'biz.chosun.com'. Adding certificate verification is strongly advised. See: https://urllib3.readthedocs.io/en/latest/advanced-usage.html#ssl-warnings\n",
      "  warnings.warn(\n"
     ]
    },
    {
     "name": "stdout",
     "output_type": "stream",
     "text": [
      "{'charset': 'UTF-8'}\n",
      "UTF-8\n",
      "182 start\n",
      "우리나라 주식 거래 활동 계좌 수가 처음으로 4000만개를 돌파했다 주식거래 활동계좌는 예탁자산이 10만원 이상이고 6개월 동안 한 차례 이상 거래한 적이 있는 증권계좌를 말한다 주로 개인투자자가 증권사를 통해 개설하는 위탁매매 계좌다 조선DB 23일 금융투자협회에 따르면 지난 19일 기준 주식거래 활동계좌가 4006만개를 기록했다 이는 지난해 3월 3000만개를 넘은 이후 1년 만으로 주식거래 활동계좌는 지난해 12월부터 최근까지 3개월간 500만개가 증가했다지난달 말 기준 우리나라의 주민등록 인구 수는 약 5182만 명으로 이 중 20세 이상은 약 4312만 명이다 성인 1명당 1개꼴로 주식거래 활동계좌를 가지고 있는 셈이다 한편 주식거래 활동계좌는 지난 2010년까지만 해도 1700만개 수준이었지만 이후 2012년을 제외하면 매년 100만개 이상 늘었다 지난 2018년과 2019년에는 한 해에 200만개 이상 증가했다 좋아요 0 Coyrih ⓒ 조선비즈 Chosunco 제휴안내구독신청 주요 return 받은값\n",
      "{'charset': 'UTF-8'}\n",
      "UTF-8\n",
      "182 start\n",
      "https://news.joins.com/article/olink/23613429 : ━ “해킹당한 줄” “주식 매매 타이밍 놓쳐” 23일 삼성전자 갤럭시를 포함한 구글 안드로이드 운영체제를... 이 시간 동안 카톡과 네이버 앱은 물론 주식 앱까지 먹통이 되자 일부 투자자들은 매수·매도 타이밍을 놓쳐...\n"
     ]
    },
    {
     "name": "stderr",
     "output_type": "stream",
     "text": [
      "C:\\Users\\user\\anaconda3\\envs\\py38_64\\lib\\site-packages\\urllib3\\connectionpool.py:981: InsecureRequestWarning: Unverified HTTPS request is being made to host 'news.joins.com'. Adding certificate verification is strongly advised. See: https://urllib3.readthedocs.io/en/latest/advanced-usage.html#ssl-warnings\n",
      "  warnings.warn(\n",
      "C:\\Users\\user\\anaconda3\\envs\\py38_64\\lib\\site-packages\\urllib3\\connectionpool.py:981: InsecureRequestWarning: Unverified HTTPS request is being made to host 'news.joins.com'. Adding certificate verification is strongly advised. See: https://urllib3.readthedocs.io/en/latest/advanced-usage.html#ssl-warnings\n",
      "  warnings.warn(\n"
     ]
    },
    {
     "name": "stdout",
     "output_type": "stream",
     "text": [
      "utf-8\n",
      "해킹당했나주식 매매 놓쳐 하루 망쳐버린 앱 먹통 패닉 중앙일보 검색 바로가기 주메뉴 바로가기 주요 기사 바로가기 다른 기사 광고영역 바로가기 중앙일보 사이트맵 바로가기 중앙일보 서비스 바로가기 검색 닫기 닫기 검색어 검색 오피니언 정치 경제 사회 국제 문화 스포츠 중앙그룹 브랜드 kkok fcebook wier i 로그인 경제 경제 메인메뉴 경제정책 산업 금융증권 부동산 과학미래 글로벌경제 고용노동 글로벌머니 중앙일보 닫기 오피니언 사설칼럼 만평 Ho Po e글중심 정치 국회정당 청와대 외교 국방 북한 경제 경제정책 산업 금융증권 부동산 과학미래 글로벌경제 고용노동 글로벌머니 사회 검찰·법원 교육 사건사고 복지 교통 환경 지역 건강 국제 미국 중국 일본 유럽 기타 토픽월드 문화 책 공연 미술 클래식 가요 방송 영화 스포츠 야구 해외야구 축구 해외축구 농구배구 피플 사랑방 인사 부음 라이프 스타일 패션 맛 럭셔리 뷰티 리빙 여행레저 국내여행 해외여행 여행 return 받은값\n"
     ]
    },
    {
     "name": "stderr",
     "output_type": "stream",
     "text": [
      "C:\\Users\\user\\anaconda3\\envs\\py38_64\\lib\\site-packages\\urllib3\\connectionpool.py:981: InsecureRequestWarning: Unverified HTTPS request is being made to host 'news.joins.com'. Adding certificate verification is strongly advised. See: https://urllib3.readthedocs.io/en/latest/advanced-usage.html#ssl-warnings\n",
      "  warnings.warn(\n",
      "C:\\Users\\user\\anaconda3\\envs\\py38_64\\lib\\site-packages\\urllib3\\connectionpool.py:981: InsecureRequestWarning: Unverified HTTPS request is being made to host 'news.joins.com'. Adding certificate verification is strongly advised. See: https://urllib3.readthedocs.io/en/latest/advanced-usage.html#ssl-warnings\n",
      "  warnings.warn(\n"
     ]
    },
    {
     "name": "stdout",
     "output_type": "stream",
     "text": [
      "utf-8\n",
      "http://www.wowtv.co.kr/NewsCenter/News/Read?articleId=A202103230140&t=NN : 지난해부터 이어진 주식투자 열풍으로 주식 거래 활동 계좌수가 4천만개를 넘어섰다. 주식거래 활동계좌는 10만원 이상이 들어있고, 6개월간 한차례 이상 거래한 적이 있는 증권 계좌다. 23일 금융투자업계에...\n"
     ]
    },
    {
     "name": "stderr",
     "output_type": "stream",
     "text": [
      "C:\\Users\\user\\anaconda3\\envs\\py38_64\\lib\\site-packages\\urllib3\\connectionpool.py:981: InsecureRequestWarning: Unverified HTTPS request is being made to host 'www.wowtv.co.kr'. Adding certificate verification is strongly advised. See: https://urllib3.readthedocs.io/en/latest/advanced-usage.html#ssl-warnings\n",
      "  warnings.warn(\n"
     ]
    },
    {
     "name": "stdout",
     "output_type": "stream",
     "text": [
      "utf-8\n",
      "986 start\n",
      "3191 start\n",
      "지난해부터 이어진 주식투자 열풍으로 주식 거래 활동 계좌수가 4천만개를 넘어섰다주식거래 활동계좌는 10만원 이상이 들어있고 6개월간 한차례 이상 거래한 적이 있는 증권 계좌다23일 금융투자업계에 따르면 지난 19일 현재 주식 활동계좌는 총 4천6만7천529개로 집계되며 처음 4천만개를 돌파했다지난달 말 기준 우리나라 주민등록 인구수는 5천182만명으로 20세 이상이 4천312만명인 점을 감안하면 대부분 1명에 1개 꼴로 계좌를 가지고 있는 셈이다주식거래 활동계좌는 코로나19가 확산하던 지난해 3월 6일 3천만개를 넘어선 이후 약 1년 만에 1천만개가 증가했다지난해 말 3천548만개에서 올해 들어 주식 열풍이 이어지면서 500만개 가까이가 더 늘었다주식거래 활동계좌수는 2007년 7월 31일 처음 1천만개를 넘었다 당시 코스피 지수는 193327이었다약 5년 뒤인 2012년 5월 17일코스피 184524 2천만개를 돌파한 바 있다3천만개를 넘었던 작년 3월 6일 지수는 204022이었고 지난 19일에는 303953으로 마감했다사진연합 return 받은값\n"
     ]
    },
    {
     "name": "stderr",
     "output_type": "stream",
     "text": [
      "C:\\Users\\user\\anaconda3\\envs\\py38_64\\lib\\site-packages\\urllib3\\connectionpool.py:981: InsecureRequestWarning: Unverified HTTPS request is being made to host 'www.wowtv.co.kr'. Adding certificate verification is strongly advised. See: https://urllib3.readthedocs.io/en/latest/advanced-usage.html#ssl-warnings\n",
      "  warnings.warn(\n"
     ]
    },
    {
     "name": "stdout",
     "output_type": "stream",
     "text": [
      "utf-8\n",
      "986 start\n",
      "3186 start\n",
      "http://www.fnnews.com/news/202103241405472604 : 신한금융투자는 ‘신한스테이 주식 옮기기 이벤트’를 5월 31일까지 진행한다고 24일 밝혔다. 이벤트 참여를 위해선 신한금융투자 홈페이지와 모바일 앱 ‘신한알파’에서 신청 후 현금을 입금하거나 주식을...\n"
     ]
    },
    {
     "name": "stderr",
     "output_type": "stream",
     "text": [
      "C:\\Users\\user\\anaconda3\\envs\\py38_64\\lib\\site-packages\\urllib3\\connectionpool.py:981: InsecureRequestWarning: Unverified HTTPS request is being made to host 'www.fnnews.com'. Adding certificate verification is strongly advised. See: https://urllib3.readthedocs.io/en/latest/advanced-usage.html#ssl-warnings\n",
      "  warnings.warn(\n",
      "C:\\Users\\user\\anaconda3\\envs\\py38_64\\lib\\site-packages\\urllib3\\connectionpool.py:981: InsecureRequestWarning: Unverified HTTPS request is being made to host 'www.fnnews.com'. Adding certificate verification is strongly advised. See: https://urllib3.readthedocs.io/en/latest/advanced-usage.html#ssl-warnings\n",
      "  warnings.warn(\n"
     ]
    },
    {
     "name": "stdout",
     "output_type": "stream",
     "text": [
      "UTF-8\n",
      "753 start\n",
      "신한금융투자는 신한스테이 주식 옮기기 이벤트’를 5월 31일까지 진행한다고 24일 밝혔다 이벤트 참여를 위해선 신한금융투자 홈페이지와 모바일 앱 신한알파’에서 신청 후 현금을 입금하거나 주식을 입고하면 된다 1000만원 이상 자산이 증대한 고객에게 현금 5만원 5000만원 이상은 10만원 1억원 이상은 20만원 등 자산증대 금액에 따라 최대 200만원까지 혜택이 주어진다 신청일부터 5월 31일까지 입금 및 입고된 금액을 합산하는데 평가일인 6월 30일까지 자산을 유지해야 하고 국내 주식을 1000만원 이상 거래해야 혜택을 받을 수 있다 자세한 사항은 신한금융투자 홈페이지와 신한알파에서 확인할 수 있다  return 받은값\n",
      "UTF-8\n",
      "753 start\n",
      "https://www.news1.kr/articles/?4249234 : 2월 '유사투자자문'과 '주식' 관련 상담이 크게 늘어난 것으로 나타났다. 유사투자자문이란 불특정... 같은 기간 상담 건수가 많이 증가한 품목은 '주식'(15.3%)과 '모바일게임서비스'(3.6%) 등이었다. 주식은 증권사...\n"
     ]
    },
    {
     "name": "stderr",
     "output_type": "stream",
     "text": [
      "C:\\Users\\user\\anaconda3\\envs\\py38_64\\lib\\site-packages\\urllib3\\connectionpool.py:981: InsecureRequestWarning: Unverified HTTPS request is being made to host 'www.news1.kr'. Adding certificate verification is strongly advised. See: https://urllib3.readthedocs.io/en/latest/advanced-usage.html#ssl-warnings\n",
      "  warnings.warn(\n"
     ]
    },
    {
     "name": "stdout",
     "output_type": "stream",
     "text": [
      "{'name': 'referrer', 'content': 'unsafe-url'}\n",
      "{'http-equiv': 'Content-Type', 'content': 'text/html; charset=utf-8'}\n",
      "content:text/html; charset=utf-8\n",
      "utf-8\n",
      "1131 start\n",
      "2월 유사투자자문과 주식 관련 상담이 크게 늘어난 것으로 나타났다 유사투자자문이란 불특정 다수에게 대가를 받고 투자 정보를 제공하는 서비스를 말한다 재테크에 대한 관심이 커지면서 관련 서비스 상담도 늘고 있는 것으로 풀이된다한국소비자원과 한국소비자단체협의회는 지난 2월 1372소비자상담센터에 접수된 소비자상담을 빅데이터 시스템으로 분석한 결과 유사투자자문 관련 상담이 전월 대비 213로 가장 많이 증가했다고 23일 밝혔다유사투자자문 관련 상담은 서비스를 중도 해지할 때 업체에서 위약금을 과도하게 요구한다는 불만이 많았다같은 기간 상담 건수가 많이 증가한 품목은 주식153과 모바일게임서비스36 등이었다 주식은 증권사 계좌개설 이벤트의 적용 대상 범위에 대한 문의가 모바일게임서비스의 경우 미성년자가 부모 계정으로 결제한 게임 아이템에 대한 환불 요구 등이 많았다전년 동월과 비교했을 때는 주식1204 모바일게임서비스869 모바일정보이용서비스613 순으로 상담 건수가 많이 증가했다 모바일정보이용서비스는 로또번호 제공 업체에 대한 서비스 계약 해지시 과도한 위약금이 발생해 소비자 불만이 늘었다지난달 소비자상담 건수는 4만2777건으로 전월5만3754건 대비 2041만977건 전년 동월6만7339건 대비 3652만4562건 각각 감소했다상담 다발 품목은 이동전화서비스가 1561건으로 가장 많았다 이어 유사투자자문이 1512건 헬스장 1196건 등이 뒤를 이었다 u return 받은값\n"
     ]
    },
    {
     "name": "stderr",
     "output_type": "stream",
     "text": [
      "C:\\Users\\user\\anaconda3\\envs\\py38_64\\lib\\site-packages\\urllib3\\connectionpool.py:981: InsecureRequestWarning: Unverified HTTPS request is being made to host 'www.news1.kr'. Adding certificate verification is strongly advised. See: https://urllib3.readthedocs.io/en/latest/advanced-usage.html#ssl-warnings\n",
      "  warnings.warn(\n"
     ]
    },
    {
     "name": "stdout",
     "output_type": "stream",
     "text": [
      "{'name': 'referrer', 'content': 'unsafe-url'}\n",
      "{'http-equiv': 'Content-Type', 'content': 'text/html; charset=utf-8'}\n",
      "content:text/html; charset=utf-8\n",
      "utf-8\n",
      "1131 start\n",
      "http://www.dt.co.kr/contents.html?article_no=2021032302109958040009&ref=naver : 1% 줄어 주식투자 열풍으로 지난해 자산운용사도 당기순이익이 크게 증가했다. 24일 금융감독원에... 이는 지난해 주식시장 호황으로 수수료수익과 증권투자손익 등이 크게 증가해서다. 부문별로 보면 지난해...\n",
      "{'name': 'apple-mobile-web-app-title', 'content': 'dt'}\n",
      "{'name': 'msvalidate.01', 'content': '64D4932DA24439B0A4CAEF7555F57FB4'}\n",
      "{'name': 'google-site-verification', 'content': 'ZpPcgUY7BDY-oSN4bo1xmEiEZtC5ZLveDbJZtM3ymA8'}\n",
      "{'name': 'dailymotion-domain-verification', 'content': 'dm225d7d5knjoq2rh'}\n",
      "{'name': 'robots', 'content': 'index,follow'}\n",
      "{'http-equiv': 'X-UA-Compatible', 'content': 'IE=edge'}\n",
      "{'http-equiv': 'Content-Type', 'content': 'text/html; charset=euc-kr'}\n",
      "content:text/html; charset=euc-kr\n",
      "euc-kr\n",
      "주식 열풍에 자산운용사 순익도 급증 디지털타임스 디지털타임스 네이버  return 받은값\n",
      "{'name': 'apple-mobile-web-app-title', 'content': 'dt'}\n",
      "{'name': 'msvalidate.01', 'content': '64D4932DA24439B0A4CAEF7555F57FB4'}\n",
      "{'name': 'google-site-verification', 'content': 'ZpPcgUY7BDY-oSN4bo1xmEiEZtC5ZLveDbJZtM3ymA8'}\n",
      "{'name': 'dailymotion-domain-verification', 'content': 'dm225d7d5knjoq2rh'}\n",
      "{'name': 'robots', 'content': 'index,follow'}\n",
      "{'http-equiv': 'X-UA-Compatible', 'content': 'IE=edge'}\n",
      "{'http-equiv': 'Content-Type', 'content': 'text/html; charset=euc-kr'}\n",
      "content:text/html; charset=euc-kr\n",
      "euc-kr\n",
      "http://www.newspim.com/news/view/20210324000508 : 전환사채(CB)는 사전에 정한 주식 전환가보다 주가가 오르면 주식으로 전환해 평가 차익을 내고 주가가 내릴 경우 확정 금리만 받는 채권이다. 1만6000TEU급 초대형 선박 'HMM 누리호' [사진=HMM] HMM은 작년 12월 만기...\n",
      "UTF-8\n",
      "941 start\n",
      "전환사채CB는 사전에 정한 주식 전환가보다 주가가 오르면 주식으로 전환해 평가 차익을 내고 주가가 내릴 경우 확정 금리만 받는 채권이다 1만6000TEU급 초대형 선박 HMM 누리호 사진HMM HMM은 작년 12월 만기 5년의 2400억원 규모 CB를 발행했다 당시 발행 조건으로 중도상환청구권을 포함했다 발행 한달 이후 보통주 종가가 15거래일 연속 전환가액1만2850원의 1501만9275원를 초과할 경우 발행회사가 중도 상환을 청구할 수 있다 HMM 주가는 지난해 CB 발행 공시 이후 실적 개선 기대감 등으로 상승 중이다 지난해 영업이익은 9808억원으로 사상 최대 실적을 달성했다 최근 1만6000TEU1TEU는 6M터 컨테이너 1대급 초대형 컨테이너선 2척이 조기 투입되는 등 상반기까지 총 8척이 인수될 예정이다 주가는 지난 23일 종가 기준 2만8450원으로 중도상환청구권행사 요건을 갖추게 됐다 HMM이 중도상환청구권 행사를 공고하면 투자자들은 2주 간3월 24일4월 5일 중도상환에 앞서 주식전환청구권 행사가 가능하다 채권자가 해당 기간내 주식전환청구를 하지 않으면 채권자 의사와 관계 없이 100 상환 처리된다 주식전환청구를 희망하는 채권자는 기간 내 반드시 주식전환을 청구해야한다 한국예탁결제원은 중도상환 대상 채권자 명부 확정을 위해 중도상환청구권 행사일 2영업일 전부터 전환청구를 받지 않는다 조기상환청구권 행사에 따른 조기상환금액은 내달 8일에 해당 증권사의 증권계좌를 통해 지급될 예정이다 중도상환을 받을 경우 연 30의 이자를 받는다 중도상환 대신 보통주로 전환하면 23일 종가 기준 주당 1만5600원 약 121의 높은 수익을 기대할 수 있다 해당 사채 발행 물량의 약 79는 전환 신청을 마친 상태다 HMM 관계자는 CB 조기상환 행사로 주식 전환에 따른 주가 불확실성 해소와 부채비율도 개선될 것으로 전망된다고 말했다 unsid return 받은값\n",
      "UTF-8\n",
      "941 start\n",
      "http://www.fnnews.com/news/202103240658154295 : 그동안 소문이 무성했던 수수료 없는 주식거래 서비스 로빈후드(Robinhood)의 상장이 가시권에 들어왔다. 미국 증권거래위원회(SEC)에 상장신청서를 공식 제출한 것이다. 23일(현지시간) 코인텔레그래프에 따르면...\n",
      "UTF-8\n",
      "760 start\n",
      "1358 start\n",
      "그동안 소문이 무성했던 수수료 없는 주식거래 서비스 로빈후드Robinhood의 상장이 가시권에 들어왔다 미국 증권거래위원회SEC에 상장신청서를 공식 제출한 것이다 FCA 가상자산 투자자 감정적 투자 성향 영국 금융행위감독청Finnci Conduc Auhoriy 연구에 따르면 가상자산 투자자들이 정확한 정보나 이성적 판단 모다는 본능이나 광고에 의존한 감정적 투자 성향이 높은 것으로 나타났다 또 전통 자산에 투자하는 투자자들 보다 젊은세대 여성들이 많다는 분석도 나왔다 23일현지시간 코인텔레그래프에 따르면 FCA가 국제 전략컨설팅사 BriinThinks와 함께 2020년 8월부터 올 1월말까지 517명의 가상자산 투자자를 대상으로 연구한 결과 응답자의 38가 투자 선택에 대한 기능적 이유가 없으며 거래의 스릴과 같은 감정적 요인에 우선 순위를 부여한다고 답한 것으로 나타났다 또 응답자의 78는 구매 및 판매시기를 알려주는 본능을 믿는다고 답변했다 FCA는 가상자산에 투자하는이 투자자 집단은 전통적인 투자자들보다 인종적으로 더 다양하고 젊으며 여성일 가능성이 더 높다고 분석했다 그러면서 FCA는 우리는 일부 투자자가 종종 온라인 광고나 고압적 판매 전략을 통해 자신에게 적합하지 않을 수 있는 고위험 상품에 투자하도록 유혹받고 있다는 점에 대해 걱정하고 있다고 강조했다 한편 FCA는 이 조사결과를 바탕으로 투자 피해를 막기 위한 디지털 캠페인을 시작했다 캠페인에는 투자자들이 투자상품을 구매하거나 매도하기 전에 잠시 생각하도록 유도하는 질문도 포함하고 있다 영국 금융행위감독청Finnci Conduc Auhoriy 연구에 따르면 가상자산 투자자들이 정확한 정보나 이성적 판단 모다는 본능이나 광고에 의존한 감정적 투자 성향이 높은 것으로 나타났다 또 전통 자산에 투자하는 투자자들 보다 젊은세대 여성들이 많다는 분석도 나왔다 日 가상자산 거래소 디커렛 SBI·미쓰비시 등 금융기관으로부터 67억엔 자금 유치 일본 가상자산 거래소 디커렛Decurre이 제3자 배정 유상증자를 통해 일본 대형 금융기관들로 부터 67억엔약 698억원 규모의 자금을 유치했다 23일현지시간 코인텔레그래프에 따르면 디커렛은 KDDI 미쓰이스미토모 은행 SBI홀딩스 도쿄 미쓰비시 은행 등 일본 내 메이저 금융 기관들이 대거 참여한 유상증자를 통해 자금을 유치했다 디커렛은 조달한 자금을 기반으로 향후 디지털 자산 플랫폼 구축에 나선다는 방침이다 앞서 전 일본 금융청 청장 엔도 도시히데가 디커렛의 특별 고문으로 합류한 바 있다 cfe9 return 받은값\n"
     ]
    },
    {
     "name": "stderr",
     "output_type": "stream",
     "text": [
      "C:\\Users\\user\\anaconda3\\envs\\py38_64\\lib\\site-packages\\urllib3\\connectionpool.py:981: InsecureRequestWarning: Unverified HTTPS request is being made to host 'www.fnnews.com'. Adding certificate verification is strongly advised. See: https://urllib3.readthedocs.io/en/latest/advanced-usage.html#ssl-warnings\n",
      "  warnings.warn(\n",
      "C:\\Users\\user\\anaconda3\\envs\\py38_64\\lib\\site-packages\\urllib3\\connectionpool.py:981: InsecureRequestWarning: Unverified HTTPS request is being made to host 'www.fnnews.com'. Adding certificate verification is strongly advised. See: https://urllib3.readthedocs.io/en/latest/advanced-usage.html#ssl-warnings\n",
      "  warnings.warn(\n"
     ]
    },
    {
     "name": "stdout",
     "output_type": "stream",
     "text": [
      "UTF-8\n",
      "760 start\n",
      "1358 start\n"
     ]
    },
    {
     "name": "stderr",
     "output_type": "stream",
     "text": [
      "C:\\Users\\user\\anaconda3\\envs\\py38_64\\lib\\site-packages\\urllib3\\connectionpool.py:981: InsecureRequestWarning: Unverified HTTPS request is being made to host 'search.naver.com'. Adding certificate verification is strongly advised. See: https://urllib3.readthedocs.io/en/latest/advanced-usage.html#ssl-warnings\n",
      "  warnings.warn(\n"
     ]
    },
    {
     "name": "stdout",
     "output_type": "stream",
     "text": [
      "https://www.sedaily.com/NewsView/22JXM34O5A : 지난해 3월 신종 코로나바이러스 감염증(코로나19)발 폭락장 이후 주식시장이 지속적인 상승세를... 다만 주식형 펀드 수탁고는 10조 6,000억 원(14.6%) 감소했다. 직접 투자를 선호하는 투자자들이 늘어나면서 주식형...\n"
     ]
    },
    {
     "name": "stderr",
     "output_type": "stream",
     "text": [
      "C:\\Users\\user\\anaconda3\\envs\\py38_64\\lib\\site-packages\\urllib3\\connectionpool.py:981: InsecureRequestWarning: Unverified HTTPS request is being made to host 'www.sedaily.com'. Adding certificate verification is strongly advised. See: https://urllib3.readthedocs.io/en/latest/advanced-usage.html#ssl-warnings\n",
      "  warnings.warn(\n"
     ]
    },
    {
     "name": "stdout",
     "output_type": "stream",
     "text": [
      "utf-8\n",
      "1828 start\n",
      "지난해 3월 신종 코로나바이러스 감염증코로나19발 폭락장 이후 주식시장이 지속적인 상승세를 보이면서 수수료·자체운용 수입이 동시에 늘어났기 때문으로 풀이된다속적인 상승세를 보였기 때문으로 풀이된다 영업외이익은 전년보다 2181억 원1976 늘어난 3285억 원을 나타냈다 지분법 이익 증가 등의 영향으로 해석된다 자 return 받은값\n"
     ]
    },
    {
     "name": "stderr",
     "output_type": "stream",
     "text": [
      "C:\\Users\\user\\anaconda3\\envs\\py38_64\\lib\\site-packages\\urllib3\\connectionpool.py:981: InsecureRequestWarning: Unverified HTTPS request is being made to host 'www.sedaily.com'. Adding certificate verification is strongly advised. See: https://urllib3.readthedocs.io/en/latest/advanced-usage.html#ssl-warnings\n",
      "  warnings.warn(\n"
     ]
    },
    {
     "name": "stdout",
     "output_type": "stream",
     "text": [
      "utf-8\n",
      "1828 start\n",
      "http://news.mt.co.kr/mtview.php?no=2021032218363976608 : 복수의결권-정치에 발목 잡힌 '유니콘'의 꿈(上)] \"제2벤처붐 꺼질라\"···또 미뤄진 창업가의 방패 '슈퍼주식' 벤처·스타트업 창업자들의 경영권을 지켜주는 방패인 '슈퍼주식', 즉 복수의결권 제도의 국회 통과가...\n"
     ]
    },
    {
     "name": "stderr",
     "output_type": "stream",
     "text": [
      "C:\\Users\\user\\anaconda3\\envs\\py38_64\\lib\\site-packages\\urllib3\\connectionpool.py:981: InsecureRequestWarning: Unverified HTTPS request is being made to host 'news.mt.co.kr'. Adding certificate verification is strongly advised. See: https://urllib3.readthedocs.io/en/latest/advanced-usage.html#ssl-warnings\n",
      "  warnings.warn(\n"
     ]
    },
    {
     "name": "stdout",
     "output_type": "stream",
     "text": [
      "EUC-KR\n",
      "또 미뤄진 슈퍼주식국회 문턱 못넘는 이유 머니투데이 본문영역 바로가기 로그인 전체  return 받은값\n"
     ]
    },
    {
     "name": "stderr",
     "output_type": "stream",
     "text": [
      "C:\\Users\\user\\anaconda3\\envs\\py38_64\\lib\\site-packages\\urllib3\\connectionpool.py:981: InsecureRequestWarning: Unverified HTTPS request is being made to host 'news.mt.co.kr'. Adding certificate verification is strongly advised. See: https://urllib3.readthedocs.io/en/latest/advanced-usage.html#ssl-warnings\n",
      "  warnings.warn(\n"
     ]
    },
    {
     "name": "stdout",
     "output_type": "stream",
     "text": [
      "EUC-KR\n",
      "http://yna.kr/AKR20210324135700054?did=1195m : 목포시가 현재 근대역사관 2관으로 운영되는 전남도 지방기념물 제174호 옛 동양척식주식회사 목포지점(이하... 목포지점은 다른 동양척식주식회사 지점 중에서도 사리원지점과 함께 가장 중요한 역할을 한 것으로...\n"
     ]
    },
    {
     "name": "stderr",
     "output_type": "stream",
     "text": [
      "C:\\Users\\user\\anaconda3\\envs\\py38_64\\lib\\site-packages\\urllib3\\connectionpool.py:981: InsecureRequestWarning: Unverified HTTPS request is being made to host 'www.yna.co.kr'. Adding certificate verification is strongly advised. See: https://urllib3.readthedocs.io/en/latest/advanced-usage.html#ssl-warnings\n",
      "  warnings.warn(\n"
     ]
    },
    {
     "name": "stdout",
     "output_type": "stream",
     "text": [
      "UTF-8\n",
      "997 start\n",
      "1640 start\n",
      "목포시가 현재 근대역사관 2관으로 운영되는 전남도 지방기념물 제174호 옛 동양척식주식회사 목포지점이하 동척 목포지점에 대한 외벽보존처리 공사를 이달 말 끝냈다고 24일 밝혔다 동척 목포지점은 외벽 석재·미장 표면의 오염이 심각하고 균열 진행에 따른 탈락 위험성 등이 있어 도비를 지원받아 공사에 나섰다 목포시는 문화재청 문화재위원 등 관계 전문가가 참여한 현장 자문회의를 통해 목포지점 정면부에 물홈통을 설치해 원형을 재현할 방침이다 광고 일제가 조선의 토지와 자원을 수탈할 목적으로 설치한 식민지 착취기관인 동척 목포지점은 1921년 건립돼 6개 주재소를 관할했다 목포지점은 다른 동양척식주식회사 지점 중에서도 사리원지점과 함께 가장 중요한 역할을 한 것으로 알려졌다 시 관계자는 근대문화재인 동척 목포지점에 대한 외벽보존처리 공사를 통해 문화재의 유·무형적 가치를 온전하게 보존하겠다면서 근대역사관 2관이 내부 리뉴얼을 통해 쾌적한 전시환경 조성과 전시시설 재연출로 근대역사교육의 장이자 관광자원으로 더욱 주목받을 것으로 기대한다고 밝혔다 choy return 받은값\n"
     ]
    },
    {
     "name": "stderr",
     "output_type": "stream",
     "text": [
      "C:\\Users\\user\\anaconda3\\envs\\py38_64\\lib\\site-packages\\urllib3\\connectionpool.py:981: InsecureRequestWarning: Unverified HTTPS request is being made to host 'www.yna.co.kr'. Adding certificate verification is strongly advised. See: https://urllib3.readthedocs.io/en/latest/advanced-usage.html#ssl-warnings\n",
      "  warnings.warn(\n"
     ]
    },
    {
     "name": "stdout",
     "output_type": "stream",
     "text": [
      "UTF-8\n",
      "997 start\n",
      "1640 start\n",
      "https://www.chosun.com/economy/stock-finance/2021/03/21/CRAENGH2DFFRBMFHCWZHJNY5WU/?utm_source=naver&utm_medium=referral&utm_campaign=naver-news : 중인 주식 종목들이다. 서희건설은 지난 2019년만 해도 삼성전자, 하이닉스 등 국내 14개 회사의 주주였지만, 작년엔 40여 개 상장사의 주주가 됐다. 예전엔 없던 해외 주식 종목에도 다수 투자했다. 증권업계 관계자는...\n"
     ]
    },
    {
     "name": "stderr",
     "output_type": "stream",
     "text": [
      "C:\\Users\\user\\anaconda3\\envs\\py38_64\\lib\\site-packages\\urllib3\\connectionpool.py:981: InsecureRequestWarning: Unverified HTTPS request is being made to host 'www.chosun.com'. Adding certificate verification is strongly advised. See: https://urllib3.readthedocs.io/en/latest/advanced-usage.html#ssl-warnings\n",
      "  warnings.warn(\n"
     ]
    },
    {
     "name": "stdout",
     "output_type": "stream",
     "text": [
      "utf-8\n",
      "동학법인·서학법인 아시나요 요즘 회사들도 주식 재테크 조선일 return 받은값\n",
      "utf-8\n",
      "https://hankookilbo.com/News/Read/A2021032414400002690?did=NA : 2년 연속 감소했던 보험사들의 당기 순이익이 3년 만에 반등해 6조 원을 넘어섰다. 지난해 코로나19 영향으로 의료 서비스 이용이 줄어 손해보험사의 손실이 감소했고, 증시 호황에 따라 생명보험사가 쌓아야 할...\n"
     ]
    },
    {
     "name": "stderr",
     "output_type": "stream",
     "text": [
      "C:\\Users\\user\\anaconda3\\envs\\py38_64\\lib\\site-packages\\urllib3\\connectionpool.py:981: InsecureRequestWarning: Unverified HTTPS request is being made to host 'www.chosun.com'. Adding certificate verification is strongly advised. See: https://urllib3.readthedocs.io/en/latest/advanced-usage.html#ssl-warnings\n",
      "  warnings.warn(\n",
      "C:\\Users\\user\\anaconda3\\envs\\py38_64\\lib\\site-packages\\urllib3\\connectionpool.py:981: InsecureRequestWarning: Unverified HTTPS request is being made to host 'hankookilbo.com'. Adding certificate verification is strongly advised. See: https://urllib3.readthedocs.io/en/latest/advanced-usage.html#ssl-warnings\n",
      "  warnings.warn(\n",
      "C:\\Users\\user\\anaconda3\\envs\\py38_64\\lib\\site-packages\\urllib3\\connectionpool.py:981: InsecureRequestWarning: Unverified HTTPS request is being made to host 'www.hankookilbo.com'. Adding certificate verification is strongly advised. See: https://urllib3.readthedocs.io/en/latest/advanced-usage.html#ssl-warnings\n",
      "  warnings.warn(\n",
      "C:\\Users\\user\\anaconda3\\envs\\py38_64\\lib\\site-packages\\urllib3\\connectionpool.py:981: InsecureRequestWarning: Unverified HTTPS request is being made to host 'hankookilbo.com'. Adding certificate verification is strongly advised. See: https://urllib3.readthedocs.io/en/latest/advanced-usage.html#ssl-warnings\n",
      "  warnings.warn(\n",
      "C:\\Users\\user\\anaconda3\\envs\\py38_64\\lib\\site-packages\\urllib3\\connectionpool.py:981: InsecureRequestWarning: Unverified HTTPS request is being made to host 'www.hankookilbo.com'. Adding certificate verification is strongly advised. See: https://urllib3.readthedocs.io/en/latest/advanced-usage.html#ssl-warnings\n",
      "  warnings.warn(\n"
     ]
    },
    {
     "name": "stdout",
     "output_type": "stream",
     "text": [
      "utf-8\n",
      "334 start\n",
      "2년 연속 감소했던 보험사들의 당기 순이익이 3년 만에 반등해 6조 원을 넘어섰다 지난해 코로나19 영향으로 의료 서비스 이용이 줄어 손해보험사의 손실이 감소했고 증시 호황에 따라 생명보험사가 쌓아야 할 보증준비금이 줄어든 결과다 24일 금융감독원이 발표한 보험회사 경영실적잠정’에 따르면 지난해 보험사들의 당기순이익 합계는 6조806억 원으로 전년보다 139 늘어난 것으로 집계됐다업권별로 살펴보면 생보사는 주가 상승이 순이익 증가를 이끌었다 순이익은 3조4544억 원으로 전년 대비 3404억 원109 증가했다 저금리로 인해 투자영업이익은 감소했지만 보험사가 마련해야 할 보증준비금 전입액이 줄어들고 저축성보험 판매가 늘면서 보험영업손익이 개선됐기 때문이다 보증준비금 전입액은 최저 사망보험금 연금액 등을 보증하기 위해 보험사가 쌓아야 할 적립금으로 주가 상승할 경우 적립 금액이 감소하게 된다 보증준비금 전입액은 전년 대비 1조3522억 원 감소했다 손보사는 코로나19로 인한 사회적 거리두기 영향이 컸다 순이익은 2조6262억 원으로 전년 대비 4024억 원181 증가했다 지난해 사회적 거리두기 영향으로 의료 서비스 이용이 줄어들고 자동차 보험 손해율이 하락하면서 보험영업손익이 전년 대비 1조6558억 원 늘어났다 다만 지난해 보험회사들의 당기순이익은 전년도 실적 부진에 따른 기저효과 등을 고려하면 안심할 수 있는 상황은 아니다 최근 3년간 당기순이익은 △2017년 7조9000억 원 △2018년 7조3000억 원 △2019년 5조3000억 원을 기록했다 지난해 순이익은 최근 3년 평균6조8000억 원에도 미치지 못하는 수준이다 게다가 백신접종으로 코로나19 상황이 안정세로 접어들면 손해율이 다시 늘어나는 등 수익성 개선 여부가 불투명한 상황이다금감원 관계자는 “대체투자 등 고위험자산 투자 확대가 부실자산 증가로 이어질 가능성이 있어 투자심사나 건전성 관리 등에 대한 점검을 강화하겠다”고 말했다 김정현  return 받은값\n",
      "utf-8\n",
      "334 start\n",
      "http://www.newspim.com/news/view/20210324000508 : 전환사채(CB)는 사전에 정한 주식 전환가보다 주가가 오르면 주식으로 전환해 평가 차익을 내고 주가가 내릴 경우 확정 금리만 받는 채권이다. 1만6000TEU급 초대형 선박 'HMM 누리호' [사진=HMM] HMM은 작년 12월 만기...\n",
      "UTF-8\n",
      "941 start\n",
      "전환사채CB는 사전에 정한 주식 전환가보다 주가가 오르면 주식으로 전환해 평가 차익을 내고 주가가 내릴 경우 확정 금리만 받는 채권이다 1만6000TEU급 초대형 선박 HMM 누리호 사진HMM HMM은 작년 12월 만기 5년의 2400억원 규모 CB를 발행했다 당시 발행 조건으로 중도상환청구권을 포함했다 발행 한달 이후 보통주 종가가 15거래일 연속 전환가액1만2850원의 1501만9275원를 초과할 경우 발행회사가 중도 상환을 청구할 수 있다 HMM 주가는 지난해 CB 발행 공시 이후 실적 개선 기대감 등으로 상승 중이다 지난해 영업이익은 9808억원으로 사상 최대 실적을 달성했다 최근 1만6000TEU1TEU는 6M터 컨테이너 1대급 초대형 컨테이너선 2척이 조기 투입되는 등 상반기까지 총 8척이 인수될 예정이다 주가는 지난 23일 종가 기준 2만8450원으로 중도상환청구권행사 요건을 갖추게 됐다 HMM이 중도상환청구권 행사를 공고하면 투자자들은 2주 간3월 24일4월 5일 중도상환에 앞서 주식전환청구권 행사가 가능하다 채권자가 해당 기간내 주식전환청구를 하지 않으면 채권자 의사와 관계 없이 100 상환 처리된다 주식전환청구를 희망하는 채권자는 기간 내 반드시 주식전환을 청구해야한다 한국예탁결제원은 중도상환 대상 채권자 명부 확정을 위해 중도상환청구권 행사일 2영업일 전부터 전환청구를 받지 않는다 조기상환청구권 행사에 따른 조기상환금액은 내달 8일에 해당 증권사의 증권계좌를 통해 지급될 예정이다 중도상환을 받을 경우 연 30의 이자를 받는다 중도상환 대신 보통주로 전환하면 23일 종가 기준 주당 1만5600원 약 121의 높은 수익을 기대할 수 있다 해당 사채 발행 물량의 약 79는 전환 신청을 마친 상태다 HMM 관계자는 CB 조기상환 행사로 주식 전환에 따른 주가 불확실성 해소와 부채비율도 개선될 것으로 전망된다고 말했다 unsid return 받은값\n",
      "UTF-8\n",
      "941 start\n",
      "http://news.khan.co.kr/kh_news/khan_art_view.html?artid=202103232147035&code=920301 : 개인 투자자들의 주식 매수 열풍에 힘입어 주식거래 활동계좌 수가 4000만개를 돌파했다. 1년 만에 1000만개가 늘었다. 23일 금융투자협회에 따르면 지난 19일 기준 주식거래 활동계좌 수가 4006만7529개로...\n",
      "euc-kr\n",
      "575 start\n",
      "개인 투자자들의 주식 매수 열풍에 힘입어 주식거래 활동계좌 수가 4000만개를 돌파했다 1년 만에 1000만개가 늘었다 23일 금융투자협회에 따르면 지난 19일 기준 주식거래 활동계좌 수가 4006만7529개로 집계됐다 주식거래 활동계좌란 10만원 이상 들어 있고 6개월간 한차례 이상 거래한 적이 있는 증권계좌를 가리킨다 지난달 말 기준 우리나라 주민등록 인구수가 5182만명이고 이 가운데 20세 이상이 4312만명이므로 성인 1인당 1개꼴로 주식계좌를 보유한 셈이 된다 주식거래 활동계좌 수는 2007년 7월31일 1000만개를 넘어섰고 2012년 5월17일에 2000만개를 돌파했다 3000만개를 넘어선 것은 코로나19 사태 직후인 지난해 3월6일이다 1000만개에서 2000만개로 늘어나는 데 약 5년 2000만개에서 다시 1000만개가 늘어 3000만개가 되는 데 약 8년이 걸렸다 반면 3000만개에서 4000만개로 불어나는 데는 불과 1년밖에 걸리지 않은 것이다 올해 1월부터 지난 19일까지 3개월 남짓한 기간 동안 개설된 계좌만 449만3969개에 이른다 이는 지난해 3월부터 12월까지 9개월간 늘어난 계좌 수501만4725개와 맞먹는다 주식거래 활동계좌 수가 1000만개를 돌파했을 때 코스피지수는 193327을 기록했다 2000만개를 넘어섰을 때는 184524 3000만개를 돌파했을 때는 204022였다 4000만개를 돌파한 지난 19일 코스피지수는 303953을 기록했다 © 경향신문 경향닷컴 무단 전재 및 재배포 금지 관련기사 유사투자자문’ 소비자 상담 21 늘어 페이스북 공유하기 트위터 공유하기 기사제보 지면구독신청 주요 기사 박원순 띄우는 임종석 “박원순 당선은 서울시민 생각 변했다는 것” 여성혐오를 분석한 논문 저자의 수업에 난입한 여성혐오’ 미얀마 군경이 쏜 총에 7살 소녀도 숨졌다 내버려졌던 도무송의 변신이런 게 아마도 예술인가봐 커버스토리학교로 돌아가지 못한 상큼한 김 선생’ 화보 싸움소들의 힘겨루기 인기 기사 1 단독구미 사망 세살배기 친모 병원 밖 셀프 출산’한 듯 2 힘 잃은 제3지대위기의 안철수 3 단독대한항공과 업무 중복’아시아나 2000여명 해고 위기 4 오세훈 489 박영선 292···좁혀지지 않는 격차 부동산 민심’이 문제 5 연이틀 박원순 띄운 임종석 “박원순 당선은 서울시민 생각 변했다는 방증” 6 박범계 임은정 SNS 신중했으면장관으로서 부탁 7 오세훈 용산공원에 박원순 이름 새 return 받은값\n",
      "euc-kr\n",
      "575 start\n",
      "https://www.hankyung.com/finance/article/2021032338091 : 가치주 펀드의 연초 이후 수익률이 최근 주식형 펀드 평균 수익률을 넘어선 것으로 나타났다. 일부 가치주... 같은 기간 해외주식형 펀드 수익률(3.22%)을 4%포인트 넘게 웃돌았고, 국내 전체 주식형 펀드 수익률(4.97%)도...\n"
     ]
    },
    {
     "name": "stderr",
     "output_type": "stream",
     "text": [
      "C:\\Users\\user\\anaconda3\\envs\\py38_64\\lib\\site-packages\\urllib3\\connectionpool.py:981: InsecureRequestWarning: Unverified HTTPS request is being made to host 'www.hankyung.com'. Adding certificate verification is strongly advised. See: https://urllib3.readthedocs.io/en/latest/advanced-usage.html#ssl-warnings\n",
      "  warnings.warn(\n"
     ]
    },
    {
     "name": "stdout",
     "output_type": "stream",
     "text": [
      "UTF-8\n",
      "1368 start\n",
      "가치주 펀드의 연초 이후 수익률이 최근 주식형 펀드 평균 수익률을 넘어선 것으로 나타났다 일부 가치주 펀드 수익률은 20를 넘었다 코스피지수가 연초 이후 5 정도 오른 데 그친 것과 대비된다 가치주 득세의 배경인 금리 상승 등이 추세적으로 이어질 전망이어서 이 같은 흐름이 당분간 계속될 것이라는 분석이 나온다 가치주 펀드 수익률 급등’23일 금융정보업체 에프앤가이드에 따르면 설정액이 10억원을 넘는 국내 가치주 펀드의 연초 이후 수익률은 평균 743였다 같은 기간 해외주식형 펀드 수익률322을 4포인트 넘게 웃돌았고 국내 전체 주식형 펀드 수익률497도 넘어섰다가치주 펀드 수익률은 최근 빠르게 개선되고 있다 가치주 펀드와 국내 주식형 펀드의 최근 1년간 평균 수익률은 각각 8228 10676로 국내 주식형 펀드가 한참 앞섰다 올초 이후 수익률도 지난달 초 기준으로는 각각 593 668였다 그러나 이달 초에는 연초 이후 수익률이 각각 752 726로 가치주 펀드가 앞서기 시작했고 이후 점점 격차가 벌어졌다펀드별로 보면 한국밸류10년투자어린이’ 펀드의 연초 이후 수익률이 2055로 가장 앞섰다 이 상품은 어린이가 먼 훗날 어른이 됐을 때를 염두에 두고 장기 투자한다’는 콘셉트로 만들어진 펀드다 이어 에셋플러스코리아리치투게더 펀드’1614 마이다스액티브가치 펀드’1489 미래에셋TIGER우량가치 상장지수펀드ETF’1447 한국밸류10년투자 펀드’1439 등이 뒤를 이었다 금리 상승으로 가치주 매력↑가치주 펀드 수익률이 반등하는 건 최근 시장 금리가 급등한 것과 관련 있다 미국 10년 만기 국채 금리는 최근 연 20에 다가서고 있다 테슬라 같은 성장주는 먼 미래에 벌어들일 것으로 기대되는 이익이 주가에 반영되기 때문에 금리가 오르면 이익 할인율이 높아져 부정적 영향을 많이 받는다반면 주가수익비율PER 주가순자산비율PBR 등 단기간에 가시화될 수 있는 이익이 중시되는 가치주의 매력은 상대적으로 높아진다 최근 유동성 회수에 대한 경각심이 높아진 것도 가치주 강세를 부채질하고 있다윤정환 한국투자밸류자산운용 매니저는 “작년에는 매출 증가율이 높은 기업의 밸류에이션실적 대비 주가 수준이 좋은 평가를 받았는데 올해는 영업이익과 순이익이 잘 나오는 기업으로 증시의 무게 중심이 이동하고 있다”며 “지난달 이후 성장주가 조정을 많이 받았지만 가치투자 포트폴리오는 수익률을 성공적으로 지키고 있다”고 설명했다 코스피 PER 14배 부근 정체지난해 주가가 많이 올라 증시의 밸류에이션 부담이 높아진 것도 가치주 선방의 배경으로 꼽힌다한국거래소에 따르면 유가증권시장 전체 PER12개월 예상 순이익 기준은 최근 14배를 중심으로 오르내리고 있다 코로나19 사태가 처음 터진 지난해 3월 말 바닥을 찍은 뒤 계속 높아져 지난해 말께 14배 근처에 도달한 뒤 더 이상 높아지지 못하고 있다 밸류에이션 부담은 성장주에 부정적 영향을 미친다가치주 펀드가 수익률을 극대화하려면 성장주 평가 기준인 먼 미래의 수익성’을 일정 부분 수용해야 한다는 지적도 있다 성장주와 가치주의 밸류에이션 괴리가 해소되고 나면 성장주 상승세가 이어질 수 있기 때문이다강방천 에셋플러스자산운용 회장은 “최근 단기 실적이 잘 나오는 기업의 투자 매력도가 올라갔을 뿐 장기적으로 성장할 기업의 전망이 훼손된 건 아니다”며 “플랫폼 비즈니스의 잠재력을 가치투자 철학에 반영하는 방법을 고민해야 한다”고 지적했다양병훈  return 받은값\n"
     ]
    },
    {
     "name": "stderr",
     "output_type": "stream",
     "text": [
      "C:\\Users\\user\\anaconda3\\envs\\py38_64\\lib\\site-packages\\urllib3\\connectionpool.py:981: InsecureRequestWarning: Unverified HTTPS request is being made to host 'www.hankyung.com'. Adding certificate verification is strongly advised. See: https://urllib3.readthedocs.io/en/latest/advanced-usage.html#ssl-warnings\n",
      "  warnings.warn(\n"
     ]
    },
    {
     "name": "stdout",
     "output_type": "stream",
     "text": [
      "UTF-8\n",
      "1368 start\n",
      "https://magazine.hankyung.com/business/article/202103186705b : 해외 주식을 거래하는 ‘글로벌원마켓’, 업계 최초의 구독 경제 모델 형태의 디지털 자산 관리 서비스인... 글로벌원마켓은 환전 수수료 없이 원화 증거금으로 해외 주식을 거래하는 서비스다. 현재 가입자가 67만 명을...\n"
     ]
    },
    {
     "name": "stderr",
     "output_type": "stream",
     "text": [
      "C:\\Users\\user\\anaconda3\\envs\\py38_64\\lib\\site-packages\\urllib3\\connectionpool.py:981: InsecureRequestWarning: Unverified HTTPS request is being made to host 'magazine.hankyung.com'. Adding certificate verification is strongly advised. See: https://urllib3.readthedocs.io/en/latest/advanced-usage.html#ssl-warnings\n",
      "  warnings.warn(\n"
     ]
    },
    {
     "name": "stdout",
     "output_type": "stream",
     "text": [
      "UTF-8\n",
      "668 start\n",
      "해외 주식을 거래하는 글로벌원마켓’ 업계 최초의 구독 경제 모델 형태의 디지털 자산 관리 서비스인 프라임클럽’ 등의 서비스에 집중했다 디지털 경쟁력을 강화하기 위해 빅테크 업체들과 제휴하기도 했다글로벌원마켓은 환전 수수료 없이 원화 증거금으로 해외 주식을 거래하는 서비스다 현재 가입자가 67만 명을 넘어선 상태다 해외 주식 알고리즘 매매 서비스 서버 자동 주문 서비스 등을 제공하고 있다이 서비스를 이용하면 한국·미국·중국·홍콩·일본·베트남 등 글로벌 6대 시장 주식 거래 시 현재가와 주문창에서 해당 주식의 외화 현재가와 원화 환산 현재가를 동시에 확인한 뒤 원화 증거금으로 거래할 수 있다 KB증권 자체 외환FX 시스템을 통해 실시간 환전 처리가 이뤄져 별도의 환전 수수료도 발생하지 않는다 보유 주식 매도 시 자동 환전된 원화 예수금이 입금돼 자유로운 시장 교차 거래가 가능하다올해부터는 기존 서비스에 모든 고객을 대상으로 미국 주식 무료 실시간 시세 서비스인 실시간 라이트Lie’를 더해 리뉴얼했다 미국 주식 프리마켓장전을 저녁 6시부터 포스트마켓장후도 익일 아침 6시 50분까지 제공해 업계 최고 수준의 거래 시간을 제공하는 것이 특징이다 구독 경제 형태의 디지털 자산 관리 호평KB증권은 지난해 4월 소액의 구독료월 1만원만 지불하면 프리미엄 자산 관리 서비스를 제공받을 수 있는 프라임 클럽 서비스를 출시하기도 했다 현재 15만7000명의 가입 고객을 확보했다이 서비스는 일정 금액을 내고 정기적으로 서비스나 제품을 제공 받는 구독 경제 모델로 화제가 되고 있다 모바일 트레이딩 시스템MTS에서 쉽고 간편하게 기관과 외국인의 실시간 수급 분석 정보 시장 주도주 등의 투자 정보를 얻을 수 있다 푸시 알림을 통해 투자 타이밍을 놓치지 않도록 도움을 주는 기능도 제공한다 각 영업점과 투자 정보 파트에서 오랜 기간 투자 자문 경험을 쌓은 프라임 프라이빗 뱅커PB의 전용 상담을 제공한다KB증권은 또한 다양한 핀테크 업체와의 제휴를 강화하는 등 디지털 기술의 자본 시장 적용에 공을 들이고 있다 엔씨소프트·디셈버앤컴퍼니자산운용과 손잡고 인공지능AI 간편 투자 증권사 합작법인을 설립하고 줌인터넷과 합작법인 프로젝트바닐라를 설립해 테크핀기술금융 사업에 진출하는 등 빅테크와의 협업도 적극 추진하고 있다박 사장은 내부적으로도 유연한 조직 문화를 기반으로 조직·인프라·인적 디지털 역량 확대를 추진하고 있다 디지털 기술을 활용한 스마트워크 환경을 조성해 새로운 디지털 환경에 대한 대응력을 제고하고 있다박 사장은 “빅테크·핀테크 기업 출현 금융 환경·제도 및 소비자 니즈 변화 등에 대응하기 위해 디지털 트랜스포메이션은 선택이 아닌 필수가 됐다”며 “앞으로도 디지털 경쟁력 강화를 위해 끊임없이 노력해 KB증권을 이용하는 모든 고객들에게 최고의 금융 서비스를 제공할 것”이라고 말했다최은석  return 받은값\n"
     ]
    },
    {
     "name": "stderr",
     "output_type": "stream",
     "text": [
      "C:\\Users\\user\\anaconda3\\envs\\py38_64\\lib\\site-packages\\urllib3\\connectionpool.py:981: InsecureRequestWarning: Unverified HTTPS request is being made to host 'magazine.hankyung.com'. Adding certificate verification is strongly advised. See: https://urllib3.readthedocs.io/en/latest/advanced-usage.html#ssl-warnings\n",
      "  warnings.warn(\n"
     ]
    },
    {
     "name": "stdout",
     "output_type": "stream",
     "text": [
      "UTF-8\n",
      "668 start\n",
      "https://www.hankyung.com/finance/article/2021032251381 : 새내기주가 급락하는 원인으로 장외주식의 과열을 꼽는 전문가가 많다. 장외가격을 기준으로 공모주에... 계속 이어질지도 미지수다. 지금 장외에서 구입한 주식이 현재 가치를 인정받지 못할 확률도 있다는 얘기다.\n"
     ]
    },
    {
     "name": "stderr",
     "output_type": "stream",
     "text": [
      "C:\\Users\\user\\anaconda3\\envs\\py38_64\\lib\\site-packages\\urllib3\\connectionpool.py:981: InsecureRequestWarning: Unverified HTTPS request is being made to host 'www.hankyung.com'. Adding certificate verification is strongly advised. See: https://urllib3.readthedocs.io/en/latest/advanced-usage.html#ssl-warnings\n",
      "  warnings.warn(\n"
     ]
    },
    {
     "name": "stdout",
     "output_type": "stream",
     "text": [
      "UTF-8\n",
      "1931 start\n",
      "새내기주가 급락하는 원인으로 장외주식의 과열을 꼽는 전문가가 많다 장외가격을 기준으로 공모주에 접근해서는 안 된다는 얘기다 하락세를 기록하고 있는 SK바이오사이언스 SK바이오팜 카카오게임즈는 상장 후 하락했지만 여전히 공모가보다 높다올해 상장을 앞두고 있는 카카오뱅크 크래프톤 야놀자 등도 고평가 논란에서 자유롭지 않다 증권플러스 비상장에 따르면 카카오뱅크의 추정 시가총액은 31조5931억원이다 이는 주요 시중은행인 KB금융51000 07821조3725억원과 신한지주18조3909억원의 시총을 넘어선다게임업체 크래프톤은 1년 만에 주가가 5배 이상 올랐다 22일 주가는 253만원을 기록했다 작년 2월에는 장외가가 40만원 수준이었다 현재 시총은 21조6498억원이다 국내 1위 게임 상장사인 엔씨소프트936000 054의 시가총액20조4611억원보다 크다장외에서 비싼 가격에 투자할 경우 본전을 건지지 못할 수도 있다 최근 SK바이오사이언스를 장외에서 매수한 투자자들이 대표적 사례다 장외가가 급등할 경우 공모가가 부풀려진 상태로 상장될 위험도 있다 상장 직후 주가가 급등하지 않을 수도 있다초저금리와 유동성에 힘입은 공모시장 초호황이 계속 이어질지도 미지수다 지금 장외에서 구입한 주식이 현재 가치를 인정받지 못할 확률도 있다는 얘기다박의명  return 받은값\n"
     ]
    },
    {
     "name": "stderr",
     "output_type": "stream",
     "text": [
      "C:\\Users\\user\\anaconda3\\envs\\py38_64\\lib\\site-packages\\urllib3\\connectionpool.py:981: InsecureRequestWarning: Unverified HTTPS request is being made to host 'www.hankyung.com'. Adding certificate verification is strongly advised. See: https://urllib3.readthedocs.io/en/latest/advanced-usage.html#ssl-warnings\n",
      "  warnings.warn(\n"
     ]
    },
    {
     "name": "stdout",
     "output_type": "stream",
     "text": [
      "UTF-8\n",
      "1931 start\n"
     ]
    },
    {
     "name": "stderr",
     "output_type": "stream",
     "text": [
      "C:\\Users\\user\\anaconda3\\envs\\py38_64\\lib\\site-packages\\urllib3\\connectionpool.py:981: InsecureRequestWarning: Unverified HTTPS request is being made to host 'search.naver.com'. Adding certificate verification is strongly advised. See: https://urllib3.readthedocs.io/en/latest/advanced-usage.html#ssl-warnings\n",
      "  warnings.warn(\n"
     ]
    },
    {
     "name": "stdout",
     "output_type": "stream",
     "text": [
      "http://news.mk.co.kr/newsRead.php?no=275158&year=2021 : 삼성증권, 31일 오후4시 비대면 컨퍼런스 개최 금리상승으로 주식시장이 조정을 받고 있는 가운데 주식투자 방향성을 잡지 못하는 투자자를 돕기 위해 국내 애널리스트들이 나선다. 삼성증권은 31일 오후 4시부터...\n"
     ]
    },
    {
     "name": "stderr",
     "output_type": "stream",
     "text": [
      "C:\\Users\\user\\anaconda3\\envs\\py38_64\\lib\\site-packages\\urllib3\\connectionpool.py:981: InsecureRequestWarning: Unverified HTTPS request is being made to host 'www.mk.co.kr'. Adding certificate verification is strongly advised. See: https://urllib3.readthedocs.io/en/latest/advanced-usage.html#ssl-warnings\n",
      "  warnings.warn(\n"
     ]
    },
    {
     "name": "stdout",
     "output_type": "stream",
     "text": [
      "{'http-equiv': 'Content-Type', 'content': 'text/html; charset=euc-kr'}\n",
      "content:text/html; charset=euc-kr\n",
      "euc-kr\n",
      "금리상승에 주식투자는애널리스트 동학개미 궁금증 해소 나선다 매일경제  return 받은값\n"
     ]
    },
    {
     "name": "stderr",
     "output_type": "stream",
     "text": [
      "C:\\Users\\user\\anaconda3\\envs\\py38_64\\lib\\site-packages\\urllib3\\connectionpool.py:981: InsecureRequestWarning: Unverified HTTPS request is being made to host 'www.mk.co.kr'. Adding certificate verification is strongly advised. See: https://urllib3.readthedocs.io/en/latest/advanced-usage.html#ssl-warnings\n",
      "  warnings.warn(\n"
     ]
    },
    {
     "name": "stdout",
     "output_type": "stream",
     "text": [
      "{'http-equiv': 'Content-Type', 'content': 'text/html; charset=euc-kr'}\n",
      "content:text/html; charset=euc-kr\n",
      "euc-kr\n",
      "http://www.edaily.co.kr/news/newspath.asp?newsid=02286166628986600 : (사진=AP 연합뉴스)최악의 시나리오 그리는 채권, 주식 시장..“조정장 올 것” 이와 달리 시장은 최악의... 이런 상황에서 채권과 주식 시장에서는 벤치마크인 미국 국채 금리의 예상외 급등 가능성을 최악의 시나리오로...\n"
     ]
    },
    {
     "name": "stderr",
     "output_type": "stream",
     "text": [
      "C:\\Users\\user\\anaconda3\\envs\\py38_64\\lib\\site-packages\\urllib3\\connectionpool.py:981: InsecureRequestWarning: Unverified HTTPS request is being made to host 'www.edaily.co.kr'. Adding certificate verification is strongly advised. See: https://urllib3.readthedocs.io/en/latest/advanced-usage.html#ssl-warnings\n",
      "  warnings.warn(\n",
      "C:\\Users\\user\\anaconda3\\envs\\py38_64\\lib\\site-packages\\urllib3\\connectionpool.py:981: InsecureRequestWarning: Unverified HTTPS request is being made to host 'www.edaily.co.kr'. Adding certificate verification is strongly advised. See: https://urllib3.readthedocs.io/en/latest/advanced-usage.html#ssl-warnings\n",
      "  warnings.warn(\n",
      "C:\\Users\\user\\anaconda3\\envs\\py38_64\\lib\\site-packages\\urllib3\\connectionpool.py:981: InsecureRequestWarning: Unverified HTTPS request is being made to host 'www.edaily.co.kr'. Adding certificate verification is strongly advised. See: https://urllib3.readthedocs.io/en/latest/advanced-usage.html#ssl-warnings\n",
      "  warnings.warn(\n"
     ]
    },
    {
     "name": "stdout",
     "output_type": "stream",
     "text": [
      "utf-8\n",
      "1852 start\n",
      "사진AP 연합 return 받은값\n",
      "utf-8\n"
     ]
    },
    {
     "name": "stderr",
     "output_type": "stream",
     "text": [
      "C:\\Users\\user\\anaconda3\\envs\\py38_64\\lib\\site-packages\\urllib3\\connectionpool.py:981: InsecureRequestWarning: Unverified HTTPS request is being made to host 'www.edaily.co.kr'. Adding certificate verification is strongly advised. See: https://urllib3.readthedocs.io/en/latest/advanced-usage.html#ssl-warnings\n",
      "  warnings.warn(\n"
     ]
    },
    {
     "name": "stdout",
     "output_type": "stream",
     "text": [
      "1852 start\n",
      "http://www.journalist.or.kr/news/article.html?no=49089 : 그야말로 주식투자 열풍이다. 한국예탁결제원에 따르면 지난해 연말 기준 국내 상장법인 투자자 수(중복 제외)가 약 920만명을 기록했다. 1년 사이 300만명(48.5%)이 늘어났다. 이 추세대로라면 주식투자 인구는 이미...\n",
      "utf-8\n",
      "469 start\n",
      "그야말로 주식투자 열풍이다 한국예탁결제원에 따르면 지난해 연말 기준 국내 상장법인 투자자 수중복 제외가 약 920만명을 기록했다 1년 사이 300만명485이 늘어났다 이 추세대로라면 주식투자 인구는 이미 1000만명을 넘어선 것으로 점쳐진다 경제활동인구의 절반 가까이는 주식투자를 하고 있다는 의미다 뉴시스 주식 투자자가 많아지고 그만큼 대중화되면서 투자정보에 대한 수요도 급증하고 있다 서점가에선 주식투자 비법을 알려주는 책이 베스트셀러 상위권을 차지하고 있고 유튜브엔 주린이’주식 초보자를 어린이에 빗댄 말를 겨냥한 강의 영상부터 해외증시 정보 투자 성공담까지 관련 콘텐츠가 넘쳐난다 유례없는 주식 열풍에 전문 유튜버들의 인기와 영향력도 수직 상승했다 경제·금융 전문 유튜버인 슈카’는 지난해 8월 세계적인 투자자 짐 로저스를 인터뷰해 화제를 모으더니 140만 구독자를 발판삼아 다수의 TV 프로그램 등에 출연하며 맹활약 중이다 경제 전문 채널 삼프로TV’도 동학 개미 운동과 주식 열풍에 힘입어 급성장했다 지난해 1월 초만 해도 10만명 수준이었던 구독자는 올 1월 100만명을 넘었다23일 기준 128만 얼마 전 벤처캐피탈에서 수십억원의 투자를 받은 삼프로TV기업명 이브로드캐스팅는 상장을 위해 IPO기업공개를 추진 중인 것으로 전해졌다 한경 주코노미TV 구독자 12만 KBS·매경·이데일리 등 각축 양상 이에 질세라 기성 언론들도 주식·금융 콘텐츠 시장에 뛰어들었다 KBS는 박종훈 경제전문 return 받은값\n",
      "utf-8\n",
      "469 start\n",
      "http://news.kmib.co.kr/article/view.asp?arcid=0015657930&code=61141411&cp=nv : 주식, 부동산 등 재테크가 향후 소득향상에 결정적일 것이라는 인식이 자리 잡은 것으로 조사됐다. 반면... 9%가 주식, 부동산 등 재테크를 소득향상을 위해 가장 중요한 것으로 꼽았다. 20대와 40대는 재테크 수단 중...\n",
      "{'http-equiv': 'Content-Type', 'content': 'text/html; charset=euc-kr'}\n",
      "content:text/html; charset=euc-kr\n",
      "euc-kr\n",
      "147 start\n",
      "주식 부동산 등 재테크가 향후 소득향상에 결정적일 것이라는 인식이 자리 잡은 것으로 조사됐다 반면 월급 인상 일자리 증가 등에 대해서는 부정적 전망이 나왔다한국경제연구원이 22일 발표한 일자리 전망 국민 인식’ 조사 결과에 따르면 응답자 1000명 중 329가 주식 부동산 등 재테크를 소득향상을 위해 가장 중요한 것으로 꼽았다20대와 40대는 재테크 수단 중 주식을 가장 선호하는 것으로 조사됐다 반면 30대 50대 60대 이상은 부동산을 가장 유망한 재테크 수단으로 꼽았다암호화폐에 대한 기대도 높은 것으로 나타났다 20대는 주식 부동산에 이어 암호화폐95가 유망할 것으로 내다봤다 40대 응답자의 94도 암호화폐를 선호 재테크 수단으로 선정했다그 외는 업무 역량 강화 및 승진149 창업91 이직78 등이 뒤를 이었다이같은 조사 결과는 월급 상승에 대한 기대가 크지 않기 때문으로 풀이된다 응답자 10명 중 7명689은 물가 대비 월급이 오르지 않을 것이라고 전망했다향후 고용상황에 대해서도 부정적인 전망이 주를 이뤘다 응답자의 446는 코로나19 이전2019년보다 올해 고용상황이 매우 악화할 것이라고 전망했다 조금 악화할 것이라고 내다본 응답자도 327에 달했다특히 20대 응답자 중 매우 개선될 것으로 기대한 사람은 전무해 청년층이 미래 고용시장을 가장 암울하게 내다보는 것으로 조사됐다업종별로는 숙박·음식점225 기계·선박·철강174의 일자리 감소가 두드러질 것으로 예상됐다 반면 반도체214 바이오 등 신사업206 등의 분야에서는 새로운 일자리가 등장할 것으로 전망됐다고용 악화의 원인으로는 코로나19 지속453 국회·정부의 기업규제 강화263 등이 지목됐다고용 상황 개선을 위해서는 기업 규제 완화249 고용시장 유연화219 등이 과제로 꼽혔다권민지  return 받은값\n",
      "{'http-equiv': 'Content-Type', 'content': 'text/html; charset=euc-kr'}\n",
      "content:text/html; charset=euc-kr\n",
      "euc-kr\n",
      "147 start\n",
      "http://yna.kr/AKR20210323118400064?did=1195m : 한국은행 관계자는 \"1월에 주택거래량이 증가한 데다 주식투자 등을 위한 자금수요도 많았던 것으로 보인다\"고 말했다. 기업도 부가가치세 납부 등을 위한 자금수요가 몰리면서 1월의 여신규모가 전달보다...\n"
     ]
    },
    {
     "name": "stderr",
     "output_type": "stream",
     "text": [
      "C:\\Users\\user\\anaconda3\\envs\\py38_64\\lib\\site-packages\\urllib3\\connectionpool.py:981: InsecureRequestWarning: Unverified HTTPS request is being made to host 'www.yna.co.kr'. Adding certificate verification is strongly advised. See: https://urllib3.readthedocs.io/en/latest/advanced-usage.html#ssl-warnings\n",
      "  warnings.warn(\n"
     ]
    },
    {
     "name": "stdout",
     "output_type": "stream",
     "text": [
      "UTF-8\n",
      "1092 start\n",
      "1696 start\n",
      "한국은행 관계자는 1월에 주택거래량이 증가한 데다 주식투자 등을 위한 자금수요도 많았던 것으로 보인다고 말했다 기업도 부가가치세 납부 등을 위한 자금수요가 몰리면서 1월의 여신규모가 전달보다 3천868억원이 증가했다 또 금융기관의 1월 수신 역시 지방자치단체 예산배정 등의 영향으로 3천699억원이 늘었다 bwy return 받은값\n"
     ]
    },
    {
     "name": "stderr",
     "output_type": "stream",
     "text": [
      "C:\\Users\\user\\anaconda3\\envs\\py38_64\\lib\\site-packages\\urllib3\\connectionpool.py:981: InsecureRequestWarning: Unverified HTTPS request is being made to host 'www.yna.co.kr'. Adding certificate verification is strongly advised. See: https://urllib3.readthedocs.io/en/latest/advanced-usage.html#ssl-warnings\n",
      "  warnings.warn(\n"
     ]
    },
    {
     "name": "stdout",
     "output_type": "stream",
     "text": [
      "UTF-8\n",
      "1092 start\n",
      "1696 start\n",
      "http://www.segye.com/content/html/2021/03/24/20210324506655.html?OutUrl=naver : 상당수 직장인들이 주식과 부동산, 암호화폐 투자에 관심을 가지는 배경으로 특히 신종 코로나 바이러스 감염증(코로나19) 발생 이후 주식 시장에 쏠리는 관심이 지속적으로 이어지고 있습니다. 실제 직장인 상당수가...\n",
      "utf-8\n",
      "1452 start\n",
      "상당수 직장인들이 주식과 부동산 암호화폐 투자에 관심을 가지는 배경으로 특히 신종 코로나 바이러스 감염증코로나19 발생 이후 주식 시장에 쏠리는 관심이 지속적으로 이어지고 있습니다 실제 직장인 상당수가 주식에 관심을 갖고 투자를 많이 하고 있는 것으로 보입니다 여전히 영끌’영혼까지 끌어 모아 투자과 빚투’빚내서 투자를 하는 개인 투자자도 적지 않습니다 주식 시장에서 성공을 기대하는 마음 속에서는 소위 자본주의 샤머니즘’이라 표현할 수 있는 태도도 발견할 수 있습니다 가령 돈에 대한 긍정적인 태도를 갖고 조급함을 버리고 간절하게 원해야 돈을 벌 수 있다고 생각하는 직장인들도 적지 않습니다 ◆직장인 678 주식 투자에 관심 가지고 있어 시장조사전문기업 엠브레인 트렌드모니터가 전국 만 1959세 급여 소득자 1000명을 대상으로 현재 주식 투자’ 열풍 및 자본주의 샤머니즘’ 관련 인식 조사를 실시했다 설문 결과 현재 직장인 상당수가 주식에 관심을 갖고 실제 투자를 많이 하고 있는 것으로 조사되었다 다른 한편으로 돈에 대한 믿음과 긍정적인 태도 그리고 운’의 역할이 중요하다고 생각하는 직장인들이 많은 모습으로 이러한 태도가 주식 투자에도 녹아 있다는 것도 확인해볼 수 있었다 먼저 현재 대다수의 급여소득자가 주식 투자’에 대한 관심을 가지고 있는 것으로 나타났다 전체 응답자의 678가 주식 투자에 관심이 있다고 응답한 것으로 관심이 없다고 말하는 응답자는 173에 불과했다 주식 투자에 대한 관심은 20대30대 젊은 직장인들20대 708 30대 748 40대 66 50대 596과 일반 사무직 종사자사무직 707 전문직 604 서비스영업직 676 생산기술직 565 교사공무원 677에게서 더욱 많이 찾아볼 수 있었다 자신이 원하는 기간만큼 현재 직장에서 일할 수 없다고 생각하는 직장 불안정’ 평가자735들이 주식에 관심이 많은 특징도 엿볼 수 있었다 이들의 경우 완전한 경제적 자유를 갖춰 이른 나이에 은퇴를 하는 파이어족’이 되기를 희망하는 정도가 높은 집단으로 그러한 바람에서 주식 투자에 관심을 많이 기울이고 있다는 해석이 가능해 보인다 ◆주식 투자에 관심 있는 직장인 절반 이상 코로나19 사태 이후에 주식 투자에 관심 기울여 눈여겨볼 부분은 직장인들의 주식 투자에 대한 관심이 코로나19 발생 이후 형성된 경우가 많다는 사실이다 주식 투자에 관심이 있다고 밝힌 직장인의 절반 이상527이 코로나19 바이러스가 확산되기 시작한 2020년 1월 이후에 주식 투자에 관심을 갖게 되었다고 응답한 것이다 코로나 사태로 경제적 위기가 찾아온 상황을 일종의 기회’라고 생각하고 주식 투자에 관심을 기울이게 된 개인 투자자가 많다는 것을 보여주는 결과라 할 수 있다 특히 남성397보다는 여성661 그리고 젊은 직장인20대 701 30대 54 40대 455 50대 383들이 코로나19 발생 이후에 주식 투자에 관심을 많이 기울이면서 동학개미운동’을 주도했다는 사실을 엿볼 수 있었다 ◆2월 기준 직장인 절반 이상 주식 투자중 주식에 대한 관심에만 그치지 않고 실제 주식 투자를 하고 있는 직장인들도 상당히 많았다 전체 절반 이상56이 2021년 2월 현재 주식 투자를 하고 있다고 응답한 것으로 남성남성 634 여성 486과 20대30대 젊은 층20대 596 30대 596 40대 548 50대 50이 주식 투자를 많이 하는 모습이었다 자신이 원하는 기간만큼 현재 직장에서 일할 수 없다고 생각하는 직장 불안정’ 평가자61가 지금 회사에서 오래 일할 수는 있지만 근무 희망 기간은 그보다 짧은 직장 불만족’ 평가자569나 현재 직장에서 원하는 만큼 일할 수 있다고 생각하는 비교적 이상적’ 평가자542보다 주식 투자에 많이 참여하고 있다는 사실도 확인해볼 수 있었다 아무래도 직장 생활이 불안정하다고 생각하는 만큼 주식 투자에서 기회를 찾고 있는 것으로 보인다 지난 1년 동안 주식에 투자한 금액은 500만원 미만375이 가장 많은 비중을 차지했다 다만 500만원 이상3천 만원500만원1천만 원 189 1천 만원3천 만원 221 정도를 투자했다는 응답도 많이 찾아볼 수 있었으며 1억원 이상 투자자5의 비중도 결코 작다고 할 수는 없었다 주식 투자금의 출처는 투자 목적으로 모아 둔 개인 자금의 비중705이 단연 높았는데 일천만 원 이상 투자의 경우에는 대출의 비중이 높은 특징도 엿볼 수 있었다 주식 투자 수익률로는 연 10 수준304을 가장 많이 기대했으며 현재 보유한 주식의 가치가 올해 연말에는 더욱 상승해 있을 것이라는 믿음상승 예상 45 현재 유지 예상 338 하락 예상 15이 큰 것으로 보였다 올 연말 국내 주식 시장의 상황을 지금과 비슷한 수준으로 많이 예상상승 예상 252 현재 유지 예상 344 하락 예상 234하는 것과는 달리 자신의 주식 투자는 성공할 것이라는 자신감이 크다는 것을 알 수 있다 ◆주식 투자 관심은 많지만 관련 지식수준은 높지 않아 전반적으로 주식 투자에 대한 관심이 상당하고 실제 주식 투자를 하고 있는 직장인들도 많지만 정작 주식 투자와 관련한 지식 수준은 높지 않은 것으로 보여졌다 스스로 생각했을 때 주식 투자 관련 지식 수준이 높은 편이라고 생각하는 직장인은 151에 불과한 반면 전체 응답자의 807는 자신의 주식 투자 지식을 낮은 수준이라고 평가한 것이다 다만 주식 투자 공부를 열심히 해서 정보를 많이 얻으면 투자 수익률을 높일 수 있다는 인식전체 551이 강하다는 점에서 향후 주식 투자 공부를 하려는 사람들이 많아질 것이라는 예상을 해볼 수가 있었다 실제 많은 직장인들이 주식 투자 관련 책을 읽거나 강의를 들으면서 공부를 하고 있는 것으로 조사되었다 지난 일 년 동안 직장인 절반 가까이46가 주식 투자와 관련한 책을 읽은 경험을 10명 중 6명584은 주식 투자 관련 유튜브 및 강의를 시청한 경험을 가지고 있었다 특히 주식 투자 강의 및 유튜브 영상을 일주일에 하루 이상 시청한 직장인이 10명 중 4명378에 달했는데 주로 20대와 직장 불안정 평가자 현재 주식 투자 중인 직장인들이 주식 강좌를 자주 들으면서 더욱 열심히 공부를 하는 모습이었다 ◆주식 투자로 인해 투기 성향 강해질 수 있다는 지적도큰 빚이 생길 수 있다는 우려도 상당해 직장인들이 생각하는 주식 투자의 가장 큰 장점은 고정급이어서 이외의 추가 소득을 얻을 수 있다493 중복응답는 것이었다 저연령층일수록 추가 소득이 가능하다는 점20대 544 30대 536 40대 492 50대 40을 높게 평가하는 모습으로 그만큼 젊은 직장인들이 현재 급여 수준에 만족하지 못하고 있다는 생각도 해볼 수 있었다 경제 전반에 대해 공부를 많이 하게 된다407는 점을 긍정적으로 보는 시각도 많았으며 부동산 투자와 비교했을 때 적은 금액으로 투자할 수 있고393 중개인이 없어도 직접 거래할 수 있으며33 빠른 현금 전환이 가능한324 부분도 주식 투자의 장점으로 많이 꼽혔다 물론 짧은 시간에 돈을 벌 수 있다는 것298도 직장인들이 생각하는 주식 투자의 중요한 매력으로 특히 20대30대 직장인들20대 348 30대 324 40대 28 50대 24이 주식 투자로 단기간에 돈을 벌 수 있다는 생각을 많이 하는 것으로 보여졌다 반면 주식 투자를 둘러싼 가장 큰 우려는 투기 성향이 강해질 수 있다463 중복응답는 점으로 이러한 목소리는 중장년층20대 40 30대 46 40대 492 50대 50에서 좀 더 많이 나왔다 그 다음으로 실패하면 평생 갚을 수 없을 정도의 빚이 생길 수 있다36는 우려도 컸으며 주식 투자 관련 정보가 불균형적이고33 제대로 투자를 하려면 많은 공부나 노력이 필요하다306는 점도 단점으로 많이 지적되었다 개인의 노력에 비해 운이 미치는 영향력이 크고304 돈이 많아야 돈을 벌 수 있다285는 점 때문에 주식 투자를 좋지 않게 바라보는 시선도 많은 편이었다 ◆직장인 794 “돈을 벌기 위해서는 돈에 대한 긍정적인 마인드’를 갖는 것이 중요하다” 많은 직장인들은 돈을 대하는 태도나 가치관이 부’를 축적하는데 큰 영향을 준다고 생각하는 것으로 조사되었다 기본적으로는 돈에 대한 긍정적인 태도가 중요하다는 의견이 지배적이었다 전체 10명 중 8명794이 돈을 벌기 위해서는 돈에 대한 긍정적인 마인드’를 갖는 것이 중요하다고 바라보는 것으로 이러한 생각은 중장년층20대 768 30대 768 40대 808 50대 832에게서 더욱 많이 찾아볼 수 있었다 주식 투자에 관심이 많을수록 돈에 대한 긍정적인 태도가 중요하다는 생각주식 투자 관심도 높은 편 838 보통 745 낮은 편 665을 많이 하는 모습으로 아무래도 주식 투자의 경우 큰 수익과 손실이 모두 가능한 만큼 가급적 좋은 생각을 하려고 노력하는 투자자가 많을 것이라는 예상을 가능케 한다 조급함을 버리고 마음을 잘 다스려야 돈이 따라오고728 돈에 대한 깨달음이 있어야 돈을 벌 수가 있다697고 생각하는 직장인들도 상당히 많았는데 역시 주식 투자에 관심이 많은 사람들이 조급함을 버리고주식 투자 관심도 높은 편 774 보통 658 낮은 편 607 돈에 대한 깨달음을 얻어야주식 투자 관심도 높은 편 752 보통 617 낮은 편 549 돈을 벌 수 있다는데 훨씬 많이 공감을 하는 모습이었다 더 나아가 직장인 2명 중 1명50은 돈은 무조건 아낀다고 절약이 되는 것이 아니라 간절히 원해야 더 벌 수 있다는 생각을 내비치기도 했다 비록 지금까지 돈을 많이 못 번 것이 돈에 대한 자신의 부정적인 태도 때문이라고 생각하는 사람들176은 많지 않았으나 이왕이면 긍정적인 태도를 갖는 것이 부를 축적하는데 도움이 된다고 생각하는 직장인들이 많다는 것을 쉽게 느낄 수 있다 ◆322 사람의 부는 운에 의해 결정된다 다른 한편으로 부를 창출하는 데 있어서 운’이 중요한 역할을 한다고 생각하는 사람들이 많다는 것도 알 수 있었다 직장인의 절반 이상이 정확한 설명은 할 수 없어도 돈이 따르는 신비로운 능력이 있는 사람이 존재하고569 전문지식이 없이도 돈의 흐름을 잘 맞추는 사람이 있다558는데 공감하는 것이다 또한 2명 중 1명481은 돈이 주역이나 운세와 같이 일정한 흐름이 있다고 믿었으며 사람의 부는 운에 의해 결정된다고 생각하는 직장인322도 결코 적지 않은 수준이었다 이처럼 돈을 버는 과정에서 운’의 역할을 높게 평가하는 태도는 결국 소위 말하는 한 방’과 대박’을 기대하는 마음으로 이어질 수 밖에 없는데 최근 우려의 목소리가 커지고 있는 영끌’영혼까지 끌어 모아 투자 및 빚투’빚내서 투자 현상도 이러한 맥락에서 살펴볼 수 있을 것이다 이렇듯 부를 창출하는 과정에서 돈에 대한 믿음과 긍정적인 태도 그리고 운’이 중요한 역할을 한다고 생각하는 사람들이 많다는 것은 사회전반적으로 샤머니즘’적인 태도가 크게 자리잡고 있다는 해석도 가능케 한다 그만큼 부의 축적 과정에서 노동의 역할이 과소평가되는 반면 운과 태도에 대한 맹신이 커질 가능성을 우려할 수 밖에 없는데 더욱 염려스러운 부분은 한국사회에서는 부의 창출이 곧 인생의 성공을 의미하거나 개인의 경쟁력으로 평가되는 경우가 많다는 사실이다 실제 직장인 10명 중 6명621이 좋은 인생이라는 말의 뜻에는 많은 돈’이 포함된다는 생각을 가지고 있었으며 현재 부의 크기가 그 사람의 능력을 말해준다고 생각하는 직장인동의 366 비동의 527도 상당한 수준이었다 김현주  return 받은값\n",
      "utf-8\n",
      "1452 start\n",
      "http://www.dt.co.kr/contents.html?article_no=2021032302100858065001&ref=naver : 해외 주식 투자를 위한 맞춤식 자산관리계좌 4종을 내놨다. 나스닥 기술주부터 S&P500 초우량기업은... 현대차증권 상품전략실장 권지홍 상무는 \"해외주식을 보다 쉽게 접근할 수 있도록 해외투자 랩 어카운트를...\n",
      "{'name': 'apple-mobile-web-app-title', 'content': 'dt'}\n",
      "{'name': 'msvalidate.01', 'content': '64D4932DA24439B0A4CAEF7555F57FB4'}\n",
      "{'name': 'google-site-verification', 'content': 'ZpPcgUY7BDY-oSN4bo1xmEiEZtC5ZLveDbJZtM3ymA8'}\n",
      "{'name': 'dailymotion-domain-verification', 'content': 'dm225d7d5knjoq2rh'}\n",
      "{'name': 'robots', 'content': 'index,follow'}\n",
      "{'http-equiv': 'X-UA-Compatible', 'content': 'IE=edge'}\n",
      "{'http-equiv': 'Content-Type', 'content': 'text/html; charset=euc-kr'}\n",
      "content:text/html; charset=euc-kr\n",
      "euc-kr\n",
      "303 start\n",
      "해외 주식 투자를 위한 맞춤식 자산관리계좌 4종을 내놨다 나스닥 기술주부터 SP500 초우량기업은 물론이고 상장지수펀드ETF를 활용한 EMP 투자 글로벌 채권까지 구비하고 있다 최소 가입금액도 1000만원부터 3000만원까지 선택가능하다 현대차증권은 미국시장에 투자하는 나스닥100 숨은 보석 발굴 랩 어카운트Wr Accoun과 글로벌 탑티어Toier 혁신성장 랩 어카운트 등 해외투자 랩 어카운트 4종을 출시했다고 23일 밝혔다 나스닥100 숨은 보석 발굴 랩 어카운트는 나스닥 100 내 저평가된 기술 가치주에 투자하는 투자일임 서비스다 PTRPrice Technooy Rio이라는 독창적인 지표를 통해 무형자산특허 기술 등 가치가 저평가돼 있는 기업을 선별해 운용한다 PTR이란 기업의 보유특허가치총액 대비 주가가 적절하게 평가됐나를 판단하는 지수다 최근 무형자산 가치가 급증하고 있는 시장에서 혁신 기술기업에 투자할 수 있는 장점이 있다 최소 가입금액은 3000만원이다 글로벌 탑티어 혁신성장 랩은 SP 500 종목 내 초우량 기업에 투자한다 글로벌 업종별 톱 기업 중에서 장기적인 혁신 성장성을 가진 시가총액 100조원 이상 또는 100조원 이상 달성 가능성이 높은 기업을 선별해 운용한다 글로벌 시장 지배력을 바탕으로 안정적인 수익을 나타내는 기업에 투자할 수 있는 장점이 있다 최소 가입금액은 3000만원이다 글로벌 高진감래 랩 어카운트는 EFT를 활용한 EMPETF Mned Porfoio투자 상품이다 매크로 분석을 통해 상대적으로 저평가된 지역 또는 자산군에 선진입 추후 경기사이클 변화 시 높은 수익을 추구를 목표로 운용한다 최소 가입금액은 2000만원이다 글로벌채권 액티브초이스 랩 어카운트는 공모펀드를 활용한 글로벌 채권투자상품이다 다양한 국가와 등급의 채권에 대한 전략적 자산배분을 통해 시장상황에 영향을 받지 않는 꾸준한 이자수익 추구를 목표로 한다 최소 가입금액은 1000만원이다 현대차증권 상품전략실장 권지홍 상무는 해외주식을 보다 쉽게 접근할 수 있도록 해외투자 랩 어카운트를 마련했다면서 고객 계좌별로 투명성 있게 운용 되는 것이 장점이다라고 소개했다김현동 return 받은값\n",
      "{'name': 'apple-mobile-web-app-title', 'content': 'dt'}\n",
      "{'name': 'msvalidate.01', 'content': '64D4932DA24439B0A4CAEF7555F57FB4'}\n",
      "{'name': 'google-site-verification', 'content': 'ZpPcgUY7BDY-oSN4bo1xmEiEZtC5ZLveDbJZtM3ymA8'}\n",
      "{'name': 'dailymotion-domain-verification', 'content': 'dm225d7d5knjoq2rh'}\n",
      "{'name': 'robots', 'content': 'index,follow'}\n",
      "{'http-equiv': 'X-UA-Compatible', 'content': 'IE=edge'}\n",
      "{'http-equiv': 'Content-Type', 'content': 'text/html; charset=euc-kr'}\n",
      "content:text/html; charset=euc-kr\n",
      "euc-kr\n",
      "303 start\n",
      "http://www.ggilbo.com/news/articleView.html?idxno=836044 : 자이언트스텝, 누구냐 넌? 따상 달성에 이목 집중 +30% SK바이오사이언스로 신규 상장주에 이목이 집중되고 있는 가운데 24일 오전 9시 3분께 순식간에 따상을 달성한 기업이 나와 많은 투자자들의 이목을 끌고 있다....\n"
     ]
    },
    {
     "name": "stdout",
     "output_type": "stream",
     "text": [
      "UTF-8\n",
      "주식 자이언트스텝 누구냐 넌 따상 달성에 이목 집중 30 < 금융증권 < 경제 < 기사본문 금강일보 주요서비스 바로가기 본문 바로가기 매체정보 바로가기 로그인 바로가기 기사검색 바로가기 전체서비스 바로가기 상단영역  return 받은값\n",
      "UTF-8\n",
      "https://www.dailian.co.kr/news/view/975160/?sc=Naver : 해외주식형펀드에서 두각을 드러내고 있다. 박현주 회장은 미래에셋을 설립한 후 해외시장 진출에 역점을 두며 글로벌 네트워크를 구축해왔다. 24일 미래에셋운용에 따르면 해외주식형펀드는 지난 2004년부터...\n"
     ]
    },
    {
     "name": "stderr",
     "output_type": "stream",
     "text": [
      "C:\\Users\\user\\anaconda3\\envs\\py38_64\\lib\\site-packages\\urllib3\\connectionpool.py:981: InsecureRequestWarning: Unverified HTTPS request is being made to host 'www.dailian.co.kr'. Adding certificate verification is strongly advised. See: https://urllib3.readthedocs.io/en/latest/advanced-usage.html#ssl-warnings\n",
      "  warnings.warn(\n"
     ]
    },
    {
     "name": "stdout",
     "output_type": "stream",
     "text": [
      "utf-8\n",
      "368 start\n",
      "해외주식형펀드에서 두각을 드러내고 있다 박현주 회장은 미래에셋을 설립한 후 해외시장 진출에 역점을 두며 글로벌 네트워크를 구축해왔다24일 미래에셋운용에 따르면 해외주식형펀드는 지난 2004년부터 2008년까지 활발하게 설정됐으며 운용펀드 기준으로 5년간 264개 상품이 출시됐다 이는 전체 운용중인 펀드 중 33를 차지하는 것으로 나타났다제로인 집계에 따르면 지난달 기준 설정이후 수익률 1위는 2006년 6월 설정된 미래에셋아시아퍼시픽소비성장펀드로 743의 수익을 달성했다 이 상품은 빠르게 성장하는 아시아 중산층의 소비증가에 따라 수혜 받을 것으로 예상되는 교육 이커머스 헬스케어 등 소비 테마에 투자한다2위는 미래에셋아시아퍼시픽컨슈머어드밴티지펀드로 655의 수익을 올렸다 3위는 미래에셋차이나디스커버리펀드로 625에 달한다 4 5위는 미래에셋친디아컨슈머펀드 TIGER나스닥100ETF로 수익률은 각각 586 569에 육박한다해외주식형 펀드 설정 이후 수익률 상위 6개 상품은 모두 미래에셋운용이 점유하고 있고 10위권 내에 무려 8개 상품이 포함돼있다 또한 미래에셋이 설정한 5개 펀드가 500대의 수익을 올려 주목을 끌고 있다미래에셋운용 관계자는 현재 전세계 36개국 펀드를 판매하고 있고 2월 말 기준으로 운용사의 전체 운용자산 233조원 중 해외에 투자하고 있는 자산은 132조원에 육박하며 전체 자산의 절반이 넘는다며 300여개 펀드를 해외 현지에서 설정 판매하는 등 해외에서 직접 판매하거나 운용하고 있다고 말했다©주 데일리안 무단전재 및 재배포 금지 0 0 0 관련기사 미래에셋운용 CJ오쇼핑 자회사 다다엠앤씨 2대 주주 된다 미래에셋운용 TIGER Fn신재생에너지 ETF’ 고객 이벤트 시행 미래에셋운용 인재육성 통해 사회공헌 실천 미래에셋운용 글로벌ESG 주식 투자하는 상생ESG 펀드 출시 미래에셋운용 31조 공적 연기금 투자풀 주간사로 선정 전체 댓글 0 로그인 후 댓글을 작성하실 수 있습니다 좋아요순 최신순 반대순 많이 본  return 받은값\n"
     ]
    },
    {
     "name": "stderr",
     "output_type": "stream",
     "text": [
      "C:\\Users\\user\\anaconda3\\envs\\py38_64\\lib\\site-packages\\urllib3\\connectionpool.py:981: InsecureRequestWarning: Unverified HTTPS request is being made to host 'www.dailian.co.kr'. Adding certificate verification is strongly advised. See: https://urllib3.readthedocs.io/en/latest/advanced-usage.html#ssl-warnings\n",
      "  warnings.warn(\n"
     ]
    },
    {
     "name": "stdout",
     "output_type": "stream",
     "text": [
      "utf-8\n",
      "368 start\n",
      "https://www.sedaily.com/NewsView/22JXLKHNJZ : 미래에셋대우에서 거래하는 고수익 투자자들이 24일 오전 가장 많이 사들인 종목은 HMM(011200)으로 조사됐다. 서연, 신풍제약(019170), 박셀바이오(323990), 대한항공(003490) 등에도 관심이 쏠리고 있다. 이날...\n"
     ]
    },
    {
     "name": "stderr",
     "output_type": "stream",
     "text": [
      "C:\\Users\\user\\anaconda3\\envs\\py38_64\\lib\\site-packages\\urllib3\\connectionpool.py:981: InsecureRequestWarning: Unverified HTTPS request is being made to host 'www.sedaily.com'. Adding certificate verification is strongly advised. See: https://urllib3.readthedocs.io/en/latest/advanced-usage.html#ssl-warnings\n",
      "  warnings.warn(\n"
     ]
    },
    {
     "name": "stdout",
     "output_type": "stream",
     "text": [
      "utf-8\n",
      "주식 초고수는 지금HMM 매수·매도 모두 1위서연·신풍도 관심 주 메뉴 바로가기 본문내용 바로가기 시그널 디센터 라이프점프 더폴리틱스 서울경제TV 미주한국일보 백상경제연구원 전종목시세 옛날신문 PDF보기 초판보기 마이페이지 로그인 이전 다음 전체메뉴 검색 전체메뉴 증권 지수정보 종목정보 국내증시 공시 종목·투자전략 정책 해외증시 채권 재테크 IBDe 증권정보 증권일반 News봇 부동산 정책·제도 분양 주택 오피스·상가·토지 건설업계 간접투자 부동산일반 경제 · 금융 경제동향 정책 공기업 경제분석 금융정책 은행 카드 보험 제2금융 재테크 금융가 경제·금융일반 산업 기업 중기·벤처 생활 바이오ICT 산업일반 정치 청와대 국회·정당·정책 총리실 통일·외교·안보 정치일반 사회 사회일반 전국 사회이슈 피플 국제 정치·사회 경제·마켓 기업 인물·화제 국제일반 오피니언 사설 사내칼럼 사외칼럼 문화 · 스포츠 라이프 문화 방송·연예 스포츠 자동차 영상 · 포토 영상 포토 서경 TV·방송 영화 가요 문화 라이프 포토 검색 닫기 검색 오세훈 > 박영선 서울집값 넘사벽 文 아스트라 접종 흑석 선생 국회로 한전 전기요금 동결 박근혜 자택 압류 윤석열 단톡방 美 총기규제 검토 조선구마사 논란 셀프출산 닫기 전체서비스 증권 지수정보 종목정보 국내증시 공시 종목·투자전략 정책 해외증시 채권 재테크 IBDe 증권정보 증권일반 News봇 부동산 정책·제도 분양 주택 오피스·상가·토지 건설업계 간접투자 부동산일반 경제 · 금융 경제동향 정책 공기업 경제분석 금융정책 은행 카드 보험 제2금융 재테크 금융가 경제·금융일반 산업 기업 중기·벤처 생활 바이오ICT 산업일반 정치 청와대 국회·정당·정책 총리실 통일·외교·안보 정치일반 사회 사회일반 전국 사회이슈 피플 국제 정치·사회 경제·마켓 기업 인물·화제 국제일반 오피니언 사설 사내칼럼 사외칼럼 문화 · 스포츠 라이프 문화 방송·연예 스포츠 자동차 영상 · 포토 영상 포토 카드 return 받은값\n"
     ]
    },
    {
     "name": "stderr",
     "output_type": "stream",
     "text": [
      "C:\\Users\\user\\anaconda3\\envs\\py38_64\\lib\\site-packages\\urllib3\\connectionpool.py:981: InsecureRequestWarning: Unverified HTTPS request is being made to host 'www.sedaily.com'. Adding certificate verification is strongly advised. See: https://urllib3.readthedocs.io/en/latest/advanced-usage.html#ssl-warnings\n",
      "  warnings.warn(\n"
     ]
    },
    {
     "name": "stdout",
     "output_type": "stream",
     "text": [
      "utf-8\n"
     ]
    },
    {
     "name": "stderr",
     "output_type": "stream",
     "text": [
      "C:\\Users\\user\\anaconda3\\envs\\py38_64\\lib\\site-packages\\urllib3\\connectionpool.py:981: InsecureRequestWarning: Unverified HTTPS request is being made to host 'search.naver.com'. Adding certificate verification is strongly advised. See: https://urllib3.readthedocs.io/en/latest/advanced-usage.html#ssl-warnings\n",
      "  warnings.warn(\n"
     ]
    },
    {
     "name": "stdout",
     "output_type": "stream",
     "text": [
      "http://www.newsis.com/view/?id=NISX20210323_0001379491&cID=10401&pID=10400 : 김용범 기획재정부 1차관은 23일 \"국내 주식시장이 미국 국채금리 상승에 따른 증시 움직임을 반영하며 다소 변동성을 보이는 모습\"이라고 밝혔다. 김용범 차관은 이날 서울 은행회관에서 금융위원회, 한국은행...\n",
      "UTF-8\n"
     ]
    },
    {
     "name": "stderr",
     "output_type": "stream",
     "text": [
      "C:\\Users\\user\\anaconda3\\envs\\py38_64\\lib\\site-packages\\urllib3\\connectionpool.py:981: InsecureRequestWarning: Unverified HTTPS request is being made to host 'newsis.com'. Adding certificate verification is strongly advised. See: https://urllib3.readthedocs.io/en/latest/advanced-usage.html#ssl-warnings\n",
      "  warnings.warn(\n"
     ]
    },
    {
     "name": "stdout",
     "output_type": "stream",
     "text": [
      "1124 start\n",
      "김용범 기획재정부 1차관은 23일 국내 주식시장이 미국 국채금리 상승에 따른 증시 움직임을 반영하며 다소 변동성을 보이는 모습이라고 밝혔다 김용범 차관은 이날 서울 은행회관에서 금융위원회 한국은행 금융감독원 등 관계기관과 함께 거시경제금융회의를 개최를 열어 코로나19 등에 따른 국내외 금융시장 동향과 실물경제 영향 향후 대응방안 등을 점검하며 이 같이 말했다 김 차관은 국내 금융시장이 미 국채금리 상승에 따른 글로벌 금융시장 변동에 반응하고 있다며 국고채 시장은 글로벌 금리 상승에 따른 영향에 더해 국고채 수급 부담 우려도 일부 작용하면서 금리가 상승세를 보이고 있다고 진단했다 그는 특히 최근 단기물 시장이 불안정해지면서 국내 금융기관의 투자심리가 크게 위축되고 10년물30년물 금리가 한때 역전되는 등 변동성이 확대되는 모습이라고 강조했다 국고채 10년물 금리는 작년 말 1713에서 지난 달 말 1960로 상승하더니 지난 19일 기준 2099까지 올랐다 같은 날 기준 국고채 30년물 금리2084를 앞질렀다 글로벌 채권시장의 금리 상승세도 지속될 것이라고 전망했다 김 차관은 미 연준이 시장 일각의 기대와 달리 SLR보완적 레버리지 비율 규제 완화 조치를 연장하지 않기로 결정하면서 미 국채 10년물 금리가 심리적 저항선으로 여겨졌던 175를 한때 상회하는 등불안정한 상황이 이어지고 있다고 했다 AP뉴시스 22일현지시간 뉴욕증권거래소NYSE에서 트레이더들의 모습 NYSE가 제공한 사진이다 20210223 이어 금주중 미 의회 청문회 등에서의 주요 인사 발언향후 국채입찰 및 경제지표 결과 등에 따라 금리 변동성이 지속될 것으로 예상된다며 유럽의 경제 봉쇄조치 강화미중 갈등 일부 신흥국의 인플레이션 및 외채부담 등도 추가적인 국제금융시장의 불안 요인이라고 전했다 김 차관은 정부와 한국은행의 대응 등으로 심리가 다소 진정되고는 있지만 국내외 국채시장 동향에 각별히 유의하며 모니터링을 강화하겠다며 국고채 수급 여건과 수익률곡선 움직임 등에 따라 발행량을 탄력 조정하는 한편 변동성 확대 시 관계기관과 긴밀한 공조 하에 적기 시장안정조치를 시행하는 등 국채시장 안정에 만전을 기하겠다고 설명했다 내수 경기와 고용시장 상황은 여전히 어렵지만 부진 폭이 점차 완화되고 있다고 분석했다 다만 코로나19 영향을 크게 받은 대면서비스업 회복이 지연되는 등 부문별·업종별 편차가 여전히 크고 향후 코로나19 상황 등과 관련된 불확실성도 지속되고 있다고 진단했다 정부는 물가 변동에 있어서도 예의주시하는 중이다 김 차관은 농축산물 가격은 최근 들어 완만하게 하락하고 있으나 2분기에는 유가·곡물 등 국제원자재 가격의 향방에 크게 영향을 받을 것으로 예상된다며 2분기 전기요금 동결 등 공공요금의 안정적 관리에 역점을 두면서 국제원자재 가격 상승이 소비자물가에 미치는 영향을 최소화할 수 있도록 신속한 대책을 마련하겠다고 덧붙였다 서울뉴시스김용범 기획재정부 차관이 23일 서울 중구 은행회관에서 열린 거시경제 금융회의를 주재하고 있다 20210323 사진기획재정부 제공 hoo return 받은값\n"
     ]
    },
    {
     "name": "stderr",
     "output_type": "stream",
     "text": [
      "C:\\Users\\user\\anaconda3\\envs\\py38_64\\lib\\site-packages\\urllib3\\connectionpool.py:981: InsecureRequestWarning: Unverified HTTPS request is being made to host 'newsis.com'. Adding certificate verification is strongly advised. See: https://urllib3.readthedocs.io/en/latest/advanced-usage.html#ssl-warnings\n",
      "  warnings.warn(\n"
     ]
    },
    {
     "name": "stdout",
     "output_type": "stream",
     "text": [
      "UTF-8\n",
      "1124 start\n",
      "https://www.hankyung.com/international/article/202103245992i : 중국 최대 민영 완성차업체인 지리자동차의 상하이증시 커촹반(과학창업판) 상장이 '기술 미달'을 이유로 중단됐다고 블룸버그통신이 23일(현지시간) 보도했다. '중국판 나스닥'으로 불리는 커촹반은 유망 스타트업 자금...\n",
      "UTF-8\n"
     ]
    },
    {
     "name": "stderr",
     "output_type": "stream",
     "text": [
      "C:\\Users\\user\\anaconda3\\envs\\py38_64\\lib\\site-packages\\urllib3\\connectionpool.py:981: InsecureRequestWarning: Unverified HTTPS request is being made to host 'www.hankyung.com'. Adding certificate verification is strongly advised. See: https://urllib3.readthedocs.io/en/latest/advanced-usage.html#ssl-warnings\n",
      "  warnings.warn(\n",
      "C:\\Users\\user\\anaconda3\\envs\\py38_64\\lib\\site-packages\\urllib3\\connectionpool.py:981: InsecureRequestWarning: Unverified HTTPS request is being made to host 'www.hankyung.com'. Adding certificate verification is strongly advised. See: https://urllib3.readthedocs.io/en/latest/advanced-usage.html#ssl-warnings\n",
      "  warnings.warn(\n"
     ]
    },
    {
     "name": "stdout",
     "output_type": "stream",
     "text": [
      "1213 start\n",
      "중국 최대 민영 완성차업체인 지리자동차의 상하이증시 커촹반과학창업판 상장이 기술 미달을 이유로 중단됐다고 블룸버그통신이 23일현지시간 보도했다 중국판 나스닥으로 불리는 커촹반은 유망 스타트업 자금 조달을 지원한다는 취지로 허가제 대신 등록제로 운영하고 있다 그러나 감독당국이 투자자 보호를 이유로 사실상 허가제로 운영하면서 상장이 늦어져 철회하는 사례도 급증하고 있다지리자동차는 지난해 6월 상하이거래소에 커촹반 상장심사를 신청했다 지리차는 커촹반 기업공개IPO로 200억위안약 3조5000억원을 조달해 전 return 받은값\n",
      "UTF-8\n",
      "1213 start\n",
      "https://view.asiae.co.kr/article/2021032408133691705 : 금리 상승으로 주식투자 방향성을 잡기 어려운 투자자들을 위한 자리다. 삼성증권은 4월 중 총 16시간동안 미국주식 거래가 가능하도록 지원할 예정이다. 거래시간 연장에 앞서 개인 투자자들에게 최신 정보를 제공하기...\n"
     ]
    },
    {
     "name": "stderr",
     "output_type": "stream",
     "text": [
      "C:\\Users\\user\\anaconda3\\envs\\py38_64\\lib\\site-packages\\urllib3\\connectionpool.py:981: InsecureRequestWarning: Unverified HTTPS request is being made to host 'view.asiae.co.kr'. Adding certificate verification is strongly advised. See: https://urllib3.readthedocs.io/en/latest/advanced-usage.html#ssl-warnings\n",
      "  warnings.warn(\n"
     ]
    },
    {
     "name": "stdout",
     "output_type": "stream",
     "text": [
      "utf-8\n",
      "1386 start\n",
      "금리 상승으로 주식투자 방향성을 잡기 어려운 투자자들을 위한 자리다삼성증권은 4월 중 총 16시간동안 미국주식 거래가 가능하도록 지원할 예정이다 거래시간 연장에 앞서 개인 투자자들에게 최신 정보를 제공하기 위해 컨퍼런스를 준비했다는 게 삼성증권 측의 설명이다 삼성증권은 지난 22일부터 미국주식 프리마켓장전 거래시간을 기존 대비 3시간 앞당긴 오후 5시부터 지원하고 있다 4월 애프터마켓장후도 장 마감 직후인 오전 5시부터 오전 9시까지 지원할 예정이다 이번 언택트 컨퍼런스는 한국 미국 중국 투자전략과 유망 투자 종목을 주제로 31일 수요일 16시부터 18시 30분까지 2시간 30분 동안 실시간으로 진행될 예정이다 평일에 진행되는 만큼 국내주식시장 마감 후 컨퍼런스를 시작해 국내주식에 투자하는 개인투자자들도 부담없이 참여할 수 있도록 했다특히 작년까지는 해외 주식에 한해 진행했지만 올해는 국내 주식 담당 대표 애널리스트까지 총출동한다 이번 컨퍼런스는 삼성증권 리서치센터 허진욱 매크로팀장과 유승민 글로벌전략팀장 정명지 투자정보팀장 장효선 글로벌주식팀장 중국주식 담당 김미선 애널리스트가 강사로 출연해 강의와 함께 실시간 질의 응답을 진행한다 실시간 컨퍼런스의 편집 영상은 각 주제별로 나눠 4월 5일 삼성증권 유튜브 채널 Ssun POP’에 업로드 될 예정이다 박지환  return 받은값\n",
      "utf-8\n",
      "1386 start\n",
      "https://www.etoday.co.kr/news/view/2007798 : 23일 종가 4만9361.98 출처 트레이딩이코노믹스밀레니얼 세대의 주식 투자 광풍은 우리나라만의 일이 아니다. 인도에서도 수백만 명에 달하는 이들이 주식 시장에 뛰어들고 있다. 23일(현지시간) 블룸버그통신에 따르면...\n"
     ]
    },
    {
     "name": "stderr",
     "output_type": "stream",
     "text": [
      "C:\\Users\\user\\anaconda3\\envs\\py38_64\\lib\\site-packages\\urllib3\\connectionpool.py:981: InsecureRequestWarning: Unverified HTTPS request is being made to host 'view.asiae.co.kr'. Adding certificate verification is strongly advised. See: https://urllib3.readthedocs.io/en/latest/advanced-usage.html#ssl-warnings\n",
      "  warnings.warn(\n",
      "C:\\Users\\user\\anaconda3\\envs\\py38_64\\lib\\site-packages\\urllib3\\connectionpool.py:981: InsecureRequestWarning: Unverified HTTPS request is being made to host 'www.etoday.co.kr'. Adding certificate verification is strongly advised. See: https://urllib3.readthedocs.io/en/latest/advanced-usage.html#ssl-warnings\n",
      "  warnings.warn(\n",
      "C:\\Users\\user\\anaconda3\\envs\\py38_64\\lib\\site-packages\\urllib3\\connectionpool.py:981: InsecureRequestWarning: Unverified HTTPS request is being made to host 'www.etoday.co.kr'. Adding certificate verification is strongly advised. See: https://urllib3.readthedocs.io/en/latest/advanced-usage.html#ssl-warnings\n",
      "  warnings.warn(\n"
     ]
    },
    {
     "name": "stdout",
     "output_type": "stream",
     "text": [
      "UTF-8\n",
      "547 start\n",
      "23일 종가 4만936198 출처 트레이딩이코노믹스 밀레니얼 세대의 주식 투자 광풍은 우리나라만의 일이 아니다 인도에서도 수백만 명에 달하는 이들이 주식 시장에 뛰어들고 있다23일현지시간 블룸버그통신에 따르면 지난해 인도 내 활성 투자 계정은 1040만 개로 역대 최대를 기록했다 이 중 상당수는 최근 유입된 것으로 나타났다 현지 대표 증권사인 에인절브로킹은 지난해 4분기 가입한 51만 명의 고객 가운데 72가 그전까지 주식 거래를 해본 적 없는 것으로 확인됐다고 전했다인도에서 주식 투자를 하는 사람은 전체 13억6000만 명 인구 중 약 37에 불과하다 이는 중국의 127 미국의 55에 비해 많이 부족한 규모다 그러나 최근 젊은 층을 중심으로 투자 열풍이 불면서 잠재 가치는 높게 평가받는다 관련  return 받은값\n",
      "UTF-8\n",
      "547 start\n",
      "http://www.m-i.kr/news/articleView.html?idxno=810833 : 최근 개인 투자자들의 주식매매 활성화에 따라 다양한 증권사 유튜브 콘텐츠가 인기다. 사진은 각사 유튜브 채널 캡처. 사진=전유정 기자  증권업계가 유튜브 구독자 100만 시대를 열었다. 주식 투자 열풍이 지속하면서...\n",
      "UTF-8\n",
      "5365 start\n",
      "최근 개인 투자자들의 주식매매 활성화에 따라 다양한 증권사 유튜브 콘텐츠가 인기다 사진은 각사 유튜브 채널 캡처 사진전유정  return 받은값\n",
      "UTF-8\n",
      "5365 start\n",
      "http://www.fnnews.com/news/202103231743535623 : 전세계적으로 NFT(대체불가능 토큰) 열풍이 불고 있는 가운데 NFT 관련주가 급등하고 있다. 소셜네트워크서비스(SNS)를 통해 모인 개인 투자자들이 대거 매수에 나서고 알고리즘 매매까지 가세하면서 지난 한 주간 7배...\n"
     ]
    },
    {
     "name": "stderr",
     "output_type": "stream",
     "text": [
      "C:\\Users\\user\\anaconda3\\envs\\py38_64\\lib\\site-packages\\urllib3\\connectionpool.py:981: InsecureRequestWarning: Unverified HTTPS request is being made to host 'www.fnnews.com'. Adding certificate verification is strongly advised. See: https://urllib3.readthedocs.io/en/latest/advanced-usage.html#ssl-warnings\n",
      "  warnings.warn(\n",
      "C:\\Users\\user\\anaconda3\\envs\\py38_64\\lib\\site-packages\\urllib3\\connectionpool.py:981: InsecureRequestWarning: Unverified HTTPS request is being made to host 'www.fnnews.com'. Adding certificate verification is strongly advised. See: https://urllib3.readthedocs.io/en/latest/advanced-usage.html#ssl-warnings\n",
      "  warnings.warn(\n"
     ]
    },
    {
     "name": "stdout",
     "output_type": "stream",
     "text": [
      "UTF-8\n",
      "805 start\n",
      "전세계적으로 NFT대체불가능 토큰 열풍이 불고 있는 가운데 NFT 관련주가 급등하고 있다 소셜네트워크서비스SNS를 통해 모인 개인 투자자들이 대거 매수에 나서고 알고리즘 매매까지 가세하면서 지난 한 주간 7배 넘게 폭등한 종목도 나오고 있다 NFT 관련주는 22일현지시간 뉴욕증시에서 일제히 상승했다 NFT그림 거래소인 타쿵아트는 전 거래일 대비 651 급등한 주당 49달러에 장을 마감했다 시간외거래까지 포함하면 115 폭등했다 NFT수집품 거래소인 오리엔탈컬처 역시 24 중국 음악 저작권 서비스 제공업체인 쿠쿠뮤직홀딩스가 118 홀오브페임엔터테인먼트는 322 각각 상승했다 이날 트위터 공동 창업자 잭 도시가 15년 전 작성한 첫 트윗의 소유권을 인증하는 NFT가 경매시장에서 약 290만달러약 32억7000만원에 낙찰되면서 NFT 관련주에 날개를 달아줬다 NFT는 가상자산의 일종으로 특정 파일과 연결돼 있기 때문에 그 자체로 고유성과 희소성을 지닌다 교환이나 위조가 불가능하고 자체 고유번호가 매겨져 있어 소유권도 보장돼 최근 예술품 시장에서 영향력이 커지고 있다 국내에서도 상장사들이 NFT 열풍에 동참하면서 해당 회사 주가가 급등하고 있다 국내 대표 경매업체인 서울옥션은 최근 자회사인 서울옥션블루와 함께 이르면 올해 3·4분기 NFT 경매에 나서겠다고 밝혔다 미술업계 호황까지 겹치면서 서울옥션의 주가는 이달 들어 70 급등했다 게임사 위메이드도 최근 3단계에 걸쳐 NFT 시장 진출을 추진한다고 밝혔다 관련 소식이 알려진 지난 8일부터 9일 사이 위메이드 주가는 5 가까이 뛰었다 업계에서는 이미 10억달러약 1조1300억원 규모로 성장한 NFT 시장에 대해 일시적인 유행이 아니라고 지적한다 서울옥션 관계자는 NFT 예술품은 국경 제한 없는 디지털 자산 거래가 가능하며 다른 플랫폼에서 쉽게 재판매될 수 있기 때문에 디지털 환경에 익숙한 밀레니얼 세대를 중심으로 새로운 시장이 펼쳐지는 것이라고 분석했다 반면 일각에서는 NFT 시장 거품론을 주장하며 모멘텀 투자에 주의할 것을 조언했다 브라이트트레이딩의 시장 구조 전문가인 데니스 딕은 명확한 기준 없이 SNS에서 NFT 관련주들을 쫓는 개인 투자자들과 모멘텀 종목을 픽업하는 알고리즘 트레이더들이 NFT 관련주를 끌어올리고 있다며 나만 소외될 것 같다는 포모FOMO 증후군이 결국에는 눈물로 끝날 것이라고 말했다 sjry return 받은값\n",
      "UTF-8\n",
      "805 start\n",
      "http://www.wowtv.co.kr/NewsCenter/News/Read?articleId=A202103230267&t=NN : 국민연금공단이 올해 1분기에 한올바이오파마 종목의 지분율을 가장 크게 줄인 것으로 나타났다. 23일 연합인포맥스에 따르면 국민연금은 이달 4일 제출한 공시에서 한올바이오파마 지분율이 기존 13.50%에서 9.94...\n"
     ]
    },
    {
     "name": "stderr",
     "output_type": "stream",
     "text": [
      "C:\\Users\\user\\anaconda3\\envs\\py38_64\\lib\\site-packages\\urllib3\\connectionpool.py:981: InsecureRequestWarning: Unverified HTTPS request is being made to host 'www.wowtv.co.kr'. Adding certificate verification is strongly advised. See: https://urllib3.readthedocs.io/en/latest/advanced-usage.html#ssl-warnings\n",
      "  warnings.warn(\n"
     ]
    },
    {
     "name": "stdout",
     "output_type": "stream",
     "text": [
      "utf-8\n",
      "999 start\n",
      "3427 start\n",
      "국민연금공단이 올해 1분기에 한올바이오파마 종목의 지분율을 가장 크게 줄인 것으로 나타났다23일 연합인포맥스에 따르면 국민연금은 이달 4일 제출한 공시에서 한올바이오파마 지분율이 기존 1350에서 994로 356포인트 감소했다고 공시했다 지분율 1350를 공시한 직전 보고서 기준일은 지난해 12월 31일이었다올해 들어 지분율을 3포인트 이상 줄인 기업은 한올바이오가 유일하다한올바이오는 지난 1월 발표된 지난해 실적에선 매출과 영업이익이 부진했고 미국에서 진행한 신약 임상시험 중단에 주가도 급락세다 올해 1분기 한올바이오의 주가는 고점인 4만600원에서 저점인 2만1천350원까지 거의 반절이 떨어진 후 현재 2만2천800원대를 형성하고 있다1월 공시에 따르면 지난해 연결기준 매출액이 833억원 영업이익은 63억원을 기록했다 각각 전년 대비 185 632 급감했다 코로나19 사태로 병·의원의 내원 환자가 줄어 수액제 주사제 등 의약품 매출이 감소한 여파라는 설명이다여기에 지난달 미국 협력사 이뮤노반트가 개발 중인 갑상선안변증TED 치료제 후보물질 HL161의 임상시험을 일시 중단한다고 밝혀 악재를 맞았다 발표일인 지난달 3일 주가는 하루에만 24 폭락했다이 외에 국민연금이 1분기에 지분율을 2포인트 이상 줄인 종목들은 한라홀딩스와 GKL LG하우시스 SK디앤디가 있다 지분율 감소폭은 GKL이 282포인트 한라홀딩스는 254포인트 SK디앤디는 208포인트 LG하우시스는 204포인트다사진연합 return 받은값\n"
     ]
    },
    {
     "name": "stderr",
     "output_type": "stream",
     "text": [
      "C:\\Users\\user\\anaconda3\\envs\\py38_64\\lib\\site-packages\\urllib3\\connectionpool.py:981: InsecureRequestWarning: Unverified HTTPS request is being made to host 'www.wowtv.co.kr'. Adding certificate verification is strongly advised. See: https://urllib3.readthedocs.io/en/latest/advanced-usage.html#ssl-warnings\n",
      "  warnings.warn(\n"
     ]
    },
    {
     "name": "stdout",
     "output_type": "stream",
     "text": [
      "utf-8\n",
      "999 start\n",
      "3431 start\n",
      "http://kormedi.com/?p=1336160 : 배고플 때 쇼핑하면 충동구매를 하기 쉽다. 허기를 느끼게 하고, 식욕을 자극하는 호르몬인 그렐린의 작용이다. 문제는 쇼핑에 국한되지 않는다. 그렐린이 장래의 큰 보상보다 눈앞의 작은 이익에 급급하게 만든다는 연구...\n",
      "UTF-8\n",
      "193 start\n",
      "배고플 때 쇼핑하면 충동구매를 하기 쉽다 허기를 느끼게 하고 식욕을 자극하는 호르몬인 그렐린의 작용이다 문제는 쇼핑에 국한되지 않는다 그렐린이 장래의 큰 보상보다 눈앞의 작은 이익에 급급하게 만든다는 연구 결과가 나왔다 미국 매사추세츠 종합병원 프랜지스카 플레소 교수는 “그렐린은 기존 연구에서 밝혀진 것보다 더 광범위하게 작용한다”면서 “특히 금전적 보상에 대한 의사결정에 큰 영향을 미친다”고 말했다 그렐린은 뇌에서 특정 행위에 따르는 보상을 처리하는 통로를 관장한다 그렐린 수치는 식사와 대사 정도에 따라 하루에도 여러 번 오르내린다 연구진은 1022세 젊은 여성 84명을 대상으로 그렐린의 작용을 살폈다 이 중 34명은 건강한 여성이었고 나머지 50명은 신경성 식욕부진 등 식이 장애가 있었다 여성들을 충분히 시장하게 만든 다음 음식을 제공했다 식사 전후에 일종의 금융 실험을 했다 연구진은 오늘 20달러를 받겠는가 2주 후에 80달러를 받겠는가’처럼 장래의 수익이 이자율 등 기회비용을 고려하더라도 더 큰 제안을 던졌다 건강한 여성의 경우 그렐린 수치가 높을수록 즉 허기를 느낄수록 단기적 보상을 택하는 경우가 많았다 배고픔 때문에 결과적으로 손해를 보는 충동적인 선택을 내린 것이라 연구진은 해석했다 식이 장애가 있는 여성들은 이런 성향을 보이지 않았다 식이 장애 환자들은 그렐린에 내성이 있기 때문이었다 이 연구는 23일까지 열리는 미국 내분비학회에서 발표될 예정이다 이용재  return 받은값\n",
      "UTF-8\n",
      "193 start\n",
      "https://news.joins.com/article/olink/23612959 : ‘딘딘하다’ ‘홍반꿀’ 최근 인터넷 주식 커뮤니티에 등장한 신조어다. 카카오TV 예능 ‘개미는 오늘도... 오히려 주식 경험이 전무한 러블리즈 미주의 수익률이 가장 높다. 올 초 코스피 지수가 사상 최초로 3000선을...\n"
     ]
    },
    {
     "name": "stderr",
     "output_type": "stream",
     "text": [
      "C:\\Users\\user\\anaconda3\\envs\\py38_64\\lib\\site-packages\\urllib3\\connectionpool.py:981: InsecureRequestWarning: Unverified HTTPS request is being made to host 'news.joins.com'. Adding certificate verification is strongly advised. See: https://urllib3.readthedocs.io/en/latest/advanced-usage.html#ssl-warnings\n",
      "  warnings.warn(\n",
      "C:\\Users\\user\\anaconda3\\envs\\py38_64\\lib\\site-packages\\urllib3\\connectionpool.py:981: InsecureRequestWarning: Unverified HTTPS request is being made to host 'news.joins.com'. Adding certificate verification is strongly advised. See: https://urllib3.readthedocs.io/en/latest/advanced-usage.html#ssl-warnings\n",
      "  warnings.warn(\n"
     ]
    },
    {
     "name": "stdout",
     "output_type": "stream",
     "text": [
      "utf-8\n",
      "1377 start\n",
      "딘딘하다’ 홍반꿀’ 최근 인터넷 주식 커뮤니티에 등장한 신조어다 카카오TV 예능 개미는 오늘도 뚠뚠’에서 나온 “딘딘같이 단타로 손쉬운 수익을 노리다가 자산을 꼬라박다” “노홍철 반대로 하면 꿀이다” 등의 단어가 유행어처럼 사용되는 것 이들이 실제 증권사 계좌에 입금된 출연료로 투자하는 모습을 보면 딘딘은 하루는커녕 1시간도 버티지 못하는 초단기 매매를 지향하고 노홍철은 14년 투자 경력이 무색하게 그가 매수하는 종목마다 떨어지고 매도하는 종목은 오른다 오히려 주식 경험이 전무한 러블리즈 미주의 수익률이 가장 높다 카카오TV 개미는 오늘도 뚠뚠’ 인기MBC도 파일럿 개미의 꿈’ 선보여 올 초 코스피 지수가 사상 최초로 3000선을 돌파하며 지난해 9월 시작한 개미는 오늘도 뚠뚠’도 함께 상승세를 탔다 주식 시장에 뛰어든 주린이’주식어린이들의 지지를 받으며 카카오TV 대표 예능으로 자리매김한 것이다 매주 수요일 오전 7시 새로운 에피소드 공개 시간에 맞춰 본방 사수하는 팬들이 늘어나면서 매회 평균 조회 수가 200만회에 달한다 지난 17일 공개된 자동차의 현재 미래 집중탐구’ 편은 6일 만에 350만회를 돌파했다 넷플릭스를 통해 뒤늦게 몰아보는 사람들도 많다 “씨드 얼마냐” 지상파서도 화두 떠올라 놀면 뭐하니’의 위드유 프로젝트에서 직장인 주린이들의 모임에 참석한 유재석 사진 MBC 남녀노소 주식에 대한 관심이 높아지면서 지상파에서도 관심을 보이기 시작했다 지난해부터 코로나19가 바꿔놓은 사회상과 가장 밀접한 분야이자 현재 가장 화두로 떠오르고 있는 주제이기도 하다 SBS 런닝맨’은 지난달 모의주식 투자 대회 특집을 진행했고 MBC 놀면 뭐하니’에서 위드 유 프로젝트 중인 유재석은 직장인 주린이들의 모임에 참석했다 그는 “씨드가 얼마냐”는 질문에 당황하면서도 “수익이 은행 이자보다는 높다” “모르는 기업은 투자하지 않는다” 등 투자 원칙을 밝혔다 그동안 주식이 4050 남성의 전유물처럼 여겨졌다면 이제는 2030으로 대상이 확대돼 어느 예능 프로그램과 결합해도 어색하지 않게 된 셈이다 MBC는 이 같은 분위기에 힘입어 이달 2부작 파일럿으로 주식 버라이어티 토크쇼 개미의 꿈’을 편성했다 주식 고수를 꿈꾸는 스타들의 주터디 클럽을 표방하며 기본 지식부터 하나씩 설명해 나갔다 경제 전문가와 연예인 패널로 구성된 포맷은 개미는 오늘도 뚠뚠’과 비슷했지만 시청률은 2대에 그쳤다 내 돈으로 실제 종목을 사고팔면서 수익도 손실도 모두 내돈내산’인 리얼함과는 차원이 다른 탓이다 지난해 9월 파일럿으로 선보인 부동산 예능 돈벌래’가 너무 노골적이었다면 이번엔 수박 겉핥기에 그쳤다 2부작 파일럿 예능으로 선보인 주식 버라이어티 토크쇼 개미의 꿈’ 사진 MBC 정덕현 대중문화평론가는 “지상파에서는 주식이 전면에 등장하거나 특정 종목을 이야기하는 순간 사행성 논란에서 벗어나기 힘들다 반면 카카오TV 같은 방송 규제에서 자유로운 대안적 미디어에서는 보다 다양한 시도를 할 수 있다”고 밝혔다 똑같이 김동환 대안금융경제연구소장이나 유튜버 슈카가 멘토로 출연한다 해도 할 수 있는 이야기의 폭이 달라질 수밖에 없다 개미의 꿈’이 “부동산 가격은 너무 오르고 은행 이자는 너무 낮아서 한국 역사상 처음 있는 주식 열풍” 같은 배경을 설명하는 이론 편이라면 개미는 오늘도 뚠뚠’는 완벽한 실전이기에 “주식 계좌를 세 개로 나눠라” “종목뿐 아니라 시기도 분산하라” 등 보다 실질적인 팁이 오간다 방송 초기 주위에서 찍어주는 종목 위주로 사들였던 딘딘이나 김종민은 회차를 거듭하면서 실제 온라인 쇼핑에서 가장 만족도가 높았던 브랜드 관련 종목을 찾아보고 포트폴리오를 다양화하는 등 접근법을 달리하고 있다 “시대별 예능 주제 보면 시류 알 수 있어” 개미는 오늘도 뚠뚠’에서 실제 구입 종목과 수익률을 밝히고 있는 모습 사진 카카오TV 개미는 오늘도 뚠뚠’은 2015년 MBC 마이 리틀 텔레비전’을 통해 1인 방송을 지상파에 접목하는 데 성공한 박진경 PD가 카카오TV로 이적 후 내놓은 프로그램이다 박진경 CP는 “시대마다 인기 있는 예능 프로그램의 주제를 보면 그 당시의 시류를 읽을 수 있다고 생각한다 프로그램을 기획할 당시인 지난해 여름은 투자가 단연 화두였다 저 역시 평생 투자에 관심을 갖지 않다가 처음 ETF 펀드를 시작하게 됐다”고 밝혔다 이어 “비단 투자자뿐만 아니라 현시대가 어떻게 바뀌어 가고 있는지 관심을 가지고 있는 분들은 충분히 즐길 수 있을 거라 판단했다”며 “요즘 사람들에겐 생활이 곧 주식’인 만큼 향후 챕터 수가 늘어난다면 필수 소비재 경기 방어 등 다양한 분야의 주식 섹터를 다뤄볼 예정”이라고 덧붙였다 민경원  return 받은값\n"
     ]
    },
    {
     "name": "stderr",
     "output_type": "stream",
     "text": [
      "C:\\Users\\user\\anaconda3\\envs\\py38_64\\lib\\site-packages\\urllib3\\connectionpool.py:981: InsecureRequestWarning: Unverified HTTPS request is being made to host 'news.joins.com'. Adding certificate verification is strongly advised. See: https://urllib3.readthedocs.io/en/latest/advanced-usage.html#ssl-warnings\n",
      "  warnings.warn(\n",
      "C:\\Users\\user\\anaconda3\\envs\\py38_64\\lib\\site-packages\\urllib3\\connectionpool.py:981: InsecureRequestWarning: Unverified HTTPS request is being made to host 'news.joins.com'. Adding certificate verification is strongly advised. See: https://urllib3.readthedocs.io/en/latest/advanced-usage.html#ssl-warnings\n",
      "  warnings.warn(\n"
     ]
    },
    {
     "name": "stdout",
     "output_type": "stream",
     "text": [
      "utf-8\n",
      "1377 start\n",
      "http://www.hani.co.kr/arti/economy/finance/987585.html : 한국거래소가 최근 기승을 부리고 있는 주식 ‘리딩방’ 사기 거래에 대한 투자자들의 주의를 촉구했다.... 해당 주식을 매수하라는 추천 글을 올렸다. 자신의 인지도와 영향력을 이용해 매수를 유도한 뒤 주가가 오르면...\n",
      "UTF-8\n",
      "1787 start\n",
      "한국거래소가 최근 기승을 부리고 있는 주식 리딩방’ 사기 거래에 대한 투자자들의 주의를 촉구했다 21일 거래소 시장감시위원회는 지난해 이상거래를 심리해 금융위원회에 112건의 불공정거래 혐의사건을 통보했다고 밝혔다 시장별로는 코스닥이 89건795으로 대부분을 차지했다 슈퍼개미나 유사투자자문업자가 리딩방을 이용해 벌인 사기적 부정거래 행위가 여럿 포함됐다 거래소에 따르면 이들은 차명계좌를 이용해 다수의 종목을 미리 사놓고 온라인 카페 등 사회적관계망SNS에 해당 주식을 매수하라는 추천 글을 올렸다 자신의 인지도와 영향력을 이용해 매수를 유도한 뒤 주가가 오르면 보유주식을 팔아 차익을 실현했다 거래소는 “최근 톡방과 유튜브 등을 이용한 불공정거래 가능성이 커지고 있다”며 “투자정보를 얻는 과정에서 불공정거래 행위에 연루되거나 피해를 입을 우려가 있으니 유명 인플루언서의 추천종목을 맹신하지 말아달라”고 당부했다 지난해 불공정거래 혐의 사건을 유형별로 보면 시세조종 혐의로 적발된 건수가 33건으로 전년20건보다 65 급증했다 지난해 4월 이후 증시가 급반등한 틈을 타 주가조작이 횡행했던 것으로 풀이된다 미공개정보를 이용한 불공정거래는 51건455으로 여전히 가장 많았다 결산실적 악화 정보를 미리 알 수 있는 최대주주나 대표이사 등 내부자가 공시전 주식을 팔아 손실을 피한 행위가 17건으로 전년8건보다 2배 넘게 늘었다 거래소는 “3월은 12월결산법인의 연간 실적이 공개되는 시기인만큼 악재성 미공개정보이용이 발생할 가능성이 높다”며 “특히 상장폐지나 관리종목 지정 우려가 있는 한계기업의 경우 각별한 주의가 필요하다”고 말했다 코로나19로 관심이 높아진 바이오 테마주는 치료제·진단키트 개발 등 호재7건는 물론 임상실패 등 악재4건 미공개정보 이용이 다수 적발됐다 부정거래는 23건으로 무자본 인수·합병MA 등 기업사냥형’ 불공정거래가 14건에 달했다한광덕 선임 return 받은값\n",
      "UTF-8\n",
      "1787 start\n"
     ]
    },
    {
     "name": "stderr",
     "output_type": "stream",
     "text": [
      "C:\\Users\\user\\anaconda3\\envs\\py38_64\\lib\\site-packages\\urllib3\\connectionpool.py:981: InsecureRequestWarning: Unverified HTTPS request is being made to host 'search.naver.com'. Adding certificate verification is strongly advised. See: https://urllib3.readthedocs.io/en/latest/advanced-usage.html#ssl-warnings\n",
      "  warnings.warn(\n"
     ]
    },
    {
     "name": "stdout",
     "output_type": "stream",
     "text": [
      "http://news.mk.co.kr/newsRead.php?no=275019&year=2021 : 계산속에 주식 투매가 벌어지기 때문입니다. 이날 뉴욕타임스(NYT)는 바이든 정부가 3조 달러 규모 친환경... 다만 비트코인 등 암호화폐 시세가 부담스러운 경우 채굴업체 주식에 주목하라는 의견도 나옵니다....\n"
     ]
    },
    {
     "name": "stderr",
     "output_type": "stream",
     "text": [
      "C:\\Users\\user\\anaconda3\\envs\\py38_64\\lib\\site-packages\\urllib3\\connectionpool.py:981: InsecureRequestWarning: Unverified HTTPS request is being made to host 'www.mk.co.kr'. Adding certificate verification is strongly advised. See: https://urllib3.readthedocs.io/en/latest/advanced-usage.html#ssl-warnings\n",
      "  warnings.warn(\n"
     ]
    },
    {
     "name": "stdout",
     "output_type": "stream",
     "text": [
      "{'http-equiv': 'Content-Type', 'content': 'text/html; charset=euc-kr'}\n",
      "content:text/html; charset=euc-kr\n",
      "euc-kr\n",
      "1664 start\n",
      "계산속에 주식 투매가 벌어지기 때문입니다 이날 뉴욕타임스NYT는 바이든 정부가 3조 달러 규모 친환경 인프라 법안을 크게 두 개로 나눠 준비 중이라고 전했습니다 하나는 미국 친환경 인프라에 초점을 맞춘 것으로 기존 인프라 개선 뿐 아니라 청정에너지·5G차세대 네트워크 인프라 확충을 위해 미래 고성장 산업을 지원한다는 내용입니다 부문별 구체적인 지원 자금이나 지원 방식이 정해지지는 않았습니다 다만 골드만삭스 등 월가 대형 투자은행IB들은 연방 정부가 3조달러 중 2조달러를 인프라 지원에 배정할 것으로 보고 있습니다 NYT에 따르면 정부는 일단 전기차 충전소 확충과 도로·철도·다리교량·항구 등 기존 인프라 개선에만 1조 달러를 투입한다는 방안을 논의한 것으로 알려졌습니다 같은 날 로이터는 캘리포니아 주에 지역구를 둔 민주당 소속 연방 상원의원이 바이든 대통령을 향해 내연기관 자동차 신차 판매를 중단하는 구체적인 날짜를 제시하라는 요구를 했다고 전했습니다 지난 해 9월 캘리포니아 주는 오는 2035년까지 내연기관 신차 판매를 중단한다는 내용의 행정명령을 발령한 바 있습니다 한편 친환경 인프라 법안에는 해당 분야 미국 기업들이 중국으로 대표되는 외국 업체와 시장 경쟁에서 우위를 가지도록 연방 정부가 뒷받침한다는 내용도 포함될 것으로 보입니다 이날 CNBC에 따르면 바이든 대통령이 법안과 관련해 BP·셰브런·엑손·BHP 등 석유·가스·광업 부문 최고위 경영진과 만나 의견수렴에 들어갑니다 또 다른 중심축은 경제 불평등 줄이기입니다 노동자 수백만명을 위한 고등 교육 강화를 비롯해100만 가구 주택 보급 대학 교육비 지원 유급 휴가제 확대 등이 대표적인 내용입니다 증시에서 관심을 가질 만한 부분은 이런 불평등 줄이기를 위한 증세 정책입니다 NYT는 정부 관계자들이 부유층 소득세율 인상현행 37 → 396·법인세율 인상현행 연방 세율 21 → 28 카드를 검토했다고 전했습니다 다만 이에 대해 젠 사키 백악관 대변인은 바이든 대통령은 여러 가지 방안을 검토 중인 단계이며 소득·재산보다 일자리에 더 관심을 두고 있다면서 세금 인상 가능성에 물 타는 언급을 했군요 투자자들은 해당 법안을 친화경·기술주 호재로 받아들여졌습니다 이날 뉴욕증시에서 테슬라 주가만 오른 것이 아니라 태양 전지 패널업체 선파워SPWR가 하루 새 810 뛴 것을 비롯해 태양에너지 인버터 업체 인페이즈에너지ENPH 398와 가정용 태양 전지판·배터리업체 선런RUN 324 등 재생에너지 부문 기업들 주가가 간만에 줄줄이 올랐습니다 다만 이번 3조달러 지원책은 아직 의회에 제출되지는 않았습니다 당장 실행되는 호재는 아닌 센입니다 법안 초안이 의회로 가게 되면 민주당이 주도하는 하원은 쉽게 통과할 수 있지만 민주당과 공화당이 팽팽하게 맞선 상원에서는 지원 규모와 지원 방안을 둘러싼 이견 탓에 법안 수정·통과 시간이 더 걸릴 수 있습니다 이 때문에 친환경·기술 기업들 주가 변동성은 여전하다는 평입니다 국채 금리도 여전한 변수여서 전문가들 의견이 엇갈립니다 골드만삭스는 1조9000억달러 지원책을 제외하고 바이든 정부가 올해 연말에 낼 것으로 보이는 인프라 지원책 등 경제 부양책 규모가 최대 4조 달러에 달할 것으로 보이는 반면 글로벌 공급망이 아직 완전히 작동하지 않는다는 점을 감안하면 인플레이션 압박이 내년까지 이어질 수 있다고 보고 있습니다 비앙코리서치의 짐 비앙코 최고경영자CEO는 지난 주 미국 10년물 국채 금리 인상으로 기술주 위주 나스닥지수가 흔들렸지만 과매도 상태이기 때문에 반등할 것이라면서도 10년물 금리는 단기적으로 150 대로 돌아올 수 있지만 집행에 들어간 1조9000억 달러 부양책 영향으로 올해 하반기 경제회복에 따른 인플레이션 압박이 더 커질 것이며 앞으로 12개월래 10년물 금리가 250 까지 오를 수 있다고 전망했습니다 반면 펀드스트랫의 톰 리 분석가는 기업 고정수입과 신용 유동성 감소 탓에 금리가 변한다면 정말 심각한 문제이지만 10년물 금리가 인플레이션 압박 때문에 오르는 것이라면 증시 측면에서 근본적인 문제가 되는 게 아니다라면서 이번 주 뉴욕증시가 반등할 것으로 보이고 연말 SP 500지수는 4300선에서 1010 범위에서 움직일 것이라고 언급했습니다 또 트래저리파트너스의 리처드 사퍼스타인 최고 투자 책임자CIO는 코로나19 백신 접종과 경제 재개 기대감에 따른 투자 열기가 잦아들고 국채 금리 상승세가 진정되면 투자자들은 다시 대형 기술주 등 성장 부문으로 자금을 옮길 것이라고 내다봤습니다 ◆ 파월 혹평 속 BTCC 창업자 비트코인 90 급락 가능월가 디지털골드러시 채굴주 사라 22일현지시간 BIS 화상 콘퍼런스에 참석한 파월 연준의장이 비트코인은 금 대체재이지 달러 대체재는 아니다 발언을 하는 등의 여파로 6 넘게 빠진 비트코인 시세 자료코인데스크 영상캡쳐BIS 국가를 넘어서는 돈 암호화폐 대장 비트코인에 대한 정부·금융당국 평가는 부정적입니다 부정적인 언급이 나올 때마다 비트코인 가격이 급락하는데 저점 매수 기회일까요 아니면 하락세 신호일까요 22일현지시간 미국 중앙은행 연방준비제도Fed·연준의 제롬 파월 의장은 이날 열린 국제결제은행BIS 금융 혁신 콘퍼런스에서 최근 급등세를 달리는 비트코인에 대해 금 대체재일 수는 있어도 미국 달러화를 대신할 수는 없다면서 암호화폐 같은 가상 자산은 가격 변동성이 매우 큰 투기적 자산이라고 혹평했습니다 재닛 옐런 재무부 장관과 같은 입장이죠 파월 의장은 또 연준이 달러 표시 디지털 화폐를 추진하면 파급력이 굉장히 클 것이기 때문에 서두르지 않을 것이라면서 민간이 발행하는 스테이블코인달러 등 기존 화폐에 가치가 연동되는 암호화폐은 중앙은행이 발행하는 화폐를 대신하지 못할 것이라고도 언급했습니다 파월 의장에 따르면 연준 산하 보스턴 연방준비은행이 매사추세츠공과대학MIT과 손잡고 개발 중인 디지털 화폐는 최종 모델이 2년 후 공개될 예정입니다 같은 날 암호화폐 거래소 BTCC 창업자인 바비 리도 비트코인 가격 급변 리스크를 언급했습니다 리 창업자는 22일 CNBC 인터뷰에서 비트코인 시세가 올해 안에 30만달러로 치솟을 것이라면서도 이후 추운 겨울을 맞을 수 있다고 내다봤습니다 올해는 암호화폐 시장에서 34년에 한 번 찾아오는 강세장인데 올해 여름 비트코인 시세는 10만달러 연말에는 30만달러까지 뛴 후 거품이 사그라들면서 무려 90 급락할 수 있다는 것이 그의 생각입니다 앞서 2013년과 2017년을 전후해서도 시세가 널뛴 바 있습니다 부정적인 발언이 나오면서 한국시간 기준 23일 오전 7시 50분 기준 비트코인 시세는 602 급락한 5만435369달러를 기록 중입니다 다만 비트코인 등 암호화폐 시세가 부담스러운 경우 채굴업체 주식에 주목하라는 의견도 나옵니다 펀드스트랫의 리오르 심론 디지털자산전략부문 부회장은 최근 비트코인 급등세는 현대판 디지털 골드러시를 보여주는 것이라면서 당분간 러시가 이어질 것이라는 점에서 암호화폐 채굴업체인 라이엇블록체인RIOT과 하이브블록체인HIVE·캐나다증시 마라톤디지털MARA 헛8HUT·캐나다증시을 주목할만 하다고 언급했습니다 최근 1년 새 비트코인 시세가 525 올랐다면 라이엇블록페인은 8000 뛰었다는 점에 주목하자는 이야기인데 다만 22일 각각 증시에서 해당 채굴업체 주가는 급락했습니다 비트코인 시세와 비슷하게 움직이기 때문입니다 ◆ 미국·유럽·캐나다의 中 집중압박위구르 인권학대 제재는 시작일 뿐 중국발 코로나바이러스19COVID19 변종 탓에 이탈리아·프랑스에 이어 독일도 봉쇄 기간을 연장하기로 했습니다 이런 가운데 미국 조 바이든 정부는 전 세계적인 중국 압박 작업에 들어섰습니다 22일현지시간 미국을 비롯한 유럽연합EU과 캐나다 영국은 신장위구르 자치구에서 벌어지는 소수민족 인권 학대를 이유로 이에 관여한 중국 관료를 동시 제재한다고 밝혔습니다 바이든 정부 출범 후 처음으로 이뤄진 지난 19일 미·중 고위급 회담이 공동 성명도 내지 못한 채 중요한 이견만 남기고 끝난 후 일주일이 안된 시점에서 나온 반중反中 조치입니다 EU 주요 정책결정기구인 EU 이사회는 신장 위구르 인권 학대 사태에 책임이 있는 중국 관료 4명과 단체 1곳을 제재한다고 이날 밝혔습니다 앞서 미국 제재 대상에 오른 주하이륀 전 신장 당위원회 부서기와 왕밍산 신장 정치법률위원회 서기 외에도 왕쥔정 신장생산건설단 당위원회 서기 천밍궈 신장공안국 국장 등이 대상입니다 이들의 EU 내 자산을 동결하고 유럽 시민과 기업들이 이들에게 재정 지원을 할 수 없도록 하는 한편 EU 여행도 금지하는 조치입니다 이날 EU는 중국 뿐 아니라 북한 등 6개국의 인권 침해 책임자와 기관도 제재했습니다 북한은 정경택 국가보위상 등 개인 2명과 중앙검찰소 1곳이 포함됐는데요 정치 비판자에 대해 비사법적인 고문·살인·실종·강제노동을 가하는 등 조직적으로 심각한 인권 침해를 저질렀다는 이유에서입니다 한편 영국과 캐나다도 EU의 중국 제재에 참여했습니다 영국 가디언은 EU가 인권탄압을 이유로 중국을 제재한 건 1989년 톈안먼 사태 이후 약 30년 만에 처음이라고 전했습니다 이날 도미닉 라브 영국 외무장관은 이번 제재는 영국과 미국 캐나다 EU 27개국이 벌이는 집중외교inensive diocy라고 표현했습니다 22일현지시간 시진핑왼쪽 위 중국 국가주석을 압박하는 서구권 공동 제재를 발표 후 유럽 동맹국 방문차 벨기에 브뤼셀에 도착한 토니 블링컨 미국 국무부 장관 출처 블링컨 장관 트위터 미국 재무부 해외자산통제국OFAC도 이날 추가로 왕쥔정과 천밍궈 등 현직 중국 관리 2명을 제재했다 앤드리아 각키 OFAC 국장은 신장에서 잔인한 학대 행위가 발생하는 한 중국은 계속 결과에 직면할 것이라고 경고했습니다 지난 주말 알래스카에서 열린 미·중 고위급 회담에 참석했던 토니 블링컨 미국 국무장관도 오늘 우리 동맹국들이 중국의 인권침해에 대응해 내놓은 강력한 제재에 박수를 보낸다면서 우리는 같은 생각을 가진 협력자들과 추가 조치를 취해 중국의 범죄를 끝낼 것이라고 강조했습니다 블링컨 장관은 오는 2225일 EU본부가 있는 벨기에 브뤼셀을 방문해 나토NATO·북대서양조약기구 외무장관 회의에 참석하고 EU 지도자들과 만남 계획입니다 한편에선 중국도 맞대응에 나섰죠 중국 외교부는 악의적으로 거짓·허위정보를 퍼트린 EU 관련 개인 10명과 4개 단체를 제재한다고 밝혔습니다 이에 대해 호세프 보렐 EU 외교·안보 정책 고위대표는 중국은 또 문제를 눈 감고 외면하면서 그런 조치를 취했는 바 유감이며 용납할 수 없는 대응이라면서 EU와 영국 미국 캐나다의 제재 협력은 완벽하며 EU 결정중국 제재은 변화가 없다고 맞섰습니다 다만 글로벌 자금 움직임은 분위기가 다릅니다 지난 9일 투자은행 크레딧스위스AG 발표한 설문 조사 결과를 보면 헤지펀드·기관 투자책임자 200명 중 아시아·태평양 증시 순 매수 응답 비중이 55로 최근 10년 간 최고치를 기록했습니다 반면 미국을 중심으로 한 북미 증시 순 매수 응답은 절반이 안 되는 20 에 그쳤습니다 설문에 응한 200명이 굴리는 자산 규모는 총 8120억 달러약 917조6000억원에 달하는 데요 헤지펀드 투자자문 서비스업체인 앨번파트너스의 리처드 존스턴 아시아 지사장은 올해 중국 등 아시아 주요 증시에 헤지펀드 자금이 추가로 순 유입될 것으로 보인다면서 미국·캐나다 등 북미 기관 투자자들도 자산 포트폴리오에서 중국에 자산 1520 를 쏟아붓는 중이라고 언급했습니다 자산 30억 달러를 굴리는 APS자산운용의 궉 호이 왕 최고투자책임자CIO도 올해 23분기께 상당수 헤지펀드들이 아시아 증시 비중을 높이는 방향으로 운용 자산을 재배치할 것으로 보인다면서 이런 수요는 게임스톱·AMC 공매도에 따른 부담을 덜기 위한 차원이므로 헤지펀드들은 아시아 증시에서 리스크를 감수하기 보다는 안정적인 투자를 선호할 것이라고 내다봤습니다 미·중 고위급 회담이 입장 차만 확인하며 끝난 지난 19일 월스트리트저널WSJ은 중국 공산당 지도부가 중국 군인·국영기업 직원들에 대해 정보 유출 우려를 들어 테슬라 전기차를 타지 말라는 사용 제한령을 내렸다고 전한 바 있습니다 중국 정부는 글로벌 기술 교류를 강조하면서도 전기차 등 자동차 산업 완전 독립을 선언한 상태입니다 중국에서는 중국 기업 비야디BYD가 워런 버핏 버크셔해서웨이 회장 등의 투자를 받으며 빠르게 세를 키워왔죠 다만 버핏 회장은 오래 전부터 테슬라에는 투자하지 않을 생각을 확고히 비쳐왔습니다 자이앤트레터는 매일경제가 미국 등 글로벌 자본시장의 최신 흐름을 짚어주는 연재물입니다 자이앤트레터는 네이버 포스트에서 검색하시면 무료 구독 가능합니다 김인오  return 받은값\n"
     ]
    },
    {
     "name": "stderr",
     "output_type": "stream",
     "text": [
      "C:\\Users\\user\\anaconda3\\envs\\py38_64\\lib\\site-packages\\urllib3\\connectionpool.py:981: InsecureRequestWarning: Unverified HTTPS request is being made to host 'www.mk.co.kr'. Adding certificate verification is strongly advised. See: https://urllib3.readthedocs.io/en/latest/advanced-usage.html#ssl-warnings\n",
      "  warnings.warn(\n"
     ]
    },
    {
     "name": "stdout",
     "output_type": "stream",
     "text": [
      "{'http-equiv': 'Content-Type', 'content': 'text/html; charset=euc-kr'}\n",
      "content:text/html; charset=euc-kr\n",
      "euc-kr\n",
      "1664 start\n",
      "http://www.enewstoday.co.kr/news/articleView.html?idxno=1462818 : 사전회생계획(P플랜)에 사활을 걸고 있는 쌍용차가 회계법인으로부터 감사 의견 거절을 받으면서 상장 폐지 위기에 몰렸다. 23일 금융감독원 전자공시시스템에 따르면 쌍용차는 지난해 회계연도와 관련해...\n",
      "UTF-8\n",
      "1251 start\n",
      "사전회생계획P플랜에 사활을 걸고 있는 쌍용차가 회계법인으로부터 감사 의견 거절을 받으면서 상장 폐지 위기에 몰렸다 23일 금융감독원 전자공시시스템에 따르면 쌍용차는 지난해 회계연도와 관련해 삼정회계법인에서 감사의견 거절을 받은 감사보고서를 한국거래소에 제출했다 계속기업 존속 불확실성과 내부회계관리제도 검토의견 비적정 등이 이유다 삼정회계법인은 “재무구조 악화 등으로 영업손실 4494억원과 당기순손실 5043억원이 발생했고 유동부채가 유동자산보다 7818억원 초과하고 있다”며 “회생절차 개시를 신청하고 채권단 잠재적 투자자와 원활한 협의를 위한 ARS 프로그램을 진행 중인데 이런 상황은 계속기업으로 존속 능력에 유의적 의문을 제기한다”고 소견을 보였다 한국거래소의 유가증권시장 상장 규정 48조에 따르면 최근 사업연도의 개별재무제표 또는 연결재무제표에 대한 감사의견이 부적정이거나 의견 거절이면 거래소에서 해당 보통주권을 상장 폐지할 수 있다 한국거래소는 이날 “쌍용차 주권이 상장폐지 기준에 해당됨에 따라 상장폐지 절차가 진행된다”고 공시했다 이의신청시한은 다음달 13일이다 저작권자 © 이 return 받은값\n",
      "UTF-8\n",
      "1251 start\n",
      "http://news.kbs.co.kr/news/view.do?ncd=5146105&ref=A : 지난해 울산지역 주식 투자자가 크게 증가한 것으로 나타났습니다. 한국예탁결제원은 지난해 말 기준 울산의 상장법인 주식 소유자는 25만 7천여 명으로 일년 전에 비해 6만 2천여 명, 31.9% 증가했다고 밝혔습니다....\n",
      "UTF-8\n",
      "842 start\n",
      "1144 start\n",
      "지난해 울산지역 주식 투자자가 크게 증가한 것으로 나타났습니다한국예탁결제원은 지난해 말 기준 울산의 상장법인 주식 소유자는 25만 7천여 명으로 일년 전에 비해 6만 2천여 명 319 증가했다고 밝혔습니다울산 전체 인구수 대비 주주 비율도 226로 전국 17개 시도 가운데 252인 서울 다음으로 높았습니다또 울산지역 투자자들의 보유 주식수는 10억 7540만 주로 전국 보유 주식 비중의 11를 기록했습니다  return 받은값\n",
      "UTF-8\n",
      "842 start\n",
      "1144 start\n",
      "http://www.businesspost.co.kr/BP?command=article_view&num=223131 : 데브시스터즈 주식 매수의견이 새로 제시됐다. 데브시스터즈는 '쿠키런:킹덤'의 흥행으로 올해 상반기 안에 6년 동안의 누적 적자를 해결하고 흑자전환할 수 있을 것으로 전망됐다. 이지훈 데브시스터즈 대표이사....\n",
      "UTF-8\n",
      "361 start\n",
      "데브시스터즈 주식 매수의견이 새로 제시됐다 데브시스터즈는 쿠키런킹덤의 흥행으로 올해 상반기 안에 6년 동안의 누적 적자를 해결하고 흑자전환할 수 있을 것으로 전망됐다 ▲ 이지훈 데브시스터즈 대표이사 이창영 유안타증권 연구원은 24일 데브시스터즈 목표주가를 15만 원 투자의견 매수BUY를 새로 제시했다 23일 데브시스터즈 주가는 9만9900원에 거래를 마쳤다 이 연구원은 1월 출시된 게임 쿠키런킹덤의 흥행 성공으로 6년 누적 적자를 2021년 상반기에 해결할 수 있을 것으로 보인다며 지난 2개월 동안 주가가 6배 이상 올랐음에도 불구하고 추가적으로 상승할 여력이 있다고 말했다 쿠키런킹덤은 1월21일에 출시된 왕국 건설을 소재로 한 모바일 역할수행게임RPG이다 이 연구원은 역할수행게임 특성상 캐릭터를 키우는데 게임 이용자들은 돈과 시간을 필요로 한다며 일단 어느정도 흥행이 지속되면 게임 이용자들이 이미 투자한 비용을 고려하기 때문에 게임 수명이 상대적으로 오래간다고 설명했다 그는 쿠키런킹덤은 쿠키런 지식재산IP 캐릭터가 지속적으로 출시되는 등 콘텐츠 업데이트 원천도 풍부하다며 업데이트가 꾸준히 이어지면 사용자 트래픽이 늘고고 매출 역시 증가할 가능성이 높다고 내다봤다 현재 쿠키런의 130여 개 캐릭터 가운데 40여 개가 출시돼 있다 이 연구원은 실제로 2016년 출시한 쿠키런오븐브레이크는 역할수행게임 장르가 아닌 액션 러닝 게임이지만 캐릭터 등 콘텐츠가 지속적으로 업데이트 된 결과 출시 이듬해 매출 150억 원을 달성한 뒤 2020년 700억 원까지 해마다 매출이 증가한 적이 있다고 분석했다 게임이용자 구성을 다원화한 점과 해외시장의 현지화 전략 등도 추가적으로 쿠키런킹덤의 흥행을 이어갈 요인으로 꼽혔다 이 연구원은 국내 모바일게임시장이 3050대 남성 위주의 이용자 구성을 보이는 상황에서 20대 여성 이용자를 새로 유입시켰다며 매출 기반이 되는 게임 이용자 분포가 넓어져 경쟁 게임이 출시되더라도 매출에는 영향이 크지 않을 것이다고 바라봤다 이 연구원은 또 현재 쿠키런킹덤의 해외시장 매출비중이 2030를 차지하고 있는데 현지화 전략이 완료되면 추가적 매출 증가 가능성이 높다고 내다봤다 데브시스터즈는 올해 하반기에 순차적으로 건설 시뮬레이션 게임 브릭시티BRIXITY와 하드코어 슈팅액션배틀 게임 세이프 하우스SAFE HOUSE 쿠키런 지식재산 기반 3D 캐쥬얼 슈팅게임 쿠키런오븐스매쉬 등 새 게임을 선보일 것으로 알려졌다 이 연구원은 쿠키런오븐스매쉬가 하반기에 출시되면 쿠키런 시리즈의 충성도 높은 게임 이용자로 또 다시 흥행에 성공할 가능성이 높다며 장기적으로 볼 때 게임 흥행에 따른 현금 유입과 재무구조 개선은 우수 개발자 유입 증가를 낳아 회사의 개발능력 또한 증대될 것이다고 말했다 데브시스터즈는 2021년 연결기준으로 매출 3711억 원 영업이익 1571억 원을 낼 것으로 예상됐다 2020년 실적보다 매출은 422 증가하고 영업이익은 흑자전환하는 것이다 비즈니스포스트 김하민  return 받은값\n",
      "UTF-8\n",
      "361 start\n",
      "http://www.ggilbo.com/news/articleView.html?idxno=836092 : 에스트래픽, SK그룹인수 기대감에 +22% 강세 에스트래픽이 24일 오전 10시 40분께 +22.14%(1240원)상승한 6840원에 강세를 보이고 있다. 24일 아시아경제에 따르면 SK가 전기차 충전 사업을 활발히 펼치고 있는 코스닥 상장사...\n",
      "UTF-8\n",
      "주식 에스트래픽 SK그룹인수 기대감에 22 강세 < 금융증권 < 경제 < 기사본문 금강일보 주요서비스 바로가기 본문 바로가기 매체정보 바로가기 로그인 바로가기 기사검색 바로가기 전체서비스 바로가기 상단영역  return 받은값\n",
      "UTF-8\n",
      "https://www.news1.kr/articles/?4248567 : 잇따르면서 주식 발행을 통한 전체 자금조달 규모가 전년 대비 76.8% 증가한 것으로 나타났다. 또 개인투자자 등에 대한 보호를 위해 금융당국이 심사를 강화하면서 주식 증권신고서에 대한 정정요구 비율은 전년...\n"
     ]
    },
    {
     "name": "stderr",
     "output_type": "stream",
     "text": [
      "C:\\Users\\user\\anaconda3\\envs\\py38_64\\lib\\site-packages\\urllib3\\connectionpool.py:981: InsecureRequestWarning: Unverified HTTPS request is being made to host 'www.news1.kr'. Adding certificate verification is strongly advised. See: https://urllib3.readthedocs.io/en/latest/advanced-usage.html#ssl-warnings\n",
      "  warnings.warn(\n"
     ]
    },
    {
     "name": "stdout",
     "output_type": "stream",
     "text": [
      "{'name': 'referrer', 'content': 'unsafe-url'}\n",
      "{'http-equiv': 'Content-Type', 'content': 'text/html; charset=utf-8'}\n",
      "content:text/html; charset=utf-8\n",
      "utf-8\n",
      "1151 start\n",
      "잇따르면서 주식 발행을 통한 전체 자금조달 규모가 전년 대비 768 증가한 것으로 나타났다 또 개인투자자 등에 대한 보호를 위해 금융당국이 심사를 강화하면서 주식 증권신고서에 대한 정정요구 비율은 전년 대비 107 상승했다 정정요구 비율이 높은 기업일수록 실적이 부실하거나 최대주주 변경 등 경영안정성이 낮은 기업이 많았다 금융감독원이 22일 발표한 2020년 증권신고서 분석 및 투자자 유의사항을 보면 지난해 접수된 증권신고서는 총 556건으로 전년보다 60건121 증가했다 신고서 종류별로는 채권309건 주식211건 합병 등35건 순으로 많았다 건수 증가율은 주식241이 가장 높았다 증권신고를 통한 전체 자금조달 규모는 79조3000억원으로 전년보다 9조6000억원138 늘어났다 주식의 경우 대형사의 IPO 및 유상증자 추진 등으로 모집·매출 규모가 12조2000억원을 기록해 전년 대비 5조3000억원768 증가했다 빅히트엔터테인먼트와 SK바이오팜이 IPO를 통해 각각 9000억원의 자금을 조달했다 또 두산중공업은 1조2000억원 대한항공은 1조1000억원 규모로 유상증자를 실시했다 채권 발행규모는 63조원으로 전년보다 4조4000억원160 증가했다 기준금리 인하로 자금조달비용이 감소한 게 영향을 줬다 합병 분할 주식의 포괄적 교환·이전과 관련된 자금조달은 전년과 유사한 수준4조1000억원이었다 증권신고서 정정요구 비율97은 전년 대비 32포인트 상승했다 주식 증권신고서에 대한 정정요구 비율은 166로 전년 대비 107 상승했다 채권 증권신고서 정정요구 비율13은 전년10과 유사했고 합병 등에 관한 증권신고서 정정요구 비율417은 전년보다 177포인트 하락했다 주식 증권신고서에 대한 정정요구 비율이 크게 오른 것은 개인투자자 등 보호를 위해 금감원이 심사를 강화한 데 따른 것이다 주식·채권과 관련해서는 지배구조 변경26 및 신규사업 진출18 관련 기재 미흡 불명확한 자금조달 목적13 등 다양한 사유로 정정요구가 이뤄졌다 합병 등과 관련해서는 합병가액 및 산출근거38 투자위험 기재 미흡30으로 인한 정정요구가 많았다 특히 재무구조 및 경영 안정성이 취약한 기업총 39사을 대상으로 정정요구가 집중됐다 이들 기업의 평균 부채비율은 1665로 상장사 평균 부채비율672 보다 높고 대부분33사 당기순손실을 기록했다 또 최대주주 지분율이 10 이하8사이거나 신고서 제출 전후 6개월 간 대표이사·최대주주가 변경8사되는 등 경영 안정성이 낮은 편중복 포함 11사에 속했다 금감원 관계자는 증권신고서 효력발생시 금융당국이 증권신고서의 기재사항이 진실 또는 정확하다는 것을 인정하거나 증권의 가치를 보증하는 것은 아니라는 점을 유의해야 한다면서 공시정보에 대한 점검 및 분석을 통해 투자자가 유의할 사항을 지속적으로 안내하겠다고 했다 ej86 return 받은값\n"
     ]
    },
    {
     "name": "stderr",
     "output_type": "stream",
     "text": [
      "C:\\Users\\user\\anaconda3\\envs\\py38_64\\lib\\site-packages\\urllib3\\connectionpool.py:981: InsecureRequestWarning: Unverified HTTPS request is being made to host 'www.news1.kr'. Adding certificate verification is strongly advised. See: https://urllib3.readthedocs.io/en/latest/advanced-usage.html#ssl-warnings\n",
      "  warnings.warn(\n"
     ]
    },
    {
     "name": "stdout",
     "output_type": "stream",
     "text": [
      "{'name': 'referrer', 'content': 'unsafe-url'}\n",
      "{'http-equiv': 'Content-Type', 'content': 'text/html; charset=utf-8'}\n",
      "content:text/html; charset=utf-8\n",
      "utf-8\n",
      "1151 start\n",
      "http://www.businesspost.co.kr/BP?command=article_view&num=223201 : 주식 플랫폼 증권플러스를 운영하고 있는 두나무가 비상장주식 거래 플랫폼 '증권플러스 비상장'에 주식거래 체결의 편의성을 높이는 서비스를 선보였다. 두나무는 증권플러스 비상장에 '바로주문'기능을 추가했다고 24일...\n",
      "UTF-8\n",
      "364 start\n",
      "주식 플랫폼 증권플러스를 운영하고 있는 두나무가 비상장주식 거래 플랫폼 증권플러스 비상장에 주식거래 체결의 편의성을 높이는 서비스를 선보였다 두나무는 증권플러스 비상장에 바로주문’기능을 추가했다고 24일 발표했다 ▲ 두나무는 증권플러스 비상장에 바로주문’ 기능을 추가했다고 24일 발표했다 당초 비상장주식 거래는 매도자와 매수자 사이에 거래는 직접 협의를 거치는 방식으로 진행됐다 바로주문은 판매자가 지정한 가격 또는 수량 그대로 별도 협의 없이 바로 체결할 수 있는 주문방식이다 증권플러스 비상장에서 1천만 원 이하 비상장 주식을 거래할 때 이용할 수 있다 비상장 주식 판매자가 팝니다’ 게시판에 매물을 올릴 때 바로주문을 선택하고 매도 주식 수량과 주당 가격을 입력해 등록해 두면 매수자가 협의 과정 없이 바로 비상장 주식을 매수할 수 있다 반대로 매수 희망자가 삽니다’ 게시판에 바로주문 유형으로 원하는 조건의 거래를 제시하는 방법도 가능하다 입력된 게시글 조건에 매도를 원하는 판매자가 나타나면 즉시 거래가 체결된다 매도자와 매수자 사이에 자유롭게 11 협의를 거치는 협의주문도 여전히 사용할 수 있다 당사자 사이에 주식 수량과 가격 협의가 완료되면 즉시 이체가 진행되는 방식이다 두나무 관계자는 “투자자들이 더욱 빠르고 편리하게 거래할 수 있도록 바로주문기능을 추가하게 됐다“며 “안전하고 간편한 투자 환경 조성을 위해 다양한 노력을 계속하겠다“고 말했다 비즈니스포스트 윤종학  return 받은값\n",
      "UTF-8\n",
      "364 start\n",
      "https://news.jtbc.joins.com/article/article.aspx?news_id=NB11997543 : #직장인 김모 씨(36)는 2년 전부터 주식과 암호화폐에 관심을 갖게 됐습니다. 암호화폐와 주식 거래를 일 하는 틈틈이 해봤지만, 신경이 많이 쓰이고 피로도가 높아 잘 안 맞는다고 생각했습니다. 신경을 좀 덜 쓸 수 있는...\n",
      "utf-8\n",
      "241 start\n",
      "직장인 김모 씨36는 2년 전부터 주식과 암호화폐에 관심을 갖게 됐습니다 암호화폐와 주식 거래를 일 하는 틈틈이 해봤지만 신경이 많이 쓰이고 피로도가 높아 잘 안 맞는다고 생각했습니다 신경을 좀 덜 쓸 수 있는 투자 방법을 찾다가 인공지능AI 기반 투자 일임형 앱을 알게 됐습니다 김 씨는 지난해 10월 이 앱에서 1000만원을 투자해 현재까지 68 정도의 수익률을 달성했습니다 직장인 김모 씨가 안정적인 투자 성향을 보이자 AI가 포트폴리오를 위의 그림처럼 짰다 사진김모 씨 김 씨는 수익률이 높지 않더라도 장기적으로 안정적인 수익을 내고 싶었습니다 가입 시 투자 성향을 체크할 때 안정적으로 적었습니다 이에 따라 AI가 짠 현재 김 씨의 포트폴리오는 미국 주식 25 선진국 주식 13 신흥국 주식 7 부동산·원자재 8 채권·현금이 47입니다 김 씨는 주식 장이 좋을 때는 일반인도 수익을 낼 수 있지만 장이 안 좋을 때는 잃기 쉽다 현재 IT 기술이 위험을 헷지할 수 있을 정도로 발전돼 있다고 해서 AI 투자를 이용하고 있고 신경을 덜 써도 돼서 좋다고 말했습니다 직장인 김동욱 씨39는 최근 주식 AI 자동매매 투자를 시작했습니다 직접투자로도 한 달 새 100의 큰 수익을 낸 적도 있지만 한 번의 실수로 수백만원을 날려보기도 했습니다 특히 투자금을 수천만원대로 늘리다 보니 전체 자금 운용이 만만치 않았습니다 수익을 잘 내기 위해서는 신경도 많이 쓰여서 업무에 지장이 가기도 했습니다 김 씨는 그러다가 자동매매 투자를 알게 됐습니다 직접 코딩을 짤 수는 없었지만 알고리즘을 짤 수 있는 툴을 제공해주는 프로그램이 있었고 관심을 갖기 시작했습니다 김씨는 퇴근 후 아기를 재운 뒤 밤에 유튜브와 블로그를 뒤지며 수익률이 높은 알고리즘을 연구했습니다 직접 짠 알고리즘을 과거 시장 데이터로 시뮬레이션을 돌려볼 수 있어 이를 통해 알고리즘을 조금씩 개선하는 작업을 했습니다 김동욱 씨가 만든 알고리즘을 이용한 AI 자동매매는 코스피와 코스닥의 시장 수익률을 앞서고 있다 사진김동욱 직접투자보다 낫겠다는 확신을 가진 김 씨는 실전매매를 시작했습니다 알고리즘을 실전매매에 적용시키면 AI 프로그램이 자동으로 추천주를 뽑아 알아서 매매합니다 2월 말부터 한달 만에 6 정도의 수익을 냈습니다 이미 한 종목은 36의 수익을 내고 매도했고 한 종목은 19의 수익률을 내고 있는 중입니다 김 씨는 하락장에 잠시 손실이 나기도 했지만 금세 회복했고 시장 수익률을 앞서는 수익을 내고 있어 만족스럽다고 했습니다 특히 낮에 신경 쓸 필요가 없고 틈틈이 심심할 때 수익률 확인만 하면 된다는 점이 장점이라고 설명했습니다 김 씨는 당장 큰 수익에 욕심을 부리기 보다 차곡차곡 자산이 늘어나기를 기다리는 지금 더 좋다고 말했습니다 이 흐름대로만 가준다면 김동욱 씨의 연환산 수익률은 96가 된다 사진김동욱 주식 열풍에 AI 투자에 대한 관심이 커지고 있습니다 AI가 사람 대신 직접 투자해주는 것입니다 일명 로보어드바이저 로보트Robo와 어드바이저Advisor 조언자의 합성어입니다 로보어드바이저는 인공지능 알고리즘 빅데이터 등을 활용해 투자자의 투자성향 리스크 선호도 목표수익률 등을 분석합니다 그 결과를 바탕으로 투자 자문이나 자산운용 등 온라인 자산관리서비스를 제공하는 겁니다 로보어드바이저는 시장 상황과 투자자 성향을 분석해 개인형 맞춤 포트폴리오를 만들어 관리해준다는 점에서 주목을 받고 있습니다 기존 자산관리 회사가 일정 금액 이상을 맡겨야 운용해줬다면 AI 투자는 스마트폰에 앱을 깔고 소액부터 투자 가능해 젊은층의 접근이 훨씬 쉽습니다 서비스 제공 과정에서 사람이 개입하는 비용을 최소화해 수수료도 더 저렴합니다 로보어드바이저를 이용한 투자에는 크게 두 가지 종류가 있습니다 투자 자문형과 일임형입니다 자문형은 금융회사의 자문 또는 운용인력이 로보어드바이저의 자산배분 결과를 활용해 고객에게 자문합니다 일임형은 고객 자산을 직접 운용하는 형태입니다 하지만 로보어드바이저를 이용해 투자할 때에도 주의가 필요합니다 무조건 수익이 나는 것이 아닌데다 AI가 운용해 주는 듯이 속여 투자자를 모으는 불법 업체들도 있기 때문입니다 금융감독원이 지난해 적발한 불법 유사투자자문업자 중에는 AI 주식투자 프로그램이라고 광고한 업체도 있었습니다 AI가 투자 방식을 바꿔놓고 있지만 책임은 결국 투자자가 져야하는 만큼 신중한 투자가 필요합니다 취재 서영지 산업팀  return 받은값\n"
     ]
    },
    {
     "name": "stderr",
     "output_type": "stream",
     "text": [
      "C:\\Users\\user\\anaconda3\\envs\\py38_64\\lib\\site-packages\\urllib3\\connectionpool.py:981: InsecureRequestWarning: Unverified HTTPS request is being made to host 'news.jtbc.joins.com'. Adding certificate verification is strongly advised. See: https://urllib3.readthedocs.io/en/latest/advanced-usage.html#ssl-warnings\n",
      "  warnings.warn(\n",
      "C:\\Users\\user\\anaconda3\\envs\\py38_64\\lib\\site-packages\\urllib3\\connectionpool.py:981: InsecureRequestWarning: Unverified HTTPS request is being made to host 'news.jtbc.joins.com'. Adding certificate verification is strongly advised. See: https://urllib3.readthedocs.io/en/latest/advanced-usage.html#ssl-warnings\n",
      "  warnings.warn(\n"
     ]
    },
    {
     "name": "stdout",
     "output_type": "stream",
     "text": [
      "utf-8\n",
      "241 start\n",
      "https://www.sedaily.com/NewsView/22JX4F5MRH : 주식 투자 열풍에 주식거래 활동 계좌 수가 처음으로 4,000만 개를 넘어섰다. 4,300만 명 남짓인 국내 성인 인구를 감안할때 ‘1인 1주식 계좌’ 시대가 열렸다. 23일 금융 투자 업계에 따르면 지난 19일 현재...\n"
     ]
    },
    {
     "name": "stderr",
     "output_type": "stream",
     "text": [
      "C:\\Users\\user\\anaconda3\\envs\\py38_64\\lib\\site-packages\\urllib3\\connectionpool.py:981: InsecureRequestWarning: Unverified HTTPS request is being made to host 'www.sedaily.com'. Adding certificate verification is strongly advised. See: https://urllib3.readthedocs.io/en/latest/advanced-usage.html#ssl-warnings\n",
      "  warnings.warn(\n"
     ]
    },
    {
     "name": "stdout",
     "output_type": "stream",
     "text": [
      "utf-8\n",
      "1483 start\n",
      "주식 투자 열풍에 주식거래 활동 계좌 수가 처음으로 4000만 개를 넘어섰다 4300만 명 남짓인 국내 성인 인구를 감안할때 1인 1주식 계좌’ 시대가 열렸다23일 금융 투자 업계에 따르면 지난 19일 현재 주식 활동 계좌는 총 4006만 7529개로 집계됐다 viewer 지난달 말 기준 우리나라 주민등록 인구수가 5182만 명으로 20세 이상이 4312만 명인 점을 감안하면 대부분 1명에 1개꼴로 계좌를 가지고 있는 셈이다주식거래 활동 계좌는 신종 코로나바이러스 감염증코로나19이 확산하던 지난해 3월 6일 3000만 개를 넘어선 후 약 1년 만에 1000만 개가 증가했다지난해 말만 해도 3548만 개였던 증권 계좌는 연초 주식 열풍이 이어지며 올해만 500만 개 가까이가 늘었다 주식거래 활동 계좌 수는 2007년 7월 31일 처음 1000만 개를 넘었고 약 5년 뒤인 2012년 5월 17일코스피 184524 2000만 개를 돌파한 바 있다양사록  return 받은값\n"
     ]
    },
    {
     "name": "stderr",
     "output_type": "stream",
     "text": [
      "C:\\Users\\user\\anaconda3\\envs\\py38_64\\lib\\site-packages\\urllib3\\connectionpool.py:981: InsecureRequestWarning: Unverified HTTPS request is being made to host 'www.sedaily.com'. Adding certificate verification is strongly advised. See: https://urllib3.readthedocs.io/en/latest/advanced-usage.html#ssl-warnings\n",
      "  warnings.warn(\n"
     ]
    },
    {
     "name": "stdout",
     "output_type": "stream",
     "text": [
      "utf-8\n",
      "1483 start\n",
      "http://www.ggilbo.com/news/articleView.html?idxno=836158 : 스튜디오산타클로스, 넥스턴 인수, 신사업 준비에 +24% 강세 스튜디오산타클로스가 24일 오후 13시 24분께 +24.64%(515원)상승한 2605원에 거래되며 강세를 보이고 있다. 24일 스튜디오산타클로스가 넥스턴을 인수하는 과정 중...\n",
      "UTF-8\n",
      "주식 스튜디오산타클로스 넥스턴 인수 신사업 준비에 24 강세 < 금융증권 < 경제 < 기사본문 금강일보 주요서비스 바로가기 본문 바로가기 매체정보 바로가기 로그인 바로가기 기사검색 바로가기 전체서비스 바로가기 상단영역  return 받은값\n",
      "UTF-8\n"
     ]
    },
    {
     "name": "stderr",
     "output_type": "stream",
     "text": [
      "C:\\Users\\user\\anaconda3\\envs\\py38_64\\lib\\site-packages\\urllib3\\connectionpool.py:981: InsecureRequestWarning: Unverified HTTPS request is being made to host 'search.naver.com'. Adding certificate verification is strongly advised. See: https://urllib3.readthedocs.io/en/latest/advanced-usage.html#ssl-warnings\n",
      "  warnings.warn(\n"
     ]
    },
    {
     "name": "stdout",
     "output_type": "stream",
     "text": [
      "http://news.kmib.co.kr/article/view.asp?arcid=0924183780&code=11151100&cp=nv : 근로소득을 모으는 것보다 주식·부동산 투자를 통해 자산소득을 늘리는 게 더 확실한 재테크 수단이라는... 9%가 가장 유망한 소득향상 수단으로 주식, 부동산 등을 통한 재테크를 꼽았다. 20대와 40대는 재테크 수단...\n",
      "{'http-equiv': 'Content-Type', 'content': 'text/html; charset=euc-kr'}\n",
      "content:text/html; charset=euc-kr\n",
      "euc-kr\n",
      "141 start\n",
      "근로소득을 모으는 것보다 주식·부동산 투자를 통해 자산소득을 늘리는 게 더 확실한 재테크 수단이라는 인식이 국민들 사이에 자리 잡고 있는 것으로 조사됐다한국경제연구원이 22일 발표한 일자리 전망 국민 인식’ 조사 결과에 따르면 만 18세 이상 남녀 1000명응답자 기준 중 329가 가장 유망한 소득향상 수단으로 주식 부동산 등을 통한 재테크를 꼽았다20대와 40대는 재테크 수단 중 주식을 가장 선호하는 것으로 조사됐다 반면 30대 50대 60대 이상은 부동산을 가장 유망한 재테크 수단으로 꼽았다 가상암호화폐에 대한 기대도 높은 것으로 나타났다 20대는 주식 부동산에 이어 암호화폐95가 유망할 것으로 내다봤다 40대 응답자의 94도 암호화폐를 선호 재테크 수단으로 선정했다 그 외는 업무 역량 강화 및 승진149 창업91 이직78 등이 뒤를 이었다이같은 조사 결과는 월급 상승에 대한 기대가 크지 않기 때문으로 풀이된다 응답자 10명 중 7명689은 물가 대비 월급이 오르지 않을 것이라고 전망했다 향후 고용상황에 대해서도 부정적인 전망이 주를 이뤘다 응답자의 446는 코로나19 이전2019년보다 올해 고용상황이 매우 악화할 것이라고 전망했다 조금 악화할 것이라고 내다본 응답자도 327에 달했다 특히 20대 응답자 중 매우 개선될 것으로 기대한 사람은 전무해 청년층이 미래 고용시장을 가장 암울하게 내다보는 것으로 조사됐다업종별로는 숙박·음식점225 기계·선박·철강174의 일자리 감소가 두드러질 것으로 예상됐다 반면 반도체214 바이오 등 신사업206 등의 분야에서는 새로운 일자리가 등장할 것으로 전망됐다 고용 악화의 원인으로는 코로나19 지속453 국회·정부의 기업규제 강화263 등이 지목됐다 고용 상황 개선을 위해서는 기업 규제 완화249 고용시장 유연화219 등이 과제로 꼽혔다권민지  return 받은값\n",
      "{'http-equiv': 'Content-Type', 'content': 'text/html; charset=euc-kr'}\n",
      "content:text/html; charset=euc-kr\n",
      "euc-kr\n",
      "141 start\n",
      "http://www.ggilbo.com/news/articleView.html?idxno=836130 : 형지 I&C, 美 아마존까지 시장이 커져 기대감에 상한가 달성 +29% 의류 제조업체 형지I&C가 24일 미국 아마존 입점 소식에 가격제한선까지 올랐다. 형지I&C는 24일 오전 9시43분께 +29.64%(375원)상승한 1640원에 거래되고...\n",
      "UTF-8\n",
      "주식 형지 IC 美 아마존까지 시장이 커져 기대감에 상한가 달성 29 < 금융증권 < 경제 < 기사본문 금강일보 주요서비스 바로가기 본문 바로가기 매체정보 바로가기 로그인 바로가기 기사검색 바로가기 전체서비스 바로가기 상단영역  return 받은값\n",
      "UTF-8\n",
      "http://www.newsis.com/view/?id=NISX20210322_0001379018&cID=15001&pID=15000 : 미공개정보 이용이나 시세조종 등 주식 불공정거래에 대한 검찰의 수사·처분 결과 통보 전 금융위원회가 먼저 과징금을 부과할 수 있도록 하는 '자본시장과 금융투자업에 관한 법률' 개정안의 국회 통과가 또 다시...\n"
     ]
    },
    {
     "name": "stderr",
     "output_type": "stream",
     "text": [
      "C:\\Users\\user\\anaconda3\\envs\\py38_64\\lib\\site-packages\\urllib3\\connectionpool.py:981: InsecureRequestWarning: Unverified HTTPS request is being made to host 'newsis.com'. Adding certificate verification is strongly advised. See: https://urllib3.readthedocs.io/en/latest/advanced-usage.html#ssl-warnings\n",
      "  warnings.warn(\n"
     ]
    },
    {
     "name": "stdout",
     "output_type": "stream",
     "text": [
      "UTF-8\n",
      "1055 start\n",
      "미공개정보 이용이나 시세조종 등 주식 불공정거래에 대한 검찰의 수사·처분 결과 통보 전 금융위원회가 먼저 과징금을 부과할 수 있도록 하는 자본시장과 금융투자업에 관한 법률 개정안의 국회 통과가 또 다시 불발됐다 최근 현대차그룹 임원들이 애플카 개발과 관련한 미공개 정보를 이용해 부당이득을 취했다는 의혹이 불거지면서 이 법안에 대한 관심이 높아졌지만 결국 의원들간 합의를 이루지 못했다 23일 금융권에 따르면 국회 정무위원회는 전날 국회에서 열린 제2차 법안심사제1소위원회에서 불공정거래에 대해 과징금을 도입하는 내용의 자본시장과 금융투자업에 관한 법률 개정안에 대해 논의했으나 처리하지 못했다 금융당국 관계자는 이날 법안소위에서 치열한 논의가 이뤄졌지만 결국 의원들간 일부 쟁점을 둘러싸고 이견을 좁히지 못했다고 말했다 개정안은 미공개중요정보 이용 시세조종 부정거래 등 불공정거래에 따른 부당이득금액의 2배 이하의 범위에서 과징금을 부과할 수 있도록 규정하는 것이 골자다 부당이득금액이 없거나 산정이 곤란한 경우 50억원 이하의 과징금을 부과할 수 있다 특히 개정안이 시행되면 금융위는 검찰로부터 불공정거래 혐의자에 대한 수사·처분결과를 통보받기 전 과징금 부과를 할 수 있게 된다 또 금융위는 검찰로부터 수사 관련 자료도 제공받을 수 있게 된다 그러나 금융권에 따르면 지난 2월 임시국회와 지난주 법안소위 당시와 마찬가지로 플리바게닝유죄협상제에 대한 의원들의 우려가 컸던 것으로 전해졌다 개정안은 불공정거래행위를 자진신고하거나 내부증언으로 범죄 해결에 협조한 자에 대해 형을 감면하는 인센티브를 부여하는 등의 내용을 담고 있다 일부 의원들은 이 조항이 기존에 인정되지 않았던 형사사법제도인 플리바게닝을 도입시키는 결과가 될 수 있어 보다 신중한 논의와 추가적인 보완이 필요하다는 입장을 나타낸 것으로 전해졌다 또 수사 자료를 금융위에 제공할 때 필요 최소한의 범위 내에서 이뤄져야 하며 부당이득액 입증책임과 관련해 형사처벌시 입증책임 전환은 위헌 논란이 있을 수 있다는 의견도 나온 것으로 알려졌다 그러나 금융위는 법무부 검찰 등 관계기관 간 오랜기간 협의를 통해 합의한 만큼 우선 보완적 수단으로라도 먼저 도입한 뒤 단계적으로 제도를 확대하는 방안도 검토할 필요가 있다는 입장이다 최근 들어 자본시장의 거래규모가 확대되고 기술이 발전하면서 불공정거래 수법이 지능화·조직화되고 있지만 현행법상 징역이나 벌금 등 형사처벌만 가능해 신속하고 효과적인 처벌에 한계가 있다는 지적이 끊이지 않았다 형사절차는 수사·소송 등에 오랜 시간이 소요되고 엄격한 입증책임을 요구하기 때문이다 통상 불공정거래 사건은 한국거래소가 시장감시 및 심리 후 혐의사실을 금융위에 이첩하면 신속한 사건인 경우 금융위 자본시장조사단에 일반 사건은 금융감독원 조사국으로 분류한다 이후 금융위 산하 증권선물위원회가 검찰 고발·통보 조치를 의결하면 검찰의 수사 및 기소를 거쳐 법원 판결로 사건은 종결된다 지난 20112016년 기준 증선위가 불공정거래행위로 검찰에 통보한 사건이 검찰의 기소·불기소 처분을 받기까지는 평균 393일이 소요됐고 2019년 기준 전체 형사사건에서 검찰이 피고인을 기소한 이후 대법원에서 판결이 확정되기까지는 평균 129개월의 기간이 소요됐다 결국 불공정거래행위의 검찰 통보부터 대법원 판결 확정까지 약 2년 이상의 장기간이 소요되는 것이다 또 위법성이 경미하다는 이유로 불기소 또는 집행유예 이하의 판결이 선고되는 경우도 많다 대법원 양형위원회에 따르면 2018년 불공정거래 사건으로 유죄가 선고된 피고인 92명 중 실형 선고가 37명402 집행유예 선고가 55명598으로 집행유예 선고비율이 높게 나타났다 해외 주요국들을 살펴보면 미국과 영국은 각각 민사제재금을 부과할 수 있고 일본도 과징금을 우선 부과하며 형사처벌을 보충적으로 적용하고 있다 특히 미국은 불공정거래행위에 대한 민사제재금은 증권거래위원회SEC가 직접 부과하거나 법원에 청구해 부과할 수 있고 형사처벌을 목적으로 하는 검찰 고발과 병과도 가능하다 금융위는 불공정거래 행위에 먼저 과징금을 부과할 수 있게 되면 형사처벌보다 신속하고 실효성 높은 처벌이 이뤄질 것으로 보고 있다 형사처벌은 입증이 명확해야 유죄가 나오는 반면 행정처벌은 조금 더 완화된 입증만으로 처벌이 가능하기 때문에 보다 높은 규제 효과가 기대된다는 것이다 그러나 이날 법안소위 통과가 불발된 만큼 자본시장법 개정안에 대한 국회 논의는 다음 기회로 넘어가게 됐다 여야는 구체적인 다음달 중 법안소위 일정을 조율한 후 추가적인 논의를 이어갈 것으로 예상된다 금융당국 관계자는 구체적인 논의 시점은 알 수 없지만 다음달 임시국회에서 다시 논의가 있을 것으로 기대한다며 개정안이 시행되면 다양한 불공정거래 행위에 대해 더욱 신속하고 실효성있는 제재 수단을 신설할 수 있게 되는 만큼 국회 통과를 위해 노력하겠다고 말했다 한편 이날 금융권의 관심이 집중됐던 또 다른 금융법안인 전자금웅거래법 개정안도 결국 논의가 이뤄지지 못했다 전금법 개정안은 지급지시전달업마이페이먼트·My Pyen 종합지급결제사업자 등 신규 라이선스 도입과 진입규제 합리화를 포함한 전자금융업 규율체계 개편 대금결제업자에 대한 후불결제업무소액 허용과 같은 디지털 금융산업 정비·육성 관련 내용을 담고 있다 특히 한국은행과 금융위가 극심한 갈등을 빚고 있는 사안인 만큼 이날 논의 결과에 관심이 쏠렸지만 자본시장법 개정안 등 타 법안들에 대한 논의가 길어지면서 결국 상정이 불발됐다 전금법에 대한 논의도 추후 다시 진행될 것으로 보인다 ◎공감언론 뉴시스 chnn224 return 받은값\n"
     ]
    },
    {
     "name": "stderr",
     "output_type": "stream",
     "text": [
      "C:\\Users\\user\\anaconda3\\envs\\py38_64\\lib\\site-packages\\urllib3\\connectionpool.py:981: InsecureRequestWarning: Unverified HTTPS request is being made to host 'newsis.com'. Adding certificate verification is strongly advised. See: https://urllib3.readthedocs.io/en/latest/advanced-usage.html#ssl-warnings\n",
      "  warnings.warn(\n"
     ]
    },
    {
     "name": "stdout",
     "output_type": "stream",
     "text": [
      "UTF-8\n",
      "1055 start\n",
      "http://www.newsrep.co.kr/news/articleView.html?idxno=175640 : 경기도주식회사가 포천 지역 내 배달특급 활성화를 위해 지역 커뮤니티와 힘을 합치기로 했다. 경기도주식회사는 한국외식중앙회 포천시지부, 포천시 맘카페 나포맘과 경기도 공공배달앱 홍보 활성화를 위한 지역...\n",
      "UTF-8\n",
      "744 start\n",
      "경기도주식회사가 포천 지역 내 배달특급 활성화를 위해 지역 커뮤니티와 힘을 합치기로 했다 경기도주식회사는 한국외식중앙회 포천시지부 포천시 맘카페 나포맘과 경기도 공공배달앱 홍보 활성화를 위한 지역 커뮤니티 업무협약을 체결했다고 24일 밝혔다 이에 따라 세 기관은 경기도 공공배달앱 배달특급의 성공적인 안착을 위해 회원 또는 제휴사를 대상으로 신규 가맹점 및 소비자 홍보에 적극 협력하게 된다 또 소상공인과 소비자들에게 공공의 가치를 실현할 수 있도록 앞장서는 등 배달특급을 통한 포천 지역 경제 활성화에 힘쓰기로 했다 이날 기준 포천 지역 배달특급 사전 가맹점 신청은 450건에 달하는 등 서비스 개시 전부터 뜨거운 관심을 받고 있다 앞서 한국외식업중앙회 포천시지부는 요식업 회원사를 대상으로 리플릿 배포 가맹점 연락 등 다양한 방법으로 배달특급 홍보에 주력해왔다 나포맘 역시 약 3만명의 회원에게 자체 홍보와 이벤트를 진행하는 등 배달특급 홍보를 위해 전방위로 활동했다 이석훈 경기도주식회사 대표이사는 ＂지역 밀착 지역민과의 협업이 사업 성공의 핵심＂이라며 ＂포천시민과 함께 공공배달앱 본연의 역할을 할 수 있도록 임직원 모두가 노력할 것＂이라고 말했다 이호용 한국외식업중앙회 포천시지부 사무국장은 ＂회원사 모두가 바라던 일이 이뤄졌다＂며 ＂지역과 배달특급을 위해 모두가 힘을 합치길 소망한다＂고 말했다 한성윤 나포맘 대표는 ＂지역 경제 활성화와 발전에 큰 축을 맡았다는 것에 책임감을 가지고 아낌없이 지원할 것＂이라고 말했다 이날 업무협약을 축하하기 위해 임종훈 포천시의회 의원도 자리를 빛냈다 그는 ＂모두가 상생할 수 있는 공공배달앱을 희망한다＂고 전했다 저작권자 ©  return 받은값\n",
      "UTF-8\n",
      "744 start\n",
      "http://news.khan.co.kr/kh_news/khan_art_view.html?artid=202103241044011&code=920301 : 주식에 투자할 수 있는 상품권이 나오고, 비싼 아마존 같은 비싼 미국주식을 소액으로 살 수 있는 한국투자증권의 금융상품이 2030세대에게 인기를 끌고 있다. 24일 한국투자증권은 지난해 3월 국내 최초로 출시한...\n",
      "euc-kr\n",
      "598 start\n",
      "주식에 투자할 수 있는 상품권이 나오고 비싼 아마존 같은 비싼 미국주식을 소액으로 살 수 있는 한국투자증권의 금융상품이 2030세대에게 인기를 끌고 있다 24일 한국투자증권은 지난해 3월 국내 최초로 출시한 온라인 금융상품권’이 1년만에 361만장이 판매됐다고 밝혔다 액수로는 약 1761억원어치다 20대와 30대가 상품권 등록 고객의 70를 차지한다 온라인 금융상품권은 주식 펀드 발행어음 등 한국투자증권에서 거래하는 모든 금융투자상품에 투자할 수 있는 상품권이다 사용하기 쉽고 선물도 편리한 게 인기의 이유라고 회사측은 설명한다 상품권은 11번가·G마켓·옥션 등 온라인 쇼핑몰에서 간단히 검색해 구매할 수 있다 가장 큰 특징은 금융투자 종자돈을 선물할 수 있다는 점이다 상품권은 5만원권 기준 1달 내 최대 2매까지 구입할 수 있다 그리고 상품권 등록은 1주일에 50만원까지 가능하다 구매하거나 선물받아 보유하고 있는 상품권이 많아도 실제 앱에 등록할 수 있는 것은 1주일에 50만원까지만 가능하다는 얘기다 선물 받거나 직접 구매한 상품권을 사용하려면 한국투자증권 계좌가 있어야 한다 보유한 상품권의 일련번호를 복사하고 한국투자’ 앱 금융상품권 메뉴에서 쿠폰번호를 붙여넣으면 액면가만큼의 금액이 계좌에 충전된다 이 금액으로 주식 채권 펀드 발행어음 등 한국투자증권에서 거래하는 모든 금융상품에 투자할 수 있다 특히 소수점 거래가 가능한 미니스탁’ 앱을 이용하면 이렇게 등록한 돈으로 비싼 해외주식을 쪼개 사는 것도 가능하다 예를 들어 미국의 알파벳은 현재 주당 가격이 200만원이 넘지만 미니스탁에선 1주 미만 소수점으로 주식을 살 수 있다 서비스를 이용하려면 먼저 앱마켓에서 미니스탁 앱을 다운로드 받아 설치해야 한다 회원가입을 하고 주식거래를 할 한국투자증권 계좌를 등록하기만 하면 된다 미니스탁의 사용자환경UI은 미국 주식이라도 첫 화면부터 달러가 아닌 원 단위로 표시당일 최초고시환율로 환산돼 알아보기 쉽다 주문도 원화 단위로 한다 주문 단위는 01주 03주 같은 주식수가 아니라 금액 단위로 입력된다 즉 알파벳 주식 1000원어치 5000원어치 같은 방식이다 수수료는 주문 금액당 025다 올해 연말까지 1만원 이하월 10건 한도 거래는 수수료를 면제해준다 테마별로도 종목을 분류해 주고 쇼핑백 기능을 쓰면 여러 종목을 탐색하며 담아뒀다가 한꺼번에 주문을 넣을 수 있다 미니스탁의 거래는 오후 10시까지 주문을 취합해 그 날 밤 미국 거래소가 열린 뒤 그때의 시세로 매매를 진행해 체결 결과를 나중에 알려준다 이에 따라 주문 단계에서 내가 주문한 금액으로 정확히 몇 주의 주식을 매매할 수 있을지는 확정할 수 없다 대신 24시간 원하는 시간에 미국 주식을 거래할 수 있다는 장점이 있다 회사 측은 “금액단위 주문이라 포트폴리오 구성이 쉽다”면서 “밤 시간대에 이뤄지는 미국 증시 시황에 실시간으로 대응할 수는 없지만 장기적으로 좋은 미국 주식을 조금씩 사 모으는 투자법에 적합하다”고 설명했다 © 경향신문 경향닷컴 무단 전재 및 재배포 금지 페이스북 공유하기 트위터 공유하기 기사제보 지면구독신청 주요 기사 박원순 띄우는 임종석 “박원순 당선은 서울시민 생각 변했다는 것” 여성혐오를 분석한 논문 저자의 수업에 난입한 여성혐오’ 미얀마 군경이 쏜 총에 7살 소녀도 숨졌다 내버려졌던 도무송의 변신이런 게 아마도 예술인가봐 커버스토리학교로 돌아가지 못한 상큼한 김 선생’ 화보 싸움소들의 힘겨루기 인기 기사 1 단독구미 사망 세살배기 친모 병원 밖 셀프 출산’한 듯 2 힘 잃은 제3지대위기의 안철수 3 단독대한항공과 업무 중복’아시아나 2000여명 해고 위기 4 오세훈 489 박영선 292···좁혀지지 않는 격차 부동산 민심’이 문제 5 연이틀 박원순 띄운 임종석 “박원순 당선은 서울시민 생각 변했다는 방증” 6 박범계 임은정 SNS 신중했으면장관으로서 부탁 7 오세훈 용산공원에 박원순 이름 새 return 받은값\n",
      "euc-kr\n",
      "598 start\n",
      "https://www.sedaily.com/NewsView/22JX5H85QL : 전 거래일인 22일 ‘주식 초고수’들이 가장 많이 사들인 종목 역시 HMM이었다. 비덴트(121800), SK바이오사이언스, 신풍제약, 우리기술투자(041190) 순서로 매수가 많았다. 같은 날 가장 많이 판 종목도 HMM이었으며...\n"
     ]
    },
    {
     "name": "stderr",
     "output_type": "stream",
     "text": [
      "C:\\Users\\user\\anaconda3\\envs\\py38_64\\lib\\site-packages\\urllib3\\connectionpool.py:981: InsecureRequestWarning: Unverified HTTPS request is being made to host 'www.sedaily.com'. Adding certificate verification is strongly advised. See: https://urllib3.readthedocs.io/en/latest/advanced-usage.html#ssl-warnings\n",
      "  warnings.warn(\n"
     ]
    },
    {
     "name": "stdout",
     "output_type": "stream",
     "text": [
      "utf-8\n",
      "2511 start\n",
      "전 거래일인 22일 주식 초고수’들이 가장 많이 사들인 종목 역시 HMM이었다 비덴트121800 재무분석차트영역계속기업리포트 SK바이오사이언스 신풍제약 우리기술투자041190 재무분석차트영역계속기업리포트 순서로 매수가 많았다 같은 날 가장 많이 판 종목도 HMM이었으며 신풍제약 우리기술투자 박셀바이오 SK바이오사이언스 순서로 매도가 활발했다한편 미래에셋대우는 자사 고객 중에서 지난 1개월간 수익률 상위 1 투자자들의 매매 종목을 집계해 실시간·전일·최근 5일 기준으로 모바일트레이딩시스템MTS상에서 공개하고 있다 이 통계데이터는 미래에셋대우의 의견과 무관한 단순 정보안내이며 각각의 투자자 개인에게 맞는 투자 또는 수익달성을 보장하지 않는다 또 테마주 관련 종목은 이상 급등락 가능성이 있으므로 유의해야 한다 viewer 이승배  return 받은값\n"
     ]
    },
    {
     "name": "stderr",
     "output_type": "stream",
     "text": [
      "C:\\Users\\user\\anaconda3\\envs\\py38_64\\lib\\site-packages\\urllib3\\connectionpool.py:981: InsecureRequestWarning: Unverified HTTPS request is being made to host 'www.sedaily.com'. Adding certificate verification is strongly advised. See: https://urllib3.readthedocs.io/en/latest/advanced-usage.html#ssl-warnings\n",
      "  warnings.warn(\n"
     ]
    },
    {
     "name": "stdout",
     "output_type": "stream",
     "text": [
      "utf-8\n",
      "2511 start\n",
      "https://www.nocutnews.co.kr/news/5521325 : 주식투자 열풍에 국내 주식 거래 활동 계좌 수가 처음으로 4천만 개를 돌파했다. 동학개미 1천 만 명 시대에 1인 당 평균 4개의 주식 계좌를 가지고 있는 것으로 보인다. 23일 금융투자협회에 따르면 지난 19일 주식...\n"
     ]
    },
    {
     "name": "stderr",
     "output_type": "stream",
     "text": [
      "C:\\Users\\user\\anaconda3\\envs\\py38_64\\lib\\site-packages\\urllib3\\connectionpool.py:981: InsecureRequestWarning: Unverified HTTPS request is being made to host 'www.nocutnews.co.kr'. Adding certificate verification is strongly advised. See: https://urllib3.readthedocs.io/en/latest/advanced-usage.html#ssl-warnings\n",
      "  warnings.warn(\n"
     ]
    },
    {
     "name": "stdout",
     "output_type": "stream",
     "text": [
      "utf-8\n",
      "658 start\n",
      "주식투자 열풍에 국내 주식 거래 활동 계좌 수가 처음으로 4천만 개를 돌파했다 동학개미 1천 만 명 시대에 1인 당 평균 4개의 주식 계좌를 가지고 있는 것으로 보인다 23일 금융투자협회에 따르면 지난 19일 주식 거래 활동 계좌 수는 4006만 7529개를 기록했다 주식 거래 활동 계좌는 예탁자산이 10만 원 이상이고 6개월 간 한 차례 이상 거래가 이뤄진 증권 계좌를 말한다 최근 들어 계좌 수 증가 속도가 가팔라졌다는 게 특징이다 지난 2007년 1천 만 계좌 수를 처음 넘어선 후 5년 만인 2012년 2천 만 계좌를 돌파했다 지난해 3월 3천 만 계좌를 돌파한 이후 9개월 만에 500만 계좌가 증가하더니 12월 3500만 계좌를 넘어선 지 3개월 만에 500만 계좌 이상이 증가하면서 4천 만 계좌까지 넘어섰다 1천 만 계좌가 증가하는 데 앞서 5년 8년이 걸렸지만 최근에는 1년 새 1천 만 계좌가 늘어나고 있는 것이다그래픽김성기  return 받은값\n",
      "utf-8\n",
      "658 start\n",
      "http://news.mt.co.kr/mtview.php?no=2021032317187416008 : 역발상주식회사로부터 방역물품을 기증받았다. 기증품은 손소독제, 소독티슈, 마스크 등으로 구성된 방역물품 1000개 세트로, 약 3000만 원 상당이다. 인하공전은 기증품을 재학생들에게 지급할 예정이다. 역발상주식회사...\n"
     ]
    },
    {
     "name": "stderr",
     "output_type": "stream",
     "text": [
      "C:\\Users\\user\\anaconda3\\envs\\py38_64\\lib\\site-packages\\urllib3\\connectionpool.py:981: InsecureRequestWarning: Unverified HTTPS request is being made to host 'www.nocutnews.co.kr'. Adding certificate verification is strongly advised. See: https://urllib3.readthedocs.io/en/latest/advanced-usage.html#ssl-warnings\n",
      "  warnings.warn(\n",
      "C:\\Users\\user\\anaconda3\\envs\\py38_64\\lib\\site-packages\\urllib3\\connectionpool.py:981: InsecureRequestWarning: Unverified HTTPS request is being made to host 'news.mt.co.kr'. Adding certificate verification is strongly advised. See: https://urllib3.readthedocs.io/en/latest/advanced-usage.html#ssl-warnings\n",
      "  warnings.warn(\n"
     ]
    },
    {
     "name": "stdout",
     "output_type": "stream",
     "text": [
      "EUC-KR\n",
      "1875 start\n",
      "역발상주식회사로부터 방역물품을 기증받았다 기증품은 손소독제 소독티슈 마스크 등으로 구성된 방역물품 1000개 세트로 약 3000만 원 상당이다 인하공전은 기증품을 재학생들에게 지급할 예정이다 역발상주식회사 나창균 대표는 인하공전 전자계산과현 컴퓨터정보과 출신이다 나 대표는 발상을 뒤집으면 세상이 즐겁다라는 모토로 뜻을 함께한 회사 대표들과 역발상주식회사를 설립했다 역발상주식회사 관계자들은 미래 사회에 공헌할 후배들에게 도움을 주고자 기부를 결정했다며 후배들이 졸업후 창업에 대한 도전도 이어가길 바란다고 강조했다 진인주 총장은 코로나19로 모두가 어려움을 겪는 시기에 방역물품을 지원받아 큰 힘을 얻었다며 학생들을 위한 마음에 감사를 전한다고 말했다 한편 역발상주식회사는 일상생활 속 바이러스로부터 생활 공간을 보호하기 위한 세균 잡는 염소 등을 출시할 계획이다 <저작권자 © 돈이 보이는 리얼타임  return 받은값\n"
     ]
    },
    {
     "name": "stderr",
     "output_type": "stream",
     "text": [
      "C:\\Users\\user\\anaconda3\\envs\\py38_64\\lib\\site-packages\\urllib3\\connectionpool.py:981: InsecureRequestWarning: Unverified HTTPS request is being made to host 'news.mt.co.kr'. Adding certificate verification is strongly advised. See: https://urllib3.readthedocs.io/en/latest/advanced-usage.html#ssl-warnings\n",
      "  warnings.warn(\n"
     ]
    },
    {
     "name": "stdout",
     "output_type": "stream",
     "text": [
      "EUC-KR\n",
      "1875 start\n",
      "http://news.heraldcorp.com/view.php?ud=20210324000614 : 해외주식에 투자하는 ‘서학개미’들이 연일 새 역사를 써 나가고 있다. 해외주식 결제금액은 1년 새 5배로 불어났고, 올해도 1분기가 채 끝나기 전에 지난해의 절반을 넘어서며 더욱 뜨거운 관심을...\n",
      "UTF-8\n",
      "298 start\n",
      "해외주식에 투자하는 서학개미’들이 연일 새 역사를 써 나가고 있다 해외주식 결제금액은 1년 새 5배로 불어났고 올해도 1분기가 채 끝나기 전에 지난해의 절반을 넘어서며 더욱 뜨거운 관심을 보이고 있다 투자 저변이 넓어지며 쿠팡의 나스닥 상장을 기점으로 해외 기업공개IPO의 움직임도 한층 빨라지고 있다 서학개미의 투자 열기에 힘입어 증권사들의 수수료 수익도 짭짤해졌다▶1분기 해외주식 결제금액 지난해 60 돌파24일 한국예탁결제원 증권정보포털SEIBro에 따르면 지난해 외화증권주식채권 결제금액은 3233억9110만달러로 역대 최대를 기록했다 이는 전년 대비 1521억6780만달러8887 증가한 규모다2016년 917억710만달러 수준이던 외화증권 결제금액은 2017년 965억681만달러 2018년 1097억2510만달러 2019년 1712억2330만달러로 해마다 늘어나는 추세다특히 해외주식 결제금액의 증가세가 두드러진다 지난해 해외주식 결제금액은 1983억2230만달러로 전년 409억8539만달러 대비 1573억3691만달러38389 폭증했다 올해 들어서도 투자 열기는 여전하다 올 1월부터 3월 22일까지 외화증권 결제금액은 1459억4750만달러로 벌써 지난해 연간 결제금액의 4513를 기록 중이다이 가운데 해외주식 결제금액은 1189억8010만달러에 달하며 지난해 연간 결제금액의 5999로 절반을 넘어섰다▶증권사 외화증권 수수료도 역대 최대서학개미들 덕에 증권사들의 외화증권 수수료 수익도 역대 최대를 기록했다금융감독원에 따르면 지난해 증권사들의 외화증권 수탁수수료 수익은 5475억원으로 2019년 1637억원 대비 3838억원2344 급증했다금융투자협회에 따르면 가장 많은 외화증권 수수료 수익을 거둔 증권사는 미래에셋대우로 1348억원을 기록했다 이는 전년보다 865억원17899 늘어난 액수다삼성증권은 1162억원으로 2위에 올랐다 키움증권은 전년 대비 149051 급증한 745억원으로 3위를 차지했다 이어 한국투자증권589억원 NH투자증권373억원 KB증권354억원 신한금융투자306억원 대신증권185억원 하나금융투자149억원 유안타증권78억원 등의 순으로 나타났다▶과감해지는 서학개미레버리지·기업공개IPO에 베팅해외주식 거래가 늘어나면서 서학개미들은 더욱 과감해지고 있다 최근에는 기초자산 수익률의 3배를 추종하는 레버리지 상품에도 통 크게 베팅 중이다3월 들어 23일까지 미국 주식 순매수결제 상위 종목에는 DIREXION DAILY SEMICONDUCTOR BULL 3X’ ProShres UrPro QQQ’ 등이 포함됐다DIREXION DAILY SEMICONDUCTOR BULL 3X는 1억7708만달러를 순매수해 3위를 차지했다 이 종목은 필라델피아 반도체 지수의 3배 수익률을 추구하는 레버리지 상장지수펀드ETF다 8위에 오른 ProShres UrPro QQQ는 나스닥100 지수의 일간 수익률을 3배로 추종하는 레버리지 ETF로 6702만달러를 순매수했다해외주식 거래가 대중화하면서 IPO 분야에서도 미국 증시 상장이 주목을 받고 있다 서학개미들은 국내 전자상거래 기업 쿠팡이 미국 나스닥 시장에 상장한 이달 11일부터 23일까지 9거래일 동안 쿠팡 주식을 8919만달러약 1011억원어치 사들였다 쿠팡은 해당 기간 미국 주식 순매수 4위를 기록했다 쿠팡의 성공적인 뉴욕증시 데뷔 이후 다음 주자로 거론되는 마켓컬리·야놀자에 대한 관심도 한층 높아지고 있다 김현경  return 받은값\n",
      "UTF-8\n",
      "298 start\n",
      "http://news.mt.co.kr/mtview.php?no=2021032310305124880 : 저축이나 주식 투자 등에 쓰여 부양책 효과를 제한할 거라는 우려가 나온다. 조 바이든 미국 대통령은 지난... 하지만 일각에서는 경기 부양책이 저축이나 주식 투자에 몰리며 곧장 소비로 연결되긴 어려울 거라는 관측도...\n"
     ]
    },
    {
     "name": "stderr",
     "output_type": "stream",
     "text": [
      "C:\\Users\\user\\anaconda3\\envs\\py38_64\\lib\\site-packages\\urllib3\\connectionpool.py:981: InsecureRequestWarning: Unverified HTTPS request is being made to host 'news.mt.co.kr'. Adding certificate verification is strongly advised. See: https://urllib3.readthedocs.io/en/latest/advanced-usage.html#ssl-warnings\n",
      "  warnings.warn(\n"
     ]
    },
    {
     "name": "stdout",
     "output_type": "stream",
     "text": [
      "EUC-KR\n",
      "1959 start\n",
      "저축이나 주식 투자 등에 쓰여 부양책 효과를 제한할 거라는 우려가 나온다 조 바이든 미국 대통령은 지난 11일현지시간 1조9000억 달러 규모의 경제 지원 법안에 서명했다 개인에게 최대 1400달러 현금 지급 9월6일까지 주 300달러 실업급여 지급 세입자 월세 지원 등이 포함됐다 바이든 행정부의 경기 부양책으로 시중 유동성이 커질 것이란 기대가 높아졌다 개인이 현금을 지급 받게 되는 만큼 지원금이 소비 확대로 연결돼 글로벌 경기 회복을 가속화할 거라는 전망도 커지고 있다 하지만 일각에서는 경기 부양책이 저축이나 주식 투자에 몰리며 곧장 소비로 연결되긴 어려울 거라는 관측도 나온다 소비 비중이 큰 미국 경제에서 지원금이 소비로 이어지지 않는다면 부양책이 제대로 효과를 발휘할 수 없을 거란 지적이다 실제로 지난해 경기 부양책으로 현금이 지급됐을 당시 저축률은 급증했다 미 상무에 따르면 올해 1월 기준 개인 저축률은 205다 코로나19 발생 전 저축률이 78를 유지했던 것에 비하면 급등한 수치다 불확실한 미래를 대비하기 위해 개인들이 저축에 나선 것으로 풀이된다 주식 투자로의 유입도 적잖았다 지난해 3월 2조2000억 달러 규모의 경기 부양 패키지 법안으로 현금 보조를 받은 미국인 250만명의 계좌 이체를 분석한 결과 현금을 지급한 4월 중순 한 주 동안 주식 거래가 그 전주에 비해 90 이상 증가한 것으로 조사됐다 이번 경기 부양책과 관련해서도 최근 도이체방크가 온라인 주식거래 이용자를 대상으로 조사한 결과 응답자의 37가 부양금을 시장에 투자한다고 답했다 특히 2534세의 젊은 층은 절반이 주식 투자 의사를 밝혔다 전문가들은 과거 지원금을 현금으로 지급할 때와 같이 저축률이 급증하거나 주식 투자 목적으로 사용될 가능성은 있지만 백신 보급 등으로 미래 불확실성이 완화돼 내수를 중심으로 회복할 수 있을 것이라고 봤다 허재환 유진투자증권 연구원은 지원금으로 주식 투자를 하겠다는 응답이 많은 건 최근 1년 동안 미국 시장이 좋았기 때문에 그 사이 주식 투자로 수익을 낸 것에 대한 학습효과라며 지원금이 주식 투자에 쓰일 경우 부양책 효과가 없다기 보다 오히려 부의 효과가 나타나 소비로 이어질 수 있다고 말했다 이어 지난해 3월 2조2000억 달러 부양책을 시행했을 때 저축률이 많이 올랐지만 소비를 안 한 게 아니라 여행 등 소비를 할 곳이 없어서 그랬던 것이라며 이제 디즈니 테마파크도 여는 등 그동안 억눌린 욕구가 있기 때문에 소비도 늘 것으로 보인다고 했다 은성민 DS투자증권 리서치센터장은 지원금이 주식으로 일부 간다고 소비 위축으로 보는 건 일차원적인 시각이라며 근로소득이든 주식 투자로 얻은 자본소득이든 소득이 늘어나면 소비로 이어질 수 있다고 말했다 이어 앞서 저축률이 높았던 건 미래 불확실성으로 소비 대신 저축을 했거나 최근 10년물 금리 상승으로 예금이자 선호도가 높아졌기 때문이라며 백신 접종률이 높아지고 실업률은 점진적으로 낮아지는 상황이라 저축률이 계속 높은 수준을 유지하진 않을 것이라고 예측했다 그러면서 미국 경기부양책으로 소비가 늘고 경제 상황이 좋아지면 한국이나 중국처럼 주로 수출을 하는 국가에 긍정적으로 작용할 것이라고 내다봤다 <저작권자 © 돈이 보이는 리얼타임  return 받은값\n"
     ]
    },
    {
     "name": "stderr",
     "output_type": "stream",
     "text": [
      "C:\\Users\\user\\anaconda3\\envs\\py38_64\\lib\\site-packages\\urllib3\\connectionpool.py:981: InsecureRequestWarning: Unverified HTTPS request is being made to host 'news.mt.co.kr'. Adding certificate verification is strongly advised. See: https://urllib3.readthedocs.io/en/latest/advanced-usage.html#ssl-warnings\n",
      "  warnings.warn(\n"
     ]
    },
    {
     "name": "stdout",
     "output_type": "stream",
     "text": [
      "EUC-KR\n",
      "1959 start\n"
     ]
    },
    {
     "name": "stderr",
     "output_type": "stream",
     "text": [
      "C:\\Users\\user\\anaconda3\\envs\\py38_64\\lib\\site-packages\\urllib3\\connectionpool.py:981: InsecureRequestWarning: Unverified HTTPS request is being made to host 'search.naver.com'. Adding certificate verification is strongly advised. See: https://urllib3.readthedocs.io/en/latest/advanced-usage.html#ssl-warnings\n",
      "  warnings.warn(\n"
     ]
    },
    {
     "name": "stdout",
     "output_type": "stream",
     "text": [
      "http://www.fnnews.com/news/202103221129264972 : 공모주 투자 열풍이 불었던 지난해 주식 청약 평균 경쟁률이 급증하고, 증시를 통한 자금조달 규모는... 지난해 주식과 채권 발행, 합병 등을 통한 자금조달 규모는 전년(69조7000억원) 대비 13.8% 늘어난...\n"
     ]
    },
    {
     "name": "stderr",
     "output_type": "stream",
     "text": [
      "C:\\Users\\user\\anaconda3\\envs\\py38_64\\lib\\site-packages\\urllib3\\connectionpool.py:981: InsecureRequestWarning: Unverified HTTPS request is being made to host 'www.fnnews.com'. Adding certificate verification is strongly advised. See: https://urllib3.readthedocs.io/en/latest/advanced-usage.html#ssl-warnings\n",
      "  warnings.warn(\n",
      "C:\\Users\\user\\anaconda3\\envs\\py38_64\\lib\\site-packages\\urllib3\\connectionpool.py:981: InsecureRequestWarning: Unverified HTTPS request is being made to host 'www.fnnews.com'. Adding certificate verification is strongly advised. See: https://urllib3.readthedocs.io/en/latest/advanced-usage.html#ssl-warnings\n",
      "  warnings.warn(\n"
     ]
    },
    {
     "name": "stdout",
     "output_type": "stream",
     "text": [
      "UTF-8\n",
      "841 start\n",
      "공모주 투자 열풍이 불었던 지난해 주식 청약 평균 경쟁률이 급증하고 증시를 통한 자금조달 규모는 12조원을 넘어선 것으로 나타났다 22일 금융감독원에 따르면 지난해 증시 평균 청약경쟁률은 전년509대 1 대비 875 급증한 956대 1에 달한 것으로 나타났다 카카오게임즈1525대 1와 교촌에프앤비1318대 1 빅히트엔터테인먼트607대1 SK바이오팜323대1 등 대어급 상장사의 출현에 따른 결과다 지난해 주식과 채권 발행 합병 등을 통한 자금조달 규모는 전년69조7000억원 대비 138 늘어난 79조3000억원에 달했다 기업공개IPO와 유상증자로 12조2000억원을 조달했고 채권으로는 63조원을 합병이나 분할 주식의 포괄적 교환·이전을 통해서는 4조1000억원을 조달했다 주식발행 신고서 접수도 크게 늘었다 지난해 주식발행 신고서 접수는 211건으로 전년170건 대비 증가율241이 최근 3년 동안 가장 높았다 금감원은 지난해 IPO 시장은 유동성 증가 하반기 증시 반등에 따른 투자심리 회복 등으로 개인 투자자 참여가 크게 확대됐다고 설명했다 한편 주식 증권신고서에 대한 정정요구 비율은 166로 전년59 대비 107포인트 증가했다 코스닥사에 대한 정정요구 비율387이 가장 높았고 코스피사에 대한 정정요구 비율도 05에서 66로 61포인트 늘었다  return 받은값\n",
      "UTF-8\n",
      "841 start\n",
      "http://www.newsis.com/view/?id=NISX20210324_0001380952&cID=10401&pID=10400 : 24일 오전 빅데이터로 분석한 주식시장 코스피 200종목의 시장심리지수(Market Sentiment Index·MSI)는 4단계 '보통'으로 나타났다. 뉴시스와 코스콤이 공동으로 뽑아낸 빅데이터 MSI(http://m.newsis.com/stock.html, 모바일...\n"
     ]
    },
    {
     "name": "stderr",
     "output_type": "stream",
     "text": [
      "C:\\Users\\user\\anaconda3\\envs\\py38_64\\lib\\site-packages\\urllib3\\connectionpool.py:981: InsecureRequestWarning: Unverified HTTPS request is being made to host 'newsis.com'. Adding certificate verification is strongly advised. See: https://urllib3.readthedocs.io/en/latest/advanced-usage.html#ssl-warnings\n",
      "  warnings.warn(\n"
     ]
    },
    {
     "name": "stdout",
     "output_type": "stream",
     "text": [
      "UTF-8\n",
      "937 start\n",
      "24일 오전 빅데이터로 분석한 주식시장 코스피 200종목의 시장심리지수Mrke Senien Index·MSI는 4단계 보통으로 나타났다 뉴시스와 코스콤이 공동으로 뽑아낸 빅데이터 MSIhnewsiscosockh 모바일 전용에 따르면 전 거래일 오후 4시부터 이날 오전 8시까지 집계된 코스피 MSI 레벨은 전 거래일보다 한 단계 내렸다 대장주 삼성전자의 MSI 레벨은 4단계로 집계됐다 시가총액 상위 종목 중 SK하이닉스는 1단계 LG화학은 7단계 현대차는 6단계 셀트리온은 3단계로 나타났다 뉴시스와 코스콤은 250개 주요 상장 기업에 대해 감성 사전을 만들어 해당 종목의 실시간 점수를 산출하고 이를 최근 1년간의 흐름과 비교해 MSI 레벨로 제시하고 있다 ◎공감언론 뉴시스 jey return 받은값\n"
     ]
    },
    {
     "name": "stderr",
     "output_type": "stream",
     "text": [
      "C:\\Users\\user\\anaconda3\\envs\\py38_64\\lib\\site-packages\\urllib3\\connectionpool.py:981: InsecureRequestWarning: Unverified HTTPS request is being made to host 'newsis.com'. Adding certificate verification is strongly advised. See: https://urllib3.readthedocs.io/en/latest/advanced-usage.html#ssl-warnings\n",
      "  warnings.warn(\n"
     ]
    },
    {
     "name": "stdout",
     "output_type": "stream",
     "text": [
      "UTF-8\n",
      "937 start\n",
      "http://weekly.khan.co.kr/khnm.html?mode=view&code=114&artid=202103191404571 : 동네 친한 동생이 이번에 주식투자를 하게 됐다고 했습니다. 자연스럽게 대화가 투자한 회사 이야기로... 처음 주식투자를 시작할 때는 급등하는 종목 회사에 눈길이 갑니다. 일명 성장주·테마주를 선호합니다. 대개 그런...\n",
      "euc-kr\n",
      "197 start\n",
      "동네 친한 동생이 이번에 주식투자를 하게 됐다고 했습니다 자연스럽게 대화가 투자한 회사 이야기로 넘어갔는데 사업 분야나 내년 전망은 이렇다는 등 엄청 자랑했습니다 너무 확신에 차 있길래 물었습니다 “그 회사 작년 영업이익은 많이 났어” 어처구니없게도 투자한 회사가 이익이 나는지 왜 지금은 적자돈을 못 버는지인지 정확히 모르고 있었습니다 코스피 지수가 하락세를 보였던 지난 3월 4일 서울 광화문 교보문고 주식 서적 코너가 한산한 모습이다 연합 return 받은값\n",
      "euc-kr\n",
      "197 start\n",
      "https://www.hankyung.com/finance/article/2021032337281 : 해외 주식 보유액이 11조5000억원 가까이 늘어난 것으로 나타났다. 올 1분기에 분기 기준 역대 최대치를 기록할 전망이다. 원·달러 환율이 떨어졌던 지난 1월 국내 투자자들이 환차익을 노리고 미국 주식을...\n"
     ]
    },
    {
     "name": "stderr",
     "output_type": "stream",
     "text": [
      "C:\\Users\\user\\anaconda3\\envs\\py38_64\\lib\\site-packages\\urllib3\\connectionpool.py:981: InsecureRequestWarning: Unverified HTTPS request is being made to host 'www.hankyung.com'. Adding certificate verification is strongly advised. See: https://urllib3.readthedocs.io/en/latest/advanced-usage.html#ssl-warnings\n",
      "  warnings.warn(\n"
     ]
    },
    {
     "name": "stdout",
     "output_type": "stream",
     "text": [
      "UTF-8\n",
      "1097 start\n",
      "해외 주식 보유액이 11조5000억원 가까이 늘어난 것으로 나타났다 올 1분기에 분기 기준 역대 최대치를 기록할 전망이다 원·달러 환율이 떨어졌던 지난 1월 국내 투자자들이 환차익을 노리고 미국 주식을 적극적으로 매수한 영향이 컸다 국내 주식시장의 조정폭이 커지면서 해외 주식으로 눈을 돌린 투자자도 많아졌다는 분석이다 23일 한국예탁결제원에 따르면 한국 투자자의 해외 주식 보유 잔액은 19일 기준 824억311만달러로 지난해 말722억1740만달러보다 101억8571만달러약 11조4996억원 늘었다 이 같은 속도면 올 상반기에 해외 주식 100조원 시대를 열 것으로 전망된다한국 투자자들은 원·달러 환율이 달러당 1100원 밑으로 떨어졌던 지난 1월 한 달 동안에만 10조원어치가량 사들였다 달러 반등에 따른 환차익을 노린 매수 전략을 취했다는 얘기다미국 주식 순매수액만 올 들어 93억5139만달러약 10조5623억원에 달했다 미국 채권 보유액도 반등했다 지난해에는 전년9억8591만달러 대비 3분의 1 토막 난 3억126만달러에 그쳤지만 올해는 7억495만달러로 늘었다 신흥국 가운데서는 인도네시아 투자액이 가장 큰 폭으로 증가했다 올 들어 한국 투자자의 인도네시아 주식 보유 잔액은 지난해 말 대비 797 늘어난 4628만달러약 522억원다올해 순매수 상위 종목은 지난해에 이어 테슬라가 차지했다 개인투자자들이 테슬라 주가 조정을 저가 매수 기회로 여기고 있기 때문이다 올해 테슬라 순매수액은 14억1949만달러다 이어 애플8141만달러 팔란티어4217만달러 TSMC3610만달러 등이 순매수 상위에 올랐다테슬라의 순매수액 비중은 전체 순매수액의 139를 차지했다 지난해 테슬라를 4조원어치 가까이 순매수했던 한국 투자자들이 올해 초 테슬라 주가가 요동치자 적극적인 추격매수에 나섰다는 분석이다고윤상  return 받은값\n"
     ]
    },
    {
     "name": "stderr",
     "output_type": "stream",
     "text": [
      "C:\\Users\\user\\anaconda3\\envs\\py38_64\\lib\\site-packages\\urllib3\\connectionpool.py:981: InsecureRequestWarning: Unverified HTTPS request is being made to host 'www.hankyung.com'. Adding certificate verification is strongly advised. See: https://urllib3.readthedocs.io/en/latest/advanced-usage.html#ssl-warnings\n",
      "  warnings.warn(\n"
     ]
    },
    {
     "name": "stdout",
     "output_type": "stream",
     "text": [
      "UTF-8\n",
      "1097 start\n",
      "http://news.mt.co.kr/mtview.php?no=2021032405215011817 : 경기회복에 대한 기대감과 함께 인플레이션에 대한 주식시장의 우려가 높아지는 가운데, 인플레... 또 UBS는 Emerson과 Grainger를 인플레이션 상승 시 주식 가치가 함께 상승할 수 있는 종목으로 꼽았다. 이밖에...\n"
     ]
    },
    {
     "name": "stderr",
     "output_type": "stream",
     "text": [
      "C:\\Users\\user\\anaconda3\\envs\\py38_64\\lib\\site-packages\\urllib3\\connectionpool.py:981: InsecureRequestWarning: Unverified HTTPS request is being made to host 'news.mt.co.kr'. Adding certificate verification is strongly advised. See: https://urllib3.readthedocs.io/en/latest/advanced-usage.html#ssl-warnings\n",
      "  warnings.warn(\n"
     ]
    },
    {
     "name": "stdout",
     "output_type": "stream",
     "text": [
      "EUC-KR\n",
      "1873 start\n",
      "경기회복에 대한 기대감과 함께 인플레이션에 대한 주식시장의 우려가 높아지는 가운데 인플레 시대를 맞더라도 선전할 수 있는 종목들에 투자자들의 관심이 쏠리고 있다 23일현지시간 CNBC에 따르면 UBS는 최근 보고서를 통해 인플레이션 환경 속에서 선호하는 종목들을 공개했다 UBS는 우선 시장리더십과 가격 결정력을 가진 기업을 추천 기업으로 꼽았다 나스닥 시장의 Mondeez는 오레오Oreo 등 과자 제품을 만드는 기업으로 가격 결정능력 확보와 함께 지난해 시장의 리더 자리를 더욱 확보히 굳혔다는 평가를 받았다 UBS 애널리스트 상당수는 강력한 가격 결정력을 갖춘 기업을 선호했다 닥터페퍼 등 소프트 음료 및 커피제품을 생산하는 업체인 Keuri Dr Peer 건축자재 및 하우스 자재업체인 Hoe Deo LOWE 산업용 공구업체 Sny Bck Decker가 추천 리스트에 올랐다 스포츠카 업체 Ferrri 역시 가격이 추천 요인으로 꼽혔다 기존 내연기관에서 하이브리드 전기차 방식으로 이동하면서 가격이 인상될 것이라는 전망이다 시장 점유율을 확대할 것으로 전망되는 McDonds도 추천 장바구니에 담겼다 또 UBS는 Eerson과 Griner를 인플레이션 상승 시 주식 가치가 함께 상승할 수 있는 종목으로 꼽았다 이밖에 기업들이 사이버보안에 대한 지출을 늘리기 시작하는 것과 관련해 보안업체 CyberArk Sofwre를 추천했다 UBS는 유럽 은행 등 금융기업들을 추천 종목으로 담았고 아시아 지역 주식으로는 일본 부동산 기업 Misubishi Ese 중국 가전업체 Hier Mide Grou 홍콩 투자지주사 Kirin을 꼽았다 <저작권자 © 돈이 보이는 리얼타임  return 받은값\n"
     ]
    },
    {
     "name": "stderr",
     "output_type": "stream",
     "text": [
      "C:\\Users\\user\\anaconda3\\envs\\py38_64\\lib\\site-packages\\urllib3\\connectionpool.py:981: InsecureRequestWarning: Unverified HTTPS request is being made to host 'news.mt.co.kr'. Adding certificate verification is strongly advised. See: https://urllib3.readthedocs.io/en/latest/advanced-usage.html#ssl-warnings\n",
      "  warnings.warn(\n"
     ]
    },
    {
     "name": "stdout",
     "output_type": "stream",
     "text": [
      "EUC-KR\n",
      "1873 start\n",
      "http://news.kmib.co.kr/article/view.asp?arcid=0924183951&code=11151300&cp=nv : 미국의 20~30대 젊은이들은 정부로부터 받은 1400달러의 재난지원금 중 절반 가량을 주식투자에 사용할... 가량을 주식 계좌에 넣겠다고 답했다고 보도했다. 총 1170억 달러(132조원)가 증시로 흘러드는 것이다. 특히 25...\n",
      "{'http-equiv': 'Content-Type', 'content': 'text/html; charset=euc-kr'}\n",
      "content:text/html; charset=euc-kr\n",
      "euc-kr\n",
      "185 start\n",
      "미국의 2030대 젊은이들은 정부로부터 받은 1400달러의 재난지원금 중 절반 가량을 주식투자에 사용할 계획인 것으로 조사됐다 최근의 인플레 기대 심리 확산에 따른 채권 수익률 상승 우려도 아랑곳하지 않는 개인투자자들의 증시 투자 행렬이 어디까지 이어갈지 주목된다뉴욕타임스NYT는 23일 도이체방크의 최근 설문 조사결과를 인용 미국인들은 1조9000억 달러의 경기 부양책 통과에 따라 재난지원금으로 받은 1400달러 가운데 40560달러 가량을 주식 계좌에 넣겠다고 답했다고 보도했다 총 1170억 달러132조원가 증시로 흘러드는 것이다 특히 2534세 젊은층은 절반가량을 주식에 투자하겠다고 응답했다재난지원금의 증시 투입이 주목을 끄는 것은 지난해 3월 코로나19 팬데믹 선언 직후 고꾸라진 주식시장을 떠받치는데 정부의 1차 재난지원금이 큰 힘을 발휘했기 때문이다JP모건은 지난해 4월 1인당 1200달러가 지급되자 전월 125 하락했던 SP500 지수는 127 상승세로 돌아서는 등 지원금이 증시 부양에 연관이 있는 것으로 분석했다신용평가사 피치에 따르면 그동안 미국 가계로 이전돼 코로나 사태로 줄어든 임금과 소득을 벌충하고도 남은 정부 지원금 규모는 8000억 달러에 달한다여기에 사회적 거리두기로 위축된 소비 대신 주식투자에 몰입할 수밖에 없는 환경이 조성되면서 10선에 머물던 개인투자자들의 증시 참여 비중이 25로 늘었다이런 분위기에 힘입어 SP500은 현재 지난해 3월 최저점 대비 80나 회복됐다 2008년 글로벌 금융위기 이후 2009년 3월 SP500지수가 57나 떨어진 이후 회복되는데 4년이 걸린 것과 대조된다정부가 채권을 발행해 달러를 찍어 조성한 1인당 총 3200달러의 재난지원금의 상당액이 실물경제 대신 증시로 투입돼 버블’을 만들고 있는 것이다여기에 바이든 정부는 3조달러 규모의 2가지 인프라 패키지까지 추가로 마련하고 있어 가뜩이나 달아오르고 있는 인플레 심리에 어떤 영향을 미칠지도 초미의 관심사다새 패키지는 공격적인 지출을 바탕으로 바이든 대통령의 경제 공약을 실현하는 데 초점을 맞추고 있다 첫번째 법안은 제조업 투자를 지원하고 기후변화에 대응해 탄소배출을 줄인다는 목표를 제시한다 구체적으로 사회기반시설 개선 청정에너지 구축 5G 통신 광대역 구축 등 미래의 고도 성장 산업’ 개발에 초점을 맞췄다다른 법안은 진보 진영이 인적 인프라’라고 부르는 정책으로 무료 커뮤니티 칼리지2년제 지역대학 국가 유급휴가 프로그램 육아비용 절감 정책 등을 지원한다민주당은 현재 21인 법인세율과 고소득층의 소득세 인상을 통한 재원 마련 구상을 하고 있다 그러나 공화당이 반대하고 있어 여의치 않을 경우 채권 발행에 의존할 수밖에 없는 실정이다 채권시장 압력이 더욱 거세질 수밖에 없는 셈이다이동훈 금융전문 return 받은값\n",
      "{'http-equiv': 'Content-Type', 'content': 'text/html; charset=euc-kr'}\n",
      "content:text/html; charset=euc-kr\n",
      "euc-kr\n",
      "185 start\n",
      "http://www.newsis.com/view/?id=NISX20210322_0001378147&cID=10401&pID=10400 : 주식 양도소득세 법정 신고기간을 맞아 무료로 세무신고를 대행하는 서비스를 시행한다고 22일 밝혔다. 해당 서비스는 다음달 7일까지 홈트레이딩시스템(HTS)에 접속하거나 영업점에 방문해 신청할 수 있다. 해외주식...\n"
     ]
    },
    {
     "name": "stderr",
     "output_type": "stream",
     "text": [
      "C:\\Users\\user\\anaconda3\\envs\\py38_64\\lib\\site-packages\\urllib3\\connectionpool.py:981: InsecureRequestWarning: Unverified HTTPS request is being made to host 'newsis.com'. Adding certificate verification is strongly advised. See: https://urllib3.readthedocs.io/en/latest/advanced-usage.html#ssl-warnings\n",
      "  warnings.warn(\n"
     ]
    },
    {
     "name": "stdout",
     "output_type": "stream",
     "text": [
      "UTF-8\n",
      "941 start\n",
      "주식 양도소득세 법정 신고기간을 맞아 무료로 세무신고를 대행하는 서비스를 시행한다고 22일 밝혔다 해당 서비스는 다음달 7일까지 홈트레이딩시스템HTS에 접속하거나 영업점에 방문해 신청할 수 있다 해외주식 투자자는 총 수익금이 연간 기본공제 금액인 250만원을 초과하면 양도 소득세 과세대상자가 된다 양도소득세의 법정신고와 납부기한은 5월131일까지다 ◎공감언론 뉴시스 joo47 return 받은값\n"
     ]
    },
    {
     "name": "stderr",
     "output_type": "stream",
     "text": [
      "C:\\Users\\user\\anaconda3\\envs\\py38_64\\lib\\site-packages\\urllib3\\connectionpool.py:981: InsecureRequestWarning: Unverified HTTPS request is being made to host 'newsis.com'. Adding certificate verification is strongly advised. See: https://urllib3.readthedocs.io/en/latest/advanced-usage.html#ssl-warnings\n",
      "  warnings.warn(\n"
     ]
    },
    {
     "name": "stdout",
     "output_type": "stream",
     "text": [
      "UTF-8\n",
      "941 start\n",
      "http://news.kbs.co.kr/news/view.do?ncd=5145967&ref=A : 지난해 울산지역 주식 투자자가 크게 증가한 것으로 나타났습니다. 한국예탁결제원은 지난해 말 기준 울산의 상장법인 주식 소유자는 25만 7천여 명으로 일년 전에 비해 6만 2천여 명, 31.9% 증가했다고 밝혔습니다....\n",
      "UTF-8\n",
      "839 start\n",
      "1139 start\n",
      "지난해 울산지역 주식 투자자가 크게 증가한 것으로 나타났습니다한국예탁결제원은 지난해 말 기준 울산의 상장법인 주식 소유자는 25만 7천여 명으로 일년 전에 비해 6만 2천여 명 319 증가했다고 밝혔습니다울산 전체 인구수 대비 주주 비율도 226로 전국 17개 시·도 가운데 252인 서울 다음으로 높았습니다또 울산지역 투자자들의 보유 주식수는 10억 7540만 주로 전국 보유 주식 비중의 11를 기록했습니다  return 받은값\n",
      "UTF-8\n",
      "839 start\n",
      "1139 start\n",
      "http://news.mk.co.kr/newsRead.php?no=277409&year=2021 : 키움증권은 '한국판 뉴딜' 활성화 방안에 맞춰 수혜가 예상되는 BBIG(바이오·배터리·인터넷·게임) 기업과 상장지수펀드(ETF)에 투자하는 'K뉴딜 주식형 랩'을 내놨다. 해당 상품은 주식시장 상황에 따라 BBIG K뉴딜 ETF에...\n"
     ]
    },
    {
     "name": "stderr",
     "output_type": "stream",
     "text": [
      "C:\\Users\\user\\anaconda3\\envs\\py38_64\\lib\\site-packages\\urllib3\\connectionpool.py:981: InsecureRequestWarning: Unverified HTTPS request is being made to host 'www.mk.co.kr'. Adding certificate verification is strongly advised. See: https://urllib3.readthedocs.io/en/latest/advanced-usage.html#ssl-warnings\n",
      "  warnings.warn(\n"
     ]
    },
    {
     "name": "stdout",
     "output_type": "stream",
     "text": [
      "{'http-equiv': 'Content-Type', 'content': 'text/html; charset=euc-kr'}\n",
      "content:text/html; charset=euc-kr\n",
      "euc-kr\n",
      "1156 start\n",
      "키움증권은 한국판 뉴딜 활성화 방안에 맞춰 수혜가 예상되는 BBIG바이오·배터리·인터넷·게임 기업과 상장지수펀드ETF에 투자하는 K뉴딜 주식형 랩을 내놨다 해당 상품은 주식시장 상황에 따라 BBIG K뉴딜 ETF에 2550 관련 주식에 050를 탄력적으로 운용한다 하락장에서는 채권 ETF를 최대 75까지 편입해 시장 변화에 유연하게 대응하도록 설계됐다 키움증권은 앞으로 사회책임투자SRI 분야에서도 역량을 강화할 계획이다 강인선  return 받은값\n"
     ]
    },
    {
     "name": "stderr",
     "output_type": "stream",
     "text": [
      "C:\\Users\\user\\anaconda3\\envs\\py38_64\\lib\\site-packages\\urllib3\\connectionpool.py:981: InsecureRequestWarning: Unverified HTTPS request is being made to host 'www.mk.co.kr'. Adding certificate verification is strongly advised. See: https://urllib3.readthedocs.io/en/latest/advanced-usage.html#ssl-warnings\n",
      "  warnings.warn(\n"
     ]
    },
    {
     "name": "stdout",
     "output_type": "stream",
     "text": [
      "{'http-equiv': 'Content-Type', 'content': 'text/html; charset=euc-kr'}\n",
      "content:text/html; charset=euc-kr\n",
      "euc-kr\n",
      "1156 start\n",
      "https://www.hankyung.com/economy/article/202103247573a : 리더스 트레이딩은 완전히 새롭게 탈바꿈한 주식 자동화 프로그램 ‘리더스 트레이더’를 공개한다.... 불안한 주식 시장에서 안전성과 편의성을 동시에 잡았다는 평을 받고 있다. 보다 발전된 기술로 이전보다 더 편하고...\n",
      "UTF-8\n"
     ]
    },
    {
     "name": "stderr",
     "output_type": "stream",
     "text": [
      "C:\\Users\\user\\anaconda3\\envs\\py38_64\\lib\\site-packages\\urllib3\\connectionpool.py:981: InsecureRequestWarning: Unverified HTTPS request is being made to host 'www.hankyung.com'. Adding certificate verification is strongly advised. See: https://urllib3.readthedocs.io/en/latest/advanced-usage.html#ssl-warnings\n",
      "  warnings.warn(\n",
      "C:\\Users\\user\\anaconda3\\envs\\py38_64\\lib\\site-packages\\urllib3\\connectionpool.py:981: InsecureRequestWarning: Unverified HTTPS request is being made to host 'www.hankyung.com'. Adding certificate verification is strongly advised. See: https://urllib3.readthedocs.io/en/latest/advanced-usage.html#ssl-warnings\n",
      "  warnings.warn(\n"
     ]
    },
    {
     "name": "stdout",
     "output_type": "stream",
     "text": [
      "1108 start\n",
      "리더스 트레이딩은 완전히 새롭게 탈바꿈한 주식 자동화 프로그램 리더스 트레이더’를 공개한다지금까지 많은 사랑을 받았던 이전 버전과는 비교도 할 수 없는 혁신 기능을 탑재한 리더스 트레이더’는 4월부터 투자자들을 찾아간다이번 리더스 트레이더 3차 버전은 자동매매 업계를 이끌고 있는 리더스 트레이딩만의 혁신 기술이 집약된 프로그램이다특히 3차 버전에 적용된 가치 평가 전략은 리더스 트레이더만의 독자적인 기술력으로 개발되어 특허 출원까지 받은 상태이며 이 기술은 국내 상장된 2200개 기업의 적정 주가를 프로그램이 알아서 분석하고 투자자에게 제시해 줌으로써 불안한 주식 시장에서 안전성과 편의성을 동시에 잡았다는 평을 받고 있다보다 발전된 기술로 이전보다 더 편하고 안전한 로보어드바이저 주식 거래의 자동화 생태계를 구축해 나가고 있는 리더스 트레이딩은 “보다 안전하고 편한 주식거래를 위해 더 발전하는 고객 맞춤형 프로그램으로 거듭날 수 있도록 노력하겠다”고 밝혔다한경닷컴  return 받은값\n",
      "UTF-8\n",
      "1108 start\n"
     ]
    },
    {
     "name": "stderr",
     "output_type": "stream",
     "text": [
      "C:\\Users\\user\\anaconda3\\envs\\py38_64\\lib\\site-packages\\urllib3\\connectionpool.py:981: InsecureRequestWarning: Unverified HTTPS request is being made to host 'search.naver.com'. Adding certificate verification is strongly advised. See: https://urllib3.readthedocs.io/en/latest/advanced-usage.html#ssl-warnings\n",
      "  warnings.warn(\n"
     ]
    },
    {
     "name": "stdout",
     "output_type": "stream",
     "text": [
      "http://news.heraldcorp.com/view.php?ud=20210322001027 : 여가 플랫폼 야놀자가 국내외 증시에서 이중상장(dual listing)하는 방안을 금융사들과 논의하고 있다고 블룸버그통신이 소식통을 인용해 22일 보도했다. 보도에 따르면 야놀자는 40억 달러(약 4조5180억원)의 기업가치를...\n",
      "UTF-8\n",
      "255 start\n",
      "여가 플랫폼 야놀자가 국내외 증시에서 이중상장du isin하는 방안을 금융사들과 논의하고 있다고 블룸버그통신이 소식통을 인용해 22일 보도했다보도에 따르면 야놀자는 40억 달러약 4조5180억원의 기업가치를 목표로 하고 있다 기업공개IPO 규모와 어느 시장에 상장할 것인지 등은 아직 결론 내리지 못한 상태다이와 관련해 야놀자 측은 “해외 상장과 관련된 다양한 제안을 받은 것은 사실”이라고 했다 이어 “글로벌 사업 운영과 솔루션 기술을 관리할 역량이 있는 선도기업으로 인정받을 수 있는 기회인 만큼 국내뿐만 아니라 해외 상장 검토에 대해서도 열려있다”고 블룸버그 측에 밝혔다앞서 야놀자는 올해 상장을 목표로 지난해 11월 미래에셋대우 등을 주관사로 선정한 것으로 알려졌다 당시 기업가치는 5조원 등으로 평가됐으나 최근 쿠팡과 SK바이오사이언스 등의 국내외 IPO 흥행에 힘입어 장외 시장에서는 7조원 이상으로 몸값이 치솟고 있다hun return 받은값\n",
      "UTF-8\n",
      "255 start\n",
      "https://www.nocutnews.co.kr/news/5522184 : 지난해 주식 시장이 큰 호황을 누린 가운데 주식 중독으로 상담센터를 찾는 사람들이 크게 늘어난 것으로 나타났다. 24일 한국도박문제관리센터에 따르면, 주식 중독으로 센터를 방문한 20대는 19년 73명에서 지난해...\n"
     ]
    },
    {
     "name": "stderr",
     "output_type": "stream",
     "text": [
      "C:\\Users\\user\\anaconda3\\envs\\py38_64\\lib\\site-packages\\urllib3\\connectionpool.py:981: InsecureRequestWarning: Unverified HTTPS request is being made to host 'www.nocutnews.co.kr'. Adding certificate verification is strongly advised. See: https://urllib3.readthedocs.io/en/latest/advanced-usage.html#ssl-warnings\n",
      "  warnings.warn(\n",
      "C:\\Users\\user\\anaconda3\\envs\\py38_64\\lib\\site-packages\\urllib3\\connectionpool.py:981: InsecureRequestWarning: Unverified HTTPS request is being made to host 'www.nocutnews.co.kr'. Adding certificate verification is strongly advised. See: https://urllib3.readthedocs.io/en/latest/advanced-usage.html#ssl-warnings\n",
      "  warnings.warn(\n"
     ]
    },
    {
     "name": "stdout",
     "output_type": "stream",
     "text": [
      "utf-8\n",
      "604 start\n",
      "지난해 주식 시장이 큰 호황을 누린 가운데 주식 중독으로 상담센터를 찾는 사람들이 크게 늘어난 것으로 나타났다 24일 한국도박문제관리센터에 따르면 주식 중독으로 센터를 방문한 20대는 19년 73명에서 지난해 236명으로 늘었고223 60대 이상도 8888명→165명나 증가했다 심지어 이전까지 상담센터를 한 번도 찾지 않았던 10대도 25명이나 됐다 주식 중독은 법원에서 이혼의 귀책사유로 인정할 만큼 심각한 문제로 여겨진다 과민해지는 것은 물론 배우자 등 가족 몰래 큰 돈을 탕진하게 되는 경우도 많다고 한다 CBS노컷 return 받은값\n",
      "utf-8\n",
      "604 start\n",
      "http://www.newsis.com/view/?id=NISX20210322_0001378111&cID=15001&pID=15000 : 기업들이 주식 투자 비중을 크게 늘리는 '동학법인' 현상이 나타나고 있다. 22일 삼성증권이 지난 한 해 동안 자사의 법인 고객 3500여 개사의 투자 현황을 분석한 결과에 따르면 지난해 기준 법인의 주식 순매수...\n"
     ]
    },
    {
     "name": "stderr",
     "output_type": "stream",
     "text": [
      "C:\\Users\\user\\anaconda3\\envs\\py38_64\\lib\\site-packages\\urllib3\\connectionpool.py:981: InsecureRequestWarning: Unverified HTTPS request is being made to host 'newsis.com'. Adding certificate verification is strongly advised. See: https://urllib3.readthedocs.io/en/latest/advanced-usage.html#ssl-warnings\n",
      "  warnings.warn(\n"
     ]
    },
    {
     "name": "stdout",
     "output_type": "stream",
     "text": [
      "UTF-8\n",
      "979 start\n",
      "기업들이 주식 투자 비중을 크게 늘리는 동학법인 현상이 나타나고 있다 22일 삼성증권이 지난 한 해 동안 자사의 법인 고객 3500여 개사의 투자 현황을 분석한 결과에 따르면 지난해 기준 법인의 주식 순매수 금액이 6조9408억여 원국내해외으로 나타나 2019년 1조3459억여 원 대비 4157나 늘어났다 이는 지난 2017년부터 2019년까지 3년간 법인의 전체 주식 매수 금액의 합계를 뛰어넘는 수치다 최근 동학개미에 이어 법인들도 주식투자를 늘리고 있다 올해 들어 증시 변동성 확대에도 2월까지 월평균 주식 매수 금액은 지난해 월평균 주식 매수 규모 대비 635 늘어났다 해외주식의 경우 2019년 대비 지난해 약 9배가 증가했다 주식투자를 하는 법인의 수도 크게 늘었다 지난해 주식을 매수한 법인의 수는 2019년 1002개 대비 2배인 2097개로 증가했다 동학법인이 늘고 있는 이유로는 규제부담이 커진 부동산 금리수준이 크게 낮아진 확정금리상품의 매력이 낮아진 상황에서 대안이 필요했기 때문이다 한상훈 삼성증권 영업솔루션담당은 과거 금리형 자산에 치중됐던 법인의 운용자금이 주식시장으로 유입되고 있다면서 경제회복이 가시화되고 본격적인 실적개선이 이뤄지면 주식 투자규모가 확대될 것으로 전망했다 법인 고객들이 지난해부터 올해 2월까지 투자한 국내주식 종목은 대형 우량주 배당주로 나타났다 이 기간 법인 고객의 국내 주식 상위 10개 종목ETF 제외은 삼성전자 LG화학 SK하이닉스 현대차 등이었다 이 종목들의 지난해 평균 주가 상승률은 757로 같은 기간 코스피 지수 상승률308의 2배를 넘어섰다 반면 해외 주식의 경우 비교적 덜 알려진 종목들도 많이 매수하는 경향을 보였다 법인의 전문성을 바탕으로 성장성이 높은 글로벌 종목을 직접 발굴하는 경향이 있기 때문으로 분석된다 ◎공감언론 뉴시스 shoon return 받은값\n"
     ]
    },
    {
     "name": "stderr",
     "output_type": "stream",
     "text": [
      "C:\\Users\\user\\anaconda3\\envs\\py38_64\\lib\\site-packages\\urllib3\\connectionpool.py:981: InsecureRequestWarning: Unverified HTTPS request is being made to host 'newsis.com'. Adding certificate verification is strongly advised. See: https://urllib3.readthedocs.io/en/latest/advanced-usage.html#ssl-warnings\n",
      "  warnings.warn(\n"
     ]
    },
    {
     "name": "stdout",
     "output_type": "stream",
     "text": [
      "UTF-8\n",
      "979 start\n",
      "http://www.ggilbo.com/news/articleView.html?idxno=836054 : 웅진, 돌고 도는 윤석열 테마주 오늘은 너 차레 웅진 +24% 강세 웅진이 24일 오전 10시 6분께 +23.22%(505원)상승한 2680원에 거래되며 강세를 보이고 있다. 이에 많은 투자자들이 웅진에 주목하고 있다. 한편 웅진은 윤석금...\n",
      "UTF-8\n",
      "주식웅진 돌고 도는 윤석열 테마주 오늘은 너 차레 웅진 24 강세 < 금융증권 < 경제 < 기사본문 금강일보 주요서비스 바로가기 본문 바로가기 매체정보 바로가기 로그인 바로가기 기사검색 바로가기 전체서비스 바로가기 상단영역  return 받은값\n",
      "UTF-8\n",
      "http://news.mt.co.kr/mtview.php?no=2021032310355570775 : 스타트업 전문투자사 패스트벤처스는 스타트업 창업자와 임직원들의 기존 보유주식(구주)이나 주식매수선택권(스톡옵션) 행사분을 매입하는 '리워딩 탤런트 프로그램'을 운영한다고 23일 밝혔다. 리워딩 탤런트...\n"
     ]
    },
    {
     "name": "stderr",
     "output_type": "stream",
     "text": [
      "C:\\Users\\user\\anaconda3\\envs\\py38_64\\lib\\site-packages\\urllib3\\connectionpool.py:981: InsecureRequestWarning: Unverified HTTPS request is being made to host 'news.mt.co.kr'. Adding certificate verification is strongly advised. See: https://urllib3.readthedocs.io/en/latest/advanced-usage.html#ssl-warnings\n",
      "  warnings.warn(\n"
     ]
    },
    {
     "name": "stdout",
     "output_type": "stream",
     "text": [
      "EUC-KR\n",
      "1870 start\n",
      "스타트업 전문투자사 패스트벤처스는 스타트업 창업자와 임직원들의 기존 보유주식구주이나 주식매수선택권스톡옵션 행사분을 매입하는 리워딩 탤런트 프로그램을 운영한다고 23일 밝혔다 리워딩 탤런트 프로그램은 투자를 받은 스타트업이라도 정작 창업자나 임직원들은 경제생활에 어려움을 겪는 경우가 많다는 점에 착안했다 기존 비상장 주식 매매도 대중적으로 유명하거나 일정 수준 이상의 대규모 투자를 받은 기업들을 위주로 거래됐다 패스트벤처스는 그보다 작고 인지도가 부족한 기업들의 구주 스톡옵션을 직접 매수할 계획이다 리워딩 탤런트 대상 회사 참여요건은 △기업가치 500억원·연매출 100억 미만 △시리즈C 투자유치 미만 △지분 및 스톡옵션 행사 가능 조건을 충족한 경우 △지분의 외부 매각에 제한이 없는 경우 등이다 박지웅 패스트벤처스 대표는 리워딩 탤런트 프로그램은 벤처캐피털 산업을 혁신하고 스타트업 생태계에 기여하고자 하는 다양한 시도 중 하나라며 나아가 불특정인에게 구주가 팔리거나 창업자 개인이 지분을 매입하기 어려울 경우에 창업자들을 도울 수 있는 방안들을 선보일 예정이라고 말했다 <저작권자 © 돈이 보이는 리얼타임  return 받은값\n"
     ]
    },
    {
     "name": "stderr",
     "output_type": "stream",
     "text": [
      "C:\\Users\\user\\anaconda3\\envs\\py38_64\\lib\\site-packages\\urllib3\\connectionpool.py:981: InsecureRequestWarning: Unverified HTTPS request is being made to host 'news.mt.co.kr'. Adding certificate verification is strongly advised. See: https://urllib3.readthedocs.io/en/latest/advanced-usage.html#ssl-warnings\n",
      "  warnings.warn(\n"
     ]
    },
    {
     "name": "stdout",
     "output_type": "stream",
     "text": [
      "EUC-KR\n",
      "1870 start\n",
      "http://www.ggilbo.com/news/articleView.html?idxno=836112 : 삼일씨엔에스, +22% 강세에 이목 집중... 왜? 삼일씨엔에스가 24일 오후 12시 50분께 +22.96%(2900원)상승한 1만5750원에 거래되며 강세를 보이고 있다. 이에 많은 투자자들이 삼일씨엔에스에 이목을 보인 가운데 급등을 설명할...\n",
      "UTF-8\n",
      "3 start\n",
      "187 start\n",
      "258 start\n",
      "528 start\n",
      "삼일씨엔에스 22 강세에 이목 집중 왜 사진삼일씨엔에스 삼일씨엔에스가 24일 오후 12시 50분께 22962900원상승한 1만5750원에 거래되며 강세를 보이고 있다 이에 많은 투자자들이 삼일씨엔에스에 이목을 보인 가운데 급등을 설명할 만한 특별한 공시나 이슈는 없는 상태이다 한편 지난 22일 감사보고서 제출이 이루어졌지만 당해사업연도는 전년대비 영업이익과 당기순이익이 적자로 전환된 모습을 보인 바 있다 반면 지난 3일 신영증권에 따르면 삼일씨엔에스에 대해 콘크리트 파일 가격 및 출하량이 반등하면서 올해 영업이익의 흑자전환을 전망했다 투자의견은 없음No red이라고 밝힌 바 있다 한 투자 전문가는 현재 콘크리트 파일 가격은 당 12만원대를 회복한 것으로 추정된다라며 올해 착공 물량 반등 및 정부 주도 택지 개발 등의 성과로 향후 콘크리트 파일 수요의 완만한 회복이 전망된다고 판단했고 전했다 콘크리트파일PHC파일은 건물의 기초지지력을 향상시키기 위해 시공할 필요가 있다 삼일씨엔에스의 사업부문은 건설부문과 제조부문으로 구성되며 주요고객으로는 대림산업 롯데건설 지에스건설 대우건설 SK건설 등이 있다 경주지진과 포항지진 이후 내진에 대한 경각심 및 구조물의안전에 대한 인식이 크게 바뀌었으며 이로인해 콘크리트 부문의 수요가 유지되어오고 있다 이에 투자자들은 연상 따상 가자 왜 오르지 이게 무슨일이죠 잘먹었다 무증가자 뭔일 여기 주포는 어디갔나 KTV 리폿떴다 등 다양한 반응을 보이고 있다 저작권자 © 금강일보 무단전재 및 재배포 금지 조민규 인턴 return 받은값\n",
      "UTF-8\n",
      "3 start\n",
      "187 start\n",
      "258 start\n",
      "528 start\n",
      "http://news.unn.net/news/articleView.html?idxno=506463 : 인하공전이 역발상주식회사로부터 방역 물품을 기증받았다. (사진=인하공전 제공)  인하공업전문대학(총장 진인주)이 23일 역발상주식회사로부터 방역 물품을 기증받았다고 밝혔다. 기증 받은 물품은 손소독제, 소독티슈...\n",
      "UTF-8\n",
      "1177 start\n",
      "인하공전이 역발상주식회사로부터 방역 물품을 기증받았다 사진인하공전 제공 한국대학신문 이원지  return 받은값\n",
      "UTF-8\n",
      "1177 start\n",
      "http://www.businesspost.co.kr/BP?command=article_view&num=223133 : 이마트 주식 매수의견이 유지됐다. 온라인쇼핑몰인 쓱(SSG)닷컴 성장과 스타벅스 지분 인수 등이 기업가치에 긍정적 영향을 미칠 것으로 보인다. 강희석 이마트 대표이사 사장. 정소연 교보증권 연구원은 24일 이마트...\n",
      "UTF-8\n",
      "364 start\n",
      "이마트 주식 매수의견이 유지됐다 온라인쇼핑몰인 쓱SSG닷컴 성장과 스타벅스 지분 인수 등이 기업가치에 긍정적 영향을 미칠 것으로 보인다 ▲ 강희석 이마트 대표이사 사장 정소연 교보증권 연구원은 24일 이마트 목표주가를 기존과 동일한 22만 원으로 유지하고 투자의견도 매수BUY로 유지했다 23일 이마트 주가는 17만3천 원에 거래를 마쳤다 정 연구원은 이마트를 놓고 “오프라인 할인점 성장 지속과 쓱닷컴 가치 상승이 기대된다”며 “스타벅스커피코리아 지분 전량 인수 논의도 긍정적이라고 판단된다”고 말했다 이마트는 2021년 1분기 연결기준 매출 5조8944억 원 영업이익 1029억 원을 낼 것으로 추정됐다 2020년 1분기보다 매출은 131 영업이익은 1124 증가하는 것이다 올해 1분기에도 코로나19 확산세와 거리두기정책이 지속하면서 가정 내에서 밥을 먹는 내식수요가 증가한 것으로 파악된다 신규점 출점과 경쟁사 구조조정으로 시장 점유율도 확대됐다 여기에 전문점 구조조정과 이마트24 등 적자사업부의 적자 축소 할인점 및 트레이더스부문 매출 증가에 따른 이익률 회복이 영업이익 개선을 뒷받침한 것으로 보인다 정 연구원은 쓱닷컴이 온라인 식품시장을 주도하면서 전체 전자상거래시장 점유율을 확대해 나갈 것으로 전망했다 쓱닷컴에서 식품이 차지하는 비중은 47로 독보적이다 쓱닷컴의 전체 전자상거래시장 점유율은 25이지만 식품 전자상거래시장 점유율은 72로 높다 정 연구원은 최근 이마트와 네이버의 지분교환을 통한 사업제휴가 쓱닷컴의 거래액GMV 확대로 이어질 것으로 예상했다 정 연구원은 “다양한 가능성이 있으나 멤버십 통합서비스 네이버 장보기에 입점 등의 형태일 것으로 추정된다”며 “쓱닷컴 거래액은 2021년 4조9천억 원에서 2023년 9조 원으로 고성장할 것이다”고 내다봤다 비즈니스포스트 김디모데  return 받은값\n",
      "UTF-8\n",
      "364 start\n",
      "http://news.mt.co.kr/mtview.php?no=2021032214134136072 : [[부꾸미TALK]'오늘의 주식' 저자 효라클 \"주식적 사고 훈련하면 누구나 부자 될 수 있어\"] \"솔직히 빚 내서 투자해도 상관 없고요. 달리는 말에 올라타도 괜찮고요. 떨어지는 칼날 잡아도 됩니다. 충분한 투자 실력이 있다면...\n"
     ]
    },
    {
     "name": "stderr",
     "output_type": "stream",
     "text": [
      "C:\\Users\\user\\anaconda3\\envs\\py38_64\\lib\\site-packages\\urllib3\\connectionpool.py:981: InsecureRequestWarning: Unverified HTTPS request is being made to host 'news.mt.co.kr'. Adding certificate verification is strongly advised. See: https://urllib3.readthedocs.io/en/latest/advanced-usage.html#ssl-warnings\n",
      "  warnings.warn(\n"
     ]
    },
    {
     "name": "stdout",
     "output_type": "stream",
     "text": [
      "EUC-KR\n",
      "클럽하우스 인기에 중고아이폰뜰 종목 미리 찾는 주식적 사고 머니투데이 본문영역 바로가기 로그인 전체  return 받은값\n"
     ]
    },
    {
     "name": "stderr",
     "output_type": "stream",
     "text": [
      "C:\\Users\\user\\anaconda3\\envs\\py38_64\\lib\\site-packages\\urllib3\\connectionpool.py:981: InsecureRequestWarning: Unverified HTTPS request is being made to host 'news.mt.co.kr'. Adding certificate verification is strongly advised. See: https://urllib3.readthedocs.io/en/latest/advanced-usage.html#ssl-warnings\n",
      "  warnings.warn(\n"
     ]
    },
    {
     "name": "stdout",
     "output_type": "stream",
     "text": [
      "EUC-KR\n",
      "http://www.ggilbo.com/news/articleView.html?idxno=836106 : CSA코스믹, 감사보고서 연기요청에 -20%하락 CSA코스믹은 24일 오전 10시 55분께 -20.19%(530원)하락한 2095원에 거래되며 하락세를 보이고 있다. 감사보고서의 시즌이 찾아왔다. 동시에 상장폐지에 대한 걱정도 증대되는...\n",
      "UTF-8\n",
      "주식 CSA코스믹 감사보고서 연기요청에 20하락 < 금융증권 < 경제 < 기사본문 금강일보 주요서비스 바로가기 본문 바로가기 매체정보 바로가기 로그인 바로가기 기사검색 바로가기 전체서비스 바로가기 상단영역  return 받은값\n",
      "UTF-8\n"
     ]
    },
    {
     "name": "stderr",
     "output_type": "stream",
     "text": [
      "C:\\Users\\user\\anaconda3\\envs\\py38_64\\lib\\site-packages\\urllib3\\connectionpool.py:981: InsecureRequestWarning: Unverified HTTPS request is being made to host 'search.naver.com'. Adding certificate verification is strongly advised. See: https://urllib3.readthedocs.io/en/latest/advanced-usage.html#ssl-warnings\n",
      "  warnings.warn(\n"
     ]
    },
    {
     "name": "stdout",
     "output_type": "stream",
     "text": [
      "https://www.etoday.co.kr/news/view/2007878 : 이투데이=설경진 기자 | 바이오 신약 연구 개발업체 비씨켐이 사상 최고가를 기록한 반면 비상장 주식 시장은 2일 연속 하락했다. 24일 38커뮤니케이션에 따르면 비씨켐은 전일 대비 1750원(3.83%) 상승한 4만7500원에...\n",
      "UTF-8\n",
      "장외시황 비씨켐 사상 최고가 기록비상장 주식 시장 2일 연속 하락 이투데이 속보창 지면보기 구독신청 RSS 증권·금융 공시시황 시세 특징주 장외IPO 투자전략 IB 채권펀드 금융 일반 기업 재계 전자통신IT 자동차 중화학 항공물류 유통 의료바이오 중기벤처 일반 부동산 시장동향 업계 정책 분양 개발 경매 일반 정치·경제 경제 정책 국제 국회정당 국방외교 일반 사회 사건사고 노동취업 법조 교육 라이프 연예스포츠 일반 오피니언 사설 칼럼 데스크칼럼  return 받은값\n"
     ]
    },
    {
     "name": "stderr",
     "output_type": "stream",
     "text": [
      "C:\\Users\\user\\anaconda3\\envs\\py38_64\\lib\\site-packages\\urllib3\\connectionpool.py:981: InsecureRequestWarning: Unverified HTTPS request is being made to host 'www.etoday.co.kr'. Adding certificate verification is strongly advised. See: https://urllib3.readthedocs.io/en/latest/advanced-usage.html#ssl-warnings\n",
      "  warnings.warn(\n",
      "C:\\Users\\user\\anaconda3\\envs\\py38_64\\lib\\site-packages\\urllib3\\connectionpool.py:981: InsecureRequestWarning: Unverified HTTPS request is being made to host 'www.etoday.co.kr'. Adding certificate verification is strongly advised. See: https://urllib3.readthedocs.io/en/latest/advanced-usage.html#ssl-warnings\n",
      "  warnings.warn(\n"
     ]
    },
    {
     "name": "stdout",
     "output_type": "stream",
     "text": [
      "UTF-8\n",
      "http://goodnews1.com/news/news_view.asp?seq=110471 : / 최근 주식 열풍을 타고 불특정 다수에게 대가를 받고 투자 조언을 하는 이른바 '유사투자자문' 관련... 전월 대비 21%로 가장 많이 증가했습니다. '주식'이 15%, '모바일 게임서비스'가 4%로 뒤를 이었습니다.\n",
      "utf-8\n",
      "541 start\n",
      "최근 주식 열풍을 타고 불특정 다수에게 대가를 받고 투자 조언을 하는 이른바 유사투자자문 관련 소비자 상담이 늘어난 것으로 나타났습니다 소비자원이 지난달 1372 소비자 상담센터에서 접수한 소비자 상담 내용을 분석한 결과 상담 증가율 상위 품목 가운데 유사투자자문이 전월 대비 21로 가장 많이 증가했습니다 주식이 15 모바일 게임서비스가 4로 뒤를 이었습니다 저작권자c 데일리굿 return 받은값\n",
      "utf-8\n",
      "541 start\n",
      "http://www.edaily.co.kr/news/newspath.asp?newsid=01128326628986600 : 국내 주식거래 활동계좌 4000만 시대가 열렸다. 주식거래 활동계좌는 예탁자산이 10만원 이상으로, 6개월간 한 차례 이상 거래가 이뤄진 증권계좌를 말한다. 지난해 말 국내 주민등록 인구는 5182만명, 이중 20세...\n",
      "utf-8\n",
      "886 start\n",
      "국내 주식거래 활동계좌 4000만 시대가 열렸다 주식거래 활동계좌는 예탁자산이 10만원 이상으로 6개월간 한 차례 이상 거래가 이뤄진 증권계좌를 말한다 지난해 말 국내 주민등록 인구는 5182만명 이중 20세 이상이 4312만 명이다 평균 성인 1명당 주식계좌 1개를 가지고 있는 셈이다 지난해 코로나19 이후 불붙은 동학개미’ 운동의 결과로 업계는 받아들이고 있다이데일리 방인권  return 받은값\n"
     ]
    },
    {
     "name": "stderr",
     "output_type": "stream",
     "text": [
      "C:\\Users\\user\\anaconda3\\envs\\py38_64\\lib\\site-packages\\urllib3\\connectionpool.py:981: InsecureRequestWarning: Unverified HTTPS request is being made to host 'www.edaily.co.kr'. Adding certificate verification is strongly advised. See: https://urllib3.readthedocs.io/en/latest/advanced-usage.html#ssl-warnings\n",
      "  warnings.warn(\n",
      "C:\\Users\\user\\anaconda3\\envs\\py38_64\\lib\\site-packages\\urllib3\\connectionpool.py:981: InsecureRequestWarning: Unverified HTTPS request is being made to host 'www.edaily.co.kr'. Adding certificate verification is strongly advised. See: https://urllib3.readthedocs.io/en/latest/advanced-usage.html#ssl-warnings\n",
      "  warnings.warn(\n",
      "C:\\Users\\user\\anaconda3\\envs\\py38_64\\lib\\site-packages\\urllib3\\connectionpool.py:981: InsecureRequestWarning: Unverified HTTPS request is being made to host 'www.edaily.co.kr'. Adding certificate verification is strongly advised. See: https://urllib3.readthedocs.io/en/latest/advanced-usage.html#ssl-warnings\n",
      "  warnings.warn(\n",
      "C:\\Users\\user\\anaconda3\\envs\\py38_64\\lib\\site-packages\\urllib3\\connectionpool.py:981: InsecureRequestWarning: Unverified HTTPS request is being made to host 'www.edaily.co.kr'. Adding certificate verification is strongly advised. See: https://urllib3.readthedocs.io/en/latest/advanced-usage.html#ssl-warnings\n",
      "  warnings.warn(\n"
     ]
    },
    {
     "name": "stdout",
     "output_type": "stream",
     "text": [
      "utf-8\n",
      "886 start\n",
      "http://www.businesspost.co.kr/BP?command=article_view&num=223118 : 삼성전자 주식 매수의견이 유지됐다. 메모리반도체 가격 상승이 실적 개선에 기여할 것으로 기대됐다. 김기남 삼성전자 DS부문 대표이사 부회장. 도현우 NH투자증권 연구원은 24일 삼성전자 목표주가를 기존과...\n",
      "UTF-8\n",
      "368 start\n",
      "삼성전자 주식 매수의견이 유지됐다 메모리반도체 가격 상승이 실적 개선에 기여할 것으로 기대됐다 ▲ 김기남 삼성전자 DS부문 대표이사 부회장 도현우 NH투자증권 연구원은 24일 삼성전자 목표주가를 기존과 동일한 11만 원으로 유지하고 투자의견도 매수BUY로 유지했다 23일 삼성전자 주가는 8만1800원에 거래를 마쳤다 도 연구원은 “메모리 가격이 2분기부터 본격적으로 상승해 올해 실적에 긍정적 영향을 미칠 것이다”면서도 “경쟁사와 기술 격차가 줄어들고 있다는 점은 잠재적 위험이다”고 말했다 삼성전자는 2021년 연결기준 매출 256조4130억 원 영업이익 48조9600억 원을 낼 것으로 예상됐다 2020년보다 매출은 83 영업이익은 360 늘어나는 것이다 올해 2분기부터 인텔의 차세대 서버 플랫폼 위틀리Whiey를 적용한 제품 출하가 시작되면서 대규모 데이터센터 투자가 늘어날 것으로 전망됐다 비대면 수요 증가로 1인 1PC 추세가 확산돼 연말까지 PC수요도 호조를 나타낼 것으로 보인다 2021년 PC 판매량은 전년보다 10 증가할 것으로 예상됐다 다만 도 연구원은 삼성전자의 4세대 10나노급1α D램과 176단 3D낸드 개발이 늦어지고 있는 점을 놓고 잠재적 위험요인으로 꼽았다 경쟁사인 마이크론은 1월 1α D램 출하를 시작했다고 밝혔다 2020년에는 마이크론과 SK하이닉스가 176단 낸드 양산을 발표했다 삼성전자는 2021년 1분기 매출 59조2920억 원 영업이익 8조8250억 원을 낼 것으로 추정됐다 2020년 1분기보다 매출은 72 영업이익은 369 늘어나는 것이다 IM부문과 CE부문 실적 호조로 비수기임에도 영업이익이 시장 전망치를 상회할 것으로 보인다 반도체는 D램 가격 상승이 실적에 기여하지만 미국 오스틴 공장 가동중지는 실적에 부정적 영향을 미칠 것으로 분석됐다 디스플레이는 플렉서블곡면보다 리지드평면 올레드OLED 판매비중이 늘어 이익률이 감소할 것으로 전망된다 IM부문은 갤럭시S21 판매 호조로 실적이 크게 개선될 것으로 보인다 올해 1분기 갤럭시S21 판매량은 1100만 대로 추정됐다 CE부문은 코로나19로 비대면 수요가 이어져 TV 등 가전 판매가 여전히 견조한 것으로 파악됐다 비즈니스포스트 김디모데  return 받은값\n",
      "UTF-8\n",
      "368 start\n",
      "http://www.ajunews.com/view/20210324150720569 : 주식등록제 유명무실 곽예지 기자 yejik@ajunews.com [사진=게티이미지뱅크 제공 ] 중국 자본시장에서 기업들의 상장 절차를 대폭 축소한다는 ‘주식발행등록제’가 본격 도입됐는데도 불구하고 기업공개(IPO) 신청을...\n"
     ]
    },
    {
     "name": "stderr",
     "output_type": "stream",
     "text": [
      "C:\\Users\\user\\anaconda3\\envs\\py38_64\\lib\\site-packages\\urllib3\\connectionpool.py:981: InsecureRequestWarning: Unverified HTTPS request is being made to host 'www.ajunews.com'. Adding certificate verification is strongly advised. See: https://urllib3.readthedocs.io/en/latest/advanced-usage.html#ssl-warnings\n",
      "  warnings.warn(\n"
     ]
    },
    {
     "name": "stdout",
     "output_type": "stream",
     "text": [
      "UTF-8\n",
      "“中 주식등록제’ 시행에도IPO 신청 철회 기업 늘었다” 아주경제 아주경제 20210324수요일 中文 Enish 日本語 Tiến Việ 0324 장마감 KOSPI 299635 839028 KOSDAQ 95382 751079 0324 1646 기준 미국USD 113350 3026 중국CNY 17367 003002 0324 1646 기준 일본JPY 104359 151014 유로EUR 134042 29022 전체메뉴 검색 인사이터즈 중국 산업 재테크 경제 정치 사회 포토 문화·연예 보도자료 아주TV 아주경제 실시간 return 받은값\n"
     ]
    },
    {
     "name": "stderr",
     "output_type": "stream",
     "text": [
      "C:\\Users\\user\\anaconda3\\envs\\py38_64\\lib\\site-packages\\urllib3\\connectionpool.py:981: InsecureRequestWarning: Unverified HTTPS request is being made to host 'www.ajunews.com'. Adding certificate verification is strongly advised. See: https://urllib3.readthedocs.io/en/latest/advanced-usage.html#ssl-warnings\n",
      "  warnings.warn(\n"
     ]
    },
    {
     "name": "stdout",
     "output_type": "stream",
     "text": [
      "UTF-8\n",
      "https://www.sedaily.com/NewsView/22JXM8JCI7 : 장 초반 2,970대까지 떨어졌던 코스피가 2,990선까지 낙폭을 줄였다. 24일 오후 1시 20분 기준 코스피지수는 전 거래일 대비 8.96포인트(0.30%) 떨어진 2,295.78을 가리키고 있다. 8.42포인트(0.28%) 하락한 2,996.32에...\n"
     ]
    },
    {
     "name": "stderr",
     "output_type": "stream",
     "text": [
      "C:\\Users\\user\\anaconda3\\envs\\py38_64\\lib\\site-packages\\urllib3\\connectionpool.py:981: InsecureRequestWarning: Unverified HTTPS request is being made to host 'www.sedaily.com'. Adding certificate verification is strongly advised. See: https://urllib3.readthedocs.io/en/latest/advanced-usage.html#ssl-warnings\n",
      "  warnings.warn(\n",
      "C:\\Users\\user\\anaconda3\\envs\\py38_64\\lib\\site-packages\\urllib3\\connectionpool.py:981: InsecureRequestWarning: Unverified HTTPS request is being made to host 'www.sedaily.com'. Adding certificate verification is strongly advised. See: https://urllib3.readthedocs.io/en/latest/advanced-usage.html#ssl-warnings\n",
      "  warnings.warn(\n"
     ]
    },
    {
     "name": "stdout",
     "output_type": "stream",
     "text": [
      "utf-8\n",
      "1571 start\n",
      "장 초반 2970대까지 떨어졌던 코스피가 2990선까지 낙폭을 줄였다24일 오후 1시 20분 기준 코스피지수는 전 거래일 대비 896포인트030 떨어진 229578을 가리키고 있다 842포인트028 하락한 299632에 출발한 코스피는 한때 297104까지 떨어졌다유가증권시장에서 개인투자자가 6591억 원을 사들였다 외국인과 기관이 각각 4428억 원 2238억 원을 팔았다 시가총액 상위 종목은 혼조세를 나타내고 있다 국내 반도체 투톱인 삼성전자073와 SK하이닉스148가 힘을 쓰지 못하고 있다 이날 종합 반도체 기업 인텔이 파운드리 산업에 23조 원200억 달러을 투자한다는 소식에 국내 업체의 입지가 좁아질 수 있다는 우려가 반영 중인 것으로 풀이된다 같은 시각 NAVER078 현대차243 카카오020는 하락 중이다 LG화학155 삼성SDI128 셀트리온274는 오르는 중이다같은 시각 코스닥지수는 696포인트074 상승한 95327을 가리키고 있다 이날 코스닥은 008포인트001 내린 94623에 개장했지만 이후 반등에 성공했다코스닥 시장에서는 개인이 773억 원을 팔았다 외국인과 기관은 832억 원 197억 원을 순매수했다이승배  return 받은값\n",
      "utf-8\n",
      "1571 start\n",
      "https://imnews.imbc.com/replay/2021/nwdesk/article/6127504_34936.html : 올해 초 게임 업계에서 시작된 연봉 인상이, 모든 업종으로 확산 하면서, 신입 개발자에게 주식 1억 원... 유통업체인 카카오메이커스는 개발자가 입사만 하면 1억원 어치 주식을 주겠다는 파격적인 조건을 내걸었습니다....\n"
     ]
    },
    {
     "name": "stderr",
     "output_type": "stream",
     "text": [
      "C:\\Users\\user\\anaconda3\\envs\\py38_64\\lib\\site-packages\\urllib3\\connectionpool.py:981: InsecureRequestWarning: Unverified HTTPS request is being made to host 'imnews.imbc.com'. Adding certificate verification is strongly advised. See: https://urllib3.readthedocs.io/en/latest/advanced-usage.html#ssl-warnings\n",
      "  warnings.warn(\n",
      "C:\\Users\\user\\anaconda3\\envs\\py38_64\\lib\\site-packages\\urllib3\\connectionpool.py:981: InsecureRequestWarning: Unverified HTTPS request is being made to host 'imnews.imbc.com'. Adding certificate verification is strongly advised. See: https://urllib3.readthedocs.io/en/latest/advanced-usage.html#ssl-warnings\n",
      "  warnings.warn(\n"
     ]
    },
    {
     "name": "stdout",
     "output_type": "stream",
     "text": [
      "utf-8\n",
      "324 start\n",
      "올해 초 게임 업계에서 시작된 연봉 인상이 모든 업종으로 확산 하면서 신입 개발자에게 주식 1억 원 어치를 주는 회사까지 등장했습니다 왜 이런 일이 벌어지고 있는 건지 먼저 정진욱  return 받은값\n",
      "utf-8\n",
      "324 start\n",
      "https://www.paxnetnews.com/articles/72054 : 기업, 지정동의서 제출 꺼려…규제 완화 '절실' 한국장외거래시장(K-OTC)이 장외주식에 대한 투자자들의... 투자자가 사업보고서 제출대상 비상장기업 주식을 K-OTC 시장에서 매도하는 경우를 '매출'에서 제외해 K-OTC...\n"
     ]
    },
    {
     "name": "stderr",
     "output_type": "stream",
     "text": [
      "C:\\Users\\user\\anaconda3\\envs\\py38_64\\lib\\site-packages\\urllib3\\connectionpool.py:981: InsecureRequestWarning: Unverified HTTPS request is being made to host 'www.paxnetnews.com'. Adding certificate verification is strongly advised. See: https://urllib3.readthedocs.io/en/latest/advanced-usage.html#ssl-warnings\n",
      "  warnings.warn(\n",
      "C:\\Users\\user\\anaconda3\\envs\\py38_64\\lib\\site-packages\\urllib3\\connectionpool.py:981: InsecureRequestWarning: Unverified HTTPS request is being made to host 'paxnetnews.com'. Adding certificate verification is strongly advised. See: https://urllib3.readthedocs.io/en/latest/advanced-usage.html#ssl-warnings\n",
      "  warnings.warn(\n"
     ]
    },
    {
     "name": "stdout",
     "output_type": "stream",
     "text": [
      "utf-8\n",
      "규제에 발목 잡힌 KOTC 팍스넷 return 받은값\n"
     ]
    },
    {
     "name": "stderr",
     "output_type": "stream",
     "text": [
      "C:\\Users\\user\\anaconda3\\envs\\py38_64\\lib\\site-packages\\urllib3\\connectionpool.py:981: InsecureRequestWarning: Unverified HTTPS request is being made to host 'www.paxnetnews.com'. Adding certificate verification is strongly advised. See: https://urllib3.readthedocs.io/en/latest/advanced-usage.html#ssl-warnings\n",
      "  warnings.warn(\n",
      "C:\\Users\\user\\anaconda3\\envs\\py38_64\\lib\\site-packages\\urllib3\\connectionpool.py:981: InsecureRequestWarning: Unverified HTTPS request is being made to host 'paxnetnews.com'. Adding certificate verification is strongly advised. See: https://urllib3.readthedocs.io/en/latest/advanced-usage.html#ssl-warnings\n",
      "  warnings.warn(\n"
     ]
    },
    {
     "name": "stdout",
     "output_type": "stream",
     "text": [
      "utf-8\n",
      "http://news.mk.co.kr/newsRead.php?no=269847&year=2021 : 기대안해 \"주식·부동산·비트코인 유망\" 응답최다 부채 끌어다 베팅하는 '빚투'현상 가속 자산시장 급락시 부채충격 직격탄 맞을듯 중견기업에 다니는 한민정씨(29·가명)는 최근 2차 전지 주식공부에 빠졌다. 전기차...\n"
     ]
    },
    {
     "name": "stderr",
     "output_type": "stream",
     "text": [
      "C:\\Users\\user\\anaconda3\\envs\\py38_64\\lib\\site-packages\\urllib3\\connectionpool.py:981: InsecureRequestWarning: Unverified HTTPS request is being made to host 'www.mk.co.kr'. Adding certificate verification is strongly advised. See: https://urllib3.readthedocs.io/en/latest/advanced-usage.html#ssl-warnings\n",
      "  warnings.warn(\n"
     ]
    },
    {
     "name": "stdout",
     "output_type": "stream",
     "text": [
      "{'http-equiv': 'Content-Type', 'content': 'text/html; charset=euc-kr'}\n",
      "content:text/html; charset=euc-kr\n",
      "euc-kr\n",
      "2030대 월급으론 희망없다주식 비트코인이 답국민인식조사 매일경제  return 받은값\n"
     ]
    },
    {
     "name": "stderr",
     "output_type": "stream",
     "text": [
      "C:\\Users\\user\\anaconda3\\envs\\py38_64\\lib\\site-packages\\urllib3\\connectionpool.py:981: InsecureRequestWarning: Unverified HTTPS request is being made to host 'www.mk.co.kr'. Adding certificate verification is strongly advised. See: https://urllib3.readthedocs.io/en/latest/advanced-usage.html#ssl-warnings\n",
      "  warnings.warn(\n"
     ]
    },
    {
     "name": "stdout",
     "output_type": "stream",
     "text": [
      "{'http-equiv': 'Content-Type', 'content': 'text/html; charset=euc-kr'}\n",
      "content:text/html; charset=euc-kr\n",
      "euc-kr\n",
      "http://moneys.mt.co.kr/news/mwView.php?no=2021032317158043809 : '취임 2년차'를 맞은 구현모 KT 대표가 KT의 주식 가치를 3만원 이상으로 평가했다. KT 주가는 2만원대를 벗어나지 못하고 있는 상황. 구 대표의 의지대로 KT 주가가 3만원까지 오를지 주목된다. 구현모 KT 대표는 지난...\n"
     ]
    },
    {
     "name": "stderr",
     "output_type": "stream",
     "text": [
      "C:\\Users\\user\\anaconda3\\envs\\py38_64\\lib\\site-packages\\urllib3\\connectionpool.py:981: InsecureRequestWarning: Unverified HTTPS request is being made to host 'moneys.mt.co.kr'. Adding certificate verification is strongly advised. See: https://urllib3.readthedocs.io/en/latest/advanced-usage.html#ssl-warnings\n",
      "  warnings.warn(\n"
     ]
    },
    {
     "name": "stdout",
     "output_type": "stream",
     "text": [
      "EUC-KR\n",
      "964 start\n",
      "취임 2년차를 맞은 구현모 KT 대표가 KT의 주식 가치를 3만원 이상으로 평가했다 KT 주가는 2만원대를 벗어나지 못하고 있는 상황 구 대표의 의지대로 KT 주가가 3만원까지 오를지 주목된다구현모 KT 대표는 지난 23일 서울 광화문 사옥에서 진행된 미디어 콘텐츠 사업 전략 발표  return 받은값\n"
     ]
    },
    {
     "name": "stderr",
     "output_type": "stream",
     "text": [
      "C:\\Users\\user\\anaconda3\\envs\\py38_64\\lib\\site-packages\\urllib3\\connectionpool.py:981: InsecureRequestWarning: Unverified HTTPS request is being made to host 'moneys.mt.co.kr'. Adding certificate verification is strongly advised. See: https://urllib3.readthedocs.io/en/latest/advanced-usage.html#ssl-warnings\n",
      "  warnings.warn(\n"
     ]
    },
    {
     "name": "stdout",
     "output_type": "stream",
     "text": [
      "EUC-KR\n",
      "964 start\n"
     ]
    },
    {
     "name": "stderr",
     "output_type": "stream",
     "text": [
      "C:\\Users\\user\\anaconda3\\envs\\py38_64\\lib\\site-packages\\urllib3\\connectionpool.py:981: InsecureRequestWarning: Unverified HTTPS request is being made to host 'search.naver.com'. Adding certificate verification is strongly advised. See: https://urllib3.readthedocs.io/en/latest/advanced-usage.html#ssl-warnings\n",
      "  warnings.warn(\n"
     ]
    },
    {
     "name": "stdout",
     "output_type": "stream",
     "text": [
      "http://www.kukinews.com/newsView/kuk202103230372 : 주식 장기투자를 하려 하는데 10년 뒤 유망 산업군은 뭘까? 배터리 산업에 지금 들어가도 될까? 이같은... 주식 투자는 3가지를 고려해야 한다. ▲혁신이 있는지 ▲소비자 선택을 받아 실적이 났는지 ▲경쟁자가...\n",
      "UTF-8\n",
      "997 start\n",
      "주식 장기투자를 하려 하는데 10년 뒤 유망 산업군은 뭘까 배터리 산업에 지금 들어가도 될까 이같은 고민을 하고 있는 2030세대들을 위해 쿠키 return 받은값\n",
      "UTF-8\n",
      "997 start\n",
      "http://www.businesspost.co.kr/BP?command=article_view&num=223128 : 와이더플래닛 주식 매수의견이 유지됐다. 모바일부문 등 광고서비스 플랫폼 매출이 크게 늘고 어드레서블TV광고 등 새로운 시장이 조성되면 와이더플래닛이 수혜를 입을 수 있을 것으로 전망됐다. 와이더플래닛...\n",
      "UTF-8\n",
      "367 start\n",
      "와이더플래닛 주식 매수의견이 유지됐다 모바일부문 등 광고서비스 플랫폼 매출이 크게 늘고 어드레서블TV광고 등 새로운 시장이 조성되면 와이더플래닛이 수혜를 입을 수 있을 것으로 전망됐다 ▲ 와이더플래닛 로고 홍세종 신한금융투자 연구원은 24일 와이더플래닛 목표주가 3만2천 원 투자의견 매수BUY를 각각 유지했다 23일 와이더플래닛 주가는 2만1500원에 거래를 마쳤다 홍 연구원은 “2021년 와이더플래닛의 모바일플랫폼부문 매출은 2020년보다 326 증가한 251억 원을 거둘 것으로 기대된다”며 “데이터플랫폼부문 매출은 앞으로 급격히 늘어날 가능성이 높다”고 내다봤다 와이더플래닛은 빅데이터를 수집하고 이를 인공지능 기반 알고리즘으로 분석해 광고주가 표적 맞춤형 광고를 더 효율적으로 제공할 수 있도록 돕는 광고서비스 플랫폼을 운영하는 기업이다 와이더플래닛은 LG와 신한 이커머스 플랫폼 등 많은 기업들에 고객들의 소비행태와 관련된 빅데이터를 제공하는 것으로 파악된다 코로나19 사태가 진정될 것으로 예상되면서 호텔·레저업계의 광고비 집행도 재개될 것으로 전망됐다 홍 연구원은 “어드레서블AddressbeTV광고시장의 개화가 기대된다”며 “통신사들이 어드레서블TV광고시장 조성을 위해 움직이고 있다”고 진단했다 어드레서블TV광고는 IPTV 플랫폼 사업자가 개별 시청자의 시청이력 등의 정보를 분석해 맞춤형 광고를 송출할 수 있게 되는 광고서비스를 말한다 와이더플래닛은 LG유플러스와 협의를 진행하고 있는 것으로 파악됐다 홍 연구원은 “어드레서블TV광고시장이 열리면 광고단가를 극대화할 수 있는 와이더플래닛의 역할이 커진다”고 바라봤다 와이더플래닛은 2021년 연결기준으로 매출 359억 원 영업이익 12억 원을 거둘 것으로 전망됐다 2020년과 비교해 매출은 238 늘어나고 영업이익은 흑자로 돌아서는 것이다 비즈니스포스트 박세영  return 받은값\n",
      "UTF-8\n",
      "367 start\n",
      "http://www.edaily.co.kr/news/newspath.asp?newsid=03637526628986600 : 증권시장부\n",
      "utf-8\n"
     ]
    },
    {
     "name": "stderr",
     "output_type": "stream",
     "text": [
      "C:\\Users\\user\\anaconda3\\envs\\py38_64\\lib\\site-packages\\urllib3\\connectionpool.py:981: InsecureRequestWarning: Unverified HTTPS request is being made to host 'www.edaily.co.kr'. Adding certificate verification is strongly advised. See: https://urllib3.readthedocs.io/en/latest/advanced-usage.html#ssl-warnings\n",
      "  warnings.warn(\n",
      "C:\\Users\\user\\anaconda3\\envs\\py38_64\\lib\\site-packages\\urllib3\\connectionpool.py:981: InsecureRequestWarning: Unverified HTTPS request is being made to host 'www.edaily.co.kr'. Adding certificate verification is strongly advised. See: https://urllib3.readthedocs.io/en/latest/advanced-usage.html#ssl-warnings\n",
      "  warnings.warn(\n"
     ]
    },
    {
     "name": "stdout",
     "output_type": "stream",
     "text": [
      "736 start\n",
      "780 start\n",
      "증권시장부 주요 return 받은값\n",
      "utf-8\n",
      "736 start\n",
      "780 start\n",
      "http://www.opinionnews.co.kr/news/articleView.html?idxno=47916 : 총 100조원 이상의 자금이 국내 기업 주식을 매수하기 위해 이동했던 것이다. 역사적인 개인 매수세와 기관의... 연기금의 주식 운용에 대해 불만의 목소리가 커지고 있다. 시장이라는 게 매수를 한 사람이 있으면 매도를...\n"
     ]
    },
    {
     "name": "stderr",
     "output_type": "stream",
     "text": [
      "C:\\Users\\user\\anaconda3\\envs\\py38_64\\lib\\site-packages\\urllib3\\connectionpool.py:981: InsecureRequestWarning: Unverified HTTPS request is being made to host 'www.edaily.co.kr'. Adding certificate verification is strongly advised. See: https://urllib3.readthedocs.io/en/latest/advanced-usage.html#ssl-warnings\n",
      "  warnings.warn(\n",
      "C:\\Users\\user\\anaconda3\\envs\\py38_64\\lib\\site-packages\\urllib3\\connectionpool.py:981: InsecureRequestWarning: Unverified HTTPS request is being made to host 'www.edaily.co.kr'. Adding certificate verification is strongly advised. See: https://urllib3.readthedocs.io/en/latest/advanced-usage.html#ssl-warnings\n",
      "  warnings.warn(\n"
     ]
    },
    {
     "name": "stdout",
     "output_type": "stream",
     "text": [
      "UTF-8\n",
      "1213 start\n",
      "총 100조원 이상의 자금이 국내 기업 주식을 매수하기 위해 이동했던 것이다 역사적인 개인 매수세와 기관의 순매도 행진 게다가 올해 들어서는 3월이 채 지나기도 전에 40조원을 순매수한 상태다 작년 초부터 지금까지만 개인이 순매수한 규모는 이제 105조원에 달한다 이러한 흐름은 역사적인 관점에서 봐도 대단한 일이다 2010년부터 2019년까지 10년 동안 개인투자자들은 총 32조원을 순매도했는데 순매수했던 해의 경우에도 그 규모가 연간 10조원 내외였다 따라서 최근 1년여 동안 엄청난 개인 자금이 단기에 쏟아져 들어왔다고 볼 수 있다 그런데 이 과정에서 기관투자자의 순매도 행진이 지속되고 올해 들어 매도세가 더 커지자 개인투자자들 사이에서 기관투자자의 자산운용 방식에 대한 아쉬움의 목소리가 커지고 있다 특히 최근 들어 주가 조정 기간이 길어지면서 올해 들어 단 이틀을 제외하고 줄곧 순매도를 이어 온 연기금의 주식 운용에 대해 불만의 목소리가 커지고 있다 시장이라는 게 매수를 한 사람이 있으면 매도를 한 사람이 있게 마련이지만 기관투자자의 지속적인 매도가 시장 가격을 억압한다고 보는 시각이 많아진 것이다 이 때문에 일부 언론 보도는 연기금 중 가장 큰 국민연금이 전략적 자산배분의 조정 폭을 유연하게 함으로써 매도 속도를 조절하는 방안을 만들고 있다는 소식을 전하고 있다 중기적인 자산배분 목표는 유지하면서도 운용 담당자들이 상황에 따라 매수 매도를 유연하게 가져갈 수 있는 여지를 넓혀준 것이라고 할 수 있다 이러한 소식들에도 불구하고 많은 개인투자자들은 여전히 연기금을 비롯한 기관투자자에 대한 불만의 목소리를 키우고 있다 그렇다면 기관투자자는 왜 꾸준한 매도 기조를 유지한 것일까 올들어 국민연금을 비롯한 기관투자가들의 매도세가 이어지면서 이에 대한 개미투자자들의 반감이 높아지고 있다 사진연합 return 받은값\n",
      "UTF-8\n",
      "1213 start\n",
      "http://www.ggilbo.com/news/articleView.html?idxno=835878 : 라이프시맨틱스, 상장 첫날 하한가 도달 -30% 라이프시맨틱스는 23일 오후 14시 42분께 -30.00%(7500원)하락한 1만7500원에 거래되며 급락한 모습을 보이고 있다. 이에 많은 투자자들이 당황한 기색을 보였다. 하락세를...\n",
      "UTF-8\n",
      "주식 라이프시맨틱스 상장 첫날 하한가 도달 30 < 경제 < 기사본문 금강일보 주요서비스 바로가기 본문 바로가기 매체정보 바로가기 로그인 바로가기 기사검색 바로가기 전체서비스 바로가기 상단영역  return 받은값\n",
      "UTF-8\n",
      "https://view.asiae.co.kr/article/2021032215320114617 : 경기도주식회사가 도내 중소기업의 중국 진출 지원에 나선다. 경기도주식회사는 코로나19 여파로 해외 진출에 어려움을 겪고 있는 도내 중소기업을 돕기 위해 중국시장 진출을 적극 추진한다고 22일 밝혔다....\n"
     ]
    },
    {
     "name": "stderr",
     "output_type": "stream",
     "text": [
      "C:\\Users\\user\\anaconda3\\envs\\py38_64\\lib\\site-packages\\urllib3\\connectionpool.py:981: InsecureRequestWarning: Unverified HTTPS request is being made to host 'view.asiae.co.kr'. Adding certificate verification is strongly advised. See: https://urllib3.readthedocs.io/en/latest/advanced-usage.html#ssl-warnings\n",
      "  warnings.warn(\n"
     ]
    },
    {
     "name": "stdout",
     "output_type": "stream",
     "text": [
      "utf-8\n",
      "1327 start\n",
      "경기도주식회사가 도내 중소기업의 중국 진출 지원에 나선다경기도주식회사는 코로나19 여파로 해외 진출에 어려움을 겪고 있는 도내 중소기업을 돕기 위해 중국시장 진출을 적극 추진한다고 22일 밝혔다 경기도주식회사는 올해 도내 중소기업 17개사 제품을 중국 시장에 수출 지원할 계획이다 이번 사업은 경기도주식회사와 협력 체계에 있는 중국 연변 소재 전문 유통사가 현지 온오프라인 시장에사 직접 판매하는 방식으로 진행된다즉시 매출이 발생하는 구조를 통해 중소기업 운영이 탄력을 받을 것으로 기대된다특히 중국 연변주정부의 우호적인 협력으로 연변 보세 물류센터 운영비를 전액 지원받으면서 우리 기업들의 제품 가격 경쟁력도 확보했다 오는 5월에는 백두산 쇼핑센터 개장도 앞두고 있어 국내 기업들의 중국시장 공략에 한층 속도가 붙을 전망이다경기도주식회사는 앞으로 라이브미디어 커머스와 같은 비대면 온라인 마케팅을 통해 중국 소비자 및 바이어와 접점을 늘릴 계획이다이석훈 경기도주식회사 대표는 어려움을 겪고 있는 도내 중소기업의 중국시장 진출을 적극 지원하기 위해 점차 사업을 확대하겠다고 약속했다 이영규  return 받은값\n",
      "utf-8\n",
      "1327 start\n",
      "http://news.wowtv.co.kr/NewsCenter/News/Read?articleId=A202103230123&t=NNv : 비상장 주식에 대한 투자자들의 관심도 높아졌습니다. `동학 개미`에 이은 `장외 개미`들이 몰리며 주가를 끌어올리고 있는 건데, 일각에선 과열 논란도 나옵니다. 방서후 기자가 요즘 뜨는 장외주식을 알아 봤습니다....\n"
     ]
    },
    {
     "name": "stderr",
     "output_type": "stream",
     "text": [
      "C:\\Users\\user\\anaconda3\\envs\\py38_64\\lib\\site-packages\\urllib3\\connectionpool.py:981: InsecureRequestWarning: Unverified HTTPS request is being made to host 'view.asiae.co.kr'. Adding certificate verification is strongly advised. See: https://urllib3.readthedocs.io/en/latest/advanced-usage.html#ssl-warnings\n",
      "  warnings.warn(\n",
      "C:\\Users\\user\\anaconda3\\envs\\py38_64\\lib\\site-packages\\urllib3\\connectionpool.py:981: InsecureRequestWarning: Unverified HTTPS request is being made to host 'news.wowtv.co.kr'. Adding certificate verification is strongly advised. See: https://urllib3.readthedocs.io/en/latest/advanced-usage.html#ssl-warnings\n",
      "  warnings.warn(\n"
     ]
    },
    {
     "name": "stdout",
     "output_type": "stream",
     "text": [
      "utf-8\n",
      "1033 start\n",
      "4212 start\n",
      "비상장 주식에 대한 투자자들의 관심도 높아졌습니다동학 개미에 이은 장외 개미들이 몰리며 주가를 끌어올리고 있는 건데 일각에선 과열 논란도 나옵니다방서후  return 받은값\n"
     ]
    },
    {
     "name": "stderr",
     "output_type": "stream",
     "text": [
      "C:\\Users\\user\\anaconda3\\envs\\py38_64\\lib\\site-packages\\urllib3\\connectionpool.py:981: InsecureRequestWarning: Unverified HTTPS request is being made to host 'news.wowtv.co.kr'. Adding certificate verification is strongly advised. See: https://urllib3.readthedocs.io/en/latest/advanced-usage.html#ssl-warnings\n",
      "  warnings.warn(\n"
     ]
    },
    {
     "name": "stdout",
     "output_type": "stream",
     "text": [
      "utf-8\n",
      "1033 start\n",
      "4211 start\n",
      "http://www.edaily.co.kr/news/newspath.asp?newsid=01177526628986272 : 반도체 슈퍼사이클과 함께 반도체 장비업체들이 주식시장에서 주목받는다. 한미반도체를 비롯해... 테스 역시 최근 주식시장에서 주목받는 반도체 장비업체다. 테스는 종가 3만 4550원에 시가총액 6830억원이었다....\n"
     ]
    },
    {
     "name": "stderr",
     "output_type": "stream",
     "text": [
      "C:\\Users\\user\\anaconda3\\envs\\py38_64\\lib\\site-packages\\urllib3\\connectionpool.py:981: InsecureRequestWarning: Unverified HTTPS request is being made to host 'www.edaily.co.kr'. Adding certificate verification is strongly advised. See: https://urllib3.readthedocs.io/en/latest/advanced-usage.html#ssl-warnings\n",
      "  warnings.warn(\n",
      "C:\\Users\\user\\anaconda3\\envs\\py38_64\\lib\\site-packages\\urllib3\\connectionpool.py:981: InsecureRequestWarning: Unverified HTTPS request is being made to host 'www.edaily.co.kr'. Adding certificate verification is strongly advised. See: https://urllib3.readthedocs.io/en/latest/advanced-usage.html#ssl-warnings\n",
      "  warnings.warn(\n"
     ]
    },
    {
     "name": "stdout",
     "output_type": "stream",
     "text": [
      "utf-8\n",
      "1184 start\n",
      "반도체 슈퍼사이클과 함께 반도체 장비업체들이 주식시장에서 주목받는다 한미반도체를 비롯해 원익IPS 유진테크 테스TES 등 장비업체들이 최근 잇달아 사상 최고가를 기록하고 있는 것 적어도 내년까지 반도체 슈퍼사이클이 이어질 것이란 전망이 나오면서 장비업체들 주가 상승세는 당분간 이어질 것이라는 게 증권업계 중론이다 22일 업계에 따르면 반도체 장비 대장주’ 원익IPS240810는 지난 19일 종가 5만 200원을 기록했다 시가총액은 2조 4640억원에 달했다 앞서 원익IPS는 지난 1월 22일 장중에 5만 5200원을 찍으면서 사상 최고가를 경신하기도 했다 올해 들어서는 시가총액 2조원 이상을 이어간다원익IPS는 삼성전자005930와 SK하이닉스000660에 플라즈마 화학증착장비PE CVD 등 증착장비를 활발히 공급한다 증착장비는 반도체 웨이퍼원판 위에 필요한 막을 균일하게 입히는 장비다 이 회사는 지난해 매출액디스플레이 장비 포함 1조 909억원을 올리면서 사상 처음 1조원 이상을 기록했다 키움증권은 원익IPS가 올해 전년보다 23 늘어난 1조 3452억원 매출액을 올리며 최대 실적 행진을 이어갈 것으로 내다봤다 아울러 목표주가 6만 8000원에 매수’ 의견을 냈다유진테크084370는 같은 날 주가 4만 800원에 장을 마감했으며 시가종액은 9350억원이었다 증권가에서는 유진테크 주가가 머지 않아 1조원을 넘어설 것으로 예상한다 유진테크 역시 저압 화학증착장비LP CVD 등 증착장비 분야에서 삼성전자 SK하이닉스 등과 협력한다 신한금융투자는 유진테크가 올해 전년 2026억원보다 823 증가한 3692억원 매출액을 달성할 것으로 내다봤다 또한 목표주가 5만 2000원에 매수’ 의견을 냈다테스 역시 최근 주식시장에서 주목받는 반도체 장비업체다 테스는 종가 3만 4550원에 시가총액 6830억원이었다 지난 8일에는 장중 3만 3650원을 찍으며 사상 최고가를 경신했다 유안타증권은 올해 테스 매출액이 전년 2460억원보다 356 늘어난 3336억원이 될 것으로 내다봤다 목표주가로는 3만 6000원을 제시했다김지산 키움증권 연구위원은 “D램에 이어 낸드플래시 메모리반도체 업황이 예상보다 빠르게 회복하고 서버를 중심으로 반도체 호황이 당분간 계속 이어질 전망”이라며 “올해 국내에선 낸드플래시 위주로 설비투자가 활발히 이뤄질 예정이다 이에 따라 반도체 장비업체들 수주 모멘텀이 클 것이고 원익IPS와 테스 등의 수혜가 예상된다”고 말했다 주요 return 받은값\n",
      "utf-8\n"
     ]
    },
    {
     "name": "stderr",
     "output_type": "stream",
     "text": [
      "C:\\Users\\user\\anaconda3\\envs\\py38_64\\lib\\site-packages\\urllib3\\connectionpool.py:981: InsecureRequestWarning: Unverified HTTPS request is being made to host 'www.edaily.co.kr'. Adding certificate verification is strongly advised. See: https://urllib3.readthedocs.io/en/latest/advanced-usage.html#ssl-warnings\n",
      "  warnings.warn(\n",
      "C:\\Users\\user\\anaconda3\\envs\\py38_64\\lib\\site-packages\\urllib3\\connectionpool.py:981: InsecureRequestWarning: Unverified HTTPS request is being made to host 'www.edaily.co.kr'. Adding certificate verification is strongly advised. See: https://urllib3.readthedocs.io/en/latest/advanced-usage.html#ssl-warnings\n",
      "  warnings.warn(\n"
     ]
    },
    {
     "name": "stdout",
     "output_type": "stream",
     "text": [
      "1184 start\n",
      "http://www.edaily.co.kr/news/newspath.asp?newsid=01357926628986600 : 국내 주식형 펀드 자금이 순유입으로 다시 돌아섰다. 24일 금융투자협회에 따르면 지난 22일 기준 국내 주식형 펀드(상장지수펀드 제외)에서 347억원이 설정되고 279억원이 해지돼 69억원이 순유입됐다. 이로써...\n"
     ]
    },
    {
     "name": "stderr",
     "output_type": "stream",
     "text": [
      "C:\\Users\\user\\anaconda3\\envs\\py38_64\\lib\\site-packages\\urllib3\\connectionpool.py:981: InsecureRequestWarning: Unverified HTTPS request is being made to host 'www.edaily.co.kr'. Adding certificate verification is strongly advised. See: https://urllib3.readthedocs.io/en/latest/advanced-usage.html#ssl-warnings\n",
      "  warnings.warn(\n",
      "C:\\Users\\user\\anaconda3\\envs\\py38_64\\lib\\site-packages\\urllib3\\connectionpool.py:981: InsecureRequestWarning: Unverified HTTPS request is being made to host 'www.edaily.co.kr'. Adding certificate verification is strongly advised. See: https://urllib3.readthedocs.io/en/latest/advanced-usage.html#ssl-warnings\n",
      "  warnings.warn(\n"
     ]
    },
    {
     "name": "stdout",
     "output_type": "stream",
     "text": [
      "utf-8\n",
      "803 start\n",
      "국내 주식형 펀드 자금이 순유입으로 다시 돌아섰다 24일 금융투자협회에 따르면 지난 22일 기준 국내 주식형 펀드상장지수펀드 제외에서 347억원이 설정되고 279억원이 해지돼 69억원이 순유입됐다 이로써 하루 만에 순유입이다 또 해외 주식형 펀드에서는 597억원이 설정되고 450억원이 해지돼 147억원이 순유입됐다 7거래일 연속 순유입이다 국내·외 주식형 펀드 설정원본은 80조4169억원으로 전 거래일보다 666억원 줄었다 설정원본에 운용 손익을 더한 순자산총액은 95조2983억원으로 전 거래일보다 2699억원 감소했다 국내·외 채권형 펀드 설정원본은 126조6330억원으로 전 거래일보다 697억원 늘었다 순자산총액은 127조621억원으로 전 거래일보다 1107억원 증가했다단기금융상품인 머니마켓펀드MMF 설정원본은 154조3965억원으로 전 거래일보다 2797억원 줄었다 순자산총액은 154조9171억원으로 전 거래일보다 2805억원 감소했다 주요 return 받은값\n",
      "utf-8\n"
     ]
    },
    {
     "name": "stderr",
     "output_type": "stream",
     "text": [
      "C:\\Users\\user\\anaconda3\\envs\\py38_64\\lib\\site-packages\\urllib3\\connectionpool.py:981: InsecureRequestWarning: Unverified HTTPS request is being made to host 'www.edaily.co.kr'. Adding certificate verification is strongly advised. See: https://urllib3.readthedocs.io/en/latest/advanced-usage.html#ssl-warnings\n",
      "  warnings.warn(\n",
      "C:\\Users\\user\\anaconda3\\envs\\py38_64\\lib\\site-packages\\urllib3\\connectionpool.py:981: InsecureRequestWarning: Unverified HTTPS request is being made to host 'www.edaily.co.kr'. Adding certificate verification is strongly advised. See: https://urllib3.readthedocs.io/en/latest/advanced-usage.html#ssl-warnings\n",
      "  warnings.warn(\n"
     ]
    },
    {
     "name": "stdout",
     "output_type": "stream",
     "text": [
      "803 start\n",
      "http://news.mt.co.kr/mtview.php?no=2021032315305895687 : 염승환 이베스트투자증권 부장이 주식 손절 라인에 대해 설명했다. 염승환 부장은 23일 방송된 KBS 쿨FM... 한다\"며 \"주식 투자할 때는 계속 검증을 해야 한다. 영원히 가는 게 아니다\"라고 말했다. 염승환 부장은 주식 투자...\n"
     ]
    },
    {
     "name": "stderr",
     "output_type": "stream",
     "text": [
      "C:\\Users\\user\\anaconda3\\envs\\py38_64\\lib\\site-packages\\urllib3\\connectionpool.py:981: InsecureRequestWarning: Unverified HTTPS request is being made to host 'news.mt.co.kr'. Adding certificate verification is strongly advised. See: https://urllib3.readthedocs.io/en/latest/advanced-usage.html#ssl-warnings\n",
      "  warnings.warn(\n"
     ]
    },
    {
     "name": "stdout",
     "output_type": "stream",
     "text": [
      "EUC-KR\n",
      "1898 start\n",
      "염승환 이베스트투자증권 부장이 주식 손절 라인에 대해 설명했다 염승환 부장은 23일 방송된 KBS 쿨FM 정은지의 가요광장에 게스트로 출연했다 이날 가요광장 한 청취자는 손절 라인을 몇 로 하는게 낫냐는 질문을 보냈다 염 부장은 단타로 오늘 사서 내일 팔려고 하는 분들이 있다며 그런 분들에게 저는 손절 라인을 5로 잡아드린다고 말했다 이어 장기 투자하는 분들은 손절 라인을 잡을 필요가 없지만 이 기업이 내가 생각한 부분과 다른 방향으로 갈 때 손절해야 한다며 주식 투자할 때는 계속 검증을 해야 한다 영원히 가는 게 아니다라고 말했다 염승환 부장은 주식 투자 베스트셀러 주린이가 가장 알고 싶은 최다질문 TOP 77의 저자다 <저작권자 © 돈이 보이는 리얼타임  return 받은값\n"
     ]
    },
    {
     "name": "stderr",
     "output_type": "stream",
     "text": [
      "C:\\Users\\user\\anaconda3\\envs\\py38_64\\lib\\site-packages\\urllib3\\connectionpool.py:981: InsecureRequestWarning: Unverified HTTPS request is being made to host 'news.mt.co.kr'. Adding certificate verification is strongly advised. See: https://urllib3.readthedocs.io/en/latest/advanced-usage.html#ssl-warnings\n",
      "  warnings.warn(\n"
     ]
    },
    {
     "name": "stdout",
     "output_type": "stream",
     "text": [
      "EUC-KR\n",
      "1898 start\n",
      "\n"
     ]
    }
   ],
   "source": [
    "#1000 만개 정도의 검색 결과를 읽어온다.\n",
    "# 첫번째 페이지 start=1, 두번째 페이지인 경우 start=11인거 확인한다.\n",
    "# 웹 페이지 직접 접근 할 땐느 간단이 time.sleep()으로 요청을 간격적으로 한다.\n",
    "# 시간이 10분 정도 소요되기에 상태바를 보여준다. ( tqdm.tqdm_notebook 이용)\n",
    "\n",
    "from urllib.request import urlopen\n",
    "from tqdm import tqdm_notebook\n",
    "\n",
    "present_candi_text = []\n",
    "\n",
    "for n in tqdm_notebook(range(1,100,10)):\n",
    "    word = \"주식\"\n",
    "\n",
    "    url = searching(word,n)\n",
    "    headers = {'User-Agent' : 'Mozilla/5.0 (Macintosh; Intel Mac OS X 10_12_6) AppleWebKit/537.36 (KHTML, like Gecko) Chrome/61.0.3163.100 Safari/537.36'}\n",
    "    res = requests.get(url, headers = headers, verify=False)\n",
    "    soup = BeautifulSoup(res.text,'html.parser')\n",
    "#     print(soup)\n",
    "    list = soup.select('ul.list_news div.dsc_wrap a')\n",
    "    titlist = soup.select('ul.list_news a.news_tit')\n",
    "\n",
    "    for a in range(len(list)):\n",
    "        text = list[a].get_text()\n",
    "        href = list[a].attrs[\"href\"]\n",
    "        print(href, \":\", text)\n",
    "#         time.sleep(5)\n",
    "        print(detail(href,text),\"return 받은값\")\n",
    "    \n",
    "        present_candi_text.append(detail(href,text))\n",
    "    \n",
    "#     soup = BeautifulSoup(res.text,'html.parser')\n",
    "\n",
    "#     list = soup.select('ul.list_news div.dsc_wrap a')\n",
    "#     titlist = soup.select('ul.list_news a.news_tit')\n",
    "\n",
    "\n",
    "\n",
    "\n",
    "\n",
    "\n",
    "\n",
    "#     for a in range(len(list)):\n",
    "#         text = list[a].get_text()\n",
    "#         href = list[a].attrs[\"href\"]\n",
    "#         print(href, \":\", text)\n",
    "#         detail(href,text)\n",
    "    \n",
    "#     for line in tmp:\n",
    "#         present_candi_text.append(line.text)\n",
    "    time.sleep(1)"
   ]
  },
  {
   "cell_type": "code",
   "execution_count": 9,
   "metadata": {},
   "outputs": [
    {
     "data": {
      "text/plain": [
       "100"
      ]
     },
     "execution_count": 9,
     "metadata": {},
     "output_type": "execute_result"
    }
   ],
   "source": [
    "len(present_candi_text)"
   ]
  },
  {
   "cell_type": "code",
   "execution_count": 10,
   "metadata": {},
   "outputs": [],
   "source": [
    "import nltk\n",
    "from konlpy.tag import Okt\n",
    "\n",
    "okt = Okt()\n",
    "\n",
    "present_text = ''\n",
    "for each_line in present_candi_text[:100]:\n",
    "    present_text = present_text + each_line + \"\\n\""
   ]
  },
  {
   "cell_type": "code",
   "execution_count": 11,
   "metadata": {},
   "outputs": [
    {
     "data": {
      "text/plain": [
       "['국내',\n",
       " '주식',\n",
       " '보유',\n",
       " '비중',\n",
       " '확대',\n",
       " '를',\n",
       " '위',\n",
       " '한',\n",
       " '리밸',\n",
       " '런싱',\n",
       " '자산',\n",
       " '조정',\n",
       " '’',\n",
       " '안건',\n",
       " '이',\n",
       " '상정',\n",
       " '된다',\n",
       " '현재',\n",
       " '±',\n",
       " '2',\n",
       " '포인트',\n",
       " '인',\n",
       " '리밸런싱',\n",
       " '허용',\n",
       " '범위',\n",
       " '를',\n",
       " '최대',\n",
       " '±',\n",
       " '35',\n",
       " '까지',\n",
       " '확대',\n",
       " '하는',\n",
       " '방안',\n",
       " '이',\n",
       " '유력한',\n",
       " '것',\n",
       " '으로',\n",
       " '전해졌다',\n",
       " '이',\n",
       " '경우',\n",
       " '올해',\n",
       " '국내',\n",
       " '주식',\n",
       " '보유',\n",
       " '비중',\n",
       " '목표',\n",
       " '치가',\n",
       " '168',\n",
       " '에서',\n",
       " '20',\n",
       " '까지',\n",
       " '확대',\n",
       " '될',\n",
       " '수',\n",
       " '있다',\n",
       " '23일',\n",
       " '정부',\n",
       " '부처',\n",
       " '와',\n",
       " '국민연금',\n",
       " '등',\n",
       " '에',\n",
       " '따르면',\n",
       " '보건복지부',\n",
       " '는',\n",
       " '최근',\n",
       " '기금',\n",
       " '운용',\n",
       " '위원회',\n",
       " '운용',\n",
       " '위원',\n",
       " '들',\n",
       " '에게',\n",
       " '이',\n",
       " '같은',\n",
       " '내용',\n",
       " '을',\n",
       " '포함',\n",
       " '한',\n",
       " '리밸',\n",
       " '런싱',\n",
       " '의결',\n",
       " '안건',\n",
       " '을',\n",
       " '전달',\n",
       " '했다',\n",
       " '복지부',\n",
       " '는',\n",
       " '보안',\n",
       " '’',\n",
       " '을',\n",
       " '이유',\n",
       " '로',\n",
       " '구체',\n",
       " '적',\n",
       " '안건',\n",
       " '설명',\n",
       " '자료',\n",
       " '를',\n",
       " '현장',\n",
       " '배포',\n",
       " '할',\n",
       " '계획',\n",
       " '이라고',\n",
       " '참석',\n",
       " '위원',\n",
       " '들',\n",
       " '에게',\n",
       " '안',\n",
       " '내',\n",
       " '했다',\n",
       " '국민연금',\n",
       " '의',\n",
       " '이번',\n",
       " '리밸런싱',\n",
       " '’',\n",
       " '은',\n",
       " '국민연금',\n",
       " '의',\n",
       " '국내',\n",
       " '주식',\n",
       " '보유',\n",
       " '비중',\n",
       " '을',\n",
       " '늘리기',\n",
       " '위',\n",
       " '한',\n",
       " '조치',\n",
       " '다',\n",
       " '코스피',\n",
       " '지수',\n",
       " '가',\n",
       " '상승',\n",
       " '할',\n",
       " '때',\n",
       " '마다',\n",
       " '목표',\n",
       " '비중',\n",
       " '을',\n",
       " '맞추기',\n",
       " '위해',\n",
       " '기계',\n",
       " '적',\n",
       " '매도',\n",
       " '’',\n",
       " '를',\n",
       " '할',\n",
       " '수',\n",
       " '밖에',\n",
       " '없는',\n",
       " '현실',\n",
       " '을',\n",
       " '고려',\n",
       " '한',\n",
       " '해',\n",
       " '법인',\n",
       " '셈',\n",
       " '이다',\n",
       " '기',\n",
       " '금위',\n",
       " '관계자',\n",
       " '는',\n",
       " '“',\n",
       " '지난',\n",
       " '2월',\n",
       " '회의',\n",
       " '때',\n",
       " '여러',\n",
       " '위원',\n",
       " '들',\n",
       " '이',\n",
       " '연금',\n",
       " '의',\n",
       " '기계',\n",
       " '적',\n",
       " '매도',\n",
       " '에',\n",
       " '문제',\n",
       " '를',\n",
       " '제기',\n",
       " '했다',\n",
       " '”',\n",
       " '며',\n",
       " '“',\n",
       " '옛날',\n",
       " '원칙',\n",
       " '을',\n",
       " '지금',\n",
       " '그대로',\n",
       " '유지',\n",
       " '하는',\n",
       " '게',\n",
       " '옳은지',\n",
       " '짚어',\n",
       " '봐야',\n",
       " '한다는',\n",
       " '데',\n",
       " '공감',\n",
       " '대가',\n",
       " '있었다',\n",
       " '”',\n",
       " '고',\n",
       " '말',\n",
       " '했다',\n",
       " '이어',\n",
       " '“',\n",
       " '이번',\n",
       " '회의',\n",
       " '때',\n",
       " '데이터',\n",
       " '를',\n",
       " '뽑아와',\n",
       " '짚어',\n",
       " '보기',\n",
       " '로',\n",
       " '한',\n",
       " '것',\n",
       " '”',\n",
       " '이',\n",
       " '라며',\n",
       " '“',\n",
       " '국내',\n",
       " '주식',\n",
       " '비중',\n",
       " '을',\n",
       " '재',\n",
       " '평가',\n",
       " '하고',\n",
       " '다르게',\n",
       " '가자는',\n",
       " '내용',\n",
       " '이었다',\n",
       " '”',\n",
       " '고',\n",
       " '덧붙였다',\n",
       " '국민연금',\n",
       " '의',\n",
       " '국내',\n",
       " '주식',\n",
       " '비중',\n",
       " '확대',\n",
       " '를',\n",
       " '위해',\n",
       " '선',\n",
       " '목표',\n",
       " '비중',\n",
       " '자치',\n",
       " '를',\n",
       " '늘리는',\n",
       " '방안',\n",
       " '과',\n",
       " '정해진',\n",
       " '목표',\n",
       " '비중',\n",
       " '내',\n",
       " '추가',\n",
       " '범위',\n",
       " '’',\n",
       " '를',\n",
       " '늘리는',\n",
       " '방안',\n",
       " '등',\n",
       " '이',\n",
       " '있다',\n",
       " '복지부',\n",
       " '와',\n",
       " '기',\n",
       " '금위',\n",
       " '는',\n",
       " '후자',\n",
       " '방안',\n",
       " '을',\n",
       " '위',\n",
       " '한',\n",
       " '리밸린싱',\n",
       " '조',\n",
       " '정안',\n",
       " '을',\n",
       " '택했다',\n",
       " '리밸런싱',\n",
       " '은',\n",
       " '매달',\n",
       " '연금',\n",
       " '목표',\n",
       " '주',\n",
       " '식비',\n",
       " '중',\n",
       " '을',\n",
       " '확인',\n",
       " '한',\n",
       " '뒤',\n",
       " '초과',\n",
       " '하',\n",
       " '거나',\n",
       " '미달',\n",
       " '할',\n",
       " '경우',\n",
       " '다음',\n",
       " '달',\n",
       " '자동',\n",
       " '으로',\n",
       " '매도',\n",
       " '·',\n",
       " '매수',\n",
       " '하는',\n",
       " '전략',\n",
       " '적',\n",
       " '자산',\n",
       " '배분',\n",
       " '의',\n",
       " '방식',\n",
       " '이다',\n",
       " '현재',\n",
       " '리밸런싱',\n",
       " '허용',\n",
       " '범위',\n",
       " '는',\n",
       " '±',\n",
       " '2',\n",
       " '포인트',\n",
       " '다',\n",
       " '기',\n",
       " '금위',\n",
       " '는',\n",
       " '최대',\n",
       " '±',\n",
       " '35',\n",
       " '포인트',\n",
       " '까지',\n",
       " '확대',\n",
       " '하는',\n",
       " '안',\n",
       " '을',\n",
       " '논의',\n",
       " '확정',\n",
       " '한다',\n",
       " '이',\n",
       " '경우',\n",
       " '산술',\n",
       " '적',\n",
       " '으로',\n",
       " '국민연금',\n",
       " '은',\n",
       " '국내',\n",
       " '주식',\n",
       " '을',\n",
       " '20',\n",
       " '3',\n",
       " '목표',\n",
       " '비중',\n",
       " '168',\n",
       " '전략',\n",
       " '적',\n",
       " '허용',\n",
       " '범위',\n",
       " '35',\n",
       " '포인트',\n",
       " '까지',\n",
       " '보유',\n",
       " '할',\n",
       " '수',\n",
       " '있다',\n",
       " '정부',\n",
       " '관계자',\n",
       " '는',\n",
       " '연금',\n",
       " '의',\n",
       " '자산',\n",
       " '분배',\n",
       " '전략',\n",
       " '을',\n",
       " '시장',\n",
       " '상황',\n",
       " '에',\n",
       " '맞게',\n",
       " '유연하게',\n",
       " '조절',\n",
       " '한다는',\n",
       " '방향',\n",
       " '이',\n",
       " '라며',\n",
       " '며',\n",
       " '주식',\n",
       " '비중',\n",
       " '을',\n",
       " '조금',\n",
       " '이라도',\n",
       " '조정',\n",
       " '해',\n",
       " '매도',\n",
       " '의',\n",
       " '속도',\n",
       " '와',\n",
       " '물량',\n",
       " '을',\n",
       " '줄일',\n",
       " '수',\n",
       " '있다는',\n",
       " '판단',\n",
       " '이라고',\n",
       " '설명',\n",
       " '했다',\n",
       " '기',\n",
       " '금위',\n",
       " '관계자',\n",
       " '는',\n",
       " '“',\n",
       " '복지부',\n",
       " '의',\n",
       " '추계',\n",
       " '치를',\n",
       " '보면',\n",
       " '리밸런싱',\n",
       " '허용',\n",
       " '범위',\n",
       " '를',\n",
       " '35',\n",
       " '로',\n",
       " '올릴',\n",
       " '경우',\n",
       " '리밸런싱',\n",
       " '매도',\n",
       " '회수',\n",
       " '가',\n",
       " '지금',\n",
       " '의',\n",
       " '1314',\n",
       " '수준',\n",
       " '으로',\n",
       " '줄어드는',\n",
       " '걸',\n",
       " '로',\n",
       " '나온다며',\n",
       " '지금',\n",
       " '처럼',\n",
       " '변동성',\n",
       " '이',\n",
       " '큰',\n",
       " '장세',\n",
       " '에서',\n",
       " '연금',\n",
       " '이',\n",
       " '리밸런싱',\n",
       " '을',\n",
       " '이유',\n",
       " '로',\n",
       " '매일',\n",
       " '기계',\n",
       " '적',\n",
       " '매도',\n",
       " '를',\n",
       " '할',\n",
       " '경우',\n",
       " '발생',\n",
       " '하는',\n",
       " '거래',\n",
       " '비용',\n",
       " '도',\n",
       " '만만',\n",
       " '찮',\n",
       " '다는',\n",
       " '지적도',\n",
       " '있어',\n",
       " '허용',\n",
       " '범위',\n",
       " '를',\n",
       " '넓히는',\n",
       " '쪽',\n",
       " '으로',\n",
       " '방향',\n",
       " '을',\n",
       " '잡은',\n",
       " '것',\n",
       " '으로',\n",
       " '안다',\n",
       " '”',\n",
       " '고',\n",
       " '설명',\n",
       " '했다',\n",
       " '한편',\n",
       " '이번',\n",
       " '기',\n",
       " '금위',\n",
       " '에선',\n",
       " '올해',\n",
       " '리밸런싱',\n",
       " '을',\n",
       " '조정',\n",
       " '하는',\n",
       " '의결',\n",
       " '안건',\n",
       " '’',\n",
       " '외',\n",
       " '에',\n",
       " '중',\n",
       " '장기',\n",
       " '국내',\n",
       " '주식',\n",
       " '비중',\n",
       " '조정',\n",
       " '시나리오',\n",
       " '를',\n",
       " '담은',\n",
       " '보고',\n",
       " '안건',\n",
       " '’',\n",
       " '도',\n",
       " '논의',\n",
       " '한다',\n",
       " '향후',\n",
       " '20년',\n",
       " '국민연금',\n",
       " '기금',\n",
       " '운용',\n",
       " '자산',\n",
       " '배분',\n",
       " '계획',\n",
       " '새로',\n",
       " '짠',\n",
       " '기준',\n",
       " '포트폴리오',\n",
       " '시범',\n",
       " '구',\n",
       " '성안',\n",
       " '이다',\n",
       " '기',\n",
       " '금위',\n",
       " '다른',\n",
       " '관계자',\n",
       " '는',\n",
       " '“',\n",
       " '20년',\n",
       " '짜리',\n",
       " '큰',\n",
       " '그림',\n",
       " '을',\n",
       " '그린',\n",
       " '뒤',\n",
       " '이를',\n",
       " '토대',\n",
       " '로',\n",
       " '5년',\n",
       " '단위',\n",
       " '계획',\n",
       " '의',\n",
       " '방향성',\n",
       " '을',\n",
       " '논의',\n",
       " '하자는',\n",
       " '취지',\n",
       " '로',\n",
       " '알',\n",
       " '고',\n",
       " '있다며',\n",
       " '그간',\n",
       " '국민연금',\n",
       " '이',\n",
       " '성숙',\n",
       " '기였다면',\n",
       " '앞',\n",
       " '으로는',\n",
       " '감축',\n",
       " '기',\n",
       " '까지',\n",
       " '고려',\n",
       " '해야',\n",
       " '한다는',\n",
       " '취지',\n",
       " '”',\n",
       " '라고',\n",
       " '말',\n",
       " '했다',\n",
       " '<',\n",
       " '저작권',\n",
       " '자',\n",
       " '©',\n",
       " '돈',\n",
       " '이',\n",
       " '보이는',\n",
       " '리얼타임',\n",
       " '본인',\n",
       " '주식',\n",
       " '을',\n",
       " '다른',\n",
       " '사람',\n",
       " '소유',\n",
       " '인',\n",
       " '것',\n",
       " '처럼',\n",
       " '속인',\n",
       " '자료',\n",
       " '를',\n",
       " '공',\n",
       " '정거',\n",
       " '래',\n",
       " '위원회',\n",
       " '에',\n",
       " '제출',\n",
       " '한',\n",
       " '혐의',\n",
       " '등',\n",
       " '으로',\n",
       " '약식',\n",
       " '기소',\n",
       " '된',\n",
       " '이호진',\n",
       " '전',\n",
       " '태광',\n",
       " '그룹',\n",
       " '회장',\n",
       " '에게',\n",
       " '법원',\n",
       " '이',\n",
       " '벌금',\n",
       " '3억원',\n",
       " '의',\n",
       " '약식',\n",
       " '명령',\n",
       " '을',\n",
       " '내렸다',\n",
       " '24일',\n",
       " '법원',\n",
       " '에',\n",
       " '따르면',\n",
       " '서울중앙지법',\n",
       " '형사',\n",
       " '27',\n",
       " '단독',\n",
       " '신세',\n",
       " '아',\n",
       " '판사',\n",
       " '는',\n",
       " '전날',\n",
       " '자본시장',\n",
       " '과',\n",
       " '금융투자',\n",
       " '업',\n",
       " '에',\n",
       " '관',\n",
       " '한',\n",
       " '법률',\n",
       " '위반',\n",
       " '등',\n",
       " '혐의',\n",
       " '로',\n",
       " '기소',\n",
       " '된',\n",
       " '이',\n",
       " '전',\n",
       " '회장',\n",
       " '에게',\n",
       " '벌금',\n",
       " '3억원',\n",
       " '의',\n",
       " '약식',\n",
       " '명령',\n",
       " '을',\n",
       " '내렸다',\n",
       " '약식',\n",
       " '명령',\n",
       " '은',\n",
       " '재판',\n",
       " '없이',\n",
       " '벌금',\n",
       " '·',\n",
       " '과태료',\n",
       " '등',\n",
       " '처분',\n",
       " '을',\n",
       " '하는',\n",
       " '절차',\n",
       " '다',\n",
       " '약식',\n",
       " '명령',\n",
       " '을',\n",
       " '받은',\n",
       " '당사자',\n",
       " '는',\n",
       " '불복',\n",
       " '할',\n",
       " '경우',\n",
       " '약식',\n",
       " '명령문',\n",
       " '을',\n",
       " '송달',\n",
       " '받은',\n",
       " '후',\n",
       " '일주일',\n",
       " '이내',\n",
       " '에',\n",
       " '정식',\n",
       " '재판',\n",
       " '을',\n",
       " '청구',\n",
       " '할',\n",
       " '수',\n",
       " '있다',\n",
       " '이',\n",
       " '전',\n",
       " '회장',\n",
       " '은',\n",
       " '20162018년',\n",
       " '공정위',\n",
       " '에',\n",
       " '지정',\n",
       " '자료',\n",
       " '를',\n",
       " '제출',\n",
       " '할',\n",
       " '때',\n",
       " '태광',\n",
       " '산업',\n",
       " '·',\n",
       " '대',\n",
       " '한화',\n",
       " '섬',\n",
       " '2',\n",
       " '개사',\n",
       " '의',\n",
       " '본인',\n",
       " '주식',\n",
       " '이',\n",
       " '다른',\n",
       " '사람',\n",
       " '소유',\n",
       " '인',\n",
       " '것',\n",
       " '처럼',\n",
       " '속여',\n",
       " '제출',\n",
       " '한',\n",
       " '혐의',\n",
       " '를',\n",
       " '받는다',\n",
       " '앞서',\n",
       " '공정위',\n",
       " '는',\n",
       " '지난',\n",
       " '1월',\n",
       " '지난',\n",
       " '2004년',\n",
       " '부터',\n",
       " '15년',\n",
       " '간',\n",
       " '공정위',\n",
       " '에',\n",
       " '소속',\n",
       " '회사',\n",
       " '주주',\n",
       " '현황',\n",
       " '등',\n",
       " '지정',\n",
       " '자료',\n",
       " '를',\n",
       " '제출',\n",
       " '할',\n",
       " '때',\n",
       " '실제',\n",
       " '소유',\n",
       " '주',\n",
       " '본인',\n",
       " '가',\n",
       " '아닌',\n",
       " '친족',\n",
       " '임',\n",
       " '직원',\n",
       " '등',\n",
       " '차',\n",
       " '명',\n",
       " '주주',\n",
       " '로',\n",
       " '허위',\n",
       " '기재',\n",
       " '했다며',\n",
       " '이',\n",
       " '전',\n",
       " '회장',\n",
       " '을',\n",
       " '검찰',\n",
       " '에',\n",
       " '고발',\n",
       " '했다',\n",
       " '그',\n",
       " '이전',\n",
       " '기간',\n",
       " '도',\n",
       " '위법',\n",
       " '에',\n",
       " '해당',\n",
       " '하지만',\n",
       " '형사소송법',\n",
       " '상',\n",
       " '공',\n",
       " '소',\n",
       " '시효',\n",
       " '를',\n",
       " '고려',\n",
       " '해',\n",
       " '2016년',\n",
       " '이후',\n",
       " '부터만',\n",
       " '법',\n",
       " '위반',\n",
       " '대상',\n",
       " '행위',\n",
       " '로',\n",
       " '봤다는',\n",
       " '것',\n",
       " '이',\n",
       " '공정위',\n",
       " '의',\n",
       " '설명',\n",
       " '이다',\n",
       " '검찰',\n",
       " '은',\n",
       " '공정위',\n",
       " '고발',\n",
       " '사건',\n",
       " '을',\n",
       " '바탕',\n",
       " '으로',\n",
       " '이',\n",
       " '전',\n",
       " '회장',\n",
       " '등',\n",
       " '피의자',\n",
       " '조사',\n",
       " '를',\n",
       " '거쳐',\n",
       " '벌금',\n",
       " '3억원',\n",
       " '에',\n",
       " '약식',\n",
       " '기소',\n",
       " '처분',\n",
       " '을',\n",
       " '내렸다',\n",
       " '당시',\n",
       " '검찰',\n",
       " '관계자',\n",
       " '는',\n",
       " '법정형',\n",
       " '자체',\n",
       " '가',\n",
       " '높지',\n",
       " '않아',\n",
       " '억대',\n",
       " '벌금',\n",
       " '으로',\n",
       " '처분',\n",
       " '되는',\n",
       " '것',\n",
       " '이',\n",
       " '일반',\n",
       " '적',\n",
       " '이라고',\n",
       " '설명',\n",
       " '했다',\n",
       " '◎',\n",
       " '공감',\n",
       " '언론',\n",
       " '뉴시스',\n",
       " 'csenine',\n",
       " '\\n',\n",
       " '우리나라',\n",
       " '주식',\n",
       " '거래',\n",
       " '활동',\n",
       " '계좌',\n",
       " '수가',\n",
       " '처음',\n",
       " '으로',\n",
       " '4000만',\n",
       " '개를',\n",
       " '돌파',\n",
       " '했다',\n",
       " '주식',\n",
       " '거래',\n",
       " '활동',\n",
       " '계좌',\n",
       " '는',\n",
       " '예',\n",
       " '탁자',\n",
       " '산이',\n",
       " '10만원',\n",
       " '이상',\n",
       " '이고',\n",
       " '6',\n",
       " '개월',\n",
       " '동안',\n",
       " '한',\n",
       " '차례',\n",
       " '이상',\n",
       " '거래',\n",
       " '한',\n",
       " '적',\n",
       " '이',\n",
       " '있는',\n",
       " '증권',\n",
       " '계좌',\n",
       " '를',\n",
       " '말',\n",
       " '한다',\n",
       " '주로',\n",
       " '개인',\n",
       " '투자자',\n",
       " '가',\n",
       " '증권사',\n",
       " '를',\n",
       " '통해',\n",
       " '개설',\n",
       " '하는',\n",
       " '위탁',\n",
       " '매매',\n",
       " '계좌',\n",
       " '다',\n",
       " '조선',\n",
       " 'DB',\n",
       " '23일',\n",
       " '금융투자',\n",
       " '협회',\n",
       " '에',\n",
       " '따르면',\n",
       " '지난',\n",
       " '19일',\n",
       " '기준',\n",
       " '주식',\n",
       " '거래',\n",
       " '활동',\n",
       " '계좌',\n",
       " '가',\n",
       " '4006만',\n",
       " '개를',\n",
       " '기록',\n",
       " '했다',\n",
       " '이는',\n",
       " '지난해',\n",
       " '3월',\n",
       " '3000만',\n",
       " '개를',\n",
       " '넘은',\n",
       " '이후',\n",
       " '1년',\n",
       " '만으로',\n",
       " '주식',\n",
       " '거래',\n",
       " '활동',\n",
       " '계좌',\n",
       " '는',\n",
       " '지난해',\n",
       " '12월',\n",
       " '부터',\n",
       " '최근',\n",
       " '까지',\n",
       " '3',\n",
       " '개',\n",
       " '월간',\n",
       " '500만',\n",
       " '개가',\n",
       " '증가',\n",
       " '했다',\n",
       " '지난달',\n",
       " '말',\n",
       " '기준',\n",
       " '우리나라',\n",
       " '의',\n",
       " '주민등록',\n",
       " '인구',\n",
       " '수',\n",
       " '는',\n",
       " '약',\n",
       " '5182만',\n",
       " '명',\n",
       " '으로',\n",
       " '이',\n",
       " '중',\n",
       " '20',\n",
       " '세',\n",
       " '이상은',\n",
       " '약',\n",
       " '4312만',\n",
       " '명',\n",
       " '이다',\n",
       " '성인',\n",
       " '1',\n",
       " '명당',\n",
       " '1',\n",
       " '개꼴',\n",
       " '로',\n",
       " '주식',\n",
       " '거래',\n",
       " '활동',\n",
       " '계좌',\n",
       " '를',\n",
       " '가지',\n",
       " '고',\n",
       " '있는',\n",
       " '셈',\n",
       " '이다',\n",
       " '한편',\n",
       " ...]"
      ]
     },
     "execution_count": 11,
     "metadata": {},
     "output_type": "execute_result"
    }
   ],
   "source": [
    "tokens_ko = okt.morphs(present_text)\n",
    "tokens_ko"
   ]
  },
  {
   "cell_type": "code",
   "execution_count": 12,
   "metadata": {},
   "outputs": [
    {
     "name": "stdout",
     "output_type": "stream",
     "text": [
      "29767\n",
      "5650\n"
     ]
    }
   ],
   "source": [
    "ko = nltk.Text(tokens_ko, name='주식')\n",
    "print(len(ko.tokens))\n",
    "print(len(set(ko.tokens)))"
   ]
  },
  {
   "cell_type": "code",
   "execution_count": 13,
   "metadata": {},
   "outputs": [
    {
     "data": {
      "text/plain": [
       "[('이', 708),\n",
       " ('을', 667),\n",
       " ('에', 589),\n",
       " ('를', 424),\n",
       " ('의', 399),\n",
       " ('으로', 382),\n",
       " ('은', 381),\n",
       " ('주식', 356),\n",
       " ('는', 346),\n",
       " ('가', 335),\n",
       " ('한', 259),\n",
       " ('투자', 251),\n",
       " ('것', 246),\n",
       " ('했다', 214),\n",
       " ('로', 192),\n",
       " ('등', 185),\n",
       " ('들', 168),\n",
       " ('도', 167),\n",
       " ('수', 166),\n",
       " ('할', 147),\n",
       " ('적', 146),\n",
       " ('·', 146),\n",
       " ('하는', 137),\n",
       " ('과', 125),\n",
       " ('에서', 122),\n",
       " ('있다', 118),\n",
       " ('거래', 117),\n",
       " ('이다', 113),\n",
       " ('’', 112),\n",
       " ('인', 110),\n",
       " ('증권', 98),\n",
       " ('전', 95),\n",
       " ('시장', 88),\n",
       " ('지난해', 85),\n",
       " ('있는', 83),\n",
       " ('다', 81),\n",
       " ('하고', 81),\n",
       " ('투자자', 80),\n",
       " ('고', 76),\n",
       " ('와', 75),\n",
       " ('기업', 75),\n",
       " ('원', 74),\n",
       " ('해', 69),\n",
       " ('까지', 67),\n",
       " ('대한', 67),\n",
       " ('대', 66),\n",
       " ('“', 64),\n",
       " ('”', 61),\n",
       " ('계좌', 61),\n",
       " ('말', 60),\n",
       " ('주가', 59),\n",
       " ('미국', 58),\n",
       " ('됐다', 58),\n",
       " ('서비스', 57),\n",
       " ('최근', 56),\n",
       " ('증가', 56),\n",
       " ('자산', 55),\n",
       " ('명', 55),\n",
       " ('금융', 55),\n",
       " ('경제', 53),\n",
       " ('바로가기', 52),\n",
       " ('중', 51),\n",
       " ('올해', 50),\n",
       " ('지난', 50),\n",
       " ('1', 50),\n",
       " ('국내', 49),\n",
       " ('기준', 49),\n",
       " ('펀드', 49),\n",
       " ('이상', 48),\n",
       " ('보다', 48),\n",
       " ('따르면', 47),\n",
       " ('자', 47),\n",
       " ('관심', 47),\n",
       " ('된다', 46),\n",
       " ('매수', 46),\n",
       " ('지', 46),\n",
       " ('종목', 46),\n",
       " ('개', 45),\n",
       " ('주', 44),\n",
       " ('중국', 44),\n",
       " ('해외', 44),\n",
       " ('관련', 44),\n",
       " ('한국', 44),\n",
       " ('정보', 43),\n",
       " ('돈', 42),\n",
       " ('된', 42),\n",
       " ('\\n', 42),\n",
       " ('대비', 41),\n",
       " ('순', 40),\n",
       " ('경우', 39),\n",
       " ('년', 39),\n",
       " ('현재', 38),\n",
       " ('23일', 38),\n",
       " ('이라고', 38),\n",
       " ('했습니다', 38),\n",
       " ('달', 37),\n",
       " ('한다', 37),\n",
       " ('부터', 37),\n",
       " ('금액', 37),\n",
       " ('생각', 37)]"
      ]
     },
     "execution_count": 13,
     "metadata": {},
     "output_type": "execute_result"
    }
   ],
   "source": [
    "ko.vocab().most_common(100)"
   ]
  },
  {
   "cell_type": "code",
   "execution_count": 30,
   "metadata": {},
   "outputs": [
    {
     "name": "stdout",
     "output_type": "stream",
     "text": [
      "Counter({'주식': 356, '투자': 251, '거래': 117, '증권': 98, '시장': 88, '투자자': 80, '고': 76, '기업': 75, '원': 74, '대한': 67, '대': 66, '계좌': 61, '미국': 58, '서비스': 57, '최근': 56, '증가': 56, '자산': 55, '명': 55, '금융': 55, '경제': 53, '올해': 50, '1': 50, '국내': 49, '펀드': 49, '이상': 48, '자': 47, '관심': 47, '매수': 46, '종목': 46, '개': 45, '주': 44, '중국': 44, '해외': 44, '관련': 44, '한국': 44, '정보': 43, '돈': 42, '순': 40, '년': 39, '23일': 38, '달': 37, '금액': 37, '생각': 37, '위': 36, '전망': 36, '수익률': 36, '상승': 35, '기': 35, '개인': 35, '코로나': 35, '19': 35, '전체': 35, '직장인': 35, '성': 34, '장': 34, '증시': 34, '가장': 33, '20': 32, '운용': 32, '금리': 32, '점': 31, '분석': 31, '수익': 31, '매출': 31, '글로벌': 30, '업체': 30, '이익': 30, '상장': 30, '때': 29, '응답': 29, '결과': 28, '게임': 28, '규모': 28, '영업': 28, '채권': 27, '형': 27, '개미': 27, '비중': 26, '매도': 26, '<': 26, '활동': 26, '통해': 26, '기록': 26, '전환': 26, '상환': 26, '3': 25, '상황': 25, '신': 25, '제': 25, '예상': 25, '가격': 25, '기사': 24, '부동산': 24, '기술': 24, '22일': 24, '정부': 23, '이어': 23, '큰': 23, '세': 23, '에는': 23, '사회': 23, '결제': 23, '이용': 23, '발행': 23, '영향': 23, '연구원': 23, '특히': 23, '확대': 22, '평가': 22, '사람': 22, '일반': 22, '3월': 22, '하면': 22, '총': 22, '제공': 22, '의견': 22, '달러': 22, '지수': 21, '수준': 21, '24일': 21, '주요': 21, '크게': 21, '나타났다': 21, '실적': 21, '따른': 21, '연': 21, '지원': 21, '시': 21, '바이오': 21, '씨': 21, '보유': 20, '포인트': 20, '최대': 20, '목표': 20, '회사': 20, '조사': 20, '일보': 20, '사': 20, '개선': 20, '비율': 20, '대해': 20, '디지털': 20, '미': 20, '액': 20, '화폐': 20, '설명': 19, '며': 19, '이었다': 19, '전략': 19, '산업': 19, '1월': 19, '기간': 19, '중도': 19, '거래소': 19, '기관': 19, '저': 19, '미래에셋': 19, '공개': 19, '불공정': 19, '법인': 18, '게': 18, '뒤': 18, '금융투자': 18, '광고': 18, '열풍': 18, '진행': 18, '상담': 18, '30': 18, '반면': 18, 'SK': 18, 'TV': 18, '부문': 18, '법안': 18, '유지': 17, '논의': 17, '래': 17, '수가': 17, '개를': 17, '매매': 17, '지역': 17, '들어': 17, '사진': 17, '고객': 17, '재테크': 17, '올': 17, '상품': 17, '본문': 17, '김': 17, '매': 17, '대표': 17, '프로그램': 17, '반도체': 17, '제재': 17, '추가': 16, '검찰': 16, '대상': 16, '1년': 16, '검색': 16, '요구': 16, '감소': 16, '판매': 16, '돼': 16, '하락': 16, '평균': 16, '4': 16, '가치주': 16, '초': 16, '주문': 16, '사업': 16, '소득': 16, '암호': 16, '만큼': 16, '정책': 16, 'NFT': 16, '위원회': 15, '포함': 15, '돌파': 15, '늘었다': 15, '자문': 15, 'HMM': 15, '지속': 15, '하면서': 15, '안정': 15, '많은': 15, '소비': 15, '서': 15, '비트코인': 15, 'EU': 15, '주식회사': 15, '실제': 14, '행위': 14, '가지': 14, '앱': 14, '모바일': 14, '소비자': 14, '했다고': 14, '예정': 14, '행사': 14, '시작': 14, '은행': 14, '힘': 14, '가운데': 14, '서울': 14, '10년': 14, '시세': 14, '출시': 14, 'AI': 14, '절반': 14, '40': 14, '우려': 14, '삼성': 14, '방안': 13, '코스피': 13, '있었다': 13, '선': 13, '조': 13, '거나': 13, '상': 13, '처음': 13, '증권사': 13, '19일': 13, '신청': 13, '미래': 13, '고용': 13, '국회': 13, '업계': 13, '각각': 13, '급': 13, '하지': 13, '조달': 13, '플랫폼': 13, '발표': 13, '당': 13, '1조': 13, '설정': 13, '부정': 13, '다양한': 13, '비상': 13, '하며': 13, 'IPO': 13, '50': 13, '여': 13, '긍정': 13, '모습': 13, '분': 13, '쿠키런': 13, '정정': 13, '전자': 13, '원금': 13, '장비': 13, '국민연금': 12, '없는': 12, '데': 12, '다음': 12, '발생': 12, '있어': 12, '다른': 12, '©': 12, '받은': 12, '청구': 12, '앞서': 12, '사건': 12, '지난달': 12, '2019년': 12, '영역': 12, '정치': 12, '국제': 12, '로그인': 12, '늘어난': 12, '센터': 12, '하게': 12, '청구권': 12, '탁': 12, '지급': 12, '수수료': 12, '현지시간': 12, '주목': 12, '저축': 12, '이어질': 12, '관리': 12, '5': 12, '급등': 12, '기대': 12, '경': 12, '마켓': 12, '창업': 12, '있습니다': 12, '직접': 12, '유입': 12, '1분': 12, '부양책': 12, '＂': 12, '상품권': 12, '내용': 11, '계획': 11, '2월': 11, '한다는': 11, '재': 11, '향후': 11, '저작권': 11, '공': 11, '예': 11, '인구': 11, '현금': 11, '급증': 11, '대신': 11, '권': 11, '여성': 11, '2020년': 11, '온라인': 11, '주식시장': 11, '역할': 11, '순이익': 11, '반등': 11, '금': 11, '율': 11, '에도': 11, '7': 11, 'ETF': 11, '알고리즘': 11, '실시간': 11, '인프라': 11, '장외': 11, '카카오': 11, '차지': 11, '규제': 11, '나스닥': 11, '물': 11, '트': 11, '단계': 11, '오늘': 11, '바이든': 11, '신고': 11, '경기도': 11, '배달': 11, '와이': 11, '플': 11, '닛': 11, '조정': 10, '범위': 10, '안': 10, '방식': 10, '외': 10, '구': 10, '보이는': 10, '제출': 10, '형사': 10, '이전': 10, '개월': 10, '문화': 10, '환경': 10, '유사': 10, '협의': 10, '공시': 10, '중이': 10, '달성': 10, '8': 10, '4월': 10, '상태': 10, '가상': 10, '성향': 10, '자의': 10, '동학': 10, '박원순': 10, '국채': 10, '테슬라': 10, '성장': 10, '테크': 10, '최고': 10, '대응': 10, '상위': 10, '결정': 10, '수단': 10, '내다봤다': 10, '층': 10, '역시': 10, '직장': 10, '2021년': 10, '있을': 10, '경기': 10, '있도록': 10, '스': 10, '회복': 10, '개발': 10, '되면': 10, '개정안': 10, '처벌': 10, '률': 10, '조치': 9, '문제': 9, '확정': 9, '장기': 9, '5년': 9, '알': 9, '라고': 9, '회장': 9, '당시': 9, '중심': 9, '넘어선': 9, '바': 9, '작년': 9, '한다고': 9, '참여': 9, '받을': 9, '불': 9, '많았다': 9, '1만': 9, '종가': 9, '했던': 9, '영국': 9, '많다는': 9, '않을': 9, '상승세': 9, '지점': 9, '준비': 9, '자동차': 9, '사태': 9, '닷컴': 9, '인기': 9, '새': 9, '정도': 9, '별로': 9, '화': 9, '가입': 9, '해서는': 9, '수요': 9, '삼': 9, '분야': 9, '◆': 9, '젊은': 9, '보인다': 9, '모두': 9, '아니라': 9, '랩': 9, '어': 9, '또는': 9, '아시아': 9, '단': 9, '심리': 9, '연결': 9, '추천': 9, '부과': 9, '금융위': 9, '리밸런싱': 8, '셈': 8, '자동': 8, '변동성': 8, '포트폴리오': 8, '으로는': 8, '혐의': 8, '자본시장': 8, '없이': 8, '주주': 8, '차': 8, '법': 8, '이는': 8, '구독': 8, '일본': 8, '방송': 8, '집계': 8, '풀이': 8, 'CB': 8, '정': 8, '사상': 8, '가능하다': 8, '채권자': 8, '이자': 8, '손실': 8, '금융감독원': 8, '보험': 8, '효과': 8, '다시': 8, '1000만': 8, '있고': 8, '업무': 8, '장관': 8, '플러스': 8, '있기': 8, '집중': 8, '외화': 8, '진출': 8, '노력': 8, '여전히': 8, '시가총액': 8, '연말': 8, '유튜브': 8, '영상': 8, '전문': 8, '인식': 8, '인상': 8, '일자리': 8, '선호': 8, '유망': 8, '악화': 8, '이라': 8, '운': 8, '지식': 8, '편': 8, '결국': 8, '혁신': 8, '금강': 8, '드': 8, '채': 8, '등록': 8, '그렐린': 8, '합병': 8, '캐나다': 8, '울산': 8, '바이': 8, '리더': 8, '이마트': 8, '자료': 7, '라며': 7, '판단': 7, '에선': 7, '앞': 7, '약식': 7, '소': 7, '3000만': 7, '12월': 7, '하루': 7, '메뉴': 7, '오': 7, '스포츠': 7, '칼럼': 7, '책': 7, '라이프': 7, '넘어섰다': 7, '확산': 7, '3천': 7, '가까이': 7, '31일': 7, '5월': 7, '받고': 7, '비교': 7, '자산운용': 7, '익': 7, '내고': 7, '인수': 7, '관계': 7, '처리': 7, '희망': 7, '연구': 7, '기능': 7, '자신': 7, '위험': 7, '속': 7, '목포': 7, '전문가': 7, '조성': 7, '서학': 7, '했고': 7, '△': 7, '흐름': 7, '밸류': 7, '장주': 7, '강세': 7, '잘': 7, '성공': 7, '부담': 7, '뿐': 7, '포스트': 7, '추진': 7, '력': 7, '급락': 7, '꼽았다': 7, '벌': 7, '전국': 7, '사실': 7, '장점': 7, '과정': 7, '커지고': 7, '비': 7, '500': 7, '최소': 7, '카운트': 7, '매체': 7, '상단': 7, '시행': 7, '차관': 7, '인플레이션': 7, '분율': 7, '협력': 7, 'LG': 7, '예능': 7, '뚠뚠': 7, '사용': 7, '제시': 7, '언급': 7, '인권': 7, '신장': 7, '감사': 7, '데브': 7, '시스터즈': 7, '흥행': 7, '에스': 7, '보어': 7, '과징금': 7, '특급': 7, '발상': 7, '쓱': 7, '허용': 6, '구체': 6, '배포': 6, '참석': 6, '고려': 6, '금위': 6, '회의': 6, '배분': 6, '단위': 6, '리얼타임': 6, '기소': 6, '법원': 6, '벌금': 6, '아': 6, '업': 6, '관': 6, '처분': 6, '받는다': 6, '임': 6, '바탕': 6, '우리나라': 6, '4000만': 6, '이고': 6, '주로': 6, '월간': 6, '제외': 6, '중앙': 6, '외교': 6, '유럽': 6, '6일': 6, '특정': 6, '늘': 6, '빅데이터': 6, '적용': 6, '했을': 6, 'TEU': 6, '대감': 6, '조기': 6, '않는다': 6, '불확실': 6, '구매': 6, '우리': 6, '기반': 6, '이하': 6, '에서도': 6, '중요한': 6, '2년': 6, '보증': 6, '마련': 6, '입어': 6, '21': 6, '시민': 6, '살': 6, '위기': 6, '중복': 6, '연초': 6, '부분': 6, '비즈니스': 6, '원화': 6, 'KB': 6, '특징': 6, '제품': 6, '적극': 6, '활용': 6, '새로운': 6, '제도': 6, '강화': 6, '추정': 6, '대로': 6, '콘텐츠': 6, '자리': 6, '월급': 6, '완화': 6, '상당수': 6, '소위': 6, '이러한': 6, '먼저': 6, '원하는': 6, '기회': 6, '라': 6, '생활': 6, '1천': 6, '낮은': 6, '공부': 6, '24': 6, 'SP': 6, '현대차': 6, '별': 6, '홍': 6, '점유': 6, '쇼핑': 6, '포토': 6, '검토': 6, '보이': 6, '준': 6, '레이더': 6, '하겠다고': 6, '폭': 6, '공공': 6, '면서': 6, '당국': 6, '오전': 6, '활성화': 6, '타': 6, '파일': 6, '의원': 6, '여기': 6, '신경': 6, 'MBC': 6, '2030': 6, '구성': 6, '시대': 6, '통보': 6, '코스닥': 6, '대표이사': 6, '연방': 6, '통과': 6, '낼': 6, '4조': 6, '압박': 6, '킹덤': 6, '적자': 6, '필요': 6, 'D': 6, '수사': 6, '로부터': 6, '역': 6, '쿠팡': 6, '유진': 6, '하이닉스': 6, '화학': 6, '삼일': 6, 'IPS': 6, '안건': 5, '35': 5, '위원': 5, '기계': 5, '대가': 5, '데이터': 5, '보기': 5, '초과': 5, '속도': 5, '비용': 5, '단독': 5, '공정위': 5, '직원': 5, '10만원': 5, '차례': 5, '조선': 5, '협회': 5, '500만': 5, '개가': 5, '주민등록': 5, '이상은': 5, '해도': 5, '2012년': 5, '0': 5, '제휴': 5, '닫기': 5, '피니언': 5, '여행': 5, '6만': 5, '마감': 5, '연합': 5, '이벤트': 5, '1000만원': 5, '하는데': 5, '다수': 5, '접수': 5, '36': 5, '5만': 5, '사전': 5, '호': 5, '조건': 5, '보통주': 5, '연속': 5, '투입': 5, '상반기': 5, '2만': 5, '주당': 5, '부채': 5, '된다고': 5, 'FCA': 5, '나왔다': 5, '명의': 5, '선택': 5, '요인': 5, '강조': 5, '디커렛': 5, '유상증자': 5, '대형': 5, '구축': 5, '9': 5, '목적': 5, '보험사': 5, '3년': 5, '호황': 5, '했지만': 5, '늘어났다': 5, '늘어나는': 5, '심사': 5, '2000만': 5, '였다': 5, '금지': 5, '오세훈': 5, 'SNS': 5, '션': 5, '일정': 5, '지적': 5, '문': 5, '창': 5, '월': 5, '트레이딩': 5, '주는': 5, '또한': 5, '지능': 5, '역량': 5, '즈': 5, '사이언스': 5, '논란': 5, '올랐다': 5, '리스트': 5, '강의': 5, '대는': 5, '60': 5, '매우': 5, '업종': 5, '등장': 5, '꼽혔다': 5, '빚': 5, '평가자': 5, '볼': 5, '만원': 5, '보는': 5, '시각': 5, '33': 5, '목소리': 5, '비해': 5, '번': 5, '능력': 5, '부의': 5, '맞춤': 5, '국가': 5, '현지': 5, '동향': 5, '벤': 5, '국고': 5, '작용': 5, '레버리지': 5, '유의': 5, '열린': 5, '중단': 5, '보도': 5, '스타트업': 5, '컨퍼런스': 5, '오후': 5, '주제': 5, '팀': 5, '세대': 5, '일이': 5, '역대': 5, '옥션': 5, '주의': 5, '구조': 5, '보고서': 5, '2천': 5, '수액': 5, '위주': 5, '투자가': 5, '연간': 5, '대통령': 5, '경쟁': 5, '이며': 5, '파월': 5, '밝혔습니다': 5, '건설': 5, '헤지펀드': 5, '재무': 5, '11': 5, '▲': 5, '고서': 5, '체결': 5, '발전': 5, '김동욱': 5, '선물': 5, '선고': 5, '포천시': 5, '홍보': 5, '회원': 5, '3만': 5, '니스': 5, '어치': 5, '키움': 5, '왜': 5, 'UBS': 5, '재난': 5, '콘크리트': 5, 'KT': 5, '어드레서블': 5, '중소기업': 5, '테스': 5, '증착': 5, '손절': 5, '±': 4, '전해졌다': 4, '마다': 4, '여러': 4, '연금': 4, '늘리는': 4, '유연하게': 4, '방향': 4, '조금': 4, '물량': 4, '치를': 4, '새로': 4, '이를': 4, '있다며': 4, '그룹': 4, '명령': 4, '내렸다': 4, '법률': 4, '절차': 4, '지정': 4, '기재': 4, '고발': 4, '하지만': 4, '높지': 4, '4006만': 4, '5182만': 4, '4312만': 4, '성인': 4, '2018년': 4, '노동': 4, '사설': 4, '정당': 4, '교육': 4, '가요': 4, '감안': 4, '대부분': 4, '1천만': 4, '개에서': 4, '계': 4, '2007년': 4, '입금': 4, '시스템': 4, '전월': 4, '불만': 4, '4만': 4, '네이버': 4, '오르면': 4, '받는': 4, '6000': 4, '초대형': 4, '선박': 4, '15': 4, '터': 4, '척': 4, '5일': 4, '8일': 4, '해소': 4, '그동안': 4, '감정': 4, '코': 4, '인텔': 4, '우선': 4, '답': 4, '78': 4, '시기': 4, '질문': 4, '금융기관': 4, '홀딩스': 4, '동시': 4, '해석': 4, '슈퍼': 4, '동척': 4, '받아': 4, '알려졌다': 4, '6조': 4, '손해': 4, '경영': 4, '거리': 4, '2조': 4, '아니다': 4, '2017년': 4, '9000억': 4, '접종': 4, '금감원': 4, '코스피지수': 4, '경향': 4, '무단': 4, '공유': 4, '트위터': 4, '임종석': 4, '당선': 4, '변했다는': 4, '여성혐오': 4, '않는': 4, '격차': 4, '추세': 4, '당분간': 4, '322': 4, '넘게': 4, '빠르게': 4, '먼': 4, '우량': 4, '매력': 4, '반영': 4, '좋은': 4, '14': 4, '유가': 4, '단기': 4, '방법': 4, '최초': 4, '형태': 4, '클럽': 4, '경쟁력': 4, '환전': 4, '가를': 4, '무료': 4, '소액': 4, '확보': 4, '화제': 4, '경험': 4, '인공': 4, '설립': 4, '박': 4, '사장': 4, '조직': 4, '변화': 4, '접근': 4, '된다는': 4, '비싼': 4, '애널': 4, '주린이': 4, '영향력': 4, '독자': 4, '출연': 4, '향상': 4, '국민': 4, '1000': 4, '대와': 4, '선정': 4, '물가': 4, '서도': 4, '한국은행': 4, '주택': 4, '영': 4, '끌': 4, '끌어': 4, '마음': 4, '급여': 4, '설문': 4, '되었다': 4, '그리고': 4, '해볼': 4, '들이': 4, '에만': 4, '미만': 4, '로는': 4, '높게': 4, '물론': 4, '768': 4, '보통': 4, '가능': 4, '쉽게': 4, '출하': 4, '같이': 4, '일임': 4, '100조원': 4, '수혜': 4, '연기금': 4, '카드': 4, '연예': 4, '움직임': 4, '국내외': 4, '금융시장': 4, '진단': 4, '일각': 4, '의회': 4, '국': 4, '2분': 4, '판': 4, '블룸버그': 4, '통신': 4, '보호': 4, '37': 4, '잠재': 4, '뉴욕증시': 4, '공동': 4, '교환': 4, '소식': 4, '쉽다': 4, '보상': 4, '기적': 4, '커뮤니티': 4, '파일럿': 4, '꿈': 4, '9월': 4, '지상파': 4, '탓': 4, '너무': 4, '이야기': 4, '간다': 4, '거': 4, '17': 4, 'NYT': 4, '친환경': 4, '에너지': 4, '전기차': 4, '하반기': 4, '이지만': 4, '책임자': 4, '채굴': 4, '의장': 4, '입장': 4, '학대': 4, '고위': 4, '방문': 4, '블': 4, '링컨': 4, '흑자': 4, 'BUY': 4, '마쳤다': 4, '캐릭터': 4, '갈': 4, '신규': 4, '나무': 4, '25': 4, '부당이득': 4, '도입': 4, '소요': 4, '판결': 4, '포천': 4, '대우': 4, '방역': 4, '물품': 4, '기증': 4, '인하공전': 4, '어려움': 4, '전자상거래': 4, 'MSI': 4, '리워딩': 4, '탤런트': 4, '램': 4, '낸드': 4, '도내': 4, '원본': 4, '부장': 4, '라인': 4, '의결': 3, '전달': 3, '복지부': 3, '보안': 3, '덧붙였다': 3, '이라도': 3, '다는': 3, '지적도': 3, '짠': 3, '그림': 3, '취지': 3, '본인': 3, '소유': 3, '3억원': 3, '일주일': 3, '개사': 3, '2016년': 3, '않아': 3, '탁자': 3, '산이': 3, '개설': 3, '개꼴': 3, '까지만': 3, '100만': 3, '안내': 3, '과학': 3, '머니': 3, '글': 3, '청와대': 3, '북한': 3, '피플': 3, '인사': 3, '4천만': 3, '4천': 3, '7천': 3, '되며': 3, '7월': 3, '넘었다': 3, '184524': 3, '증대': 3, '일인': 3, '6월': 3, '사항': 3, '단체': 3, '해지': 3, '요': 3, '품목': 3, '차익': 3, '만기': 3, '가액': 3, '요건': 3, '의사': 3, '받지': 3, '121': 3, '가시': 3, '감독': 3, '정확한': 3, '모': 3, '본능': 3, '의존': 3, '전통': 3, '높다고': 3, '하도록': 3, '배정': 3, '신종': 3, '코로나바이러스': 3, '감염증': 3, '174': 3, '외벽': 3, '보존': 3, '공사': 3, '문화재': 3, '설치': 3, '토지': 3, '무형': 3, '의료': 3, '3조': 3, '전입': 3, '줄어들고': 3, '손익': 3, '사망': 3, '두기': 3, '5조': 3, '대체': 3, '점검': 3, '7529': 3, '인당': 3, '늘어': 3, '지면': 3, '저자': 3, '선생': 3, '셀프': 3, '출산': 3, '대한항공': 3, '박영선': 3, '이틀': 3, '나온다': 3, '어린이': 3, '마이': 3, 'TIGER': 3, 'PER': 3, '상대': 3, '높아진': 3, '나오는': 3, '이동': 3, '배경': 3, '모델': 3, '프라임': 3, '서버': 3, '환산': 3, '50분': 3, '외국인': 3, '수급': 3, '도움': 3, '오랜': 3, '핀': 3, '자본': 3, '프로젝트': 3, '니': 3, '원인': 3, '많다': 3, '공모': 3, '가가': 3, '구입': 3, '매일경제': 3, '상장법인': 3, '명을': 3, '라면': 3, '그만큼': 3, '채널': 3, '운동': 3, '얼마': 3, 'KBS': 3, '크지': 3, '오르지': 3, '바이러스': 3, '모아': 3, '적지': 3, '샤머니즘': 3, '조급함을': 3, '버리고': 3, '596': 3, '생산': 3, '찾아볼': 3, '엿볼': 3, '가능해': 3, '눈': 3, '일종': 3, '남성': 3, '오래': 3, '569': 3, '500만원': 3, '투': 3, '출처': 3, '보였다': 3, '252': 3, '과는': 3, '달리': 3, '전반': 3, '시청': 3, '투기': 3, '가능한': 3, '324': 3, '하려면': 3, '갖는': 3, '축적': 3, '기본': 3, '176': 3, '부를': 3, '방': 3, '커질': 3, '3000만원': 3, '발굴': 3, '티어': 3, '특허': 3, '사이클': 3, '추구': 3, '냐': 3, '이목': 3, '제로': 3, '테마': 3, '개국': 3, '사의': 3, '최신': 3, '반': 3, '고수': 3, '디': 3, '분양': 3, '중기': 3, '처': 3, '안보': 3, '이슈': 3, '동결': 3, '김용범': 3, '기획재정부': 3, '위축': 3, '30년': 3, '한때': 3, '보완': 3, '연장': 3, '발언': 3, '신흥': 3, '진정': 3, '탄력': 3, '원자재': 3, '화할': 3, '커촹반': 3, '수요일': 3, '담당': 3, '만의': 3, '인도': 3, '72': 3, '55': 3, '품': 3, '엔터테인먼트': 3, '성과': 3, '울': 3, '제한': 3, '모멘텀': 3, '기에': 3, '줄인': 3, '떨어진': 3, '대를': 3, '여파': 3, '구진': 3, '식이': 3, '장애': 3, '전후': 3, '나온': 3, '딘딘': 3, '반대': 3, '화두': 3, '하면서도': 3, '어느': 3, '분위기': 3, '하나': 3, '산': 3, '차원': 3, '현': 3, '대안': 3, '미디어': 3, '시도': 3, '실전': 3, '이기': 3, '업자': 3, '실현': 3, '조종': 3, '적발': 3, '상장폐지': 3, '테마주': 3, '초점': 3, 'G': 3, '않았습니다': 3, '3조달러': 3, '민주당': 3, '내연기관': 3, '오는': 3, 'CNBC': 3, '세율': 3, '→': 3, '재산': 3, '태양': 3, '뛴': 3, '배터리': 3, '아직': 3, '이견': 3, '내년': 3, '리': 3, '심각한': 3, '백신': 3, '열기': 3, '내다봤습니다': 3, '90': 3, 'BIS': 3, '리스크': 3, '인데': 3, '블록': 3, '체인': 3, '위구르': 3, '이뤄진': 3, '회담': 3, '책임': 3, '명과': 3, '곳': 3, '침해': 3, '200': 3, '쌍용차': 3, '회계법인': 3, '거절': 3, '나타났습니다': 3, '식수': 3, '해결': 3, '유안': 3, '수행': 3, '업데이트': 3, '오븐': 3, '하우스': 3, '107': 3, '변경': 3, '3000억원': 3, '2000억원': 3, '1000억원': 3, '13': 3, '인정': 3, '자가': 3, '수량': 3, '입력': 3, '즉시': 3, '김모': 3, '됐습니다': 3, '덜': 3, '47': 3, '낸': 3, '밤': 3, '과거': 3, '합니다': 3, '모으는': 3, '불발': 3, '유죄': 3, '입증책임': 3, '신속하고': 3, '대법원': 3, '집행유예': 3, '없지만': 3, '외식': 3, '중앙회': 3, '지부': 3, '나포맘': 3, '가맹': 3, '냈다': 3, '측은': 3, '환율': 3, '황': 3, '석': 3, '받았다': 3, '역사': 3, '한층': 3, '▶': 3, '사들였다': 3, '높아지고': 3, '1400달러': 3, '부양': 3, '패키지': 3, '레벨': 3, '떨어졌던': 3, '인플레': 3, '가량': 3, '뉴딜': 3, '버전': 3, '중독': 3, '패스트': 3, '구주': 3, '스톡옵션': 3, '기여': 3, '미칠': 3, '식품': 3, '메모리': 3, '비대': 3, 'PC': 3, '호조': 3, '아주경제': 3, '0324': 3, '행진': 3, '염승환': 3, '리밸': 2, '런싱': 2, '168': 2, '기금': 2, '현장': 2, '늘리기': 2, '옛날': 2, '원칙': 2, '짚어': 2, '미달': 2, '조절': 2, '올릴': 2, '회수': 2, '잡은': 2, '20년': 2, '방향성': 2, '하자는': 2, '태광': 2, '27': 2, '위반': 2, '재판': 2, '당사자': 2, '속여': 2, '2004년': 2, '15년': 2, '소속': 2, '현황': 2, '허위': 2, '거쳐': 2, '만으로': 2, '명당': 2, '2010년': 2, '좋아요': 2, '브랜드': 2, '경제정책': 2, '국방': 2, '미술': 2, '영화': 2, '야구': 2, '축구': 2, '레저': 2, '명인': 2, '3천만': 2, '이어지면서': 2, '193327': 2, '204022': 2, '이었고': 2, '303953': 2, '홈페이지': 2, '알파': 2, '5만원': 2, '1억원': 2, '200만원': 2, '혜택': 2, '문과': 2, '커지면서': 2, '소비자원': 2, '1372': 2, '위약금': 2, '과도': 2, '동월': 2, '지시': 2, '건수': 2, '디지털타임스': 2, '전환사채': 2, '환가': 2, '내릴': 2, '누리': 2, '2400억원': 2, '2850원': 2, '1501만': 2, '9275원': 2, '9808억원': 2, 'M': 2, '컨테이너': 2, '컨테이너선': 2, '8450원': 2, '갖추게': 2, '공고': 2, '않으면': 2, '반드시': 2, '명부': 2, '영업일': 2, '내달': 2, '5600원': 2, '기대할': 2, '사채': 2, '79': 2, '마친': 2, 'unsid': 2, 'SEC': 2, '청': 2, 'Finnci': 2, 'Conduc': 2, 'Auhoriy': 2, '성적': 2, '젊은세대': 2, '레': 2, '그래프': 2, '8월': 2, '38': 2, '부여': 2, '알려주는': 2, '집단': 2, '그러면서': 2, '사결': 2, '과를': 2, '피해': 2, '캠페인': 2, '잠시': 2, '유도': 2, 'SBI': 2, '미쓰비시': 2, '으로부터': 2, '67억엔': 2, '유치': 2, '유치했다': 2, '대거': 2, '방침': 2, '도시': 2, '고문': 2, '발': 2, '폭락': 2, '수입': 2, '넘는': 2, '머니투데이': 2, '목포시': 2, '근대역사관': 2, '동양척식주식회사': 2, '부': 2, '일제': 2, '자원': 2, '근': 2, '유': 2, '내부': 2, '리뉴얼': 2, '전시': 2, '줄어': 2, '사가': 2, '쌓아야': 2, '줄어든': 2, '합계': 2, '139': 2, '살펴보면': 2, '인해': 2, '최저': 2, '사는': 2, '인한': 2, '컸다': 2, '부진': 2, '7조': 2, '3000억': 2, '8000억': 2, '게다가': 2, '백': 2, '개로': 2, '8년': 2, '경향신문': 2, '페이스북': 2, '제보': 2, '띄우는': 2, '논문': 2, '수업': 2, '난입': 2, '미얀마': 2, '군경': 2, '쏜': 2, '소녀': 2, '숨졌다': 2, '내버려졌던': 2, '도무송': 2, '변신': 2, '아마도': 2, '예술인': 2, '가봐': 2, '커버': 2, '스토리': 2, '학교': 2, '돌아가지': 2, '상큼': 2, '화보': 2, '싸움소': 2, '힘겨루기': 2, '구미': 2, '배기': 2, '친모': 2, '병원': 2, '밖': 2, '듯': 2, '잃은': 2, '안철수': 2, '아시아나': 2, '2000': 2, '여명': 2, '해고': 2, '489': 2, '292': 2, '···': 2, '좁혀지지': 2, '민심': 2, '띄운': 2, '방증': 2, '박범계': 2, '임은정': 2, '신중했으면': 2, '으로서': 2, '부탁': 2, '용산': 2, '공원': 2, '이름': 2, '이어서': 2, '에프': 2, '앤': 2, '743': 2, '앞섰다': 2, '752': 2, '됐을': 2, '두고': 2, '셋': 2, '코리아': 2, '액티브': 2, '되기': 2, '높아져': 2, '단기간': 2, '각심': 2, '가치투자': 2, '12': 2, '께': 2, '도달': 2, '미친다': 2, '극대': 2, '강': 2, '고민': 2, '빅': 2, '증거': 2, '홍콩': 2, '별도': 2, '자유로운': 2, '더해': 2, '프리': 2, '장전': 2, '6시': 2, '1만원': 2, '15만': 2, '했다이': 2, 'MTS': 2, '쉽고': 2, '얻을': 2, '커': 2, '전용': 2, '와의': 2, '엔씨소프트': 2, '손잡고': 2, '합작': 2, '협업': 2, '으로도': 2, '인적': 2, '출현': 2, '필수': 2, '과열': 2, '모주': 2, '팜': 2, '앞두고': 2, '뱅크': 2, '크래프톤': 2, '놀자': 2, '31조': 2, '시중': 2, '사인': 2, '사례': 2, '나선다': 2, 'AP': 2, '의미': 2, '대중화': 2, '베스트셀러': 2, '유튜버': 2, '슈카': 2, '세계': 2, '짐': 2, '인터뷰': 2, '프로': 2, '10만': 2, '이데일리': 2, '서는': 2, '329': 2, '기대도': 2, '95': 2, '94': 2, '외는': 2, '승진': 2, '149': 2, '91': 2, '이직': 2, '이었다이': 2, '않기': 2, '689': 2, '이뤘다': 2, '446': 2, '내다본': 2, '자도': 2, '327': 2, '기대한': 2, '전무해': 2, '청년': 2, '암울하게': 2, '내다보는': 2, '숙박': 2, '음식점': 2, '225': 2, '철강': 2, '두드러질': 2, '214': 2, '206': 2, '됐다고용': 2, '453': 2, '263': 2, '지목': 2, '249': 2, '유연': 2, '219': 2, '과제': 2, '권민지': 2, '보인다고': 2, '납부': 2, '이어지고': 2, '보입니다': 2, '영혼': 2, '빚투': 2, '내서': 2, '않습니다': 2, '기대하는': 2, '자본주의': 2, '표현': 2, '원해야': 2, '678': 2, '실시': 2, '중요하다고': 2, '인들': 2, '66': 2, '사무직': 2, '에게서': 2, '기를': 2, '형성': 2, '밝힌': 2, '527': 2, '갖게': 2, '보여주는': 2, '455': 2, '상당히': 2, '61': 2, '짧은': 2, '아무래도': 2, '했다는': 2, '있었으며': 2, '결코': 2, '둔': 2, '단연': 2, '304': 2, '성공할': 2, '많지만': 2, '정작': 2, '보여졌다': 2, '편이': 2, '열심히': 2, '해서': 2, '들으면서': 2, '46': 2, '했는데': 2, '강해질': 2, '생길': 2, '고정': 2, '일수록': 2, '가능하다는': 2, '492': 2, '없어도': 2, '28': 2, '둘러싼': 2, '중장': 2, '년층': 2, '좀': 2, '평생': 2, '없을': 2, '제대로': 2, '필요하다': 2, '미치는': 2, '크고': 2, '않게': 2, '바라보는': 2, '794': 2, '벌기': 2, '마인드': 2, '중요하다는': 2, '지배': 2, '케': 2, '깨달음': 2, '있어야': 2, '607': 2, '훨씬': 2, '나아가': 2, '무조건': 2, '부는': 2, '의해': 2, '따르는': 2, '없는데': 2, '현상': 2, '잡고': 2, '맹신': 2, '곧': 2, '인생': 2, '뜻': 2, '동의': 2, '식': 2, '종': 2, '내놨다': 2, '숨은': 2, '보석': 2, '탑': 2, '매크로': 2, '진입': 2, '추후': 2, '꾸준한': 2, '상무': 2, '따': 2, '역점': 2, '네트워크': 2, '해왔다': 2, '2008년': 2, '퍼시픽': 2, '이커머스': 2, '컨슈머': 2, '올렸다': 2, '육박': 2, '무려': 2, '전세계': 2, '132조원': 2, '자회사': 2, '육성': 2, '공헌': 2, 'ESG': 2, '상생': 2, '댓글': 2, '작성': 2, '미주': 2, 'IBDe': 2, 'News': 2, '봇': 2, '오피스': 2, '상가': 2, '건설업': 2, '간접': 2, '공기업': 2, '금융정책': 2, '금융가': 2, 'ICT': 2, '총리실': 2, '통일': 2, '인물': 2, '사내': 2, '전기요금': 2, '윤석열': 2, '美': 2, '다소': 2, '회관': 2, '거시경제': 2, '실물': 2, '변동': 2, '반응': 2, '하더니': 2, '상회': 2, 'NYSE': 2, '된다며': 2, '봉쇄': 2, '갈등': 2, '점차': 2, '서비스업': 2, '완만': 2, '있으나': 2, '신속한': 2, '상하이': 2, '허가': 2, '철회': 2, '5000억원': 2, '측': 2, '5시': 2, '30분': 2, '리서치': 2, '나눠': 2, '밀레': 2, '얼': 2, '수백만': 2, '4분': 2, '127': 2, '부족한': 2, '폭등': 2, '히': 2, '수집': 2, '소유권': 2, '줬다': 2, '고유': 2, '번호': 2, '보장': 2, '예술': 2, '경매': 2, '70': 2, '위메이드': 2, '알려진': 2, '9일': 2, '일시': 2, '품은': 2, '거품': 2, '명확한': 2, '올리고': 2, '파마': 2, '4일': 2, '1350': 2, '356': 2, '임상시험': 2, '800원': 2, '환자': 2, '증': 2, '치료': 2, '악재': 2, '3일': 2, '한라': 2, 'GKL': 2, '하우': 2, '시스': 2, '앤디': 2, '충': 2, '동': 2, '허기': 2, '장래': 2, '매사추세츠': 2, '식사': 2, '건강한': 2, '충분히': 2, '만든': 2, '받겠는가': 2, '제안': 2, '내린': 2, '않았다': 2, '꿀': 2, '인터넷': 2, '단타': 2, '노홍철': 2, '오히려': 2, '지지': 2, '받으며': 2, '7시': 2, '맞춰': 2, '늘어나면서': 2, '씨드': 2, '놀면': 2, '뭐': 2, '하니': 2, '들의': 2, '모임': 2, '유재석': 2, '남녀': 2, '부작': 2, '버라이어티': 2, '토크쇼': 2, '패널': 2, '그쳤다': 2, '함': 2, '선보인': 2, '거듭': 2, '높았던': 2, '시류': 2, '진경': 2, '내놓은': 2, '여름': 2, '리딩': 2, '21일': 2, '감시': 2, '카페': 2, '인지도': 2, '입': 2, '유형': 2, '한계': 2, '호재': 2, '23': 2, '무': 2, '계산': 2, '뉴욕타임스': 2, '청정': 2, '차세대': 2, '확충': 2, '골드만삭스': 2, 'IB': 2, '일단': 2, '충전': 2, '캘리포니아': 2, '신차': 2, '뒷받침': 2, '축': 2, '불평등': 2, '보급': 2, '대학': 2, '유급': 2, '휴가': 2, '현행': 2, '있다면서': 2, '페이': 2, '가정': 2, '용': 2, '당장': 2, '공화당': 2, '평': 2, '완전히': 2, '앙': 2, '이라면서도': 2, '집행': 2, '250': 2, '펀드스트랫': 2, '가는': 2, '오르는': 2, '리처드': 2, 'CIO': 2, '재개': 2, '혹평': 2, 'BTCC': 2, '골드러시': 2, '콘퍼런스': 2, '대체재': 2, '코인': 2, '데스크': 2, '일까': 2, '중앙은행': 2, '재무부': 2, '죠': 2, '표시': 2, '클': 2, '산하': 2, '30만달러': 2, '해서도': 2, '나오면서': 2, '부회장': 2, '라이엇': 2, '작업': 2, '관료': 2, '끝난': 2, '시점': 2, '기구': 2, '서기': 2, '왕쥔': 2, '천밍궈': 2, '국장': 2, '외무': 2, '동맹국': 2, '벨기에': 2, '브뤼셀': 2, '토니': 2, 'OFAC': 2, '강력한': 2, '범죄': 2, '그런': 2, '북미': 2, '굴리': 2, '6000억원': 2, '보인다면서': 2, '높이는': 2, '선언': 2, '버핏': 2, '앤트': 2, '레터': 2, '회생': 2, '받으면서': 2, '폐지': 2, '연도': 2, '삼정': 2, '존속': 2, '유동': 2, '개시': 2, '기한': 2, '규정': 2, '48조': 2, '개별': 2, '재무제표': 2, '시한': 2, '소유자': 2, '25만': 2, '319': 2, '226': 2, '높았습니다': 2, '10억': 2, '7540만': 2, '6년': 2, '누적': 2, '불구': 2, '소재': 2, '한다며': 2, '사용자': 2, '트래픽': 2, '액션': 2, '해마다': 2, '바라봤다': 2, '완료': 2, '시뮬레이션': 2, '스매쉬': 2, '선보일': 2, '시리즈': 2, '개발자': 2, '민': 2, '22': 2, '종류': 2, '211': 2, '241': 2, '높았다': 2, '79조': 2, '9조': 2, '138': 2, '12조': 2, '빅히트': 2, '63조원': 2, '분할': 2, '포괄': 2, '166': 2, '18': 2, '미흡': 2, '이뤄졌다': 2, '산출': 2, '39': 2, '편의': 2, '거치는': 2, '게시판': 2, '이체': 2, '안전하고': 2, '하겠다': 2, '틈틈이': 2, '쓸': 2, '좋을': 2, 'IT': 2, '좋다고': 2, '직접투자': 2, '짤': 2, '해주는': 2, '조금씩': 2, '확신': 2, '뽑아': 2, '알아서': 2, '만들어': 2, '필요합니다': 2, '불법': 2, '있었습니다': 2, '신중한': 2, '열렸다': 2, 'viewer': 2, '근로': 2, '아마존': 2, '애플': 2, '취했다': 2, '합의': 2, '임시국회': 2, '플리바게닝': 2, '담고': 2, '않았던': 2, '분류': 2, '불기소': 2, '피고인': 2, '민사': 2, '실효': 2, '이뤄질': 2, '입증': 2, '됐던': 2, '전금': 2, '종합': 2, '사업자': 2, '체계': 2, '길어지면서': 2, '협약': 2, '사를': 2, '뜨거운': 2, '이석훈': 2, '액수': 2, '어음': 2, '쇼핑몰': 2, '주일': 2, '50만원': 2, '소수점': 2, '알파벳': 2, '차트': 2, '리포트': 2, '풍': 2, '제약': 2, '순서': 2, '자사': 2, '레이': 2, '딩시': 2, '스템': 2, '이승': 2, '늘어나고': 2, '상당': 2, '후배': 2, '겪는': 2, '나가고': 2, 'NH': 2, '과감': 2, '베팅': 2, '추종': 2, '통': 2, 'DIREXION': 2, 'DAILY': 2, 'SEMICONDUCTOR': 2, 'BULL': 2, 'X': 2, 'ProShres': 2, 'UrPro': 2, 'QQQ': 2, '1억': 2, '11일': 2, '몰리': 2, '발휘': 2, '2000억': 2, '미국인': 2, '도이체방크': 2, '2534': 2, '나타나': 2, 'DS': 2, '이든': 2, '수출': 2, '청약': 2, '경쟁률': 2, '코스': 2, '코스콤': 2, '셀트리온': 2, '인지': 2, '광화문': 2, '교보': 2, '11조': 2, '환차익': 2, '잔액': 2, '10조원': 2, '인도네시아': 2, '자재': 2, '지출': 2, '가전': 2, '어디': 2, '인용': 2, '돌아서는': 2, '만들고': 2, '소득세': 2, '양도소득세': 2, '법정': 2, 'BBIG': 2, 'K': 2, '자동화': 2, '으로써': 2, '생태계': 2, '놀자는': 2, '기업가': 2, '솔루션': 2, '찾는': 2, '낮아진': 2, '본격': 2, '승률': 2, '웅진': 2, '처스': 2, '매입': 2, '대규모': 2, '보인': 2, '출': 2, '지진': 2, '동일한': 2, '놓고': 2, '오프라인': 2, '할인점': 2, '기보다': 2, '구조조정': 2, '디모데': 2, '물류': 2, '유통': 2, '기부터': 2, '늘어날': 2, '판매량': 2, 'α': 2, '마이크론': 2, 'IM': 2, 'CE': 2, '디스플레이': 2, '갤럭시': 2, 'S': 2, '1646': 2, '가리키고': 2, '팔았다': 2, '개장': 2, '현모': 2, '3만원': 2, '거둘': 2, '들어서는': 2, '도세': 2, '겪고': 2, '연변': 2, '경신': 2, 'CVD': 2, '활발히': 2, '1조원': 2, '플래시': 2, '줄었다': 2, '154조': 2, '광장': 2, '상정': 1, '유력한': 1, '치가': 1, '부처': 1, '보건복지부': 1, '맞추기': 1, '현실': 1, '제기': 1, '옳은지': 1, '뽑아와': 1, '다르게': 1, '가자는': 1, '자치': 1, '정해진': 1, '후자': 1, '리밸린싱': 1, '정안': 1, '택했다': 1, '매달': 1, '식비': 1, '산술': 1, '분배': 1, '맞게': 1, '줄일': 1, '추계': 1, '1314': 1, '줄어드는': 1, '걸': 1, '나온다며': 1, '장세': 1, '매일': 1, '만만': 1, '찮': 1, '넓히는': 1, '쪽': 1, '안다': 1, '시나리오': 1, '담은': 1, '시범': 1, '성안': 1, '짜리': 1, '그린': 1, '토대': 1, '그간': 1, '성숙': 1, '기였다면': 1, '감축': 1, '속인': 1, '정거': 1, '이호진': 1, '서울중앙지법': 1, '신세': 1, '판사': 1, '과태료': 1, '불복': 1, '명령문': 1, '송달': 1, '이내': 1, '정식': 1, '20162018년': 1, '한화': 1, '섬': 1, '친족': 1, '위법': 1, '형사소송법': 1, '시효': 1, '부터만': 1, '봤다는': 1, '피의자': 1, '법정형': 1, '억대': 1, 'csenine': 1, '위탁': 1, 'DB': 1, '넘은': 1, '1700만': 1, '이었지만': 1, '매년': 1, '200만': 1, 'Coyrih': 1, 'ⓒ': 1, '비즈': 1, 'Chosunco': 1, '해킹': 1, '당했나': 1, '놓쳐': 1, '망쳐': 1, '버린': 1, '먹통': 1, '패닉': 1, '사이트': 1, '맵': 1, '검색어': 1, 'kkok': 1, 'fcebook': 1, 'wier': 1, 'i': 1, '메인': 1, '만평': 1, 'Ho': 1, 'Po': 1, 'e': 1, '복지': 1, '교통': 1, '건강': 1, '기타': 1, '토픽': 1, '월드': 1, '공연': 1, '클래식': 1, '농구': 1, '배구': 1, '사랑방': 1, '부음': 1, '스타일': 1, '패션': 1, '맛': 1, '럭셔리': 1, '뷰티': 1, '리빙': 1, '해외여행': 1, '들어있고': 1, '529': 1, '5천': 1, '182만': 1, '명으로': 1, '312만': 1, '꼴': 1, '548만': 1, '좌수': 1, '2천만': 1, '넘었던': 1, '스테이': 1, '옮기기': 1, '입고하면': 1, '5000만원': 1, '20만원': 1, '주어진다': 1, '입고': 1, '합산': 1, '30일': 1, '자세한': 1, '회': 1, '213': 1, '153': 1, '문의': 1, '미성년': 1, '부모': 1, '계정': 1, '아이템': 1, '환불': 1, '많았다전': 1, '1204': 1, '869': 1, '613': 1, '로또번호': 1, '계약': 1, '2777': 1, '3754': 1, '2041만': 1, '977': 1, '7339': 1, '3652만': 1, '4562': 1, '다발': 1, '이동전화': 1, '1561': 1, '1512': 1, '헬스장': 1, '1196': 1, 'u': 1, '소문': 1, '무성': 1, '로빈후드': 1, 'Robinhood': 1, '들어왔다': 1, '신청서': 1, '공식': 1, '컨설팅': 1, 'BriinThinks': 1, '말까지': 1, '517': 1, '없으며': 1, '스릴': 1, '순위': 1, '믿는다고': 1, '답변': 1, '하는이': 1, '인종': 1, '다양하고': 1, '젊으며': 1, '종종': 1, '고압': 1, '적합하지': 1, '유혹': 1, '걱정': 1, '막기': 1, '日': 1, 'Decurre': 1, '698억원': 1, 'KDDI': 1, '쓰이': 1, '스미': 1, '토모': 1, '도쿄': 1, '메이저': 1, '나선다는': 1, '금융청': 1, '청장': 1, '엔도': 1, '히데': 1, '특별': 1, '합류': 1, 'cfe': 1, '보이면서': 1, '늘어났기': 1, '보였기': 1, '2181억': 1, '1976': 1, '3285억': 1, '나타냈다': 1, '분법': 1, '미뤄진': 1, '문턱': 1, '전남도': 1, '지방': 1, '기념물': 1, '옛': 1, '끝냈다고': 1, '석재': 1, '미장': 1, '표면': 1, '오염': 1, '심각하고': 1, '균열': 1, '탈락': 1, '위험성': 1, '도비': 1, '나섰다': 1, '재청': 1, '정면': 1, '물홈통': 1, '원형': 1, '재현': 1, '수탈': 1, '식민지': 1, '착취': 1, '1921년': 1, '건립': 1, '재소': 1, '관할': 1, '사리원': 1, '온전': 1, '하겠다면서': 1, '쾌적한': 1, '시설': 1, '연출': 1, '역사교육': 1, '관광': 1, '기대한다고': 1, 'choy': 1, '아시나요': 1, '당기': 1, '생명보험': 1, '잠정': 1, '806억': 1, '권별': 1, '생': 1, '보사': 1, '이끌었다': 1, '4544억': 1, '3404억': 1, '109': 1, '늘면서': 1, '됐기': 1, '보험금': 1, '적립금': 1, '적립': 1, '3522억': 1, '손보': 1, '6262억': 1, '4024억': 1, '181': 1, '6558억': 1, '년도': 1, '심할': 1, '미치지': 1, '세로': 1, '접어': 1, '들면': 1, '여부': 1, '불투명한': 1, '부실': 1, '건전성': 1, '강화하겠다': 1, '김정현': 1, '란': 1, '가리킨다': 1, '명이고': 1, '명이므로': 1, '넘어섰고': 1, '걸렸다': 1, '불어나는': 1, '불과': 1, '걸리지': 1, '남짓한': 1, '449만': 1, '3969': 1, '이른다': 1, '501만': 1, '4725': 1, '맞먹는다': 1, '넘어섰을': 1, '그친': 1, '득세': 1, '배경인': 1, '가이드': 1, '10억원': 1, '웃': 1, '돌았고': 1, '497': 1, '8228': 1, '10676': 1, '한참': 1, '593': 1, '668': 1, '726': 1, '앞서기': 1, '점점': 1, '벌어졌다': 1, '투자어린이': 1, '2055': 1, '훗날': 1, '어른': 1, '염두': 1, '콘셉트': 1, '만들어진': 1, '리치': 1, '투게더': 1, '1614': 1, '다스': 1, '1489': 1, '1447': 1, '1439': 1, '↑': 1, '다가서고': 1, '벌어': 1, '들일': 1, '할인': 1, 'PBR': 1, '중시': 1, '높아진다': 1, '부채질': 1, '윤정환': 1, '매니저': 1, '받았는데': 1, '무게': 1, '받았지만': 1, '지키고': 1, '부근': 1, '정체': 1, '올라': 1, '선방': 1, '꼽힌다': 1, '오르내리고': 1, '터진': 1, '바닥': 1, '찍은': 1, '근처': 1, '높아지지': 1, '화하려면': 1, '수용': 1, '괴리': 1, '나면': 1, '방천': 1, '력도': 1, '올라갔을': 1, '성장할': 1, '훼손': 1, '잠재력': 1, '철학': 1, '양병훈': 1, '강화하기': 1, '가입자': 1, '67만': 1, '있다이': 1, '베트남': 1, '외환': 1, 'FX': 1, '이뤄져': 1, '예수금': 1, '교차': 1, '부터는': 1, '라이트': 1, 'Lie': 1, '저녁': 1, '익일': 1, '아침': 1, '호평': 1, '구독료': 1, '지불': 1, '프리미엄': 1, '7000': 1, '정기': 1, '간편하게': 1, '도주': 1, '푸시': 1, '알림': 1, '타이밍': 1, '놓치지': 1, '않도록': 1, '파트': 1, '쌓은': 1, '프라이': 1, '빗': 1, '뱅': 1, 'PB': 1, '강화하는': 1, '들이고': 1, '디셈버': 1, '컴퍼니': 1, '간편': 1, '줌인터넷': 1, '바닐라': 1, '빅테크': 1, '부적': 1, '유연한': 1, '스마트워크': 1, '고하': 1, '트랜스': 1, '포': 1, '메이': 1, '끊임없이': 1, '최은석': 1, '새내기': 1, '꼽는': 1, '가보다': 1, '자유롭지': 1, '않다': 1, '5931억원': 1, '51000': 1, '07821조': 1, '3725억원': 1, '신한지주': 1, '18조': 1, '3909억원': 1, '넘어선다': 1, '253만원': 1, '40만원': 1, '21조': 1, '6498억원': 1, '936000': 1, '054': 1, '20조': 1, '4611억원': 1, '크다': 1, '본전': 1, '건지지': 1, '부풀려진': 1, '입은': 1, '이어질지도': 1, '미지수': 1, '인정받지': 1, '확률': 1, '박의': 1, '궁금증': 1, '그야말로': 1, '920만': 1, '300만': 1, '485': 1, '쳐진다': 1, '경제활동': 1, '많아지고': 1, '서점가': 1, '비법': 1, '초보자': 1, '빗댄': 1, '말를': 1, '겨냥': 1, '담': 1, '넘쳐': 1, '난다': 1, '유례': 1, '유튜버들': 1, '수직': 1, '로저스': 1, '모으더니': 1, '140만': 1, '발판': 1, '삼아': 1, '맹활약': 1, '급성': 1, '장했다': 1, '이었던': 1, '128만': 1, '벤처캐피탈': 1, '수십': 1, '억원': 1, '브로드캐스팅': 1, '한경': 1, '노미': 1, '12만': 1, '매경': 1, '각축': 1, '양상': 1, '질세라': 1, '기성': 1, '뛰어들었다': 1, '박종훈': 1, '꼽았': 1, '했': 1, '다그': 1, '량': 1, '많았던': 1, '부가가치세': 1, '몰리면서': 1, '868억원': 1, '수신': 1, '지방자치단체': 1, '예산': 1, '699억원': 1, 'bwy': 1, '가지는': 1, '쏠리는': 1, '발견': 1, '가령': 1, '간절하게': 1, '시장조사': 1, '엠브레인': 1, '트렌드': 1, '모니터': 1, '1959': 1, '녹아': 1, '대다수': 1, '173': 1, '불과했다': 1, '708': 1, '748': 1, '종사': 1, '707': 1, '전문직': 1, '604': 1, '영업직': 1, '676': 1, '직': 1, '565': 1, '교사': 1, '공무원': 1, '677': 1, '735': 1, '완전한': 1, '자유': 1, '갖춰': 1, '이른': 1, '나이': 1, '은퇴': 1, '파이어': 1, '족': 1, '되': 1, '그러한': 1, '바람': 1, '기울이고': 1, '기울여': 1, '여겨': 1, '되었다고': 1, '찾아온': 1, '기울이게': 1, '397': 1, '661': 1, '701': 1, '54': 1, '383': 1, '기울이면서': 1, '주도했다는': 1, '그치지': 1, '않고': 1, '56': 1, '남성남': 1, '634': 1, '486': 1, '548': 1, '근무': 1, '불만족': 1, '542': 1, '불안정하다고': 1, '찾고': 1, '375': 1, '189': 1, '221': 1, '작다고': 1, '없었다': 1, '705': 1, '높았는데': 1, '일천만': 1, '대출': 1, '기대했으며': 1, '45': 1, '338': 1, '비슷한': 1, '344': 1, '234': 1, '자신감': 1, '크다는': 1, '상당하고': 1, '스스로': 1, '151': 1, '불과한': 1, '807': 1, '얻으면': 1, '높일': 1, '551': 1, '강하다는': 1, '하려는': 1, '많아질': 1, '읽거나': 1, '읽은': 1, '584': 1, '378': 1, '강좌': 1, '자주': 1, '상당해': 1, '이외': 1, '493': 1, '연령': 1, '544': 1, '536': 1, '만족하지': 1, '407': 1, '많았으며': 1, '적은': 1, '393': 1, '중개인': 1, '있으며': 1, '빠른': 1, '298': 1, '348': 1, '463': 1, '실패하면': 1, '갚을': 1, '컸으며': 1, '불균형': 1, '306': 1, '점도': 1, '단점': 1, '많아야': 1, '285': 1, '좋지': 1, '시선': 1, '편이었다': 1, '중요하다': 1, '대하': 1, '가치관': 1, '준다고': 1, '808': 1, '832': 1, '많을수록': 1, '838': 1, '745': 1, '665': 1, '가급적': 1, '하려고': 1, '많을': 1, '다스려야': 1, '따라오고': 1, '728': 1, '697': 1, '많았는데': 1, '774': 1, '658': 1, '얻어야': 1, '617': 1, '549': 1, '있다는데': 1, '아낀다고': 1, '절약': 1, '간절히': 1, '비치': 1, '비록': 1, '많지': 1, '않았으나': 1, '이왕이면': 1, '느낄': 1, '있어서': 1, '신비로운': 1, '존재': 1, '없이도': 1, '맞추는': 1, '558': 1, '는데': 1, '481': 1, '주역': 1, '운세': 1, '일정한': 1, '믿었으며': 1, '이처럼': 1, '버': 1, '대박': 1, '맥락': 1, '살펴볼': 1, '이렇듯': 1, '과소': 1, '염려': 1, '스러운': 1, '출이': 1, '621': 1, '크기': 1, '해준다고': 1, '366': 1, '상당한': 1, '김현주': 1, 'EMP': 1, '구비': 1, 'Wr': 1, 'Accoun': 1, 'Toier': 1, 'PTRPrice': 1, 'Technooy': 1, 'Rio': 1, '독창': 1, '지표': 1, 'PTR': 1, '적절하게': 1, '됐나를': 1, '톱': 1, '나타내는': 1, '高': 1, '진감': 1, 'EFT': 1, 'EMPETF': 1, 'Mned': 1, 'Porfoio': 1, '자산군': 1, '2000만원': 1, '초이스': 1, '등급': 1, '실장': 1, '했다면서': 1, '투명': 1, '소개': 1, '김현동': 1, '자이언트': 1, '스텝': 1, '누구': 1, '넌': 1, '드러내고': 1, '박현주': 1, '두며': 1, '활발하게': 1, '됐으며': 1, '264': 1, '2006년': 1, '비성': 1, '성장하는': 1, '중산층': 1, '헬': 1, '스케': 1, '밴': 1, '티': 1, '655': 1, '차이나': 1, '디스커버리': 1, '625': 1, '친디아': 1, '586': 1, '한다해': 1, '돼있다': 1, '대의': 1, '233조원': 1, '넘는다며': 1, '300': 1, '여개': 1, '데일리안': 1, 'CJ': 1, '다다': 1, '엠앤': 1, 'Fn': 1, '신재생에너지': 1, '인재': 1, '실천': 1, '공적': 1, '풀': 1, '간사': 1, '하실': 1, '대순': 1, '본': 1, '서연': 1, '풍도': 1, '시그널': 1, '점프': 1, '폴리': 1, '틱': 1, '백상': 1, '신문': 1, 'PDF': 1, '초판': 1, '페이지': 1, '서경': 1, '>': 1, '집값': 1, '넘사벽': 1, '文': 1, '아스트': 1, '흑석': 1, '한전': 1, '박근혜': 1, '자택': 1, '압류': 1, '톡방': 1, '총기': 1, '마사': 1, '개최': 1, '열어': 1, '기물': 1, '불안정해지면서': 1, '역전': 1, '1713': 1, '1960': 1, '2099': 1, '2084': 1, '질렀다': 1, 'SLR': 1, '않기로': 1, '저항': 1, '여겨졌던': 1, '175': 1, '불안정한': 1, '뉴욕': 1, '20210223': 1, '금주': 1, '청문회': 1, '에서의': 1, '입찰': 1, '경제지표': 1, '화미': 1, '외채': 1, '불안': 1, '되고는': 1, '각별히': 1, '모니터링': 1, '강화하겠다며': 1, '여건': 1, '수익률곡선': 1, '발행량': 1, '긴밀한': 1, '공조': 1, '만전': 1, '어렵지만': 1, '대면': 1, '지연': 1, '편차': 1, '성도': 1, '있어서도': 1, '예의': 1, '주시': 1, '농': 1, '축산물': 1, '기에는': 1, '곡물': 1, '향방': 1, '요금': 1, '대책': 1, '중구': 1, '주재': 1, '20210323': 1, 'hoo': 1, '민영': 1, '완성': 1, '지리': 1, '촹': 1, '불리는': 1, '늦어져': 1, '있다지리': 1, '리차': 1, '200억위안': 1, '잡기': 1, '어려운': 1, '16시간': 1, '가능하도록': 1, '3시간': 1, '앞당긴': 1, '애프터': 1, '9시': 1, '언택트': 1, '16시': 1, '18시': 1, '2시간': 1, '평일': 1, '까지는': 1, '한해': 1, '출동': 1, '허': 1, '진욱': 1, '유승민': 1, '정명': 1, '장효선': 1, '김미선': 1, '강사': 1, '질의': 1, '편집': 1, 'Ssun': 1, 'POP': 1, '업로드': 1, '박지환': 1, '936198': 1, '코노': 1, '믹스': 1, '광풍': 1, '뛰어들고': 1, '활': 1, '계정은': 1, '1040만': 1, '에인절': 1, '브로': 1, '킹': 1, '51만': 1, '해본': 1, '13억': 1, '6000만': 1, '불과하다': 1, '불면': 1, '캡처': 1, '사진전': 1, '유정': 1, '불가능': 1, '토큰': 1, '소셜네트워크서비스': 1, '모인': 1, '나서고': 1, '가세': 1, '주간': 1, '쿵': 1, '아트': 1, '651': 1, '49달러': 1, '115': 1, '오리': 1, '탈': 1, '컬처': 1, '음악': 1, '쿠쿠': 1, '뮤직': 1, '118': 1, '홀': 1, '오브': 1, '페임': 1, '잭': 1, '트윗': 1, '인증': 1, '290만달러': 1, '32억': 1, '7000만원': 1, '낙찰': 1, '날개': 1, '희소성': 1, '지닌다': 1, '위조': 1, '불가능하고': 1, '겨져': 1, '사들이': 1, '동참': 1, '블루': 1, '이르면': 1, '나서겠다고': 1, '겹': 1, '치면': 1, '걸쳐': 1, '뛰었다': 1, '10억달러': 1, '1300억원': 1, '성장한': 1, '유행': 1, '아니라고': 1, '국경': 1, '가능하며': 1, '재판매': 1, '익숙한': 1, '펼쳐지는': 1, '론': 1, '주장': 1, '브라': 1, '트트레이딩': 1, '데니스': 1, '딕': 1, '쫓는': 1, '픽업': 1, '소외': 1, '같다는': 1, '포모': 1, 'FOMO': 1, '증후군': 1, '눈물': 1, '끝날': 1, 'sjry': 1, '공단': 1, '연합인포맥스': 1, '994': 1, '이었다올해': 1, '유일하다': 1, '부진했고': 1, '신약': 1, '세다': 1, '600원': 1, '350원': 1, '거의': 1, '반절': 1, '833억원': 1, '63억원': 1, '185': 1, '632': 1, '급감': 1, '병': 1, '사제': 1, '의약품': 1, '뮤': 1, '노반': 1, '갑상선': 1, '안변': 1, 'TED': 1, '후보': 1, '물질': 1, 'HL': 1, '161': 1, '밝혀': 1, '맞았다': 1, '282': 1, '254': 1, '208': 1, '204': 1, '배고플': 1, '느끼게': 1, '식욕': 1, '자극': 1, '호르몬': 1, '국한': 1, '눈앞': 1, '작은': 1, '급하게': 1, '만든다는': 1, '종합병원': 1, '프랜': 1, '스카': 1, '플레소': 1, '교수': 1, '밝혀진': 1, '광범위하게': 1, '금전': 1, '의사결정': 1, '뇌': 1, '통로': 1, '관장': 1, '대사': 1, '오르내린다': 1, '1022': 1, '84': 1, '살폈다': 1, '34': 1, '나머지': 1, '식욕부진': 1, '음식': 1, '실험': 1, '20달러': 1, '80달러': 1, '이자율': 1, '기회비용': 1, '하더라도': 1, '던졌다': 1, '높을수록': 1, '느낄수록': 1, '택하': 1, '배고픔': 1, '보이지': 1, '열리는': 1, '내분비': 1, '학회': 1, '이용재': 1, '딘딘하': 1, '신조어': 1, '손쉬운': 1, '노리다가': 1, '꼬': 1, '박다': 1, '단어': 1, '유행어': 1, '출연료': 1, '는커녕': 1, '1시간': 1, '버티지': 1, '지향': 1, '14년': 1, '경력': 1, '무색': 1, '떨어지고': 1, '오른다': 1, '전무한': 1, '러블': 1, '리즈': 1, '선보여': 1, '3000': 1, '탔다': 1, '뛰어든': 1, '자리매': 1, '매주': 1, '에피소드': 1, '본방': 1, '사수': 1, '팬': 1, '매회': 1, '조회': 1, '200만회': 1, '탐구': 1, '350만회': 1, '넷플릭스': 1, '뒤늦게': 1, '몰아': 1, '떠올라': 1, '위드유': 1, '노소': 1, '높아지면서': 1, '보이기': 1, '바꿔놓은': 1, '상과': 1, '밀접한': 1, '이기도': 1, '하다': 1, 'SBS': 1, '런닝맨': 1, '모의': 1, '대회': 1, '특집': 1, '위드': 1, '당황': 1, '모르는': 1, '4050': 1, '유물': 1, '여겨졌다면': 1, '결합': 1, '어색하지': 1, '편성': 1, '스타': 1, '터디': 1, '표방': 1, '씩': 1, '나갔다': 1, '연예인': 1, '포맷': 1, '비슷했지만': 1, '시청률': 1, '사고팔면서': 1, '리얼': 1, '돈벌': 1, '노골': 1, '이었다면': 1, '수박': 1, '겉': 1, '핥기에': 1, '정덕': 1, '대중문화': 1, '평론가': 1, '전면': 1, '순간': 1, '행성': 1, '벗어나기': 1, '힘들다': 1, '똑같이': 1, '김동환': 1, '연구소장': 1, '멘토': 1, '달라질': 1, '오르고': 1, '낮아서': 1, '역사상': 1, '이론': 1, '완벽한': 1, '나눠라': 1, '분산': 1, '실질': 1, '팁': 1, '초기': 1, '주위': 1, '찍어주는': 1, '사들였던': 1, '김종민': 1, '회차': 1, '만족도': 1, '찾아보고': 1, '다양': 1, '화하는': 1, '대별': 1, '밝히고': 1, '2015년': 1, '리틀': 1, '텔레비전': 1, '접목': 1, '성공한': 1, 'PD': 1, '이적': 1, 'CP': 1, '읽을': 1, '기획': 1, '갖지': 1, '않다가': 1, '비단': 1, '현시': 1, '어떻게': 1, '바뀌어': 1, '가고': 1, '있는지': 1, '즐길': 1, '에겐': 1, '챕': 1, '늘어난다면': 1, '소비재': 1, '방어': 1, '섹터': 1, '다뤄': 1, '민경': 1, '기승': 1, '부리고': 1, '촉구': 1, '상거래': 1, '112': 1, '건의': 1, '89': 1, '795': 1, '벌인': 1, '여럿': 1, '차명계좌': 1, '사놓고': 1, '망': 1, '톡': 1, '방과': 1, '얻는': 1, '연루': 1, '되거나': 1, '있으니': 1, '유명': 1, '플루': 1, '언': 1, '달라': 1, '당부': 1, '65': 1, '틈': 1, '주가조작': 1, '횡행': 1, '51': 1, '결산': 1, '부자': 1, '시전': 1, '피': 1, '결산법인의': 1, '악': 1, '재성': 1, '관리종목': 1, '각별': 1, '키트': 1, '실패': 1, 'MA': 1, '사냥': 1, '했다한': 1, '광덕': 1, '선임': 1, '매가': 1, '벌어지기': 1, '맞춘': 1, '정해지지는': 1, '들은': 1, '2조달러': 1, '도로': 1, '철도': 1, '다리': 1, '교량': 1, '항구': 1, '알려졌습니다': 1, '로이터': 1, '지역구': 1, '상원의원': 1, '향': 1, '날짜': 1, '2035년': 1, '행정명령': 1, '발령': 1, '외국': 1, '우위': 1, '가지도록': 1, 'BP': 1, '셰브런': 1, '엑손': 1, 'BHP': 1, '석유': 1, '가스': 1, '광업': 1, '진과': 1, '만나': 1, '수렴': 1, '들어갑니다': 1, '줄이기': 1, '노동자': 1, '고등': 1, '가구': 1, '교육비': 1, '가질': 1, '줄이': 1, '증세': 1, '부유': 1, '396': 1, '젠': 1, '사키': 1, '백악관': 1, '대변인': 1, '세금': 1, '타는': 1, '했군요': 1, '친': 1, '받아들여졌습니다': 1, '전지': 1, '파워': 1, 'SPWR': 1, '810': 1, '인버터': 1, 'ENPH': 1, '398': 1, '선런': 1, 'RUN': 1, '재생에너지': 1, '간만': 1, '줄줄이': 1, '올랐습니다': 1, '되지는': 1, '실행': 1, '재는': 1, '센': 1, '초안': 1, '가게': 1, '주도하는': 1, '하원': 1, '팽팽하': 1, '맞선': 1, '상원': 1, '수정': 1, '걸릴': 1, '여전하다는': 1, '여전한': 1, '변수': 1, '여서': 1, '엇갈립니다': 1, '9000억달러': 1, '공급망': 1, '작동': 1, '않는다는': 1, '코리': 1, '서치': 1, '최고경영자': 1, 'CEO': 1, '흔들렸지만': 1, '150': 1, '돌아올': 1, '들어간': 1, '오를': 1, '톰': 1, '신용': 1, '변한다면': 1, '정말': 1, '측면': 1, '근본': 1, '아니다라면서': 1, '4300': 1, '1010': 1, '움직일': 1, '저리': 1, '파트너': 1, '사퍼': 1, '스타인': 1, '잦': 1, '아들': 1, '옮길': 1, '사라': 1, '화상': 1, '이지': 1, '빠진': 1, '캡쳐': 1, '넘어서는': 1, '대장': 1, '나올': 1, '아니면': 1, '호일': 1, '까요': 1, 'Fed': 1, '제롬': 1, '달리는': 1, '재일': 1, '있어도': 1, '달러화': 1, '없다면서': 1, '재닛': 1, '옐런': 1, '파급': 1, '굉장히': 1, '서두르지': 1, '민간': 1, '테이블': 1, '연동': 1, '보스턴': 1, '공과대학': 1, 'MIT': 1, '최종': 1, '바비': 1, '리도': 1, '급변': 1, '치솟을': 1, '추운': 1, '겨울': 1, '맞을': 1, '34년': 1, '찾아오는': 1, '10만달러': 1, '사그라들면서': 1, '2013년': 1, '널': 1, '602': 1, '435369달러': 1, '부담스러운': 1, '나옵니다': 1, '리오르': 1, '심론': 1, '세는': 1, '대판': 1, '러시': 1, 'RIOT': 1, '하이브': 1, 'HIVE': 1, '마라톤': 1, 'MARA': 1, '헛': 1, 'HUT': 1, '할만': 1, '하다고': 1, '525': 1, '올랐다면': 1, '페인': 1, '8000': 1, '뛰었다는': 1, '비슷하게': 1, '움직이기': 1, '中': 1, '작일': 1, 'COVID': 1, '변종': 1, '이탈리아': 1, '프랑스': 1, '독일': 1, '하기로': 1, '들어섰습니다': 1, '유럽연합': 1, '자치구': 1, '벌어지는': 1, '소수민족': 1, '관여': 1, '출범': 1, '성명': 1, '내지': 1, '남기고': 1, '안된': 1, '반중': 1, '反中': 1, '이사회': 1, '주하이': 1, '륀': 1, '부서': 1, '기와': 1, '왕밍': 1, '공안국': 1, '재정': 1, '없도록': 1, '정경': 1, '택': 1, '보위': 1, '됐는데요': 1, '비판': 1, '비사': 1, '법적': 1, '살인': 1, '실종': 1, '강제노동': 1, '가하는': 1, '저질렀다는': 1, '가디언': 1, '탄압': 1, '1989년': 1, '톈안먼': 1, '도미': 1, '닉': 1, '라브': 1, '벌이는': 1, 'inensive': 1, 'diocy': 1, '시진핑': 1, '왼쪽': 1, '국가주석': 1, '서구': 1, '도착': 1, '국무부': 1, '산통': 1, '제국': 1, '현직': 1, '앤드리아': 1, '키': 1, '잔인한': 1, '직면': 1, '경고': 1, '주말': 1, '알래스카': 1, '국무장관': 1, '박수': 1, '보낸다면서': 1, '취해': 1, '끝낼': 1, '2225일': 1, '본부': 1, '나토': 1, 'NATO': 1, '북대서양': 1, '지도자': 1, '만남': 1, '맞': 1, '나섰죠': 1, '외교부': 1, '악의': 1, '거짓': 1, '퍼트': 1, '린': 1, '호세프': 1, '보렐': 1, '감고': 1, '외면': 1, '취했는': 1, '유감': 1, '용납': 1, '완벽하며': 1, '맞섰습니다': 1, '다릅니다': 1, '크레딧': 1, '스위스': 1, 'AG': 1, '태평양': 1, '그쳤습니다': 1, '응': 1, '8120억': 1, '917조': 1, '데요': 1, '앨번파트너스': 1, '존스턴': 1, '1520': 1, '쏟아': 1, '붓는': 1, '30억': 1, 'APS': 1, '궉': 1, '왕': 1, '23분': 1, '기께': 1, '배치': 1, '게임스톱': 1, 'AMC': 1, '공매도': 1, '덜기': 1, '므': 1, '감수': 1, '차만': 1, '월스트리트저널': 1, 'WSJ': 1, '공산당': 1, '지도': 1, '부가': 1, '군인': 1, '국영': 1, '유출': 1, '타지': 1, '령': 1, '내렸다고': 1, '교류': 1, '완전': 1, '독립': 1, '비야디': 1, 'BYD': 1, '워런': 1, '버크셔': 1, '해서웨이': 1, '키워': 1, '왔죠': 1, '확고히': 1, '비쳐': 1, '왔습니다': 1, '짚어주는': 1, '재물': 1, '하시면': 1, '가능합니다': 1, '김인오': 1, 'P': 1, '플랜': 1, '사활': 1, '걸고': 1, '몰렸다': 1, '자공시': 1, '회계': 1, '부회': 1, '관리제': 1, '비적정': 1, '4494억원': 1, '5043억원': 1, '7818억원': 1, '원활한': 1, 'ARS': 1, '의문': 1, '소견': 1, '도의': 1, '부적정': 1, '이면': 1, '주권': 1, '됨에': 1, '이의신청': 1, '13일': 1, '이지훈': 1, '이창영': 1, '9만': 1, '9900원': 1, '보인다며': 1, '올랐음에도': 1, '왕국': 1, 'RPG': 1, '특성': 1, '키우는데': 1, '수명': 1, 'IP': 1, '원천': 1, '풍부하다며': 1, '꾸준히': 1, '이어지면': 1, '고고': 1, '130': 1, '브레이크': 1, '장르': 1, '러닝': 1, '이듬해': 1, '150억': 1, '700억': 1, '임시': 1, '3050': 1, '시켰다며': 1, '분포': 1, '넓어져': 1, '되더라도': 1, '있는데': 1, '순차': 1, '브릭': 1, '시티': 1, 'BRIXITY': 1, '하드코어': 1, '슈팅': 1, '배틀': 1, '세이프': 1, 'SAFE': 1, 'HOUSE': 1, '캐': 1, '쥬얼': 1, '슈팅게임': 1, '충성': 1, '높다며': 1, '우수': 1, '낳아': 1, '3711억': 1, '1571억': 1, '422': 1, '김하': 1, '잇따르면서': 1, '강화하면서': 1, '부실하거나': 1, '유의사항': 1, '신고서는': 1, '556': 1, '309': 1, '모집': 1, '팜이': 1, '9000억원': 1, '두산': 1, '중공업': 1, '4000억원': 1, '160': 1, '기준금리': 1, '인하': 1, '유사한': 1, '97': 1, '32': 1, '유사했고': 1, '417': 1, '177': 1, '강화한': 1, '지배구조': 1, '26': 1, '사유': 1, '근거': 1, '취약': 1, '사을': 1, '1665': 1, '장사': 1, '672': 1, '높고': 1, '효력': 1, '진실': 1, '정확하다는': 1, '아니라는': 1, '한다면서': 1, 'ej': 1, '86': 1, '선보였다': 1, '당초': 1, '팝니다': 1, '매물': 1, '두면': 1, '삽니다': 1, '게시': 1, '나타나면': 1, '자유롭게': 1, '빠르고': 1, '편리하게': 1, '간편한': 1, '윤': 1, '종학': 1, '해봤지만': 1, '쓰이고': 1, '피로': 1, '높아': 1, '맞는다고': 1, '찾다가': 1, '10월': 1, '68': 1, '짰다': 1, '않더라도': 1, '싶었습니다': 1, '체크': 1, '적었습니다': 1, '선진국': 1, '일반인': 1, '잃기': 1, '헷지': 1, '써도': 1, '돼서': 1, '적도': 1, '번의': 1, '실수': 1, '수백': 1, '날려': 1, '수천': 1, '늘리다': 1, '보니': 1, '만치': 1, '내기': 1, '쓰여서': 1, '지장': 1, '가기': 1, '그러다가': 1, '코딩': 1, '없었지만': 1, '툴': 1, '있었고': 1, '갖기': 1, '김씨': 1, '퇴근': 1, '아기': 1, '재운': 1, '블로그': 1, '뒤지며': 1, '돌려': 1, '앞서고': 1, '낫겠다는': 1, '시키면': 1, '냈습니다': 1, '나기': 1, '금세': 1, '회복했고': 1, '앞서는': 1, '만족스럽다고': 1, '낮': 1, '없고': 1, '심심할': 1, '욕심': 1, '부리기': 1, '차곡차곡': 1, '늘어나기를': 1, '기다리는': 1, '가준다면': 1, '96': 1, '일명': 1, '로보트': 1, 'Robo': 1, '어드': 1, 'Advisor': 1, '합성어': 1, '겁니다': 1, '해준다는': 1, '맡겨야': 1, '해줬다면': 1, '스마트폰': 1, '깔고': 1, '쉽습니다': 1, '개입': 1, '화해': 1, '저렴합니다': 1, '인력': 1, '아닌데다': 1, '듯이': 1, '바꿔놓고': 1, '져': 1, '야하는': 1, '취재': 1, '서영': 1, '4300만': 1, '남짓': 1, '3548만': 1, '개였던': 1, '이어지며': 1, '넘었고': 1, '양': 1, '록': 1, '스튜디오': 1, '산타클로스': 1, '넥': 1, '스턴': 1, '확실한': 1, 'IC': 1, '커져': 1, '상한': 1, '29': 1, '임원': 1, '카': 1, '의혹': 1, '불거지면서': 1, '높아졌지만': 1, '이루지': 1, '정무': 1, '치열한': 1, '이뤄졌지만': 1, '쟁점': 1, '둘러싸고': 1, '좁히지': 1, '골자': 1, '없거나': 1, '산정': 1, '곤란한': 1, '50억원': 1, '받기': 1, '지난주': 1, '마찬가지': 1, '협상': 1, '컸던': 1, '자진': 1, '신고하거나': 1, '증언': 1, '협조': 1, '감면하는': 1, '인센티브': 1, '조항': 1, '사법': 1, '시키는': 1, '필요하다는': 1, '나타낸': 1, '최소한': 1, '이뤄져야': 1, '위헌': 1, '법무부': 1, '으로라도': 1, '수법': 1, '현행법': 1, '징역': 1, '끊이지': 1, '소송': 1, '엄격한': 1, '통상': 1, '이첩': 1, '사단': 1, '사국': 1, '종결': 1, '20112016년': 1, '선위': 1, '받기까지는': 1, '393일': 1, '됐고': 1, '되기까지는': 1, '129': 1, '장기간': 1, '위법성': 1, '경미하다는': 1, '양형': 1, '92': 1, '실형': 1, '402': 1, '598': 1, '일본도': 1, '보충': 1, '금은': 1, '병과': 1, '명확해야': 1, '행정': 1, '가능하기': 1, '넘어가게': 1, '여야': 1, '조율': 1, '기대한다며': 1, '신설': 1, '웅거': 1, '이뤄지지': 1, '업마': 1, 'My': 1, 'Pyen': 1, '라이선스': 1, '합리화': 1, '전자금융업': 1, '규율': 1, '개편': 1, '대금': 1, '후불': 1, '정비': 1, '극심한': 1, '사안': 1, '쏠렸지만': 1, '상정이': 1, 'chnn': 1, '224': 1, '합치기': 1, '맘': 1, '안착': 1, '상공': 1, '앞장서는': 1, '힘쓰기로': 1, '450': 1, '요식업': 1, '리플릿': 1, '연락': 1, '주력': 1, '전방': 1, '위로': 1, '밀착': 1, '과의': 1, '핵심': 1, '본연': 1, '호용': 1, '사무국': 1, '바라던': 1, '합치길': 1, '소망': 1, '성윤': 1, '맡았다는': 1, '책임감': 1, '아낌없이': 1, '축하': 1, '임종훈': 1, '빛': 1, '361만': 1, '1761억원': 1, '어치다': 1, '편리한': 1, '번가': 1, '간단히': 1, '종자': 1, '많아도': 1, '받거나': 1, '일련번호': 1, '복사': 1, '쿠폰': 1, '붙여': 1, '넣으면': 1, '액면가': 1, '만큼의': 1, '이렇게': 1, '쪼개': 1, '넘지만': 1, '다운로드': 1, '하기만': 1, 'UI': 1, '화면': 1, '당일': 1, '알아보기': 1, '01': 1, '03': 1, '1000원': 1, '5000원': 1, '025': 1, '하월': 1, '한도': 1, '면제': 1, '주고': 1, '쓰면': 1, '탐색': 1, '담아': 1, '뒀다가': 1, '한꺼': 1, '넣을': 1, '10시': 1, '취합해': 1, '그때': 1, '시세로': 1, '알려': 1, '준다': 1, '있을지는': 1, '24시간': 1, '시간대': 1, '이뤄지는': 1, '적합하다': 1, '사들인': 1, '덴트': 1, '121800': 1, '041190': 1, '이었으며': 1, '박셀': 1, '활발했다': 1, '전일': 1, '통계': 1, '무관': 1, '단순': 1, '맞는': 1, '등락': 1, '있으므로': 1, '졌다는': 1, '만인': 1, '3500만': 1, '걸렸지만': 1, '그래픽': 1, '김성기': 1, '손소독제': 1, '소독': 1, '티슈': 1, '마스크': 1, '세트': 1, '재학생': 1, '나창균': 1, '컴퓨터': 1, '출신': 1, '뒤집으면': 1, '세상': 1, '즐겁다라는': 1, '모토로': 1, '함께한': 1, '고자': 1, '기부': 1, '졸업': 1, '도전': 1, '이어가길': 1, '바란다고': 1, '진인주': 1, '총장': 1, '얻었다며': 1, '학생': 1, '일상생활': 1, '공간': 1, '세균': 1, '잡는': 1, '염소': 1, '연일': 1, '써': 1, '불어': 1, '났고': 1, '기가': 1, '끝나기': 1, '넘어서며': 1, '저변': 1, '넓어지며': 1, '기점': 1, '빨라지고': 1, '짭짤해졌다': 1, '포털': 1, 'SEIBro': 1, '3233억': 1, '9110만달러': 1, '1521억': 1, '6780만달러': 1, '8887': 1, '917억': 1, '710만달러': 1, '이던': 1, '965억': 1, '681만달러': 1, '1097억': 1, '2510만달러': 1, '1712억': 1, '2330만달러': 1, '두드러진다': 1, '1983억': 1, '2230만달러': 1, '409억': 1, '8539만달러': 1, '1573억': 1, '3691만달러': 1, '38389': 1, '폭증': 1, '들어서도': 1, '여전하다': 1, '1459억': 1, '4750만달러': 1, '벌써': 1, '4513': 1, '1189억': 1, '8010만달러': 1, '5999': 1, '덕': 1, '수탁': 1, '5475억원': 1, '1637억원': 1, '3838억원': 1, '2344': 1, '거둔': 1, '1348억원': 1, '865억원': 1, '17899': 1, '1162억원': 1, '149051': 1, '745억원': 1, '589억원': 1, '373억원': 1, '354억원': 1, '306억원': 1, '185억원': 1, '149억원': 1, '78억원': 1, '해지는': 1, '해지고': 1, '기초자산': 1, '7708만달러': 1, '수해': 1, '필라델피아': 1, '일간': 1, '6702만달러': 1, '했다해': 1, '외주': 1, '8919만달러': 1, '1011억원': 1, '데뷔': 1, '주자': 1, '거론': 1, '컬리': 1, '놀자에': 1, '김현경': 1, '쓰여': 1, '서명': 1, '300달러': 1, '실업': 1, '입자': 1, '월세': 1, '행정부': 1, '높아졌다': 1, '받게': 1, '가속': 1, '곧장': 1, '되긴': 1, '관측': 1, '이어지지': 1, '않는다면': 1, '거란': 1, '205': 1, '불확실한': 1, '나선': 1, '적잖았다': 1, '보조': 1, '250만': 1, '중순': 1, '전주': 1, '회복할': 1, '봤다': 1, '허재': 1, '환': 1, '하겠다는': 1, '좋았기': 1, '학습': 1, '쓰일': 1, '없다기': 1, '올랐지만': 1, '그랬던': 1, '디즈니': 1, '파크': 1, '억눌린': 1, '욕구': 1, '성민': 1, '얻은': 1, '늘어나면': 1, '했거나': 1, '예금': 1, '호도': 1, '높아졌기': 1, '실업률': 1, '점진': 1, '낮아지는': 1, '하진': 1, '예측': 1, '좋아지면': 1, '불었던': 1, '12조원': 1, '509': 1, '875': 1, '956': 1, '1525': 1, '교촌': 1, '앤비': 1, '1318': 1, '323': 1, '대어': 1, '69조': 1, '7000억원': 1, '170': 1, '59': 1, '387': 1, '높았고': 1, '피사': 1, '05': 1, 'Mrke': 1, 'Senien': 1, 'Index': 1, 'MSIhnewsiscosockh': 1, '4시': 1, '8시': 1, '감성': 1, '점수': 1, '간의': 1, 'jey': 1, '동네': 1, '친한': 1, '동생': 1, '자연': 1, '스럽게': 1, '대화': 1, '넘어갔는데': 1, '이렇다는': 1, '엄청': 1, '자랑': 1, '있길래': 1, '물었습니다': 1, '났어': 1, '어처구니없게도': 1, '나는지': 1, '버는지': 1, '모르고': 1, '보였던': 1, '문고': 1, '서적': 1, '코너': 1, '한산한': 1, '분기': 1, '노리': 1, '돌린': 1, '많아졌다는': 1, '824억': 1, '311만달러': 1, '722억': 1, '1740만달러': 1, '101억': 1, '8571만달러': 1, '4996억원': 1, '열': 1, '1100원': 1, '밑': 1, '어치가량': 1, '노린': 1, '93억': 1, '5139만달러': 1, '10조': 1, '5623억원': 1, '9억': 1, '8591만달러': 1, '3분': 1, '토막': 1, '난': 1, '3억': 1, '126만달러': 1, '그쳤지만': 1, '7억': 1, '495만달러': 1, '797': 1, '4628만달러': 1, '522억원': 1, '다올해': 1, '저가': 1, '14억': 1, '1949만달러': 1, '8141만달러': 1, '팔란': 1, '4217만달러': 1, 'TSMC': 1, '3610만달러': 1, '4조원': 1, '요동치자': 1, '추격': 1, '나섰다는': 1, '고윤상': 1, '높아지는': 1, '맞더라도': 1, '선전': 1, '쏠리고': 1, '리더십': 1, 'Mondeez': 1, '오레오': 1, 'Oreo': 1, '과자': 1, '만드는': 1, '굳혔다는': 1, '갖춘': 1, '닥터페퍼': 1, '소프트': 1, '음료': 1, '커피': 1, 'Keuri': 1, 'Dr': 1, 'Peer': 1, '건축': 1, 'Hoe': 1, 'Deo': 1, 'LOWE': 1, '공구': 1, 'Sny': 1, 'Bck': 1, 'Decker': 1, '스포츠카': 1, 'Ferrri': 1, '하이브리드': 1, 'McDonds': 1, '장바구니': 1, '담겼다': 1, 'Eerson': 1, 'Griner': 1, '사이버': 1, 'CyberArk': 1, 'Sofwre': 1, '담았고': 1, 'Misubishi': 1, 'Ese': 1, 'Hier': 1, 'Mide': 1, 'Grou': 1, '지주사': 1, 'Kirin': 1, '젊은이': 1, '아랑곳': 1, '행렬': 1, '갈지': 1, '40560달러': 1, '넣겠다고': 1, '1170억': 1, '흘러': 1, '드는': 1, '끄는': 1, '팬데믹': 1, '고꾸라진': 1, '떠받치는데': 1, '했기': 1, 'JP': 1, '모건': 1, '1200달러': 1, '되자': 1, '125': 1, '연관': 1, '했다신': 1, '용평': 1, '가사': 1, '피치': 1, '가계': 1, '임금': 1, '벌충': 1, '하고도': 1, '남은': 1, '몰입': 1, '머물던': 1, '80': 1, '금융위기': 1, '2009년': 1, '57': 1, '되는데': 1, '4년': 1, '걸린': 1, '대조': 1, '찍어': 1, '3200달러': 1, '버블': 1, '가뜩이나': 1, '달아오르고': 1, '어떤': 1, '미칠지도': 1, '미의': 1, '사다새': 1, '공격': 1, '공약': 1, '맞추고': 1, '제조업': 1, '기후변화': 1, '탄소': 1, '배출': 1, '줄인다는': 1, '기반시설': 1, '광대역': 1, '고도': 1, '맞췄': 1, '다다른': 1, '진보': 1, '진영': 1, '부르는': 1, '칼리지': 1, '육아': 1, '절감': 1, '한다민': 1, '법인세': 1, '율과': 1, '재원': 1, '구상': 1, '의치': 1, '실정': 1, '압력': 1, '거세질': 1, '이동훈': 1, '고기': 1, '맞아': 1, '무신': 1, '대행': 1, '7일': 1, '홈트': 1, 'HTS': 1, '접속': 1, '수익금': 1, '공제': 1, '250만원': 1, '양도': 1, '과세': 1, '대상자': 1, '131일': 1, '까지다': 1, 'joo': 1, '한국판': 1, '2550': 1, '050': 1, '75': 1, '편입': 1, '설계': 1, 'SRI': 1, '강화할': 1, '강인': 1, '새롭게': 1, '탈바꿈': 1, '다지': 1, '사랑': 1, '받았던': 1, '탑재': 1, '찾아간다': 1, '이끌고': 1, '집약': 1, '되어': 1, '출원': 1, '2200': 1, '적정': 1, '줌': 1, '불안한': 1, '안전성': 1, '잡았다는': 1, '있다보다': 1, '편하고': 1, '안전한': 1, '편한': 1, '한경닷컴': 1, '여가': 1, '놀자가': 1, '중상': 1, 'du': 1, 'isin': 1, '소식통': 1, '40억': 1, '5180억원': 1, '결론': 1, '리지': 1, '선도': 1, '인정받을': 1, '열려있다': 1, '11월': 1, '관사': 1, '치는': 1, '5조원': 1, '됐으나': 1, '7조원': 1, '몸값': 1, '치솟고': 1, 'hun': 1, '누린': 1, '도박': 1, '19년': 1, '73': 1, '236': 1, '늘었고': 1, '223': 1, '8888': 1, '165': 1, '심지어': 1, '찾지': 1, '대도': 1, '이혼': 1, '귀책사유': 1, '여겨진다': 1, '과민해지는': 1, '배우자': 1, '가족': 1, '몰래': 1, '탕진': 1, '많다고': 1, 'CBS': 1, '노컷': 1, '나타나고': 1, '3500': 1, '9408억': 1, '외으로': 1, '3459억': 1, '4157': 1, '뛰어넘는': 1, '늘리고': 1, '635': 1, '1002': 1, '2097': 1, '커진': 1, '필요했기': 1, '한상훈': 1, '치중': 1, '이뤄지면': 1, '배당': 1, '757': 1, '308': 1, '전문성': 1, 'shoon': 1, '돌고': 1, '너': 1, '차레': 1, '주식매수선택권': 1, '착안': 1, '대중': 1, '유명하거나': 1, '작고': 1, '500억원': 1, '연매출': 1, '100억': 1, 'C': 1, '외부': 1, '매각': 1, '박지웅': 1, '벤처스': 1, '벤처캐피털': 1, '하고자': 1, '하나라': 1, '팔리거나': 1, '도울': 1, '12시': 1, '22962900원': 1, '상승한': 1, '5750원': 1, '특별한': 1, '이루어졌지만': 1, '당해': 1, '하량': 1, '없음': 1, 'No': 1, 'red': 1, '12만원': 1, '회복한': 1, '된다라며': 1, '착공': 1, '주도': 1, '택지': 1, 'PHC': 1, '건물': 1, '기초': 1, '시키기': 1, '시공': 1, '건설부': 1, '대림': 1, '롯데': 1, '지에스건설': 1, '대우건설': 1, '포항': 1, '내진': 1, '물의': 1, '안전': 1, '바뀌었으며': 1, '이로인해': 1, '되어오고': 1, '연상': 1, '가자': 1, '무슨': 1, '먹었다': 1, '뭔': 1, '주포': 1, '갔나': 1, 'KTV': 1, '리폿떴다': 1, '민규': 1, '인턴': 1, '대학신문': 1, '이원': 1, 'SSG': 1, '스타벅스': 1, '강희': 1, '정소연': 1, '22만': 1, '17만': 1, '스타벅스커피': 1, '전량': 1, '8944억': 1, '1029억': 1, '131': 1, '1124': 1, '기에도': 1, '밥': 1, '먹는': 1, '요가': 1, '율도': 1, '전문점': 1, '축소': 1, '레이더스': 1, '주도하면서': 1, '나갈': 1, '독보': 1, 'GMV': 1, '멤버십': 1, '통합': 1, '장보기': 1, '입점': 1, '9천억': 1, '2023년': 1, '고성': 1, '장할': 1, '중고': 1, '아이폰': 1, '뜰': 1, 'CSA': 1, '믹': 1, '요청': 1, '비씨': 1, '켐': 1, '2일': 1, '이투데이': 1, '속보': 1, 'RSS': 1, '재계': 1, '전자통신': 1, '항공': 1, '취업': 1, '법조': 1, '타고': 1, '이른바': 1, '이었습니다': 1, 'c': 1, '일리': 1, '굿': 1, '이중': 1, '붙은': 1, '받아들이고': 1, '방인': 1, '김기남': 1, '도현우': 1, '11만': 1, '8만': 1, '1800원': 1, '면서도': 1, '사와': 1, '256조': 1, '4130억': 1, '9600억': 1, '83': 1, '360': 1, '위틀리': 1, 'Whiey': 1, '나타낼': 1, '나노': 1, '늦어지고': 1, '양산': 1, '59조': 1, '2920억': 1, '8조': 1, '8250억': 1, '369': 1, '비수기': 1, '망치': 1, '오스틴': 1, '공장': 1, '가동': 1, '지는': 1, '플렉서블': 1, '곡면': 1, '지드': 1, '평면': 1, '레드': 1, 'OLED': 1, '1100만': 1, '이어져': 1, '견조': 1, '“中': 1, '20210324': 1, '中文': 1, 'Enish': 1, '日本語': 1, 'Ti': 1, 'ế': 1, 'n': 1, 'Vi': 1, 'ệ': 1, '장마': 1, '감': 1, 'KOSPI': 1, '299635': 1, '839028': 1, 'KOSDAQ': 1, '95382': 1, '751079': 1, 'USD': 1, '113350': 1, '3026': 1, 'CNY': 1, '17367': 1, '003002': 1, 'JPY': 1, '104359': 1, '151014': 1, '유로': 1, 'EUR': 1, '134042': 1, '29022': 1, '보도자료': 1, '아주': 1, '초반': 1, '2970': 1, '대까지': 1, '2990': 1, '낙폭': 1, '줄였다': 1, '1시': 1, '20분': 1, '896': 1, '030': 1, '229578': 1, '842': 1, '028': 1, '299632': 1, '출발': 1, '297104': 1, '6591억': 1, '4428억': 1, '2238억': 1, '혼': 1, '조세': 1, '나타내고': 1, '투톱': 1, '073': 1, '148': 1, '쓰지': 1, '파운드리': 1, '23조': 1, '200억': 1, '달러을': 1, '입지': 1, '좁아질': 1, 'NAVER': 1, '078': 1, '243': 1, '020': 1, '155': 1, 'SDI': 1, '128': 1, '274': 1, '696': 1, '074': 1, '95327': 1, '008': 1, '001': 1, '94623': 1, '성공했다': 1, '773억': 1, '832억': 1, '197억': 1, '연봉': 1, '신입': 1, '벌어지고': 1, '건지': 1, '정진욱': 1, '발목': 1, '잡힌': 1, 'KOTC': 1, '팍스': 1, '넷': 1, '으론': 1, '취임': 1, '차를': 1, '맞은': 1, '2만원': 1, '벗어나지': 1, '의지': 1, '오를지': 1, '된다구': 1, '사옥': 1, '하려': 1, '군': 1, '뭘': 1, '까': 1, '들어가도': 1, '될까': 1, '쿠키': 1, '로고': 1, '세종': 1, '1500원': 1, '326': 1, '251억': 1, '급격히': 1, '광고주': 1, '표적': 1, '효율': 1, '돕는': 1, '신한': 1, '비행': 1, '태': 1, '호텔': 1, 'AddressbeTV': 1, '개화': 1, '통신사': 1, '움직': 1, 'IPTV': 1, '시청자': 1, '이력': 1, '송출할': 1, '유플러스': 1, '열리면': 1, '단가': 1, '커진다': 1, '359억': 1, '12억': 1, '238': 1, '박세영': 1, '장부': 1, '매수세와': 1, '지나기도': 1, '40조원': 1, '105조원': 1, '관점': 1, '봐도': 1, '대단한': 1, '32조원': 1, '내외': 1, '따라서': 1, '엄청난': 1, '쏟아져': 1, '들어왔다고': 1, '그런데': 1, '커지자': 1, '아쉬움': 1, '있으면': 1, '억압': 1, '많아진': 1, '전하': 1, '담당자': 1, '가져갈': 1, '여지': 1, '넓혀': 1, '키우고': 1, '그렇다면': 1, '기조': 1, '반감': 1, '시맨틱스': 1, '첫날': 1, '한가': 1, '돕기': 1, '변주': 1, '우호': 1, '보세': 1, '전액': 1, '백두산': 1, '공략': 1, '붙을': 1, '라이브': 1, '커머스': 1, '마케팅': 1, '바이어': 1, '접점': 1, '늘릴': 1, '약속': 1, '영규': 1, '높아졌습니다': 1, '건데': 1, '나옵니': 1, '다방': 1, '서후': 1, '한미': 1, 'TES': 1, '잇': 1, '적어도': 1, '중론': 1, '240810': 1, '200원': 1, '4640억원': 1, '5200원': 1, '찍으면서': 1, '2조원': 1, '005930': 1, '000660': 1, '플라즈마': 1, 'PE': 1, '공급': 1, '웨이퍼': 1, '원판': 1, '필요한': 1, '막': 1, '균일하게': 1, '입히는': 1, '909억원': 1, '올리면서': 1, '3452억원': 1, '올리며': 1, '8000원': 1, '084370': 1, '했으며': 1, '시가': 1, '종액': 1, '9350억원': 1, '가에서는': 1, '머': 1, '넘어설': 1, '저압': 1, 'LP': 1, '2026억원': 1, '823': 1, '3692억원': 1, '2000원': 1, '4550원': 1, '6830억원': 1, '3650원': 1, '찍으며': 1, '2460억원': 1, '3336억원': 1, '6000원': 1, '김지': 1, '업황': 1, '회복하고': 1, '설비': 1, '수주': 1, '돌아섰다': 1, '장지수': 1, '347억원': 1, '279억원': 1, '69억원': 1, '이로써': 1, '597억원': 1, '450억원': 1, '147억원': 1, '80조': 1, '4169억원': 1, '666억원': 1, '더한': 1, '95조': 1, '2983억원': 1, '2699억원': 1, '126조': 1, '6330억원': 1, '697억원': 1, '127조': 1, '621억원': 1, '1107억원': 1, 'MMF': 1, '3965억원': 1, '2797억원': 1, '9171억원': 1, '2805억원': 1, '베스트': 1, '쿨': 1, 'FM': 1, '정은지': 1, '게스트': 1, '청취': 1, '하는게': 1, '낫냐는': 1, '보냈다': 1, '염': 1, '사서': 1, '내일': 1, '려고': 1, '잡아': 1, '드린다고': 1, '잡': 1, '검증': 1, '영원히': 1, '주린이가': 1, '싶은': 1, '최': 1, 'TOP': 1, '77': 1})\n"
     ]
    },
    {
     "data": {
      "text/plain": [
       "[('주식', 356),\n",
       " ('투자', 251),\n",
       " ('거래', 117),\n",
       " ('증권', 98),\n",
       " ('시장', 88),\n",
       " ('투자자', 80),\n",
       " ('고', 76),\n",
       " ('기업', 75),\n",
       " ('원', 74),\n",
       " ('대한', 67),\n",
       " ('대', 66),\n",
       " ('계좌', 61),\n",
       " ('미국', 58),\n",
       " ('서비스', 57),\n",
       " ('최근', 56),\n",
       " ('증가', 56),\n",
       " ('자산', 55),\n",
       " ('명', 55),\n",
       " ('금융', 55),\n",
       " ('경제', 53)]"
      ]
     },
     "execution_count": 30,
     "metadata": {},
     "output_type": "execute_result"
    }
   ],
   "source": [
    "stop_words = ['을', '한', '중', '일부', '는', '이제',  '을', '팔', '수', '있다', '은', '지난', \n",
    "'시간', '부터','일부',  '의',  '이', '충족','됐다고','밝혔다', '후','6', '번째',\n",
    " '일', '만에', '을', '팔', '수','있게', '된', '것', '이다', '이번', '에', '을', '팔', '수', '있는', '건',\n",
    " '이나',  '전',  '가', '아닌','이다',  '는', '기존',  '에게',  '돼야', '하는',\n",
    "  '적', '인',  '동안', '의', '을',  '로',  '했다며', '은', '이번', \n",
    "  '이', '아니다라고', '했다','직후', '엔','때문', '에','은',\n",
    "'을',  '할', '수', '없다', '는', '나', '등', '내','가',\n",
    " '후',  '을', '팔', '수', '없게', '한', '것', '이다', '및',\n",
    " '간', '에',  '된', '에', '따르면', '“', '”',\n",
    " '기준', '으로',  '에',  '하던', '중',  '에', '중인',  '이',  '까지',\n",
    " '하고', '있던','은',  '이',  '되고', '도', '할', '수', '있다', '한편', \n",
    " '시간', '는',  '약', '에',  '했다', '전날', '보다', '오른', '수치', '다', \n",
    " '는',  '이후', '줄곧', '떨어졌다',  '첫', '날','가',  '의', '두', '배', '인', '까지', '오르', '기도', '했으나',\n",
    " '이후', '가', '계속', '떨어져', '17일', '엔',  '로',  '했다', '인',  '의', \n",
    " '는', '약',  '이','됐다',  '은',  '를', '갖고', '있다', \n",
    " '가치', '로만', '보면',  '에', '이', '은', '2',  '다', '은', '인', \n",
    " '대비',  '을', '가진',  '을', '하고', '있다', '해당', '가치', '는', '의',\n",
    " '약', '10', '다', '◎', '공감', '언론', '뉴시스', 'jb', '\\n', '그러나', '이', '것', '만으로는', '부족하다고', '느낀', \n",
    " '들', '이', '있었으니', '바로', '을', '노리는', '이', '들', '이다',\n",
    " '이란', '말', '그대로', '이나', '에', '되지', '않은', '으로',  '’', '이라고도',\n",
    " '한다', '가', '운영', '하는', '’', '를', '비롯', '해', \n",
    " '’',  '’',  '’', '등', '에서', \n",
    " '된다', '은',  '처럼',  '에', '을',\n",
    " '올려', '사고팔', '수', '있다', '장이', '나', '은',  '된','를',\n",
    " '통한',  '’', '를', '내세워',  '를', '해준다', '일러스트', '이', '철원', '요즘', '은',\n",
    " '’', '’', '를', '꿈꾸는', '이', '들', '로', '붐빈다', '지난해', '부터', '이어진', \n",
    " '로', '’', '이','되는',  '의',  '을',  '에', '미리',  '하기',\n",
    " '위함', '이다', '이런', '와', '함께',  '·',  '·',\n",
    " '비롯', '한','·', '과', '같은',  '·',\n",
    " '의',  '이',  '되면서', '더욱',  '하고', '있다', '이', '중',   '의',\n",
    " '은', '이다', '다만',  '만', '사면','만사', '오케이', '’', '라는',\n",
    " '태도', '는', '지', '양해', '야', '한다',  '의',  '이', '100',  '이후', '주가', '로', '이어지는',\n",
    " '것', '은', '아니기', '때문', '이다',  '마지막', '는', '직전', '까지',  '30만원', '대에','됐지만',\n",
    "'이후',  '대에', '머물고', '있다', '한','는', '은',  '보다',  '의',  '과',\n",
    "'에서',  '에게', '불리할', '수', '밖에', '없다고', '말', '했다', '현재', '나', \n",
    "  '은','중', '가', '높은',  '를', \n",
    " '하고', '있다', '그러나', '애초', '에',  '은', '이', '아닐', '뿐더러', '에', \n",
    " '된',  '있는', '도', '적기', '때문', '에',  '’', '가', '될', '가능성', '이', '높다', '당연히', \n",
    "'이나',  '를', '정확히', '파악', '하기도', '어렵다', '몇', '가', '의',\n",
    " '를', '발간', '하고', '있지만', '이', '마저도', '소수', '에', '그', '치고', '있다', '또', '에',  '되는',  '자체', '가', '적기',\n",
    " '때문', '에',  '가',  '보다', '이뤄지기', '어려울', '수', '있다', '이', '관계자', '는',  '이', '없어서','내내', '못', '사고',\n",
    " '못', '파는', '경우', '도', '허다하다고', '말', '했다', '각',  '들', '이', '를', '내세우는', '이유', '도', '이', '때문',\n",
    " '이다',  '에서는', '지금',  '에', '여력', '이', '남아돌아','까지', '떠오르고', '있다고', '보고', '있다', '즉', '에', '자금', '이',\n",
    " '줄어들면',  '에', '되는', '이용자', '와', '자금', '도', '줄어들어', '유동성', '이', '더', '적어질', '수', '있다는', '얘기', '다',\n",
    "  '에서', '바보', '가', '되지', '않으려면', '내', '을', '꼭', '따져', '봐야', '한다', \n",
    " '을', '사려', '면',  '에', '된','과',  '을','하', '라는', '것', '이다', '들', '사이',\n",
    " '에서는', '에서',  '이', '이미', '들', '의','을', '뛰어넘어','많이','이상'\n",
    " '에', '이른다는',  '이', '나오고', '있다', '아울러',  '는',  '있는',  '의', '를','입니다','했습니다',\n",
    " '확인','하고', '를', '100', '믿기', '보다는',  '에게', '확인', '해야', '한다고도', '조언', '했다', '무엇', '보다', '모든',\n",
    "  '이', '나중', '에', '효자', '’', '가', '될', '것', '이라는', '맹목', '적', '인', '믿음', '은',\n",
    " '금물', '이다', '생소한', '은', '사기', '의', '온', '상일', '수도', '있다', '한',  '는','김민정','따라','바로가기','위해','이라고','뉴스']\n",
    "\n",
    "tokens_ko = [each_word for each_word in tokens_ko \n",
    "                          if each_word not in stop_words]\n",
    "from collections import Counter\n",
    "print(Counter(tokens_ko))\n",
    "ko = nltk.Text(tokens_ko, name='주식')\n",
    "ko.vocab().most_common(20)"
   ]
  },
  {
   "cell_type": "code",
   "execution_count": 31,
   "metadata": {},
   "outputs": [
    {
     "name": "stdout",
     "output_type": "stream",
     "text": [
      "[('주식', 356), ('투자', 251), ('거래', 117), ('증권', 98), ('시장', 88), ('투자자', 80), ('고', 76), ('기업', 75), ('원', 74), ('대한', 67), ('대', 66), ('계좌', 61), ('미국', 58), ('서비스', 57), ('최근', 56), ('증가', 56), ('자산', 55), ('명', 55), ('금융', 55), ('경제', 53), ('올해', 50), ('1', 50), ('국내', 49), ('펀드', 49), ('이상', 48), ('자', 47), ('관심', 47), ('매수', 46), ('종목', 46), ('개', 45), ('주', 44), ('중국', 44), ('해외', 44), ('관련', 44), ('한국', 44), ('정보', 43), ('돈', 42), ('순', 40), ('년', 39), ('23일', 38), ('달', 37), ('금액', 37), ('생각', 37), ('위', 36), ('전망', 36), ('수익률', 36), ('상승', 35), ('기', 35), ('개인', 35), ('코로나', 35), ('19', 35), ('전체', 35), ('직장인', 35), ('성', 34), ('장', 34), ('증시', 34), ('가장', 33), ('20', 32), ('운용', 32), ('금리', 32), ('점', 31), ('분석', 31), ('수익', 31), ('매출', 31), ('글로벌', 30), ('업체', 30), ('이익', 30), ('상장', 30), ('때', 29), ('응답', 29), ('결과', 28), ('게임', 28), ('규모', 28), ('영업', 28), ('채권', 27), ('형', 27), ('개미', 27), ('비중', 26), ('매도', 26), ('<', 26), ('활동', 26), ('통해', 26), ('기록', 26), ('전환', 26), ('상환', 26), ('3', 25), ('상황', 25), ('신', 25), ('제', 25), ('예상', 25), ('가격', 25), ('기사', 24), ('부동산', 24), ('기술', 24), ('22일', 24), ('정부', 23), ('이어', 23), ('큰', 23), ('세', 23), ('에는', 23)]\n"
     ]
    },
    {
     "data": {
      "image/png": "[encoded data removed]",
      "text/plain": [
       "<Figure size 1440x1152 with 1 Axes>"
      ]
     },
     "metadata": {
      "needs_background": "light"
     },
     "output_type": "display_data"
    }
   ],
   "source": [
    "from PIL import Image\n",
    "\n",
    "import matplotlib.pyplot as plt\n",
    "from wordcloud import WordCloud\n",
    "import numpy as np\n",
    "from PIL import Image\n",
    "import matplotlib\n",
    "\n",
    "matplotlib.rcParams['font.family'] = \"Maulgun Gothic\"\n",
    "font_path = \"c:/Windows/Fonts/malgun.ttf\"\n",
    "\n",
    "# denne_mask = np.array(Image.open('cloud.png'))\n",
    "custom_mask = np.array (Image.open ( \"image.png\")) \n",
    "wc = WordCloud(font_path=font_path,mask=custom_mask, background_color=\"white\", width=800, height=600)\n",
    "data = ko.vocab().most_common(100)\n",
    "print(data)\n",
    "cloud = wc.generate_from_frequencies(dict(data))\n",
    "plt.figure(figsize = (20, 16))\n",
    "plt.axis('off')\n",
    "plt.imshow(cloud)\n",
    "plt.savefig('./files/newswordcloud.png')"
   ]
  },
  {
   "cell_type": "code",
   "execution_count": null,
   "metadata": {},
   "outputs": [],
   "source": []
  },
  {
   "cell_type": "code",
   "execution_count": null,
   "metadata": {},
   "outputs": [],
   "source": []
  },
  {
   "cell_type": "code",
   "execution_count": null,
   "metadata": {},
   "outputs": [],
   "source": []
  },
  {
   "cell_type": "code",
   "execution_count": null,
   "metadata": {},
   "outputs": [],
   "source": []
  }
 ],
 "metadata": {
  "kernelspec": {
   "display_name": "Python 3",
   "language": "python",
   "name": "python3"
  },
  "language_info": {
   "codemirror_mode": {
    "name": "ipython",
    "version": 3
   },
   "file_extension": ".py",
   "mimetype": "text/x-python",
   "name": "python",
   "nbconvert_exporter": "python",
   "pygments_lexer": "ipython3",
   "version": "3.8.5"
  }
 },
 "nbformat": 4,
 "nbformat_minor": 4
}
